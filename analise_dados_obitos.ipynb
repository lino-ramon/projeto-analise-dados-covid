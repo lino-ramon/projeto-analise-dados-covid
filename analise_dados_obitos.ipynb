{
 "cells": [
  {
   "cell_type": "code",
   "execution_count": 263,
   "metadata": {},
   "outputs": [],
   "source": [
    "import pandas as pd\n",
    "import altair as alt"
   ]
  },
  {
   "cell_type": "code",
   "execution_count": 264,
   "metadata": {},
   "outputs": [
    {
     "name": "stderr",
     "output_type": "stream",
     "text": [
      "C:\\Users\\perei\\AppData\\Local\\Programs\\Python\\Python39\\lib\\site-packages\\IPython\\core\\interactiveshell.py:3441: FutureWarning: The error_bad_lines argument has been deprecated and will be removed in a future version.\n",
      "\n",
      "\n",
      "  exec(code_obj, self.user_global_ns, self.user_ns)\n"
     ]
    }
   ],
   "source": [
    "dados_federais_campina = pd.read_csv(\"data\\\\dados_federais_obitos_cg.csv\", encoding='utf-8', error_bad_lines=False)\n",
    "dados_painelfederal_campina = pd.read_csv(\"data\\\\dados_painel-federal_obitos_cg.csv\", encoding='UTF-8', error_bad_lines=False)\n",
    "dados_municipais_campina = pd.read_csv(\"data\\\\dados_municipais_cg.csv\", encoding='utf-8', index_col='data')"
   ]
  },
  {
   "cell_type": "markdown",
   "metadata": {},
   "source": [
    "# Gerando dados sobre o Numero de Obitos por Dia (Painel Federal)"
   ]
  },
  {
   "cell_type": "code",
   "execution_count": 265,
   "metadata": {},
   "outputs": [],
   "source": [
    "# Criando um data com a coluna 'data' e a coluna 'obitosNovos'\n",
    "pf_obitosPorDia = dados_painelfederal_campina[['obitosNovos', 'data']]"
   ]
  },
  {
   "cell_type": "code",
   "execution_count": 266,
   "metadata": {},
   "outputs": [],
   "source": [
    "# Criando um DataFrame com os dados para o altair\n",
    "pf_obitosPorDia = pd.DataFrame({\n",
    "    'data': pf_obitosPorDia['data'].tolist(),\n",
    "    'obitos_confirmados': pf_obitosPorDia['obitosNovos'].tolist()\n",
    "})\n",
    "# Criando uma nova coluna no DataFrame referente a média movel.\n",
    "pf_obitosPorDia['media_movel'] = pf_obitosPorDia.obitos_confirmados.rolling(7).mean()"
   ]
  },
  {
   "cell_type": "code",
   "execution_count": 267,
   "metadata": {},
   "outputs": [
    {
     "data": {
      "text/html": [
       "\n",
       "<div id=\"altair-viz-f31fdcb9bd57442badaba1fe719cb884\"></div>\n",
       "<script type=\"text/javascript\">\n",
       "  (function(spec, embedOpt){\n",
       "    let outputDiv = document.currentScript.previousElementSibling;\n",
       "    if (outputDiv.id !== \"altair-viz-f31fdcb9bd57442badaba1fe719cb884\") {\n",
       "      outputDiv = document.getElementById(\"altair-viz-f31fdcb9bd57442badaba1fe719cb884\");\n",
       "    }\n",
       "    const paths = {\n",
       "      \"vega\": \"https://cdn.jsdelivr.net/npm//vega@5?noext\",\n",
       "      \"vega-lib\": \"https://cdn.jsdelivr.net/npm//vega-lib?noext\",\n",
       "      \"vega-lite\": \"https://cdn.jsdelivr.net/npm//vega-lite@4.8.1?noext\",\n",
       "      \"vega-embed\": \"https://cdn.jsdelivr.net/npm//vega-embed@6?noext\",\n",
       "    };\n",
       "\n",
       "    function loadScript(lib) {\n",
       "      return new Promise(function(resolve, reject) {\n",
       "        var s = document.createElement('script');\n",
       "        s.src = paths[lib];\n",
       "        s.async = true;\n",
       "        s.onload = () => resolve(paths[lib]);\n",
       "        s.onerror = () => reject(`Error loading script: ${paths[lib]}`);\n",
       "        document.getElementsByTagName(\"head\")[0].appendChild(s);\n",
       "      });\n",
       "    }\n",
       "\n",
       "    function showError(err) {\n",
       "      outputDiv.innerHTML = `<div class=\"error\" style=\"color:red;\">${err}</div>`;\n",
       "      throw err;\n",
       "    }\n",
       "\n",
       "    function displayChart(vegaEmbed) {\n",
       "      vegaEmbed(outputDiv, spec, embedOpt)\n",
       "        .catch(err => showError(`Javascript Error: ${err.message}<br>This usually means there's a typo in your chart specification. See the javascript console for the full traceback.`));\n",
       "    }\n",
       "\n",
       "    if(typeof define === \"function\" && define.amd) {\n",
       "      requirejs.config({paths});\n",
       "      require([\"vega-embed\"], displayChart, err => showError(`Error loading script: ${err.message}`));\n",
       "    } else if (typeof vegaEmbed === \"function\") {\n",
       "      displayChart(vegaEmbed);\n",
       "    } else {\n",
       "      loadScript(\"vega\")\n",
       "        .then(() => loadScript(\"vega-lite\"))\n",
       "        .then(() => loadScript(\"vega-embed\"))\n",
       "        .catch(showError)\n",
       "        .then(() => displayChart(vegaEmbed));\n",
       "    }\n",
       "  })({\"config\": {\"view\": {\"continuousWidth\": 400, \"continuousHeight\": 300}}, \"data\": {\"name\": \"data-663376b4f0b5fa365fcd58d2514a196e\"}, \"mark\": \"line\", \"encoding\": {\"color\": {\"value\": \"dodgerblue\"}, \"x\": {\"type\": \"temporal\", \"field\": \"data\", \"title\": \"Data\"}, \"y\": {\"type\": \"quantitative\", \"field\": \"obitos_confirmados\", \"title\": \"Obitos Confirmados\"}}, \"title\": \"Obitos Confirmados por Dia (Painel Federal)\", \"width\": 800, \"$schema\": \"https://vega.github.io/schema/vega-lite/v4.8.1.json\", \"datasets\": {\"data-663376b4f0b5fa365fcd58d2514a196e\": [{\"data\": \"2021-06-01\", \"obitos_confirmados\": 4, \"media_movel\": null}, {\"data\": \"2021-06-02\", \"obitos_confirmados\": 5, \"media_movel\": null}, {\"data\": \"2021-06-03\", \"obitos_confirmados\": 3, \"media_movel\": null}, {\"data\": \"2021-06-04\", \"obitos_confirmados\": 3, \"media_movel\": null}, {\"data\": \"2021-06-05\", \"obitos_confirmados\": 7, \"media_movel\": null}, {\"data\": \"2021-06-06\", \"obitos_confirmados\": 6, \"media_movel\": null}, {\"data\": \"2021-06-07\", \"obitos_confirmados\": 2, \"media_movel\": 4.285714285714286}, {\"data\": \"2021-06-08\", \"obitos_confirmados\": 1, \"media_movel\": 3.857142857142857}, {\"data\": \"2021-06-09\", \"obitos_confirmados\": 5, \"media_movel\": 3.857142857142857}, {\"data\": \"2021-06-10\", \"obitos_confirmados\": 8, \"media_movel\": 4.571428571428571}, {\"data\": \"2021-06-11\", \"obitos_confirmados\": 7, \"media_movel\": 5.142857142857143}, {\"data\": \"2021-06-12\", \"obitos_confirmados\": 5, \"media_movel\": 4.857142857142857}, {\"data\": \"2021-06-13\", \"obitos_confirmados\": 6, \"media_movel\": 4.857142857142857}, {\"data\": \"2021-06-14\", \"obitos_confirmados\": 10, \"media_movel\": 6.0}, {\"data\": \"2021-06-15\", \"obitos_confirmados\": 2, \"media_movel\": 6.142857142857143}, {\"data\": \"2021-06-16\", \"obitos_confirmados\": 3, \"media_movel\": 5.857142857142857}, {\"data\": \"2021-06-17\", \"obitos_confirmados\": 3, \"media_movel\": 5.142857142857143}, {\"data\": \"2021-06-18\", \"obitos_confirmados\": 4, \"media_movel\": 4.714285714285714}, {\"data\": \"2021-06-19\", \"obitos_confirmados\": 2, \"media_movel\": 4.285714285714286}, {\"data\": \"2021-06-20\", \"obitos_confirmados\": 6, \"media_movel\": 4.285714285714286}, {\"data\": \"2021-06-21\", \"obitos_confirmados\": 3, \"media_movel\": 3.2857142857142856}, {\"data\": \"2021-06-22\", \"obitos_confirmados\": 3, \"media_movel\": 3.4285714285714284}, {\"data\": \"2021-06-23\", \"obitos_confirmados\": 1, \"media_movel\": 3.142857142857143}, {\"data\": \"2021-06-24\", \"obitos_confirmados\": 3, \"media_movel\": 3.142857142857143}, {\"data\": \"2021-06-25\", \"obitos_confirmados\": 3, \"media_movel\": 3.0}, {\"data\": \"2021-06-26\", \"obitos_confirmados\": 2, \"media_movel\": 3.0}, {\"data\": \"2021-06-27\", \"obitos_confirmados\": 3, \"media_movel\": 2.5714285714285716}, {\"data\": \"2021-06-28\", \"obitos_confirmados\": 1, \"media_movel\": 2.2857142857142856}, {\"data\": \"2021-06-29\", \"obitos_confirmados\": 4, \"media_movel\": 2.4285714285714284}, {\"data\": \"2021-06-30\", \"obitos_confirmados\": 1, \"media_movel\": 2.4285714285714284}, {\"data\": \"2021-07-01\", \"obitos_confirmados\": 2, \"media_movel\": 2.2857142857142856}, {\"data\": \"2021-07-02\", \"obitos_confirmados\": 4, \"media_movel\": 2.4285714285714284}, {\"data\": \"2021-07-03\", \"obitos_confirmados\": 3, \"media_movel\": 2.5714285714285716}, {\"data\": \"2021-07-04\", \"obitos_confirmados\": 2, \"media_movel\": 2.4285714285714284}, {\"data\": \"2021-07-05\", \"obitos_confirmados\": -1, \"media_movel\": 2.142857142857143}, {\"data\": \"2021-07-06\", \"obitos_confirmados\": 4, \"media_movel\": 2.142857142857143}, {\"data\": \"2021-07-07\", \"obitos_confirmados\": 5, \"media_movel\": 2.7142857142857144}, {\"data\": \"2021-07-08\", \"obitos_confirmados\": 2, \"media_movel\": 2.7142857142857144}, {\"data\": \"2021-07-09\", \"obitos_confirmados\": 2, \"media_movel\": 2.4285714285714284}, {\"data\": \"2021-07-10\", \"obitos_confirmados\": 2, \"media_movel\": 2.2857142857142856}, {\"data\": \"2021-07-11\", \"obitos_confirmados\": 1, \"media_movel\": 2.142857142857143}, {\"data\": \"2021-07-12\", \"obitos_confirmados\": 0, \"media_movel\": 2.2857142857142856}, {\"data\": \"2021-07-13\", \"obitos_confirmados\": 0, \"media_movel\": 1.7142857142857142}, {\"data\": \"2021-07-14\", \"obitos_confirmados\": 3, \"media_movel\": 1.4285714285714286}, {\"data\": \"2021-07-15\", \"obitos_confirmados\": 2, \"media_movel\": 1.4285714285714286}, {\"data\": \"2021-07-16\", \"obitos_confirmados\": 1, \"media_movel\": 1.2857142857142858}, {\"data\": \"2021-07-17\", \"obitos_confirmados\": 1, \"media_movel\": 1.1428571428571428}, {\"data\": \"2021-07-18\", \"obitos_confirmados\": 0, \"media_movel\": 1.0}, {\"data\": \"2021-07-19\", \"obitos_confirmados\": 2, \"media_movel\": 1.2857142857142858}, {\"data\": \"2021-07-20\", \"obitos_confirmados\": 1, \"media_movel\": 1.4285714285714286}, {\"data\": \"2021-07-21\", \"obitos_confirmados\": -1, \"media_movel\": 0.8571428571428571}, {\"data\": \"2021-07-22\", \"obitos_confirmados\": 2, \"media_movel\": 0.8571428571428571}, {\"data\": \"2021-07-23\", \"obitos_confirmados\": 2, \"media_movel\": 1.0}, {\"data\": \"2021-07-24\", \"obitos_confirmados\": 3, \"media_movel\": 1.2857142857142858}, {\"data\": \"2021-07-25\", \"obitos_confirmados\": 3, \"media_movel\": 1.7142857142857142}, {\"data\": \"2021-07-26\", \"obitos_confirmados\": 0, \"media_movel\": 1.4285714285714286}, {\"data\": \"2021-07-27\", \"obitos_confirmados\": 1, \"media_movel\": 1.4285714285714286}, {\"data\": \"2021-07-28\", \"obitos_confirmados\": 3, \"media_movel\": 2.0}, {\"data\": \"2021-07-29\", \"obitos_confirmados\": 1, \"media_movel\": 1.8571428571428572}, {\"data\": \"2021-07-30\", \"obitos_confirmados\": 0, \"media_movel\": 1.5714285714285714}, {\"data\": \"2021-07-31\", \"obitos_confirmados\": 1, \"media_movel\": 1.2857142857142858}, {\"data\": \"2021-08-01\", \"obitos_confirmados\": 0, \"media_movel\": 0.8571428571428571}, {\"data\": \"2021-08-02\", \"obitos_confirmados\": 0, \"media_movel\": 0.8571428571428571}, {\"data\": \"2021-08-03\", \"obitos_confirmados\": 0, \"media_movel\": 0.7142857142857143}, {\"data\": \"2021-08-04\", \"obitos_confirmados\": 3, \"media_movel\": 0.7142857142857143}, {\"data\": \"2021-08-05\", \"obitos_confirmados\": 1, \"media_movel\": 0.7142857142857143}, {\"data\": \"2021-08-06\", \"obitos_confirmados\": 3, \"media_movel\": 1.1428571428571428}, {\"data\": \"2021-08-07\", \"obitos_confirmados\": 2, \"media_movel\": 1.2857142857142858}, {\"data\": \"2021-08-08\", \"obitos_confirmados\": 0, \"media_movel\": 1.2857142857142858}, {\"data\": \"2021-08-09\", \"obitos_confirmados\": 0, \"media_movel\": 1.2857142857142858}, {\"data\": \"2021-08-10\", \"obitos_confirmados\": 1, \"media_movel\": 1.4285714285714286}, {\"data\": \"2021-08-11\", \"obitos_confirmados\": 2, \"media_movel\": 1.2857142857142858}, {\"data\": \"2021-08-12\", \"obitos_confirmados\": 1, \"media_movel\": 1.2857142857142858}, {\"data\": \"2021-08-13\", \"obitos_confirmados\": 0, \"media_movel\": 0.8571428571428571}, {\"data\": \"2021-08-14\", \"obitos_confirmados\": 0, \"media_movel\": 0.5714285714285714}, {\"data\": \"2021-08-15\", \"obitos_confirmados\": 1, \"media_movel\": 0.7142857142857143}, {\"data\": \"2021-08-16\", \"obitos_confirmados\": 2, \"media_movel\": 1.0}, {\"data\": \"2021-08-17\", \"obitos_confirmados\": 4, \"media_movel\": 1.4285714285714286}, {\"data\": \"2021-08-18\", \"obitos_confirmados\": 0, \"media_movel\": 1.1428571428571428}, {\"data\": \"2021-08-19\", \"obitos_confirmados\": 1, \"media_movel\": 1.1428571428571428}, {\"data\": \"2021-08-20\", \"obitos_confirmados\": 0, \"media_movel\": 1.1428571428571428}, {\"data\": \"2021-08-21\", \"obitos_confirmados\": 4, \"media_movel\": 1.7142857142857142}, {\"data\": \"2021-08-22\", \"obitos_confirmados\": 0, \"media_movel\": 1.5714285714285714}, {\"data\": \"2021-08-23\", \"obitos_confirmados\": 1, \"media_movel\": 1.4285714285714286}, {\"data\": \"2021-08-24\", \"obitos_confirmados\": 0, \"media_movel\": 0.8571428571428571}, {\"data\": \"2021-08-25\", \"obitos_confirmados\": 0, \"media_movel\": 0.8571428571428571}, {\"data\": \"2021-08-26\", \"obitos_confirmados\": 1, \"media_movel\": 0.8571428571428571}, {\"data\": \"2021-08-27\", \"obitos_confirmados\": 1, \"media_movel\": 1.0}, {\"data\": \"2021-08-28\", \"obitos_confirmados\": 1, \"media_movel\": 0.5714285714285714}, {\"data\": \"2021-08-29\", \"obitos_confirmados\": 0, \"media_movel\": 0.5714285714285714}, {\"data\": \"2021-08-30\", \"obitos_confirmados\": 0, \"media_movel\": 0.42857142857142855}, {\"data\": \"2021-08-31\", \"obitos_confirmados\": 1, \"media_movel\": 0.5714285714285714}]}}, {\"mode\": \"vega-lite\"});\n",
       "</script>"
      ],
      "text/plain": [
       "alt.Chart(...)"
      ]
     },
     "execution_count": 267,
     "metadata": {},
     "output_type": "execute_result"
    }
   ],
   "source": [
    "# Gerando o Gráfico de Obitos por Dia com os dados do Painel Federais\n",
    "graph_pf_obitosPorDia = alt.Chart(pf_obitosPorDia).mark_line().encode(\n",
    "    alt.X('data:T', title='Data'),\n",
    "    alt.Y('obitos_confirmados:Q', title='Obitos Confirmados'),\n",
    "    color=alt.value('dodgerblue')\n",
    ").properties(\n",
    "    width=800,\n",
    "    title='Obitos Confirmados por Dia (Painel Federal)'\n",
    ")\n",
    "\n",
    "graph_pf_obitosPorDia"
   ]
  },
  {
   "cell_type": "code",
   "execution_count": 268,
   "metadata": {},
   "outputs": [],
   "source": [
    "# Gerando o grafico de média movel\n",
    "graph_pf_obitosMedMovel = alt.Chart(pf_obitosPorDia).mark_line(\n",
    "    point=True\n",
    ").encode(\n",
    "    alt.X('data:T', title='Data'),\n",
    "    alt.Y('media_movel:Q', title='Obitos Confirmados'),\n",
    "    color=alt.value('orange')\n",
    ")"
   ]
  },
  {
   "cell_type": "code",
   "execution_count": 269,
   "metadata": {},
   "outputs": [
    {
     "data": {
      "text/html": [
       "\n",
       "<div id=\"altair-viz-5fe8adc066904493b49d2b79cf20ad39\"></div>\n",
       "<script type=\"text/javascript\">\n",
       "  (function(spec, embedOpt){\n",
       "    let outputDiv = document.currentScript.previousElementSibling;\n",
       "    if (outputDiv.id !== \"altair-viz-5fe8adc066904493b49d2b79cf20ad39\") {\n",
       "      outputDiv = document.getElementById(\"altair-viz-5fe8adc066904493b49d2b79cf20ad39\");\n",
       "    }\n",
       "    const paths = {\n",
       "      \"vega\": \"https://cdn.jsdelivr.net/npm//vega@5?noext\",\n",
       "      \"vega-lib\": \"https://cdn.jsdelivr.net/npm//vega-lib?noext\",\n",
       "      \"vega-lite\": \"https://cdn.jsdelivr.net/npm//vega-lite@4.8.1?noext\",\n",
       "      \"vega-embed\": \"https://cdn.jsdelivr.net/npm//vega-embed@6?noext\",\n",
       "    };\n",
       "\n",
       "    function loadScript(lib) {\n",
       "      return new Promise(function(resolve, reject) {\n",
       "        var s = document.createElement('script');\n",
       "        s.src = paths[lib];\n",
       "        s.async = true;\n",
       "        s.onload = () => resolve(paths[lib]);\n",
       "        s.onerror = () => reject(`Error loading script: ${paths[lib]}`);\n",
       "        document.getElementsByTagName(\"head\")[0].appendChild(s);\n",
       "      });\n",
       "    }\n",
       "\n",
       "    function showError(err) {\n",
       "      outputDiv.innerHTML = `<div class=\"error\" style=\"color:red;\">${err}</div>`;\n",
       "      throw err;\n",
       "    }\n",
       "\n",
       "    function displayChart(vegaEmbed) {\n",
       "      vegaEmbed(outputDiv, spec, embedOpt)\n",
       "        .catch(err => showError(`Javascript Error: ${err.message}<br>This usually means there's a typo in your chart specification. See the javascript console for the full traceback.`));\n",
       "    }\n",
       "\n",
       "    if(typeof define === \"function\" && define.amd) {\n",
       "      requirejs.config({paths});\n",
       "      require([\"vega-embed\"], displayChart, err => showError(`Error loading script: ${err.message}`));\n",
       "    } else if (typeof vegaEmbed === \"function\") {\n",
       "      displayChart(vegaEmbed);\n",
       "    } else {\n",
       "      loadScript(\"vega\")\n",
       "        .then(() => loadScript(\"vega-lite\"))\n",
       "        .then(() => loadScript(\"vega-embed\"))\n",
       "        .catch(showError)\n",
       "        .then(() => displayChart(vegaEmbed));\n",
       "    }\n",
       "  })({\"config\": {\"view\": {\"continuousWidth\": 400, \"continuousHeight\": 300}}, \"layer\": [{\"mark\": \"line\", \"encoding\": {\"color\": {\"value\": \"dodgerblue\"}, \"x\": {\"type\": \"temporal\", \"field\": \"data\", \"title\": \"Data\"}, \"y\": {\"type\": \"quantitative\", \"field\": \"obitos_confirmados\", \"title\": \"Obitos Confirmados\"}}, \"title\": \"Obitos Confirmados por Dia (Painel Federal)\", \"width\": 800}, {\"mark\": {\"type\": \"line\", \"point\": true}, \"encoding\": {\"color\": {\"value\": \"orange\"}, \"x\": {\"type\": \"temporal\", \"field\": \"data\", \"title\": \"Data\"}, \"y\": {\"type\": \"quantitative\", \"field\": \"media_movel\", \"title\": \"Obitos Confirmados\"}}}], \"data\": {\"name\": \"data-663376b4f0b5fa365fcd58d2514a196e\"}, \"$schema\": \"https://vega.github.io/schema/vega-lite/v4.8.1.json\", \"datasets\": {\"data-663376b4f0b5fa365fcd58d2514a196e\": [{\"data\": \"2021-06-01\", \"obitos_confirmados\": 4, \"media_movel\": null}, {\"data\": \"2021-06-02\", \"obitos_confirmados\": 5, \"media_movel\": null}, {\"data\": \"2021-06-03\", \"obitos_confirmados\": 3, \"media_movel\": null}, {\"data\": \"2021-06-04\", \"obitos_confirmados\": 3, \"media_movel\": null}, {\"data\": \"2021-06-05\", \"obitos_confirmados\": 7, \"media_movel\": null}, {\"data\": \"2021-06-06\", \"obitos_confirmados\": 6, \"media_movel\": null}, {\"data\": \"2021-06-07\", \"obitos_confirmados\": 2, \"media_movel\": 4.285714285714286}, {\"data\": \"2021-06-08\", \"obitos_confirmados\": 1, \"media_movel\": 3.857142857142857}, {\"data\": \"2021-06-09\", \"obitos_confirmados\": 5, \"media_movel\": 3.857142857142857}, {\"data\": \"2021-06-10\", \"obitos_confirmados\": 8, \"media_movel\": 4.571428571428571}, {\"data\": \"2021-06-11\", \"obitos_confirmados\": 7, \"media_movel\": 5.142857142857143}, {\"data\": \"2021-06-12\", \"obitos_confirmados\": 5, \"media_movel\": 4.857142857142857}, {\"data\": \"2021-06-13\", \"obitos_confirmados\": 6, \"media_movel\": 4.857142857142857}, {\"data\": \"2021-06-14\", \"obitos_confirmados\": 10, \"media_movel\": 6.0}, {\"data\": \"2021-06-15\", \"obitos_confirmados\": 2, \"media_movel\": 6.142857142857143}, {\"data\": \"2021-06-16\", \"obitos_confirmados\": 3, \"media_movel\": 5.857142857142857}, {\"data\": \"2021-06-17\", \"obitos_confirmados\": 3, \"media_movel\": 5.142857142857143}, {\"data\": \"2021-06-18\", \"obitos_confirmados\": 4, \"media_movel\": 4.714285714285714}, {\"data\": \"2021-06-19\", \"obitos_confirmados\": 2, \"media_movel\": 4.285714285714286}, {\"data\": \"2021-06-20\", \"obitos_confirmados\": 6, \"media_movel\": 4.285714285714286}, {\"data\": \"2021-06-21\", \"obitos_confirmados\": 3, \"media_movel\": 3.2857142857142856}, {\"data\": \"2021-06-22\", \"obitos_confirmados\": 3, \"media_movel\": 3.4285714285714284}, {\"data\": \"2021-06-23\", \"obitos_confirmados\": 1, \"media_movel\": 3.142857142857143}, {\"data\": \"2021-06-24\", \"obitos_confirmados\": 3, \"media_movel\": 3.142857142857143}, {\"data\": \"2021-06-25\", \"obitos_confirmados\": 3, \"media_movel\": 3.0}, {\"data\": \"2021-06-26\", \"obitos_confirmados\": 2, \"media_movel\": 3.0}, {\"data\": \"2021-06-27\", \"obitos_confirmados\": 3, \"media_movel\": 2.5714285714285716}, {\"data\": \"2021-06-28\", \"obitos_confirmados\": 1, \"media_movel\": 2.2857142857142856}, {\"data\": \"2021-06-29\", \"obitos_confirmados\": 4, \"media_movel\": 2.4285714285714284}, {\"data\": \"2021-06-30\", \"obitos_confirmados\": 1, \"media_movel\": 2.4285714285714284}, {\"data\": \"2021-07-01\", \"obitos_confirmados\": 2, \"media_movel\": 2.2857142857142856}, {\"data\": \"2021-07-02\", \"obitos_confirmados\": 4, \"media_movel\": 2.4285714285714284}, {\"data\": \"2021-07-03\", \"obitos_confirmados\": 3, \"media_movel\": 2.5714285714285716}, {\"data\": \"2021-07-04\", \"obitos_confirmados\": 2, \"media_movel\": 2.4285714285714284}, {\"data\": \"2021-07-05\", \"obitos_confirmados\": -1, \"media_movel\": 2.142857142857143}, {\"data\": \"2021-07-06\", \"obitos_confirmados\": 4, \"media_movel\": 2.142857142857143}, {\"data\": \"2021-07-07\", \"obitos_confirmados\": 5, \"media_movel\": 2.7142857142857144}, {\"data\": \"2021-07-08\", \"obitos_confirmados\": 2, \"media_movel\": 2.7142857142857144}, {\"data\": \"2021-07-09\", \"obitos_confirmados\": 2, \"media_movel\": 2.4285714285714284}, {\"data\": \"2021-07-10\", \"obitos_confirmados\": 2, \"media_movel\": 2.2857142857142856}, {\"data\": \"2021-07-11\", \"obitos_confirmados\": 1, \"media_movel\": 2.142857142857143}, {\"data\": \"2021-07-12\", \"obitos_confirmados\": 0, \"media_movel\": 2.2857142857142856}, {\"data\": \"2021-07-13\", \"obitos_confirmados\": 0, \"media_movel\": 1.7142857142857142}, {\"data\": \"2021-07-14\", \"obitos_confirmados\": 3, \"media_movel\": 1.4285714285714286}, {\"data\": \"2021-07-15\", \"obitos_confirmados\": 2, \"media_movel\": 1.4285714285714286}, {\"data\": \"2021-07-16\", \"obitos_confirmados\": 1, \"media_movel\": 1.2857142857142858}, {\"data\": \"2021-07-17\", \"obitos_confirmados\": 1, \"media_movel\": 1.1428571428571428}, {\"data\": \"2021-07-18\", \"obitos_confirmados\": 0, \"media_movel\": 1.0}, {\"data\": \"2021-07-19\", \"obitos_confirmados\": 2, \"media_movel\": 1.2857142857142858}, {\"data\": \"2021-07-20\", \"obitos_confirmados\": 1, \"media_movel\": 1.4285714285714286}, {\"data\": \"2021-07-21\", \"obitos_confirmados\": -1, \"media_movel\": 0.8571428571428571}, {\"data\": \"2021-07-22\", \"obitos_confirmados\": 2, \"media_movel\": 0.8571428571428571}, {\"data\": \"2021-07-23\", \"obitos_confirmados\": 2, \"media_movel\": 1.0}, {\"data\": \"2021-07-24\", \"obitos_confirmados\": 3, \"media_movel\": 1.2857142857142858}, {\"data\": \"2021-07-25\", \"obitos_confirmados\": 3, \"media_movel\": 1.7142857142857142}, {\"data\": \"2021-07-26\", \"obitos_confirmados\": 0, \"media_movel\": 1.4285714285714286}, {\"data\": \"2021-07-27\", \"obitos_confirmados\": 1, \"media_movel\": 1.4285714285714286}, {\"data\": \"2021-07-28\", \"obitos_confirmados\": 3, \"media_movel\": 2.0}, {\"data\": \"2021-07-29\", \"obitos_confirmados\": 1, \"media_movel\": 1.8571428571428572}, {\"data\": \"2021-07-30\", \"obitos_confirmados\": 0, \"media_movel\": 1.5714285714285714}, {\"data\": \"2021-07-31\", \"obitos_confirmados\": 1, \"media_movel\": 1.2857142857142858}, {\"data\": \"2021-08-01\", \"obitos_confirmados\": 0, \"media_movel\": 0.8571428571428571}, {\"data\": \"2021-08-02\", \"obitos_confirmados\": 0, \"media_movel\": 0.8571428571428571}, {\"data\": \"2021-08-03\", \"obitos_confirmados\": 0, \"media_movel\": 0.7142857142857143}, {\"data\": \"2021-08-04\", \"obitos_confirmados\": 3, \"media_movel\": 0.7142857142857143}, {\"data\": \"2021-08-05\", \"obitos_confirmados\": 1, \"media_movel\": 0.7142857142857143}, {\"data\": \"2021-08-06\", \"obitos_confirmados\": 3, \"media_movel\": 1.1428571428571428}, {\"data\": \"2021-08-07\", \"obitos_confirmados\": 2, \"media_movel\": 1.2857142857142858}, {\"data\": \"2021-08-08\", \"obitos_confirmados\": 0, \"media_movel\": 1.2857142857142858}, {\"data\": \"2021-08-09\", \"obitos_confirmados\": 0, \"media_movel\": 1.2857142857142858}, {\"data\": \"2021-08-10\", \"obitos_confirmados\": 1, \"media_movel\": 1.4285714285714286}, {\"data\": \"2021-08-11\", \"obitos_confirmados\": 2, \"media_movel\": 1.2857142857142858}, {\"data\": \"2021-08-12\", \"obitos_confirmados\": 1, \"media_movel\": 1.2857142857142858}, {\"data\": \"2021-08-13\", \"obitos_confirmados\": 0, \"media_movel\": 0.8571428571428571}, {\"data\": \"2021-08-14\", \"obitos_confirmados\": 0, \"media_movel\": 0.5714285714285714}, {\"data\": \"2021-08-15\", \"obitos_confirmados\": 1, \"media_movel\": 0.7142857142857143}, {\"data\": \"2021-08-16\", \"obitos_confirmados\": 2, \"media_movel\": 1.0}, {\"data\": \"2021-08-17\", \"obitos_confirmados\": 4, \"media_movel\": 1.4285714285714286}, {\"data\": \"2021-08-18\", \"obitos_confirmados\": 0, \"media_movel\": 1.1428571428571428}, {\"data\": \"2021-08-19\", \"obitos_confirmados\": 1, \"media_movel\": 1.1428571428571428}, {\"data\": \"2021-08-20\", \"obitos_confirmados\": 0, \"media_movel\": 1.1428571428571428}, {\"data\": \"2021-08-21\", \"obitos_confirmados\": 4, \"media_movel\": 1.7142857142857142}, {\"data\": \"2021-08-22\", \"obitos_confirmados\": 0, \"media_movel\": 1.5714285714285714}, {\"data\": \"2021-08-23\", \"obitos_confirmados\": 1, \"media_movel\": 1.4285714285714286}, {\"data\": \"2021-08-24\", \"obitos_confirmados\": 0, \"media_movel\": 0.8571428571428571}, {\"data\": \"2021-08-25\", \"obitos_confirmados\": 0, \"media_movel\": 0.8571428571428571}, {\"data\": \"2021-08-26\", \"obitos_confirmados\": 1, \"media_movel\": 0.8571428571428571}, {\"data\": \"2021-08-27\", \"obitos_confirmados\": 1, \"media_movel\": 1.0}, {\"data\": \"2021-08-28\", \"obitos_confirmados\": 1, \"media_movel\": 0.5714285714285714}, {\"data\": \"2021-08-29\", \"obitos_confirmados\": 0, \"media_movel\": 0.5714285714285714}, {\"data\": \"2021-08-30\", \"obitos_confirmados\": 0, \"media_movel\": 0.42857142857142855}, {\"data\": \"2021-08-31\", \"obitos_confirmados\": 1, \"media_movel\": 0.5714285714285714}]}}, {\"mode\": \"vega-lite\"});\n",
       "</script>"
      ],
      "text/plain": [
       "alt.LayerChart(...)"
      ]
     },
     "execution_count": 269,
     "metadata": {},
     "output_type": "execute_result"
    }
   ],
   "source": [
    "graph_pf_omm = graph_pf_obitosPorDia + graph_pf_obitosMedMovel\n",
    "graph_pf_omm"
   ]
  },
  {
   "cell_type": "markdown",
   "metadata": {},
   "source": [
    "# Gerando dados sobre o Numero de Obitos por Dia (DadosFederais)"
   ]
  },
  {
   "cell_type": "code",
   "execution_count": 270,
   "metadata": {},
   "outputs": [],
   "source": [
    "# Criando um data com a coluna 'dataNotificacao' e a coluna 'saidaConfirmadaObitos'\n",
    "df_obitosPorDiaeCNES = dados_federais_campina[['dataNotificacao', 'saidaConfirmadaObitos']]"
   ]
  },
  {
   "cell_type": "code",
   "execution_count": 271,
   "metadata": {},
   "outputs": [],
   "source": [
    "df_obitosPorDia = {}\n",
    "\n",
    "for data in df_obitosPorDiaeCNES['dataNotificacao']:\n",
    "    if data not in df_obitosPorDia:\n",
    "        ocorrenciasDatas = df_obitosPorDiaeCNES.loc[df_obitosPorDiaeCNES['dataNotificacao'] == data]\n",
    "        df_obitosPorDia[data] = ocorrenciasDatas['saidaConfirmadaObitos'].sum()"
   ]
  },
  {
   "cell_type": "code",
   "execution_count": 272,
   "metadata": {},
   "outputs": [],
   "source": [
    "# Criando um DataFrame com os dados para o altair\n",
    "df_obitosPorDia = pd.DataFrame({\n",
    "    'data': df_obitosPorDia.keys(),\n",
    "    'obitos_confirmados': df_obitosPorDia.values()\n",
    "})\n",
    "# Criando uma nova coluna no DataFrame referente a média movel.\n",
    "df_obitosPorDia['media_movel'] = df_obitosPorDia.obitos_confirmados.rolling(7).mean()"
   ]
  },
  {
   "cell_type": "code",
   "execution_count": 273,
   "metadata": {},
   "outputs": [
    {
     "data": {
      "text/html": [
       "\n",
       "<div id=\"altair-viz-7fbf1d47cb0847a98cc45d530bfdc2e6\"></div>\n",
       "<script type=\"text/javascript\">\n",
       "  (function(spec, embedOpt){\n",
       "    let outputDiv = document.currentScript.previousElementSibling;\n",
       "    if (outputDiv.id !== \"altair-viz-7fbf1d47cb0847a98cc45d530bfdc2e6\") {\n",
       "      outputDiv = document.getElementById(\"altair-viz-7fbf1d47cb0847a98cc45d530bfdc2e6\");\n",
       "    }\n",
       "    const paths = {\n",
       "      \"vega\": \"https://cdn.jsdelivr.net/npm//vega@5?noext\",\n",
       "      \"vega-lib\": \"https://cdn.jsdelivr.net/npm//vega-lib?noext\",\n",
       "      \"vega-lite\": \"https://cdn.jsdelivr.net/npm//vega-lite@4.8.1?noext\",\n",
       "      \"vega-embed\": \"https://cdn.jsdelivr.net/npm//vega-embed@6?noext\",\n",
       "    };\n",
       "\n",
       "    function loadScript(lib) {\n",
       "      return new Promise(function(resolve, reject) {\n",
       "        var s = document.createElement('script');\n",
       "        s.src = paths[lib];\n",
       "        s.async = true;\n",
       "        s.onload = () => resolve(paths[lib]);\n",
       "        s.onerror = () => reject(`Error loading script: ${paths[lib]}`);\n",
       "        document.getElementsByTagName(\"head\")[0].appendChild(s);\n",
       "      });\n",
       "    }\n",
       "\n",
       "    function showError(err) {\n",
       "      outputDiv.innerHTML = `<div class=\"error\" style=\"color:red;\">${err}</div>`;\n",
       "      throw err;\n",
       "    }\n",
       "\n",
       "    function displayChart(vegaEmbed) {\n",
       "      vegaEmbed(outputDiv, spec, embedOpt)\n",
       "        .catch(err => showError(`Javascript Error: ${err.message}<br>This usually means there's a typo in your chart specification. See the javascript console for the full traceback.`));\n",
       "    }\n",
       "\n",
       "    if(typeof define === \"function\" && define.amd) {\n",
       "      requirejs.config({paths});\n",
       "      require([\"vega-embed\"], displayChart, err => showError(`Error loading script: ${err.message}`));\n",
       "    } else if (typeof vegaEmbed === \"function\") {\n",
       "      displayChart(vegaEmbed);\n",
       "    } else {\n",
       "      loadScript(\"vega\")\n",
       "        .then(() => loadScript(\"vega-lite\"))\n",
       "        .then(() => loadScript(\"vega-embed\"))\n",
       "        .catch(showError)\n",
       "        .then(() => displayChart(vegaEmbed));\n",
       "    }\n",
       "  })({\"config\": {\"view\": {\"continuousWidth\": 400, \"continuousHeight\": 300}}, \"data\": {\"name\": \"data-c42db055c6ce216bc449159793e229f9\"}, \"mark\": \"line\", \"encoding\": {\"color\": {\"value\": \"forestgreen\"}, \"x\": {\"type\": \"temporal\", \"field\": \"data\", \"title\": \"Data\"}, \"y\": {\"type\": \"quantitative\", \"field\": \"obitos_confirmados\", \"title\": \"Obitos Confirmados\"}}, \"title\": \"Obitos Confirmados por Dia (Base Federal)\", \"width\": 800, \"$schema\": \"https://vega.github.io/schema/vega-lite/v4.8.1.json\", \"datasets\": {\"data-c42db055c6ce216bc449159793e229f9\": [{\"data\": \"2021-06-01\", \"obitos_confirmados\": 2.0, \"media_movel\": null}, {\"data\": \"2021-06-02\", \"obitos_confirmados\": 6.0, \"media_movel\": null}, {\"data\": \"2021-06-03\", \"obitos_confirmados\": 2.0, \"media_movel\": null}, {\"data\": \"2021-06-04\", \"obitos_confirmados\": 1.0, \"media_movel\": null}, {\"data\": \"2021-06-05\", \"obitos_confirmados\": 5.0, \"media_movel\": null}, {\"data\": \"2021-06-06\", \"obitos_confirmados\": 6.0, \"media_movel\": null}, {\"data\": \"2021-06-07\", \"obitos_confirmados\": 5.0, \"media_movel\": 3.857142857142857}, {\"data\": \"2021-06-08\", \"obitos_confirmados\": 3.0, \"media_movel\": 4.0}, {\"data\": \"2021-06-09\", \"obitos_confirmados\": 6.0, \"media_movel\": 4.0}, {\"data\": \"2021-06-10\", \"obitos_confirmados\": 1.0, \"media_movel\": 3.857142857142857}, {\"data\": \"2021-06-11\", \"obitos_confirmados\": 6.0, \"media_movel\": 4.571428571428571}, {\"data\": \"2021-06-12\", \"obitos_confirmados\": 6.0, \"media_movel\": 4.714285714285714}, {\"data\": \"2021-06-13\", \"obitos_confirmados\": 7.0, \"media_movel\": 4.857142857142857}, {\"data\": \"2021-06-14\", \"obitos_confirmados\": 4.0, \"media_movel\": 4.714285714285714}, {\"data\": \"2021-06-15\", \"obitos_confirmados\": 4.0, \"media_movel\": 4.857142857142857}, {\"data\": \"2021-06-16\", \"obitos_confirmados\": 5.0, \"media_movel\": 4.714285714285714}, {\"data\": \"2021-06-17\", \"obitos_confirmados\": 4.0, \"media_movel\": 5.142857142857143}, {\"data\": \"2021-06-18\", \"obitos_confirmados\": 7.0, \"media_movel\": 5.285714285714286}, {\"data\": \"2021-06-19\", \"obitos_confirmados\": 5.0, \"media_movel\": 5.142857142857143}, {\"data\": \"2021-06-20\", \"obitos_confirmados\": 6.0, \"media_movel\": 5.0}, {\"data\": \"2021-06-21\", \"obitos_confirmados\": 3.0, \"media_movel\": 4.857142857142857}, {\"data\": \"2021-06-22\", \"obitos_confirmados\": 1.0, \"media_movel\": 4.428571428571429}, {\"data\": \"2021-06-23\", \"obitos_confirmados\": 2.0, \"media_movel\": 4.0}, {\"data\": \"2021-06-24\", \"obitos_confirmados\": 3.0, \"media_movel\": 3.857142857142857}, {\"data\": \"2021-06-25\", \"obitos_confirmados\": 1.0, \"media_movel\": 3.0}, {\"data\": \"2021-06-27\", \"obitos_confirmados\": 2.0, \"media_movel\": 2.5714285714285716}, {\"data\": \"2021-06-26\", \"obitos_confirmados\": 0.0, \"media_movel\": 1.7142857142857142}, {\"data\": \"2021-06-28\", \"obitos_confirmados\": 2.0, \"media_movel\": 1.5714285714285714}, {\"data\": \"2021-06-29\", \"obitos_confirmados\": 1.0, \"media_movel\": 1.5714285714285714}, {\"data\": \"2021-06-30\", \"obitos_confirmados\": 3.0, \"media_movel\": 1.7142857142857142}, {\"data\": \"2021-07-01\", \"obitos_confirmados\": 3.0, \"media_movel\": 1.7142857142857142}, {\"data\": \"2021-07-02\", \"obitos_confirmados\": 2.0, \"media_movel\": 1.8571428571428572}, {\"data\": \"2021-07-03\", \"obitos_confirmados\": 2.0, \"media_movel\": 1.8571428571428572}, {\"data\": \"2021-07-04\", \"obitos_confirmados\": 3.0, \"media_movel\": 2.2857142857142856}, {\"data\": \"2021-07-05\", \"obitos_confirmados\": 6.0, \"media_movel\": 2.857142857142857}, {\"data\": \"2021-07-06\", \"obitos_confirmados\": 2.0, \"media_movel\": 3.0}, {\"data\": \"2021-07-07\", \"obitos_confirmados\": 0.0, \"media_movel\": 2.5714285714285716}, {\"data\": \"2021-07-08\", \"obitos_confirmados\": 1.0, \"media_movel\": 2.2857142857142856}, {\"data\": \"2021-07-09\", \"obitos_confirmados\": 5.0, \"media_movel\": 2.7142857142857144}, {\"data\": \"2021-07-10\", \"obitos_confirmados\": 1.0, \"media_movel\": 2.5714285714285716}, {\"data\": \"2021-07-11\", \"obitos_confirmados\": 1.0, \"media_movel\": 2.2857142857142856}, {\"data\": \"2021-07-12\", \"obitos_confirmados\": 2.0, \"media_movel\": 1.7142857142857142}, {\"data\": \"2021-07-13\", \"obitos_confirmados\": 2.0, \"media_movel\": 1.7142857142857142}, {\"data\": \"2021-07-14\", \"obitos_confirmados\": 1.0, \"media_movel\": 1.8571428571428572}, {\"data\": \"2021-07-15\", \"obitos_confirmados\": 1.0, \"media_movel\": 1.8571428571428572}, {\"data\": \"2021-07-16\", \"obitos_confirmados\": 0.0, \"media_movel\": 1.1428571428571428}, {\"data\": \"2021-07-17\", \"obitos_confirmados\": 2.0, \"media_movel\": 1.2857142857142858}, {\"data\": \"2021-07-18\", \"obitos_confirmados\": 4.0, \"media_movel\": 1.7142857142857142}, {\"data\": \"2021-07-19\", \"obitos_confirmados\": 3.0, \"media_movel\": 1.8571428571428572}, {\"data\": \"2021-07-20\", \"obitos_confirmados\": 0.0, \"media_movel\": 1.5714285714285714}, {\"data\": \"2021-07-21\", \"obitos_confirmados\": 1.0, \"media_movel\": 1.5714285714285714}, {\"data\": \"2021-07-22\", \"obitos_confirmados\": 0.0, \"media_movel\": 1.4285714285714286}, {\"data\": \"2021-07-23\", \"obitos_confirmados\": 4.0, \"media_movel\": 2.0}, {\"data\": \"2021-07-24\", \"obitos_confirmados\": 0.0, \"media_movel\": 1.7142857142857142}, {\"data\": \"2021-07-25\", \"obitos_confirmados\": 7.0, \"media_movel\": 2.142857142857143}, {\"data\": \"2021-07-26\", \"obitos_confirmados\": 1.0, \"media_movel\": 1.8571428571428572}, {\"data\": \"2021-07-27\", \"obitos_confirmados\": 1.0, \"media_movel\": 2.0}, {\"data\": \"2021-07-28\", \"obitos_confirmados\": 1.0, \"media_movel\": 2.0}, {\"data\": \"2021-07-29\", \"obitos_confirmados\": 1.0, \"media_movel\": 2.142857142857143}, {\"data\": \"2021-07-30\", \"obitos_confirmados\": 2.0, \"media_movel\": 1.8571428571428572}, {\"data\": \"2021-07-31\", \"obitos_confirmados\": 2.0, \"media_movel\": 2.142857142857143}, {\"data\": \"2021-08-01\", \"obitos_confirmados\": 3.0, \"media_movel\": 1.5714285714285714}, {\"data\": \"2021-08-02\", \"obitos_confirmados\": 0.0, \"media_movel\": 1.4285714285714286}, {\"data\": \"2021-08-03\", \"obitos_confirmados\": 5.0, \"media_movel\": 2.0}, {\"data\": \"2021-08-04\", \"obitos_confirmados\": 0.0, \"media_movel\": 1.8571428571428572}, {\"data\": \"2021-08-05\", \"obitos_confirmados\": 1.0, \"media_movel\": 1.8571428571428572}, {\"data\": \"2021-08-06\", \"obitos_confirmados\": 1.0, \"media_movel\": 1.7142857142857142}, {\"data\": \"2021-08-07\", \"obitos_confirmados\": 2.0, \"media_movel\": 1.7142857142857142}, {\"data\": \"2021-08-08\", \"obitos_confirmados\": 1.0, \"media_movel\": 1.4285714285714286}, {\"data\": \"2021-08-09\", \"obitos_confirmados\": 1.0, \"media_movel\": 1.5714285714285714}, {\"data\": \"2021-08-10\", \"obitos_confirmados\": 0.0, \"media_movel\": 0.8571428571428571}, {\"data\": \"2021-08-11\", \"obitos_confirmados\": 11.0, \"media_movel\": 2.4285714285714284}, {\"data\": \"2021-08-12\", \"obitos_confirmados\": 2.0, \"media_movel\": 2.5714285714285716}, {\"data\": \"2021-08-13\", \"obitos_confirmados\": 2.0, \"media_movel\": 2.7142857142857144}, {\"data\": \"2021-08-14\", \"obitos_confirmados\": 1.0, \"media_movel\": 2.5714285714285716}, {\"data\": \"2021-08-15\", \"obitos_confirmados\": 0.0, \"media_movel\": 2.4285714285714284}, {\"data\": \"2021-08-16\", \"obitos_confirmados\": 3.0, \"media_movel\": 2.7142857142857144}, {\"data\": \"2021-08-17\", \"obitos_confirmados\": 3.0, \"media_movel\": 3.142857142857143}, {\"data\": \"2021-08-18\", \"obitos_confirmados\": 1.0, \"media_movel\": 1.7142857142857142}, {\"data\": \"2021-08-19\", \"obitos_confirmados\": 0.0, \"media_movel\": 1.4285714285714286}, {\"data\": \"2021-08-20\", \"obitos_confirmados\": 1.0, \"media_movel\": 1.2857142857142858}, {\"data\": \"2021-08-21\", \"obitos_confirmados\": 4.0, \"media_movel\": 1.7142857142857142}, {\"data\": \"2021-08-22\", \"obitos_confirmados\": 0.0, \"media_movel\": 1.7142857142857142}, {\"data\": \"2021-08-23\", \"obitos_confirmados\": 2.0, \"media_movel\": 1.5714285714285714}, {\"data\": \"2021-08-24\", \"obitos_confirmados\": 8.0, \"media_movel\": 2.2857142857142856}, {\"data\": \"2021-08-25\", \"obitos_confirmados\": 1.0, \"media_movel\": 2.2857142857142856}, {\"data\": \"2021-08-26\", \"obitos_confirmados\": 2.0, \"media_movel\": 2.5714285714285716}, {\"data\": \"2021-08-27\", \"obitos_confirmados\": 2.0, \"media_movel\": 2.7142857142857144}, {\"data\": \"2021-08-28\", \"obitos_confirmados\": 2.0, \"media_movel\": 2.4285714285714284}, {\"data\": \"2021-08-29\", \"obitos_confirmados\": 0.0, \"media_movel\": 2.4285714285714284}, {\"data\": \"2021-08-30\", \"obitos_confirmados\": 0.0, \"media_movel\": 2.142857142857143}, {\"data\": \"2021-08-31\", \"obitos_confirmados\": 2.0, \"media_movel\": 1.2857142857142858}]}}, {\"mode\": \"vega-lite\"});\n",
       "</script>"
      ],
      "text/plain": [
       "alt.Chart(...)"
      ]
     },
     "execution_count": 273,
     "metadata": {},
     "output_type": "execute_result"
    }
   ],
   "source": [
    "# Gerando o Gráfico de Obitos por Dia com os dados da Base Federail\n",
    "graph_df_obitosPorDia = alt.Chart(df_obitosPorDia).mark_line().encode(\n",
    "    alt.X('data:T', title='Data'),\n",
    "    alt.Y('obitos_confirmados:Q', title='Obitos Confirmados'),\n",
    "    color=alt.value('forestgreen')\n",
    ").properties(\n",
    "    width=800,\n",
    "    title='Obitos Confirmados por Dia (Base Federal)'\n",
    ")\n",
    "\n",
    "graph_df_obitosPorDia"
   ]
  },
  {
   "cell_type": "code",
   "execution_count": 274,
   "metadata": {},
   "outputs": [],
   "source": [
    "# Gerando o grafico de média movel\n",
    "graph_df_obitosMedMovel = alt.Chart(df_obitosPorDia).mark_line(\n",
    "    point=True\n",
    ").encode(\n",
    "    alt.X('data:T', title='Data'),\n",
    "    alt.Y('media_movel:Q', title='Obitos Confirmados'),\n",
    "    color=alt.value('indigo')\n",
    ")"
   ]
  },
  {
   "cell_type": "code",
   "execution_count": 275,
   "metadata": {},
   "outputs": [
    {
     "data": {
      "text/html": [
       "\n",
       "<div id=\"altair-viz-e093bf379c674e74a61f6921b2fbce6f\"></div>\n",
       "<script type=\"text/javascript\">\n",
       "  (function(spec, embedOpt){\n",
       "    let outputDiv = document.currentScript.previousElementSibling;\n",
       "    if (outputDiv.id !== \"altair-viz-e093bf379c674e74a61f6921b2fbce6f\") {\n",
       "      outputDiv = document.getElementById(\"altair-viz-e093bf379c674e74a61f6921b2fbce6f\");\n",
       "    }\n",
       "    const paths = {\n",
       "      \"vega\": \"https://cdn.jsdelivr.net/npm//vega@5?noext\",\n",
       "      \"vega-lib\": \"https://cdn.jsdelivr.net/npm//vega-lib?noext\",\n",
       "      \"vega-lite\": \"https://cdn.jsdelivr.net/npm//vega-lite@4.8.1?noext\",\n",
       "      \"vega-embed\": \"https://cdn.jsdelivr.net/npm//vega-embed@6?noext\",\n",
       "    };\n",
       "\n",
       "    function loadScript(lib) {\n",
       "      return new Promise(function(resolve, reject) {\n",
       "        var s = document.createElement('script');\n",
       "        s.src = paths[lib];\n",
       "        s.async = true;\n",
       "        s.onload = () => resolve(paths[lib]);\n",
       "        s.onerror = () => reject(`Error loading script: ${paths[lib]}`);\n",
       "        document.getElementsByTagName(\"head\")[0].appendChild(s);\n",
       "      });\n",
       "    }\n",
       "\n",
       "    function showError(err) {\n",
       "      outputDiv.innerHTML = `<div class=\"error\" style=\"color:red;\">${err}</div>`;\n",
       "      throw err;\n",
       "    }\n",
       "\n",
       "    function displayChart(vegaEmbed) {\n",
       "      vegaEmbed(outputDiv, spec, embedOpt)\n",
       "        .catch(err => showError(`Javascript Error: ${err.message}<br>This usually means there's a typo in your chart specification. See the javascript console for the full traceback.`));\n",
       "    }\n",
       "\n",
       "    if(typeof define === \"function\" && define.amd) {\n",
       "      requirejs.config({paths});\n",
       "      require([\"vega-embed\"], displayChart, err => showError(`Error loading script: ${err.message}`));\n",
       "    } else if (typeof vegaEmbed === \"function\") {\n",
       "      displayChart(vegaEmbed);\n",
       "    } else {\n",
       "      loadScript(\"vega\")\n",
       "        .then(() => loadScript(\"vega-lite\"))\n",
       "        .then(() => loadScript(\"vega-embed\"))\n",
       "        .catch(showError)\n",
       "        .then(() => displayChart(vegaEmbed));\n",
       "    }\n",
       "  })({\"config\": {\"view\": {\"continuousWidth\": 400, \"continuousHeight\": 300}}, \"layer\": [{\"mark\": \"line\", \"encoding\": {\"color\": {\"value\": \"forestgreen\"}, \"x\": {\"type\": \"temporal\", \"field\": \"data\", \"title\": \"Data\"}, \"y\": {\"type\": \"quantitative\", \"field\": \"obitos_confirmados\", \"title\": \"Obitos Confirmados\"}}, \"title\": \"Obitos Confirmados por Dia (Base Federal)\", \"width\": 800}, {\"mark\": {\"type\": \"line\", \"point\": true}, \"encoding\": {\"color\": {\"value\": \"indigo\"}, \"x\": {\"type\": \"temporal\", \"field\": \"data\", \"title\": \"Data\"}, \"y\": {\"type\": \"quantitative\", \"field\": \"media_movel\", \"title\": \"Obitos Confirmados\"}}}], \"data\": {\"name\": \"data-c42db055c6ce216bc449159793e229f9\"}, \"$schema\": \"https://vega.github.io/schema/vega-lite/v4.8.1.json\", \"datasets\": {\"data-c42db055c6ce216bc449159793e229f9\": [{\"data\": \"2021-06-01\", \"obitos_confirmados\": 2.0, \"media_movel\": null}, {\"data\": \"2021-06-02\", \"obitos_confirmados\": 6.0, \"media_movel\": null}, {\"data\": \"2021-06-03\", \"obitos_confirmados\": 2.0, \"media_movel\": null}, {\"data\": \"2021-06-04\", \"obitos_confirmados\": 1.0, \"media_movel\": null}, {\"data\": \"2021-06-05\", \"obitos_confirmados\": 5.0, \"media_movel\": null}, {\"data\": \"2021-06-06\", \"obitos_confirmados\": 6.0, \"media_movel\": null}, {\"data\": \"2021-06-07\", \"obitos_confirmados\": 5.0, \"media_movel\": 3.857142857142857}, {\"data\": \"2021-06-08\", \"obitos_confirmados\": 3.0, \"media_movel\": 4.0}, {\"data\": \"2021-06-09\", \"obitos_confirmados\": 6.0, \"media_movel\": 4.0}, {\"data\": \"2021-06-10\", \"obitos_confirmados\": 1.0, \"media_movel\": 3.857142857142857}, {\"data\": \"2021-06-11\", \"obitos_confirmados\": 6.0, \"media_movel\": 4.571428571428571}, {\"data\": \"2021-06-12\", \"obitos_confirmados\": 6.0, \"media_movel\": 4.714285714285714}, {\"data\": \"2021-06-13\", \"obitos_confirmados\": 7.0, \"media_movel\": 4.857142857142857}, {\"data\": \"2021-06-14\", \"obitos_confirmados\": 4.0, \"media_movel\": 4.714285714285714}, {\"data\": \"2021-06-15\", \"obitos_confirmados\": 4.0, \"media_movel\": 4.857142857142857}, {\"data\": \"2021-06-16\", \"obitos_confirmados\": 5.0, \"media_movel\": 4.714285714285714}, {\"data\": \"2021-06-17\", \"obitos_confirmados\": 4.0, \"media_movel\": 5.142857142857143}, {\"data\": \"2021-06-18\", \"obitos_confirmados\": 7.0, \"media_movel\": 5.285714285714286}, {\"data\": \"2021-06-19\", \"obitos_confirmados\": 5.0, \"media_movel\": 5.142857142857143}, {\"data\": \"2021-06-20\", \"obitos_confirmados\": 6.0, \"media_movel\": 5.0}, {\"data\": \"2021-06-21\", \"obitos_confirmados\": 3.0, \"media_movel\": 4.857142857142857}, {\"data\": \"2021-06-22\", \"obitos_confirmados\": 1.0, \"media_movel\": 4.428571428571429}, {\"data\": \"2021-06-23\", \"obitos_confirmados\": 2.0, \"media_movel\": 4.0}, {\"data\": \"2021-06-24\", \"obitos_confirmados\": 3.0, \"media_movel\": 3.857142857142857}, {\"data\": \"2021-06-25\", \"obitos_confirmados\": 1.0, \"media_movel\": 3.0}, {\"data\": \"2021-06-27\", \"obitos_confirmados\": 2.0, \"media_movel\": 2.5714285714285716}, {\"data\": \"2021-06-26\", \"obitos_confirmados\": 0.0, \"media_movel\": 1.7142857142857142}, {\"data\": \"2021-06-28\", \"obitos_confirmados\": 2.0, \"media_movel\": 1.5714285714285714}, {\"data\": \"2021-06-29\", \"obitos_confirmados\": 1.0, \"media_movel\": 1.5714285714285714}, {\"data\": \"2021-06-30\", \"obitos_confirmados\": 3.0, \"media_movel\": 1.7142857142857142}, {\"data\": \"2021-07-01\", \"obitos_confirmados\": 3.0, \"media_movel\": 1.7142857142857142}, {\"data\": \"2021-07-02\", \"obitos_confirmados\": 2.0, \"media_movel\": 1.8571428571428572}, {\"data\": \"2021-07-03\", \"obitos_confirmados\": 2.0, \"media_movel\": 1.8571428571428572}, {\"data\": \"2021-07-04\", \"obitos_confirmados\": 3.0, \"media_movel\": 2.2857142857142856}, {\"data\": \"2021-07-05\", \"obitos_confirmados\": 6.0, \"media_movel\": 2.857142857142857}, {\"data\": \"2021-07-06\", \"obitos_confirmados\": 2.0, \"media_movel\": 3.0}, {\"data\": \"2021-07-07\", \"obitos_confirmados\": 0.0, \"media_movel\": 2.5714285714285716}, {\"data\": \"2021-07-08\", \"obitos_confirmados\": 1.0, \"media_movel\": 2.2857142857142856}, {\"data\": \"2021-07-09\", \"obitos_confirmados\": 5.0, \"media_movel\": 2.7142857142857144}, {\"data\": \"2021-07-10\", \"obitos_confirmados\": 1.0, \"media_movel\": 2.5714285714285716}, {\"data\": \"2021-07-11\", \"obitos_confirmados\": 1.0, \"media_movel\": 2.2857142857142856}, {\"data\": \"2021-07-12\", \"obitos_confirmados\": 2.0, \"media_movel\": 1.7142857142857142}, {\"data\": \"2021-07-13\", \"obitos_confirmados\": 2.0, \"media_movel\": 1.7142857142857142}, {\"data\": \"2021-07-14\", \"obitos_confirmados\": 1.0, \"media_movel\": 1.8571428571428572}, {\"data\": \"2021-07-15\", \"obitos_confirmados\": 1.0, \"media_movel\": 1.8571428571428572}, {\"data\": \"2021-07-16\", \"obitos_confirmados\": 0.0, \"media_movel\": 1.1428571428571428}, {\"data\": \"2021-07-17\", \"obitos_confirmados\": 2.0, \"media_movel\": 1.2857142857142858}, {\"data\": \"2021-07-18\", \"obitos_confirmados\": 4.0, \"media_movel\": 1.7142857142857142}, {\"data\": \"2021-07-19\", \"obitos_confirmados\": 3.0, \"media_movel\": 1.8571428571428572}, {\"data\": \"2021-07-20\", \"obitos_confirmados\": 0.0, \"media_movel\": 1.5714285714285714}, {\"data\": \"2021-07-21\", \"obitos_confirmados\": 1.0, \"media_movel\": 1.5714285714285714}, {\"data\": \"2021-07-22\", \"obitos_confirmados\": 0.0, \"media_movel\": 1.4285714285714286}, {\"data\": \"2021-07-23\", \"obitos_confirmados\": 4.0, \"media_movel\": 2.0}, {\"data\": \"2021-07-24\", \"obitos_confirmados\": 0.0, \"media_movel\": 1.7142857142857142}, {\"data\": \"2021-07-25\", \"obitos_confirmados\": 7.0, \"media_movel\": 2.142857142857143}, {\"data\": \"2021-07-26\", \"obitos_confirmados\": 1.0, \"media_movel\": 1.8571428571428572}, {\"data\": \"2021-07-27\", \"obitos_confirmados\": 1.0, \"media_movel\": 2.0}, {\"data\": \"2021-07-28\", \"obitos_confirmados\": 1.0, \"media_movel\": 2.0}, {\"data\": \"2021-07-29\", \"obitos_confirmados\": 1.0, \"media_movel\": 2.142857142857143}, {\"data\": \"2021-07-30\", \"obitos_confirmados\": 2.0, \"media_movel\": 1.8571428571428572}, {\"data\": \"2021-07-31\", \"obitos_confirmados\": 2.0, \"media_movel\": 2.142857142857143}, {\"data\": \"2021-08-01\", \"obitos_confirmados\": 3.0, \"media_movel\": 1.5714285714285714}, {\"data\": \"2021-08-02\", \"obitos_confirmados\": 0.0, \"media_movel\": 1.4285714285714286}, {\"data\": \"2021-08-03\", \"obitos_confirmados\": 5.0, \"media_movel\": 2.0}, {\"data\": \"2021-08-04\", \"obitos_confirmados\": 0.0, \"media_movel\": 1.8571428571428572}, {\"data\": \"2021-08-05\", \"obitos_confirmados\": 1.0, \"media_movel\": 1.8571428571428572}, {\"data\": \"2021-08-06\", \"obitos_confirmados\": 1.0, \"media_movel\": 1.7142857142857142}, {\"data\": \"2021-08-07\", \"obitos_confirmados\": 2.0, \"media_movel\": 1.7142857142857142}, {\"data\": \"2021-08-08\", \"obitos_confirmados\": 1.0, \"media_movel\": 1.4285714285714286}, {\"data\": \"2021-08-09\", \"obitos_confirmados\": 1.0, \"media_movel\": 1.5714285714285714}, {\"data\": \"2021-08-10\", \"obitos_confirmados\": 0.0, \"media_movel\": 0.8571428571428571}, {\"data\": \"2021-08-11\", \"obitos_confirmados\": 11.0, \"media_movel\": 2.4285714285714284}, {\"data\": \"2021-08-12\", \"obitos_confirmados\": 2.0, \"media_movel\": 2.5714285714285716}, {\"data\": \"2021-08-13\", \"obitos_confirmados\": 2.0, \"media_movel\": 2.7142857142857144}, {\"data\": \"2021-08-14\", \"obitos_confirmados\": 1.0, \"media_movel\": 2.5714285714285716}, {\"data\": \"2021-08-15\", \"obitos_confirmados\": 0.0, \"media_movel\": 2.4285714285714284}, {\"data\": \"2021-08-16\", \"obitos_confirmados\": 3.0, \"media_movel\": 2.7142857142857144}, {\"data\": \"2021-08-17\", \"obitos_confirmados\": 3.0, \"media_movel\": 3.142857142857143}, {\"data\": \"2021-08-18\", \"obitos_confirmados\": 1.0, \"media_movel\": 1.7142857142857142}, {\"data\": \"2021-08-19\", \"obitos_confirmados\": 0.0, \"media_movel\": 1.4285714285714286}, {\"data\": \"2021-08-20\", \"obitos_confirmados\": 1.0, \"media_movel\": 1.2857142857142858}, {\"data\": \"2021-08-21\", \"obitos_confirmados\": 4.0, \"media_movel\": 1.7142857142857142}, {\"data\": \"2021-08-22\", \"obitos_confirmados\": 0.0, \"media_movel\": 1.7142857142857142}, {\"data\": \"2021-08-23\", \"obitos_confirmados\": 2.0, \"media_movel\": 1.5714285714285714}, {\"data\": \"2021-08-24\", \"obitos_confirmados\": 8.0, \"media_movel\": 2.2857142857142856}, {\"data\": \"2021-08-25\", \"obitos_confirmados\": 1.0, \"media_movel\": 2.2857142857142856}, {\"data\": \"2021-08-26\", \"obitos_confirmados\": 2.0, \"media_movel\": 2.5714285714285716}, {\"data\": \"2021-08-27\", \"obitos_confirmados\": 2.0, \"media_movel\": 2.7142857142857144}, {\"data\": \"2021-08-28\", \"obitos_confirmados\": 2.0, \"media_movel\": 2.4285714285714284}, {\"data\": \"2021-08-29\", \"obitos_confirmados\": 0.0, \"media_movel\": 2.4285714285714284}, {\"data\": \"2021-08-30\", \"obitos_confirmados\": 0.0, \"media_movel\": 2.142857142857143}, {\"data\": \"2021-08-31\", \"obitos_confirmados\": 2.0, \"media_movel\": 1.2857142857142858}]}}, {\"mode\": \"vega-lite\"});\n",
       "</script>"
      ],
      "text/plain": [
       "alt.LayerChart(...)"
      ]
     },
     "execution_count": 275,
     "metadata": {},
     "output_type": "execute_result"
    }
   ],
   "source": [
    "graph_df_omm = graph_df_obitosPorDia + graph_df_obitosMedMovel\n",
    "graph_df_omm"
   ]
  },
  {
   "cell_type": "markdown",
   "metadata": {},
   "source": [
    "# Gerando dados sobre o Numero de Obitos por Dia (Dados Municipais)"
   ]
  },
  {
   "cell_type": "code",
   "execution_count": 276,
   "metadata": {},
   "outputs": [],
   "source": [
    "# Criando um data com a coluna 'data' e a coluna 'obitosNovos'\n",
    "dm_obitosPorDia = dados_municipais_campina['obitosPorDia']"
   ]
  },
  {
   "cell_type": "code",
   "execution_count": 277,
   "metadata": {},
   "outputs": [],
   "source": [
    "# Criando um DataFrame com os dados para o altair\n",
    "dm_obitosPorDia = pd.DataFrame({\n",
    "    'data': dm_obitosPorDia.index.tolist(),\n",
    "    'obitos_confirmados': dm_obitosPorDia.values.tolist()\n",
    "})\n",
    "# Criando uma nova coluna no DataFrame referente a média movel.\n",
    "dm_obitosPorDia['media_movel'] = dm_obitosPorDia.obitos_confirmados.rolling(7).mean()"
   ]
  },
  {
   "cell_type": "code",
   "execution_count": 278,
   "metadata": {},
   "outputs": [
    {
     "data": {
      "text/html": [
       "\n",
       "<div id=\"altair-viz-f85f4c300e2e464bb99cf9997e086cd4\"></div>\n",
       "<script type=\"text/javascript\">\n",
       "  (function(spec, embedOpt){\n",
       "    let outputDiv = document.currentScript.previousElementSibling;\n",
       "    if (outputDiv.id !== \"altair-viz-f85f4c300e2e464bb99cf9997e086cd4\") {\n",
       "      outputDiv = document.getElementById(\"altair-viz-f85f4c300e2e464bb99cf9997e086cd4\");\n",
       "    }\n",
       "    const paths = {\n",
       "      \"vega\": \"https://cdn.jsdelivr.net/npm//vega@5?noext\",\n",
       "      \"vega-lib\": \"https://cdn.jsdelivr.net/npm//vega-lib?noext\",\n",
       "      \"vega-lite\": \"https://cdn.jsdelivr.net/npm//vega-lite@4.8.1?noext\",\n",
       "      \"vega-embed\": \"https://cdn.jsdelivr.net/npm//vega-embed@6?noext\",\n",
       "    };\n",
       "\n",
       "    function loadScript(lib) {\n",
       "      return new Promise(function(resolve, reject) {\n",
       "        var s = document.createElement('script');\n",
       "        s.src = paths[lib];\n",
       "        s.async = true;\n",
       "        s.onload = () => resolve(paths[lib]);\n",
       "        s.onerror = () => reject(`Error loading script: ${paths[lib]}`);\n",
       "        document.getElementsByTagName(\"head\")[0].appendChild(s);\n",
       "      });\n",
       "    }\n",
       "\n",
       "    function showError(err) {\n",
       "      outputDiv.innerHTML = `<div class=\"error\" style=\"color:red;\">${err}</div>`;\n",
       "      throw err;\n",
       "    }\n",
       "\n",
       "    function displayChart(vegaEmbed) {\n",
       "      vegaEmbed(outputDiv, spec, embedOpt)\n",
       "        .catch(err => showError(`Javascript Error: ${err.message}<br>This usually means there's a typo in your chart specification. See the javascript console for the full traceback.`));\n",
       "    }\n",
       "\n",
       "    if(typeof define === \"function\" && define.amd) {\n",
       "      requirejs.config({paths});\n",
       "      require([\"vega-embed\"], displayChart, err => showError(`Error loading script: ${err.message}`));\n",
       "    } else if (typeof vegaEmbed === \"function\") {\n",
       "      displayChart(vegaEmbed);\n",
       "    } else {\n",
       "      loadScript(\"vega\")\n",
       "        .then(() => loadScript(\"vega-lite\"))\n",
       "        .then(() => loadScript(\"vega-embed\"))\n",
       "        .catch(showError)\n",
       "        .then(() => displayChart(vegaEmbed));\n",
       "    }\n",
       "  })({\"config\": {\"view\": {\"continuousWidth\": 400, \"continuousHeight\": 300}}, \"data\": {\"name\": \"data-86e69fd79068368654854438faa44432\"}, \"mark\": \"line\", \"encoding\": {\"color\": {\"value\": \"darkorange\"}, \"x\": {\"type\": \"temporal\", \"field\": \"data\", \"title\": \"Data\"}, \"y\": {\"type\": \"quantitative\", \"field\": \"obitos_confirmados\", \"title\": \"Obitos Confirmados\"}}, \"title\": \"Obitos Confirmados por Dia (Dados Municipal)\", \"width\": 800, \"$schema\": \"https://vega.github.io/schema/vega-lite/v4.8.1.json\", \"datasets\": {\"data-86e69fd79068368654854438faa44432\": [{\"data\": \"2021-06-01\", \"obitos_confirmados\": 3, \"media_movel\": null}, {\"data\": \"2021-06-02\", \"obitos_confirmados\": 4, \"media_movel\": null}, {\"data\": \"2021-06-03\", \"obitos_confirmados\": 4, \"media_movel\": null}, {\"data\": \"2021-06-04\", \"obitos_confirmados\": 6, \"media_movel\": null}, {\"data\": \"2021-06-05\", \"obitos_confirmados\": 4, \"media_movel\": null}, {\"data\": \"2021-06-06\", \"obitos_confirmados\": 4, \"media_movel\": null}, {\"data\": \"2021-06-07\", \"obitos_confirmados\": 5, \"media_movel\": 4.285714285714286}, {\"data\": \"2021-06-08\", \"obitos_confirmados\": 4, \"media_movel\": 4.428571428571429}, {\"data\": \"2021-06-09\", \"obitos_confirmados\": 6, \"media_movel\": 4.714285714285714}, {\"data\": \"2021-06-10\", \"obitos_confirmados\": 8, \"media_movel\": 5.285714285714286}, {\"data\": \"2021-06-11\", \"obitos_confirmados\": 12, \"media_movel\": 6.142857142857143}, {\"data\": \"2021-06-12\", \"obitos_confirmados\": 4, \"media_movel\": 6.142857142857143}, {\"data\": \"2021-06-13\", \"obitos_confirmados\": 6, \"media_movel\": 6.428571428571429}, {\"data\": \"2021-06-14\", \"obitos_confirmados\": 4, \"media_movel\": 6.285714285714286}, {\"data\": \"2021-06-15\", \"obitos_confirmados\": 4, \"media_movel\": 6.285714285714286}, {\"data\": \"2021-06-16\", \"obitos_confirmados\": 5, \"media_movel\": 6.142857142857143}, {\"data\": \"2021-06-17\", \"obitos_confirmados\": 4, \"media_movel\": 5.571428571428571}, {\"data\": \"2021-06-18\", \"obitos_confirmados\": 6, \"media_movel\": 4.714285714285714}, {\"data\": \"2021-06-19\", \"obitos_confirmados\": 4, \"media_movel\": 4.714285714285714}, {\"data\": \"2021-06-20\", \"obitos_confirmados\": 4, \"media_movel\": 4.428571428571429}, {\"data\": \"2021-06-21\", \"obitos_confirmados\": 6, \"media_movel\": 4.714285714285714}, {\"data\": \"2021-06-22\", \"obitos_confirmados\": 6, \"media_movel\": 5.0}, {\"data\": \"2021-06-23\", \"obitos_confirmados\": 6, \"media_movel\": 5.142857142857143}, {\"data\": \"2021-06-24\", \"obitos_confirmados\": 6, \"media_movel\": 5.428571428571429}, {\"data\": \"2021-06-25\", \"obitos_confirmados\": 6, \"media_movel\": 5.428571428571429}, {\"data\": \"2021-06-26\", \"obitos_confirmados\": 6, \"media_movel\": 5.714285714285714}, {\"data\": \"2021-06-27\", \"obitos_confirmados\": 7, \"media_movel\": 6.142857142857143}, {\"data\": \"2021-06-28\", \"obitos_confirmados\": 6, \"media_movel\": 6.142857142857143}, {\"data\": \"2021-06-29\", \"obitos_confirmados\": 5, \"media_movel\": 6.0}, {\"data\": \"2021-06-30\", \"obitos_confirmados\": 5, \"media_movel\": 5.857142857142857}, {\"data\": \"2021-07-01\", \"obitos_confirmados\": 3, \"media_movel\": 5.428571428571429}, {\"data\": \"2021-07-03\", \"obitos_confirmados\": 7, \"media_movel\": 5.571428571428571}, {\"data\": \"2021-07-04\", \"obitos_confirmados\": 3, \"media_movel\": 5.142857142857143}, {\"data\": \"2021-07-05\", \"obitos_confirmados\": 4, \"media_movel\": 4.714285714285714}, {\"data\": \"2021-07-06\", \"obitos_confirmados\": 3, \"media_movel\": 4.285714285714286}, {\"data\": \"2021-07-07\", \"obitos_confirmados\": 4, \"media_movel\": 4.142857142857143}, {\"data\": \"2021-07-08\", \"obitos_confirmados\": 3, \"media_movel\": 3.857142857142857}, {\"data\": \"2021-07-09\", \"obitos_confirmados\": 3, \"media_movel\": 3.857142857142857}, {\"data\": \"2021-07-10\", \"obitos_confirmados\": 3, \"media_movel\": 3.2857142857142856}, {\"data\": \"2021-07-11\", \"obitos_confirmados\": 2, \"media_movel\": 3.142857142857143}, {\"data\": \"2021-07-12\", \"obitos_confirmados\": 3, \"media_movel\": 3.0}, {\"data\": \"2021-07-13\", \"obitos_confirmados\": 0, \"media_movel\": 2.5714285714285716}, {\"data\": \"2021-07-14\", \"obitos_confirmados\": 0, \"media_movel\": 2.0}, {\"data\": \"2021-07-15\", \"obitos_confirmados\": 2, \"media_movel\": 1.8571428571428572}, {\"data\": \"2021-07-16\", \"obitos_confirmados\": 0, \"media_movel\": 1.4285714285714286}, {\"data\": \"2021-07-17\", \"obitos_confirmados\": 2, \"media_movel\": 1.2857142857142858}, {\"data\": \"2021-07-18\", \"obitos_confirmados\": 0, \"media_movel\": 1.0}, {\"data\": \"2021-07-19\", \"obitos_confirmados\": 2, \"media_movel\": 0.8571428571428571}, {\"data\": \"2021-07-20\", \"obitos_confirmados\": 1, \"media_movel\": 1.0}, {\"data\": \"2021-07-21\", \"obitos_confirmados\": 0, \"media_movel\": 1.0}, {\"data\": \"2021-07-22\", \"obitos_confirmados\": 1, \"media_movel\": 0.8571428571428571}, {\"data\": \"2021-07-23\", \"obitos_confirmados\": 1, \"media_movel\": 1.0}, {\"data\": \"2021-07-24\", \"obitos_confirmados\": 2, \"media_movel\": 1.0}, {\"data\": \"2021-07-25\", \"obitos_confirmados\": 0, \"media_movel\": 1.0}, {\"data\": \"2021-07-26\", \"obitos_confirmados\": 3, \"media_movel\": 1.1428571428571428}, {\"data\": \"2021-07-27\", \"obitos_confirmados\": 1, \"media_movel\": 1.1428571428571428}, {\"data\": \"2021-07-28\", \"obitos_confirmados\": 3, \"media_movel\": 1.5714285714285714}, {\"data\": \"2021-07-29\", \"obitos_confirmados\": 3, \"media_movel\": 1.8571428571428572}, {\"data\": \"2021-07-30\", \"obitos_confirmados\": 0, \"media_movel\": 1.7142857142857142}, {\"data\": \"2021-07-31\", \"obitos_confirmados\": 1, \"media_movel\": 1.5714285714285714}, {\"data\": \"2021-08-01\", \"obitos_confirmados\": 0, \"media_movel\": 1.5714285714285714}, {\"data\": \"2021-08-02\", \"obitos_confirmados\": 0, \"media_movel\": 1.1428571428571428}, {\"data\": \"2021-08-03\", \"obitos_confirmados\": 0, \"media_movel\": 1.0}, {\"data\": \"2021-08-04\", \"obitos_confirmados\": 2, \"media_movel\": 0.8571428571428571}, {\"data\": \"2021-08-05\", \"obitos_confirmados\": 0, \"media_movel\": 0.42857142857142855}, {\"data\": \"2021-08-06\", \"obitos_confirmados\": 0, \"media_movel\": 0.42857142857142855}, {\"data\": \"2021-08-07\", \"obitos_confirmados\": 0, \"media_movel\": 0.2857142857142857}, {\"data\": \"2021-08-08\", \"obitos_confirmados\": 0, \"media_movel\": 0.2857142857142857}, {\"data\": \"2021-08-09\", \"obitos_confirmados\": 5, \"media_movel\": 1.0}, {\"data\": \"2021-08-10\", \"obitos_confirmados\": 0, \"media_movel\": 1.0}, {\"data\": \"2021-08-11\", \"obitos_confirmados\": 3, \"media_movel\": 1.1428571428571428}, {\"data\": \"2021-08-12\", \"obitos_confirmados\": 1, \"media_movel\": 1.2857142857142858}, {\"data\": \"2021-08-13\", \"obitos_confirmados\": 0, \"media_movel\": 1.2857142857142858}, {\"data\": \"2021-08-14\", \"obitos_confirmados\": 0, \"media_movel\": 1.2857142857142858}, {\"data\": \"2021-08-15\", \"obitos_confirmados\": 0, \"media_movel\": 1.2857142857142858}, {\"data\": \"2021-08-16\", \"obitos_confirmados\": 3, \"media_movel\": 1.0}, {\"data\": \"2021-08-17\", \"obitos_confirmados\": 3, \"media_movel\": 1.4285714285714286}, {\"data\": \"2021-08-18\", \"obitos_confirmados\": 1, \"media_movel\": 1.1428571428571428}, {\"data\": \"2021-08-19\", \"obitos_confirmados\": 0, \"media_movel\": 1.0}, {\"data\": \"2021-08-20\", \"obitos_confirmados\": 1, \"media_movel\": 1.1428571428571428}, {\"data\": \"2021-08-21\", \"obitos_confirmados\": 0, \"media_movel\": 1.1428571428571428}, {\"data\": \"2021-08-22\", \"obitos_confirmados\": 0, \"media_movel\": 1.1428571428571428}, {\"data\": \"2021-08-23\", \"obitos_confirmados\": 4, \"media_movel\": 1.2857142857142858}, {\"data\": \"2021-08-24\", \"obitos_confirmados\": 0, \"media_movel\": 0.8571428571428571}, {\"data\": \"2021-08-25\", \"obitos_confirmados\": 0, \"media_movel\": 0.7142857142857143}, {\"data\": \"2021-08-26\", \"obitos_confirmados\": 0, \"media_movel\": 0.7142857142857143}, {\"data\": \"2021-08-27\", \"obitos_confirmados\": 0, \"media_movel\": 0.5714285714285714}, {\"data\": \"2021-08-28\", \"obitos_confirmados\": 0, \"media_movel\": 0.5714285714285714}, {\"data\": \"2021-08-29\", \"obitos_confirmados\": 0, \"media_movel\": 0.5714285714285714}, {\"data\": \"2021-08-30\", \"obitos_confirmados\": 2, \"media_movel\": 0.2857142857142857}, {\"data\": \"2021-08-31\", \"obitos_confirmados\": 1, \"media_movel\": 0.42857142857142855}]}}, {\"mode\": \"vega-lite\"});\n",
       "</script>"
      ],
      "text/plain": [
       "alt.Chart(...)"
      ]
     },
     "execution_count": 278,
     "metadata": {},
     "output_type": "execute_result"
    }
   ],
   "source": [
    "graph_dm_obitosPorDia = alt.Chart(dm_obitosPorDia).mark_line().encode(\n",
    "    alt.X('data:T', title='Data'),\n",
    "    alt.Y('obitos_confirmados:Q', title='Obitos Confirmados'),\n",
    "    color=alt.value('darkorange')\n",
    ").properties(\n",
    "    width=800,\n",
    "    title='Obitos Confirmados por Dia (Dados Municipal)'\n",
    ")\n",
    "\n",
    "graph_dm_obitosPorDia"
   ]
  },
  {
   "cell_type": "code",
   "execution_count": 279,
   "metadata": {},
   "outputs": [],
   "source": [
    "# Gerando o grafico de média movel\n",
    "graph_dm_obitosMedMovel = alt.Chart(dm_obitosPorDia).mark_line(\n",
    "    point=True\n",
    ").encode(\n",
    "    alt.X('data:T', title='Data'),\n",
    "    alt.Y('media_movel:Q', title='Obitos Confirmados'),\n",
    "    color=alt.value('black')\n",
    ")"
   ]
  },
  {
   "cell_type": "code",
   "execution_count": 280,
   "metadata": {},
   "outputs": [
    {
     "data": {
      "text/html": [
       "\n",
       "<div id=\"altair-viz-f86d018a0bad4630b8f2bcedd915b2be\"></div>\n",
       "<script type=\"text/javascript\">\n",
       "  (function(spec, embedOpt){\n",
       "    let outputDiv = document.currentScript.previousElementSibling;\n",
       "    if (outputDiv.id !== \"altair-viz-f86d018a0bad4630b8f2bcedd915b2be\") {\n",
       "      outputDiv = document.getElementById(\"altair-viz-f86d018a0bad4630b8f2bcedd915b2be\");\n",
       "    }\n",
       "    const paths = {\n",
       "      \"vega\": \"https://cdn.jsdelivr.net/npm//vega@5?noext\",\n",
       "      \"vega-lib\": \"https://cdn.jsdelivr.net/npm//vega-lib?noext\",\n",
       "      \"vega-lite\": \"https://cdn.jsdelivr.net/npm//vega-lite@4.8.1?noext\",\n",
       "      \"vega-embed\": \"https://cdn.jsdelivr.net/npm//vega-embed@6?noext\",\n",
       "    };\n",
       "\n",
       "    function loadScript(lib) {\n",
       "      return new Promise(function(resolve, reject) {\n",
       "        var s = document.createElement('script');\n",
       "        s.src = paths[lib];\n",
       "        s.async = true;\n",
       "        s.onload = () => resolve(paths[lib]);\n",
       "        s.onerror = () => reject(`Error loading script: ${paths[lib]}`);\n",
       "        document.getElementsByTagName(\"head\")[0].appendChild(s);\n",
       "      });\n",
       "    }\n",
       "\n",
       "    function showError(err) {\n",
       "      outputDiv.innerHTML = `<div class=\"error\" style=\"color:red;\">${err}</div>`;\n",
       "      throw err;\n",
       "    }\n",
       "\n",
       "    function displayChart(vegaEmbed) {\n",
       "      vegaEmbed(outputDiv, spec, embedOpt)\n",
       "        .catch(err => showError(`Javascript Error: ${err.message}<br>This usually means there's a typo in your chart specification. See the javascript console for the full traceback.`));\n",
       "    }\n",
       "\n",
       "    if(typeof define === \"function\" && define.amd) {\n",
       "      requirejs.config({paths});\n",
       "      require([\"vega-embed\"], displayChart, err => showError(`Error loading script: ${err.message}`));\n",
       "    } else if (typeof vegaEmbed === \"function\") {\n",
       "      displayChart(vegaEmbed);\n",
       "    } else {\n",
       "      loadScript(\"vega\")\n",
       "        .then(() => loadScript(\"vega-lite\"))\n",
       "        .then(() => loadScript(\"vega-embed\"))\n",
       "        .catch(showError)\n",
       "        .then(() => displayChart(vegaEmbed));\n",
       "    }\n",
       "  })({\"config\": {\"view\": {\"continuousWidth\": 400, \"continuousHeight\": 300}}, \"layer\": [{\"mark\": \"line\", \"encoding\": {\"color\": {\"value\": \"darkorange\"}, \"x\": {\"type\": \"temporal\", \"field\": \"data\", \"title\": \"Data\"}, \"y\": {\"type\": \"quantitative\", \"field\": \"obitos_confirmados\", \"title\": \"Obitos Confirmados\"}}, \"title\": \"Obitos Confirmados por Dia (Dados Municipal)\", \"width\": 800}, {\"mark\": {\"type\": \"line\", \"point\": true}, \"encoding\": {\"color\": {\"value\": \"black\"}, \"x\": {\"type\": \"temporal\", \"field\": \"data\", \"title\": \"Data\"}, \"y\": {\"type\": \"quantitative\", \"field\": \"media_movel\", \"title\": \"Obitos Confirmados\"}}}], \"data\": {\"name\": \"data-86e69fd79068368654854438faa44432\"}, \"$schema\": \"https://vega.github.io/schema/vega-lite/v4.8.1.json\", \"datasets\": {\"data-86e69fd79068368654854438faa44432\": [{\"data\": \"2021-06-01\", \"obitos_confirmados\": 3, \"media_movel\": null}, {\"data\": \"2021-06-02\", \"obitos_confirmados\": 4, \"media_movel\": null}, {\"data\": \"2021-06-03\", \"obitos_confirmados\": 4, \"media_movel\": null}, {\"data\": \"2021-06-04\", \"obitos_confirmados\": 6, \"media_movel\": null}, {\"data\": \"2021-06-05\", \"obitos_confirmados\": 4, \"media_movel\": null}, {\"data\": \"2021-06-06\", \"obitos_confirmados\": 4, \"media_movel\": null}, {\"data\": \"2021-06-07\", \"obitos_confirmados\": 5, \"media_movel\": 4.285714285714286}, {\"data\": \"2021-06-08\", \"obitos_confirmados\": 4, \"media_movel\": 4.428571428571429}, {\"data\": \"2021-06-09\", \"obitos_confirmados\": 6, \"media_movel\": 4.714285714285714}, {\"data\": \"2021-06-10\", \"obitos_confirmados\": 8, \"media_movel\": 5.285714285714286}, {\"data\": \"2021-06-11\", \"obitos_confirmados\": 12, \"media_movel\": 6.142857142857143}, {\"data\": \"2021-06-12\", \"obitos_confirmados\": 4, \"media_movel\": 6.142857142857143}, {\"data\": \"2021-06-13\", \"obitos_confirmados\": 6, \"media_movel\": 6.428571428571429}, {\"data\": \"2021-06-14\", \"obitos_confirmados\": 4, \"media_movel\": 6.285714285714286}, {\"data\": \"2021-06-15\", \"obitos_confirmados\": 4, \"media_movel\": 6.285714285714286}, {\"data\": \"2021-06-16\", \"obitos_confirmados\": 5, \"media_movel\": 6.142857142857143}, {\"data\": \"2021-06-17\", \"obitos_confirmados\": 4, \"media_movel\": 5.571428571428571}, {\"data\": \"2021-06-18\", \"obitos_confirmados\": 6, \"media_movel\": 4.714285714285714}, {\"data\": \"2021-06-19\", \"obitos_confirmados\": 4, \"media_movel\": 4.714285714285714}, {\"data\": \"2021-06-20\", \"obitos_confirmados\": 4, \"media_movel\": 4.428571428571429}, {\"data\": \"2021-06-21\", \"obitos_confirmados\": 6, \"media_movel\": 4.714285714285714}, {\"data\": \"2021-06-22\", \"obitos_confirmados\": 6, \"media_movel\": 5.0}, {\"data\": \"2021-06-23\", \"obitos_confirmados\": 6, \"media_movel\": 5.142857142857143}, {\"data\": \"2021-06-24\", \"obitos_confirmados\": 6, \"media_movel\": 5.428571428571429}, {\"data\": \"2021-06-25\", \"obitos_confirmados\": 6, \"media_movel\": 5.428571428571429}, {\"data\": \"2021-06-26\", \"obitos_confirmados\": 6, \"media_movel\": 5.714285714285714}, {\"data\": \"2021-06-27\", \"obitos_confirmados\": 7, \"media_movel\": 6.142857142857143}, {\"data\": \"2021-06-28\", \"obitos_confirmados\": 6, \"media_movel\": 6.142857142857143}, {\"data\": \"2021-06-29\", \"obitos_confirmados\": 5, \"media_movel\": 6.0}, {\"data\": \"2021-06-30\", \"obitos_confirmados\": 5, \"media_movel\": 5.857142857142857}, {\"data\": \"2021-07-01\", \"obitos_confirmados\": 3, \"media_movel\": 5.428571428571429}, {\"data\": \"2021-07-03\", \"obitos_confirmados\": 7, \"media_movel\": 5.571428571428571}, {\"data\": \"2021-07-04\", \"obitos_confirmados\": 3, \"media_movel\": 5.142857142857143}, {\"data\": \"2021-07-05\", \"obitos_confirmados\": 4, \"media_movel\": 4.714285714285714}, {\"data\": \"2021-07-06\", \"obitos_confirmados\": 3, \"media_movel\": 4.285714285714286}, {\"data\": \"2021-07-07\", \"obitos_confirmados\": 4, \"media_movel\": 4.142857142857143}, {\"data\": \"2021-07-08\", \"obitos_confirmados\": 3, \"media_movel\": 3.857142857142857}, {\"data\": \"2021-07-09\", \"obitos_confirmados\": 3, \"media_movel\": 3.857142857142857}, {\"data\": \"2021-07-10\", \"obitos_confirmados\": 3, \"media_movel\": 3.2857142857142856}, {\"data\": \"2021-07-11\", \"obitos_confirmados\": 2, \"media_movel\": 3.142857142857143}, {\"data\": \"2021-07-12\", \"obitos_confirmados\": 3, \"media_movel\": 3.0}, {\"data\": \"2021-07-13\", \"obitos_confirmados\": 0, \"media_movel\": 2.5714285714285716}, {\"data\": \"2021-07-14\", \"obitos_confirmados\": 0, \"media_movel\": 2.0}, {\"data\": \"2021-07-15\", \"obitos_confirmados\": 2, \"media_movel\": 1.8571428571428572}, {\"data\": \"2021-07-16\", \"obitos_confirmados\": 0, \"media_movel\": 1.4285714285714286}, {\"data\": \"2021-07-17\", \"obitos_confirmados\": 2, \"media_movel\": 1.2857142857142858}, {\"data\": \"2021-07-18\", \"obitos_confirmados\": 0, \"media_movel\": 1.0}, {\"data\": \"2021-07-19\", \"obitos_confirmados\": 2, \"media_movel\": 0.8571428571428571}, {\"data\": \"2021-07-20\", \"obitos_confirmados\": 1, \"media_movel\": 1.0}, {\"data\": \"2021-07-21\", \"obitos_confirmados\": 0, \"media_movel\": 1.0}, {\"data\": \"2021-07-22\", \"obitos_confirmados\": 1, \"media_movel\": 0.8571428571428571}, {\"data\": \"2021-07-23\", \"obitos_confirmados\": 1, \"media_movel\": 1.0}, {\"data\": \"2021-07-24\", \"obitos_confirmados\": 2, \"media_movel\": 1.0}, {\"data\": \"2021-07-25\", \"obitos_confirmados\": 0, \"media_movel\": 1.0}, {\"data\": \"2021-07-26\", \"obitos_confirmados\": 3, \"media_movel\": 1.1428571428571428}, {\"data\": \"2021-07-27\", \"obitos_confirmados\": 1, \"media_movel\": 1.1428571428571428}, {\"data\": \"2021-07-28\", \"obitos_confirmados\": 3, \"media_movel\": 1.5714285714285714}, {\"data\": \"2021-07-29\", \"obitos_confirmados\": 3, \"media_movel\": 1.8571428571428572}, {\"data\": \"2021-07-30\", \"obitos_confirmados\": 0, \"media_movel\": 1.7142857142857142}, {\"data\": \"2021-07-31\", \"obitos_confirmados\": 1, \"media_movel\": 1.5714285714285714}, {\"data\": \"2021-08-01\", \"obitos_confirmados\": 0, \"media_movel\": 1.5714285714285714}, {\"data\": \"2021-08-02\", \"obitos_confirmados\": 0, \"media_movel\": 1.1428571428571428}, {\"data\": \"2021-08-03\", \"obitos_confirmados\": 0, \"media_movel\": 1.0}, {\"data\": \"2021-08-04\", \"obitos_confirmados\": 2, \"media_movel\": 0.8571428571428571}, {\"data\": \"2021-08-05\", \"obitos_confirmados\": 0, \"media_movel\": 0.42857142857142855}, {\"data\": \"2021-08-06\", \"obitos_confirmados\": 0, \"media_movel\": 0.42857142857142855}, {\"data\": \"2021-08-07\", \"obitos_confirmados\": 0, \"media_movel\": 0.2857142857142857}, {\"data\": \"2021-08-08\", \"obitos_confirmados\": 0, \"media_movel\": 0.2857142857142857}, {\"data\": \"2021-08-09\", \"obitos_confirmados\": 5, \"media_movel\": 1.0}, {\"data\": \"2021-08-10\", \"obitos_confirmados\": 0, \"media_movel\": 1.0}, {\"data\": \"2021-08-11\", \"obitos_confirmados\": 3, \"media_movel\": 1.1428571428571428}, {\"data\": \"2021-08-12\", \"obitos_confirmados\": 1, \"media_movel\": 1.2857142857142858}, {\"data\": \"2021-08-13\", \"obitos_confirmados\": 0, \"media_movel\": 1.2857142857142858}, {\"data\": \"2021-08-14\", \"obitos_confirmados\": 0, \"media_movel\": 1.2857142857142858}, {\"data\": \"2021-08-15\", \"obitos_confirmados\": 0, \"media_movel\": 1.2857142857142858}, {\"data\": \"2021-08-16\", \"obitos_confirmados\": 3, \"media_movel\": 1.0}, {\"data\": \"2021-08-17\", \"obitos_confirmados\": 3, \"media_movel\": 1.4285714285714286}, {\"data\": \"2021-08-18\", \"obitos_confirmados\": 1, \"media_movel\": 1.1428571428571428}, {\"data\": \"2021-08-19\", \"obitos_confirmados\": 0, \"media_movel\": 1.0}, {\"data\": \"2021-08-20\", \"obitos_confirmados\": 1, \"media_movel\": 1.1428571428571428}, {\"data\": \"2021-08-21\", \"obitos_confirmados\": 0, \"media_movel\": 1.1428571428571428}, {\"data\": \"2021-08-22\", \"obitos_confirmados\": 0, \"media_movel\": 1.1428571428571428}, {\"data\": \"2021-08-23\", \"obitos_confirmados\": 4, \"media_movel\": 1.2857142857142858}, {\"data\": \"2021-08-24\", \"obitos_confirmados\": 0, \"media_movel\": 0.8571428571428571}, {\"data\": \"2021-08-25\", \"obitos_confirmados\": 0, \"media_movel\": 0.7142857142857143}, {\"data\": \"2021-08-26\", \"obitos_confirmados\": 0, \"media_movel\": 0.7142857142857143}, {\"data\": \"2021-08-27\", \"obitos_confirmados\": 0, \"media_movel\": 0.5714285714285714}, {\"data\": \"2021-08-28\", \"obitos_confirmados\": 0, \"media_movel\": 0.5714285714285714}, {\"data\": \"2021-08-29\", \"obitos_confirmados\": 0, \"media_movel\": 0.5714285714285714}, {\"data\": \"2021-08-30\", \"obitos_confirmados\": 2, \"media_movel\": 0.2857142857142857}, {\"data\": \"2021-08-31\", \"obitos_confirmados\": 1, \"media_movel\": 0.42857142857142855}]}}, {\"mode\": \"vega-lite\"});\n",
       "</script>"
      ],
      "text/plain": [
       "alt.LayerChart(...)"
      ]
     },
     "execution_count": 280,
     "metadata": {},
     "output_type": "execute_result"
    }
   ],
   "source": [
    "graph_dm_omm = graph_dm_obitosPorDia + graph_dm_obitosMedMovel\n",
    "graph_dm_omm"
   ]
  },
  {
   "cell_type": "markdown",
   "metadata": {},
   "source": [
    "# Comparando os dados Federais e Municipais"
   ]
  },
  {
   "cell_type": "code",
   "execution_count": 281,
   "metadata": {},
   "outputs": [
    {
     "data": {
      "text/html": [
       "\n",
       "<div id=\"altair-viz-8caf8fab9773444f8fa1dbe02ed72c5a\"></div>\n",
       "<script type=\"text/javascript\">\n",
       "  (function(spec, embedOpt){\n",
       "    let outputDiv = document.currentScript.previousElementSibling;\n",
       "    if (outputDiv.id !== \"altair-viz-8caf8fab9773444f8fa1dbe02ed72c5a\") {\n",
       "      outputDiv = document.getElementById(\"altair-viz-8caf8fab9773444f8fa1dbe02ed72c5a\");\n",
       "    }\n",
       "    const paths = {\n",
       "      \"vega\": \"https://cdn.jsdelivr.net/npm//vega@5?noext\",\n",
       "      \"vega-lib\": \"https://cdn.jsdelivr.net/npm//vega-lib?noext\",\n",
       "      \"vega-lite\": \"https://cdn.jsdelivr.net/npm//vega-lite@4.8.1?noext\",\n",
       "      \"vega-embed\": \"https://cdn.jsdelivr.net/npm//vega-embed@6?noext\",\n",
       "    };\n",
       "\n",
       "    function loadScript(lib) {\n",
       "      return new Promise(function(resolve, reject) {\n",
       "        var s = document.createElement('script');\n",
       "        s.src = paths[lib];\n",
       "        s.async = true;\n",
       "        s.onload = () => resolve(paths[lib]);\n",
       "        s.onerror = () => reject(`Error loading script: ${paths[lib]}`);\n",
       "        document.getElementsByTagName(\"head\")[0].appendChild(s);\n",
       "      });\n",
       "    }\n",
       "\n",
       "    function showError(err) {\n",
       "      outputDiv.innerHTML = `<div class=\"error\" style=\"color:red;\">${err}</div>`;\n",
       "      throw err;\n",
       "    }\n",
       "\n",
       "    function displayChart(vegaEmbed) {\n",
       "      vegaEmbed(outputDiv, spec, embedOpt)\n",
       "        .catch(err => showError(`Javascript Error: ${err.message}<br>This usually means there's a typo in your chart specification. See the javascript console for the full traceback.`));\n",
       "    }\n",
       "\n",
       "    if(typeof define === \"function\" && define.amd) {\n",
       "      requirejs.config({paths});\n",
       "      require([\"vega-embed\"], displayChart, err => showError(`Error loading script: ${err.message}`));\n",
       "    } else if (typeof vegaEmbed === \"function\") {\n",
       "      displayChart(vegaEmbed);\n",
       "    } else {\n",
       "      loadScript(\"vega\")\n",
       "        .then(() => loadScript(\"vega-lite\"))\n",
       "        .then(() => loadScript(\"vega-embed\"))\n",
       "        .catch(showError)\n",
       "        .then(() => displayChart(vegaEmbed));\n",
       "    }\n",
       "  })({\"config\": {\"view\": {\"continuousWidth\": 400, \"continuousHeight\": 300}}, \"layer\": [{\"data\": {\"name\": \"data-663376b4f0b5fa365fcd58d2514a196e\"}, \"mark\": \"line\", \"encoding\": {\"color\": {\"value\": \"dodgerblue\"}, \"x\": {\"type\": \"temporal\", \"field\": \"data\", \"title\": \"Data\"}, \"y\": {\"type\": \"quantitative\", \"field\": \"obitos_confirmados\", \"title\": \"Obitos Confirmados\"}}, \"title\": \"Obitos Confirmados por Dia (Painel Federal)\", \"width\": 800}, {\"data\": {\"name\": \"data-86e69fd79068368654854438faa44432\"}, \"mark\": \"line\", \"encoding\": {\"color\": {\"value\": \"darkorange\"}, \"x\": {\"type\": \"temporal\", \"field\": \"data\", \"title\": \"Data\"}, \"y\": {\"type\": \"quantitative\", \"field\": \"obitos_confirmados\", \"title\": \"Obitos Confirmados\"}}, \"title\": \"Obitos Confirmados por Dia (Dados Municipal)\", \"width\": 800}, {\"data\": {\"name\": \"data-c42db055c6ce216bc449159793e229f9\"}, \"mark\": \"line\", \"encoding\": {\"color\": {\"value\": \"forestgreen\"}, \"x\": {\"type\": \"temporal\", \"field\": \"data\", \"title\": \"Data\"}, \"y\": {\"type\": \"quantitative\", \"field\": \"obitos_confirmados\", \"title\": \"Obitos Confirmados\"}}, \"title\": \"Obitos Confirmados por Dia (Base Federal)\", \"width\": 800}], \"title\": \"Obitos Confirmados Por Dia (Compara\\u00e7\\u00e3o)\", \"$schema\": \"https://vega.github.io/schema/vega-lite/v4.8.1.json\", \"datasets\": {\"data-663376b4f0b5fa365fcd58d2514a196e\": [{\"data\": \"2021-06-01\", \"obitos_confirmados\": 4, \"media_movel\": null}, {\"data\": \"2021-06-02\", \"obitos_confirmados\": 5, \"media_movel\": null}, {\"data\": \"2021-06-03\", \"obitos_confirmados\": 3, \"media_movel\": null}, {\"data\": \"2021-06-04\", \"obitos_confirmados\": 3, \"media_movel\": null}, {\"data\": \"2021-06-05\", \"obitos_confirmados\": 7, \"media_movel\": null}, {\"data\": \"2021-06-06\", \"obitos_confirmados\": 6, \"media_movel\": null}, {\"data\": \"2021-06-07\", \"obitos_confirmados\": 2, \"media_movel\": 4.285714285714286}, {\"data\": \"2021-06-08\", \"obitos_confirmados\": 1, \"media_movel\": 3.857142857142857}, {\"data\": \"2021-06-09\", \"obitos_confirmados\": 5, \"media_movel\": 3.857142857142857}, {\"data\": \"2021-06-10\", \"obitos_confirmados\": 8, \"media_movel\": 4.571428571428571}, {\"data\": \"2021-06-11\", \"obitos_confirmados\": 7, \"media_movel\": 5.142857142857143}, {\"data\": \"2021-06-12\", \"obitos_confirmados\": 5, \"media_movel\": 4.857142857142857}, {\"data\": \"2021-06-13\", \"obitos_confirmados\": 6, \"media_movel\": 4.857142857142857}, {\"data\": \"2021-06-14\", \"obitos_confirmados\": 10, \"media_movel\": 6.0}, {\"data\": \"2021-06-15\", \"obitos_confirmados\": 2, \"media_movel\": 6.142857142857143}, {\"data\": \"2021-06-16\", \"obitos_confirmados\": 3, \"media_movel\": 5.857142857142857}, {\"data\": \"2021-06-17\", \"obitos_confirmados\": 3, \"media_movel\": 5.142857142857143}, {\"data\": \"2021-06-18\", \"obitos_confirmados\": 4, \"media_movel\": 4.714285714285714}, {\"data\": \"2021-06-19\", \"obitos_confirmados\": 2, \"media_movel\": 4.285714285714286}, {\"data\": \"2021-06-20\", \"obitos_confirmados\": 6, \"media_movel\": 4.285714285714286}, {\"data\": \"2021-06-21\", \"obitos_confirmados\": 3, \"media_movel\": 3.2857142857142856}, {\"data\": \"2021-06-22\", \"obitos_confirmados\": 3, \"media_movel\": 3.4285714285714284}, {\"data\": \"2021-06-23\", \"obitos_confirmados\": 1, \"media_movel\": 3.142857142857143}, {\"data\": \"2021-06-24\", \"obitos_confirmados\": 3, \"media_movel\": 3.142857142857143}, {\"data\": \"2021-06-25\", \"obitos_confirmados\": 3, \"media_movel\": 3.0}, {\"data\": \"2021-06-26\", \"obitos_confirmados\": 2, \"media_movel\": 3.0}, {\"data\": \"2021-06-27\", \"obitos_confirmados\": 3, \"media_movel\": 2.5714285714285716}, {\"data\": \"2021-06-28\", \"obitos_confirmados\": 1, \"media_movel\": 2.2857142857142856}, {\"data\": \"2021-06-29\", \"obitos_confirmados\": 4, \"media_movel\": 2.4285714285714284}, {\"data\": \"2021-06-30\", \"obitos_confirmados\": 1, \"media_movel\": 2.4285714285714284}, {\"data\": \"2021-07-01\", \"obitos_confirmados\": 2, \"media_movel\": 2.2857142857142856}, {\"data\": \"2021-07-02\", \"obitos_confirmados\": 4, \"media_movel\": 2.4285714285714284}, {\"data\": \"2021-07-03\", \"obitos_confirmados\": 3, \"media_movel\": 2.5714285714285716}, {\"data\": \"2021-07-04\", \"obitos_confirmados\": 2, \"media_movel\": 2.4285714285714284}, {\"data\": \"2021-07-05\", \"obitos_confirmados\": -1, \"media_movel\": 2.142857142857143}, {\"data\": \"2021-07-06\", \"obitos_confirmados\": 4, \"media_movel\": 2.142857142857143}, {\"data\": \"2021-07-07\", \"obitos_confirmados\": 5, \"media_movel\": 2.7142857142857144}, {\"data\": \"2021-07-08\", \"obitos_confirmados\": 2, \"media_movel\": 2.7142857142857144}, {\"data\": \"2021-07-09\", \"obitos_confirmados\": 2, \"media_movel\": 2.4285714285714284}, {\"data\": \"2021-07-10\", \"obitos_confirmados\": 2, \"media_movel\": 2.2857142857142856}, {\"data\": \"2021-07-11\", \"obitos_confirmados\": 1, \"media_movel\": 2.142857142857143}, {\"data\": \"2021-07-12\", \"obitos_confirmados\": 0, \"media_movel\": 2.2857142857142856}, {\"data\": \"2021-07-13\", \"obitos_confirmados\": 0, \"media_movel\": 1.7142857142857142}, {\"data\": \"2021-07-14\", \"obitos_confirmados\": 3, \"media_movel\": 1.4285714285714286}, {\"data\": \"2021-07-15\", \"obitos_confirmados\": 2, \"media_movel\": 1.4285714285714286}, {\"data\": \"2021-07-16\", \"obitos_confirmados\": 1, \"media_movel\": 1.2857142857142858}, {\"data\": \"2021-07-17\", \"obitos_confirmados\": 1, \"media_movel\": 1.1428571428571428}, {\"data\": \"2021-07-18\", \"obitos_confirmados\": 0, \"media_movel\": 1.0}, {\"data\": \"2021-07-19\", \"obitos_confirmados\": 2, \"media_movel\": 1.2857142857142858}, {\"data\": \"2021-07-20\", \"obitos_confirmados\": 1, \"media_movel\": 1.4285714285714286}, {\"data\": \"2021-07-21\", \"obitos_confirmados\": -1, \"media_movel\": 0.8571428571428571}, {\"data\": \"2021-07-22\", \"obitos_confirmados\": 2, \"media_movel\": 0.8571428571428571}, {\"data\": \"2021-07-23\", \"obitos_confirmados\": 2, \"media_movel\": 1.0}, {\"data\": \"2021-07-24\", \"obitos_confirmados\": 3, \"media_movel\": 1.2857142857142858}, {\"data\": \"2021-07-25\", \"obitos_confirmados\": 3, \"media_movel\": 1.7142857142857142}, {\"data\": \"2021-07-26\", \"obitos_confirmados\": 0, \"media_movel\": 1.4285714285714286}, {\"data\": \"2021-07-27\", \"obitos_confirmados\": 1, \"media_movel\": 1.4285714285714286}, {\"data\": \"2021-07-28\", \"obitos_confirmados\": 3, \"media_movel\": 2.0}, {\"data\": \"2021-07-29\", \"obitos_confirmados\": 1, \"media_movel\": 1.8571428571428572}, {\"data\": \"2021-07-30\", \"obitos_confirmados\": 0, \"media_movel\": 1.5714285714285714}, {\"data\": \"2021-07-31\", \"obitos_confirmados\": 1, \"media_movel\": 1.2857142857142858}, {\"data\": \"2021-08-01\", \"obitos_confirmados\": 0, \"media_movel\": 0.8571428571428571}, {\"data\": \"2021-08-02\", \"obitos_confirmados\": 0, \"media_movel\": 0.8571428571428571}, {\"data\": \"2021-08-03\", \"obitos_confirmados\": 0, \"media_movel\": 0.7142857142857143}, {\"data\": \"2021-08-04\", \"obitos_confirmados\": 3, \"media_movel\": 0.7142857142857143}, {\"data\": \"2021-08-05\", \"obitos_confirmados\": 1, \"media_movel\": 0.7142857142857143}, {\"data\": \"2021-08-06\", \"obitos_confirmados\": 3, \"media_movel\": 1.1428571428571428}, {\"data\": \"2021-08-07\", \"obitos_confirmados\": 2, \"media_movel\": 1.2857142857142858}, {\"data\": \"2021-08-08\", \"obitos_confirmados\": 0, \"media_movel\": 1.2857142857142858}, {\"data\": \"2021-08-09\", \"obitos_confirmados\": 0, \"media_movel\": 1.2857142857142858}, {\"data\": \"2021-08-10\", \"obitos_confirmados\": 1, \"media_movel\": 1.4285714285714286}, {\"data\": \"2021-08-11\", \"obitos_confirmados\": 2, \"media_movel\": 1.2857142857142858}, {\"data\": \"2021-08-12\", \"obitos_confirmados\": 1, \"media_movel\": 1.2857142857142858}, {\"data\": \"2021-08-13\", \"obitos_confirmados\": 0, \"media_movel\": 0.8571428571428571}, {\"data\": \"2021-08-14\", \"obitos_confirmados\": 0, \"media_movel\": 0.5714285714285714}, {\"data\": \"2021-08-15\", \"obitos_confirmados\": 1, \"media_movel\": 0.7142857142857143}, {\"data\": \"2021-08-16\", \"obitos_confirmados\": 2, \"media_movel\": 1.0}, {\"data\": \"2021-08-17\", \"obitos_confirmados\": 4, \"media_movel\": 1.4285714285714286}, {\"data\": \"2021-08-18\", \"obitos_confirmados\": 0, \"media_movel\": 1.1428571428571428}, {\"data\": \"2021-08-19\", \"obitos_confirmados\": 1, \"media_movel\": 1.1428571428571428}, {\"data\": \"2021-08-20\", \"obitos_confirmados\": 0, \"media_movel\": 1.1428571428571428}, {\"data\": \"2021-08-21\", \"obitos_confirmados\": 4, \"media_movel\": 1.7142857142857142}, {\"data\": \"2021-08-22\", \"obitos_confirmados\": 0, \"media_movel\": 1.5714285714285714}, {\"data\": \"2021-08-23\", \"obitos_confirmados\": 1, \"media_movel\": 1.4285714285714286}, {\"data\": \"2021-08-24\", \"obitos_confirmados\": 0, \"media_movel\": 0.8571428571428571}, {\"data\": \"2021-08-25\", \"obitos_confirmados\": 0, \"media_movel\": 0.8571428571428571}, {\"data\": \"2021-08-26\", \"obitos_confirmados\": 1, \"media_movel\": 0.8571428571428571}, {\"data\": \"2021-08-27\", \"obitos_confirmados\": 1, \"media_movel\": 1.0}, {\"data\": \"2021-08-28\", \"obitos_confirmados\": 1, \"media_movel\": 0.5714285714285714}, {\"data\": \"2021-08-29\", \"obitos_confirmados\": 0, \"media_movel\": 0.5714285714285714}, {\"data\": \"2021-08-30\", \"obitos_confirmados\": 0, \"media_movel\": 0.42857142857142855}, {\"data\": \"2021-08-31\", \"obitos_confirmados\": 1, \"media_movel\": 0.5714285714285714}], \"data-86e69fd79068368654854438faa44432\": [{\"data\": \"2021-06-01\", \"obitos_confirmados\": 3, \"media_movel\": null}, {\"data\": \"2021-06-02\", \"obitos_confirmados\": 4, \"media_movel\": null}, {\"data\": \"2021-06-03\", \"obitos_confirmados\": 4, \"media_movel\": null}, {\"data\": \"2021-06-04\", \"obitos_confirmados\": 6, \"media_movel\": null}, {\"data\": \"2021-06-05\", \"obitos_confirmados\": 4, \"media_movel\": null}, {\"data\": \"2021-06-06\", \"obitos_confirmados\": 4, \"media_movel\": null}, {\"data\": \"2021-06-07\", \"obitos_confirmados\": 5, \"media_movel\": 4.285714285714286}, {\"data\": \"2021-06-08\", \"obitos_confirmados\": 4, \"media_movel\": 4.428571428571429}, {\"data\": \"2021-06-09\", \"obitos_confirmados\": 6, \"media_movel\": 4.714285714285714}, {\"data\": \"2021-06-10\", \"obitos_confirmados\": 8, \"media_movel\": 5.285714285714286}, {\"data\": \"2021-06-11\", \"obitos_confirmados\": 12, \"media_movel\": 6.142857142857143}, {\"data\": \"2021-06-12\", \"obitos_confirmados\": 4, \"media_movel\": 6.142857142857143}, {\"data\": \"2021-06-13\", \"obitos_confirmados\": 6, \"media_movel\": 6.428571428571429}, {\"data\": \"2021-06-14\", \"obitos_confirmados\": 4, \"media_movel\": 6.285714285714286}, {\"data\": \"2021-06-15\", \"obitos_confirmados\": 4, \"media_movel\": 6.285714285714286}, {\"data\": \"2021-06-16\", \"obitos_confirmados\": 5, \"media_movel\": 6.142857142857143}, {\"data\": \"2021-06-17\", \"obitos_confirmados\": 4, \"media_movel\": 5.571428571428571}, {\"data\": \"2021-06-18\", \"obitos_confirmados\": 6, \"media_movel\": 4.714285714285714}, {\"data\": \"2021-06-19\", \"obitos_confirmados\": 4, \"media_movel\": 4.714285714285714}, {\"data\": \"2021-06-20\", \"obitos_confirmados\": 4, \"media_movel\": 4.428571428571429}, {\"data\": \"2021-06-21\", \"obitos_confirmados\": 6, \"media_movel\": 4.714285714285714}, {\"data\": \"2021-06-22\", \"obitos_confirmados\": 6, \"media_movel\": 5.0}, {\"data\": \"2021-06-23\", \"obitos_confirmados\": 6, \"media_movel\": 5.142857142857143}, {\"data\": \"2021-06-24\", \"obitos_confirmados\": 6, \"media_movel\": 5.428571428571429}, {\"data\": \"2021-06-25\", \"obitos_confirmados\": 6, \"media_movel\": 5.428571428571429}, {\"data\": \"2021-06-26\", \"obitos_confirmados\": 6, \"media_movel\": 5.714285714285714}, {\"data\": \"2021-06-27\", \"obitos_confirmados\": 7, \"media_movel\": 6.142857142857143}, {\"data\": \"2021-06-28\", \"obitos_confirmados\": 6, \"media_movel\": 6.142857142857143}, {\"data\": \"2021-06-29\", \"obitos_confirmados\": 5, \"media_movel\": 6.0}, {\"data\": \"2021-06-30\", \"obitos_confirmados\": 5, \"media_movel\": 5.857142857142857}, {\"data\": \"2021-07-01\", \"obitos_confirmados\": 3, \"media_movel\": 5.428571428571429}, {\"data\": \"2021-07-03\", \"obitos_confirmados\": 7, \"media_movel\": 5.571428571428571}, {\"data\": \"2021-07-04\", \"obitos_confirmados\": 3, \"media_movel\": 5.142857142857143}, {\"data\": \"2021-07-05\", \"obitos_confirmados\": 4, \"media_movel\": 4.714285714285714}, {\"data\": \"2021-07-06\", \"obitos_confirmados\": 3, \"media_movel\": 4.285714285714286}, {\"data\": \"2021-07-07\", \"obitos_confirmados\": 4, \"media_movel\": 4.142857142857143}, {\"data\": \"2021-07-08\", \"obitos_confirmados\": 3, \"media_movel\": 3.857142857142857}, {\"data\": \"2021-07-09\", \"obitos_confirmados\": 3, \"media_movel\": 3.857142857142857}, {\"data\": \"2021-07-10\", \"obitos_confirmados\": 3, \"media_movel\": 3.2857142857142856}, {\"data\": \"2021-07-11\", \"obitos_confirmados\": 2, \"media_movel\": 3.142857142857143}, {\"data\": \"2021-07-12\", \"obitos_confirmados\": 3, \"media_movel\": 3.0}, {\"data\": \"2021-07-13\", \"obitos_confirmados\": 0, \"media_movel\": 2.5714285714285716}, {\"data\": \"2021-07-14\", \"obitos_confirmados\": 0, \"media_movel\": 2.0}, {\"data\": \"2021-07-15\", \"obitos_confirmados\": 2, \"media_movel\": 1.8571428571428572}, {\"data\": \"2021-07-16\", \"obitos_confirmados\": 0, \"media_movel\": 1.4285714285714286}, {\"data\": \"2021-07-17\", \"obitos_confirmados\": 2, \"media_movel\": 1.2857142857142858}, {\"data\": \"2021-07-18\", \"obitos_confirmados\": 0, \"media_movel\": 1.0}, {\"data\": \"2021-07-19\", \"obitos_confirmados\": 2, \"media_movel\": 0.8571428571428571}, {\"data\": \"2021-07-20\", \"obitos_confirmados\": 1, \"media_movel\": 1.0}, {\"data\": \"2021-07-21\", \"obitos_confirmados\": 0, \"media_movel\": 1.0}, {\"data\": \"2021-07-22\", \"obitos_confirmados\": 1, \"media_movel\": 0.8571428571428571}, {\"data\": \"2021-07-23\", \"obitos_confirmados\": 1, \"media_movel\": 1.0}, {\"data\": \"2021-07-24\", \"obitos_confirmados\": 2, \"media_movel\": 1.0}, {\"data\": \"2021-07-25\", \"obitos_confirmados\": 0, \"media_movel\": 1.0}, {\"data\": \"2021-07-26\", \"obitos_confirmados\": 3, \"media_movel\": 1.1428571428571428}, {\"data\": \"2021-07-27\", \"obitos_confirmados\": 1, \"media_movel\": 1.1428571428571428}, {\"data\": \"2021-07-28\", \"obitos_confirmados\": 3, \"media_movel\": 1.5714285714285714}, {\"data\": \"2021-07-29\", \"obitos_confirmados\": 3, \"media_movel\": 1.8571428571428572}, {\"data\": \"2021-07-30\", \"obitos_confirmados\": 0, \"media_movel\": 1.7142857142857142}, {\"data\": \"2021-07-31\", \"obitos_confirmados\": 1, \"media_movel\": 1.5714285714285714}, {\"data\": \"2021-08-01\", \"obitos_confirmados\": 0, \"media_movel\": 1.5714285714285714}, {\"data\": \"2021-08-02\", \"obitos_confirmados\": 0, \"media_movel\": 1.1428571428571428}, {\"data\": \"2021-08-03\", \"obitos_confirmados\": 0, \"media_movel\": 1.0}, {\"data\": \"2021-08-04\", \"obitos_confirmados\": 2, \"media_movel\": 0.8571428571428571}, {\"data\": \"2021-08-05\", \"obitos_confirmados\": 0, \"media_movel\": 0.42857142857142855}, {\"data\": \"2021-08-06\", \"obitos_confirmados\": 0, \"media_movel\": 0.42857142857142855}, {\"data\": \"2021-08-07\", \"obitos_confirmados\": 0, \"media_movel\": 0.2857142857142857}, {\"data\": \"2021-08-08\", \"obitos_confirmados\": 0, \"media_movel\": 0.2857142857142857}, {\"data\": \"2021-08-09\", \"obitos_confirmados\": 5, \"media_movel\": 1.0}, {\"data\": \"2021-08-10\", \"obitos_confirmados\": 0, \"media_movel\": 1.0}, {\"data\": \"2021-08-11\", \"obitos_confirmados\": 3, \"media_movel\": 1.1428571428571428}, {\"data\": \"2021-08-12\", \"obitos_confirmados\": 1, \"media_movel\": 1.2857142857142858}, {\"data\": \"2021-08-13\", \"obitos_confirmados\": 0, \"media_movel\": 1.2857142857142858}, {\"data\": \"2021-08-14\", \"obitos_confirmados\": 0, \"media_movel\": 1.2857142857142858}, {\"data\": \"2021-08-15\", \"obitos_confirmados\": 0, \"media_movel\": 1.2857142857142858}, {\"data\": \"2021-08-16\", \"obitos_confirmados\": 3, \"media_movel\": 1.0}, {\"data\": \"2021-08-17\", \"obitos_confirmados\": 3, \"media_movel\": 1.4285714285714286}, {\"data\": \"2021-08-18\", \"obitos_confirmados\": 1, \"media_movel\": 1.1428571428571428}, {\"data\": \"2021-08-19\", \"obitos_confirmados\": 0, \"media_movel\": 1.0}, {\"data\": \"2021-08-20\", \"obitos_confirmados\": 1, \"media_movel\": 1.1428571428571428}, {\"data\": \"2021-08-21\", \"obitos_confirmados\": 0, \"media_movel\": 1.1428571428571428}, {\"data\": \"2021-08-22\", \"obitos_confirmados\": 0, \"media_movel\": 1.1428571428571428}, {\"data\": \"2021-08-23\", \"obitos_confirmados\": 4, \"media_movel\": 1.2857142857142858}, {\"data\": \"2021-08-24\", \"obitos_confirmados\": 0, \"media_movel\": 0.8571428571428571}, {\"data\": \"2021-08-25\", \"obitos_confirmados\": 0, \"media_movel\": 0.7142857142857143}, {\"data\": \"2021-08-26\", \"obitos_confirmados\": 0, \"media_movel\": 0.7142857142857143}, {\"data\": \"2021-08-27\", \"obitos_confirmados\": 0, \"media_movel\": 0.5714285714285714}, {\"data\": \"2021-08-28\", \"obitos_confirmados\": 0, \"media_movel\": 0.5714285714285714}, {\"data\": \"2021-08-29\", \"obitos_confirmados\": 0, \"media_movel\": 0.5714285714285714}, {\"data\": \"2021-08-30\", \"obitos_confirmados\": 2, \"media_movel\": 0.2857142857142857}, {\"data\": \"2021-08-31\", \"obitos_confirmados\": 1, \"media_movel\": 0.42857142857142855}], \"data-c42db055c6ce216bc449159793e229f9\": [{\"data\": \"2021-06-01\", \"obitos_confirmados\": 2.0, \"media_movel\": null}, {\"data\": \"2021-06-02\", \"obitos_confirmados\": 6.0, \"media_movel\": null}, {\"data\": \"2021-06-03\", \"obitos_confirmados\": 2.0, \"media_movel\": null}, {\"data\": \"2021-06-04\", \"obitos_confirmados\": 1.0, \"media_movel\": null}, {\"data\": \"2021-06-05\", \"obitos_confirmados\": 5.0, \"media_movel\": null}, {\"data\": \"2021-06-06\", \"obitos_confirmados\": 6.0, \"media_movel\": null}, {\"data\": \"2021-06-07\", \"obitos_confirmados\": 5.0, \"media_movel\": 3.857142857142857}, {\"data\": \"2021-06-08\", \"obitos_confirmados\": 3.0, \"media_movel\": 4.0}, {\"data\": \"2021-06-09\", \"obitos_confirmados\": 6.0, \"media_movel\": 4.0}, {\"data\": \"2021-06-10\", \"obitos_confirmados\": 1.0, \"media_movel\": 3.857142857142857}, {\"data\": \"2021-06-11\", \"obitos_confirmados\": 6.0, \"media_movel\": 4.571428571428571}, {\"data\": \"2021-06-12\", \"obitos_confirmados\": 6.0, \"media_movel\": 4.714285714285714}, {\"data\": \"2021-06-13\", \"obitos_confirmados\": 7.0, \"media_movel\": 4.857142857142857}, {\"data\": \"2021-06-14\", \"obitos_confirmados\": 4.0, \"media_movel\": 4.714285714285714}, {\"data\": \"2021-06-15\", \"obitos_confirmados\": 4.0, \"media_movel\": 4.857142857142857}, {\"data\": \"2021-06-16\", \"obitos_confirmados\": 5.0, \"media_movel\": 4.714285714285714}, {\"data\": \"2021-06-17\", \"obitos_confirmados\": 4.0, \"media_movel\": 5.142857142857143}, {\"data\": \"2021-06-18\", \"obitos_confirmados\": 7.0, \"media_movel\": 5.285714285714286}, {\"data\": \"2021-06-19\", \"obitos_confirmados\": 5.0, \"media_movel\": 5.142857142857143}, {\"data\": \"2021-06-20\", \"obitos_confirmados\": 6.0, \"media_movel\": 5.0}, {\"data\": \"2021-06-21\", \"obitos_confirmados\": 3.0, \"media_movel\": 4.857142857142857}, {\"data\": \"2021-06-22\", \"obitos_confirmados\": 1.0, \"media_movel\": 4.428571428571429}, {\"data\": \"2021-06-23\", \"obitos_confirmados\": 2.0, \"media_movel\": 4.0}, {\"data\": \"2021-06-24\", \"obitos_confirmados\": 3.0, \"media_movel\": 3.857142857142857}, {\"data\": \"2021-06-25\", \"obitos_confirmados\": 1.0, \"media_movel\": 3.0}, {\"data\": \"2021-06-27\", \"obitos_confirmados\": 2.0, \"media_movel\": 2.5714285714285716}, {\"data\": \"2021-06-26\", \"obitos_confirmados\": 0.0, \"media_movel\": 1.7142857142857142}, {\"data\": \"2021-06-28\", \"obitos_confirmados\": 2.0, \"media_movel\": 1.5714285714285714}, {\"data\": \"2021-06-29\", \"obitos_confirmados\": 1.0, \"media_movel\": 1.5714285714285714}, {\"data\": \"2021-06-30\", \"obitos_confirmados\": 3.0, \"media_movel\": 1.7142857142857142}, {\"data\": \"2021-07-01\", \"obitos_confirmados\": 3.0, \"media_movel\": 1.7142857142857142}, {\"data\": \"2021-07-02\", \"obitos_confirmados\": 2.0, \"media_movel\": 1.8571428571428572}, {\"data\": \"2021-07-03\", \"obitos_confirmados\": 2.0, \"media_movel\": 1.8571428571428572}, {\"data\": \"2021-07-04\", \"obitos_confirmados\": 3.0, \"media_movel\": 2.2857142857142856}, {\"data\": \"2021-07-05\", \"obitos_confirmados\": 6.0, \"media_movel\": 2.857142857142857}, {\"data\": \"2021-07-06\", \"obitos_confirmados\": 2.0, \"media_movel\": 3.0}, {\"data\": \"2021-07-07\", \"obitos_confirmados\": 0.0, \"media_movel\": 2.5714285714285716}, {\"data\": \"2021-07-08\", \"obitos_confirmados\": 1.0, \"media_movel\": 2.2857142857142856}, {\"data\": \"2021-07-09\", \"obitos_confirmados\": 5.0, \"media_movel\": 2.7142857142857144}, {\"data\": \"2021-07-10\", \"obitos_confirmados\": 1.0, \"media_movel\": 2.5714285714285716}, {\"data\": \"2021-07-11\", \"obitos_confirmados\": 1.0, \"media_movel\": 2.2857142857142856}, {\"data\": \"2021-07-12\", \"obitos_confirmados\": 2.0, \"media_movel\": 1.7142857142857142}, {\"data\": \"2021-07-13\", \"obitos_confirmados\": 2.0, \"media_movel\": 1.7142857142857142}, {\"data\": \"2021-07-14\", \"obitos_confirmados\": 1.0, \"media_movel\": 1.8571428571428572}, {\"data\": \"2021-07-15\", \"obitos_confirmados\": 1.0, \"media_movel\": 1.8571428571428572}, {\"data\": \"2021-07-16\", \"obitos_confirmados\": 0.0, \"media_movel\": 1.1428571428571428}, {\"data\": \"2021-07-17\", \"obitos_confirmados\": 2.0, \"media_movel\": 1.2857142857142858}, {\"data\": \"2021-07-18\", \"obitos_confirmados\": 4.0, \"media_movel\": 1.7142857142857142}, {\"data\": \"2021-07-19\", \"obitos_confirmados\": 3.0, \"media_movel\": 1.8571428571428572}, {\"data\": \"2021-07-20\", \"obitos_confirmados\": 0.0, \"media_movel\": 1.5714285714285714}, {\"data\": \"2021-07-21\", \"obitos_confirmados\": 1.0, \"media_movel\": 1.5714285714285714}, {\"data\": \"2021-07-22\", \"obitos_confirmados\": 0.0, \"media_movel\": 1.4285714285714286}, {\"data\": \"2021-07-23\", \"obitos_confirmados\": 4.0, \"media_movel\": 2.0}, {\"data\": \"2021-07-24\", \"obitos_confirmados\": 0.0, \"media_movel\": 1.7142857142857142}, {\"data\": \"2021-07-25\", \"obitos_confirmados\": 7.0, \"media_movel\": 2.142857142857143}, {\"data\": \"2021-07-26\", \"obitos_confirmados\": 1.0, \"media_movel\": 1.8571428571428572}, {\"data\": \"2021-07-27\", \"obitos_confirmados\": 1.0, \"media_movel\": 2.0}, {\"data\": \"2021-07-28\", \"obitos_confirmados\": 1.0, \"media_movel\": 2.0}, {\"data\": \"2021-07-29\", \"obitos_confirmados\": 1.0, \"media_movel\": 2.142857142857143}, {\"data\": \"2021-07-30\", \"obitos_confirmados\": 2.0, \"media_movel\": 1.8571428571428572}, {\"data\": \"2021-07-31\", \"obitos_confirmados\": 2.0, \"media_movel\": 2.142857142857143}, {\"data\": \"2021-08-01\", \"obitos_confirmados\": 3.0, \"media_movel\": 1.5714285714285714}, {\"data\": \"2021-08-02\", \"obitos_confirmados\": 0.0, \"media_movel\": 1.4285714285714286}, {\"data\": \"2021-08-03\", \"obitos_confirmados\": 5.0, \"media_movel\": 2.0}, {\"data\": \"2021-08-04\", \"obitos_confirmados\": 0.0, \"media_movel\": 1.8571428571428572}, {\"data\": \"2021-08-05\", \"obitos_confirmados\": 1.0, \"media_movel\": 1.8571428571428572}, {\"data\": \"2021-08-06\", \"obitos_confirmados\": 1.0, \"media_movel\": 1.7142857142857142}, {\"data\": \"2021-08-07\", \"obitos_confirmados\": 2.0, \"media_movel\": 1.7142857142857142}, {\"data\": \"2021-08-08\", \"obitos_confirmados\": 1.0, \"media_movel\": 1.4285714285714286}, {\"data\": \"2021-08-09\", \"obitos_confirmados\": 1.0, \"media_movel\": 1.5714285714285714}, {\"data\": \"2021-08-10\", \"obitos_confirmados\": 0.0, \"media_movel\": 0.8571428571428571}, {\"data\": \"2021-08-11\", \"obitos_confirmados\": 11.0, \"media_movel\": 2.4285714285714284}, {\"data\": \"2021-08-12\", \"obitos_confirmados\": 2.0, \"media_movel\": 2.5714285714285716}, {\"data\": \"2021-08-13\", \"obitos_confirmados\": 2.0, \"media_movel\": 2.7142857142857144}, {\"data\": \"2021-08-14\", \"obitos_confirmados\": 1.0, \"media_movel\": 2.5714285714285716}, {\"data\": \"2021-08-15\", \"obitos_confirmados\": 0.0, \"media_movel\": 2.4285714285714284}, {\"data\": \"2021-08-16\", \"obitos_confirmados\": 3.0, \"media_movel\": 2.7142857142857144}, {\"data\": \"2021-08-17\", \"obitos_confirmados\": 3.0, \"media_movel\": 3.142857142857143}, {\"data\": \"2021-08-18\", \"obitos_confirmados\": 1.0, \"media_movel\": 1.7142857142857142}, {\"data\": \"2021-08-19\", \"obitos_confirmados\": 0.0, \"media_movel\": 1.4285714285714286}, {\"data\": \"2021-08-20\", \"obitos_confirmados\": 1.0, \"media_movel\": 1.2857142857142858}, {\"data\": \"2021-08-21\", \"obitos_confirmados\": 4.0, \"media_movel\": 1.7142857142857142}, {\"data\": \"2021-08-22\", \"obitos_confirmados\": 0.0, \"media_movel\": 1.7142857142857142}, {\"data\": \"2021-08-23\", \"obitos_confirmados\": 2.0, \"media_movel\": 1.5714285714285714}, {\"data\": \"2021-08-24\", \"obitos_confirmados\": 8.0, \"media_movel\": 2.2857142857142856}, {\"data\": \"2021-08-25\", \"obitos_confirmados\": 1.0, \"media_movel\": 2.2857142857142856}, {\"data\": \"2021-08-26\", \"obitos_confirmados\": 2.0, \"media_movel\": 2.5714285714285716}, {\"data\": \"2021-08-27\", \"obitos_confirmados\": 2.0, \"media_movel\": 2.7142857142857144}, {\"data\": \"2021-08-28\", \"obitos_confirmados\": 2.0, \"media_movel\": 2.4285714285714284}, {\"data\": \"2021-08-29\", \"obitos_confirmados\": 0.0, \"media_movel\": 2.4285714285714284}, {\"data\": \"2021-08-30\", \"obitos_confirmados\": 0.0, \"media_movel\": 2.142857142857143}, {\"data\": \"2021-08-31\", \"obitos_confirmados\": 2.0, \"media_movel\": 1.2857142857142858}]}}, {\"mode\": \"vega-lite\"});\n",
       "</script>"
      ],
      "text/plain": [
       "alt.LayerChart(...)"
      ]
     },
     "execution_count": 281,
     "metadata": {},
     "output_type": "execute_result"
    }
   ],
   "source": [
    "graph_comp_obitosPorDia = graph_pf_obitosPorDia + graph_dm_obitosPorDia + graph_df_obitosPorDia\n",
    "graph_comp_obitosPorDia.properties(\n",
    "    title='Obitos Confirmados Por Dia (Comparação)'\n",
    ")"
   ]
  },
  {
   "cell_type": "code",
   "execution_count": 282,
   "metadata": {},
   "outputs": [
    {
     "data": {
      "text/html": [
       "\n",
       "<div id=\"altair-viz-64bc521d893844c58f4c107fb6f250b1\"></div>\n",
       "<script type=\"text/javascript\">\n",
       "  (function(spec, embedOpt){\n",
       "    let outputDiv = document.currentScript.previousElementSibling;\n",
       "    if (outputDiv.id !== \"altair-viz-64bc521d893844c58f4c107fb6f250b1\") {\n",
       "      outputDiv = document.getElementById(\"altair-viz-64bc521d893844c58f4c107fb6f250b1\");\n",
       "    }\n",
       "    const paths = {\n",
       "      \"vega\": \"https://cdn.jsdelivr.net/npm//vega@5?noext\",\n",
       "      \"vega-lib\": \"https://cdn.jsdelivr.net/npm//vega-lib?noext\",\n",
       "      \"vega-lite\": \"https://cdn.jsdelivr.net/npm//vega-lite@4.8.1?noext\",\n",
       "      \"vega-embed\": \"https://cdn.jsdelivr.net/npm//vega-embed@6?noext\",\n",
       "    };\n",
       "\n",
       "    function loadScript(lib) {\n",
       "      return new Promise(function(resolve, reject) {\n",
       "        var s = document.createElement('script');\n",
       "        s.src = paths[lib];\n",
       "        s.async = true;\n",
       "        s.onload = () => resolve(paths[lib]);\n",
       "        s.onerror = () => reject(`Error loading script: ${paths[lib]}`);\n",
       "        document.getElementsByTagName(\"head\")[0].appendChild(s);\n",
       "      });\n",
       "    }\n",
       "\n",
       "    function showError(err) {\n",
       "      outputDiv.innerHTML = `<div class=\"error\" style=\"color:red;\">${err}</div>`;\n",
       "      throw err;\n",
       "    }\n",
       "\n",
       "    function displayChart(vegaEmbed) {\n",
       "      vegaEmbed(outputDiv, spec, embedOpt)\n",
       "        .catch(err => showError(`Javascript Error: ${err.message}<br>This usually means there's a typo in your chart specification. See the javascript console for the full traceback.`));\n",
       "    }\n",
       "\n",
       "    if(typeof define === \"function\" && define.amd) {\n",
       "      requirejs.config({paths});\n",
       "      require([\"vega-embed\"], displayChart, err => showError(`Error loading script: ${err.message}`));\n",
       "    } else if (typeof vegaEmbed === \"function\") {\n",
       "      displayChart(vegaEmbed);\n",
       "    } else {\n",
       "      loadScript(\"vega\")\n",
       "        .then(() => loadScript(\"vega-lite\"))\n",
       "        .then(() => loadScript(\"vega-embed\"))\n",
       "        .catch(showError)\n",
       "        .then(() => displayChart(vegaEmbed));\n",
       "    }\n",
       "  })({\"config\": {\"view\": {\"continuousWidth\": 400, \"continuousHeight\": 300}}, \"layer\": [{\"data\": {\"name\": \"data-663376b4f0b5fa365fcd58d2514a196e\"}, \"mark\": {\"type\": \"line\", \"point\": true}, \"encoding\": {\"color\": {\"value\": \"orange\"}, \"x\": {\"type\": \"temporal\", \"field\": \"data\", \"title\": \"Data\"}, \"y\": {\"type\": \"quantitative\", \"field\": \"media_movel\", \"title\": \"Obitos Confirmados\"}}}, {\"data\": {\"name\": \"data-86e69fd79068368654854438faa44432\"}, \"mark\": {\"type\": \"line\", \"point\": true}, \"encoding\": {\"color\": {\"value\": \"black\"}, \"x\": {\"type\": \"temporal\", \"field\": \"data\", \"title\": \"Data\"}, \"y\": {\"type\": \"quantitative\", \"field\": \"media_movel\", \"title\": \"Obitos Confirmados\"}}}, {\"data\": {\"name\": \"data-c42db055c6ce216bc449159793e229f9\"}, \"mark\": {\"type\": \"line\", \"point\": true}, \"encoding\": {\"color\": {\"value\": \"indigo\"}, \"x\": {\"type\": \"temporal\", \"field\": \"data\", \"title\": \"Data\"}, \"y\": {\"type\": \"quantitative\", \"field\": \"media_movel\", \"title\": \"Obitos Confirmados\"}}}], \"title\": \"M\\u00e9dia Movel de Obitos Confirmados por Dia (Compara\\u00e7\\u00e3o)\", \"width\": 800, \"$schema\": \"https://vega.github.io/schema/vega-lite/v4.8.1.json\", \"datasets\": {\"data-663376b4f0b5fa365fcd58d2514a196e\": [{\"data\": \"2021-06-01\", \"obitos_confirmados\": 4, \"media_movel\": null}, {\"data\": \"2021-06-02\", \"obitos_confirmados\": 5, \"media_movel\": null}, {\"data\": \"2021-06-03\", \"obitos_confirmados\": 3, \"media_movel\": null}, {\"data\": \"2021-06-04\", \"obitos_confirmados\": 3, \"media_movel\": null}, {\"data\": \"2021-06-05\", \"obitos_confirmados\": 7, \"media_movel\": null}, {\"data\": \"2021-06-06\", \"obitos_confirmados\": 6, \"media_movel\": null}, {\"data\": \"2021-06-07\", \"obitos_confirmados\": 2, \"media_movel\": 4.285714285714286}, {\"data\": \"2021-06-08\", \"obitos_confirmados\": 1, \"media_movel\": 3.857142857142857}, {\"data\": \"2021-06-09\", \"obitos_confirmados\": 5, \"media_movel\": 3.857142857142857}, {\"data\": \"2021-06-10\", \"obitos_confirmados\": 8, \"media_movel\": 4.571428571428571}, {\"data\": \"2021-06-11\", \"obitos_confirmados\": 7, \"media_movel\": 5.142857142857143}, {\"data\": \"2021-06-12\", \"obitos_confirmados\": 5, \"media_movel\": 4.857142857142857}, {\"data\": \"2021-06-13\", \"obitos_confirmados\": 6, \"media_movel\": 4.857142857142857}, {\"data\": \"2021-06-14\", \"obitos_confirmados\": 10, \"media_movel\": 6.0}, {\"data\": \"2021-06-15\", \"obitos_confirmados\": 2, \"media_movel\": 6.142857142857143}, {\"data\": \"2021-06-16\", \"obitos_confirmados\": 3, \"media_movel\": 5.857142857142857}, {\"data\": \"2021-06-17\", \"obitos_confirmados\": 3, \"media_movel\": 5.142857142857143}, {\"data\": \"2021-06-18\", \"obitos_confirmados\": 4, \"media_movel\": 4.714285714285714}, {\"data\": \"2021-06-19\", \"obitos_confirmados\": 2, \"media_movel\": 4.285714285714286}, {\"data\": \"2021-06-20\", \"obitos_confirmados\": 6, \"media_movel\": 4.285714285714286}, {\"data\": \"2021-06-21\", \"obitos_confirmados\": 3, \"media_movel\": 3.2857142857142856}, {\"data\": \"2021-06-22\", \"obitos_confirmados\": 3, \"media_movel\": 3.4285714285714284}, {\"data\": \"2021-06-23\", \"obitos_confirmados\": 1, \"media_movel\": 3.142857142857143}, {\"data\": \"2021-06-24\", \"obitos_confirmados\": 3, \"media_movel\": 3.142857142857143}, {\"data\": \"2021-06-25\", \"obitos_confirmados\": 3, \"media_movel\": 3.0}, {\"data\": \"2021-06-26\", \"obitos_confirmados\": 2, \"media_movel\": 3.0}, {\"data\": \"2021-06-27\", \"obitos_confirmados\": 3, \"media_movel\": 2.5714285714285716}, {\"data\": \"2021-06-28\", \"obitos_confirmados\": 1, \"media_movel\": 2.2857142857142856}, {\"data\": \"2021-06-29\", \"obitos_confirmados\": 4, \"media_movel\": 2.4285714285714284}, {\"data\": \"2021-06-30\", \"obitos_confirmados\": 1, \"media_movel\": 2.4285714285714284}, {\"data\": \"2021-07-01\", \"obitos_confirmados\": 2, \"media_movel\": 2.2857142857142856}, {\"data\": \"2021-07-02\", \"obitos_confirmados\": 4, \"media_movel\": 2.4285714285714284}, {\"data\": \"2021-07-03\", \"obitos_confirmados\": 3, \"media_movel\": 2.5714285714285716}, {\"data\": \"2021-07-04\", \"obitos_confirmados\": 2, \"media_movel\": 2.4285714285714284}, {\"data\": \"2021-07-05\", \"obitos_confirmados\": -1, \"media_movel\": 2.142857142857143}, {\"data\": \"2021-07-06\", \"obitos_confirmados\": 4, \"media_movel\": 2.142857142857143}, {\"data\": \"2021-07-07\", \"obitos_confirmados\": 5, \"media_movel\": 2.7142857142857144}, {\"data\": \"2021-07-08\", \"obitos_confirmados\": 2, \"media_movel\": 2.7142857142857144}, {\"data\": \"2021-07-09\", \"obitos_confirmados\": 2, \"media_movel\": 2.4285714285714284}, {\"data\": \"2021-07-10\", \"obitos_confirmados\": 2, \"media_movel\": 2.2857142857142856}, {\"data\": \"2021-07-11\", \"obitos_confirmados\": 1, \"media_movel\": 2.142857142857143}, {\"data\": \"2021-07-12\", \"obitos_confirmados\": 0, \"media_movel\": 2.2857142857142856}, {\"data\": \"2021-07-13\", \"obitos_confirmados\": 0, \"media_movel\": 1.7142857142857142}, {\"data\": \"2021-07-14\", \"obitos_confirmados\": 3, \"media_movel\": 1.4285714285714286}, {\"data\": \"2021-07-15\", \"obitos_confirmados\": 2, \"media_movel\": 1.4285714285714286}, {\"data\": \"2021-07-16\", \"obitos_confirmados\": 1, \"media_movel\": 1.2857142857142858}, {\"data\": \"2021-07-17\", \"obitos_confirmados\": 1, \"media_movel\": 1.1428571428571428}, {\"data\": \"2021-07-18\", \"obitos_confirmados\": 0, \"media_movel\": 1.0}, {\"data\": \"2021-07-19\", \"obitos_confirmados\": 2, \"media_movel\": 1.2857142857142858}, {\"data\": \"2021-07-20\", \"obitos_confirmados\": 1, \"media_movel\": 1.4285714285714286}, {\"data\": \"2021-07-21\", \"obitos_confirmados\": -1, \"media_movel\": 0.8571428571428571}, {\"data\": \"2021-07-22\", \"obitos_confirmados\": 2, \"media_movel\": 0.8571428571428571}, {\"data\": \"2021-07-23\", \"obitos_confirmados\": 2, \"media_movel\": 1.0}, {\"data\": \"2021-07-24\", \"obitos_confirmados\": 3, \"media_movel\": 1.2857142857142858}, {\"data\": \"2021-07-25\", \"obitos_confirmados\": 3, \"media_movel\": 1.7142857142857142}, {\"data\": \"2021-07-26\", \"obitos_confirmados\": 0, \"media_movel\": 1.4285714285714286}, {\"data\": \"2021-07-27\", \"obitos_confirmados\": 1, \"media_movel\": 1.4285714285714286}, {\"data\": \"2021-07-28\", \"obitos_confirmados\": 3, \"media_movel\": 2.0}, {\"data\": \"2021-07-29\", \"obitos_confirmados\": 1, \"media_movel\": 1.8571428571428572}, {\"data\": \"2021-07-30\", \"obitos_confirmados\": 0, \"media_movel\": 1.5714285714285714}, {\"data\": \"2021-07-31\", \"obitos_confirmados\": 1, \"media_movel\": 1.2857142857142858}, {\"data\": \"2021-08-01\", \"obitos_confirmados\": 0, \"media_movel\": 0.8571428571428571}, {\"data\": \"2021-08-02\", \"obitos_confirmados\": 0, \"media_movel\": 0.8571428571428571}, {\"data\": \"2021-08-03\", \"obitos_confirmados\": 0, \"media_movel\": 0.7142857142857143}, {\"data\": \"2021-08-04\", \"obitos_confirmados\": 3, \"media_movel\": 0.7142857142857143}, {\"data\": \"2021-08-05\", \"obitos_confirmados\": 1, \"media_movel\": 0.7142857142857143}, {\"data\": \"2021-08-06\", \"obitos_confirmados\": 3, \"media_movel\": 1.1428571428571428}, {\"data\": \"2021-08-07\", \"obitos_confirmados\": 2, \"media_movel\": 1.2857142857142858}, {\"data\": \"2021-08-08\", \"obitos_confirmados\": 0, \"media_movel\": 1.2857142857142858}, {\"data\": \"2021-08-09\", \"obitos_confirmados\": 0, \"media_movel\": 1.2857142857142858}, {\"data\": \"2021-08-10\", \"obitos_confirmados\": 1, \"media_movel\": 1.4285714285714286}, {\"data\": \"2021-08-11\", \"obitos_confirmados\": 2, \"media_movel\": 1.2857142857142858}, {\"data\": \"2021-08-12\", \"obitos_confirmados\": 1, \"media_movel\": 1.2857142857142858}, {\"data\": \"2021-08-13\", \"obitos_confirmados\": 0, \"media_movel\": 0.8571428571428571}, {\"data\": \"2021-08-14\", \"obitos_confirmados\": 0, \"media_movel\": 0.5714285714285714}, {\"data\": \"2021-08-15\", \"obitos_confirmados\": 1, \"media_movel\": 0.7142857142857143}, {\"data\": \"2021-08-16\", \"obitos_confirmados\": 2, \"media_movel\": 1.0}, {\"data\": \"2021-08-17\", \"obitos_confirmados\": 4, \"media_movel\": 1.4285714285714286}, {\"data\": \"2021-08-18\", \"obitos_confirmados\": 0, \"media_movel\": 1.1428571428571428}, {\"data\": \"2021-08-19\", \"obitos_confirmados\": 1, \"media_movel\": 1.1428571428571428}, {\"data\": \"2021-08-20\", \"obitos_confirmados\": 0, \"media_movel\": 1.1428571428571428}, {\"data\": \"2021-08-21\", \"obitos_confirmados\": 4, \"media_movel\": 1.7142857142857142}, {\"data\": \"2021-08-22\", \"obitos_confirmados\": 0, \"media_movel\": 1.5714285714285714}, {\"data\": \"2021-08-23\", \"obitos_confirmados\": 1, \"media_movel\": 1.4285714285714286}, {\"data\": \"2021-08-24\", \"obitos_confirmados\": 0, \"media_movel\": 0.8571428571428571}, {\"data\": \"2021-08-25\", \"obitos_confirmados\": 0, \"media_movel\": 0.8571428571428571}, {\"data\": \"2021-08-26\", \"obitos_confirmados\": 1, \"media_movel\": 0.8571428571428571}, {\"data\": \"2021-08-27\", \"obitos_confirmados\": 1, \"media_movel\": 1.0}, {\"data\": \"2021-08-28\", \"obitos_confirmados\": 1, \"media_movel\": 0.5714285714285714}, {\"data\": \"2021-08-29\", \"obitos_confirmados\": 0, \"media_movel\": 0.5714285714285714}, {\"data\": \"2021-08-30\", \"obitos_confirmados\": 0, \"media_movel\": 0.42857142857142855}, {\"data\": \"2021-08-31\", \"obitos_confirmados\": 1, \"media_movel\": 0.5714285714285714}], \"data-86e69fd79068368654854438faa44432\": [{\"data\": \"2021-06-01\", \"obitos_confirmados\": 3, \"media_movel\": null}, {\"data\": \"2021-06-02\", \"obitos_confirmados\": 4, \"media_movel\": null}, {\"data\": \"2021-06-03\", \"obitos_confirmados\": 4, \"media_movel\": null}, {\"data\": \"2021-06-04\", \"obitos_confirmados\": 6, \"media_movel\": null}, {\"data\": \"2021-06-05\", \"obitos_confirmados\": 4, \"media_movel\": null}, {\"data\": \"2021-06-06\", \"obitos_confirmados\": 4, \"media_movel\": null}, {\"data\": \"2021-06-07\", \"obitos_confirmados\": 5, \"media_movel\": 4.285714285714286}, {\"data\": \"2021-06-08\", \"obitos_confirmados\": 4, \"media_movel\": 4.428571428571429}, {\"data\": \"2021-06-09\", \"obitos_confirmados\": 6, \"media_movel\": 4.714285714285714}, {\"data\": \"2021-06-10\", \"obitos_confirmados\": 8, \"media_movel\": 5.285714285714286}, {\"data\": \"2021-06-11\", \"obitos_confirmados\": 12, \"media_movel\": 6.142857142857143}, {\"data\": \"2021-06-12\", \"obitos_confirmados\": 4, \"media_movel\": 6.142857142857143}, {\"data\": \"2021-06-13\", \"obitos_confirmados\": 6, \"media_movel\": 6.428571428571429}, {\"data\": \"2021-06-14\", \"obitos_confirmados\": 4, \"media_movel\": 6.285714285714286}, {\"data\": \"2021-06-15\", \"obitos_confirmados\": 4, \"media_movel\": 6.285714285714286}, {\"data\": \"2021-06-16\", \"obitos_confirmados\": 5, \"media_movel\": 6.142857142857143}, {\"data\": \"2021-06-17\", \"obitos_confirmados\": 4, \"media_movel\": 5.571428571428571}, {\"data\": \"2021-06-18\", \"obitos_confirmados\": 6, \"media_movel\": 4.714285714285714}, {\"data\": \"2021-06-19\", \"obitos_confirmados\": 4, \"media_movel\": 4.714285714285714}, {\"data\": \"2021-06-20\", \"obitos_confirmados\": 4, \"media_movel\": 4.428571428571429}, {\"data\": \"2021-06-21\", \"obitos_confirmados\": 6, \"media_movel\": 4.714285714285714}, {\"data\": \"2021-06-22\", \"obitos_confirmados\": 6, \"media_movel\": 5.0}, {\"data\": \"2021-06-23\", \"obitos_confirmados\": 6, \"media_movel\": 5.142857142857143}, {\"data\": \"2021-06-24\", \"obitos_confirmados\": 6, \"media_movel\": 5.428571428571429}, {\"data\": \"2021-06-25\", \"obitos_confirmados\": 6, \"media_movel\": 5.428571428571429}, {\"data\": \"2021-06-26\", \"obitos_confirmados\": 6, \"media_movel\": 5.714285714285714}, {\"data\": \"2021-06-27\", \"obitos_confirmados\": 7, \"media_movel\": 6.142857142857143}, {\"data\": \"2021-06-28\", \"obitos_confirmados\": 6, \"media_movel\": 6.142857142857143}, {\"data\": \"2021-06-29\", \"obitos_confirmados\": 5, \"media_movel\": 6.0}, {\"data\": \"2021-06-30\", \"obitos_confirmados\": 5, \"media_movel\": 5.857142857142857}, {\"data\": \"2021-07-01\", \"obitos_confirmados\": 3, \"media_movel\": 5.428571428571429}, {\"data\": \"2021-07-03\", \"obitos_confirmados\": 7, \"media_movel\": 5.571428571428571}, {\"data\": \"2021-07-04\", \"obitos_confirmados\": 3, \"media_movel\": 5.142857142857143}, {\"data\": \"2021-07-05\", \"obitos_confirmados\": 4, \"media_movel\": 4.714285714285714}, {\"data\": \"2021-07-06\", \"obitos_confirmados\": 3, \"media_movel\": 4.285714285714286}, {\"data\": \"2021-07-07\", \"obitos_confirmados\": 4, \"media_movel\": 4.142857142857143}, {\"data\": \"2021-07-08\", \"obitos_confirmados\": 3, \"media_movel\": 3.857142857142857}, {\"data\": \"2021-07-09\", \"obitos_confirmados\": 3, \"media_movel\": 3.857142857142857}, {\"data\": \"2021-07-10\", \"obitos_confirmados\": 3, \"media_movel\": 3.2857142857142856}, {\"data\": \"2021-07-11\", \"obitos_confirmados\": 2, \"media_movel\": 3.142857142857143}, {\"data\": \"2021-07-12\", \"obitos_confirmados\": 3, \"media_movel\": 3.0}, {\"data\": \"2021-07-13\", \"obitos_confirmados\": 0, \"media_movel\": 2.5714285714285716}, {\"data\": \"2021-07-14\", \"obitos_confirmados\": 0, \"media_movel\": 2.0}, {\"data\": \"2021-07-15\", \"obitos_confirmados\": 2, \"media_movel\": 1.8571428571428572}, {\"data\": \"2021-07-16\", \"obitos_confirmados\": 0, \"media_movel\": 1.4285714285714286}, {\"data\": \"2021-07-17\", \"obitos_confirmados\": 2, \"media_movel\": 1.2857142857142858}, {\"data\": \"2021-07-18\", \"obitos_confirmados\": 0, \"media_movel\": 1.0}, {\"data\": \"2021-07-19\", \"obitos_confirmados\": 2, \"media_movel\": 0.8571428571428571}, {\"data\": \"2021-07-20\", \"obitos_confirmados\": 1, \"media_movel\": 1.0}, {\"data\": \"2021-07-21\", \"obitos_confirmados\": 0, \"media_movel\": 1.0}, {\"data\": \"2021-07-22\", \"obitos_confirmados\": 1, \"media_movel\": 0.8571428571428571}, {\"data\": \"2021-07-23\", \"obitos_confirmados\": 1, \"media_movel\": 1.0}, {\"data\": \"2021-07-24\", \"obitos_confirmados\": 2, \"media_movel\": 1.0}, {\"data\": \"2021-07-25\", \"obitos_confirmados\": 0, \"media_movel\": 1.0}, {\"data\": \"2021-07-26\", \"obitos_confirmados\": 3, \"media_movel\": 1.1428571428571428}, {\"data\": \"2021-07-27\", \"obitos_confirmados\": 1, \"media_movel\": 1.1428571428571428}, {\"data\": \"2021-07-28\", \"obitos_confirmados\": 3, \"media_movel\": 1.5714285714285714}, {\"data\": \"2021-07-29\", \"obitos_confirmados\": 3, \"media_movel\": 1.8571428571428572}, {\"data\": \"2021-07-30\", \"obitos_confirmados\": 0, \"media_movel\": 1.7142857142857142}, {\"data\": \"2021-07-31\", \"obitos_confirmados\": 1, \"media_movel\": 1.5714285714285714}, {\"data\": \"2021-08-01\", \"obitos_confirmados\": 0, \"media_movel\": 1.5714285714285714}, {\"data\": \"2021-08-02\", \"obitos_confirmados\": 0, \"media_movel\": 1.1428571428571428}, {\"data\": \"2021-08-03\", \"obitos_confirmados\": 0, \"media_movel\": 1.0}, {\"data\": \"2021-08-04\", \"obitos_confirmados\": 2, \"media_movel\": 0.8571428571428571}, {\"data\": \"2021-08-05\", \"obitos_confirmados\": 0, \"media_movel\": 0.42857142857142855}, {\"data\": \"2021-08-06\", \"obitos_confirmados\": 0, \"media_movel\": 0.42857142857142855}, {\"data\": \"2021-08-07\", \"obitos_confirmados\": 0, \"media_movel\": 0.2857142857142857}, {\"data\": \"2021-08-08\", \"obitos_confirmados\": 0, \"media_movel\": 0.2857142857142857}, {\"data\": \"2021-08-09\", \"obitos_confirmados\": 5, \"media_movel\": 1.0}, {\"data\": \"2021-08-10\", \"obitos_confirmados\": 0, \"media_movel\": 1.0}, {\"data\": \"2021-08-11\", \"obitos_confirmados\": 3, \"media_movel\": 1.1428571428571428}, {\"data\": \"2021-08-12\", \"obitos_confirmados\": 1, \"media_movel\": 1.2857142857142858}, {\"data\": \"2021-08-13\", \"obitos_confirmados\": 0, \"media_movel\": 1.2857142857142858}, {\"data\": \"2021-08-14\", \"obitos_confirmados\": 0, \"media_movel\": 1.2857142857142858}, {\"data\": \"2021-08-15\", \"obitos_confirmados\": 0, \"media_movel\": 1.2857142857142858}, {\"data\": \"2021-08-16\", \"obitos_confirmados\": 3, \"media_movel\": 1.0}, {\"data\": \"2021-08-17\", \"obitos_confirmados\": 3, \"media_movel\": 1.4285714285714286}, {\"data\": \"2021-08-18\", \"obitos_confirmados\": 1, \"media_movel\": 1.1428571428571428}, {\"data\": \"2021-08-19\", \"obitos_confirmados\": 0, \"media_movel\": 1.0}, {\"data\": \"2021-08-20\", \"obitos_confirmados\": 1, \"media_movel\": 1.1428571428571428}, {\"data\": \"2021-08-21\", \"obitos_confirmados\": 0, \"media_movel\": 1.1428571428571428}, {\"data\": \"2021-08-22\", \"obitos_confirmados\": 0, \"media_movel\": 1.1428571428571428}, {\"data\": \"2021-08-23\", \"obitos_confirmados\": 4, \"media_movel\": 1.2857142857142858}, {\"data\": \"2021-08-24\", \"obitos_confirmados\": 0, \"media_movel\": 0.8571428571428571}, {\"data\": \"2021-08-25\", \"obitos_confirmados\": 0, \"media_movel\": 0.7142857142857143}, {\"data\": \"2021-08-26\", \"obitos_confirmados\": 0, \"media_movel\": 0.7142857142857143}, {\"data\": \"2021-08-27\", \"obitos_confirmados\": 0, \"media_movel\": 0.5714285714285714}, {\"data\": \"2021-08-28\", \"obitos_confirmados\": 0, \"media_movel\": 0.5714285714285714}, {\"data\": \"2021-08-29\", \"obitos_confirmados\": 0, \"media_movel\": 0.5714285714285714}, {\"data\": \"2021-08-30\", \"obitos_confirmados\": 2, \"media_movel\": 0.2857142857142857}, {\"data\": \"2021-08-31\", \"obitos_confirmados\": 1, \"media_movel\": 0.42857142857142855}], \"data-c42db055c6ce216bc449159793e229f9\": [{\"data\": \"2021-06-01\", \"obitos_confirmados\": 2.0, \"media_movel\": null}, {\"data\": \"2021-06-02\", \"obitos_confirmados\": 6.0, \"media_movel\": null}, {\"data\": \"2021-06-03\", \"obitos_confirmados\": 2.0, \"media_movel\": null}, {\"data\": \"2021-06-04\", \"obitos_confirmados\": 1.0, \"media_movel\": null}, {\"data\": \"2021-06-05\", \"obitos_confirmados\": 5.0, \"media_movel\": null}, {\"data\": \"2021-06-06\", \"obitos_confirmados\": 6.0, \"media_movel\": null}, {\"data\": \"2021-06-07\", \"obitos_confirmados\": 5.0, \"media_movel\": 3.857142857142857}, {\"data\": \"2021-06-08\", \"obitos_confirmados\": 3.0, \"media_movel\": 4.0}, {\"data\": \"2021-06-09\", \"obitos_confirmados\": 6.0, \"media_movel\": 4.0}, {\"data\": \"2021-06-10\", \"obitos_confirmados\": 1.0, \"media_movel\": 3.857142857142857}, {\"data\": \"2021-06-11\", \"obitos_confirmados\": 6.0, \"media_movel\": 4.571428571428571}, {\"data\": \"2021-06-12\", \"obitos_confirmados\": 6.0, \"media_movel\": 4.714285714285714}, {\"data\": \"2021-06-13\", \"obitos_confirmados\": 7.0, \"media_movel\": 4.857142857142857}, {\"data\": \"2021-06-14\", \"obitos_confirmados\": 4.0, \"media_movel\": 4.714285714285714}, {\"data\": \"2021-06-15\", \"obitos_confirmados\": 4.0, \"media_movel\": 4.857142857142857}, {\"data\": \"2021-06-16\", \"obitos_confirmados\": 5.0, \"media_movel\": 4.714285714285714}, {\"data\": \"2021-06-17\", \"obitos_confirmados\": 4.0, \"media_movel\": 5.142857142857143}, {\"data\": \"2021-06-18\", \"obitos_confirmados\": 7.0, \"media_movel\": 5.285714285714286}, {\"data\": \"2021-06-19\", \"obitos_confirmados\": 5.0, \"media_movel\": 5.142857142857143}, {\"data\": \"2021-06-20\", \"obitos_confirmados\": 6.0, \"media_movel\": 5.0}, {\"data\": \"2021-06-21\", \"obitos_confirmados\": 3.0, \"media_movel\": 4.857142857142857}, {\"data\": \"2021-06-22\", \"obitos_confirmados\": 1.0, \"media_movel\": 4.428571428571429}, {\"data\": \"2021-06-23\", \"obitos_confirmados\": 2.0, \"media_movel\": 4.0}, {\"data\": \"2021-06-24\", \"obitos_confirmados\": 3.0, \"media_movel\": 3.857142857142857}, {\"data\": \"2021-06-25\", \"obitos_confirmados\": 1.0, \"media_movel\": 3.0}, {\"data\": \"2021-06-27\", \"obitos_confirmados\": 2.0, \"media_movel\": 2.5714285714285716}, {\"data\": \"2021-06-26\", \"obitos_confirmados\": 0.0, \"media_movel\": 1.7142857142857142}, {\"data\": \"2021-06-28\", \"obitos_confirmados\": 2.0, \"media_movel\": 1.5714285714285714}, {\"data\": \"2021-06-29\", \"obitos_confirmados\": 1.0, \"media_movel\": 1.5714285714285714}, {\"data\": \"2021-06-30\", \"obitos_confirmados\": 3.0, \"media_movel\": 1.7142857142857142}, {\"data\": \"2021-07-01\", \"obitos_confirmados\": 3.0, \"media_movel\": 1.7142857142857142}, {\"data\": \"2021-07-02\", \"obitos_confirmados\": 2.0, \"media_movel\": 1.8571428571428572}, {\"data\": \"2021-07-03\", \"obitos_confirmados\": 2.0, \"media_movel\": 1.8571428571428572}, {\"data\": \"2021-07-04\", \"obitos_confirmados\": 3.0, \"media_movel\": 2.2857142857142856}, {\"data\": \"2021-07-05\", \"obitos_confirmados\": 6.0, \"media_movel\": 2.857142857142857}, {\"data\": \"2021-07-06\", \"obitos_confirmados\": 2.0, \"media_movel\": 3.0}, {\"data\": \"2021-07-07\", \"obitos_confirmados\": 0.0, \"media_movel\": 2.5714285714285716}, {\"data\": \"2021-07-08\", \"obitos_confirmados\": 1.0, \"media_movel\": 2.2857142857142856}, {\"data\": \"2021-07-09\", \"obitos_confirmados\": 5.0, \"media_movel\": 2.7142857142857144}, {\"data\": \"2021-07-10\", \"obitos_confirmados\": 1.0, \"media_movel\": 2.5714285714285716}, {\"data\": \"2021-07-11\", \"obitos_confirmados\": 1.0, \"media_movel\": 2.2857142857142856}, {\"data\": \"2021-07-12\", \"obitos_confirmados\": 2.0, \"media_movel\": 1.7142857142857142}, {\"data\": \"2021-07-13\", \"obitos_confirmados\": 2.0, \"media_movel\": 1.7142857142857142}, {\"data\": \"2021-07-14\", \"obitos_confirmados\": 1.0, \"media_movel\": 1.8571428571428572}, {\"data\": \"2021-07-15\", \"obitos_confirmados\": 1.0, \"media_movel\": 1.8571428571428572}, {\"data\": \"2021-07-16\", \"obitos_confirmados\": 0.0, \"media_movel\": 1.1428571428571428}, {\"data\": \"2021-07-17\", \"obitos_confirmados\": 2.0, \"media_movel\": 1.2857142857142858}, {\"data\": \"2021-07-18\", \"obitos_confirmados\": 4.0, \"media_movel\": 1.7142857142857142}, {\"data\": \"2021-07-19\", \"obitos_confirmados\": 3.0, \"media_movel\": 1.8571428571428572}, {\"data\": \"2021-07-20\", \"obitos_confirmados\": 0.0, \"media_movel\": 1.5714285714285714}, {\"data\": \"2021-07-21\", \"obitos_confirmados\": 1.0, \"media_movel\": 1.5714285714285714}, {\"data\": \"2021-07-22\", \"obitos_confirmados\": 0.0, \"media_movel\": 1.4285714285714286}, {\"data\": \"2021-07-23\", \"obitos_confirmados\": 4.0, \"media_movel\": 2.0}, {\"data\": \"2021-07-24\", \"obitos_confirmados\": 0.0, \"media_movel\": 1.7142857142857142}, {\"data\": \"2021-07-25\", \"obitos_confirmados\": 7.0, \"media_movel\": 2.142857142857143}, {\"data\": \"2021-07-26\", \"obitos_confirmados\": 1.0, \"media_movel\": 1.8571428571428572}, {\"data\": \"2021-07-27\", \"obitos_confirmados\": 1.0, \"media_movel\": 2.0}, {\"data\": \"2021-07-28\", \"obitos_confirmados\": 1.0, \"media_movel\": 2.0}, {\"data\": \"2021-07-29\", \"obitos_confirmados\": 1.0, \"media_movel\": 2.142857142857143}, {\"data\": \"2021-07-30\", \"obitos_confirmados\": 2.0, \"media_movel\": 1.8571428571428572}, {\"data\": \"2021-07-31\", \"obitos_confirmados\": 2.0, \"media_movel\": 2.142857142857143}, {\"data\": \"2021-08-01\", \"obitos_confirmados\": 3.0, \"media_movel\": 1.5714285714285714}, {\"data\": \"2021-08-02\", \"obitos_confirmados\": 0.0, \"media_movel\": 1.4285714285714286}, {\"data\": \"2021-08-03\", \"obitos_confirmados\": 5.0, \"media_movel\": 2.0}, {\"data\": \"2021-08-04\", \"obitos_confirmados\": 0.0, \"media_movel\": 1.8571428571428572}, {\"data\": \"2021-08-05\", \"obitos_confirmados\": 1.0, \"media_movel\": 1.8571428571428572}, {\"data\": \"2021-08-06\", \"obitos_confirmados\": 1.0, \"media_movel\": 1.7142857142857142}, {\"data\": \"2021-08-07\", \"obitos_confirmados\": 2.0, \"media_movel\": 1.7142857142857142}, {\"data\": \"2021-08-08\", \"obitos_confirmados\": 1.0, \"media_movel\": 1.4285714285714286}, {\"data\": \"2021-08-09\", \"obitos_confirmados\": 1.0, \"media_movel\": 1.5714285714285714}, {\"data\": \"2021-08-10\", \"obitos_confirmados\": 0.0, \"media_movel\": 0.8571428571428571}, {\"data\": \"2021-08-11\", \"obitos_confirmados\": 11.0, \"media_movel\": 2.4285714285714284}, {\"data\": \"2021-08-12\", \"obitos_confirmados\": 2.0, \"media_movel\": 2.5714285714285716}, {\"data\": \"2021-08-13\", \"obitos_confirmados\": 2.0, \"media_movel\": 2.7142857142857144}, {\"data\": \"2021-08-14\", \"obitos_confirmados\": 1.0, \"media_movel\": 2.5714285714285716}, {\"data\": \"2021-08-15\", \"obitos_confirmados\": 0.0, \"media_movel\": 2.4285714285714284}, {\"data\": \"2021-08-16\", \"obitos_confirmados\": 3.0, \"media_movel\": 2.7142857142857144}, {\"data\": \"2021-08-17\", \"obitos_confirmados\": 3.0, \"media_movel\": 3.142857142857143}, {\"data\": \"2021-08-18\", \"obitos_confirmados\": 1.0, \"media_movel\": 1.7142857142857142}, {\"data\": \"2021-08-19\", \"obitos_confirmados\": 0.0, \"media_movel\": 1.4285714285714286}, {\"data\": \"2021-08-20\", \"obitos_confirmados\": 1.0, \"media_movel\": 1.2857142857142858}, {\"data\": \"2021-08-21\", \"obitos_confirmados\": 4.0, \"media_movel\": 1.7142857142857142}, {\"data\": \"2021-08-22\", \"obitos_confirmados\": 0.0, \"media_movel\": 1.7142857142857142}, {\"data\": \"2021-08-23\", \"obitos_confirmados\": 2.0, \"media_movel\": 1.5714285714285714}, {\"data\": \"2021-08-24\", \"obitos_confirmados\": 8.0, \"media_movel\": 2.2857142857142856}, {\"data\": \"2021-08-25\", \"obitos_confirmados\": 1.0, \"media_movel\": 2.2857142857142856}, {\"data\": \"2021-08-26\", \"obitos_confirmados\": 2.0, \"media_movel\": 2.5714285714285716}, {\"data\": \"2021-08-27\", \"obitos_confirmados\": 2.0, \"media_movel\": 2.7142857142857144}, {\"data\": \"2021-08-28\", \"obitos_confirmados\": 2.0, \"media_movel\": 2.4285714285714284}, {\"data\": \"2021-08-29\", \"obitos_confirmados\": 0.0, \"media_movel\": 2.4285714285714284}, {\"data\": \"2021-08-30\", \"obitos_confirmados\": 0.0, \"media_movel\": 2.142857142857143}, {\"data\": \"2021-08-31\", \"obitos_confirmados\": 2.0, \"media_movel\": 1.2857142857142858}]}}, {\"mode\": \"vega-lite\"});\n",
       "</script>"
      ],
      "text/plain": [
       "alt.LayerChart(...)"
      ]
     },
     "execution_count": 282,
     "metadata": {},
     "output_type": "execute_result"
    }
   ],
   "source": [
    "graph_comp_mediamovel = graph_pf_obitosMedMovel + graph_dm_obitosMedMovel + graph_df_obitosMedMovel\n",
    "graph_comp_mediamovel.properties(\n",
    "    width=800,\n",
    "    title='Média Movel de Obitos Confirmados por Dia (Comparação)'\n",
    ")"
   ]
  },
  {
   "cell_type": "code",
   "execution_count": 283,
   "metadata": {},
   "outputs": [],
   "source": [
    "pf_obitosTotais = pf_obitosPorDia['obitos_confirmados'].sum()\n",
    "df_obitosTotais = df_obitosPorDia['obitos_confirmados'].sum()\n",
    "dm_obitosTotais = dm_obitosPorDia['obitos_confirmados'].sum()"
   ]
  },
  {
   "cell_type": "code",
   "execution_count": 284,
   "metadata": {},
   "outputs": [],
   "source": [
    "totalObitos = pd.DataFrame({\n",
    "    'base': ['Painel Federal', 'Federal', 'Municipal'],\n",
    "    'total': [pf_obitosTotais, df_obitosTotais, dm_obitosTotais]\n",
    "})"
   ]
  },
  {
   "cell_type": "code",
   "execution_count": 285,
   "metadata": {},
   "outputs": [
    {
     "data": {
      "text/html": [
       "\n",
       "<div id=\"altair-viz-4e61d83397e4414cadff79491d8f9a00\"></div>\n",
       "<script type=\"text/javascript\">\n",
       "  (function(spec, embedOpt){\n",
       "    let outputDiv = document.currentScript.previousElementSibling;\n",
       "    if (outputDiv.id !== \"altair-viz-4e61d83397e4414cadff79491d8f9a00\") {\n",
       "      outputDiv = document.getElementById(\"altair-viz-4e61d83397e4414cadff79491d8f9a00\");\n",
       "    }\n",
       "    const paths = {\n",
       "      \"vega\": \"https://cdn.jsdelivr.net/npm//vega@5?noext\",\n",
       "      \"vega-lib\": \"https://cdn.jsdelivr.net/npm//vega-lib?noext\",\n",
       "      \"vega-lite\": \"https://cdn.jsdelivr.net/npm//vega-lite@4.8.1?noext\",\n",
       "      \"vega-embed\": \"https://cdn.jsdelivr.net/npm//vega-embed@6?noext\",\n",
       "    };\n",
       "\n",
       "    function loadScript(lib) {\n",
       "      return new Promise(function(resolve, reject) {\n",
       "        var s = document.createElement('script');\n",
       "        s.src = paths[lib];\n",
       "        s.async = true;\n",
       "        s.onload = () => resolve(paths[lib]);\n",
       "        s.onerror = () => reject(`Error loading script: ${paths[lib]}`);\n",
       "        document.getElementsByTagName(\"head\")[0].appendChild(s);\n",
       "      });\n",
       "    }\n",
       "\n",
       "    function showError(err) {\n",
       "      outputDiv.innerHTML = `<div class=\"error\" style=\"color:red;\">${err}</div>`;\n",
       "      throw err;\n",
       "    }\n",
       "\n",
       "    function displayChart(vegaEmbed) {\n",
       "      vegaEmbed(outputDiv, spec, embedOpt)\n",
       "        .catch(err => showError(`Javascript Error: ${err.message}<br>This usually means there's a typo in your chart specification. See the javascript console for the full traceback.`));\n",
       "    }\n",
       "\n",
       "    if(typeof define === \"function\" && define.amd) {\n",
       "      requirejs.config({paths});\n",
       "      require([\"vega-embed\"], displayChart, err => showError(`Error loading script: ${err.message}`));\n",
       "    } else if (typeof vegaEmbed === \"function\") {\n",
       "      displayChart(vegaEmbed);\n",
       "    } else {\n",
       "      loadScript(\"vega\")\n",
       "        .then(() => loadScript(\"vega-lite\"))\n",
       "        .then(() => loadScript(\"vega-embed\"))\n",
       "        .catch(showError)\n",
       "        .then(() => displayChart(vegaEmbed));\n",
       "    }\n",
       "  })({\"config\": {\"view\": {\"continuousWidth\": 400, \"continuousHeight\": 300}}, \"data\": {\"name\": \"data-c2a5dd5ba7233f869a982be91d16beec\"}, \"mark\": {\"type\": \"bar\", \"size\": 30}, \"encoding\": {\"color\": {\"type\": \"nominal\", \"field\": \"base\", \"title\": \"Base de Dados\"}, \"x\": {\"type\": \"nominal\", \"field\": \"base\", \"title\": \"Base dos Dados\"}, \"y\": {\"type\": \"quantitative\", \"field\": \"total\", \"title\": \"N\\u00ba Total de Obitos Confirmados\"}}, \"title\": \"Total de Obitos Confirmados (Compara\\u00e7\\u00e3o)\", \"width\": 150, \"$schema\": \"https://vega.github.io/schema/vega-lite/v4.8.1.json\", \"datasets\": {\"data-c2a5dd5ba7233f869a982be91d16beec\": [{\"base\": \"Painel Federal\", \"total\": 197.0}, {\"base\": \"Federal\", \"total\": 231.0}, {\"base\": \"Municipal\", \"total\": 246.0}]}}, {\"mode\": \"vega-lite\"});\n",
       "</script>"
      ],
      "text/plain": [
       "alt.Chart(...)"
      ]
     },
     "execution_count": 285,
     "metadata": {},
     "output_type": "execute_result"
    }
   ],
   "source": [
    "alt.Chart(totalObitos).mark_bar(size=30).encode(\n",
    "    alt.X('base:N', title='Base dos Dados'),\n",
    "    alt.Y('total:Q', title='Nº Total de Obitos Confirmados'),\n",
    "    alt.Color('base:N', title='Base de Dados')\n",
    ").properties(\n",
    "    width=150,\n",
    "    title='Total de Obitos Confirmados (Comparação)'\n",
    ")"
   ]
  }
 ],
 "metadata": {
  "interpreter": {
   "hash": "ac523b2dbf241262502338c4748dbe4206e583902f7cc2a831713042ba4f1b3b"
  },
  "kernelspec": {
   "display_name": "Python 3.9.5 64-bit",
   "language": "python",
   "name": "python3"
  },
  "language_info": {
   "codemirror_mode": {
    "name": "ipython",
    "version": 3
   },
   "file_extension": ".py",
   "mimetype": "text/x-python",
   "name": "python",
   "nbconvert_exporter": "python",
   "pygments_lexer": "ipython3",
   "version": "3.9.5"
  },
  "orig_nbformat": 4
 },
 "nbformat": 4,
 "nbformat_minor": 2
}
