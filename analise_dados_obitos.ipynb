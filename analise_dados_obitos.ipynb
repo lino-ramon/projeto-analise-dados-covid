{
 "cells": [
  {
   "cell_type": "code",
   "execution_count": 173,
   "metadata": {},
   "outputs": [],
   "source": [
    "import pandas as pd\n",
    "import altair as alt"
   ]
  },
  {
   "cell_type": "code",
   "execution_count": 174,
   "metadata": {},
   "outputs": [
    {
     "name": "stderr",
     "output_type": "stream",
     "text": [
      "C:\\Users\\perei\\AppData\\Local\\Programs\\Python\\Python39\\lib\\site-packages\\IPython\\core\\interactiveshell.py:3441: FutureWarning: The error_bad_lines argument has been deprecated and will be removed in a future version.\n",
      "\n",
      "\n",
      "  exec(code_obj, self.user_global_ns, self.user_ns)\n"
     ]
    }
   ],
   "source": [
    "dados_federais_campina = pd.read_csv(\"data\\\\dados_federais_obitos_cg.csv\", encoding='utf-8', error_bad_lines=False)\n",
    "dados_painelfederal_campina = pd.read_csv(\"data\\\\dados_painel-federal_obitos_cg.csv\", encoding='UTF-8', error_bad_lines=False)\n",
    "dados_municipais_campina = pd.read_csv(\"data\\\\dados_municipais_cg.csv\", encoding='utf-8', index_col='data')"
   ]
  },
  {
   "cell_type": "markdown",
   "metadata": {},
   "source": [
    "# Processando os dados sobre o Numero de Obitos por Dia (Painel Federal)"
   ]
  },
  {
   "cell_type": "code",
   "execution_count": 175,
   "metadata": {},
   "outputs": [],
   "source": [
    "# Criando um data com a coluna 'data' e a coluna 'obitosNovos'\n",
    "pf_obitosPorDia = dados_painelfederal_campina[['obitosNovos', 'data']]\n"
   ]
  },
  {
   "cell_type": "code",
   "execution_count": 176,
   "metadata": {},
   "outputs": [],
   "source": [
    "# Criando um DataFrame com os dados para o altair\n",
    "pf_obitosPorDia = pd.DataFrame({\n",
    "    'data': pf_obitosPorDia['data'].tolist(),\n",
    "    'obitos_confirmados': pf_obitosPorDia['obitosNovos'].tolist()\n",
    "})\n",
    "\n",
    "# Criando uma nova coluna no DataFrame referente a média movel.\n",
    "pf_obitosPorDia['media_movel'] = pf_obitosPorDia.obitos_confirmados.rolling(7).mean()\n",
    "\n",
    "# Setando a coluna 'data' como índice do DataFrame \n",
    "pf_obitosPorDia.set_index('data', inplace=True)\n"
   ]
  },
  {
   "cell_type": "markdown",
   "metadata": {},
   "source": [
    "# Processando os dados sobre o Numero de Obitos por Dia (DadosFederais)"
   ]
  },
  {
   "cell_type": "code",
   "execution_count": 177,
   "metadata": {},
   "outputs": [],
   "source": [
    "# Criando um data com a coluna 'dataNotificacao' e a coluna 'saidaConfirmadaObitos'\n",
    "df_obitosPorDiaeCNES = dados_federais_campina[['dataNotificacao', 'saidaConfirmadaObitos']]"
   ]
  },
  {
   "cell_type": "code",
   "execution_count": 178,
   "metadata": {},
   "outputs": [],
   "source": [
    "df_obitosPorDia = {}\n",
    "\n",
    "for data in df_obitosPorDiaeCNES['dataNotificacao']:\n",
    "    if data not in df_obitosPorDia:\n",
    "        ocorrenciasDatas = df_obitosPorDiaeCNES.loc[df_obitosPorDiaeCNES['dataNotificacao'] == data]\n",
    "        df_obitosPorDia[data] = ocorrenciasDatas['saidaConfirmadaObitos'].sum()"
   ]
  },
  {
   "cell_type": "code",
   "execution_count": 179,
   "metadata": {},
   "outputs": [],
   "source": [
    "# Criando um DataFrame com os dados para o altair\n",
    "df_obitosPorDia = pd.DataFrame({\n",
    "    'data': df_obitosPorDia.keys(),\n",
    "    'obitos_confirmados': df_obitosPorDia.values()\n",
    "})\n",
    "\n",
    "# Criando uma nova coluna no DataFrame referente a média movel.\n",
    "df_obitosPorDia['media_movel'] = df_obitosPorDia.obitos_confirmados.rolling(7).mean()\n",
    "\n",
    "# Setando a coluna 'data' como índice do DataFrame \n",
    "df_obitosPorDia.set_index('data', inplace=True)"
   ]
  },
  {
   "cell_type": "markdown",
   "metadata": {},
   "source": [
    "# Processando os sobre o Numero de Obitos por Dia (Dados Municipais)"
   ]
  },
  {
   "cell_type": "code",
   "execution_count": 180,
   "metadata": {},
   "outputs": [],
   "source": [
    "# Criando um data com a coluna 'data' e a coluna 'obitosNovos'\n",
    "dm_obitosPorDia = dados_municipais_campina['obitosPorDia']"
   ]
  },
  {
   "cell_type": "code",
   "execution_count": 181,
   "metadata": {},
   "outputs": [],
   "source": [
    "# Criando um DataFrame com os dados para o altair\n",
    "dm_obitosPorDia = pd.DataFrame({\n",
    "    'data': dm_obitosPorDia.index.tolist(),\n",
    "    'obitos_confirmados': dm_obitosPorDia.values.tolist()\n",
    "})\n",
    "\n",
    "# Criando uma nova coluna no DataFrame referente a média movel.\n",
    "dm_obitosPorDia['media_movel'] = dm_obitosPorDia.obitos_confirmados.rolling(7).mean()\n",
    "\n",
    "# Setando a coluna 'data' como índice do DataFrame \n",
    "dm_obitosPorDia.set_index('data', inplace=True)\n"
   ]
  },
  {
   "cell_type": "code",
   "execution_count": 182,
   "metadata": {},
   "outputs": [],
   "source": [
    "def exclui_nao_contidos(df_conjunto, df_subconjunto):\n",
    "    for i in df_conjunto.index:\n",
    "        if i not in df_subconjunto.index:\n",
    "            df_conjunto = df_conjunto.drop(i)\n",
    "    return df_conjunto"
   ]
  },
  {
   "cell_type": "code",
   "execution_count": 183,
   "metadata": {},
   "outputs": [],
   "source": [
    "pf_obitosPorDia = exclui_nao_contidos(pf_obitosPorDia, dm_obitosPorDia)\n",
    "df_obitosPorDia = exclui_nao_contidos(df_obitosPorDia, dm_obitosPorDia)"
   ]
  },
  {
   "cell_type": "markdown",
   "metadata": {},
   "source": [
    "# Comparando os dados Federais e Municipais"
   ]
  },
  {
   "cell_type": "code",
   "execution_count": 184,
   "metadata": {},
   "outputs": [],
   "source": [
    "obitosPorDia = pd.DataFrame({\n",
    "  'data': pf_obitosPorDia.index.tolist(),\n",
    "  'Painel Federal': pf_obitosPorDia['obitos_confirmados'].tolist(),\n",
    "  'Federal': df_obitosPorDia['obitos_confirmados'].tolist(),\n",
    "  'Municipal': dm_obitosPorDia['obitos_confirmados'].tolist()\n",
    "}).melt(id_vars=['data'], value_vars=['Painel Federal', 'Federal', 'Municipal'],\n",
    "        var_name='fonte_dados', value_name='aplic_por_dia')"
   ]
  },
  {
   "cell_type": "code",
   "execution_count": 185,
   "metadata": {},
   "outputs": [
    {
     "data": {
      "text/html": [
       "\n",
       "<div id=\"altair-viz-abef776e4a8c4f2582ac5ce2f910b71e\"></div>\n",
       "<script type=\"text/javascript\">\n",
       "  (function(spec, embedOpt){\n",
       "    let outputDiv = document.currentScript.previousElementSibling;\n",
       "    if (outputDiv.id !== \"altair-viz-abef776e4a8c4f2582ac5ce2f910b71e\") {\n",
       "      outputDiv = document.getElementById(\"altair-viz-abef776e4a8c4f2582ac5ce2f910b71e\");\n",
       "    }\n",
       "    const paths = {\n",
       "      \"vega\": \"https://cdn.jsdelivr.net/npm//vega@5?noext\",\n",
       "      \"vega-lib\": \"https://cdn.jsdelivr.net/npm//vega-lib?noext\",\n",
       "      \"vega-lite\": \"https://cdn.jsdelivr.net/npm//vega-lite@4.8.1?noext\",\n",
       "      \"vega-embed\": \"https://cdn.jsdelivr.net/npm//vega-embed@6?noext\",\n",
       "    };\n",
       "\n",
       "    function loadScript(lib) {\n",
       "      return new Promise(function(resolve, reject) {\n",
       "        var s = document.createElement('script');\n",
       "        s.src = paths[lib];\n",
       "        s.async = true;\n",
       "        s.onload = () => resolve(paths[lib]);\n",
       "        s.onerror = () => reject(`Error loading script: ${paths[lib]}`);\n",
       "        document.getElementsByTagName(\"head\")[0].appendChild(s);\n",
       "      });\n",
       "    }\n",
       "\n",
       "    function showError(err) {\n",
       "      outputDiv.innerHTML = `<div class=\"error\" style=\"color:red;\">${err}</div>`;\n",
       "      throw err;\n",
       "    }\n",
       "\n",
       "    function displayChart(vegaEmbed) {\n",
       "      vegaEmbed(outputDiv, spec, embedOpt)\n",
       "        .catch(err => showError(`Javascript Error: ${err.message}<br>This usually means there's a typo in your chart specification. See the javascript console for the full traceback.`));\n",
       "    }\n",
       "\n",
       "    if(typeof define === \"function\" && define.amd) {\n",
       "      requirejs.config({paths});\n",
       "      require([\"vega-embed\"], displayChart, err => showError(`Error loading script: ${err.message}`));\n",
       "    } else if (typeof vegaEmbed === \"function\") {\n",
       "      displayChart(vegaEmbed);\n",
       "    } else {\n",
       "      loadScript(\"vega\")\n",
       "        .then(() => loadScript(\"vega-lite\"))\n",
       "        .then(() => loadScript(\"vega-embed\"))\n",
       "        .catch(showError)\n",
       "        .then(() => displayChart(vegaEmbed));\n",
       "    }\n",
       "  })({\"config\": {\"view\": {\"continuousWidth\": 400, \"continuousHeight\": 300}}, \"data\": {\"name\": \"data-b2ac7ee81f988914dd2af7294cd5d2fc\"}, \"mark\": \"line\", \"encoding\": {\"color\": {\"type\": \"nominal\", \"field\": \"fonte_dados\", \"title\": \"Base dos Dados\"}, \"x\": {\"type\": \"temporal\", \"field\": \"data\", \"title\": \"Data\"}, \"y\": {\"type\": \"quantitative\", \"field\": \"aplic_por_dia\", \"title\": \"N\\u00ba de Obitos\"}}, \"title\": \"Quantidade de Obitos Confirmados por Dia\", \"width\": 700, \"$schema\": \"https://vega.github.io/schema/vega-lite/v4.8.1.json\", \"datasets\": {\"data-b2ac7ee81f988914dd2af7294cd5d2fc\": [{\"data\": \"2021-06-01\", \"fonte_dados\": \"Painel Federal\", \"aplic_por_dia\": 4.0}, {\"data\": \"2021-06-02\", \"fonte_dados\": \"Painel Federal\", \"aplic_por_dia\": 5.0}, {\"data\": \"2021-06-03\", \"fonte_dados\": \"Painel Federal\", \"aplic_por_dia\": 3.0}, {\"data\": \"2021-06-04\", \"fonte_dados\": \"Painel Federal\", \"aplic_por_dia\": 3.0}, {\"data\": \"2021-06-05\", \"fonte_dados\": \"Painel Federal\", \"aplic_por_dia\": 7.0}, {\"data\": \"2021-06-06\", \"fonte_dados\": \"Painel Federal\", \"aplic_por_dia\": 6.0}, {\"data\": \"2021-06-07\", \"fonte_dados\": \"Painel Federal\", \"aplic_por_dia\": 2.0}, {\"data\": \"2021-06-08\", \"fonte_dados\": \"Painel Federal\", \"aplic_por_dia\": 1.0}, {\"data\": \"2021-06-09\", \"fonte_dados\": \"Painel Federal\", \"aplic_por_dia\": 5.0}, {\"data\": \"2021-06-10\", \"fonte_dados\": \"Painel Federal\", \"aplic_por_dia\": 8.0}, {\"data\": \"2021-06-11\", \"fonte_dados\": \"Painel Federal\", \"aplic_por_dia\": 7.0}, {\"data\": \"2021-06-12\", \"fonte_dados\": \"Painel Federal\", \"aplic_por_dia\": 5.0}, {\"data\": \"2021-06-13\", \"fonte_dados\": \"Painel Federal\", \"aplic_por_dia\": 6.0}, {\"data\": \"2021-06-14\", \"fonte_dados\": \"Painel Federal\", \"aplic_por_dia\": 10.0}, {\"data\": \"2021-06-15\", \"fonte_dados\": \"Painel Federal\", \"aplic_por_dia\": 2.0}, {\"data\": \"2021-06-16\", \"fonte_dados\": \"Painel Federal\", \"aplic_por_dia\": 3.0}, {\"data\": \"2021-06-17\", \"fonte_dados\": \"Painel Federal\", \"aplic_por_dia\": 3.0}, {\"data\": \"2021-06-18\", \"fonte_dados\": \"Painel Federal\", \"aplic_por_dia\": 4.0}, {\"data\": \"2021-06-19\", \"fonte_dados\": \"Painel Federal\", \"aplic_por_dia\": 2.0}, {\"data\": \"2021-06-20\", \"fonte_dados\": \"Painel Federal\", \"aplic_por_dia\": 6.0}, {\"data\": \"2021-06-21\", \"fonte_dados\": \"Painel Federal\", \"aplic_por_dia\": 3.0}, {\"data\": \"2021-06-22\", \"fonte_dados\": \"Painel Federal\", \"aplic_por_dia\": 3.0}, {\"data\": \"2021-06-23\", \"fonte_dados\": \"Painel Federal\", \"aplic_por_dia\": 1.0}, {\"data\": \"2021-06-24\", \"fonte_dados\": \"Painel Federal\", \"aplic_por_dia\": 3.0}, {\"data\": \"2021-06-25\", \"fonte_dados\": \"Painel Federal\", \"aplic_por_dia\": 3.0}, {\"data\": \"2021-06-26\", \"fonte_dados\": \"Painel Federal\", \"aplic_por_dia\": 2.0}, {\"data\": \"2021-06-27\", \"fonte_dados\": \"Painel Federal\", \"aplic_por_dia\": 3.0}, {\"data\": \"2021-06-28\", \"fonte_dados\": \"Painel Federal\", \"aplic_por_dia\": 1.0}, {\"data\": \"2021-06-29\", \"fonte_dados\": \"Painel Federal\", \"aplic_por_dia\": 4.0}, {\"data\": \"2021-06-30\", \"fonte_dados\": \"Painel Federal\", \"aplic_por_dia\": 1.0}, {\"data\": \"2021-07-01\", \"fonte_dados\": \"Painel Federal\", \"aplic_por_dia\": 2.0}, {\"data\": \"2021-07-03\", \"fonte_dados\": \"Painel Federal\", \"aplic_por_dia\": 3.0}, {\"data\": \"2021-07-04\", \"fonte_dados\": \"Painel Federal\", \"aplic_por_dia\": 2.0}, {\"data\": \"2021-07-05\", \"fonte_dados\": \"Painel Federal\", \"aplic_por_dia\": -1.0}, {\"data\": \"2021-07-06\", \"fonte_dados\": \"Painel Federal\", \"aplic_por_dia\": 4.0}, {\"data\": \"2021-07-07\", \"fonte_dados\": \"Painel Federal\", \"aplic_por_dia\": 5.0}, {\"data\": \"2021-07-08\", \"fonte_dados\": \"Painel Federal\", \"aplic_por_dia\": 2.0}, {\"data\": \"2021-07-09\", \"fonte_dados\": \"Painel Federal\", \"aplic_por_dia\": 2.0}, {\"data\": \"2021-07-10\", \"fonte_dados\": \"Painel Federal\", \"aplic_por_dia\": 2.0}, {\"data\": \"2021-07-11\", \"fonte_dados\": \"Painel Federal\", \"aplic_por_dia\": 1.0}, {\"data\": \"2021-07-12\", \"fonte_dados\": \"Painel Federal\", \"aplic_por_dia\": 0.0}, {\"data\": \"2021-07-13\", \"fonte_dados\": \"Painel Federal\", \"aplic_por_dia\": 0.0}, {\"data\": \"2021-07-14\", \"fonte_dados\": \"Painel Federal\", \"aplic_por_dia\": 3.0}, {\"data\": \"2021-07-15\", \"fonte_dados\": \"Painel Federal\", \"aplic_por_dia\": 2.0}, {\"data\": \"2021-07-16\", \"fonte_dados\": \"Painel Federal\", \"aplic_por_dia\": 1.0}, {\"data\": \"2021-07-17\", \"fonte_dados\": \"Painel Federal\", \"aplic_por_dia\": 1.0}, {\"data\": \"2021-07-18\", \"fonte_dados\": \"Painel Federal\", \"aplic_por_dia\": 0.0}, {\"data\": \"2021-07-19\", \"fonte_dados\": \"Painel Federal\", \"aplic_por_dia\": 2.0}, {\"data\": \"2021-07-20\", \"fonte_dados\": \"Painel Federal\", \"aplic_por_dia\": 1.0}, {\"data\": \"2021-07-21\", \"fonte_dados\": \"Painel Federal\", \"aplic_por_dia\": -1.0}, {\"data\": \"2021-07-22\", \"fonte_dados\": \"Painel Federal\", \"aplic_por_dia\": 2.0}, {\"data\": \"2021-07-23\", \"fonte_dados\": \"Painel Federal\", \"aplic_por_dia\": 2.0}, {\"data\": \"2021-07-24\", \"fonte_dados\": \"Painel Federal\", \"aplic_por_dia\": 3.0}, {\"data\": \"2021-07-25\", \"fonte_dados\": \"Painel Federal\", \"aplic_por_dia\": 3.0}, {\"data\": \"2021-07-26\", \"fonte_dados\": \"Painel Federal\", \"aplic_por_dia\": 0.0}, {\"data\": \"2021-07-27\", \"fonte_dados\": \"Painel Federal\", \"aplic_por_dia\": 1.0}, {\"data\": \"2021-07-28\", \"fonte_dados\": \"Painel Federal\", \"aplic_por_dia\": 3.0}, {\"data\": \"2021-07-29\", \"fonte_dados\": \"Painel Federal\", \"aplic_por_dia\": 1.0}, {\"data\": \"2021-07-30\", \"fonte_dados\": \"Painel Federal\", \"aplic_por_dia\": 0.0}, {\"data\": \"2021-07-31\", \"fonte_dados\": \"Painel Federal\", \"aplic_por_dia\": 1.0}, {\"data\": \"2021-08-01\", \"fonte_dados\": \"Painel Federal\", \"aplic_por_dia\": 0.0}, {\"data\": \"2021-08-02\", \"fonte_dados\": \"Painel Federal\", \"aplic_por_dia\": 0.0}, {\"data\": \"2021-08-03\", \"fonte_dados\": \"Painel Federal\", \"aplic_por_dia\": 0.0}, {\"data\": \"2021-08-04\", \"fonte_dados\": \"Painel Federal\", \"aplic_por_dia\": 3.0}, {\"data\": \"2021-08-05\", \"fonte_dados\": \"Painel Federal\", \"aplic_por_dia\": 1.0}, {\"data\": \"2021-08-06\", \"fonte_dados\": \"Painel Federal\", \"aplic_por_dia\": 3.0}, {\"data\": \"2021-08-07\", \"fonte_dados\": \"Painel Federal\", \"aplic_por_dia\": 2.0}, {\"data\": \"2021-08-08\", \"fonte_dados\": \"Painel Federal\", \"aplic_por_dia\": 0.0}, {\"data\": \"2021-08-09\", \"fonte_dados\": \"Painel Federal\", \"aplic_por_dia\": 0.0}, {\"data\": \"2021-08-10\", \"fonte_dados\": \"Painel Federal\", \"aplic_por_dia\": 1.0}, {\"data\": \"2021-08-11\", \"fonte_dados\": \"Painel Federal\", \"aplic_por_dia\": 2.0}, {\"data\": \"2021-08-12\", \"fonte_dados\": \"Painel Federal\", \"aplic_por_dia\": 1.0}, {\"data\": \"2021-08-13\", \"fonte_dados\": \"Painel Federal\", \"aplic_por_dia\": 0.0}, {\"data\": \"2021-08-14\", \"fonte_dados\": \"Painel Federal\", \"aplic_por_dia\": 0.0}, {\"data\": \"2021-08-15\", \"fonte_dados\": \"Painel Federal\", \"aplic_por_dia\": 1.0}, {\"data\": \"2021-08-16\", \"fonte_dados\": \"Painel Federal\", \"aplic_por_dia\": 2.0}, {\"data\": \"2021-08-17\", \"fonte_dados\": \"Painel Federal\", \"aplic_por_dia\": 4.0}, {\"data\": \"2021-08-18\", \"fonte_dados\": \"Painel Federal\", \"aplic_por_dia\": 0.0}, {\"data\": \"2021-08-19\", \"fonte_dados\": \"Painel Federal\", \"aplic_por_dia\": 1.0}, {\"data\": \"2021-08-20\", \"fonte_dados\": \"Painel Federal\", \"aplic_por_dia\": 0.0}, {\"data\": \"2021-08-21\", \"fonte_dados\": \"Painel Federal\", \"aplic_por_dia\": 4.0}, {\"data\": \"2021-08-22\", \"fonte_dados\": \"Painel Federal\", \"aplic_por_dia\": 0.0}, {\"data\": \"2021-08-23\", \"fonte_dados\": \"Painel Federal\", \"aplic_por_dia\": 1.0}, {\"data\": \"2021-08-24\", \"fonte_dados\": \"Painel Federal\", \"aplic_por_dia\": 0.0}, {\"data\": \"2021-08-25\", \"fonte_dados\": \"Painel Federal\", \"aplic_por_dia\": 0.0}, {\"data\": \"2021-08-26\", \"fonte_dados\": \"Painel Federal\", \"aplic_por_dia\": 1.0}, {\"data\": \"2021-08-27\", \"fonte_dados\": \"Painel Federal\", \"aplic_por_dia\": 1.0}, {\"data\": \"2021-08-28\", \"fonte_dados\": \"Painel Federal\", \"aplic_por_dia\": 1.0}, {\"data\": \"2021-08-29\", \"fonte_dados\": \"Painel Federal\", \"aplic_por_dia\": 0.0}, {\"data\": \"2021-08-30\", \"fonte_dados\": \"Painel Federal\", \"aplic_por_dia\": 0.0}, {\"data\": \"2021-08-31\", \"fonte_dados\": \"Painel Federal\", \"aplic_por_dia\": 1.0}, {\"data\": \"2021-06-01\", \"fonte_dados\": \"Federal\", \"aplic_por_dia\": 2.0}, {\"data\": \"2021-06-02\", \"fonte_dados\": \"Federal\", \"aplic_por_dia\": 6.0}, {\"data\": \"2021-06-03\", \"fonte_dados\": \"Federal\", \"aplic_por_dia\": 2.0}, {\"data\": \"2021-06-04\", \"fonte_dados\": \"Federal\", \"aplic_por_dia\": 1.0}, {\"data\": \"2021-06-05\", \"fonte_dados\": \"Federal\", \"aplic_por_dia\": 5.0}, {\"data\": \"2021-06-06\", \"fonte_dados\": \"Federal\", \"aplic_por_dia\": 6.0}, {\"data\": \"2021-06-07\", \"fonte_dados\": \"Federal\", \"aplic_por_dia\": 5.0}, {\"data\": \"2021-06-08\", \"fonte_dados\": \"Federal\", \"aplic_por_dia\": 3.0}, {\"data\": \"2021-06-09\", \"fonte_dados\": \"Federal\", \"aplic_por_dia\": 6.0}, {\"data\": \"2021-06-10\", \"fonte_dados\": \"Federal\", \"aplic_por_dia\": 1.0}, {\"data\": \"2021-06-11\", \"fonte_dados\": \"Federal\", \"aplic_por_dia\": 6.0}, {\"data\": \"2021-06-12\", \"fonte_dados\": \"Federal\", \"aplic_por_dia\": 6.0}, {\"data\": \"2021-06-13\", \"fonte_dados\": \"Federal\", \"aplic_por_dia\": 7.0}, {\"data\": \"2021-06-14\", \"fonte_dados\": \"Federal\", \"aplic_por_dia\": 4.0}, {\"data\": \"2021-06-15\", \"fonte_dados\": \"Federal\", \"aplic_por_dia\": 4.0}, {\"data\": \"2021-06-16\", \"fonte_dados\": \"Federal\", \"aplic_por_dia\": 5.0}, {\"data\": \"2021-06-17\", \"fonte_dados\": \"Federal\", \"aplic_por_dia\": 4.0}, {\"data\": \"2021-06-18\", \"fonte_dados\": \"Federal\", \"aplic_por_dia\": 7.0}, {\"data\": \"2021-06-19\", \"fonte_dados\": \"Federal\", \"aplic_por_dia\": 5.0}, {\"data\": \"2021-06-20\", \"fonte_dados\": \"Federal\", \"aplic_por_dia\": 6.0}, {\"data\": \"2021-06-21\", \"fonte_dados\": \"Federal\", \"aplic_por_dia\": 3.0}, {\"data\": \"2021-06-22\", \"fonte_dados\": \"Federal\", \"aplic_por_dia\": 1.0}, {\"data\": \"2021-06-23\", \"fonte_dados\": \"Federal\", \"aplic_por_dia\": 2.0}, {\"data\": \"2021-06-24\", \"fonte_dados\": \"Federal\", \"aplic_por_dia\": 3.0}, {\"data\": \"2021-06-25\", \"fonte_dados\": \"Federal\", \"aplic_por_dia\": 1.0}, {\"data\": \"2021-06-26\", \"fonte_dados\": \"Federal\", \"aplic_por_dia\": 2.0}, {\"data\": \"2021-06-27\", \"fonte_dados\": \"Federal\", \"aplic_por_dia\": 0.0}, {\"data\": \"2021-06-28\", \"fonte_dados\": \"Federal\", \"aplic_por_dia\": 2.0}, {\"data\": \"2021-06-29\", \"fonte_dados\": \"Federal\", \"aplic_por_dia\": 1.0}, {\"data\": \"2021-06-30\", \"fonte_dados\": \"Federal\", \"aplic_por_dia\": 3.0}, {\"data\": \"2021-07-01\", \"fonte_dados\": \"Federal\", \"aplic_por_dia\": 3.0}, {\"data\": \"2021-07-03\", \"fonte_dados\": \"Federal\", \"aplic_por_dia\": 2.0}, {\"data\": \"2021-07-04\", \"fonte_dados\": \"Federal\", \"aplic_por_dia\": 3.0}, {\"data\": \"2021-07-05\", \"fonte_dados\": \"Federal\", \"aplic_por_dia\": 6.0}, {\"data\": \"2021-07-06\", \"fonte_dados\": \"Federal\", \"aplic_por_dia\": 2.0}, {\"data\": \"2021-07-07\", \"fonte_dados\": \"Federal\", \"aplic_por_dia\": 0.0}, {\"data\": \"2021-07-08\", \"fonte_dados\": \"Federal\", \"aplic_por_dia\": 1.0}, {\"data\": \"2021-07-09\", \"fonte_dados\": \"Federal\", \"aplic_por_dia\": 5.0}, {\"data\": \"2021-07-10\", \"fonte_dados\": \"Federal\", \"aplic_por_dia\": 1.0}, {\"data\": \"2021-07-11\", \"fonte_dados\": \"Federal\", \"aplic_por_dia\": 1.0}, {\"data\": \"2021-07-12\", \"fonte_dados\": \"Federal\", \"aplic_por_dia\": 2.0}, {\"data\": \"2021-07-13\", \"fonte_dados\": \"Federal\", \"aplic_por_dia\": 2.0}, {\"data\": \"2021-07-14\", \"fonte_dados\": \"Federal\", \"aplic_por_dia\": 1.0}, {\"data\": \"2021-07-15\", \"fonte_dados\": \"Federal\", \"aplic_por_dia\": 1.0}, {\"data\": \"2021-07-16\", \"fonte_dados\": \"Federal\", \"aplic_por_dia\": 0.0}, {\"data\": \"2021-07-17\", \"fonte_dados\": \"Federal\", \"aplic_por_dia\": 2.0}, {\"data\": \"2021-07-18\", \"fonte_dados\": \"Federal\", \"aplic_por_dia\": 4.0}, {\"data\": \"2021-07-19\", \"fonte_dados\": \"Federal\", \"aplic_por_dia\": 3.0}, {\"data\": \"2021-07-20\", \"fonte_dados\": \"Federal\", \"aplic_por_dia\": 0.0}, {\"data\": \"2021-07-21\", \"fonte_dados\": \"Federal\", \"aplic_por_dia\": 1.0}, {\"data\": \"2021-07-22\", \"fonte_dados\": \"Federal\", \"aplic_por_dia\": 0.0}, {\"data\": \"2021-07-23\", \"fonte_dados\": \"Federal\", \"aplic_por_dia\": 4.0}, {\"data\": \"2021-07-24\", \"fonte_dados\": \"Federal\", \"aplic_por_dia\": 0.0}, {\"data\": \"2021-07-25\", \"fonte_dados\": \"Federal\", \"aplic_por_dia\": 7.0}, {\"data\": \"2021-07-26\", \"fonte_dados\": \"Federal\", \"aplic_por_dia\": 1.0}, {\"data\": \"2021-07-27\", \"fonte_dados\": \"Federal\", \"aplic_por_dia\": 1.0}, {\"data\": \"2021-07-28\", \"fonte_dados\": \"Federal\", \"aplic_por_dia\": 1.0}, {\"data\": \"2021-07-29\", \"fonte_dados\": \"Federal\", \"aplic_por_dia\": 1.0}, {\"data\": \"2021-07-30\", \"fonte_dados\": \"Federal\", \"aplic_por_dia\": 2.0}, {\"data\": \"2021-07-31\", \"fonte_dados\": \"Federal\", \"aplic_por_dia\": 2.0}, {\"data\": \"2021-08-01\", \"fonte_dados\": \"Federal\", \"aplic_por_dia\": 3.0}, {\"data\": \"2021-08-02\", \"fonte_dados\": \"Federal\", \"aplic_por_dia\": 0.0}, {\"data\": \"2021-08-03\", \"fonte_dados\": \"Federal\", \"aplic_por_dia\": 5.0}, {\"data\": \"2021-08-04\", \"fonte_dados\": \"Federal\", \"aplic_por_dia\": 0.0}, {\"data\": \"2021-08-05\", \"fonte_dados\": \"Federal\", \"aplic_por_dia\": 1.0}, {\"data\": \"2021-08-06\", \"fonte_dados\": \"Federal\", \"aplic_por_dia\": 1.0}, {\"data\": \"2021-08-07\", \"fonte_dados\": \"Federal\", \"aplic_por_dia\": 2.0}, {\"data\": \"2021-08-08\", \"fonte_dados\": \"Federal\", \"aplic_por_dia\": 1.0}, {\"data\": \"2021-08-09\", \"fonte_dados\": \"Federal\", \"aplic_por_dia\": 1.0}, {\"data\": \"2021-08-10\", \"fonte_dados\": \"Federal\", \"aplic_por_dia\": 0.0}, {\"data\": \"2021-08-11\", \"fonte_dados\": \"Federal\", \"aplic_por_dia\": 11.0}, {\"data\": \"2021-08-12\", \"fonte_dados\": \"Federal\", \"aplic_por_dia\": 2.0}, {\"data\": \"2021-08-13\", \"fonte_dados\": \"Federal\", \"aplic_por_dia\": 2.0}, {\"data\": \"2021-08-14\", \"fonte_dados\": \"Federal\", \"aplic_por_dia\": 1.0}, {\"data\": \"2021-08-15\", \"fonte_dados\": \"Federal\", \"aplic_por_dia\": 0.0}, {\"data\": \"2021-08-16\", \"fonte_dados\": \"Federal\", \"aplic_por_dia\": 3.0}, {\"data\": \"2021-08-17\", \"fonte_dados\": \"Federal\", \"aplic_por_dia\": 3.0}, {\"data\": \"2021-08-18\", \"fonte_dados\": \"Federal\", \"aplic_por_dia\": 1.0}, {\"data\": \"2021-08-19\", \"fonte_dados\": \"Federal\", \"aplic_por_dia\": 0.0}, {\"data\": \"2021-08-20\", \"fonte_dados\": \"Federal\", \"aplic_por_dia\": 1.0}, {\"data\": \"2021-08-21\", \"fonte_dados\": \"Federal\", \"aplic_por_dia\": 4.0}, {\"data\": \"2021-08-22\", \"fonte_dados\": \"Federal\", \"aplic_por_dia\": 0.0}, {\"data\": \"2021-08-23\", \"fonte_dados\": \"Federal\", \"aplic_por_dia\": 2.0}, {\"data\": \"2021-08-24\", \"fonte_dados\": \"Federal\", \"aplic_por_dia\": 8.0}, {\"data\": \"2021-08-25\", \"fonte_dados\": \"Federal\", \"aplic_por_dia\": 1.0}, {\"data\": \"2021-08-26\", \"fonte_dados\": \"Federal\", \"aplic_por_dia\": 2.0}, {\"data\": \"2021-08-27\", \"fonte_dados\": \"Federal\", \"aplic_por_dia\": 2.0}, {\"data\": \"2021-08-28\", \"fonte_dados\": \"Federal\", \"aplic_por_dia\": 2.0}, {\"data\": \"2021-08-29\", \"fonte_dados\": \"Federal\", \"aplic_por_dia\": 0.0}, {\"data\": \"2021-08-30\", \"fonte_dados\": \"Federal\", \"aplic_por_dia\": 0.0}, {\"data\": \"2021-08-31\", \"fonte_dados\": \"Federal\", \"aplic_por_dia\": 2.0}, {\"data\": \"2021-06-01\", \"fonte_dados\": \"Municipal\", \"aplic_por_dia\": 3.0}, {\"data\": \"2021-06-02\", \"fonte_dados\": \"Municipal\", \"aplic_por_dia\": 4.0}, {\"data\": \"2021-06-03\", \"fonte_dados\": \"Municipal\", \"aplic_por_dia\": 4.0}, {\"data\": \"2021-06-04\", \"fonte_dados\": \"Municipal\", \"aplic_por_dia\": 6.0}, {\"data\": \"2021-06-05\", \"fonte_dados\": \"Municipal\", \"aplic_por_dia\": 4.0}, {\"data\": \"2021-06-06\", \"fonte_dados\": \"Municipal\", \"aplic_por_dia\": 4.0}, {\"data\": \"2021-06-07\", \"fonte_dados\": \"Municipal\", \"aplic_por_dia\": 5.0}, {\"data\": \"2021-06-08\", \"fonte_dados\": \"Municipal\", \"aplic_por_dia\": 4.0}, {\"data\": \"2021-06-09\", \"fonte_dados\": \"Municipal\", \"aplic_por_dia\": 6.0}, {\"data\": \"2021-06-10\", \"fonte_dados\": \"Municipal\", \"aplic_por_dia\": 8.0}, {\"data\": \"2021-06-11\", \"fonte_dados\": \"Municipal\", \"aplic_por_dia\": 12.0}, {\"data\": \"2021-06-12\", \"fonte_dados\": \"Municipal\", \"aplic_por_dia\": 4.0}, {\"data\": \"2021-06-13\", \"fonte_dados\": \"Municipal\", \"aplic_por_dia\": 6.0}, {\"data\": \"2021-06-14\", \"fonte_dados\": \"Municipal\", \"aplic_por_dia\": 4.0}, {\"data\": \"2021-06-15\", \"fonte_dados\": \"Municipal\", \"aplic_por_dia\": 4.0}, {\"data\": \"2021-06-16\", \"fonte_dados\": \"Municipal\", \"aplic_por_dia\": 5.0}, {\"data\": \"2021-06-17\", \"fonte_dados\": \"Municipal\", \"aplic_por_dia\": 4.0}, {\"data\": \"2021-06-18\", \"fonte_dados\": \"Municipal\", \"aplic_por_dia\": 6.0}, {\"data\": \"2021-06-19\", \"fonte_dados\": \"Municipal\", \"aplic_por_dia\": 4.0}, {\"data\": \"2021-06-20\", \"fonte_dados\": \"Municipal\", \"aplic_por_dia\": 4.0}, {\"data\": \"2021-06-21\", \"fonte_dados\": \"Municipal\", \"aplic_por_dia\": 6.0}, {\"data\": \"2021-06-22\", \"fonte_dados\": \"Municipal\", \"aplic_por_dia\": 6.0}, {\"data\": \"2021-06-23\", \"fonte_dados\": \"Municipal\", \"aplic_por_dia\": 6.0}, {\"data\": \"2021-06-24\", \"fonte_dados\": \"Municipal\", \"aplic_por_dia\": 6.0}, {\"data\": \"2021-06-25\", \"fonte_dados\": \"Municipal\", \"aplic_por_dia\": 6.0}, {\"data\": \"2021-06-26\", \"fonte_dados\": \"Municipal\", \"aplic_por_dia\": 6.0}, {\"data\": \"2021-06-27\", \"fonte_dados\": \"Municipal\", \"aplic_por_dia\": 7.0}, {\"data\": \"2021-06-28\", \"fonte_dados\": \"Municipal\", \"aplic_por_dia\": 6.0}, {\"data\": \"2021-06-29\", \"fonte_dados\": \"Municipal\", \"aplic_por_dia\": 5.0}, {\"data\": \"2021-06-30\", \"fonte_dados\": \"Municipal\", \"aplic_por_dia\": 5.0}, {\"data\": \"2021-07-01\", \"fonte_dados\": \"Municipal\", \"aplic_por_dia\": 3.0}, {\"data\": \"2021-07-03\", \"fonte_dados\": \"Municipal\", \"aplic_por_dia\": 7.0}, {\"data\": \"2021-07-04\", \"fonte_dados\": \"Municipal\", \"aplic_por_dia\": 3.0}, {\"data\": \"2021-07-05\", \"fonte_dados\": \"Municipal\", \"aplic_por_dia\": 4.0}, {\"data\": \"2021-07-06\", \"fonte_dados\": \"Municipal\", \"aplic_por_dia\": 3.0}, {\"data\": \"2021-07-07\", \"fonte_dados\": \"Municipal\", \"aplic_por_dia\": 4.0}, {\"data\": \"2021-07-08\", \"fonte_dados\": \"Municipal\", \"aplic_por_dia\": 3.0}, {\"data\": \"2021-07-09\", \"fonte_dados\": \"Municipal\", \"aplic_por_dia\": 3.0}, {\"data\": \"2021-07-10\", \"fonte_dados\": \"Municipal\", \"aplic_por_dia\": 3.0}, {\"data\": \"2021-07-11\", \"fonte_dados\": \"Municipal\", \"aplic_por_dia\": 2.0}, {\"data\": \"2021-07-12\", \"fonte_dados\": \"Municipal\", \"aplic_por_dia\": 3.0}, {\"data\": \"2021-07-13\", \"fonte_dados\": \"Municipal\", \"aplic_por_dia\": 0.0}, {\"data\": \"2021-07-14\", \"fonte_dados\": \"Municipal\", \"aplic_por_dia\": 0.0}, {\"data\": \"2021-07-15\", \"fonte_dados\": \"Municipal\", \"aplic_por_dia\": 2.0}, {\"data\": \"2021-07-16\", \"fonte_dados\": \"Municipal\", \"aplic_por_dia\": 0.0}, {\"data\": \"2021-07-17\", \"fonte_dados\": \"Municipal\", \"aplic_por_dia\": 2.0}, {\"data\": \"2021-07-18\", \"fonte_dados\": \"Municipal\", \"aplic_por_dia\": 0.0}, {\"data\": \"2021-07-19\", \"fonte_dados\": \"Municipal\", \"aplic_por_dia\": 2.0}, {\"data\": \"2021-07-20\", \"fonte_dados\": \"Municipal\", \"aplic_por_dia\": 1.0}, {\"data\": \"2021-07-21\", \"fonte_dados\": \"Municipal\", \"aplic_por_dia\": 0.0}, {\"data\": \"2021-07-22\", \"fonte_dados\": \"Municipal\", \"aplic_por_dia\": 1.0}, {\"data\": \"2021-07-23\", \"fonte_dados\": \"Municipal\", \"aplic_por_dia\": 1.0}, {\"data\": \"2021-07-24\", \"fonte_dados\": \"Municipal\", \"aplic_por_dia\": 2.0}, {\"data\": \"2021-07-25\", \"fonte_dados\": \"Municipal\", \"aplic_por_dia\": 0.0}, {\"data\": \"2021-07-26\", \"fonte_dados\": \"Municipal\", \"aplic_por_dia\": 3.0}, {\"data\": \"2021-07-27\", \"fonte_dados\": \"Municipal\", \"aplic_por_dia\": 1.0}, {\"data\": \"2021-07-28\", \"fonte_dados\": \"Municipal\", \"aplic_por_dia\": 3.0}, {\"data\": \"2021-07-29\", \"fonte_dados\": \"Municipal\", \"aplic_por_dia\": 3.0}, {\"data\": \"2021-07-30\", \"fonte_dados\": \"Municipal\", \"aplic_por_dia\": 0.0}, {\"data\": \"2021-07-31\", \"fonte_dados\": \"Municipal\", \"aplic_por_dia\": 1.0}, {\"data\": \"2021-08-01\", \"fonte_dados\": \"Municipal\", \"aplic_por_dia\": 0.0}, {\"data\": \"2021-08-02\", \"fonte_dados\": \"Municipal\", \"aplic_por_dia\": 0.0}, {\"data\": \"2021-08-03\", \"fonte_dados\": \"Municipal\", \"aplic_por_dia\": 0.0}, {\"data\": \"2021-08-04\", \"fonte_dados\": \"Municipal\", \"aplic_por_dia\": 2.0}, {\"data\": \"2021-08-05\", \"fonte_dados\": \"Municipal\", \"aplic_por_dia\": 0.0}, {\"data\": \"2021-08-06\", \"fonte_dados\": \"Municipal\", \"aplic_por_dia\": 0.0}, {\"data\": \"2021-08-07\", \"fonte_dados\": \"Municipal\", \"aplic_por_dia\": 0.0}, {\"data\": \"2021-08-08\", \"fonte_dados\": \"Municipal\", \"aplic_por_dia\": 0.0}, {\"data\": \"2021-08-09\", \"fonte_dados\": \"Municipal\", \"aplic_por_dia\": 5.0}, {\"data\": \"2021-08-10\", \"fonte_dados\": \"Municipal\", \"aplic_por_dia\": 0.0}, {\"data\": \"2021-08-11\", \"fonte_dados\": \"Municipal\", \"aplic_por_dia\": 3.0}, {\"data\": \"2021-08-12\", \"fonte_dados\": \"Municipal\", \"aplic_por_dia\": 1.0}, {\"data\": \"2021-08-13\", \"fonte_dados\": \"Municipal\", \"aplic_por_dia\": 0.0}, {\"data\": \"2021-08-14\", \"fonte_dados\": \"Municipal\", \"aplic_por_dia\": 0.0}, {\"data\": \"2021-08-15\", \"fonte_dados\": \"Municipal\", \"aplic_por_dia\": 0.0}, {\"data\": \"2021-08-16\", \"fonte_dados\": \"Municipal\", \"aplic_por_dia\": 3.0}, {\"data\": \"2021-08-17\", \"fonte_dados\": \"Municipal\", \"aplic_por_dia\": 3.0}, {\"data\": \"2021-08-18\", \"fonte_dados\": \"Municipal\", \"aplic_por_dia\": 1.0}, {\"data\": \"2021-08-19\", \"fonte_dados\": \"Municipal\", \"aplic_por_dia\": 0.0}, {\"data\": \"2021-08-20\", \"fonte_dados\": \"Municipal\", \"aplic_por_dia\": 1.0}, {\"data\": \"2021-08-21\", \"fonte_dados\": \"Municipal\", \"aplic_por_dia\": 0.0}, {\"data\": \"2021-08-22\", \"fonte_dados\": \"Municipal\", \"aplic_por_dia\": 0.0}, {\"data\": \"2021-08-23\", \"fonte_dados\": \"Municipal\", \"aplic_por_dia\": 4.0}, {\"data\": \"2021-08-24\", \"fonte_dados\": \"Municipal\", \"aplic_por_dia\": 0.0}, {\"data\": \"2021-08-25\", \"fonte_dados\": \"Municipal\", \"aplic_por_dia\": 0.0}, {\"data\": \"2021-08-26\", \"fonte_dados\": \"Municipal\", \"aplic_por_dia\": 0.0}, {\"data\": \"2021-08-27\", \"fonte_dados\": \"Municipal\", \"aplic_por_dia\": 0.0}, {\"data\": \"2021-08-28\", \"fonte_dados\": \"Municipal\", \"aplic_por_dia\": 0.0}, {\"data\": \"2021-08-29\", \"fonte_dados\": \"Municipal\", \"aplic_por_dia\": 0.0}, {\"data\": \"2021-08-30\", \"fonte_dados\": \"Municipal\", \"aplic_por_dia\": 2.0}, {\"data\": \"2021-08-31\", \"fonte_dados\": \"Municipal\", \"aplic_por_dia\": 1.0}]}}, {\"mode\": \"vega-lite\"});\n",
       "</script>"
      ],
      "text/plain": [
       "alt.Chart(...)"
      ]
     },
     "execution_count": 185,
     "metadata": {},
     "output_type": "execute_result"
    }
   ],
   "source": [
    "alt.Chart(obitosPorDia).mark_line().encode(\n",
    "    alt.X('data:T', title='Data'),\n",
    "    alt.Y('aplic_por_dia:Q', title='Nº de Obitos'),\n",
    "    alt.Color('fonte_dados:N', title='Base dos Dados')\n",
    ").properties(\n",
    "    width=700,\n",
    "    title='Quantidade de Obitos Confirmados por Dia'\n",
    ")"
   ]
  },
  {
   "cell_type": "code",
   "execution_count": 187,
   "metadata": {},
   "outputs": [],
   "source": [
    "obitosPorDiaMedMovel = pd.DataFrame({\n",
    "  'data': pf_obitosPorDia.index.tolist(),\n",
    "  'Painel Federal': pf_obitosPorDia['media_movel'].tolist(),\n",
    "  'Federal': df_obitosPorDia['media_movel'].tolist(),\n",
    "  'Municipal': dm_obitosPorDia['media_movel'].tolist()\n",
    "}).melt(id_vars=['data'], value_vars=['Painel Federal', 'Federal', 'Municipal'],\n",
    "        var_name='fonte_dados', value_name='aplic_por_dia')"
   ]
  },
  {
   "cell_type": "code",
   "execution_count": 188,
   "metadata": {},
   "outputs": [
    {
     "data": {
      "text/html": [
       "\n",
       "<div id=\"altair-viz-79d9673d5fc044fc85fbcd88bcd5701b\"></div>\n",
       "<script type=\"text/javascript\">\n",
       "  (function(spec, embedOpt){\n",
       "    let outputDiv = document.currentScript.previousElementSibling;\n",
       "    if (outputDiv.id !== \"altair-viz-79d9673d5fc044fc85fbcd88bcd5701b\") {\n",
       "      outputDiv = document.getElementById(\"altair-viz-79d9673d5fc044fc85fbcd88bcd5701b\");\n",
       "    }\n",
       "    const paths = {\n",
       "      \"vega\": \"https://cdn.jsdelivr.net/npm//vega@5?noext\",\n",
       "      \"vega-lib\": \"https://cdn.jsdelivr.net/npm//vega-lib?noext\",\n",
       "      \"vega-lite\": \"https://cdn.jsdelivr.net/npm//vega-lite@4.8.1?noext\",\n",
       "      \"vega-embed\": \"https://cdn.jsdelivr.net/npm//vega-embed@6?noext\",\n",
       "    };\n",
       "\n",
       "    function loadScript(lib) {\n",
       "      return new Promise(function(resolve, reject) {\n",
       "        var s = document.createElement('script');\n",
       "        s.src = paths[lib];\n",
       "        s.async = true;\n",
       "        s.onload = () => resolve(paths[lib]);\n",
       "        s.onerror = () => reject(`Error loading script: ${paths[lib]}`);\n",
       "        document.getElementsByTagName(\"head\")[0].appendChild(s);\n",
       "      });\n",
       "    }\n",
       "\n",
       "    function showError(err) {\n",
       "      outputDiv.innerHTML = `<div class=\"error\" style=\"color:red;\">${err}</div>`;\n",
       "      throw err;\n",
       "    }\n",
       "\n",
       "    function displayChart(vegaEmbed) {\n",
       "      vegaEmbed(outputDiv, spec, embedOpt)\n",
       "        .catch(err => showError(`Javascript Error: ${err.message}<br>This usually means there's a typo in your chart specification. See the javascript console for the full traceback.`));\n",
       "    }\n",
       "\n",
       "    if(typeof define === \"function\" && define.amd) {\n",
       "      requirejs.config({paths});\n",
       "      require([\"vega-embed\"], displayChart, err => showError(`Error loading script: ${err.message}`));\n",
       "    } else if (typeof vegaEmbed === \"function\") {\n",
       "      displayChart(vegaEmbed);\n",
       "    } else {\n",
       "      loadScript(\"vega\")\n",
       "        .then(() => loadScript(\"vega-lite\"))\n",
       "        .then(() => loadScript(\"vega-embed\"))\n",
       "        .catch(showError)\n",
       "        .then(() => displayChart(vegaEmbed));\n",
       "    }\n",
       "  })({\"config\": {\"view\": {\"continuousWidth\": 400, \"continuousHeight\": 300}}, \"data\": {\"name\": \"data-7e945644fafa25294bd2fa402ad29253\"}, \"mark\": {\"type\": \"line\", \"point\": true}, \"encoding\": {\"color\": {\"type\": \"nominal\", \"field\": \"fonte_dados\", \"title\": \"Base dos Dados\"}, \"x\": {\"type\": \"temporal\", \"field\": \"data\", \"title\": \"Data\"}, \"y\": {\"type\": \"quantitative\", \"field\": \"aplic_por_dia\", \"title\": \"N\\u00ba de Obitos\"}}, \"title\": \"M\\u00e9dia Movel de Obitos Confirmados por Dia (Compara\\u00e7\\u00e3o)\", \"width\": 750, \"$schema\": \"https://vega.github.io/schema/vega-lite/v4.8.1.json\", \"datasets\": {\"data-7e945644fafa25294bd2fa402ad29253\": [{\"data\": \"2021-06-01\", \"fonte_dados\": \"Painel Federal\", \"aplic_por_dia\": null}, {\"data\": \"2021-06-02\", \"fonte_dados\": \"Painel Federal\", \"aplic_por_dia\": null}, {\"data\": \"2021-06-03\", \"fonte_dados\": \"Painel Federal\", \"aplic_por_dia\": null}, {\"data\": \"2021-06-04\", \"fonte_dados\": \"Painel Federal\", \"aplic_por_dia\": null}, {\"data\": \"2021-06-05\", \"fonte_dados\": \"Painel Federal\", \"aplic_por_dia\": null}, {\"data\": \"2021-06-06\", \"fonte_dados\": \"Painel Federal\", \"aplic_por_dia\": null}, {\"data\": \"2021-06-07\", \"fonte_dados\": \"Painel Federal\", \"aplic_por_dia\": 4.285714285714286}, {\"data\": \"2021-06-08\", \"fonte_dados\": \"Painel Federal\", \"aplic_por_dia\": 3.857142857142857}, {\"data\": \"2021-06-09\", \"fonte_dados\": \"Painel Federal\", \"aplic_por_dia\": 3.857142857142857}, {\"data\": \"2021-06-10\", \"fonte_dados\": \"Painel Federal\", \"aplic_por_dia\": 4.571428571428571}, {\"data\": \"2021-06-11\", \"fonte_dados\": \"Painel Federal\", \"aplic_por_dia\": 5.142857142857143}, {\"data\": \"2021-06-12\", \"fonte_dados\": \"Painel Federal\", \"aplic_por_dia\": 4.857142857142857}, {\"data\": \"2021-06-13\", \"fonte_dados\": \"Painel Federal\", \"aplic_por_dia\": 4.857142857142857}, {\"data\": \"2021-06-14\", \"fonte_dados\": \"Painel Federal\", \"aplic_por_dia\": 6.0}, {\"data\": \"2021-06-15\", \"fonte_dados\": \"Painel Federal\", \"aplic_por_dia\": 6.142857142857143}, {\"data\": \"2021-06-16\", \"fonte_dados\": \"Painel Federal\", \"aplic_por_dia\": 5.857142857142857}, {\"data\": \"2021-06-17\", \"fonte_dados\": \"Painel Federal\", \"aplic_por_dia\": 5.142857142857143}, {\"data\": \"2021-06-18\", \"fonte_dados\": \"Painel Federal\", \"aplic_por_dia\": 4.714285714285714}, {\"data\": \"2021-06-19\", \"fonte_dados\": \"Painel Federal\", \"aplic_por_dia\": 4.285714285714286}, {\"data\": \"2021-06-20\", \"fonte_dados\": \"Painel Federal\", \"aplic_por_dia\": 4.285714285714286}, {\"data\": \"2021-06-21\", \"fonte_dados\": \"Painel Federal\", \"aplic_por_dia\": 3.2857142857142856}, {\"data\": \"2021-06-22\", \"fonte_dados\": \"Painel Federal\", \"aplic_por_dia\": 3.4285714285714284}, {\"data\": \"2021-06-23\", \"fonte_dados\": \"Painel Federal\", \"aplic_por_dia\": 3.142857142857143}, {\"data\": \"2021-06-24\", \"fonte_dados\": \"Painel Federal\", \"aplic_por_dia\": 3.142857142857143}, {\"data\": \"2021-06-25\", \"fonte_dados\": \"Painel Federal\", \"aplic_por_dia\": 3.0}, {\"data\": \"2021-06-26\", \"fonte_dados\": \"Painel Federal\", \"aplic_por_dia\": 3.0}, {\"data\": \"2021-06-27\", \"fonte_dados\": \"Painel Federal\", \"aplic_por_dia\": 2.5714285714285716}, {\"data\": \"2021-06-28\", \"fonte_dados\": \"Painel Federal\", \"aplic_por_dia\": 2.2857142857142856}, {\"data\": \"2021-06-29\", \"fonte_dados\": \"Painel Federal\", \"aplic_por_dia\": 2.4285714285714284}, {\"data\": \"2021-06-30\", \"fonte_dados\": \"Painel Federal\", \"aplic_por_dia\": 2.4285714285714284}, {\"data\": \"2021-07-01\", \"fonte_dados\": \"Painel Federal\", \"aplic_por_dia\": 2.2857142857142856}, {\"data\": \"2021-07-03\", \"fonte_dados\": \"Painel Federal\", \"aplic_por_dia\": 2.5714285714285716}, {\"data\": \"2021-07-04\", \"fonte_dados\": \"Painel Federal\", \"aplic_por_dia\": 2.4285714285714284}, {\"data\": \"2021-07-05\", \"fonte_dados\": \"Painel Federal\", \"aplic_por_dia\": 2.142857142857143}, {\"data\": \"2021-07-06\", \"fonte_dados\": \"Painel Federal\", \"aplic_por_dia\": 2.142857142857143}, {\"data\": \"2021-07-07\", \"fonte_dados\": \"Painel Federal\", \"aplic_por_dia\": 2.7142857142857144}, {\"data\": \"2021-07-08\", \"fonte_dados\": \"Painel Federal\", \"aplic_por_dia\": 2.7142857142857144}, {\"data\": \"2021-07-09\", \"fonte_dados\": \"Painel Federal\", \"aplic_por_dia\": 2.4285714285714284}, {\"data\": \"2021-07-10\", \"fonte_dados\": \"Painel Federal\", \"aplic_por_dia\": 2.2857142857142856}, {\"data\": \"2021-07-11\", \"fonte_dados\": \"Painel Federal\", \"aplic_por_dia\": 2.142857142857143}, {\"data\": \"2021-07-12\", \"fonte_dados\": \"Painel Federal\", \"aplic_por_dia\": 2.2857142857142856}, {\"data\": \"2021-07-13\", \"fonte_dados\": \"Painel Federal\", \"aplic_por_dia\": 1.7142857142857142}, {\"data\": \"2021-07-14\", \"fonte_dados\": \"Painel Federal\", \"aplic_por_dia\": 1.4285714285714286}, {\"data\": \"2021-07-15\", \"fonte_dados\": \"Painel Federal\", \"aplic_por_dia\": 1.4285714285714286}, {\"data\": \"2021-07-16\", \"fonte_dados\": \"Painel Federal\", \"aplic_por_dia\": 1.2857142857142858}, {\"data\": \"2021-07-17\", \"fonte_dados\": \"Painel Federal\", \"aplic_por_dia\": 1.1428571428571428}, {\"data\": \"2021-07-18\", \"fonte_dados\": \"Painel Federal\", \"aplic_por_dia\": 1.0}, {\"data\": \"2021-07-19\", \"fonte_dados\": \"Painel Federal\", \"aplic_por_dia\": 1.2857142857142858}, {\"data\": \"2021-07-20\", \"fonte_dados\": \"Painel Federal\", \"aplic_por_dia\": 1.4285714285714286}, {\"data\": \"2021-07-21\", \"fonte_dados\": \"Painel Federal\", \"aplic_por_dia\": 0.8571428571428571}, {\"data\": \"2021-07-22\", \"fonte_dados\": \"Painel Federal\", \"aplic_por_dia\": 0.8571428571428571}, {\"data\": \"2021-07-23\", \"fonte_dados\": \"Painel Federal\", \"aplic_por_dia\": 1.0}, {\"data\": \"2021-07-24\", \"fonte_dados\": \"Painel Federal\", \"aplic_por_dia\": 1.2857142857142858}, {\"data\": \"2021-07-25\", \"fonte_dados\": \"Painel Federal\", \"aplic_por_dia\": 1.7142857142857142}, {\"data\": \"2021-07-26\", \"fonte_dados\": \"Painel Federal\", \"aplic_por_dia\": 1.4285714285714286}, {\"data\": \"2021-07-27\", \"fonte_dados\": \"Painel Federal\", \"aplic_por_dia\": 1.4285714285714286}, {\"data\": \"2021-07-28\", \"fonte_dados\": \"Painel Federal\", \"aplic_por_dia\": 2.0}, {\"data\": \"2021-07-29\", \"fonte_dados\": \"Painel Federal\", \"aplic_por_dia\": 1.8571428571428572}, {\"data\": \"2021-07-30\", \"fonte_dados\": \"Painel Federal\", \"aplic_por_dia\": 1.5714285714285714}, {\"data\": \"2021-07-31\", \"fonte_dados\": \"Painel Federal\", \"aplic_por_dia\": 1.2857142857142858}, {\"data\": \"2021-08-01\", \"fonte_dados\": \"Painel Federal\", \"aplic_por_dia\": 0.8571428571428571}, {\"data\": \"2021-08-02\", \"fonte_dados\": \"Painel Federal\", \"aplic_por_dia\": 0.8571428571428571}, {\"data\": \"2021-08-03\", \"fonte_dados\": \"Painel Federal\", \"aplic_por_dia\": 0.7142857142857143}, {\"data\": \"2021-08-04\", \"fonte_dados\": \"Painel Federal\", \"aplic_por_dia\": 0.7142857142857143}, {\"data\": \"2021-08-05\", \"fonte_dados\": \"Painel Federal\", \"aplic_por_dia\": 0.7142857142857143}, {\"data\": \"2021-08-06\", \"fonte_dados\": \"Painel Federal\", \"aplic_por_dia\": 1.1428571428571428}, {\"data\": \"2021-08-07\", \"fonte_dados\": \"Painel Federal\", \"aplic_por_dia\": 1.2857142857142858}, {\"data\": \"2021-08-08\", \"fonte_dados\": \"Painel Federal\", \"aplic_por_dia\": 1.2857142857142858}, {\"data\": \"2021-08-09\", \"fonte_dados\": \"Painel Federal\", \"aplic_por_dia\": 1.2857142857142858}, {\"data\": \"2021-08-10\", \"fonte_dados\": \"Painel Federal\", \"aplic_por_dia\": 1.4285714285714286}, {\"data\": \"2021-08-11\", \"fonte_dados\": \"Painel Federal\", \"aplic_por_dia\": 1.2857142857142858}, {\"data\": \"2021-08-12\", \"fonte_dados\": \"Painel Federal\", \"aplic_por_dia\": 1.2857142857142858}, {\"data\": \"2021-08-13\", \"fonte_dados\": \"Painel Federal\", \"aplic_por_dia\": 0.8571428571428571}, {\"data\": \"2021-08-14\", \"fonte_dados\": \"Painel Federal\", \"aplic_por_dia\": 0.5714285714285714}, {\"data\": \"2021-08-15\", \"fonte_dados\": \"Painel Federal\", \"aplic_por_dia\": 0.7142857142857143}, {\"data\": \"2021-08-16\", \"fonte_dados\": \"Painel Federal\", \"aplic_por_dia\": 1.0}, {\"data\": \"2021-08-17\", \"fonte_dados\": \"Painel Federal\", \"aplic_por_dia\": 1.4285714285714286}, {\"data\": \"2021-08-18\", \"fonte_dados\": \"Painel Federal\", \"aplic_por_dia\": 1.1428571428571428}, {\"data\": \"2021-08-19\", \"fonte_dados\": \"Painel Federal\", \"aplic_por_dia\": 1.1428571428571428}, {\"data\": \"2021-08-20\", \"fonte_dados\": \"Painel Federal\", \"aplic_por_dia\": 1.1428571428571428}, {\"data\": \"2021-08-21\", \"fonte_dados\": \"Painel Federal\", \"aplic_por_dia\": 1.7142857142857142}, {\"data\": \"2021-08-22\", \"fonte_dados\": \"Painel Federal\", \"aplic_por_dia\": 1.5714285714285714}, {\"data\": \"2021-08-23\", \"fonte_dados\": \"Painel Federal\", \"aplic_por_dia\": 1.4285714285714286}, {\"data\": \"2021-08-24\", \"fonte_dados\": \"Painel Federal\", \"aplic_por_dia\": 0.8571428571428571}, {\"data\": \"2021-08-25\", \"fonte_dados\": \"Painel Federal\", \"aplic_por_dia\": 0.8571428571428571}, {\"data\": \"2021-08-26\", \"fonte_dados\": \"Painel Federal\", \"aplic_por_dia\": 0.8571428571428571}, {\"data\": \"2021-08-27\", \"fonte_dados\": \"Painel Federal\", \"aplic_por_dia\": 1.0}, {\"data\": \"2021-08-28\", \"fonte_dados\": \"Painel Federal\", \"aplic_por_dia\": 0.5714285714285714}, {\"data\": \"2021-08-29\", \"fonte_dados\": \"Painel Federal\", \"aplic_por_dia\": 0.5714285714285714}, {\"data\": \"2021-08-30\", \"fonte_dados\": \"Painel Federal\", \"aplic_por_dia\": 0.42857142857142855}, {\"data\": \"2021-08-31\", \"fonte_dados\": \"Painel Federal\", \"aplic_por_dia\": 0.5714285714285714}, {\"data\": \"2021-06-01\", \"fonte_dados\": \"Federal\", \"aplic_por_dia\": null}, {\"data\": \"2021-06-02\", \"fonte_dados\": \"Federal\", \"aplic_por_dia\": null}, {\"data\": \"2021-06-03\", \"fonte_dados\": \"Federal\", \"aplic_por_dia\": null}, {\"data\": \"2021-06-04\", \"fonte_dados\": \"Federal\", \"aplic_por_dia\": null}, {\"data\": \"2021-06-05\", \"fonte_dados\": \"Federal\", \"aplic_por_dia\": null}, {\"data\": \"2021-06-06\", \"fonte_dados\": \"Federal\", \"aplic_por_dia\": null}, {\"data\": \"2021-06-07\", \"fonte_dados\": \"Federal\", \"aplic_por_dia\": 3.857142857142857}, {\"data\": \"2021-06-08\", \"fonte_dados\": \"Federal\", \"aplic_por_dia\": 4.0}, {\"data\": \"2021-06-09\", \"fonte_dados\": \"Federal\", \"aplic_por_dia\": 4.0}, {\"data\": \"2021-06-10\", \"fonte_dados\": \"Federal\", \"aplic_por_dia\": 3.857142857142857}, {\"data\": \"2021-06-11\", \"fonte_dados\": \"Federal\", \"aplic_por_dia\": 4.571428571428571}, {\"data\": \"2021-06-12\", \"fonte_dados\": \"Federal\", \"aplic_por_dia\": 4.714285714285714}, {\"data\": \"2021-06-13\", \"fonte_dados\": \"Federal\", \"aplic_por_dia\": 4.857142857142857}, {\"data\": \"2021-06-14\", \"fonte_dados\": \"Federal\", \"aplic_por_dia\": 4.714285714285714}, {\"data\": \"2021-06-15\", \"fonte_dados\": \"Federal\", \"aplic_por_dia\": 4.857142857142857}, {\"data\": \"2021-06-16\", \"fonte_dados\": \"Federal\", \"aplic_por_dia\": 4.714285714285714}, {\"data\": \"2021-06-17\", \"fonte_dados\": \"Federal\", \"aplic_por_dia\": 5.142857142857143}, {\"data\": \"2021-06-18\", \"fonte_dados\": \"Federal\", \"aplic_por_dia\": 5.285714285714286}, {\"data\": \"2021-06-19\", \"fonte_dados\": \"Federal\", \"aplic_por_dia\": 5.142857142857143}, {\"data\": \"2021-06-20\", \"fonte_dados\": \"Federal\", \"aplic_por_dia\": 5.0}, {\"data\": \"2021-06-21\", \"fonte_dados\": \"Federal\", \"aplic_por_dia\": 4.857142857142857}, {\"data\": \"2021-06-22\", \"fonte_dados\": \"Federal\", \"aplic_por_dia\": 4.428571428571429}, {\"data\": \"2021-06-23\", \"fonte_dados\": \"Federal\", \"aplic_por_dia\": 4.0}, {\"data\": \"2021-06-24\", \"fonte_dados\": \"Federal\", \"aplic_por_dia\": 3.857142857142857}, {\"data\": \"2021-06-25\", \"fonte_dados\": \"Federal\", \"aplic_por_dia\": 3.0}, {\"data\": \"2021-06-26\", \"fonte_dados\": \"Federal\", \"aplic_por_dia\": 2.5714285714285716}, {\"data\": \"2021-06-27\", \"fonte_dados\": \"Federal\", \"aplic_por_dia\": 1.7142857142857142}, {\"data\": \"2021-06-28\", \"fonte_dados\": \"Federal\", \"aplic_por_dia\": 1.5714285714285714}, {\"data\": \"2021-06-29\", \"fonte_dados\": \"Federal\", \"aplic_por_dia\": 1.5714285714285714}, {\"data\": \"2021-06-30\", \"fonte_dados\": \"Federal\", \"aplic_por_dia\": 1.7142857142857142}, {\"data\": \"2021-07-01\", \"fonte_dados\": \"Federal\", \"aplic_por_dia\": 1.7142857142857142}, {\"data\": \"2021-07-03\", \"fonte_dados\": \"Federal\", \"aplic_por_dia\": 1.8571428571428572}, {\"data\": \"2021-07-04\", \"fonte_dados\": \"Federal\", \"aplic_por_dia\": 2.2857142857142856}, {\"data\": \"2021-07-05\", \"fonte_dados\": \"Federal\", \"aplic_por_dia\": 2.857142857142857}, {\"data\": \"2021-07-06\", \"fonte_dados\": \"Federal\", \"aplic_por_dia\": 3.0}, {\"data\": \"2021-07-07\", \"fonte_dados\": \"Federal\", \"aplic_por_dia\": 2.5714285714285716}, {\"data\": \"2021-07-08\", \"fonte_dados\": \"Federal\", \"aplic_por_dia\": 2.2857142857142856}, {\"data\": \"2021-07-09\", \"fonte_dados\": \"Federal\", \"aplic_por_dia\": 2.7142857142857144}, {\"data\": \"2021-07-10\", \"fonte_dados\": \"Federal\", \"aplic_por_dia\": 2.5714285714285716}, {\"data\": \"2021-07-11\", \"fonte_dados\": \"Federal\", \"aplic_por_dia\": 2.2857142857142856}, {\"data\": \"2021-07-12\", \"fonte_dados\": \"Federal\", \"aplic_por_dia\": 1.7142857142857142}, {\"data\": \"2021-07-13\", \"fonte_dados\": \"Federal\", \"aplic_por_dia\": 1.7142857142857142}, {\"data\": \"2021-07-14\", \"fonte_dados\": \"Federal\", \"aplic_por_dia\": 1.8571428571428572}, {\"data\": \"2021-07-15\", \"fonte_dados\": \"Federal\", \"aplic_por_dia\": 1.8571428571428572}, {\"data\": \"2021-07-16\", \"fonte_dados\": \"Federal\", \"aplic_por_dia\": 1.1428571428571428}, {\"data\": \"2021-07-17\", \"fonte_dados\": \"Federal\", \"aplic_por_dia\": 1.2857142857142858}, {\"data\": \"2021-07-18\", \"fonte_dados\": \"Federal\", \"aplic_por_dia\": 1.7142857142857142}, {\"data\": \"2021-07-19\", \"fonte_dados\": \"Federal\", \"aplic_por_dia\": 1.8571428571428572}, {\"data\": \"2021-07-20\", \"fonte_dados\": \"Federal\", \"aplic_por_dia\": 1.5714285714285714}, {\"data\": \"2021-07-21\", \"fonte_dados\": \"Federal\", \"aplic_por_dia\": 1.5714285714285714}, {\"data\": \"2021-07-22\", \"fonte_dados\": \"Federal\", \"aplic_por_dia\": 1.4285714285714286}, {\"data\": \"2021-07-23\", \"fonte_dados\": \"Federal\", \"aplic_por_dia\": 2.0}, {\"data\": \"2021-07-24\", \"fonte_dados\": \"Federal\", \"aplic_por_dia\": 1.7142857142857142}, {\"data\": \"2021-07-25\", \"fonte_dados\": \"Federal\", \"aplic_por_dia\": 2.142857142857143}, {\"data\": \"2021-07-26\", \"fonte_dados\": \"Federal\", \"aplic_por_dia\": 1.8571428571428572}, {\"data\": \"2021-07-27\", \"fonte_dados\": \"Federal\", \"aplic_por_dia\": 2.0}, {\"data\": \"2021-07-28\", \"fonte_dados\": \"Federal\", \"aplic_por_dia\": 2.0}, {\"data\": \"2021-07-29\", \"fonte_dados\": \"Federal\", \"aplic_por_dia\": 2.142857142857143}, {\"data\": \"2021-07-30\", \"fonte_dados\": \"Federal\", \"aplic_por_dia\": 1.8571428571428572}, {\"data\": \"2021-07-31\", \"fonte_dados\": \"Federal\", \"aplic_por_dia\": 2.142857142857143}, {\"data\": \"2021-08-01\", \"fonte_dados\": \"Federal\", \"aplic_por_dia\": 1.5714285714285714}, {\"data\": \"2021-08-02\", \"fonte_dados\": \"Federal\", \"aplic_por_dia\": 1.4285714285714286}, {\"data\": \"2021-08-03\", \"fonte_dados\": \"Federal\", \"aplic_por_dia\": 2.0}, {\"data\": \"2021-08-04\", \"fonte_dados\": \"Federal\", \"aplic_por_dia\": 1.8571428571428572}, {\"data\": \"2021-08-05\", \"fonte_dados\": \"Federal\", \"aplic_por_dia\": 1.8571428571428572}, {\"data\": \"2021-08-06\", \"fonte_dados\": \"Federal\", \"aplic_por_dia\": 1.7142857142857142}, {\"data\": \"2021-08-07\", \"fonte_dados\": \"Federal\", \"aplic_por_dia\": 1.7142857142857142}, {\"data\": \"2021-08-08\", \"fonte_dados\": \"Federal\", \"aplic_por_dia\": 1.4285714285714286}, {\"data\": \"2021-08-09\", \"fonte_dados\": \"Federal\", \"aplic_por_dia\": 1.5714285714285714}, {\"data\": \"2021-08-10\", \"fonte_dados\": \"Federal\", \"aplic_por_dia\": 0.8571428571428571}, {\"data\": \"2021-08-11\", \"fonte_dados\": \"Federal\", \"aplic_por_dia\": 2.4285714285714284}, {\"data\": \"2021-08-12\", \"fonte_dados\": \"Federal\", \"aplic_por_dia\": 2.5714285714285716}, {\"data\": \"2021-08-13\", \"fonte_dados\": \"Federal\", \"aplic_por_dia\": 2.7142857142857144}, {\"data\": \"2021-08-14\", \"fonte_dados\": \"Federal\", \"aplic_por_dia\": 2.5714285714285716}, {\"data\": \"2021-08-15\", \"fonte_dados\": \"Federal\", \"aplic_por_dia\": 2.4285714285714284}, {\"data\": \"2021-08-16\", \"fonte_dados\": \"Federal\", \"aplic_por_dia\": 2.7142857142857144}, {\"data\": \"2021-08-17\", \"fonte_dados\": \"Federal\", \"aplic_por_dia\": 3.142857142857143}, {\"data\": \"2021-08-18\", \"fonte_dados\": \"Federal\", \"aplic_por_dia\": 1.7142857142857142}, {\"data\": \"2021-08-19\", \"fonte_dados\": \"Federal\", \"aplic_por_dia\": 1.4285714285714286}, {\"data\": \"2021-08-20\", \"fonte_dados\": \"Federal\", \"aplic_por_dia\": 1.2857142857142858}, {\"data\": \"2021-08-21\", \"fonte_dados\": \"Federal\", \"aplic_por_dia\": 1.7142857142857142}, {\"data\": \"2021-08-22\", \"fonte_dados\": \"Federal\", \"aplic_por_dia\": 1.7142857142857142}, {\"data\": \"2021-08-23\", \"fonte_dados\": \"Federal\", \"aplic_por_dia\": 1.5714285714285714}, {\"data\": \"2021-08-24\", \"fonte_dados\": \"Federal\", \"aplic_por_dia\": 2.2857142857142856}, {\"data\": \"2021-08-25\", \"fonte_dados\": \"Federal\", \"aplic_por_dia\": 2.2857142857142856}, {\"data\": \"2021-08-26\", \"fonte_dados\": \"Federal\", \"aplic_por_dia\": 2.5714285714285716}, {\"data\": \"2021-08-27\", \"fonte_dados\": \"Federal\", \"aplic_por_dia\": 2.7142857142857144}, {\"data\": \"2021-08-28\", \"fonte_dados\": \"Federal\", \"aplic_por_dia\": 2.4285714285714284}, {\"data\": \"2021-08-29\", \"fonte_dados\": \"Federal\", \"aplic_por_dia\": 2.4285714285714284}, {\"data\": \"2021-08-30\", \"fonte_dados\": \"Federal\", \"aplic_por_dia\": 2.142857142857143}, {\"data\": \"2021-08-31\", \"fonte_dados\": \"Federal\", \"aplic_por_dia\": 1.2857142857142858}, {\"data\": \"2021-06-01\", \"fonte_dados\": \"Municipal\", \"aplic_por_dia\": null}, {\"data\": \"2021-06-02\", \"fonte_dados\": \"Municipal\", \"aplic_por_dia\": null}, {\"data\": \"2021-06-03\", \"fonte_dados\": \"Municipal\", \"aplic_por_dia\": null}, {\"data\": \"2021-06-04\", \"fonte_dados\": \"Municipal\", \"aplic_por_dia\": null}, {\"data\": \"2021-06-05\", \"fonte_dados\": \"Municipal\", \"aplic_por_dia\": null}, {\"data\": \"2021-06-06\", \"fonte_dados\": \"Municipal\", \"aplic_por_dia\": null}, {\"data\": \"2021-06-07\", \"fonte_dados\": \"Municipal\", \"aplic_por_dia\": 4.285714285714286}, {\"data\": \"2021-06-08\", \"fonte_dados\": \"Municipal\", \"aplic_por_dia\": 4.428571428571429}, {\"data\": \"2021-06-09\", \"fonte_dados\": \"Municipal\", \"aplic_por_dia\": 4.714285714285714}, {\"data\": \"2021-06-10\", \"fonte_dados\": \"Municipal\", \"aplic_por_dia\": 5.285714285714286}, {\"data\": \"2021-06-11\", \"fonte_dados\": \"Municipal\", \"aplic_por_dia\": 6.142857142857143}, {\"data\": \"2021-06-12\", \"fonte_dados\": \"Municipal\", \"aplic_por_dia\": 6.142857142857143}, {\"data\": \"2021-06-13\", \"fonte_dados\": \"Municipal\", \"aplic_por_dia\": 6.428571428571429}, {\"data\": \"2021-06-14\", \"fonte_dados\": \"Municipal\", \"aplic_por_dia\": 6.285714285714286}, {\"data\": \"2021-06-15\", \"fonte_dados\": \"Municipal\", \"aplic_por_dia\": 6.285714285714286}, {\"data\": \"2021-06-16\", \"fonte_dados\": \"Municipal\", \"aplic_por_dia\": 6.142857142857143}, {\"data\": \"2021-06-17\", \"fonte_dados\": \"Municipal\", \"aplic_por_dia\": 5.571428571428571}, {\"data\": \"2021-06-18\", \"fonte_dados\": \"Municipal\", \"aplic_por_dia\": 4.714285714285714}, {\"data\": \"2021-06-19\", \"fonte_dados\": \"Municipal\", \"aplic_por_dia\": 4.714285714285714}, {\"data\": \"2021-06-20\", \"fonte_dados\": \"Municipal\", \"aplic_por_dia\": 4.428571428571429}, {\"data\": \"2021-06-21\", \"fonte_dados\": \"Municipal\", \"aplic_por_dia\": 4.714285714285714}, {\"data\": \"2021-06-22\", \"fonte_dados\": \"Municipal\", \"aplic_por_dia\": 5.0}, {\"data\": \"2021-06-23\", \"fonte_dados\": \"Municipal\", \"aplic_por_dia\": 5.142857142857143}, {\"data\": \"2021-06-24\", \"fonte_dados\": \"Municipal\", \"aplic_por_dia\": 5.428571428571429}, {\"data\": \"2021-06-25\", \"fonte_dados\": \"Municipal\", \"aplic_por_dia\": 5.428571428571429}, {\"data\": \"2021-06-26\", \"fonte_dados\": \"Municipal\", \"aplic_por_dia\": 5.714285714285714}, {\"data\": \"2021-06-27\", \"fonte_dados\": \"Municipal\", \"aplic_por_dia\": 6.142857142857143}, {\"data\": \"2021-06-28\", \"fonte_dados\": \"Municipal\", \"aplic_por_dia\": 6.142857142857143}, {\"data\": \"2021-06-29\", \"fonte_dados\": \"Municipal\", \"aplic_por_dia\": 6.0}, {\"data\": \"2021-06-30\", \"fonte_dados\": \"Municipal\", \"aplic_por_dia\": 5.857142857142857}, {\"data\": \"2021-07-01\", \"fonte_dados\": \"Municipal\", \"aplic_por_dia\": 5.428571428571429}, {\"data\": \"2021-07-03\", \"fonte_dados\": \"Municipal\", \"aplic_por_dia\": 5.571428571428571}, {\"data\": \"2021-07-04\", \"fonte_dados\": \"Municipal\", \"aplic_por_dia\": 5.142857142857143}, {\"data\": \"2021-07-05\", \"fonte_dados\": \"Municipal\", \"aplic_por_dia\": 4.714285714285714}, {\"data\": \"2021-07-06\", \"fonte_dados\": \"Municipal\", \"aplic_por_dia\": 4.285714285714286}, {\"data\": \"2021-07-07\", \"fonte_dados\": \"Municipal\", \"aplic_por_dia\": 4.142857142857143}, {\"data\": \"2021-07-08\", \"fonte_dados\": \"Municipal\", \"aplic_por_dia\": 3.857142857142857}, {\"data\": \"2021-07-09\", \"fonte_dados\": \"Municipal\", \"aplic_por_dia\": 3.857142857142857}, {\"data\": \"2021-07-10\", \"fonte_dados\": \"Municipal\", \"aplic_por_dia\": 3.2857142857142856}, {\"data\": \"2021-07-11\", \"fonte_dados\": \"Municipal\", \"aplic_por_dia\": 3.142857142857143}, {\"data\": \"2021-07-12\", \"fonte_dados\": \"Municipal\", \"aplic_por_dia\": 3.0}, {\"data\": \"2021-07-13\", \"fonte_dados\": \"Municipal\", \"aplic_por_dia\": 2.5714285714285716}, {\"data\": \"2021-07-14\", \"fonte_dados\": \"Municipal\", \"aplic_por_dia\": 2.0}, {\"data\": \"2021-07-15\", \"fonte_dados\": \"Municipal\", \"aplic_por_dia\": 1.8571428571428572}, {\"data\": \"2021-07-16\", \"fonte_dados\": \"Municipal\", \"aplic_por_dia\": 1.4285714285714286}, {\"data\": \"2021-07-17\", \"fonte_dados\": \"Municipal\", \"aplic_por_dia\": 1.2857142857142858}, {\"data\": \"2021-07-18\", \"fonte_dados\": \"Municipal\", \"aplic_por_dia\": 1.0}, {\"data\": \"2021-07-19\", \"fonte_dados\": \"Municipal\", \"aplic_por_dia\": 0.8571428571428571}, {\"data\": \"2021-07-20\", \"fonte_dados\": \"Municipal\", \"aplic_por_dia\": 1.0}, {\"data\": \"2021-07-21\", \"fonte_dados\": \"Municipal\", \"aplic_por_dia\": 1.0}, {\"data\": \"2021-07-22\", \"fonte_dados\": \"Municipal\", \"aplic_por_dia\": 0.8571428571428571}, {\"data\": \"2021-07-23\", \"fonte_dados\": \"Municipal\", \"aplic_por_dia\": 1.0}, {\"data\": \"2021-07-24\", \"fonte_dados\": \"Municipal\", \"aplic_por_dia\": 1.0}, {\"data\": \"2021-07-25\", \"fonte_dados\": \"Municipal\", \"aplic_por_dia\": 1.0}, {\"data\": \"2021-07-26\", \"fonte_dados\": \"Municipal\", \"aplic_por_dia\": 1.1428571428571428}, {\"data\": \"2021-07-27\", \"fonte_dados\": \"Municipal\", \"aplic_por_dia\": 1.1428571428571428}, {\"data\": \"2021-07-28\", \"fonte_dados\": \"Municipal\", \"aplic_por_dia\": 1.5714285714285714}, {\"data\": \"2021-07-29\", \"fonte_dados\": \"Municipal\", \"aplic_por_dia\": 1.8571428571428572}, {\"data\": \"2021-07-30\", \"fonte_dados\": \"Municipal\", \"aplic_por_dia\": 1.7142857142857142}, {\"data\": \"2021-07-31\", \"fonte_dados\": \"Municipal\", \"aplic_por_dia\": 1.5714285714285714}, {\"data\": \"2021-08-01\", \"fonte_dados\": \"Municipal\", \"aplic_por_dia\": 1.5714285714285714}, {\"data\": \"2021-08-02\", \"fonte_dados\": \"Municipal\", \"aplic_por_dia\": 1.1428571428571428}, {\"data\": \"2021-08-03\", \"fonte_dados\": \"Municipal\", \"aplic_por_dia\": 1.0}, {\"data\": \"2021-08-04\", \"fonte_dados\": \"Municipal\", \"aplic_por_dia\": 0.8571428571428571}, {\"data\": \"2021-08-05\", \"fonte_dados\": \"Municipal\", \"aplic_por_dia\": 0.42857142857142855}, {\"data\": \"2021-08-06\", \"fonte_dados\": \"Municipal\", \"aplic_por_dia\": 0.42857142857142855}, {\"data\": \"2021-08-07\", \"fonte_dados\": \"Municipal\", \"aplic_por_dia\": 0.2857142857142857}, {\"data\": \"2021-08-08\", \"fonte_dados\": \"Municipal\", \"aplic_por_dia\": 0.2857142857142857}, {\"data\": \"2021-08-09\", \"fonte_dados\": \"Municipal\", \"aplic_por_dia\": 1.0}, {\"data\": \"2021-08-10\", \"fonte_dados\": \"Municipal\", \"aplic_por_dia\": 1.0}, {\"data\": \"2021-08-11\", \"fonte_dados\": \"Municipal\", \"aplic_por_dia\": 1.1428571428571428}, {\"data\": \"2021-08-12\", \"fonte_dados\": \"Municipal\", \"aplic_por_dia\": 1.2857142857142858}, {\"data\": \"2021-08-13\", \"fonte_dados\": \"Municipal\", \"aplic_por_dia\": 1.2857142857142858}, {\"data\": \"2021-08-14\", \"fonte_dados\": \"Municipal\", \"aplic_por_dia\": 1.2857142857142858}, {\"data\": \"2021-08-15\", \"fonte_dados\": \"Municipal\", \"aplic_por_dia\": 1.2857142857142858}, {\"data\": \"2021-08-16\", \"fonte_dados\": \"Municipal\", \"aplic_por_dia\": 1.0}, {\"data\": \"2021-08-17\", \"fonte_dados\": \"Municipal\", \"aplic_por_dia\": 1.4285714285714286}, {\"data\": \"2021-08-18\", \"fonte_dados\": \"Municipal\", \"aplic_por_dia\": 1.1428571428571428}, {\"data\": \"2021-08-19\", \"fonte_dados\": \"Municipal\", \"aplic_por_dia\": 1.0}, {\"data\": \"2021-08-20\", \"fonte_dados\": \"Municipal\", \"aplic_por_dia\": 1.1428571428571428}, {\"data\": \"2021-08-21\", \"fonte_dados\": \"Municipal\", \"aplic_por_dia\": 1.1428571428571428}, {\"data\": \"2021-08-22\", \"fonte_dados\": \"Municipal\", \"aplic_por_dia\": 1.1428571428571428}, {\"data\": \"2021-08-23\", \"fonte_dados\": \"Municipal\", \"aplic_por_dia\": 1.2857142857142858}, {\"data\": \"2021-08-24\", \"fonte_dados\": \"Municipal\", \"aplic_por_dia\": 0.8571428571428571}, {\"data\": \"2021-08-25\", \"fonte_dados\": \"Municipal\", \"aplic_por_dia\": 0.7142857142857143}, {\"data\": \"2021-08-26\", \"fonte_dados\": \"Municipal\", \"aplic_por_dia\": 0.7142857142857143}, {\"data\": \"2021-08-27\", \"fonte_dados\": \"Municipal\", \"aplic_por_dia\": 0.5714285714285714}, {\"data\": \"2021-08-28\", \"fonte_dados\": \"Municipal\", \"aplic_por_dia\": 0.5714285714285714}, {\"data\": \"2021-08-29\", \"fonte_dados\": \"Municipal\", \"aplic_por_dia\": 0.5714285714285714}, {\"data\": \"2021-08-30\", \"fonte_dados\": \"Municipal\", \"aplic_por_dia\": 0.2857142857142857}, {\"data\": \"2021-08-31\", \"fonte_dados\": \"Municipal\", \"aplic_por_dia\": 0.42857142857142855}]}}, {\"mode\": \"vega-lite\"});\n",
       "</script>"
      ],
      "text/plain": [
       "alt.Chart(...)"
      ]
     },
     "execution_count": 188,
     "metadata": {},
     "output_type": "execute_result"
    }
   ],
   "source": [
    "alt.Chart(obitosPorDiaMedMovel).mark_line(point=True).encode(\n",
    "    alt.X('data:T', title='Data'),\n",
    "    alt.Y('aplic_por_dia:Q', title='Nº de Obitos'),\n",
    "    alt.Color('fonte_dados:N', title='Base dos Dados')\n",
    ").properties(\n",
    "    width=750,\n",
    "    title='Média Movel de Obitos Confirmados por Dia (Comparação)'\n",
    ")"
   ]
  },
  {
   "cell_type": "code",
   "execution_count": 189,
   "metadata": {},
   "outputs": [],
   "source": [
    "pf_obitosTotais = pf_obitosPorDia['obitos_confirmados'].sum()\n",
    "df_obitosTotais = df_obitosPorDia['obitos_confirmados'].sum()\n",
    "dm_obitosTotais = dm_obitosPorDia['obitos_confirmados'].sum()"
   ]
  },
  {
   "cell_type": "code",
   "execution_count": 190,
   "metadata": {},
   "outputs": [],
   "source": [
    "totalObitos = pd.DataFrame({\n",
    "    'base': ['Painel Federal', 'Federal', 'Municipal'],\n",
    "    'total': [pf_obitosTotais, df_obitosTotais, dm_obitosTotais]\n",
    "})"
   ]
  },
  {
   "cell_type": "code",
   "execution_count": 191,
   "metadata": {},
   "outputs": [
    {
     "data": {
      "text/html": [
       "\n",
       "<div id=\"altair-viz-4dee2ea4fe5244869078e14a95a61f14\"></div>\n",
       "<script type=\"text/javascript\">\n",
       "  (function(spec, embedOpt){\n",
       "    let outputDiv = document.currentScript.previousElementSibling;\n",
       "    if (outputDiv.id !== \"altair-viz-4dee2ea4fe5244869078e14a95a61f14\") {\n",
       "      outputDiv = document.getElementById(\"altair-viz-4dee2ea4fe5244869078e14a95a61f14\");\n",
       "    }\n",
       "    const paths = {\n",
       "      \"vega\": \"https://cdn.jsdelivr.net/npm//vega@5?noext\",\n",
       "      \"vega-lib\": \"https://cdn.jsdelivr.net/npm//vega-lib?noext\",\n",
       "      \"vega-lite\": \"https://cdn.jsdelivr.net/npm//vega-lite@4.8.1?noext\",\n",
       "      \"vega-embed\": \"https://cdn.jsdelivr.net/npm//vega-embed@6?noext\",\n",
       "    };\n",
       "\n",
       "    function loadScript(lib) {\n",
       "      return new Promise(function(resolve, reject) {\n",
       "        var s = document.createElement('script');\n",
       "        s.src = paths[lib];\n",
       "        s.async = true;\n",
       "        s.onload = () => resolve(paths[lib]);\n",
       "        s.onerror = () => reject(`Error loading script: ${paths[lib]}`);\n",
       "        document.getElementsByTagName(\"head\")[0].appendChild(s);\n",
       "      });\n",
       "    }\n",
       "\n",
       "    function showError(err) {\n",
       "      outputDiv.innerHTML = `<div class=\"error\" style=\"color:red;\">${err}</div>`;\n",
       "      throw err;\n",
       "    }\n",
       "\n",
       "    function displayChart(vegaEmbed) {\n",
       "      vegaEmbed(outputDiv, spec, embedOpt)\n",
       "        .catch(err => showError(`Javascript Error: ${err.message}<br>This usually means there's a typo in your chart specification. See the javascript console for the full traceback.`));\n",
       "    }\n",
       "\n",
       "    if(typeof define === \"function\" && define.amd) {\n",
       "      requirejs.config({paths});\n",
       "      require([\"vega-embed\"], displayChart, err => showError(`Error loading script: ${err.message}`));\n",
       "    } else if (typeof vegaEmbed === \"function\") {\n",
       "      displayChart(vegaEmbed);\n",
       "    } else {\n",
       "      loadScript(\"vega\")\n",
       "        .then(() => loadScript(\"vega-lite\"))\n",
       "        .then(() => loadScript(\"vega-embed\"))\n",
       "        .catch(showError)\n",
       "        .then(() => displayChart(vegaEmbed));\n",
       "    }\n",
       "  })({\"config\": {\"view\": {\"continuousWidth\": 400, \"continuousHeight\": 300}}, \"data\": {\"name\": \"data-cf8b13099159faa3d2d3bfb22f3aad1e\"}, \"mark\": {\"type\": \"bar\", \"size\": 30}, \"encoding\": {\"color\": {\"type\": \"nominal\", \"field\": \"base\", \"title\": \"Base de Dados\"}, \"x\": {\"type\": \"nominal\", \"field\": \"base\", \"title\": \"Base dos Dados\"}, \"y\": {\"type\": \"quantitative\", \"field\": \"total\", \"title\": \"N\\u00ba Total de Obitos Confirmados\"}}, \"title\": \"Total de Obitos Confirmados (Compara\\u00e7\\u00e3o)\", \"width\": 150, \"$schema\": \"https://vega.github.io/schema/vega-lite/v4.8.1.json\", \"datasets\": {\"data-cf8b13099159faa3d2d3bfb22f3aad1e\": [{\"base\": \"Painel Federal\", \"total\": 193.0}, {\"base\": \"Federal\", \"total\": 229.0}, {\"base\": \"Municipal\", \"total\": 246.0}]}}, {\"mode\": \"vega-lite\"});\n",
       "</script>"
      ],
      "text/plain": [
       "alt.Chart(...)"
      ]
     },
     "execution_count": 191,
     "metadata": {},
     "output_type": "execute_result"
    }
   ],
   "source": [
    "alt.Chart(totalObitos).mark_bar(size=30).encode(\n",
    "    alt.X('base:N', title='Base dos Dados'),\n",
    "    alt.Y('total:Q', title='Nº Total de Obitos Confirmados'),\n",
    "    alt.Color('base:N', title='Base de Dados')\n",
    ").properties(\n",
    "    width=150,\n",
    "    title='Total de Obitos Confirmados (Comparação)'\n",
    ")"
   ]
  }
 ],
 "metadata": {
  "interpreter": {
   "hash": "ac523b2dbf241262502338c4748dbe4206e583902f7cc2a831713042ba4f1b3b"
  },
  "kernelspec": {
   "display_name": "Python 3.9.5 64-bit",
   "language": "python",
   "name": "python3"
  },
  "language_info": {
   "codemirror_mode": {
    "name": "ipython",
    "version": 3
   },
   "file_extension": ".py",
   "mimetype": "text/x-python",
   "name": "python",
   "nbconvert_exporter": "python",
   "pygments_lexer": "ipython3",
   "version": "3.9.5"
  },
  "orig_nbformat": 4
 },
 "nbformat": 4,
 "nbformat_minor": 2
}
