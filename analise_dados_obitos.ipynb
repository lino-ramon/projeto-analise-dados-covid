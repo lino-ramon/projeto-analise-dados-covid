{
 "cells": [
  {
   "cell_type": "code",
   "execution_count": 121,
   "metadata": {},
   "outputs": [],
   "source": [
    "import pandas as pd\n",
    "import altair as alt"
   ]
  },
  {
   "cell_type": "code",
   "execution_count": 122,
   "metadata": {},
   "outputs": [
    {
     "name": "stderr",
     "output_type": "stream",
     "text": [
      "C:\\Users\\perei\\AppData\\Local\\Programs\\Python\\Python39\\lib\\site-packages\\IPython\\core\\interactiveshell.py:3441: FutureWarning: The error_bad_lines argument has been deprecated and will be removed in a future version.\n",
      "\n",
      "\n",
      "  exec(code_obj, self.user_global_ns, self.user_ns)\n"
     ]
    }
   ],
   "source": [
    "dados_federais_campina = pd.read_csv(\"data\\\\dados_federais_obitos_cg.csv\", encoding='utf-8', error_bad_lines=False)\n",
    "dados_painelfederal_campina = pd.read_csv(\"data\\\\dados_painel-federal_obitos_cg.csv\", encoding='UTF-8', error_bad_lines=False)\n",
    "dados_municipais_campina = pd.read_csv(\"data\\\\dados_municipais_cg.csv\", encoding='utf-8', index_col='data')"
   ]
  },
  {
   "cell_type": "markdown",
   "metadata": {},
   "source": [
    "# Processando os dados sobre Obitos Confirmados por Dia"
   ]
  },
  {
   "cell_type": "code",
   "execution_count": 123,
   "metadata": {},
   "outputs": [],
   "source": [
    "# Função que cria os dataframes e 'seta' a coluna 'data' como index\n",
    "def criar_dataframe(dataframe, nome_coluna_data, nome_coluna_obitos):\n",
    "    df = pd.DataFrame({\n",
    "        'data': dataframe[nome_coluna_data].tolist(),\n",
    "        'obitos_confirmados': dataframe[nome_coluna_obitos].tolist()\n",
    "    })\n",
    "\n",
    "    # Setando a coluna 'data' como índice do DataFrame \n",
    "    df.set_index('data', inplace=True)\n",
    "    return df"
   ]
  },
  {
   "cell_type": "markdown",
   "metadata": {},
   "source": [
    " ## Painel Federal"
   ]
  },
  {
   "cell_type": "code",
   "execution_count": 124,
   "metadata": {},
   "outputs": [],
   "source": [
    "# Criando um data com a coluna 'data' e a coluna 'obitosNovos'\n",
    "pf_obitosPorDia = dados_painelfederal_campina[['obitosNovos', 'data']]\n"
   ]
  },
  {
   "cell_type": "code",
   "execution_count": 125,
   "metadata": {},
   "outputs": [],
   "source": [
    "# Criando um DataFrame com os dados para o altair\n",
    "pf_obitosPorDia = criar_dataframe(pf_obitosPorDia, 'data', 'obitosNovos')\n",
    "\n",
    "# Criando uma nova coluna no DataFrame referente a média movel.\n",
    "pf_obitosPorDia['media_movel'] = pf_obitosPorDia.obitos_confirmados.rolling(7).mean()"
   ]
  },
  {
   "cell_type": "markdown",
   "metadata": {},
   "source": [
    "## Dados Federais"
   ]
  },
  {
   "cell_type": "code",
   "execution_count": 126,
   "metadata": {},
   "outputs": [],
   "source": [
    "# Criando um data com a coluna 'dataNotificacao' e a coluna 'saidaConfirmadaObitos'\n",
    "df_obitosPorDia = dados_federais_campina[['dataNotificacao', 'saidaConfirmadaObitos']]"
   ]
  },
  {
   "cell_type": "markdown",
   "metadata": {},
   "source": [
    "#### OBS: Os dados federais estão descritos pela data e cada data diluida pelo estabelecimento de saúde ao qual foi notificado."
   ]
  },
  {
   "cell_type": "code",
   "execution_count": 127,
   "metadata": {},
   "outputs": [],
   "source": [
    "# Agrupando as informações de 'saidaConfirmadaObitos' pela data de notificação\n",
    "df_obitosPorDia = df_obitosPorDia.groupby('dataNotificacao')\n",
    "df_obitosPorDia = df_obitosPorDia['saidaConfirmadaObitos'].apply(list)\n",
    "df_obitosPorDia = df_obitosPorDia.reset_index()\n",
    "\n",
    "# Somando os valores que foram agrupados pela data\n",
    "for i in df_obitosPorDia.index:\n",
    "    df_obitosPorDia.loc[df_obitosPorDia.index == i, 'saidaConfirmadaObitos'] = sum(df_obitosPorDia.iloc[i]['saidaConfirmadaObitos'])\n"
   ]
  },
  {
   "cell_type": "code",
   "execution_count": 128,
   "metadata": {},
   "outputs": [],
   "source": [
    "\n",
    "# Criando um DataFrame com os dados para o altair\n",
    "df_obitosPorDia = criar_dataframe(df_obitosPorDia, 'dataNotificacao', 'saidaConfirmadaObitos')\n",
    "\n",
    "# Criando uma nova coluna no DataFrame referente a média movel.\n",
    "df_obitosPorDia['media_movel'] = df_obitosPorDia.obitos_confirmados.rolling(7).mean()"
   ]
  },
  {
   "cell_type": "markdown",
   "metadata": {},
   "source": [
    "## Dados Municipais"
   ]
  },
  {
   "cell_type": "code",
   "execution_count": 129,
   "metadata": {},
   "outputs": [],
   "source": [
    "# Criando um data com a coluna 'data' e a coluna 'obitosNovos'\n",
    "# OBS: 'data' já é o index\n",
    "dm_obitosPorDia = dados_municipais_campina['obitosPorDia']"
   ]
  },
  {
   "cell_type": "markdown",
   "metadata": {},
   "source": [
    "Como as datas dos dados municipais já estão como index, é preciso criar o DataFrame manualmente"
   ]
  },
  {
   "cell_type": "code",
   "execution_count": 130,
   "metadata": {},
   "outputs": [],
   "source": [
    "# Criando um DataFrame com os dados para o altair\n",
    "dm_obitosPorDia = pd.DataFrame({\n",
    "    'data': dm_obitosPorDia.index.tolist(),\n",
    "    'obitos_confirmados': dm_obitosPorDia.values.tolist()\n",
    "})\n",
    "\n",
    "# Criando uma nova coluna no DataFrame referente a média movel.\n",
    "dm_obitosPorDia['media_movel'] = dm_obitosPorDia.obitos_confirmados.rolling(7).mean()\n",
    "\n",
    "# Setando a coluna 'data' como índice do DataFrame \n",
    "dm_obitosPorDia.set_index('data', inplace=True)\n"
   ]
  },
  {
   "cell_type": "markdown",
   "metadata": {},
   "source": [
    "# Excluindo as datas não contidas nos DataFrames"
   ]
  },
  {
   "cell_type": "code",
   "execution_count": 131,
   "metadata": {},
   "outputs": [],
   "source": [
    "# Função que exclui os elementos (pelo index) do DataFrame que não estão em outro DataFrame\n",
    "def exclui_nao_contidos(df_conjunto, df_subconjunto):\n",
    "    for i in df_conjunto.index:\n",
    "        if i not in df_subconjunto.index:\n",
    "            df_conjunto = df_conjunto.drop(i)\n",
    "    \n",
    "    return df_conjunto"
   ]
  },
  {
   "cell_type": "markdown",
   "metadata": {},
   "source": [
    " ## Painel Federal e Federal"
   ]
  },
  {
   "cell_type": "code",
   "execution_count": 132,
   "metadata": {},
   "outputs": [],
   "source": [
    "# Excluindo as datas que estão nos dados do painel federal mas não estão nos dados federais\n",
    "pf_obitosPorDia = exclui_nao_contidos(pf_obitosPorDia, df_obitosPorDia)\n",
    "\n",
    "# Excluindo as datas que estão nos dados federais mas não estão nos dados do painel federal\n",
    "df_obitosPorDia = exclui_nao_contidos(df_obitosPorDia, pf_obitosPorDia)"
   ]
  },
  {
   "cell_type": "markdown",
   "metadata": {},
   "source": [
    "## Painel Federal e Municipal"
   ]
  },
  {
   "cell_type": "code",
   "execution_count": 133,
   "metadata": {},
   "outputs": [],
   "source": [
    "# Excluindo as datas que estão nos dados federais mas não estão nos dados municipais\n",
    "pf_obitosPorDia = exclui_nao_contidos(pf_obitosPorDia, dm_obitosPorDia)\n",
    "\n",
    "# Excluindo as datas que estão nos dados municipais mas não estão nos dados federais\n",
    "df_obitosPorDia = exclui_nao_contidos(df_obitosPorDia, dm_obitosPorDia)"
   ]
  },
  {
   "cell_type": "markdown",
   "metadata": {},
   "source": [
    "# Estatística descritiva dos Dados"
   ]
  },
  {
   "cell_type": "code",
   "execution_count": 134,
   "metadata": {},
   "outputs": [],
   "source": [
    "def estatistica_descritiva(pf, df, dm, col_name):\n",
    "    print(\"[PF] -> Painel Federal\\n[DF] -> Dados Federais\\n[DM] -> Dados Municipais\")\n",
    "    print(\"Intervalo de 2021-06-01 até 2021-08-31\")\n",
    "    print(\"     média     mediana  variância   DP\")\n",
    "    print(\"[PF] %.2f       %.2f      %.2f      %.2f\" % (pf[col_name].mean(), \n",
    "                                                        pf[col_name].median(), \n",
    "                                                        pf[col_name].var(), \n",
    "                                                        pf[col_name].std()))\n",
    "\n",
    "    print(\"[DF] %.2f       %.2f      %.2f      %.2f\" % (df[col_name].mean(), \n",
    "                                                        df[col_name].median(), \n",
    "                                                        df[col_name].var(), \n",
    "                                                        df[col_name].std()))\n",
    "    \n",
    "    print(\"[DM] %.2f       %.2f      %.2f      %.2f\" % (dm[col_name].mean(), \n",
    "                                                        dm[col_name].median(), \n",
    "                                                        dm[col_name].var(), \n",
    "                                                        dm[col_name].std()))"
   ]
  },
  {
   "cell_type": "code",
   "execution_count": 135,
   "metadata": {},
   "outputs": [
    {
     "name": "stdout",
     "output_type": "stream",
     "text": [
      "[PF] -> Painel Federal\n",
      "[DF] -> Dados Federais\n",
      "[DM] -> Dados Municipais\n",
      "Intervalo de 2021-06-01 até 2021-08-31\n",
      "     média     mediana  variância   DP\n",
      "[PF] 2.12       2.00      4.31      2.08\n",
      "[DF] 2.52       2.00      4.96      2.23\n",
      "[DM] 2.70       3.00      6.10      2.47\n"
     ]
    }
   ],
   "source": [
    "estatistica_descritiva(pf_obitosPorDia, df_obitosPorDia, dm_obitosPorDia, 'obitos_confirmados')"
   ]
  },
  {
   "cell_type": "markdown",
   "metadata": {},
   "source": [
    "# Transformando os DataFrame do formato wide para o formato long"
   ]
  },
  {
   "cell_type": "code",
   "execution_count": 136,
   "metadata": {},
   "outputs": [],
   "source": [
    "# Função que transforma os DataFrames do formato wide para o formato long\n",
    "def to_longFormat(dt_painelfederal, dt_federal, dt_municipal, nome_coluna):\n",
    "    long_df = pd.DataFrame({\n",
    "    'data': dt_federal.index.tolist(),\n",
    "    'Painel Federal': dt_painelfederal[nome_coluna].tolist(),\n",
    "    'Federal': dt_federal[nome_coluna].tolist(),\n",
    "    'Municipal': dt_municipal[nome_coluna].tolist()\n",
    "    }).melt(\n",
    "        id_vars=['data'], \n",
    "        value_vars=['Painel Federal', 'Federal', 'Municipal'],\n",
    "        var_name='fonte_dados', \n",
    "        value_name='obitos_por_dia'\n",
    "    )\n",
    "    return long_df"
   ]
  },
  {
   "cell_type": "code",
   "execution_count": 137,
   "metadata": {},
   "outputs": [],
   "source": [
    "# Transformando os DataFrames sobre obitos confirmados\n",
    "obitosPorDia = to_longFormat(pf_obitosPorDia, df_obitosPorDia, dm_obitosPorDia, 'obitos_confirmados')\n",
    "\n",
    "# Transformando os DataFrames sobre a média movel dos obitos confirmados\n",
    "obitosPorDiaMedMovel = to_longFormat(pf_obitosPorDia, df_obitosPorDia, dm_obitosPorDia, 'media_movel')"
   ]
  },
  {
   "cell_type": "markdown",
   "metadata": {},
   "source": [
    "# Comparando os dados do Painel Federal, Federais e Municipais"
   ]
  },
  {
   "cell_type": "code",
   "execution_count": 138,
   "metadata": {},
   "outputs": [],
   "source": [
    "# Função que cria os graficos de linhas (mark_line) no altair\n",
    "def criar_mark_line(dataframe, titulo, pontos):\n",
    "    mark_line = alt.Chart(dataframe).mark_line(point=pontos).encode(\n",
    "                    alt.X('data:T', title='Data'),\n",
    "                    alt.Y('obitos_por_dia:Q', title='Nº de Obitos'),\n",
    "                    alt.Color('fonte_dados:N', title='Base dos Dados')\n",
    "                ).properties(\n",
    "                    width=1000,\n",
    "                    title=titulo\n",
    "                )\n",
    "    return mark_line"
   ]
  },
  {
   "cell_type": "markdown",
   "metadata": {},
   "source": [
    "### Obitos Confirmados por Dia"
   ]
  },
  {
   "cell_type": "code",
   "execution_count": 139,
   "metadata": {},
   "outputs": [
    {
     "data": {
      "text/html": [
       "\n",
       "<div id=\"altair-viz-002ccfab000c4c8d93b213a3fa6380a9\"></div>\n",
       "<script type=\"text/javascript\">\n",
       "  (function(spec, embedOpt){\n",
       "    let outputDiv = document.currentScript.previousElementSibling;\n",
       "    if (outputDiv.id !== \"altair-viz-002ccfab000c4c8d93b213a3fa6380a9\") {\n",
       "      outputDiv = document.getElementById(\"altair-viz-002ccfab000c4c8d93b213a3fa6380a9\");\n",
       "    }\n",
       "    const paths = {\n",
       "      \"vega\": \"https://cdn.jsdelivr.net/npm//vega@5?noext\",\n",
       "      \"vega-lib\": \"https://cdn.jsdelivr.net/npm//vega-lib?noext\",\n",
       "      \"vega-lite\": \"https://cdn.jsdelivr.net/npm//vega-lite@4.8.1?noext\",\n",
       "      \"vega-embed\": \"https://cdn.jsdelivr.net/npm//vega-embed@6?noext\",\n",
       "    };\n",
       "\n",
       "    function loadScript(lib) {\n",
       "      return new Promise(function(resolve, reject) {\n",
       "        var s = document.createElement('script');\n",
       "        s.src = paths[lib];\n",
       "        s.async = true;\n",
       "        s.onload = () => resolve(paths[lib]);\n",
       "        s.onerror = () => reject(`Error loading script: ${paths[lib]}`);\n",
       "        document.getElementsByTagName(\"head\")[0].appendChild(s);\n",
       "      });\n",
       "    }\n",
       "\n",
       "    function showError(err) {\n",
       "      outputDiv.innerHTML = `<div class=\"error\" style=\"color:red;\">${err}</div>`;\n",
       "      throw err;\n",
       "    }\n",
       "\n",
       "    function displayChart(vegaEmbed) {\n",
       "      vegaEmbed(outputDiv, spec, embedOpt)\n",
       "        .catch(err => showError(`Javascript Error: ${err.message}<br>This usually means there's a typo in your chart specification. See the javascript console for the full traceback.`));\n",
       "    }\n",
       "\n",
       "    if(typeof define === \"function\" && define.amd) {\n",
       "      requirejs.config({paths});\n",
       "      require([\"vega-embed\"], displayChart, err => showError(`Error loading script: ${err.message}`));\n",
       "    } else if (typeof vegaEmbed === \"function\") {\n",
       "      displayChart(vegaEmbed);\n",
       "    } else {\n",
       "      loadScript(\"vega\")\n",
       "        .then(() => loadScript(\"vega-lite\"))\n",
       "        .then(() => loadScript(\"vega-embed\"))\n",
       "        .catch(showError)\n",
       "        .then(() => displayChart(vegaEmbed));\n",
       "    }\n",
       "  })({\"config\": {\"view\": {\"continuousWidth\": 400, \"continuousHeight\": 300}}, \"data\": {\"name\": \"data-5fb972d6d85625ca6d815ac57e2e54ff\"}, \"mark\": {\"type\": \"line\", \"point\": false}, \"encoding\": {\"color\": {\"type\": \"nominal\", \"field\": \"fonte_dados\", \"title\": \"Base dos Dados\"}, \"x\": {\"type\": \"temporal\", \"field\": \"data\", \"title\": \"Data\"}, \"y\": {\"type\": \"quantitative\", \"field\": \"obitos_por_dia\", \"title\": \"N\\u00ba de Obitos\"}}, \"title\": \"Quantidade de Obitos Confirmados por Dia\", \"width\": 1000, \"$schema\": \"https://vega.github.io/schema/vega-lite/v4.8.1.json\", \"datasets\": {\"data-5fb972d6d85625ca6d815ac57e2e54ff\": [{\"data\": \"2021-06-01\", \"fonte_dados\": \"Painel Federal\", \"obitos_por_dia\": 4.0}, {\"data\": \"2021-06-02\", \"fonte_dados\": \"Painel Federal\", \"obitos_por_dia\": 5.0}, {\"data\": \"2021-06-03\", \"fonte_dados\": \"Painel Federal\", \"obitos_por_dia\": 3.0}, {\"data\": \"2021-06-04\", \"fonte_dados\": \"Painel Federal\", \"obitos_por_dia\": 3.0}, {\"data\": \"2021-06-05\", \"fonte_dados\": \"Painel Federal\", \"obitos_por_dia\": 7.0}, {\"data\": \"2021-06-06\", \"fonte_dados\": \"Painel Federal\", \"obitos_por_dia\": 6.0}, {\"data\": \"2021-06-07\", \"fonte_dados\": \"Painel Federal\", \"obitos_por_dia\": 2.0}, {\"data\": \"2021-06-08\", \"fonte_dados\": \"Painel Federal\", \"obitos_por_dia\": 1.0}, {\"data\": \"2021-06-09\", \"fonte_dados\": \"Painel Federal\", \"obitos_por_dia\": 5.0}, {\"data\": \"2021-06-10\", \"fonte_dados\": \"Painel Federal\", \"obitos_por_dia\": 8.0}, {\"data\": \"2021-06-11\", \"fonte_dados\": \"Painel Federal\", \"obitos_por_dia\": 7.0}, {\"data\": \"2021-06-12\", \"fonte_dados\": \"Painel Federal\", \"obitos_por_dia\": 5.0}, {\"data\": \"2021-06-13\", \"fonte_dados\": \"Painel Federal\", \"obitos_por_dia\": 6.0}, {\"data\": \"2021-06-14\", \"fonte_dados\": \"Painel Federal\", \"obitos_por_dia\": 10.0}, {\"data\": \"2021-06-15\", \"fonte_dados\": \"Painel Federal\", \"obitos_por_dia\": 2.0}, {\"data\": \"2021-06-16\", \"fonte_dados\": \"Painel Federal\", \"obitos_por_dia\": 3.0}, {\"data\": \"2021-06-17\", \"fonte_dados\": \"Painel Federal\", \"obitos_por_dia\": 3.0}, {\"data\": \"2021-06-18\", \"fonte_dados\": \"Painel Federal\", \"obitos_por_dia\": 4.0}, {\"data\": \"2021-06-19\", \"fonte_dados\": \"Painel Federal\", \"obitos_por_dia\": 2.0}, {\"data\": \"2021-06-20\", \"fonte_dados\": \"Painel Federal\", \"obitos_por_dia\": 6.0}, {\"data\": \"2021-06-21\", \"fonte_dados\": \"Painel Federal\", \"obitos_por_dia\": 3.0}, {\"data\": \"2021-06-22\", \"fonte_dados\": \"Painel Federal\", \"obitos_por_dia\": 3.0}, {\"data\": \"2021-06-23\", \"fonte_dados\": \"Painel Federal\", \"obitos_por_dia\": 1.0}, {\"data\": \"2021-06-24\", \"fonte_dados\": \"Painel Federal\", \"obitos_por_dia\": 3.0}, {\"data\": \"2021-06-25\", \"fonte_dados\": \"Painel Federal\", \"obitos_por_dia\": 3.0}, {\"data\": \"2021-06-26\", \"fonte_dados\": \"Painel Federal\", \"obitos_por_dia\": 2.0}, {\"data\": \"2021-06-27\", \"fonte_dados\": \"Painel Federal\", \"obitos_por_dia\": 3.0}, {\"data\": \"2021-06-28\", \"fonte_dados\": \"Painel Federal\", \"obitos_por_dia\": 1.0}, {\"data\": \"2021-06-29\", \"fonte_dados\": \"Painel Federal\", \"obitos_por_dia\": 4.0}, {\"data\": \"2021-06-30\", \"fonte_dados\": \"Painel Federal\", \"obitos_por_dia\": 1.0}, {\"data\": \"2021-07-01\", \"fonte_dados\": \"Painel Federal\", \"obitos_por_dia\": 2.0}, {\"data\": \"2021-07-03\", \"fonte_dados\": \"Painel Federal\", \"obitos_por_dia\": 3.0}, {\"data\": \"2021-07-04\", \"fonte_dados\": \"Painel Federal\", \"obitos_por_dia\": 2.0}, {\"data\": \"2021-07-05\", \"fonte_dados\": \"Painel Federal\", \"obitos_por_dia\": -1.0}, {\"data\": \"2021-07-06\", \"fonte_dados\": \"Painel Federal\", \"obitos_por_dia\": 4.0}, {\"data\": \"2021-07-07\", \"fonte_dados\": \"Painel Federal\", \"obitos_por_dia\": 5.0}, {\"data\": \"2021-07-08\", \"fonte_dados\": \"Painel Federal\", \"obitos_por_dia\": 2.0}, {\"data\": \"2021-07-09\", \"fonte_dados\": \"Painel Federal\", \"obitos_por_dia\": 2.0}, {\"data\": \"2021-07-10\", \"fonte_dados\": \"Painel Federal\", \"obitos_por_dia\": 2.0}, {\"data\": \"2021-07-11\", \"fonte_dados\": \"Painel Federal\", \"obitos_por_dia\": 1.0}, {\"data\": \"2021-07-12\", \"fonte_dados\": \"Painel Federal\", \"obitos_por_dia\": 0.0}, {\"data\": \"2021-07-13\", \"fonte_dados\": \"Painel Federal\", \"obitos_por_dia\": 0.0}, {\"data\": \"2021-07-14\", \"fonte_dados\": \"Painel Federal\", \"obitos_por_dia\": 3.0}, {\"data\": \"2021-07-15\", \"fonte_dados\": \"Painel Federal\", \"obitos_por_dia\": 2.0}, {\"data\": \"2021-07-16\", \"fonte_dados\": \"Painel Federal\", \"obitos_por_dia\": 1.0}, {\"data\": \"2021-07-17\", \"fonte_dados\": \"Painel Federal\", \"obitos_por_dia\": 1.0}, {\"data\": \"2021-07-18\", \"fonte_dados\": \"Painel Federal\", \"obitos_por_dia\": 0.0}, {\"data\": \"2021-07-19\", \"fonte_dados\": \"Painel Federal\", \"obitos_por_dia\": 2.0}, {\"data\": \"2021-07-20\", \"fonte_dados\": \"Painel Federal\", \"obitos_por_dia\": 1.0}, {\"data\": \"2021-07-21\", \"fonte_dados\": \"Painel Federal\", \"obitos_por_dia\": -1.0}, {\"data\": \"2021-07-22\", \"fonte_dados\": \"Painel Federal\", \"obitos_por_dia\": 2.0}, {\"data\": \"2021-07-23\", \"fonte_dados\": \"Painel Federal\", \"obitos_por_dia\": 2.0}, {\"data\": \"2021-07-24\", \"fonte_dados\": \"Painel Federal\", \"obitos_por_dia\": 3.0}, {\"data\": \"2021-07-25\", \"fonte_dados\": \"Painel Federal\", \"obitos_por_dia\": 3.0}, {\"data\": \"2021-07-26\", \"fonte_dados\": \"Painel Federal\", \"obitos_por_dia\": 0.0}, {\"data\": \"2021-07-27\", \"fonte_dados\": \"Painel Federal\", \"obitos_por_dia\": 1.0}, {\"data\": \"2021-07-28\", \"fonte_dados\": \"Painel Federal\", \"obitos_por_dia\": 3.0}, {\"data\": \"2021-07-29\", \"fonte_dados\": \"Painel Federal\", \"obitos_por_dia\": 1.0}, {\"data\": \"2021-07-30\", \"fonte_dados\": \"Painel Federal\", \"obitos_por_dia\": 0.0}, {\"data\": \"2021-07-31\", \"fonte_dados\": \"Painel Federal\", \"obitos_por_dia\": 1.0}, {\"data\": \"2021-08-01\", \"fonte_dados\": \"Painel Federal\", \"obitos_por_dia\": 0.0}, {\"data\": \"2021-08-02\", \"fonte_dados\": \"Painel Federal\", \"obitos_por_dia\": 0.0}, {\"data\": \"2021-08-03\", \"fonte_dados\": \"Painel Federal\", \"obitos_por_dia\": 0.0}, {\"data\": \"2021-08-04\", \"fonte_dados\": \"Painel Federal\", \"obitos_por_dia\": 3.0}, {\"data\": \"2021-08-05\", \"fonte_dados\": \"Painel Federal\", \"obitos_por_dia\": 1.0}, {\"data\": \"2021-08-06\", \"fonte_dados\": \"Painel Federal\", \"obitos_por_dia\": 3.0}, {\"data\": \"2021-08-07\", \"fonte_dados\": \"Painel Federal\", \"obitos_por_dia\": 2.0}, {\"data\": \"2021-08-08\", \"fonte_dados\": \"Painel Federal\", \"obitos_por_dia\": 0.0}, {\"data\": \"2021-08-09\", \"fonte_dados\": \"Painel Federal\", \"obitos_por_dia\": 0.0}, {\"data\": \"2021-08-10\", \"fonte_dados\": \"Painel Federal\", \"obitos_por_dia\": 1.0}, {\"data\": \"2021-08-11\", \"fonte_dados\": \"Painel Federal\", \"obitos_por_dia\": 2.0}, {\"data\": \"2021-08-12\", \"fonte_dados\": \"Painel Federal\", \"obitos_por_dia\": 1.0}, {\"data\": \"2021-08-13\", \"fonte_dados\": \"Painel Federal\", \"obitos_por_dia\": 0.0}, {\"data\": \"2021-08-14\", \"fonte_dados\": \"Painel Federal\", \"obitos_por_dia\": 0.0}, {\"data\": \"2021-08-15\", \"fonte_dados\": \"Painel Federal\", \"obitos_por_dia\": 1.0}, {\"data\": \"2021-08-16\", \"fonte_dados\": \"Painel Federal\", \"obitos_por_dia\": 2.0}, {\"data\": \"2021-08-17\", \"fonte_dados\": \"Painel Federal\", \"obitos_por_dia\": 4.0}, {\"data\": \"2021-08-18\", \"fonte_dados\": \"Painel Federal\", \"obitos_por_dia\": 0.0}, {\"data\": \"2021-08-19\", \"fonte_dados\": \"Painel Federal\", \"obitos_por_dia\": 1.0}, {\"data\": \"2021-08-20\", \"fonte_dados\": \"Painel Federal\", \"obitos_por_dia\": 0.0}, {\"data\": \"2021-08-21\", \"fonte_dados\": \"Painel Federal\", \"obitos_por_dia\": 4.0}, {\"data\": \"2021-08-22\", \"fonte_dados\": \"Painel Federal\", \"obitos_por_dia\": 0.0}, {\"data\": \"2021-08-23\", \"fonte_dados\": \"Painel Federal\", \"obitos_por_dia\": 1.0}, {\"data\": \"2021-08-24\", \"fonte_dados\": \"Painel Federal\", \"obitos_por_dia\": 0.0}, {\"data\": \"2021-08-25\", \"fonte_dados\": \"Painel Federal\", \"obitos_por_dia\": 0.0}, {\"data\": \"2021-08-26\", \"fonte_dados\": \"Painel Federal\", \"obitos_por_dia\": 1.0}, {\"data\": \"2021-08-27\", \"fonte_dados\": \"Painel Federal\", \"obitos_por_dia\": 1.0}, {\"data\": \"2021-08-28\", \"fonte_dados\": \"Painel Federal\", \"obitos_por_dia\": 1.0}, {\"data\": \"2021-08-29\", \"fonte_dados\": \"Painel Federal\", \"obitos_por_dia\": 0.0}, {\"data\": \"2021-08-30\", \"fonte_dados\": \"Painel Federal\", \"obitos_por_dia\": 0.0}, {\"data\": \"2021-08-31\", \"fonte_dados\": \"Painel Federal\", \"obitos_por_dia\": 1.0}, {\"data\": \"2021-06-01\", \"fonte_dados\": \"Federal\", \"obitos_por_dia\": 2.0}, {\"data\": \"2021-06-02\", \"fonte_dados\": \"Federal\", \"obitos_por_dia\": 6.0}, {\"data\": \"2021-06-03\", \"fonte_dados\": \"Federal\", \"obitos_por_dia\": 2.0}, {\"data\": \"2021-06-04\", \"fonte_dados\": \"Federal\", \"obitos_por_dia\": 1.0}, {\"data\": \"2021-06-05\", \"fonte_dados\": \"Federal\", \"obitos_por_dia\": 5.0}, {\"data\": \"2021-06-06\", \"fonte_dados\": \"Federal\", \"obitos_por_dia\": 6.0}, {\"data\": \"2021-06-07\", \"fonte_dados\": \"Federal\", \"obitos_por_dia\": 5.0}, {\"data\": \"2021-06-08\", \"fonte_dados\": \"Federal\", \"obitos_por_dia\": 3.0}, {\"data\": \"2021-06-09\", \"fonte_dados\": \"Federal\", \"obitos_por_dia\": 6.0}, {\"data\": \"2021-06-10\", \"fonte_dados\": \"Federal\", \"obitos_por_dia\": 1.0}, {\"data\": \"2021-06-11\", \"fonte_dados\": \"Federal\", \"obitos_por_dia\": 6.0}, {\"data\": \"2021-06-12\", \"fonte_dados\": \"Federal\", \"obitos_por_dia\": 6.0}, {\"data\": \"2021-06-13\", \"fonte_dados\": \"Federal\", \"obitos_por_dia\": 7.0}, {\"data\": \"2021-06-14\", \"fonte_dados\": \"Federal\", \"obitos_por_dia\": 4.0}, {\"data\": \"2021-06-15\", \"fonte_dados\": \"Federal\", \"obitos_por_dia\": 4.0}, {\"data\": \"2021-06-16\", \"fonte_dados\": \"Federal\", \"obitos_por_dia\": 5.0}, {\"data\": \"2021-06-17\", \"fonte_dados\": \"Federal\", \"obitos_por_dia\": 4.0}, {\"data\": \"2021-06-18\", \"fonte_dados\": \"Federal\", \"obitos_por_dia\": 7.0}, {\"data\": \"2021-06-19\", \"fonte_dados\": \"Federal\", \"obitos_por_dia\": 5.0}, {\"data\": \"2021-06-20\", \"fonte_dados\": \"Federal\", \"obitos_por_dia\": 6.0}, {\"data\": \"2021-06-21\", \"fonte_dados\": \"Federal\", \"obitos_por_dia\": 3.0}, {\"data\": \"2021-06-22\", \"fonte_dados\": \"Federal\", \"obitos_por_dia\": 1.0}, {\"data\": \"2021-06-23\", \"fonte_dados\": \"Federal\", \"obitos_por_dia\": 2.0}, {\"data\": \"2021-06-24\", \"fonte_dados\": \"Federal\", \"obitos_por_dia\": 3.0}, {\"data\": \"2021-06-25\", \"fonte_dados\": \"Federal\", \"obitos_por_dia\": 1.0}, {\"data\": \"2021-06-26\", \"fonte_dados\": \"Federal\", \"obitos_por_dia\": 0.0}, {\"data\": \"2021-06-27\", \"fonte_dados\": \"Federal\", \"obitos_por_dia\": 2.0}, {\"data\": \"2021-06-28\", \"fonte_dados\": \"Federal\", \"obitos_por_dia\": 2.0}, {\"data\": \"2021-06-29\", \"fonte_dados\": \"Federal\", \"obitos_por_dia\": 1.0}, {\"data\": \"2021-06-30\", \"fonte_dados\": \"Federal\", \"obitos_por_dia\": 3.0}, {\"data\": \"2021-07-01\", \"fonte_dados\": \"Federal\", \"obitos_por_dia\": 3.0}, {\"data\": \"2021-07-03\", \"fonte_dados\": \"Federal\", \"obitos_por_dia\": 2.0}, {\"data\": \"2021-07-04\", \"fonte_dados\": \"Federal\", \"obitos_por_dia\": 3.0}, {\"data\": \"2021-07-05\", \"fonte_dados\": \"Federal\", \"obitos_por_dia\": 6.0}, {\"data\": \"2021-07-06\", \"fonte_dados\": \"Federal\", \"obitos_por_dia\": 2.0}, {\"data\": \"2021-07-07\", \"fonte_dados\": \"Federal\", \"obitos_por_dia\": 0.0}, {\"data\": \"2021-07-08\", \"fonte_dados\": \"Federal\", \"obitos_por_dia\": 1.0}, {\"data\": \"2021-07-09\", \"fonte_dados\": \"Federal\", \"obitos_por_dia\": 5.0}, {\"data\": \"2021-07-10\", \"fonte_dados\": \"Federal\", \"obitos_por_dia\": 1.0}, {\"data\": \"2021-07-11\", \"fonte_dados\": \"Federal\", \"obitos_por_dia\": 1.0}, {\"data\": \"2021-07-12\", \"fonte_dados\": \"Federal\", \"obitos_por_dia\": 2.0}, {\"data\": \"2021-07-13\", \"fonte_dados\": \"Federal\", \"obitos_por_dia\": 2.0}, {\"data\": \"2021-07-14\", \"fonte_dados\": \"Federal\", \"obitos_por_dia\": 1.0}, {\"data\": \"2021-07-15\", \"fonte_dados\": \"Federal\", \"obitos_por_dia\": 1.0}, {\"data\": \"2021-07-16\", \"fonte_dados\": \"Federal\", \"obitos_por_dia\": 0.0}, {\"data\": \"2021-07-17\", \"fonte_dados\": \"Federal\", \"obitos_por_dia\": 2.0}, {\"data\": \"2021-07-18\", \"fonte_dados\": \"Federal\", \"obitos_por_dia\": 4.0}, {\"data\": \"2021-07-19\", \"fonte_dados\": \"Federal\", \"obitos_por_dia\": 3.0}, {\"data\": \"2021-07-20\", \"fonte_dados\": \"Federal\", \"obitos_por_dia\": 0.0}, {\"data\": \"2021-07-21\", \"fonte_dados\": \"Federal\", \"obitos_por_dia\": 1.0}, {\"data\": \"2021-07-22\", \"fonte_dados\": \"Federal\", \"obitos_por_dia\": 0.0}, {\"data\": \"2021-07-23\", \"fonte_dados\": \"Federal\", \"obitos_por_dia\": 4.0}, {\"data\": \"2021-07-24\", \"fonte_dados\": \"Federal\", \"obitos_por_dia\": 0.0}, {\"data\": \"2021-07-25\", \"fonte_dados\": \"Federal\", \"obitos_por_dia\": 7.0}, {\"data\": \"2021-07-26\", \"fonte_dados\": \"Federal\", \"obitos_por_dia\": 1.0}, {\"data\": \"2021-07-27\", \"fonte_dados\": \"Federal\", \"obitos_por_dia\": 1.0}, {\"data\": \"2021-07-28\", \"fonte_dados\": \"Federal\", \"obitos_por_dia\": 1.0}, {\"data\": \"2021-07-29\", \"fonte_dados\": \"Federal\", \"obitos_por_dia\": 1.0}, {\"data\": \"2021-07-30\", \"fonte_dados\": \"Federal\", \"obitos_por_dia\": 2.0}, {\"data\": \"2021-07-31\", \"fonte_dados\": \"Federal\", \"obitos_por_dia\": 2.0}, {\"data\": \"2021-08-01\", \"fonte_dados\": \"Federal\", \"obitos_por_dia\": 3.0}, {\"data\": \"2021-08-02\", \"fonte_dados\": \"Federal\", \"obitos_por_dia\": 0.0}, {\"data\": \"2021-08-03\", \"fonte_dados\": \"Federal\", \"obitos_por_dia\": 5.0}, {\"data\": \"2021-08-04\", \"fonte_dados\": \"Federal\", \"obitos_por_dia\": 0.0}, {\"data\": \"2021-08-05\", \"fonte_dados\": \"Federal\", \"obitos_por_dia\": 1.0}, {\"data\": \"2021-08-06\", \"fonte_dados\": \"Federal\", \"obitos_por_dia\": 1.0}, {\"data\": \"2021-08-07\", \"fonte_dados\": \"Federal\", \"obitos_por_dia\": 2.0}, {\"data\": \"2021-08-08\", \"fonte_dados\": \"Federal\", \"obitos_por_dia\": 1.0}, {\"data\": \"2021-08-09\", \"fonte_dados\": \"Federal\", \"obitos_por_dia\": 1.0}, {\"data\": \"2021-08-10\", \"fonte_dados\": \"Federal\", \"obitos_por_dia\": 0.0}, {\"data\": \"2021-08-11\", \"fonte_dados\": \"Federal\", \"obitos_por_dia\": 11.0}, {\"data\": \"2021-08-12\", \"fonte_dados\": \"Federal\", \"obitos_por_dia\": 2.0}, {\"data\": \"2021-08-13\", \"fonte_dados\": \"Federal\", \"obitos_por_dia\": 2.0}, {\"data\": \"2021-08-14\", \"fonte_dados\": \"Federal\", \"obitos_por_dia\": 1.0}, {\"data\": \"2021-08-15\", \"fonte_dados\": \"Federal\", \"obitos_por_dia\": 0.0}, {\"data\": \"2021-08-16\", \"fonte_dados\": \"Federal\", \"obitos_por_dia\": 3.0}, {\"data\": \"2021-08-17\", \"fonte_dados\": \"Federal\", \"obitos_por_dia\": 3.0}, {\"data\": \"2021-08-18\", \"fonte_dados\": \"Federal\", \"obitos_por_dia\": 1.0}, {\"data\": \"2021-08-19\", \"fonte_dados\": \"Federal\", \"obitos_por_dia\": 0.0}, {\"data\": \"2021-08-20\", \"fonte_dados\": \"Federal\", \"obitos_por_dia\": 1.0}, {\"data\": \"2021-08-21\", \"fonte_dados\": \"Federal\", \"obitos_por_dia\": 4.0}, {\"data\": \"2021-08-22\", \"fonte_dados\": \"Federal\", \"obitos_por_dia\": 0.0}, {\"data\": \"2021-08-23\", \"fonte_dados\": \"Federal\", \"obitos_por_dia\": 2.0}, {\"data\": \"2021-08-24\", \"fonte_dados\": \"Federal\", \"obitos_por_dia\": 8.0}, {\"data\": \"2021-08-25\", \"fonte_dados\": \"Federal\", \"obitos_por_dia\": 1.0}, {\"data\": \"2021-08-26\", \"fonte_dados\": \"Federal\", \"obitos_por_dia\": 2.0}, {\"data\": \"2021-08-27\", \"fonte_dados\": \"Federal\", \"obitos_por_dia\": 2.0}, {\"data\": \"2021-08-28\", \"fonte_dados\": \"Federal\", \"obitos_por_dia\": 2.0}, {\"data\": \"2021-08-29\", \"fonte_dados\": \"Federal\", \"obitos_por_dia\": 0.0}, {\"data\": \"2021-08-30\", \"fonte_dados\": \"Federal\", \"obitos_por_dia\": 0.0}, {\"data\": \"2021-08-31\", \"fonte_dados\": \"Federal\", \"obitos_por_dia\": 2.0}, {\"data\": \"2021-06-01\", \"fonte_dados\": \"Municipal\", \"obitos_por_dia\": 3.0}, {\"data\": \"2021-06-02\", \"fonte_dados\": \"Municipal\", \"obitos_por_dia\": 4.0}, {\"data\": \"2021-06-03\", \"fonte_dados\": \"Municipal\", \"obitos_por_dia\": 4.0}, {\"data\": \"2021-06-04\", \"fonte_dados\": \"Municipal\", \"obitos_por_dia\": 6.0}, {\"data\": \"2021-06-05\", \"fonte_dados\": \"Municipal\", \"obitos_por_dia\": 4.0}, {\"data\": \"2021-06-06\", \"fonte_dados\": \"Municipal\", \"obitos_por_dia\": 4.0}, {\"data\": \"2021-06-07\", \"fonte_dados\": \"Municipal\", \"obitos_por_dia\": 5.0}, {\"data\": \"2021-06-08\", \"fonte_dados\": \"Municipal\", \"obitos_por_dia\": 4.0}, {\"data\": \"2021-06-09\", \"fonte_dados\": \"Municipal\", \"obitos_por_dia\": 6.0}, {\"data\": \"2021-06-10\", \"fonte_dados\": \"Municipal\", \"obitos_por_dia\": 8.0}, {\"data\": \"2021-06-11\", \"fonte_dados\": \"Municipal\", \"obitos_por_dia\": 12.0}, {\"data\": \"2021-06-12\", \"fonte_dados\": \"Municipal\", \"obitos_por_dia\": 4.0}, {\"data\": \"2021-06-13\", \"fonte_dados\": \"Municipal\", \"obitos_por_dia\": 6.0}, {\"data\": \"2021-06-14\", \"fonte_dados\": \"Municipal\", \"obitos_por_dia\": 4.0}, {\"data\": \"2021-06-15\", \"fonte_dados\": \"Municipal\", \"obitos_por_dia\": 4.0}, {\"data\": \"2021-06-16\", \"fonte_dados\": \"Municipal\", \"obitos_por_dia\": 5.0}, {\"data\": \"2021-06-17\", \"fonte_dados\": \"Municipal\", \"obitos_por_dia\": 4.0}, {\"data\": \"2021-06-18\", \"fonte_dados\": \"Municipal\", \"obitos_por_dia\": 6.0}, {\"data\": \"2021-06-19\", \"fonte_dados\": \"Municipal\", \"obitos_por_dia\": 4.0}, {\"data\": \"2021-06-20\", \"fonte_dados\": \"Municipal\", \"obitos_por_dia\": 4.0}, {\"data\": \"2021-06-21\", \"fonte_dados\": \"Municipal\", \"obitos_por_dia\": 6.0}, {\"data\": \"2021-06-22\", \"fonte_dados\": \"Municipal\", \"obitos_por_dia\": 6.0}, {\"data\": \"2021-06-23\", \"fonte_dados\": \"Municipal\", \"obitos_por_dia\": 6.0}, {\"data\": \"2021-06-24\", \"fonte_dados\": \"Municipal\", \"obitos_por_dia\": 6.0}, {\"data\": \"2021-06-25\", \"fonte_dados\": \"Municipal\", \"obitos_por_dia\": 6.0}, {\"data\": \"2021-06-26\", \"fonte_dados\": \"Municipal\", \"obitos_por_dia\": 6.0}, {\"data\": \"2021-06-27\", \"fonte_dados\": \"Municipal\", \"obitos_por_dia\": 7.0}, {\"data\": \"2021-06-28\", \"fonte_dados\": \"Municipal\", \"obitos_por_dia\": 6.0}, {\"data\": \"2021-06-29\", \"fonte_dados\": \"Municipal\", \"obitos_por_dia\": 5.0}, {\"data\": \"2021-06-30\", \"fonte_dados\": \"Municipal\", \"obitos_por_dia\": 5.0}, {\"data\": \"2021-07-01\", \"fonte_dados\": \"Municipal\", \"obitos_por_dia\": 3.0}, {\"data\": \"2021-07-03\", \"fonte_dados\": \"Municipal\", \"obitos_por_dia\": 7.0}, {\"data\": \"2021-07-04\", \"fonte_dados\": \"Municipal\", \"obitos_por_dia\": 3.0}, {\"data\": \"2021-07-05\", \"fonte_dados\": \"Municipal\", \"obitos_por_dia\": 4.0}, {\"data\": \"2021-07-06\", \"fonte_dados\": \"Municipal\", \"obitos_por_dia\": 3.0}, {\"data\": \"2021-07-07\", \"fonte_dados\": \"Municipal\", \"obitos_por_dia\": 4.0}, {\"data\": \"2021-07-08\", \"fonte_dados\": \"Municipal\", \"obitos_por_dia\": 3.0}, {\"data\": \"2021-07-09\", \"fonte_dados\": \"Municipal\", \"obitos_por_dia\": 3.0}, {\"data\": \"2021-07-10\", \"fonte_dados\": \"Municipal\", \"obitos_por_dia\": 3.0}, {\"data\": \"2021-07-11\", \"fonte_dados\": \"Municipal\", \"obitos_por_dia\": 2.0}, {\"data\": \"2021-07-12\", \"fonte_dados\": \"Municipal\", \"obitos_por_dia\": 3.0}, {\"data\": \"2021-07-13\", \"fonte_dados\": \"Municipal\", \"obitos_por_dia\": 0.0}, {\"data\": \"2021-07-14\", \"fonte_dados\": \"Municipal\", \"obitos_por_dia\": 0.0}, {\"data\": \"2021-07-15\", \"fonte_dados\": \"Municipal\", \"obitos_por_dia\": 2.0}, {\"data\": \"2021-07-16\", \"fonte_dados\": \"Municipal\", \"obitos_por_dia\": 0.0}, {\"data\": \"2021-07-17\", \"fonte_dados\": \"Municipal\", \"obitos_por_dia\": 2.0}, {\"data\": \"2021-07-18\", \"fonte_dados\": \"Municipal\", \"obitos_por_dia\": 0.0}, {\"data\": \"2021-07-19\", \"fonte_dados\": \"Municipal\", \"obitos_por_dia\": 2.0}, {\"data\": \"2021-07-20\", \"fonte_dados\": \"Municipal\", \"obitos_por_dia\": 1.0}, {\"data\": \"2021-07-21\", \"fonte_dados\": \"Municipal\", \"obitos_por_dia\": 0.0}, {\"data\": \"2021-07-22\", \"fonte_dados\": \"Municipal\", \"obitos_por_dia\": 1.0}, {\"data\": \"2021-07-23\", \"fonte_dados\": \"Municipal\", \"obitos_por_dia\": 1.0}, {\"data\": \"2021-07-24\", \"fonte_dados\": \"Municipal\", \"obitos_por_dia\": 2.0}, {\"data\": \"2021-07-25\", \"fonte_dados\": \"Municipal\", \"obitos_por_dia\": 0.0}, {\"data\": \"2021-07-26\", \"fonte_dados\": \"Municipal\", \"obitos_por_dia\": 3.0}, {\"data\": \"2021-07-27\", \"fonte_dados\": \"Municipal\", \"obitos_por_dia\": 1.0}, {\"data\": \"2021-07-28\", \"fonte_dados\": \"Municipal\", \"obitos_por_dia\": 3.0}, {\"data\": \"2021-07-29\", \"fonte_dados\": \"Municipal\", \"obitos_por_dia\": 3.0}, {\"data\": \"2021-07-30\", \"fonte_dados\": \"Municipal\", \"obitos_por_dia\": 0.0}, {\"data\": \"2021-07-31\", \"fonte_dados\": \"Municipal\", \"obitos_por_dia\": 1.0}, {\"data\": \"2021-08-01\", \"fonte_dados\": \"Municipal\", \"obitos_por_dia\": 0.0}, {\"data\": \"2021-08-02\", \"fonte_dados\": \"Municipal\", \"obitos_por_dia\": 0.0}, {\"data\": \"2021-08-03\", \"fonte_dados\": \"Municipal\", \"obitos_por_dia\": 0.0}, {\"data\": \"2021-08-04\", \"fonte_dados\": \"Municipal\", \"obitos_por_dia\": 2.0}, {\"data\": \"2021-08-05\", \"fonte_dados\": \"Municipal\", \"obitos_por_dia\": 0.0}, {\"data\": \"2021-08-06\", \"fonte_dados\": \"Municipal\", \"obitos_por_dia\": 0.0}, {\"data\": \"2021-08-07\", \"fonte_dados\": \"Municipal\", \"obitos_por_dia\": 0.0}, {\"data\": \"2021-08-08\", \"fonte_dados\": \"Municipal\", \"obitos_por_dia\": 0.0}, {\"data\": \"2021-08-09\", \"fonte_dados\": \"Municipal\", \"obitos_por_dia\": 5.0}, {\"data\": \"2021-08-10\", \"fonte_dados\": \"Municipal\", \"obitos_por_dia\": 0.0}, {\"data\": \"2021-08-11\", \"fonte_dados\": \"Municipal\", \"obitos_por_dia\": 3.0}, {\"data\": \"2021-08-12\", \"fonte_dados\": \"Municipal\", \"obitos_por_dia\": 1.0}, {\"data\": \"2021-08-13\", \"fonte_dados\": \"Municipal\", \"obitos_por_dia\": 0.0}, {\"data\": \"2021-08-14\", \"fonte_dados\": \"Municipal\", \"obitos_por_dia\": 0.0}, {\"data\": \"2021-08-15\", \"fonte_dados\": \"Municipal\", \"obitos_por_dia\": 0.0}, {\"data\": \"2021-08-16\", \"fonte_dados\": \"Municipal\", \"obitos_por_dia\": 3.0}, {\"data\": \"2021-08-17\", \"fonte_dados\": \"Municipal\", \"obitos_por_dia\": 3.0}, {\"data\": \"2021-08-18\", \"fonte_dados\": \"Municipal\", \"obitos_por_dia\": 1.0}, {\"data\": \"2021-08-19\", \"fonte_dados\": \"Municipal\", \"obitos_por_dia\": 0.0}, {\"data\": \"2021-08-20\", \"fonte_dados\": \"Municipal\", \"obitos_por_dia\": 1.0}, {\"data\": \"2021-08-21\", \"fonte_dados\": \"Municipal\", \"obitos_por_dia\": 0.0}, {\"data\": \"2021-08-22\", \"fonte_dados\": \"Municipal\", \"obitos_por_dia\": 0.0}, {\"data\": \"2021-08-23\", \"fonte_dados\": \"Municipal\", \"obitos_por_dia\": 4.0}, {\"data\": \"2021-08-24\", \"fonte_dados\": \"Municipal\", \"obitos_por_dia\": 0.0}, {\"data\": \"2021-08-25\", \"fonte_dados\": \"Municipal\", \"obitos_por_dia\": 0.0}, {\"data\": \"2021-08-26\", \"fonte_dados\": \"Municipal\", \"obitos_por_dia\": 0.0}, {\"data\": \"2021-08-27\", \"fonte_dados\": \"Municipal\", \"obitos_por_dia\": 0.0}, {\"data\": \"2021-08-28\", \"fonte_dados\": \"Municipal\", \"obitos_por_dia\": 0.0}, {\"data\": \"2021-08-29\", \"fonte_dados\": \"Municipal\", \"obitos_por_dia\": 0.0}, {\"data\": \"2021-08-30\", \"fonte_dados\": \"Municipal\", \"obitos_por_dia\": 2.0}, {\"data\": \"2021-08-31\", \"fonte_dados\": \"Municipal\", \"obitos_por_dia\": 1.0}]}}, {\"mode\": \"vega-lite\"});\n",
       "</script>"
      ],
      "text/plain": [
       "alt.Chart(...)"
      ]
     },
     "execution_count": 139,
     "metadata": {},
     "output_type": "execute_result"
    }
   ],
   "source": [
    "criar_mark_line(obitosPorDia, 'Quantidade de Obitos Confirmados por Dia', False)"
   ]
  },
  {
   "cell_type": "markdown",
   "metadata": {},
   "source": [
    "### Média Movel (7 dias) dos Obitos Confirmados"
   ]
  },
  {
   "cell_type": "code",
   "execution_count": 140,
   "metadata": {},
   "outputs": [
    {
     "data": {
      "text/html": [
       "\n",
       "<div id=\"altair-viz-219e51ad686b40d895e879b226725af8\"></div>\n",
       "<script type=\"text/javascript\">\n",
       "  (function(spec, embedOpt){\n",
       "    let outputDiv = document.currentScript.previousElementSibling;\n",
       "    if (outputDiv.id !== \"altair-viz-219e51ad686b40d895e879b226725af8\") {\n",
       "      outputDiv = document.getElementById(\"altair-viz-219e51ad686b40d895e879b226725af8\");\n",
       "    }\n",
       "    const paths = {\n",
       "      \"vega\": \"https://cdn.jsdelivr.net/npm//vega@5?noext\",\n",
       "      \"vega-lib\": \"https://cdn.jsdelivr.net/npm//vega-lib?noext\",\n",
       "      \"vega-lite\": \"https://cdn.jsdelivr.net/npm//vega-lite@4.8.1?noext\",\n",
       "      \"vega-embed\": \"https://cdn.jsdelivr.net/npm//vega-embed@6?noext\",\n",
       "    };\n",
       "\n",
       "    function loadScript(lib) {\n",
       "      return new Promise(function(resolve, reject) {\n",
       "        var s = document.createElement('script');\n",
       "        s.src = paths[lib];\n",
       "        s.async = true;\n",
       "        s.onload = () => resolve(paths[lib]);\n",
       "        s.onerror = () => reject(`Error loading script: ${paths[lib]}`);\n",
       "        document.getElementsByTagName(\"head\")[0].appendChild(s);\n",
       "      });\n",
       "    }\n",
       "\n",
       "    function showError(err) {\n",
       "      outputDiv.innerHTML = `<div class=\"error\" style=\"color:red;\">${err}</div>`;\n",
       "      throw err;\n",
       "    }\n",
       "\n",
       "    function displayChart(vegaEmbed) {\n",
       "      vegaEmbed(outputDiv, spec, embedOpt)\n",
       "        .catch(err => showError(`Javascript Error: ${err.message}<br>This usually means there's a typo in your chart specification. See the javascript console for the full traceback.`));\n",
       "    }\n",
       "\n",
       "    if(typeof define === \"function\" && define.amd) {\n",
       "      requirejs.config({paths});\n",
       "      require([\"vega-embed\"], displayChart, err => showError(`Error loading script: ${err.message}`));\n",
       "    } else if (typeof vegaEmbed === \"function\") {\n",
       "      displayChart(vegaEmbed);\n",
       "    } else {\n",
       "      loadScript(\"vega\")\n",
       "        .then(() => loadScript(\"vega-lite\"))\n",
       "        .then(() => loadScript(\"vega-embed\"))\n",
       "        .catch(showError)\n",
       "        .then(() => displayChart(vegaEmbed));\n",
       "    }\n",
       "  })({\"config\": {\"view\": {\"continuousWidth\": 400, \"continuousHeight\": 300}}, \"data\": {\"name\": \"data-5889e5aebace3e55610f208832913e5a\"}, \"mark\": {\"type\": \"line\", \"point\": true}, \"encoding\": {\"color\": {\"type\": \"nominal\", \"field\": \"fonte_dados\", \"title\": \"Base dos Dados\"}, \"x\": {\"type\": \"temporal\", \"field\": \"data\", \"title\": \"Data\"}, \"y\": {\"type\": \"quantitative\", \"field\": \"obitos_por_dia\", \"title\": \"N\\u00ba de Obitos\"}}, \"title\": \"M\\u00e9dia Movel de Obitos Confirmados por Dia\", \"width\": 1000, \"$schema\": \"https://vega.github.io/schema/vega-lite/v4.8.1.json\", \"datasets\": {\"data-5889e5aebace3e55610f208832913e5a\": [{\"data\": \"2021-06-01\", \"fonte_dados\": \"Painel Federal\", \"obitos_por_dia\": null}, {\"data\": \"2021-06-02\", \"fonte_dados\": \"Painel Federal\", \"obitos_por_dia\": null}, {\"data\": \"2021-06-03\", \"fonte_dados\": \"Painel Federal\", \"obitos_por_dia\": null}, {\"data\": \"2021-06-04\", \"fonte_dados\": \"Painel Federal\", \"obitos_por_dia\": null}, {\"data\": \"2021-06-05\", \"fonte_dados\": \"Painel Federal\", \"obitos_por_dia\": null}, {\"data\": \"2021-06-06\", \"fonte_dados\": \"Painel Federal\", \"obitos_por_dia\": null}, {\"data\": \"2021-06-07\", \"fonte_dados\": \"Painel Federal\", \"obitos_por_dia\": 4.285714285714286}, {\"data\": \"2021-06-08\", \"fonte_dados\": \"Painel Federal\", \"obitos_por_dia\": 3.857142857142857}, {\"data\": \"2021-06-09\", \"fonte_dados\": \"Painel Federal\", \"obitos_por_dia\": 3.857142857142857}, {\"data\": \"2021-06-10\", \"fonte_dados\": \"Painel Federal\", \"obitos_por_dia\": 4.571428571428571}, {\"data\": \"2021-06-11\", \"fonte_dados\": \"Painel Federal\", \"obitos_por_dia\": 5.142857142857143}, {\"data\": \"2021-06-12\", \"fonte_dados\": \"Painel Federal\", \"obitos_por_dia\": 4.857142857142857}, {\"data\": \"2021-06-13\", \"fonte_dados\": \"Painel Federal\", \"obitos_por_dia\": 4.857142857142857}, {\"data\": \"2021-06-14\", \"fonte_dados\": \"Painel Federal\", \"obitos_por_dia\": 6.0}, {\"data\": \"2021-06-15\", \"fonte_dados\": \"Painel Federal\", \"obitos_por_dia\": 6.142857142857143}, {\"data\": \"2021-06-16\", \"fonte_dados\": \"Painel Federal\", \"obitos_por_dia\": 5.857142857142857}, {\"data\": \"2021-06-17\", \"fonte_dados\": \"Painel Federal\", \"obitos_por_dia\": 5.142857142857143}, {\"data\": \"2021-06-18\", \"fonte_dados\": \"Painel Federal\", \"obitos_por_dia\": 4.714285714285714}, {\"data\": \"2021-06-19\", \"fonte_dados\": \"Painel Federal\", \"obitos_por_dia\": 4.285714285714286}, {\"data\": \"2021-06-20\", \"fonte_dados\": \"Painel Federal\", \"obitos_por_dia\": 4.285714285714286}, {\"data\": \"2021-06-21\", \"fonte_dados\": \"Painel Federal\", \"obitos_por_dia\": 3.2857142857142856}, {\"data\": \"2021-06-22\", \"fonte_dados\": \"Painel Federal\", \"obitos_por_dia\": 3.4285714285714284}, {\"data\": \"2021-06-23\", \"fonte_dados\": \"Painel Federal\", \"obitos_por_dia\": 3.142857142857143}, {\"data\": \"2021-06-24\", \"fonte_dados\": \"Painel Federal\", \"obitos_por_dia\": 3.142857142857143}, {\"data\": \"2021-06-25\", \"fonte_dados\": \"Painel Federal\", \"obitos_por_dia\": 3.0}, {\"data\": \"2021-06-26\", \"fonte_dados\": \"Painel Federal\", \"obitos_por_dia\": 3.0}, {\"data\": \"2021-06-27\", \"fonte_dados\": \"Painel Federal\", \"obitos_por_dia\": 2.5714285714285716}, {\"data\": \"2021-06-28\", \"fonte_dados\": \"Painel Federal\", \"obitos_por_dia\": 2.2857142857142856}, {\"data\": \"2021-06-29\", \"fonte_dados\": \"Painel Federal\", \"obitos_por_dia\": 2.4285714285714284}, {\"data\": \"2021-06-30\", \"fonte_dados\": \"Painel Federal\", \"obitos_por_dia\": 2.4285714285714284}, {\"data\": \"2021-07-01\", \"fonte_dados\": \"Painel Federal\", \"obitos_por_dia\": 2.2857142857142856}, {\"data\": \"2021-07-03\", \"fonte_dados\": \"Painel Federal\", \"obitos_por_dia\": 2.5714285714285716}, {\"data\": \"2021-07-04\", \"fonte_dados\": \"Painel Federal\", \"obitos_por_dia\": 2.4285714285714284}, {\"data\": \"2021-07-05\", \"fonte_dados\": \"Painel Federal\", \"obitos_por_dia\": 2.142857142857143}, {\"data\": \"2021-07-06\", \"fonte_dados\": \"Painel Federal\", \"obitos_por_dia\": 2.142857142857143}, {\"data\": \"2021-07-07\", \"fonte_dados\": \"Painel Federal\", \"obitos_por_dia\": 2.7142857142857144}, {\"data\": \"2021-07-08\", \"fonte_dados\": \"Painel Federal\", \"obitos_por_dia\": 2.7142857142857144}, {\"data\": \"2021-07-09\", \"fonte_dados\": \"Painel Federal\", \"obitos_por_dia\": 2.4285714285714284}, {\"data\": \"2021-07-10\", \"fonte_dados\": \"Painel Federal\", \"obitos_por_dia\": 2.2857142857142856}, {\"data\": \"2021-07-11\", \"fonte_dados\": \"Painel Federal\", \"obitos_por_dia\": 2.142857142857143}, {\"data\": \"2021-07-12\", \"fonte_dados\": \"Painel Federal\", \"obitos_por_dia\": 2.2857142857142856}, {\"data\": \"2021-07-13\", \"fonte_dados\": \"Painel Federal\", \"obitos_por_dia\": 1.7142857142857142}, {\"data\": \"2021-07-14\", \"fonte_dados\": \"Painel Federal\", \"obitos_por_dia\": 1.4285714285714286}, {\"data\": \"2021-07-15\", \"fonte_dados\": \"Painel Federal\", \"obitos_por_dia\": 1.4285714285714286}, {\"data\": \"2021-07-16\", \"fonte_dados\": \"Painel Federal\", \"obitos_por_dia\": 1.2857142857142858}, {\"data\": \"2021-07-17\", \"fonte_dados\": \"Painel Federal\", \"obitos_por_dia\": 1.1428571428571428}, {\"data\": \"2021-07-18\", \"fonte_dados\": \"Painel Federal\", \"obitos_por_dia\": 1.0}, {\"data\": \"2021-07-19\", \"fonte_dados\": \"Painel Federal\", \"obitos_por_dia\": 1.2857142857142858}, {\"data\": \"2021-07-20\", \"fonte_dados\": \"Painel Federal\", \"obitos_por_dia\": 1.4285714285714286}, {\"data\": \"2021-07-21\", \"fonte_dados\": \"Painel Federal\", \"obitos_por_dia\": 0.8571428571428571}, {\"data\": \"2021-07-22\", \"fonte_dados\": \"Painel Federal\", \"obitos_por_dia\": 0.8571428571428571}, {\"data\": \"2021-07-23\", \"fonte_dados\": \"Painel Federal\", \"obitos_por_dia\": 1.0}, {\"data\": \"2021-07-24\", \"fonte_dados\": \"Painel Federal\", \"obitos_por_dia\": 1.2857142857142858}, {\"data\": \"2021-07-25\", \"fonte_dados\": \"Painel Federal\", \"obitos_por_dia\": 1.7142857142857142}, {\"data\": \"2021-07-26\", \"fonte_dados\": \"Painel Federal\", \"obitos_por_dia\": 1.4285714285714286}, {\"data\": \"2021-07-27\", \"fonte_dados\": \"Painel Federal\", \"obitos_por_dia\": 1.4285714285714286}, {\"data\": \"2021-07-28\", \"fonte_dados\": \"Painel Federal\", \"obitos_por_dia\": 2.0}, {\"data\": \"2021-07-29\", \"fonte_dados\": \"Painel Federal\", \"obitos_por_dia\": 1.8571428571428572}, {\"data\": \"2021-07-30\", \"fonte_dados\": \"Painel Federal\", \"obitos_por_dia\": 1.5714285714285714}, {\"data\": \"2021-07-31\", \"fonte_dados\": \"Painel Federal\", \"obitos_por_dia\": 1.2857142857142858}, {\"data\": \"2021-08-01\", \"fonte_dados\": \"Painel Federal\", \"obitos_por_dia\": 0.8571428571428571}, {\"data\": \"2021-08-02\", \"fonte_dados\": \"Painel Federal\", \"obitos_por_dia\": 0.8571428571428571}, {\"data\": \"2021-08-03\", \"fonte_dados\": \"Painel Federal\", \"obitos_por_dia\": 0.7142857142857143}, {\"data\": \"2021-08-04\", \"fonte_dados\": \"Painel Federal\", \"obitos_por_dia\": 0.7142857142857143}, {\"data\": \"2021-08-05\", \"fonte_dados\": \"Painel Federal\", \"obitos_por_dia\": 0.7142857142857143}, {\"data\": \"2021-08-06\", \"fonte_dados\": \"Painel Federal\", \"obitos_por_dia\": 1.1428571428571428}, {\"data\": \"2021-08-07\", \"fonte_dados\": \"Painel Federal\", \"obitos_por_dia\": 1.2857142857142858}, {\"data\": \"2021-08-08\", \"fonte_dados\": \"Painel Federal\", \"obitos_por_dia\": 1.2857142857142858}, {\"data\": \"2021-08-09\", \"fonte_dados\": \"Painel Federal\", \"obitos_por_dia\": 1.2857142857142858}, {\"data\": \"2021-08-10\", \"fonte_dados\": \"Painel Federal\", \"obitos_por_dia\": 1.4285714285714286}, {\"data\": \"2021-08-11\", \"fonte_dados\": \"Painel Federal\", \"obitos_por_dia\": 1.2857142857142858}, {\"data\": \"2021-08-12\", \"fonte_dados\": \"Painel Federal\", \"obitos_por_dia\": 1.2857142857142858}, {\"data\": \"2021-08-13\", \"fonte_dados\": \"Painel Federal\", \"obitos_por_dia\": 0.8571428571428571}, {\"data\": \"2021-08-14\", \"fonte_dados\": \"Painel Federal\", \"obitos_por_dia\": 0.5714285714285714}, {\"data\": \"2021-08-15\", \"fonte_dados\": \"Painel Federal\", \"obitos_por_dia\": 0.7142857142857143}, {\"data\": \"2021-08-16\", \"fonte_dados\": \"Painel Federal\", \"obitos_por_dia\": 1.0}, {\"data\": \"2021-08-17\", \"fonte_dados\": \"Painel Federal\", \"obitos_por_dia\": 1.4285714285714286}, {\"data\": \"2021-08-18\", \"fonte_dados\": \"Painel Federal\", \"obitos_por_dia\": 1.1428571428571428}, {\"data\": \"2021-08-19\", \"fonte_dados\": \"Painel Federal\", \"obitos_por_dia\": 1.1428571428571428}, {\"data\": \"2021-08-20\", \"fonte_dados\": \"Painel Federal\", \"obitos_por_dia\": 1.1428571428571428}, {\"data\": \"2021-08-21\", \"fonte_dados\": \"Painel Federal\", \"obitos_por_dia\": 1.7142857142857142}, {\"data\": \"2021-08-22\", \"fonte_dados\": \"Painel Federal\", \"obitos_por_dia\": 1.5714285714285714}, {\"data\": \"2021-08-23\", \"fonte_dados\": \"Painel Federal\", \"obitos_por_dia\": 1.4285714285714286}, {\"data\": \"2021-08-24\", \"fonte_dados\": \"Painel Federal\", \"obitos_por_dia\": 0.8571428571428571}, {\"data\": \"2021-08-25\", \"fonte_dados\": \"Painel Federal\", \"obitos_por_dia\": 0.8571428571428571}, {\"data\": \"2021-08-26\", \"fonte_dados\": \"Painel Federal\", \"obitos_por_dia\": 0.8571428571428571}, {\"data\": \"2021-08-27\", \"fonte_dados\": \"Painel Federal\", \"obitos_por_dia\": 1.0}, {\"data\": \"2021-08-28\", \"fonte_dados\": \"Painel Federal\", \"obitos_por_dia\": 0.5714285714285714}, {\"data\": \"2021-08-29\", \"fonte_dados\": \"Painel Federal\", \"obitos_por_dia\": 0.5714285714285714}, {\"data\": \"2021-08-30\", \"fonte_dados\": \"Painel Federal\", \"obitos_por_dia\": 0.42857142857142855}, {\"data\": \"2021-08-31\", \"fonte_dados\": \"Painel Federal\", \"obitos_por_dia\": 0.5714285714285714}, {\"data\": \"2021-06-01\", \"fonte_dados\": \"Federal\", \"obitos_por_dia\": null}, {\"data\": \"2021-06-02\", \"fonte_dados\": \"Federal\", \"obitos_por_dia\": null}, {\"data\": \"2021-06-03\", \"fonte_dados\": \"Federal\", \"obitos_por_dia\": null}, {\"data\": \"2021-06-04\", \"fonte_dados\": \"Federal\", \"obitos_por_dia\": null}, {\"data\": \"2021-06-05\", \"fonte_dados\": \"Federal\", \"obitos_por_dia\": null}, {\"data\": \"2021-06-06\", \"fonte_dados\": \"Federal\", \"obitos_por_dia\": null}, {\"data\": \"2021-06-07\", \"fonte_dados\": \"Federal\", \"obitos_por_dia\": 3.857142857142857}, {\"data\": \"2021-06-08\", \"fonte_dados\": \"Federal\", \"obitos_por_dia\": 4.0}, {\"data\": \"2021-06-09\", \"fonte_dados\": \"Federal\", \"obitos_por_dia\": 4.0}, {\"data\": \"2021-06-10\", \"fonte_dados\": \"Federal\", \"obitos_por_dia\": 3.857142857142857}, {\"data\": \"2021-06-11\", \"fonte_dados\": \"Federal\", \"obitos_por_dia\": 4.571428571428571}, {\"data\": \"2021-06-12\", \"fonte_dados\": \"Federal\", \"obitos_por_dia\": 4.714285714285714}, {\"data\": \"2021-06-13\", \"fonte_dados\": \"Federal\", \"obitos_por_dia\": 4.857142857142857}, {\"data\": \"2021-06-14\", \"fonte_dados\": \"Federal\", \"obitos_por_dia\": 4.714285714285714}, {\"data\": \"2021-06-15\", \"fonte_dados\": \"Federal\", \"obitos_por_dia\": 4.857142857142857}, {\"data\": \"2021-06-16\", \"fonte_dados\": \"Federal\", \"obitos_por_dia\": 4.714285714285714}, {\"data\": \"2021-06-17\", \"fonte_dados\": \"Federal\", \"obitos_por_dia\": 5.142857142857143}, {\"data\": \"2021-06-18\", \"fonte_dados\": \"Federal\", \"obitos_por_dia\": 5.285714285714286}, {\"data\": \"2021-06-19\", \"fonte_dados\": \"Federal\", \"obitos_por_dia\": 5.142857142857143}, {\"data\": \"2021-06-20\", \"fonte_dados\": \"Federal\", \"obitos_por_dia\": 5.0}, {\"data\": \"2021-06-21\", \"fonte_dados\": \"Federal\", \"obitos_por_dia\": 4.857142857142857}, {\"data\": \"2021-06-22\", \"fonte_dados\": \"Federal\", \"obitos_por_dia\": 4.428571428571429}, {\"data\": \"2021-06-23\", \"fonte_dados\": \"Federal\", \"obitos_por_dia\": 4.0}, {\"data\": \"2021-06-24\", \"fonte_dados\": \"Federal\", \"obitos_por_dia\": 3.857142857142857}, {\"data\": \"2021-06-25\", \"fonte_dados\": \"Federal\", \"obitos_por_dia\": 3.0}, {\"data\": \"2021-06-26\", \"fonte_dados\": \"Federal\", \"obitos_por_dia\": 2.2857142857142856}, {\"data\": \"2021-06-27\", \"fonte_dados\": \"Federal\", \"obitos_por_dia\": 1.7142857142857142}, {\"data\": \"2021-06-28\", \"fonte_dados\": \"Federal\", \"obitos_por_dia\": 1.5714285714285714}, {\"data\": \"2021-06-29\", \"fonte_dados\": \"Federal\", \"obitos_por_dia\": 1.5714285714285714}, {\"data\": \"2021-06-30\", \"fonte_dados\": \"Federal\", \"obitos_por_dia\": 1.7142857142857142}, {\"data\": \"2021-07-01\", \"fonte_dados\": \"Federal\", \"obitos_por_dia\": 1.7142857142857142}, {\"data\": \"2021-07-03\", \"fonte_dados\": \"Federal\", \"obitos_por_dia\": 2.142857142857143}, {\"data\": \"2021-07-04\", \"fonte_dados\": \"Federal\", \"obitos_por_dia\": 2.2857142857142856}, {\"data\": \"2021-07-05\", \"fonte_dados\": \"Federal\", \"obitos_por_dia\": 2.857142857142857}, {\"data\": \"2021-07-06\", \"fonte_dados\": \"Federal\", \"obitos_por_dia\": 3.0}, {\"data\": \"2021-07-07\", \"fonte_dados\": \"Federal\", \"obitos_por_dia\": 2.5714285714285716}, {\"data\": \"2021-07-08\", \"fonte_dados\": \"Federal\", \"obitos_por_dia\": 2.2857142857142856}, {\"data\": \"2021-07-09\", \"fonte_dados\": \"Federal\", \"obitos_por_dia\": 2.7142857142857144}, {\"data\": \"2021-07-10\", \"fonte_dados\": \"Federal\", \"obitos_por_dia\": 2.5714285714285716}, {\"data\": \"2021-07-11\", \"fonte_dados\": \"Federal\", \"obitos_por_dia\": 2.2857142857142856}, {\"data\": \"2021-07-12\", \"fonte_dados\": \"Federal\", \"obitos_por_dia\": 1.7142857142857142}, {\"data\": \"2021-07-13\", \"fonte_dados\": \"Federal\", \"obitos_por_dia\": 1.7142857142857142}, {\"data\": \"2021-07-14\", \"fonte_dados\": \"Federal\", \"obitos_por_dia\": 1.8571428571428572}, {\"data\": \"2021-07-15\", \"fonte_dados\": \"Federal\", \"obitos_por_dia\": 1.8571428571428572}, {\"data\": \"2021-07-16\", \"fonte_dados\": \"Federal\", \"obitos_por_dia\": 1.1428571428571428}, {\"data\": \"2021-07-17\", \"fonte_dados\": \"Federal\", \"obitos_por_dia\": 1.2857142857142858}, {\"data\": \"2021-07-18\", \"fonte_dados\": \"Federal\", \"obitos_por_dia\": 1.7142857142857142}, {\"data\": \"2021-07-19\", \"fonte_dados\": \"Federal\", \"obitos_por_dia\": 1.8571428571428572}, {\"data\": \"2021-07-20\", \"fonte_dados\": \"Federal\", \"obitos_por_dia\": 1.5714285714285714}, {\"data\": \"2021-07-21\", \"fonte_dados\": \"Federal\", \"obitos_por_dia\": 1.5714285714285714}, {\"data\": \"2021-07-22\", \"fonte_dados\": \"Federal\", \"obitos_por_dia\": 1.4285714285714286}, {\"data\": \"2021-07-23\", \"fonte_dados\": \"Federal\", \"obitos_por_dia\": 2.0}, {\"data\": \"2021-07-24\", \"fonte_dados\": \"Federal\", \"obitos_por_dia\": 1.7142857142857142}, {\"data\": \"2021-07-25\", \"fonte_dados\": \"Federal\", \"obitos_por_dia\": 2.142857142857143}, {\"data\": \"2021-07-26\", \"fonte_dados\": \"Federal\", \"obitos_por_dia\": 1.8571428571428572}, {\"data\": \"2021-07-27\", \"fonte_dados\": \"Federal\", \"obitos_por_dia\": 2.0}, {\"data\": \"2021-07-28\", \"fonte_dados\": \"Federal\", \"obitos_por_dia\": 2.0}, {\"data\": \"2021-07-29\", \"fonte_dados\": \"Federal\", \"obitos_por_dia\": 2.142857142857143}, {\"data\": \"2021-07-30\", \"fonte_dados\": \"Federal\", \"obitos_por_dia\": 1.8571428571428572}, {\"data\": \"2021-07-31\", \"fonte_dados\": \"Federal\", \"obitos_por_dia\": 2.142857142857143}, {\"data\": \"2021-08-01\", \"fonte_dados\": \"Federal\", \"obitos_por_dia\": 1.5714285714285714}, {\"data\": \"2021-08-02\", \"fonte_dados\": \"Federal\", \"obitos_por_dia\": 1.4285714285714286}, {\"data\": \"2021-08-03\", \"fonte_dados\": \"Federal\", \"obitos_por_dia\": 2.0}, {\"data\": \"2021-08-04\", \"fonte_dados\": \"Federal\", \"obitos_por_dia\": 1.8571428571428572}, {\"data\": \"2021-08-05\", \"fonte_dados\": \"Federal\", \"obitos_por_dia\": 1.8571428571428572}, {\"data\": \"2021-08-06\", \"fonte_dados\": \"Federal\", \"obitos_por_dia\": 1.7142857142857142}, {\"data\": \"2021-08-07\", \"fonte_dados\": \"Federal\", \"obitos_por_dia\": 1.7142857142857142}, {\"data\": \"2021-08-08\", \"fonte_dados\": \"Federal\", \"obitos_por_dia\": 1.4285714285714286}, {\"data\": \"2021-08-09\", \"fonte_dados\": \"Federal\", \"obitos_por_dia\": 1.5714285714285714}, {\"data\": \"2021-08-10\", \"fonte_dados\": \"Federal\", \"obitos_por_dia\": 0.8571428571428571}, {\"data\": \"2021-08-11\", \"fonte_dados\": \"Federal\", \"obitos_por_dia\": 2.4285714285714284}, {\"data\": \"2021-08-12\", \"fonte_dados\": \"Federal\", \"obitos_por_dia\": 2.5714285714285716}, {\"data\": \"2021-08-13\", \"fonte_dados\": \"Federal\", \"obitos_por_dia\": 2.7142857142857144}, {\"data\": \"2021-08-14\", \"fonte_dados\": \"Federal\", \"obitos_por_dia\": 2.5714285714285716}, {\"data\": \"2021-08-15\", \"fonte_dados\": \"Federal\", \"obitos_por_dia\": 2.4285714285714284}, {\"data\": \"2021-08-16\", \"fonte_dados\": \"Federal\", \"obitos_por_dia\": 2.7142857142857144}, {\"data\": \"2021-08-17\", \"fonte_dados\": \"Federal\", \"obitos_por_dia\": 3.142857142857143}, {\"data\": \"2021-08-18\", \"fonte_dados\": \"Federal\", \"obitos_por_dia\": 1.7142857142857142}, {\"data\": \"2021-08-19\", \"fonte_dados\": \"Federal\", \"obitos_por_dia\": 1.4285714285714286}, {\"data\": \"2021-08-20\", \"fonte_dados\": \"Federal\", \"obitos_por_dia\": 1.2857142857142858}, {\"data\": \"2021-08-21\", \"fonte_dados\": \"Federal\", \"obitos_por_dia\": 1.7142857142857142}, {\"data\": \"2021-08-22\", \"fonte_dados\": \"Federal\", \"obitos_por_dia\": 1.7142857142857142}, {\"data\": \"2021-08-23\", \"fonte_dados\": \"Federal\", \"obitos_por_dia\": 1.5714285714285714}, {\"data\": \"2021-08-24\", \"fonte_dados\": \"Federal\", \"obitos_por_dia\": 2.2857142857142856}, {\"data\": \"2021-08-25\", \"fonte_dados\": \"Federal\", \"obitos_por_dia\": 2.2857142857142856}, {\"data\": \"2021-08-26\", \"fonte_dados\": \"Federal\", \"obitos_por_dia\": 2.5714285714285716}, {\"data\": \"2021-08-27\", \"fonte_dados\": \"Federal\", \"obitos_por_dia\": 2.7142857142857144}, {\"data\": \"2021-08-28\", \"fonte_dados\": \"Federal\", \"obitos_por_dia\": 2.4285714285714284}, {\"data\": \"2021-08-29\", \"fonte_dados\": \"Federal\", \"obitos_por_dia\": 2.4285714285714284}, {\"data\": \"2021-08-30\", \"fonte_dados\": \"Federal\", \"obitos_por_dia\": 2.142857142857143}, {\"data\": \"2021-08-31\", \"fonte_dados\": \"Federal\", \"obitos_por_dia\": 1.2857142857142858}, {\"data\": \"2021-06-01\", \"fonte_dados\": \"Municipal\", \"obitos_por_dia\": null}, {\"data\": \"2021-06-02\", \"fonte_dados\": \"Municipal\", \"obitos_por_dia\": null}, {\"data\": \"2021-06-03\", \"fonte_dados\": \"Municipal\", \"obitos_por_dia\": null}, {\"data\": \"2021-06-04\", \"fonte_dados\": \"Municipal\", \"obitos_por_dia\": null}, {\"data\": \"2021-06-05\", \"fonte_dados\": \"Municipal\", \"obitos_por_dia\": null}, {\"data\": \"2021-06-06\", \"fonte_dados\": \"Municipal\", \"obitos_por_dia\": null}, {\"data\": \"2021-06-07\", \"fonte_dados\": \"Municipal\", \"obitos_por_dia\": 4.285714285714286}, {\"data\": \"2021-06-08\", \"fonte_dados\": \"Municipal\", \"obitos_por_dia\": 4.428571428571429}, {\"data\": \"2021-06-09\", \"fonte_dados\": \"Municipal\", \"obitos_por_dia\": 4.714285714285714}, {\"data\": \"2021-06-10\", \"fonte_dados\": \"Municipal\", \"obitos_por_dia\": 5.285714285714286}, {\"data\": \"2021-06-11\", \"fonte_dados\": \"Municipal\", \"obitos_por_dia\": 6.142857142857143}, {\"data\": \"2021-06-12\", \"fonte_dados\": \"Municipal\", \"obitos_por_dia\": 6.142857142857143}, {\"data\": \"2021-06-13\", \"fonte_dados\": \"Municipal\", \"obitos_por_dia\": 6.428571428571429}, {\"data\": \"2021-06-14\", \"fonte_dados\": \"Municipal\", \"obitos_por_dia\": 6.285714285714286}, {\"data\": \"2021-06-15\", \"fonte_dados\": \"Municipal\", \"obitos_por_dia\": 6.285714285714286}, {\"data\": \"2021-06-16\", \"fonte_dados\": \"Municipal\", \"obitos_por_dia\": 6.142857142857143}, {\"data\": \"2021-06-17\", \"fonte_dados\": \"Municipal\", \"obitos_por_dia\": 5.571428571428571}, {\"data\": \"2021-06-18\", \"fonte_dados\": \"Municipal\", \"obitos_por_dia\": 4.714285714285714}, {\"data\": \"2021-06-19\", \"fonte_dados\": \"Municipal\", \"obitos_por_dia\": 4.714285714285714}, {\"data\": \"2021-06-20\", \"fonte_dados\": \"Municipal\", \"obitos_por_dia\": 4.428571428571429}, {\"data\": \"2021-06-21\", \"fonte_dados\": \"Municipal\", \"obitos_por_dia\": 4.714285714285714}, {\"data\": \"2021-06-22\", \"fonte_dados\": \"Municipal\", \"obitos_por_dia\": 5.0}, {\"data\": \"2021-06-23\", \"fonte_dados\": \"Municipal\", \"obitos_por_dia\": 5.142857142857143}, {\"data\": \"2021-06-24\", \"fonte_dados\": \"Municipal\", \"obitos_por_dia\": 5.428571428571429}, {\"data\": \"2021-06-25\", \"fonte_dados\": \"Municipal\", \"obitos_por_dia\": 5.428571428571429}, {\"data\": \"2021-06-26\", \"fonte_dados\": \"Municipal\", \"obitos_por_dia\": 5.714285714285714}, {\"data\": \"2021-06-27\", \"fonte_dados\": \"Municipal\", \"obitos_por_dia\": 6.142857142857143}, {\"data\": \"2021-06-28\", \"fonte_dados\": \"Municipal\", \"obitos_por_dia\": 6.142857142857143}, {\"data\": \"2021-06-29\", \"fonte_dados\": \"Municipal\", \"obitos_por_dia\": 6.0}, {\"data\": \"2021-06-30\", \"fonte_dados\": \"Municipal\", \"obitos_por_dia\": 5.857142857142857}, {\"data\": \"2021-07-01\", \"fonte_dados\": \"Municipal\", \"obitos_por_dia\": 5.428571428571429}, {\"data\": \"2021-07-03\", \"fonte_dados\": \"Municipal\", \"obitos_por_dia\": 5.571428571428571}, {\"data\": \"2021-07-04\", \"fonte_dados\": \"Municipal\", \"obitos_por_dia\": 5.142857142857143}, {\"data\": \"2021-07-05\", \"fonte_dados\": \"Municipal\", \"obitos_por_dia\": 4.714285714285714}, {\"data\": \"2021-07-06\", \"fonte_dados\": \"Municipal\", \"obitos_por_dia\": 4.285714285714286}, {\"data\": \"2021-07-07\", \"fonte_dados\": \"Municipal\", \"obitos_por_dia\": 4.142857142857143}, {\"data\": \"2021-07-08\", \"fonte_dados\": \"Municipal\", \"obitos_por_dia\": 3.857142857142857}, {\"data\": \"2021-07-09\", \"fonte_dados\": \"Municipal\", \"obitos_por_dia\": 3.857142857142857}, {\"data\": \"2021-07-10\", \"fonte_dados\": \"Municipal\", \"obitos_por_dia\": 3.2857142857142856}, {\"data\": \"2021-07-11\", \"fonte_dados\": \"Municipal\", \"obitos_por_dia\": 3.142857142857143}, {\"data\": \"2021-07-12\", \"fonte_dados\": \"Municipal\", \"obitos_por_dia\": 3.0}, {\"data\": \"2021-07-13\", \"fonte_dados\": \"Municipal\", \"obitos_por_dia\": 2.5714285714285716}, {\"data\": \"2021-07-14\", \"fonte_dados\": \"Municipal\", \"obitos_por_dia\": 2.0}, {\"data\": \"2021-07-15\", \"fonte_dados\": \"Municipal\", \"obitos_por_dia\": 1.8571428571428572}, {\"data\": \"2021-07-16\", \"fonte_dados\": \"Municipal\", \"obitos_por_dia\": 1.4285714285714286}, {\"data\": \"2021-07-17\", \"fonte_dados\": \"Municipal\", \"obitos_por_dia\": 1.2857142857142858}, {\"data\": \"2021-07-18\", \"fonte_dados\": \"Municipal\", \"obitos_por_dia\": 1.0}, {\"data\": \"2021-07-19\", \"fonte_dados\": \"Municipal\", \"obitos_por_dia\": 0.8571428571428571}, {\"data\": \"2021-07-20\", \"fonte_dados\": \"Municipal\", \"obitos_por_dia\": 1.0}, {\"data\": \"2021-07-21\", \"fonte_dados\": \"Municipal\", \"obitos_por_dia\": 1.0}, {\"data\": \"2021-07-22\", \"fonte_dados\": \"Municipal\", \"obitos_por_dia\": 0.8571428571428571}, {\"data\": \"2021-07-23\", \"fonte_dados\": \"Municipal\", \"obitos_por_dia\": 1.0}, {\"data\": \"2021-07-24\", \"fonte_dados\": \"Municipal\", \"obitos_por_dia\": 1.0}, {\"data\": \"2021-07-25\", \"fonte_dados\": \"Municipal\", \"obitos_por_dia\": 1.0}, {\"data\": \"2021-07-26\", \"fonte_dados\": \"Municipal\", \"obitos_por_dia\": 1.1428571428571428}, {\"data\": \"2021-07-27\", \"fonte_dados\": \"Municipal\", \"obitos_por_dia\": 1.1428571428571428}, {\"data\": \"2021-07-28\", \"fonte_dados\": \"Municipal\", \"obitos_por_dia\": 1.5714285714285714}, {\"data\": \"2021-07-29\", \"fonte_dados\": \"Municipal\", \"obitos_por_dia\": 1.8571428571428572}, {\"data\": \"2021-07-30\", \"fonte_dados\": \"Municipal\", \"obitos_por_dia\": 1.7142857142857142}, {\"data\": \"2021-07-31\", \"fonte_dados\": \"Municipal\", \"obitos_por_dia\": 1.5714285714285714}, {\"data\": \"2021-08-01\", \"fonte_dados\": \"Municipal\", \"obitos_por_dia\": 1.5714285714285714}, {\"data\": \"2021-08-02\", \"fonte_dados\": \"Municipal\", \"obitos_por_dia\": 1.1428571428571428}, {\"data\": \"2021-08-03\", \"fonte_dados\": \"Municipal\", \"obitos_por_dia\": 1.0}, {\"data\": \"2021-08-04\", \"fonte_dados\": \"Municipal\", \"obitos_por_dia\": 0.8571428571428571}, {\"data\": \"2021-08-05\", \"fonte_dados\": \"Municipal\", \"obitos_por_dia\": 0.42857142857142855}, {\"data\": \"2021-08-06\", \"fonte_dados\": \"Municipal\", \"obitos_por_dia\": 0.42857142857142855}, {\"data\": \"2021-08-07\", \"fonte_dados\": \"Municipal\", \"obitos_por_dia\": 0.2857142857142857}, {\"data\": \"2021-08-08\", \"fonte_dados\": \"Municipal\", \"obitos_por_dia\": 0.2857142857142857}, {\"data\": \"2021-08-09\", \"fonte_dados\": \"Municipal\", \"obitos_por_dia\": 1.0}, {\"data\": \"2021-08-10\", \"fonte_dados\": \"Municipal\", \"obitos_por_dia\": 1.0}, {\"data\": \"2021-08-11\", \"fonte_dados\": \"Municipal\", \"obitos_por_dia\": 1.1428571428571428}, {\"data\": \"2021-08-12\", \"fonte_dados\": \"Municipal\", \"obitos_por_dia\": 1.2857142857142858}, {\"data\": \"2021-08-13\", \"fonte_dados\": \"Municipal\", \"obitos_por_dia\": 1.2857142857142858}, {\"data\": \"2021-08-14\", \"fonte_dados\": \"Municipal\", \"obitos_por_dia\": 1.2857142857142858}, {\"data\": \"2021-08-15\", \"fonte_dados\": \"Municipal\", \"obitos_por_dia\": 1.2857142857142858}, {\"data\": \"2021-08-16\", \"fonte_dados\": \"Municipal\", \"obitos_por_dia\": 1.0}, {\"data\": \"2021-08-17\", \"fonte_dados\": \"Municipal\", \"obitos_por_dia\": 1.4285714285714286}, {\"data\": \"2021-08-18\", \"fonte_dados\": \"Municipal\", \"obitos_por_dia\": 1.1428571428571428}, {\"data\": \"2021-08-19\", \"fonte_dados\": \"Municipal\", \"obitos_por_dia\": 1.0}, {\"data\": \"2021-08-20\", \"fonte_dados\": \"Municipal\", \"obitos_por_dia\": 1.1428571428571428}, {\"data\": \"2021-08-21\", \"fonte_dados\": \"Municipal\", \"obitos_por_dia\": 1.1428571428571428}, {\"data\": \"2021-08-22\", \"fonte_dados\": \"Municipal\", \"obitos_por_dia\": 1.1428571428571428}, {\"data\": \"2021-08-23\", \"fonte_dados\": \"Municipal\", \"obitos_por_dia\": 1.2857142857142858}, {\"data\": \"2021-08-24\", \"fonte_dados\": \"Municipal\", \"obitos_por_dia\": 0.8571428571428571}, {\"data\": \"2021-08-25\", \"fonte_dados\": \"Municipal\", \"obitos_por_dia\": 0.7142857142857143}, {\"data\": \"2021-08-26\", \"fonte_dados\": \"Municipal\", \"obitos_por_dia\": 0.7142857142857143}, {\"data\": \"2021-08-27\", \"fonte_dados\": \"Municipal\", \"obitos_por_dia\": 0.5714285714285714}, {\"data\": \"2021-08-28\", \"fonte_dados\": \"Municipal\", \"obitos_por_dia\": 0.5714285714285714}, {\"data\": \"2021-08-29\", \"fonte_dados\": \"Municipal\", \"obitos_por_dia\": 0.5714285714285714}, {\"data\": \"2021-08-30\", \"fonte_dados\": \"Municipal\", \"obitos_por_dia\": 0.2857142857142857}, {\"data\": \"2021-08-31\", \"fonte_dados\": \"Municipal\", \"obitos_por_dia\": 0.42857142857142855}]}}, {\"mode\": \"vega-lite\"});\n",
       "</script>"
      ],
      "text/plain": [
       "alt.Chart(...)"
      ]
     },
     "execution_count": 140,
     "metadata": {},
     "output_type": "execute_result"
    }
   ],
   "source": [
    "criar_mark_line(obitosPorDiaMedMovel, 'Média Movel de Obitos Confirmados por Dia', True)\n"
   ]
  },
  {
   "cell_type": "markdown",
   "metadata": {},
   "source": [
    "### Total de Obitos Confirmados"
   ]
  },
  {
   "cell_type": "code",
   "execution_count": 141,
   "metadata": {},
   "outputs": [],
   "source": [
    "pf_obitosTotais = pf_obitosPorDia['obitos_confirmados'].sum()\n",
    "df_obitosTotais = df_obitosPorDia['obitos_confirmados'].sum()\n",
    "dm_obitosTotais = dm_obitosPorDia['obitos_confirmados'].sum()"
   ]
  },
  {
   "cell_type": "code",
   "execution_count": 142,
   "metadata": {},
   "outputs": [],
   "source": [
    "totalObitos = pd.DataFrame({\n",
    "    'base': ['Painel Federal', 'Federal', 'Municipal'],\n",
    "    'total': [pf_obitosTotais, df_obitosTotais, dm_obitosTotais]\n",
    "})"
   ]
  },
  {
   "cell_type": "code",
   "execution_count": 143,
   "metadata": {},
   "outputs": [
    {
     "data": {
      "text/html": [
       "\n",
       "<div id=\"altair-viz-041aa4ba60d84f198bc407fef9c20bf8\"></div>\n",
       "<script type=\"text/javascript\">\n",
       "  (function(spec, embedOpt){\n",
       "    let outputDiv = document.currentScript.previousElementSibling;\n",
       "    if (outputDiv.id !== \"altair-viz-041aa4ba60d84f198bc407fef9c20bf8\") {\n",
       "      outputDiv = document.getElementById(\"altair-viz-041aa4ba60d84f198bc407fef9c20bf8\");\n",
       "    }\n",
       "    const paths = {\n",
       "      \"vega\": \"https://cdn.jsdelivr.net/npm//vega@5?noext\",\n",
       "      \"vega-lib\": \"https://cdn.jsdelivr.net/npm//vega-lib?noext\",\n",
       "      \"vega-lite\": \"https://cdn.jsdelivr.net/npm//vega-lite@4.8.1?noext\",\n",
       "      \"vega-embed\": \"https://cdn.jsdelivr.net/npm//vega-embed@6?noext\",\n",
       "    };\n",
       "\n",
       "    function loadScript(lib) {\n",
       "      return new Promise(function(resolve, reject) {\n",
       "        var s = document.createElement('script');\n",
       "        s.src = paths[lib];\n",
       "        s.async = true;\n",
       "        s.onload = () => resolve(paths[lib]);\n",
       "        s.onerror = () => reject(`Error loading script: ${paths[lib]}`);\n",
       "        document.getElementsByTagName(\"head\")[0].appendChild(s);\n",
       "      });\n",
       "    }\n",
       "\n",
       "    function showError(err) {\n",
       "      outputDiv.innerHTML = `<div class=\"error\" style=\"color:red;\">${err}</div>`;\n",
       "      throw err;\n",
       "    }\n",
       "\n",
       "    function displayChart(vegaEmbed) {\n",
       "      vegaEmbed(outputDiv, spec, embedOpt)\n",
       "        .catch(err => showError(`Javascript Error: ${err.message}<br>This usually means there's a typo in your chart specification. See the javascript console for the full traceback.`));\n",
       "    }\n",
       "\n",
       "    if(typeof define === \"function\" && define.amd) {\n",
       "      requirejs.config({paths});\n",
       "      require([\"vega-embed\"], displayChart, err => showError(`Error loading script: ${err.message}`));\n",
       "    } else if (typeof vegaEmbed === \"function\") {\n",
       "      displayChart(vegaEmbed);\n",
       "    } else {\n",
       "      loadScript(\"vega\")\n",
       "        .then(() => loadScript(\"vega-lite\"))\n",
       "        .then(() => loadScript(\"vega-embed\"))\n",
       "        .catch(showError)\n",
       "        .then(() => displayChart(vegaEmbed));\n",
       "    }\n",
       "  })({\"config\": {\"view\": {\"continuousWidth\": 400, \"continuousHeight\": 300}}, \"data\": {\"name\": \"data-cf8b13099159faa3d2d3bfb22f3aad1e\"}, \"mark\": {\"type\": \"bar\", \"size\": 30}, \"encoding\": {\"color\": {\"type\": \"nominal\", \"field\": \"base\", \"title\": \"Base de Dados\"}, \"x\": {\"type\": \"nominal\", \"field\": \"base\", \"title\": \"Base dos Dados\"}, \"y\": {\"type\": \"quantitative\", \"field\": \"total\", \"title\": \"N\\u00ba Total de Obitos Confirmados\"}}, \"title\": \"Total de Obitos Confirmados (Compara\\u00e7\\u00e3o)\", \"width\": 250, \"$schema\": \"https://vega.github.io/schema/vega-lite/v4.8.1.json\", \"datasets\": {\"data-cf8b13099159faa3d2d3bfb22f3aad1e\": [{\"base\": \"Painel Federal\", \"total\": 193.0}, {\"base\": \"Federal\", \"total\": 229.0}, {\"base\": \"Municipal\", \"total\": 246.0}]}}, {\"mode\": \"vega-lite\"});\n",
       "</script>"
      ],
      "text/plain": [
       "alt.Chart(...)"
      ]
     },
     "execution_count": 143,
     "metadata": {},
     "output_type": "execute_result"
    }
   ],
   "source": [
    "alt.Chart(totalObitos).mark_bar(size=30).encode(\n",
    "    alt.X('base:N', title='Base dos Dados'),\n",
    "    alt.Y('total:Q', title='Nº Total de Obitos Confirmados'),\n",
    "    alt.Color('base:N', title='Base de Dados')\n",
    ").properties(\n",
    "    width=250,\n",
    "    title='Total de Obitos Confirmados (Comparação)'\n",
    ")"
   ]
  }
 ],
 "metadata": {
  "interpreter": {
   "hash": "ac523b2dbf241262502338c4748dbe4206e583902f7cc2a831713042ba4f1b3b"
  },
  "kernelspec": {
   "display_name": "Python 3.9.5 64-bit",
   "language": "python",
   "name": "python3"
  },
  "language_info": {
   "codemirror_mode": {
    "name": "ipython",
    "version": 3
   },
   "file_extension": ".py",
   "mimetype": "text/x-python",
   "name": "python",
   "nbconvert_exporter": "python",
   "pygments_lexer": "ipython3",
   "version": "3.9.5"
  },
  "orig_nbformat": 4
 },
 "nbformat": 4,
 "nbformat_minor": 2
}
