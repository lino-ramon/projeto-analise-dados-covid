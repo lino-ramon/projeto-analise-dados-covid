{
 "cells": [
  {
   "cell_type": "code",
   "execution_count": 80,
   "metadata": {},
   "outputs": [],
   "source": [
    "import pandas as pd\n",
    "import altair as alt"
   ]
  },
  {
   "cell_type": "code",
   "execution_count": 81,
   "metadata": {},
   "outputs": [],
   "source": [
    "dados_painelfederal_campina = pd.read_csv(\"data\\\\dados_painel-federal_obitos_cg.csv\", encoding='UTF-8', error_bad_lines=False)\n",
    "dados_municipais_campina = pd.read_csv(\"data\\\\dados_municipais_cg.csv\", encoding='utf-8', index_col='data')"
   ]
  },
  {
   "cell_type": "markdown",
   "metadata": {},
   "source": [
    "# Processando os dados sobre Casos Confirmados por Dia"
   ]
  },
  {
   "cell_type": "markdown",
   "metadata": {},
   "source": [
    " ## Dados Federais"
   ]
  },
  {
   "cell_type": "code",
   "execution_count": 82,
   "metadata": {},
   "outputs": [],
   "source": [
    "# Criando um data com a coluna 'data' e a coluna 'casosNovos'\n",
    "df_casosPorDia = dados_painelfederal_campina[['data', 'casosNovos']]"
   ]
  },
  {
   "cell_type": "code",
   "execution_count": 83,
   "metadata": {},
   "outputs": [],
   "source": [
    "# Criando um DataFrame com os dados para o altair\n",
    "df_casosPorDia = pd.DataFrame({\n",
    "    'data': df_casosPorDia['data'].tolist(),\n",
    "    'casos_confirmados': df_casosPorDia['casosNovos'].tolist()\n",
    "})\n",
    "# Criando uma nova coluna no DataFrame referente a média movel.\n",
    "df_casosPorDia['media_movel'] = df_casosPorDia.casos_confirmados.rolling(7).mean()\n",
    "\n",
    "# Setando a coluna 'data' como índice do DataFrame \n",
    "df_casosPorDia.set_index('data', inplace=True)"
   ]
  },
  {
   "cell_type": "markdown",
   "metadata": {},
   "source": [
    "## Dados Municipal"
   ]
  },
  {
   "cell_type": "code",
   "execution_count": 84,
   "metadata": {},
   "outputs": [],
   "source": [
    "# Criando um data com a coluna 'confirmadosPorDia'\n",
    "# OBS: 'data' já é o index\n",
    "dm_casosPorDia = dados_municipais_campina['confirmadosPorDia']"
   ]
  },
  {
   "cell_type": "code",
   "execution_count": 85,
   "metadata": {},
   "outputs": [],
   "source": [
    "# Criando um DataFrame com os dados para o altair\n",
    "dm_casosPorDia = pd.DataFrame({\n",
    "    'data': dm_casosPorDia.index.tolist(),\n",
    "    'casos_confirmados': dm_casosPorDia.values.tolist()\n",
    "})\n",
    "# Criando uma nova coluna no DataFrame referente a média movel.\n",
    "dm_casosPorDia['media_movel'] = dm_casosPorDia.casos_confirmados.rolling(7).mean()\n",
    "\n",
    "# Setando a coluna 'data' como índice do DataFrame \n",
    "dm_casosPorDia.set_index('data', inplace=True)"
   ]
  },
  {
   "cell_type": "markdown",
   "metadata": {},
   "source": [
    "# Excluindo as datas não contidas nos DataFrames (Federal e Municipal)"
   ]
  },
  {
   "cell_type": "code",
   "execution_count": 86,
   "metadata": {},
   "outputs": [],
   "source": [
    "# Função que exclui os elementos (pelo index) do DataFrame que não estão em outro DataFrame\n",
    "def exclui_nao_contidos(df_conjunto, df_subconjunto):\n",
    "    for i in df_conjunto.index:\n",
    "        if i not in df_subconjunto.index:\n",
    "            df_conjunto = df_conjunto.drop(i)\n",
    "    \n",
    "    return df_conjunto"
   ]
  },
  {
   "cell_type": "code",
   "execution_count": 87,
   "metadata": {},
   "outputs": [],
   "source": [
    "# Excluindo as datas que estão nos dados federais mas não estão nos dados municipais\n",
    "df_casosPorDia = exclui_nao_contidos(df_casosPorDia, dm_casosPorDia)\n",
    "\n",
    "# Excluindo as datas que estão nos dados municipais mas não estão nos dados federais\n",
    "dm_casosPorDia = exclui_nao_contidos(dm_casosPorDia, df_casosPorDia)"
   ]
  },
  {
   "cell_type": "markdown",
   "metadata": {},
   "source": [
    "# Transformando os DataFrame do formato wide para o formato long"
   ]
  },
  {
   "cell_type": "code",
   "execution_count": 88,
   "metadata": {},
   "outputs": [],
   "source": [
    "# Função que transforma os DataFrames do formato wide para o formato long\n",
    "def to_longFormat(dt_federal, dt_municipal, nome_coluna):\n",
    "    long_df = pd.DataFrame({\n",
    "    'data': dt_federal.index.tolist(),\n",
    "    'Federal': dt_federal[nome_coluna].tolist(),\n",
    "    'Municipal': dt_municipal[nome_coluna].tolist()\n",
    "    }).melt(\n",
    "        id_vars=['data'], \n",
    "        value_vars=['Federal', 'Municipal'],\n",
    "        var_name='fonte_dados', \n",
    "        value_name='casos_por_dia'\n",
    "    )\n",
    "    return long_df"
   ]
  },
  {
   "cell_type": "code",
   "execution_count": 89,
   "metadata": {},
   "outputs": [],
   "source": [
    "# Transformando os DataFrames sobre casos confirmados\n",
    "casosPorDia = to_longFormat(df_casosPorDia, dm_casosPorDia, 'casos_confirmados')\n",
    "\n",
    "# Transformando os DataFrames sobre a média movel dos casos confirmados\n",
    "casosPorDiaMedMovel = to_longFormat(df_casosPorDia, dm_casosPorDia, 'media_movel')"
   ]
  },
  {
   "cell_type": "markdown",
   "metadata": {},
   "source": [
    "# Comparando os dados Federais e Municipais"
   ]
  },
  {
   "cell_type": "code",
   "execution_count": 112,
   "metadata": {},
   "outputs": [],
   "source": [
    "# Função que cria os graficos de linhas (mark_line) no altair\n",
    "def criar_mark_line(dataframe, titulo, largura, pontos):\n",
    "    mark_line = alt.Chart(dataframe).mark_line(point=pontos).encode(\n",
    "                    alt.X('data:T', title='Data'),\n",
    "                    alt.Y('casos_por_dia:Q', title='Nº de Casos'),\n",
    "                    alt.Color('fonte_dados:N', title='Base dos Dados')\n",
    "                ).properties(\n",
    "                    width=largura,\n",
    "                    title=titulo\n",
    "                )\n",
    "    return mark_line"
   ]
  },
  {
   "cell_type": "markdown",
   "metadata": {},
   "source": [
    "### Casos Confirmados por Dia"
   ]
  },
  {
   "cell_type": "code",
   "execution_count": 113,
   "metadata": {},
   "outputs": [
    {
     "data": {
      "text/html": [
       "\n",
       "<div id=\"altair-viz-4b5b8ca7316044ffb33e4c23137ef6c8\"></div>\n",
       "<script type=\"text/javascript\">\n",
       "  (function(spec, embedOpt){\n",
       "    let outputDiv = document.currentScript.previousElementSibling;\n",
       "    if (outputDiv.id !== \"altair-viz-4b5b8ca7316044ffb33e4c23137ef6c8\") {\n",
       "      outputDiv = document.getElementById(\"altair-viz-4b5b8ca7316044ffb33e4c23137ef6c8\");\n",
       "    }\n",
       "    const paths = {\n",
       "      \"vega\": \"https://cdn.jsdelivr.net/npm//vega@5?noext\",\n",
       "      \"vega-lib\": \"https://cdn.jsdelivr.net/npm//vega-lib?noext\",\n",
       "      \"vega-lite\": \"https://cdn.jsdelivr.net/npm//vega-lite@4.8.1?noext\",\n",
       "      \"vega-embed\": \"https://cdn.jsdelivr.net/npm//vega-embed@6?noext\",\n",
       "    };\n",
       "\n",
       "    function loadScript(lib) {\n",
       "      return new Promise(function(resolve, reject) {\n",
       "        var s = document.createElement('script');\n",
       "        s.src = paths[lib];\n",
       "        s.async = true;\n",
       "        s.onload = () => resolve(paths[lib]);\n",
       "        s.onerror = () => reject(`Error loading script: ${paths[lib]}`);\n",
       "        document.getElementsByTagName(\"head\")[0].appendChild(s);\n",
       "      });\n",
       "    }\n",
       "\n",
       "    function showError(err) {\n",
       "      outputDiv.innerHTML = `<div class=\"error\" style=\"color:red;\">${err}</div>`;\n",
       "      throw err;\n",
       "    }\n",
       "\n",
       "    function displayChart(vegaEmbed) {\n",
       "      vegaEmbed(outputDiv, spec, embedOpt)\n",
       "        .catch(err => showError(`Javascript Error: ${err.message}<br>This usually means there's a typo in your chart specification. See the javascript console for the full traceback.`));\n",
       "    }\n",
       "\n",
       "    if(typeof define === \"function\" && define.amd) {\n",
       "      requirejs.config({paths});\n",
       "      require([\"vega-embed\"], displayChart, err => showError(`Error loading script: ${err.message}`));\n",
       "    } else if (typeof vegaEmbed === \"function\") {\n",
       "      displayChart(vegaEmbed);\n",
       "    } else {\n",
       "      loadScript(\"vega\")\n",
       "        .then(() => loadScript(\"vega-lite\"))\n",
       "        .then(() => loadScript(\"vega-embed\"))\n",
       "        .catch(showError)\n",
       "        .then(() => displayChart(vegaEmbed));\n",
       "    }\n",
       "  })({\"config\": {\"view\": {\"continuousWidth\": 400, \"continuousHeight\": 300}}, \"data\": {\"name\": \"data-6bf22a8cdf2232c3d038a07089ee5268\"}, \"mark\": {\"type\": \"line\", \"point\": false}, \"encoding\": {\"color\": {\"type\": \"nominal\", \"field\": \"fonte_dados\", \"title\": \"Base dos Dados\"}, \"x\": {\"type\": \"temporal\", \"field\": \"data\", \"title\": \"Data\"}, \"y\": {\"type\": \"quantitative\", \"field\": \"casos_por_dia\", \"title\": \"N\\u00ba de Casos\"}}, \"title\": \"Quantidade de Casos Confirmados por Dia\", \"width\": 1000, \"$schema\": \"https://vega.github.io/schema/vega-lite/v4.8.1.json\", \"datasets\": {\"data-6bf22a8cdf2232c3d038a07089ee5268\": [{\"data\": \"2021-06-01\", \"fonte_dados\": \"Federal\", \"casos_por_dia\": 171}, {\"data\": \"2021-06-02\", \"fonte_dados\": \"Federal\", \"casos_por_dia\": 168}, {\"data\": \"2021-06-03\", \"fonte_dados\": \"Federal\", \"casos_por_dia\": 318}, {\"data\": \"2021-06-04\", \"fonte_dados\": \"Federal\", \"casos_por_dia\": 256}, {\"data\": \"2021-06-05\", \"fonte_dados\": \"Federal\", \"casos_por_dia\": 261}, {\"data\": \"2021-06-06\", \"fonte_dados\": \"Federal\", \"casos_por_dia\": 230}, {\"data\": \"2021-06-07\", \"fonte_dados\": \"Federal\", \"casos_por_dia\": 238}, {\"data\": \"2021-06-08\", \"fonte_dados\": \"Federal\", \"casos_por_dia\": 85}, {\"data\": \"2021-06-09\", \"fonte_dados\": \"Federal\", \"casos_por_dia\": 97}, {\"data\": \"2021-06-10\", \"fonte_dados\": \"Federal\", \"casos_por_dia\": 607}, {\"data\": \"2021-06-11\", \"fonte_dados\": \"Federal\", \"casos_por_dia\": 281}, {\"data\": \"2021-06-12\", \"fonte_dados\": \"Federal\", \"casos_por_dia\": 251}, {\"data\": \"2021-06-13\", \"fonte_dados\": \"Federal\", \"casos_por_dia\": 221}, {\"data\": \"2021-06-14\", \"fonte_dados\": \"Federal\", \"casos_por_dia\": 369}, {\"data\": \"2021-06-15\", \"fonte_dados\": \"Federal\", \"casos_por_dia\": 262}, {\"data\": \"2021-06-16\", \"fonte_dados\": \"Federal\", \"casos_por_dia\": 262}, {\"data\": \"2021-06-17\", \"fonte_dados\": \"Federal\", \"casos_por_dia\": 295}, {\"data\": \"2021-06-18\", \"fonte_dados\": \"Federal\", \"casos_por_dia\": 227}, {\"data\": \"2021-06-19\", \"fonte_dados\": \"Federal\", \"casos_por_dia\": 321}, {\"data\": \"2021-06-20\", \"fonte_dados\": \"Federal\", \"casos_por_dia\": 282}, {\"data\": \"2021-06-21\", \"fonte_dados\": \"Federal\", \"casos_por_dia\": 143}, {\"data\": \"2021-06-22\", \"fonte_dados\": \"Federal\", \"casos_por_dia\": 197}, {\"data\": \"2021-06-23\", \"fonte_dados\": \"Federal\", \"casos_por_dia\": 270}, {\"data\": \"2021-06-24\", \"fonte_dados\": \"Federal\", \"casos_por_dia\": 203}, {\"data\": \"2021-06-25\", \"fonte_dados\": \"Federal\", \"casos_por_dia\": 343}, {\"data\": \"2021-06-26\", \"fonte_dados\": \"Federal\", \"casos_por_dia\": 319}, {\"data\": \"2021-06-27\", \"fonte_dados\": \"Federal\", \"casos_por_dia\": 336}, {\"data\": \"2021-06-28\", \"fonte_dados\": \"Federal\", \"casos_por_dia\": 206}, {\"data\": \"2021-06-29\", \"fonte_dados\": \"Federal\", \"casos_por_dia\": 372}, {\"data\": \"2021-06-30\", \"fonte_dados\": \"Federal\", \"casos_por_dia\": 189}, {\"data\": \"2021-07-01\", \"fonte_dados\": \"Federal\", \"casos_por_dia\": 85}, {\"data\": \"2021-07-03\", \"fonte_dados\": \"Federal\", \"casos_por_dia\": 232}, {\"data\": \"2021-07-04\", \"fonte_dados\": \"Federal\", \"casos_por_dia\": 219}, {\"data\": \"2021-07-05\", \"fonte_dados\": \"Federal\", \"casos_por_dia\": 87}, {\"data\": \"2021-07-06\", \"fonte_dados\": \"Federal\", \"casos_por_dia\": 49}, {\"data\": \"2021-07-07\", \"fonte_dados\": \"Federal\", \"casos_por_dia\": 214}, {\"data\": \"2021-07-08\", \"fonte_dados\": \"Federal\", \"casos_por_dia\": 146}, {\"data\": \"2021-07-09\", \"fonte_dados\": \"Federal\", \"casos_por_dia\": 145}, {\"data\": \"2021-07-10\", \"fonte_dados\": \"Federal\", \"casos_por_dia\": 191}, {\"data\": \"2021-07-11\", \"fonte_dados\": \"Federal\", \"casos_por_dia\": 116}, {\"data\": \"2021-07-12\", \"fonte_dados\": \"Federal\", \"casos_por_dia\": 80}, {\"data\": \"2021-07-13\", \"fonte_dados\": \"Federal\", \"casos_por_dia\": 2}, {\"data\": \"2021-07-14\", \"fonte_dados\": \"Federal\", \"casos_por_dia\": 190}, {\"data\": \"2021-07-15\", \"fonte_dados\": \"Federal\", \"casos_por_dia\": 198}, {\"data\": \"2021-07-16\", \"fonte_dados\": \"Federal\", \"casos_por_dia\": 138}, {\"data\": \"2021-07-17\", \"fonte_dados\": \"Federal\", \"casos_por_dia\": 184}, {\"data\": \"2021-07-18\", \"fonte_dados\": \"Federal\", \"casos_por_dia\": 83}, {\"data\": \"2021-07-19\", \"fonte_dados\": \"Federal\", \"casos_por_dia\": 62}, {\"data\": \"2021-07-20\", \"fonte_dados\": \"Federal\", \"casos_por_dia\": 82}, {\"data\": \"2021-07-21\", \"fonte_dados\": \"Federal\", \"casos_por_dia\": 80}, {\"data\": \"2021-07-22\", \"fonte_dados\": \"Federal\", \"casos_por_dia\": 215}, {\"data\": \"2021-07-23\", \"fonte_dados\": \"Federal\", \"casos_por_dia\": 139}, {\"data\": \"2021-07-24\", \"fonte_dados\": \"Federal\", \"casos_por_dia\": 72}, {\"data\": \"2021-07-25\", \"fonte_dados\": \"Federal\", \"casos_por_dia\": 125}, {\"data\": \"2021-07-26\", \"fonte_dados\": \"Federal\", \"casos_por_dia\": 52}, {\"data\": \"2021-07-27\", \"fonte_dados\": \"Federal\", \"casos_por_dia\": 39}, {\"data\": \"2021-07-28\", \"fonte_dados\": \"Federal\", \"casos_por_dia\": 106}, {\"data\": \"2021-07-29\", \"fonte_dados\": \"Federal\", \"casos_por_dia\": 189}, {\"data\": \"2021-07-30\", \"fonte_dados\": \"Federal\", \"casos_por_dia\": 137}, {\"data\": \"2021-07-31\", \"fonte_dados\": \"Federal\", \"casos_por_dia\": 92}, {\"data\": \"2021-08-01\", \"fonte_dados\": \"Federal\", \"casos_por_dia\": 96}, {\"data\": \"2021-08-02\", \"fonte_dados\": \"Federal\", \"casos_por_dia\": 30}, {\"data\": \"2021-08-03\", \"fonte_dados\": \"Federal\", \"casos_por_dia\": 15}, {\"data\": \"2021-08-04\", \"fonte_dados\": \"Federal\", \"casos_por_dia\": 123}, {\"data\": \"2021-08-05\", \"fonte_dados\": \"Federal\", \"casos_por_dia\": 114}, {\"data\": \"2021-08-06\", \"fonte_dados\": \"Federal\", \"casos_por_dia\": 92}, {\"data\": \"2021-08-07\", \"fonte_dados\": \"Federal\", \"casos_por_dia\": 69}, {\"data\": \"2021-08-08\", \"fonte_dados\": \"Federal\", \"casos_por_dia\": 51}, {\"data\": \"2021-08-09\", \"fonte_dados\": \"Federal\", \"casos_por_dia\": 19}, {\"data\": \"2021-08-10\", \"fonte_dados\": \"Federal\", \"casos_por_dia\": 23}, {\"data\": \"2021-08-11\", \"fonte_dados\": \"Federal\", \"casos_por_dia\": 122}, {\"data\": \"2021-08-12\", \"fonte_dados\": \"Federal\", \"casos_por_dia\": 85}, {\"data\": \"2021-08-13\", \"fonte_dados\": \"Federal\", \"casos_por_dia\": 59}, {\"data\": \"2021-08-14\", \"fonte_dados\": \"Federal\", \"casos_por_dia\": 104}, {\"data\": \"2021-08-15\", \"fonte_dados\": \"Federal\", \"casos_por_dia\": 95}, {\"data\": \"2021-08-16\", \"fonte_dados\": \"Federal\", \"casos_por_dia\": 27}, {\"data\": \"2021-08-17\", \"fonte_dados\": \"Federal\", \"casos_por_dia\": 43}, {\"data\": \"2021-08-18\", \"fonte_dados\": \"Federal\", \"casos_por_dia\": 166}, {\"data\": \"2021-08-19\", \"fonte_dados\": \"Federal\", \"casos_por_dia\": 129}, {\"data\": \"2021-08-20\", \"fonte_dados\": \"Federal\", \"casos_por_dia\": 86}, {\"data\": \"2021-08-21\", \"fonte_dados\": \"Federal\", \"casos_por_dia\": 136}, {\"data\": \"2021-08-22\", \"fonte_dados\": \"Federal\", \"casos_por_dia\": 85}, {\"data\": \"2021-08-23\", \"fonte_dados\": \"Federal\", \"casos_por_dia\": 32}, {\"data\": \"2021-08-24\", \"fonte_dados\": \"Federal\", \"casos_por_dia\": 71}, {\"data\": \"2021-08-25\", \"fonte_dados\": \"Federal\", \"casos_por_dia\": 18}, {\"data\": \"2021-08-26\", \"fonte_dados\": \"Federal\", \"casos_por_dia\": 190}, {\"data\": \"2021-08-27\", \"fonte_dados\": \"Federal\", \"casos_por_dia\": 76}, {\"data\": \"2021-08-28\", \"fonte_dados\": \"Federal\", \"casos_por_dia\": 70}, {\"data\": \"2021-08-29\", \"fonte_dados\": \"Federal\", \"casos_por_dia\": 48}, {\"data\": \"2021-08-30\", \"fonte_dados\": \"Federal\", \"casos_por_dia\": 52}, {\"data\": \"2021-08-31\", \"fonte_dados\": \"Federal\", \"casos_por_dia\": 32}, {\"data\": \"2021-06-01\", \"fonte_dados\": \"Municipal\", \"casos_por_dia\": 120}, {\"data\": \"2021-06-02\", \"fonte_dados\": \"Municipal\", \"casos_por_dia\": 553}, {\"data\": \"2021-06-03\", \"fonte_dados\": \"Municipal\", \"casos_por_dia\": 367}, {\"data\": \"2021-06-04\", \"fonte_dados\": \"Municipal\", \"casos_por_dia\": 229}, {\"data\": \"2021-06-05\", \"fonte_dados\": \"Municipal\", \"casos_por_dia\": 368}, {\"data\": \"2021-06-06\", \"fonte_dados\": \"Municipal\", \"casos_por_dia\": 27}, {\"data\": \"2021-06-07\", \"fonte_dados\": \"Municipal\", \"casos_por_dia\": 22}, {\"data\": \"2021-06-08\", \"fonte_dados\": \"Municipal\", \"casos_por_dia\": 62}, {\"data\": \"2021-06-09\", \"fonte_dados\": \"Municipal\", \"casos_por_dia\": 39}, {\"data\": \"2021-06-10\", \"fonte_dados\": \"Municipal\", \"casos_por_dia\": 1315}, {\"data\": \"2021-06-11\", \"fonte_dados\": \"Municipal\", \"casos_por_dia\": 377}, {\"data\": \"2021-06-12\", \"fonte_dados\": \"Municipal\", \"casos_por_dia\": 311}, {\"data\": \"2021-06-13\", \"fonte_dados\": \"Municipal\", \"casos_por_dia\": 56}, {\"data\": \"2021-06-14\", \"fonte_dados\": \"Municipal\", \"casos_por_dia\": 208}, {\"data\": \"2021-06-15\", \"fonte_dados\": \"Municipal\", \"casos_por_dia\": 158}, {\"data\": \"2021-06-16\", \"fonte_dados\": \"Municipal\", \"casos_por_dia\": 557}, {\"data\": \"2021-06-17\", \"fonte_dados\": \"Municipal\", \"casos_por_dia\": 308}, {\"data\": \"2021-06-18\", \"fonte_dados\": \"Municipal\", \"casos_por_dia\": 238}, {\"data\": \"2021-06-19\", \"fonte_dados\": \"Municipal\", \"casos_por_dia\": 176}, {\"data\": \"2021-06-20\", \"fonte_dados\": \"Municipal\", \"casos_por_dia\": 53}, {\"data\": \"2021-06-21\", \"fonte_dados\": \"Municipal\", \"casos_por_dia\": 319}, {\"data\": \"2021-06-22\", \"fonte_dados\": \"Municipal\", \"casos_por_dia\": 178}, {\"data\": \"2021-06-23\", \"fonte_dados\": \"Municipal\", \"casos_por_dia\": 308}, {\"data\": \"2021-06-24\", \"fonte_dados\": \"Municipal\", \"casos_por_dia\": 184}, {\"data\": \"2021-06-25\", \"fonte_dados\": \"Municipal\", \"casos_por_dia\": 120}, {\"data\": \"2021-06-26\", \"fonte_dados\": \"Municipal\", \"casos_por_dia\": 279}, {\"data\": \"2021-06-27\", \"fonte_dados\": \"Municipal\", \"casos_por_dia\": 50}, {\"data\": \"2021-06-28\", \"fonte_dados\": \"Municipal\", \"casos_por_dia\": 205}, {\"data\": \"2021-06-29\", \"fonte_dados\": \"Municipal\", \"casos_por_dia\": 28}, {\"data\": \"2021-06-30\", \"fonte_dados\": \"Municipal\", \"casos_por_dia\": 191}, {\"data\": \"2021-07-01\", \"fonte_dados\": \"Municipal\", \"casos_por_dia\": 308}, {\"data\": \"2021-07-03\", \"fonte_dados\": \"Municipal\", \"casos_por_dia\": 454}, {\"data\": \"2021-07-04\", \"fonte_dados\": \"Municipal\", \"casos_por_dia\": 13}, {\"data\": \"2021-07-05\", \"fonte_dados\": \"Municipal\", \"casos_por_dia\": 157}, {\"data\": \"2021-07-06\", \"fonte_dados\": \"Municipal\", \"casos_por_dia\": 194}, {\"data\": \"2021-07-07\", \"fonte_dados\": \"Municipal\", \"casos_por_dia\": 172}, {\"data\": \"2021-07-08\", \"fonte_dados\": \"Municipal\", \"casos_por_dia\": 181}, {\"data\": \"2021-07-09\", \"fonte_dados\": \"Municipal\", \"casos_por_dia\": 230}, {\"data\": \"2021-07-10\", \"fonte_dados\": \"Municipal\", \"casos_por_dia\": 135}, {\"data\": \"2021-07-11\", \"fonte_dados\": \"Municipal\", \"casos_por_dia\": 41}, {\"data\": \"2021-07-12\", \"fonte_dados\": \"Municipal\", \"casos_por_dia\": 83}, {\"data\": \"2021-07-13\", \"fonte_dados\": \"Municipal\", \"casos_por_dia\": 237}, {\"data\": \"2021-07-14\", \"fonte_dados\": \"Municipal\", \"casos_por_dia\": 182}, {\"data\": \"2021-07-15\", \"fonte_dados\": \"Municipal\", \"casos_por_dia\": 156}, {\"data\": \"2021-07-16\", \"fonte_dados\": \"Municipal\", \"casos_por_dia\": 149}, {\"data\": \"2021-07-17\", \"fonte_dados\": \"Municipal\", \"casos_por_dia\": 86}, {\"data\": \"2021-07-18\", \"fonte_dados\": \"Municipal\", \"casos_por_dia\": 58}, {\"data\": \"2021-07-19\", \"fonte_dados\": \"Municipal\", \"casos_por_dia\": 31}, {\"data\": \"2021-07-20\", \"fonte_dados\": \"Municipal\", \"casos_por_dia\": 118}, {\"data\": \"2021-07-21\", \"fonte_dados\": \"Municipal\", \"casos_por_dia\": 202}, {\"data\": \"2021-07-22\", \"fonte_dados\": \"Municipal\", \"casos_por_dia\": 332}, {\"data\": \"2021-07-23\", \"fonte_dados\": \"Municipal\", \"casos_por_dia\": 41}, {\"data\": \"2021-07-24\", \"fonte_dados\": \"Municipal\", \"casos_por_dia\": 256}, {\"data\": \"2021-07-25\", \"fonte_dados\": \"Municipal\", \"casos_por_dia\": 15}, {\"data\": \"2021-07-26\", \"fonte_dados\": \"Municipal\", \"casos_por_dia\": 84}, {\"data\": \"2021-07-27\", \"fonte_dados\": \"Municipal\", \"casos_por_dia\": 219}, {\"data\": \"2021-07-28\", \"fonte_dados\": \"Municipal\", \"casos_por_dia\": 121}, {\"data\": \"2021-07-29\", \"fonte_dados\": \"Municipal\", \"casos_por_dia\": 146}, {\"data\": \"2021-07-30\", \"fonte_dados\": \"Municipal\", \"casos_por_dia\": 92}, {\"data\": \"2021-07-31\", \"fonte_dados\": \"Municipal\", \"casos_por_dia\": 88}, {\"data\": \"2021-08-01\", \"fonte_dados\": \"Municipal\", \"casos_por_dia\": 31}, {\"data\": \"2021-08-02\", \"fonte_dados\": \"Municipal\", \"casos_por_dia\": 135}, {\"data\": \"2021-08-03\", \"fonte_dados\": \"Municipal\", \"casos_por_dia\": 39}, {\"data\": \"2021-08-04\", \"fonte_dados\": \"Municipal\", \"casos_por_dia\": 113}, {\"data\": \"2021-08-05\", \"fonte_dados\": \"Municipal\", \"casos_por_dia\": 38}, {\"data\": \"2021-08-06\", \"fonte_dados\": \"Municipal\", \"casos_por_dia\": 74}, {\"data\": \"2021-08-07\", \"fonte_dados\": \"Municipal\", \"casos_por_dia\": 44}, {\"data\": \"2021-08-08\", \"fonte_dados\": \"Municipal\", \"casos_por_dia\": 4}, {\"data\": \"2021-08-09\", \"fonte_dados\": \"Municipal\", \"casos_por_dia\": 122}, {\"data\": \"2021-08-10\", \"fonte_dados\": \"Municipal\", \"casos_por_dia\": 130}, {\"data\": \"2021-08-11\", \"fonte_dados\": \"Municipal\", \"casos_por_dia\": 60}, {\"data\": \"2021-08-12\", \"fonte_dados\": \"Municipal\", \"casos_por_dia\": 82}, {\"data\": \"2021-08-13\", \"fonte_dados\": \"Municipal\", \"casos_por_dia\": 100}, {\"data\": \"2021-08-14\", \"fonte_dados\": \"Municipal\", \"casos_por_dia\": 49}, {\"data\": \"2021-08-15\", \"fonte_dados\": \"Municipal\", \"casos_por_dia\": 59}, {\"data\": \"2021-08-16\", \"fonte_dados\": \"Municipal\", \"casos_por_dia\": 78}, {\"data\": \"2021-08-17\", \"fonte_dados\": \"Municipal\", \"casos_por_dia\": 204}, {\"data\": \"2021-08-18\", \"fonte_dados\": \"Municipal\", \"casos_por_dia\": 109}, {\"data\": \"2021-08-19\", \"fonte_dados\": \"Municipal\", \"casos_por_dia\": 74}, {\"data\": \"2021-08-20\", \"fonte_dados\": \"Municipal\", \"casos_por_dia\": 148}, {\"data\": \"2021-08-21\", \"fonte_dados\": \"Municipal\", \"casos_por_dia\": 47}, {\"data\": \"2021-08-22\", \"fonte_dados\": \"Municipal\", \"casos_por_dia\": 60}, {\"data\": \"2021-08-23\", \"fonte_dados\": \"Municipal\", \"casos_por_dia\": 73}, {\"data\": \"2021-08-24\", \"fonte_dados\": \"Municipal\", \"casos_por_dia\": 68}, {\"data\": \"2021-08-25\", \"fonte_dados\": \"Municipal\", \"casos_por_dia\": 44}, {\"data\": \"2021-08-26\", \"fonte_dados\": \"Municipal\", \"casos_por_dia\": 180}, {\"data\": \"2021-08-27\", \"fonte_dados\": \"Municipal\", \"casos_por_dia\": 101}, {\"data\": \"2021-08-28\", \"fonte_dados\": \"Municipal\", \"casos_por_dia\": 50}, {\"data\": \"2021-08-29\", \"fonte_dados\": \"Municipal\", \"casos_por_dia\": 74}, {\"data\": \"2021-08-30\", \"fonte_dados\": \"Municipal\", \"casos_por_dia\": 103}, {\"data\": \"2021-08-31\", \"fonte_dados\": \"Municipal\", \"casos_por_dia\": 130}]}}, {\"mode\": \"vega-lite\"});\n",
       "</script>"
      ],
      "text/plain": [
       "alt.Chart(...)"
      ]
     },
     "execution_count": 113,
     "metadata": {},
     "output_type": "execute_result"
    }
   ],
   "source": [
    "criar_mark_line(casosPorDia, 'Quantidade de Casos Confirmados por Dia', 1000, False)"
   ]
  },
  {
   "cell_type": "markdown",
   "metadata": {},
   "source": [
    "### Média Movel (7 dias) dos Casos Confirmados"
   ]
  },
  {
   "cell_type": "code",
   "execution_count": 114,
   "metadata": {},
   "outputs": [
    {
     "data": {
      "text/html": [
       "\n",
       "<div id=\"altair-viz-69ab5b63cede4771905443c0e863dd7a\"></div>\n",
       "<script type=\"text/javascript\">\n",
       "  (function(spec, embedOpt){\n",
       "    let outputDiv = document.currentScript.previousElementSibling;\n",
       "    if (outputDiv.id !== \"altair-viz-69ab5b63cede4771905443c0e863dd7a\") {\n",
       "      outputDiv = document.getElementById(\"altair-viz-69ab5b63cede4771905443c0e863dd7a\");\n",
       "    }\n",
       "    const paths = {\n",
       "      \"vega\": \"https://cdn.jsdelivr.net/npm//vega@5?noext\",\n",
       "      \"vega-lib\": \"https://cdn.jsdelivr.net/npm//vega-lib?noext\",\n",
       "      \"vega-lite\": \"https://cdn.jsdelivr.net/npm//vega-lite@4.8.1?noext\",\n",
       "      \"vega-embed\": \"https://cdn.jsdelivr.net/npm//vega-embed@6?noext\",\n",
       "    };\n",
       "\n",
       "    function loadScript(lib) {\n",
       "      return new Promise(function(resolve, reject) {\n",
       "        var s = document.createElement('script');\n",
       "        s.src = paths[lib];\n",
       "        s.async = true;\n",
       "        s.onload = () => resolve(paths[lib]);\n",
       "        s.onerror = () => reject(`Error loading script: ${paths[lib]}`);\n",
       "        document.getElementsByTagName(\"head\")[0].appendChild(s);\n",
       "      });\n",
       "    }\n",
       "\n",
       "    function showError(err) {\n",
       "      outputDiv.innerHTML = `<div class=\"error\" style=\"color:red;\">${err}</div>`;\n",
       "      throw err;\n",
       "    }\n",
       "\n",
       "    function displayChart(vegaEmbed) {\n",
       "      vegaEmbed(outputDiv, spec, embedOpt)\n",
       "        .catch(err => showError(`Javascript Error: ${err.message}<br>This usually means there's a typo in your chart specification. See the javascript console for the full traceback.`));\n",
       "    }\n",
       "\n",
       "    if(typeof define === \"function\" && define.amd) {\n",
       "      requirejs.config({paths});\n",
       "      require([\"vega-embed\"], displayChart, err => showError(`Error loading script: ${err.message}`));\n",
       "    } else if (typeof vegaEmbed === \"function\") {\n",
       "      displayChart(vegaEmbed);\n",
       "    } else {\n",
       "      loadScript(\"vega\")\n",
       "        .then(() => loadScript(\"vega-lite\"))\n",
       "        .then(() => loadScript(\"vega-embed\"))\n",
       "        .catch(showError)\n",
       "        .then(() => displayChart(vegaEmbed));\n",
       "    }\n",
       "  })({\"config\": {\"view\": {\"continuousWidth\": 400, \"continuousHeight\": 300}}, \"data\": {\"name\": \"data-63afa33a1440128fd3a5a2e3efa484b1\"}, \"mark\": {\"type\": \"line\", \"point\": true}, \"encoding\": {\"color\": {\"type\": \"nominal\", \"field\": \"fonte_dados\", \"title\": \"Base dos Dados\"}, \"x\": {\"type\": \"temporal\", \"field\": \"data\", \"title\": \"Data\"}, \"y\": {\"type\": \"quantitative\", \"field\": \"casos_por_dia\", \"title\": \"N\\u00ba de Casos\"}}, \"title\": \"M\\u00e9dia Movel de Casos Confirmados por Dia\", \"width\": 1000, \"$schema\": \"https://vega.github.io/schema/vega-lite/v4.8.1.json\", \"datasets\": {\"data-63afa33a1440128fd3a5a2e3efa484b1\": [{\"data\": \"2021-06-01\", \"fonte_dados\": \"Federal\", \"casos_por_dia\": null}, {\"data\": \"2021-06-02\", \"fonte_dados\": \"Federal\", \"casos_por_dia\": null}, {\"data\": \"2021-06-03\", \"fonte_dados\": \"Federal\", \"casos_por_dia\": null}, {\"data\": \"2021-06-04\", \"fonte_dados\": \"Federal\", \"casos_por_dia\": null}, {\"data\": \"2021-06-05\", \"fonte_dados\": \"Federal\", \"casos_por_dia\": null}, {\"data\": \"2021-06-06\", \"fonte_dados\": \"Federal\", \"casos_por_dia\": null}, {\"data\": \"2021-06-07\", \"fonte_dados\": \"Federal\", \"casos_por_dia\": 234.57142857142858}, {\"data\": \"2021-06-08\", \"fonte_dados\": \"Federal\", \"casos_por_dia\": 222.28571428571428}, {\"data\": \"2021-06-09\", \"fonte_dados\": \"Federal\", \"casos_por_dia\": 212.14285714285714}, {\"data\": \"2021-06-10\", \"fonte_dados\": \"Federal\", \"casos_por_dia\": 253.42857142857142}, {\"data\": \"2021-06-11\", \"fonte_dados\": \"Federal\", \"casos_por_dia\": 257.0}, {\"data\": \"2021-06-12\", \"fonte_dados\": \"Federal\", \"casos_por_dia\": 255.57142857142858}, {\"data\": \"2021-06-13\", \"fonte_dados\": \"Federal\", \"casos_por_dia\": 254.28571428571428}, {\"data\": \"2021-06-14\", \"fonte_dados\": \"Federal\", \"casos_por_dia\": 273.0}, {\"data\": \"2021-06-15\", \"fonte_dados\": \"Federal\", \"casos_por_dia\": 298.2857142857143}, {\"data\": \"2021-06-16\", \"fonte_dados\": \"Federal\", \"casos_por_dia\": 321.85714285714283}, {\"data\": \"2021-06-17\", \"fonte_dados\": \"Federal\", \"casos_por_dia\": 277.2857142857143}, {\"data\": \"2021-06-18\", \"fonte_dados\": \"Federal\", \"casos_por_dia\": 269.57142857142856}, {\"data\": \"2021-06-19\", \"fonte_dados\": \"Federal\", \"casos_por_dia\": 279.57142857142856}, {\"data\": \"2021-06-20\", \"fonte_dados\": \"Federal\", \"casos_por_dia\": 288.2857142857143}, {\"data\": \"2021-06-21\", \"fonte_dados\": \"Federal\", \"casos_por_dia\": 256.0}, {\"data\": \"2021-06-22\", \"fonte_dados\": \"Federal\", \"casos_por_dia\": 246.71428571428572}, {\"data\": \"2021-06-23\", \"fonte_dados\": \"Federal\", \"casos_por_dia\": 247.85714285714286}, {\"data\": \"2021-06-24\", \"fonte_dados\": \"Federal\", \"casos_por_dia\": 234.71428571428572}, {\"data\": \"2021-06-25\", \"fonte_dados\": \"Federal\", \"casos_por_dia\": 251.28571428571428}, {\"data\": \"2021-06-26\", \"fonte_dados\": \"Federal\", \"casos_por_dia\": 251.0}, {\"data\": \"2021-06-27\", \"fonte_dados\": \"Federal\", \"casos_por_dia\": 258.7142857142857}, {\"data\": \"2021-06-28\", \"fonte_dados\": \"Federal\", \"casos_por_dia\": 267.7142857142857}, {\"data\": \"2021-06-29\", \"fonte_dados\": \"Federal\", \"casos_por_dia\": 292.7142857142857}, {\"data\": \"2021-06-30\", \"fonte_dados\": \"Federal\", \"casos_por_dia\": 281.14285714285717}, {\"data\": \"2021-07-01\", \"fonte_dados\": \"Federal\", \"casos_por_dia\": 264.2857142857143}, {\"data\": \"2021-07-03\", \"fonte_dados\": \"Federal\", \"casos_por_dia\": 229.42857142857142}, {\"data\": \"2021-07-04\", \"fonte_dados\": \"Federal\", \"casos_por_dia\": 212.71428571428572}, {\"data\": \"2021-07-05\", \"fonte_dados\": \"Federal\", \"casos_por_dia\": 195.71428571428572}, {\"data\": \"2021-07-06\", \"fonte_dados\": \"Federal\", \"casos_por_dia\": 149.57142857142858}, {\"data\": \"2021-07-07\", \"fonte_dados\": \"Federal\", \"casos_por_dia\": 153.14285714285714}, {\"data\": \"2021-07-08\", \"fonte_dados\": \"Federal\", \"casos_por_dia\": 161.85714285714286}, {\"data\": \"2021-07-09\", \"fonte_dados\": \"Federal\", \"casos_por_dia\": 156.0}, {\"data\": \"2021-07-10\", \"fonte_dados\": \"Federal\", \"casos_por_dia\": 150.14285714285714}, {\"data\": \"2021-07-11\", \"fonte_dados\": \"Federal\", \"casos_por_dia\": 135.42857142857142}, {\"data\": \"2021-07-12\", \"fonte_dados\": \"Federal\", \"casos_por_dia\": 134.42857142857142}, {\"data\": \"2021-07-13\", \"fonte_dados\": \"Federal\", \"casos_por_dia\": 127.71428571428571}, {\"data\": \"2021-07-14\", \"fonte_dados\": \"Federal\", \"casos_por_dia\": 124.28571428571429}, {\"data\": \"2021-07-15\", \"fonte_dados\": \"Federal\", \"casos_por_dia\": 131.71428571428572}, {\"data\": \"2021-07-16\", \"fonte_dados\": \"Federal\", \"casos_por_dia\": 130.71428571428572}, {\"data\": \"2021-07-17\", \"fonte_dados\": \"Federal\", \"casos_por_dia\": 129.71428571428572}, {\"data\": \"2021-07-18\", \"fonte_dados\": \"Federal\", \"casos_por_dia\": 125.0}, {\"data\": \"2021-07-19\", \"fonte_dados\": \"Federal\", \"casos_por_dia\": 122.42857142857143}, {\"data\": \"2021-07-20\", \"fonte_dados\": \"Federal\", \"casos_por_dia\": 133.85714285714286}, {\"data\": \"2021-07-21\", \"fonte_dados\": \"Federal\", \"casos_por_dia\": 118.14285714285714}, {\"data\": \"2021-07-22\", \"fonte_dados\": \"Federal\", \"casos_por_dia\": 120.57142857142857}, {\"data\": \"2021-07-23\", \"fonte_dados\": \"Federal\", \"casos_por_dia\": 120.71428571428571}, {\"data\": \"2021-07-24\", \"fonte_dados\": \"Federal\", \"casos_por_dia\": 104.71428571428571}, {\"data\": \"2021-07-25\", \"fonte_dados\": \"Federal\", \"casos_por_dia\": 110.71428571428571}, {\"data\": \"2021-07-26\", \"fonte_dados\": \"Federal\", \"casos_por_dia\": 109.28571428571429}, {\"data\": \"2021-07-27\", \"fonte_dados\": \"Federal\", \"casos_por_dia\": 103.14285714285714}, {\"data\": \"2021-07-28\", \"fonte_dados\": \"Federal\", \"casos_por_dia\": 106.85714285714286}, {\"data\": \"2021-07-29\", \"fonte_dados\": \"Federal\", \"casos_por_dia\": 103.14285714285714}, {\"data\": \"2021-07-30\", \"fonte_dados\": \"Federal\", \"casos_por_dia\": 102.85714285714286}, {\"data\": \"2021-07-31\", \"fonte_dados\": \"Federal\", \"casos_por_dia\": 105.71428571428571}, {\"data\": \"2021-08-01\", \"fonte_dados\": \"Federal\", \"casos_por_dia\": 101.57142857142857}, {\"data\": \"2021-08-02\", \"fonte_dados\": \"Federal\", \"casos_por_dia\": 98.42857142857143}, {\"data\": \"2021-08-03\", \"fonte_dados\": \"Federal\", \"casos_por_dia\": 95.0}, {\"data\": \"2021-08-04\", \"fonte_dados\": \"Federal\", \"casos_por_dia\": 97.42857142857143}, {\"data\": \"2021-08-05\", \"fonte_dados\": \"Federal\", \"casos_por_dia\": 86.71428571428571}, {\"data\": \"2021-08-06\", \"fonte_dados\": \"Federal\", \"casos_por_dia\": 80.28571428571429}, {\"data\": \"2021-08-07\", \"fonte_dados\": \"Federal\", \"casos_por_dia\": 77.0}, {\"data\": \"2021-08-08\", \"fonte_dados\": \"Federal\", \"casos_por_dia\": 70.57142857142857}, {\"data\": \"2021-08-09\", \"fonte_dados\": \"Federal\", \"casos_por_dia\": 69.0}, {\"data\": \"2021-08-10\", \"fonte_dados\": \"Federal\", \"casos_por_dia\": 70.14285714285714}, {\"data\": \"2021-08-11\", \"fonte_dados\": \"Federal\", \"casos_por_dia\": 70.0}, {\"data\": \"2021-08-12\", \"fonte_dados\": \"Federal\", \"casos_por_dia\": 65.85714285714286}, {\"data\": \"2021-08-13\", \"fonte_dados\": \"Federal\", \"casos_por_dia\": 61.142857142857146}, {\"data\": \"2021-08-14\", \"fonte_dados\": \"Federal\", \"casos_por_dia\": 66.14285714285714}, {\"data\": \"2021-08-15\", \"fonte_dados\": \"Federal\", \"casos_por_dia\": 72.42857142857143}, {\"data\": \"2021-08-16\", \"fonte_dados\": \"Federal\", \"casos_por_dia\": 73.57142857142857}, {\"data\": \"2021-08-17\", \"fonte_dados\": \"Federal\", \"casos_por_dia\": 76.42857142857143}, {\"data\": \"2021-08-18\", \"fonte_dados\": \"Federal\", \"casos_por_dia\": 82.71428571428571}, {\"data\": \"2021-08-19\", \"fonte_dados\": \"Federal\", \"casos_por_dia\": 89.0}, {\"data\": \"2021-08-20\", \"fonte_dados\": \"Federal\", \"casos_por_dia\": 92.85714285714286}, {\"data\": \"2021-08-21\", \"fonte_dados\": \"Federal\", \"casos_por_dia\": 97.42857142857143}, {\"data\": \"2021-08-22\", \"fonte_dados\": \"Federal\", \"casos_por_dia\": 96.0}, {\"data\": \"2021-08-23\", \"fonte_dados\": \"Federal\", \"casos_por_dia\": 96.71428571428571}, {\"data\": \"2021-08-24\", \"fonte_dados\": \"Federal\", \"casos_por_dia\": 100.71428571428571}, {\"data\": \"2021-08-25\", \"fonte_dados\": \"Federal\", \"casos_por_dia\": 79.57142857142857}, {\"data\": \"2021-08-26\", \"fonte_dados\": \"Federal\", \"casos_por_dia\": 88.28571428571429}, {\"data\": \"2021-08-27\", \"fonte_dados\": \"Federal\", \"casos_por_dia\": 86.85714285714286}, {\"data\": \"2021-08-28\", \"fonte_dados\": \"Federal\", \"casos_por_dia\": 77.42857142857143}, {\"data\": \"2021-08-29\", \"fonte_dados\": \"Federal\", \"casos_por_dia\": 72.14285714285714}, {\"data\": \"2021-08-30\", \"fonte_dados\": \"Federal\", \"casos_por_dia\": 75.0}, {\"data\": \"2021-08-31\", \"fonte_dados\": \"Federal\", \"casos_por_dia\": 69.42857142857143}, {\"data\": \"2021-06-01\", \"fonte_dados\": \"Municipal\", \"casos_por_dia\": null}, {\"data\": \"2021-06-02\", \"fonte_dados\": \"Municipal\", \"casos_por_dia\": null}, {\"data\": \"2021-06-03\", \"fonte_dados\": \"Municipal\", \"casos_por_dia\": null}, {\"data\": \"2021-06-04\", \"fonte_dados\": \"Municipal\", \"casos_por_dia\": null}, {\"data\": \"2021-06-05\", \"fonte_dados\": \"Municipal\", \"casos_por_dia\": null}, {\"data\": \"2021-06-06\", \"fonte_dados\": \"Municipal\", \"casos_por_dia\": null}, {\"data\": \"2021-06-07\", \"fonte_dados\": \"Municipal\", \"casos_por_dia\": 240.85714285714286}, {\"data\": \"2021-06-08\", \"fonte_dados\": \"Municipal\", \"casos_por_dia\": 232.57142857142858}, {\"data\": \"2021-06-09\", \"fonte_dados\": \"Municipal\", \"casos_por_dia\": 159.14285714285714}, {\"data\": \"2021-06-10\", \"fonte_dados\": \"Municipal\", \"casos_por_dia\": 294.57142857142856}, {\"data\": \"2021-06-11\", \"fonte_dados\": \"Municipal\", \"casos_por_dia\": 315.7142857142857}, {\"data\": \"2021-06-12\", \"fonte_dados\": \"Municipal\", \"casos_por_dia\": 307.57142857142856}, {\"data\": \"2021-06-13\", \"fonte_dados\": \"Municipal\", \"casos_por_dia\": 311.7142857142857}, {\"data\": \"2021-06-14\", \"fonte_dados\": \"Municipal\", \"casos_por_dia\": 338.2857142857143}, {\"data\": \"2021-06-15\", \"fonte_dados\": \"Municipal\", \"casos_por_dia\": 352.0}, {\"data\": \"2021-06-16\", \"fonte_dados\": \"Municipal\", \"casos_por_dia\": 426.0}, {\"data\": \"2021-06-17\", \"fonte_dados\": \"Municipal\", \"casos_por_dia\": 282.14285714285717}, {\"data\": \"2021-06-18\", \"fonte_dados\": \"Municipal\", \"casos_por_dia\": 262.2857142857143}, {\"data\": \"2021-06-19\", \"fonte_dados\": \"Municipal\", \"casos_por_dia\": 243.0}, {\"data\": \"2021-06-20\", \"fonte_dados\": \"Municipal\", \"casos_por_dia\": 242.57142857142858}, {\"data\": \"2021-06-21\", \"fonte_dados\": \"Municipal\", \"casos_por_dia\": 258.42857142857144}, {\"data\": \"2021-06-22\", \"fonte_dados\": \"Municipal\", \"casos_por_dia\": 261.2857142857143}, {\"data\": \"2021-06-23\", \"fonte_dados\": \"Municipal\", \"casos_por_dia\": 225.71428571428572}, {\"data\": \"2021-06-24\", \"fonte_dados\": \"Municipal\", \"casos_por_dia\": 208.0}, {\"data\": \"2021-06-25\", \"fonte_dados\": \"Municipal\", \"casos_por_dia\": 191.14285714285714}, {\"data\": \"2021-06-26\", \"fonte_dados\": \"Municipal\", \"casos_por_dia\": 205.85714285714286}, {\"data\": \"2021-06-27\", \"fonte_dados\": \"Municipal\", \"casos_por_dia\": 205.42857142857142}, {\"data\": \"2021-06-28\", \"fonte_dados\": \"Municipal\", \"casos_por_dia\": 189.14285714285714}, {\"data\": \"2021-06-29\", \"fonte_dados\": \"Municipal\", \"casos_por_dia\": 167.71428571428572}, {\"data\": \"2021-06-30\", \"fonte_dados\": \"Municipal\", \"casos_por_dia\": 151.0}, {\"data\": \"2021-07-01\", \"fonte_dados\": \"Municipal\", \"casos_por_dia\": 168.71428571428572}, {\"data\": \"2021-07-03\", \"fonte_dados\": \"Municipal\", \"casos_por_dia\": 216.42857142857142}, {\"data\": \"2021-07-04\", \"fonte_dados\": \"Municipal\", \"casos_por_dia\": 178.42857142857142}, {\"data\": \"2021-07-05\", \"fonte_dados\": \"Municipal\", \"casos_por_dia\": 193.71428571428572}, {\"data\": \"2021-07-06\", \"fonte_dados\": \"Municipal\", \"casos_por_dia\": 192.14285714285714}, {\"data\": \"2021-07-07\", \"fonte_dados\": \"Municipal\", \"casos_por_dia\": 212.71428571428572}, {\"data\": \"2021-07-08\", \"fonte_dados\": \"Municipal\", \"casos_por_dia\": 211.28571428571428}, {\"data\": \"2021-07-09\", \"fonte_dados\": \"Municipal\", \"casos_por_dia\": 200.14285714285714}, {\"data\": \"2021-07-10\", \"fonte_dados\": \"Municipal\", \"casos_por_dia\": 154.57142857142858}, {\"data\": \"2021-07-11\", \"fonte_dados\": \"Municipal\", \"casos_por_dia\": 158.57142857142858}, {\"data\": \"2021-07-12\", \"fonte_dados\": \"Municipal\", \"casos_por_dia\": 148.0}, {\"data\": \"2021-07-13\", \"fonte_dados\": \"Municipal\", \"casos_por_dia\": 154.14285714285714}, {\"data\": \"2021-07-14\", \"fonte_dados\": \"Municipal\", \"casos_por_dia\": 155.57142857142858}, {\"data\": \"2021-07-15\", \"fonte_dados\": \"Municipal\", \"casos_por_dia\": 152.0}, {\"data\": \"2021-07-16\", \"fonte_dados\": \"Municipal\", \"casos_por_dia\": 140.42857142857142}, {\"data\": \"2021-07-17\", \"fonte_dados\": \"Municipal\", \"casos_por_dia\": 133.42857142857142}, {\"data\": \"2021-07-18\", \"fonte_dados\": \"Municipal\", \"casos_por_dia\": 135.85714285714286}, {\"data\": \"2021-07-19\", \"fonte_dados\": \"Municipal\", \"casos_por_dia\": 128.42857142857142}, {\"data\": \"2021-07-20\", \"fonte_dados\": \"Municipal\", \"casos_por_dia\": 111.42857142857143}, {\"data\": \"2021-07-21\", \"fonte_dados\": \"Municipal\", \"casos_por_dia\": 114.28571428571429}, {\"data\": \"2021-07-22\", \"fonte_dados\": \"Municipal\", \"casos_por_dia\": 139.42857142857142}, {\"data\": \"2021-07-23\", \"fonte_dados\": \"Municipal\", \"casos_por_dia\": 124.0}, {\"data\": \"2021-07-24\", \"fonte_dados\": \"Municipal\", \"casos_por_dia\": 148.28571428571428}, {\"data\": \"2021-07-25\", \"fonte_dados\": \"Municipal\", \"casos_por_dia\": 142.14285714285714}, {\"data\": \"2021-07-26\", \"fonte_dados\": \"Municipal\", \"casos_por_dia\": 149.71428571428572}, {\"data\": \"2021-07-27\", \"fonte_dados\": \"Municipal\", \"casos_por_dia\": 164.14285714285714}, {\"data\": \"2021-07-28\", \"fonte_dados\": \"Municipal\", \"casos_por_dia\": 152.57142857142858}, {\"data\": \"2021-07-29\", \"fonte_dados\": \"Municipal\", \"casos_por_dia\": 126.0}, {\"data\": \"2021-07-30\", \"fonte_dados\": \"Municipal\", \"casos_por_dia\": 133.28571428571428}, {\"data\": \"2021-07-31\", \"fonte_dados\": \"Municipal\", \"casos_por_dia\": 109.28571428571429}, {\"data\": \"2021-08-01\", \"fonte_dados\": \"Municipal\", \"casos_por_dia\": 111.57142857142857}, {\"data\": \"2021-08-02\", \"fonte_dados\": \"Municipal\", \"casos_por_dia\": 118.85714285714286}, {\"data\": \"2021-08-03\", \"fonte_dados\": \"Municipal\", \"casos_por_dia\": 93.14285714285714}, {\"data\": \"2021-08-04\", \"fonte_dados\": \"Municipal\", \"casos_por_dia\": 92.0}, {\"data\": \"2021-08-05\", \"fonte_dados\": \"Municipal\", \"casos_por_dia\": 76.57142857142857}, {\"data\": \"2021-08-06\", \"fonte_dados\": \"Municipal\", \"casos_por_dia\": 74.0}, {\"data\": \"2021-08-07\", \"fonte_dados\": \"Municipal\", \"casos_por_dia\": 67.71428571428571}, {\"data\": \"2021-08-08\", \"fonte_dados\": \"Municipal\", \"casos_por_dia\": 63.857142857142854}, {\"data\": \"2021-08-09\", \"fonte_dados\": \"Municipal\", \"casos_por_dia\": 62.0}, {\"data\": \"2021-08-10\", \"fonte_dados\": \"Municipal\", \"casos_por_dia\": 75.0}, {\"data\": \"2021-08-11\", \"fonte_dados\": \"Municipal\", \"casos_por_dia\": 67.42857142857143}, {\"data\": \"2021-08-12\", \"fonte_dados\": \"Municipal\", \"casos_por_dia\": 73.71428571428571}, {\"data\": \"2021-08-13\", \"fonte_dados\": \"Municipal\", \"casos_por_dia\": 77.42857142857143}, {\"data\": \"2021-08-14\", \"fonte_dados\": \"Municipal\", \"casos_por_dia\": 78.14285714285714}, {\"data\": \"2021-08-15\", \"fonte_dados\": \"Municipal\", \"casos_por_dia\": 86.0}, {\"data\": \"2021-08-16\", \"fonte_dados\": \"Municipal\", \"casos_por_dia\": 79.71428571428571}, {\"data\": \"2021-08-17\", \"fonte_dados\": \"Municipal\", \"casos_por_dia\": 90.28571428571429}, {\"data\": \"2021-08-18\", \"fonte_dados\": \"Municipal\", \"casos_por_dia\": 97.28571428571429}, {\"data\": \"2021-08-19\", \"fonte_dados\": \"Municipal\", \"casos_por_dia\": 96.14285714285714}, {\"data\": \"2021-08-20\", \"fonte_dados\": \"Municipal\", \"casos_por_dia\": 103.0}, {\"data\": \"2021-08-21\", \"fonte_dados\": \"Municipal\", \"casos_por_dia\": 102.71428571428571}, {\"data\": \"2021-08-22\", \"fonte_dados\": \"Municipal\", \"casos_por_dia\": 102.85714285714286}, {\"data\": \"2021-08-23\", \"fonte_dados\": \"Municipal\", \"casos_por_dia\": 102.14285714285714}, {\"data\": \"2021-08-24\", \"fonte_dados\": \"Municipal\", \"casos_por_dia\": 82.71428571428571}, {\"data\": \"2021-08-25\", \"fonte_dados\": \"Municipal\", \"casos_por_dia\": 73.42857142857143}, {\"data\": \"2021-08-26\", \"fonte_dados\": \"Municipal\", \"casos_por_dia\": 88.57142857142857}, {\"data\": \"2021-08-27\", \"fonte_dados\": \"Municipal\", \"casos_por_dia\": 81.85714285714286}, {\"data\": \"2021-08-28\", \"fonte_dados\": \"Municipal\", \"casos_por_dia\": 82.28571428571429}, {\"data\": \"2021-08-29\", \"fonte_dados\": \"Municipal\", \"casos_por_dia\": 84.28571428571429}, {\"data\": \"2021-08-30\", \"fonte_dados\": \"Municipal\", \"casos_por_dia\": 88.57142857142857}, {\"data\": \"2021-08-31\", \"fonte_dados\": \"Municipal\", \"casos_por_dia\": 97.42857142857143}]}}, {\"mode\": \"vega-lite\"});\n",
       "</script>"
      ],
      "text/plain": [
       "alt.Chart(...)"
      ]
     },
     "execution_count": 114,
     "metadata": {},
     "output_type": "execute_result"
    }
   ],
   "source": [
    "criar_mark_line(casosPorDiaMedMovel, 'Média Movel de Casos Confirmados por Dia', 1000, True)"
   ]
  },
  {
   "cell_type": "markdown",
   "metadata": {},
   "source": [
    "### Total de Casos Confirmados"
   ]
  },
  {
   "cell_type": "code",
   "execution_count": 115,
   "metadata": {},
   "outputs": [],
   "source": [
    "df_casosTotais = df_casosPorDia['casos_confirmados'].sum()\n",
    "dm_casosTotais = dm_casosPorDia['casos_confirmados'].sum()"
   ]
  },
  {
   "cell_type": "code",
   "execution_count": 116,
   "metadata": {},
   "outputs": [],
   "source": [
    "totalCasos = pd.DataFrame({\n",
    "    'base': ['Federal', 'Municipal'],\n",
    "    'total': [df_casosTotais, dm_casosTotais]\n",
    "})"
   ]
  },
  {
   "cell_type": "code",
   "execution_count": 117,
   "metadata": {},
   "outputs": [
    {
     "data": {
      "text/html": [
       "\n",
       "<div id=\"altair-viz-0184c53f9bac4ee58373dd07417e5f3e\"></div>\n",
       "<script type=\"text/javascript\">\n",
       "  (function(spec, embedOpt){\n",
       "    let outputDiv = document.currentScript.previousElementSibling;\n",
       "    if (outputDiv.id !== \"altair-viz-0184c53f9bac4ee58373dd07417e5f3e\") {\n",
       "      outputDiv = document.getElementById(\"altair-viz-0184c53f9bac4ee58373dd07417e5f3e\");\n",
       "    }\n",
       "    const paths = {\n",
       "      \"vega\": \"https://cdn.jsdelivr.net/npm//vega@5?noext\",\n",
       "      \"vega-lib\": \"https://cdn.jsdelivr.net/npm//vega-lib?noext\",\n",
       "      \"vega-lite\": \"https://cdn.jsdelivr.net/npm//vega-lite@4.8.1?noext\",\n",
       "      \"vega-embed\": \"https://cdn.jsdelivr.net/npm//vega-embed@6?noext\",\n",
       "    };\n",
       "\n",
       "    function loadScript(lib) {\n",
       "      return new Promise(function(resolve, reject) {\n",
       "        var s = document.createElement('script');\n",
       "        s.src = paths[lib];\n",
       "        s.async = true;\n",
       "        s.onload = () => resolve(paths[lib]);\n",
       "        s.onerror = () => reject(`Error loading script: ${paths[lib]}`);\n",
       "        document.getElementsByTagName(\"head\")[0].appendChild(s);\n",
       "      });\n",
       "    }\n",
       "\n",
       "    function showError(err) {\n",
       "      outputDiv.innerHTML = `<div class=\"error\" style=\"color:red;\">${err}</div>`;\n",
       "      throw err;\n",
       "    }\n",
       "\n",
       "    function displayChart(vegaEmbed) {\n",
       "      vegaEmbed(outputDiv, spec, embedOpt)\n",
       "        .catch(err => showError(`Javascript Error: ${err.message}<br>This usually means there's a typo in your chart specification. See the javascript console for the full traceback.`));\n",
       "    }\n",
       "\n",
       "    if(typeof define === \"function\" && define.amd) {\n",
       "      requirejs.config({paths});\n",
       "      require([\"vega-embed\"], displayChart, err => showError(`Error loading script: ${err.message}`));\n",
       "    } else if (typeof vegaEmbed === \"function\") {\n",
       "      displayChart(vegaEmbed);\n",
       "    } else {\n",
       "      loadScript(\"vega\")\n",
       "        .then(() => loadScript(\"vega-lite\"))\n",
       "        .then(() => loadScript(\"vega-embed\"))\n",
       "        .catch(showError)\n",
       "        .then(() => displayChart(vegaEmbed));\n",
       "    }\n",
       "  })({\"config\": {\"view\": {\"continuousWidth\": 400, \"continuousHeight\": 300}}, \"data\": {\"name\": \"data-46e7e4a363ce7fd83c67a7fafe28735f\"}, \"mark\": {\"type\": \"bar\", \"size\": 30}, \"encoding\": {\"color\": {\"type\": \"nominal\", \"field\": \"base\", \"title\": \"Base dos Dados\"}, \"x\": {\"type\": \"nominal\", \"field\": \"base\", \"title\": \"Base dos Dados\"}, \"y\": {\"type\": \"quantitative\", \"field\": \"total\", \"title\": \"N\\u00ba Total de Casos\"}}, \"title\": \"Total de Casos Confirmados\", \"width\": 250, \"$schema\": \"https://vega.github.io/schema/vega-lite/v4.8.1.json\", \"datasets\": {\"data-46e7e4a363ce7fd83c67a7fafe28735f\": [{\"base\": \"Federal\", \"total\": 13887}, {\"base\": \"Municipal\", \"total\": 14610}]}}, {\"mode\": \"vega-lite\"});\n",
       "</script>"
      ],
      "text/plain": [
       "alt.Chart(...)"
      ]
     },
     "execution_count": 117,
     "metadata": {},
     "output_type": "execute_result"
    }
   ],
   "source": [
    "alt.Chart(totalCasos).mark_bar(size=30).encode(\n",
    "    alt.X('base:N', title='Base dos Dados'),\n",
    "    alt.Y('total:Q', title='Nº Total de Casos'),\n",
    "    alt.Color('base:N', title='Base dos Dados')\n",
    ").properties(\n",
    "    width=250,\n",
    "    title='Total de Casos Confirmados'\n",
    ")"
   ]
  }
 ],
 "metadata": {
  "interpreter": {
   "hash": "ac523b2dbf241262502338c4748dbe4206e583902f7cc2a831713042ba4f1b3b"
  },
  "kernelspec": {
   "display_name": "Python 3.9.5 64-bit",
   "language": "python",
   "name": "python3"
  },
  "language_info": {
   "codemirror_mode": {
    "name": "ipython",
    "version": 3
   },
   "file_extension": ".py",
   "mimetype": "text/x-python",
   "name": "python",
   "nbconvert_exporter": "python",
   "pygments_lexer": "ipython3",
   "version": "3.9.5"
  },
  "orig_nbformat": 4
 },
 "nbformat": 4,
 "nbformat_minor": 2
}
