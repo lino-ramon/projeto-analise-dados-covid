{
 "cells": [
  {
   "cell_type": "code",
   "execution_count": 1,
   "metadata": {},
   "outputs": [],
   "source": [
    "import pandas as pd\n",
    "import altair as alt"
   ]
  },
  {
   "cell_type": "code",
   "execution_count": 2,
   "metadata": {},
   "outputs": [
    {
     "name": "stderr",
     "output_type": "stream",
     "text": [
      "C:\\Users\\perei\\AppData\\Local\\Programs\\Python\\Python39\\lib\\site-packages\\IPython\\core\\interactiveshell.py:3441: FutureWarning: The error_bad_lines argument has been deprecated and will be removed in a future version.\n",
      "\n",
      "\n",
      "  exec(code_obj, self.user_global_ns, self.user_ns)\n"
     ]
    }
   ],
   "source": [
    "dados_federais_campina = pd.read_csv(\"data\\\\dados_casos_obitos_cg.csv\", encoding='UTF-8', error_bad_lines=False)\n",
    "dados_municipais_campina = pd.read_csv(\"data\\\\dados_municipais_cg.csv\", encoding='utf-8', index_col='data')"
   ]
  },
  {
   "cell_type": "markdown",
   "metadata": {},
   "source": [
    "## Gerando dados sobre Casos Confirmados por Dia (Dados Federais)"
   ]
  },
  {
   "cell_type": "code",
   "execution_count": 3,
   "metadata": {},
   "outputs": [],
   "source": [
    "# Criando um data com a coluna 'data' e a coluna 'casosNovos'\n",
    "df_casosPorDia = dados_federais_campina[['data', 'casosNovos']]"
   ]
  },
  {
   "cell_type": "code",
   "execution_count": 4,
   "metadata": {},
   "outputs": [],
   "source": [
    "# Criando um DataFrame com os dados para o altair\n",
    "df_casosPorDia = pd.DataFrame({\n",
    "    'data': df_casosPorDia['data'].tolist(),\n",
    "    'casos_confirmados': df_casosPorDia['casosNovos'].tolist()\n",
    "})\n",
    "# Criando uma nova coluna no DataFrame referente a média movel.\n",
    "df_casosPorDia['media_movel'] = df_casosPorDia.casos_confirmados.rolling(7).mean()"
   ]
  },
  {
   "cell_type": "code",
   "execution_count": 5,
   "metadata": {},
   "outputs": [
    {
     "data": {
      "text/html": [
       "\n",
       "<div id=\"altair-viz-9da2258f5d8d4360854d214e0e118b8d\"></div>\n",
       "<script type=\"text/javascript\">\n",
       "  (function(spec, embedOpt){\n",
       "    let outputDiv = document.currentScript.previousElementSibling;\n",
       "    if (outputDiv.id !== \"altair-viz-9da2258f5d8d4360854d214e0e118b8d\") {\n",
       "      outputDiv = document.getElementById(\"altair-viz-9da2258f5d8d4360854d214e0e118b8d\");\n",
       "    }\n",
       "    const paths = {\n",
       "      \"vega\": \"https://cdn.jsdelivr.net/npm//vega@5?noext\",\n",
       "      \"vega-lib\": \"https://cdn.jsdelivr.net/npm//vega-lib?noext\",\n",
       "      \"vega-lite\": \"https://cdn.jsdelivr.net/npm//vega-lite@4.8.1?noext\",\n",
       "      \"vega-embed\": \"https://cdn.jsdelivr.net/npm//vega-embed@6?noext\",\n",
       "    };\n",
       "\n",
       "    function loadScript(lib) {\n",
       "      return new Promise(function(resolve, reject) {\n",
       "        var s = document.createElement('script');\n",
       "        s.src = paths[lib];\n",
       "        s.async = true;\n",
       "        s.onload = () => resolve(paths[lib]);\n",
       "        s.onerror = () => reject(`Error loading script: ${paths[lib]}`);\n",
       "        document.getElementsByTagName(\"head\")[0].appendChild(s);\n",
       "      });\n",
       "    }\n",
       "\n",
       "    function showError(err) {\n",
       "      outputDiv.innerHTML = `<div class=\"error\" style=\"color:red;\">${err}</div>`;\n",
       "      throw err;\n",
       "    }\n",
       "\n",
       "    function displayChart(vegaEmbed) {\n",
       "      vegaEmbed(outputDiv, spec, embedOpt)\n",
       "        .catch(err => showError(`Javascript Error: ${err.message}<br>This usually means there's a typo in your chart specification. See the javascript console for the full traceback.`));\n",
       "    }\n",
       "\n",
       "    if(typeof define === \"function\" && define.amd) {\n",
       "      requirejs.config({paths});\n",
       "      require([\"vega-embed\"], displayChart, err => showError(`Error loading script: ${err.message}`));\n",
       "    } else if (typeof vegaEmbed === \"function\") {\n",
       "      displayChart(vegaEmbed);\n",
       "    } else {\n",
       "      loadScript(\"vega\")\n",
       "        .then(() => loadScript(\"vega-lite\"))\n",
       "        .then(() => loadScript(\"vega-embed\"))\n",
       "        .catch(showError)\n",
       "        .then(() => displayChart(vegaEmbed));\n",
       "    }\n",
       "  })({\"config\": {\"view\": {\"continuousWidth\": 400, \"continuousHeight\": 300}}, \"data\": {\"name\": \"data-d5e6717e4374ac02fe77e35c38ad1ac2\"}, \"mark\": \"line\", \"encoding\": {\"color\": {\"value\": \"dodgerblue\"}, \"x\": {\"type\": \"temporal\", \"field\": \"data\", \"title\": \"Data\"}, \"y\": {\"type\": \"quantitative\", \"field\": \"casos_confirmados\", \"title\": \"Casos Confirmados\"}}, \"title\": \"Casos Confirmados por Dia (Base Federal)\", \"width\": 800, \"$schema\": \"https://vega.github.io/schema/vega-lite/v4.8.1.json\", \"datasets\": {\"data-d5e6717e4374ac02fe77e35c38ad1ac2\": [{\"data\": \"2021-06-01\", \"casos_confirmados\": 171, \"media_movel\": null}, {\"data\": \"2021-06-02\", \"casos_confirmados\": 168, \"media_movel\": null}, {\"data\": \"2021-06-03\", \"casos_confirmados\": 318, \"media_movel\": null}, {\"data\": \"2021-06-04\", \"casos_confirmados\": 256, \"media_movel\": null}, {\"data\": \"2021-06-05\", \"casos_confirmados\": 261, \"media_movel\": null}, {\"data\": \"2021-06-06\", \"casos_confirmados\": 230, \"media_movel\": null}, {\"data\": \"2021-06-07\", \"casos_confirmados\": 238, \"media_movel\": 234.57142857142858}, {\"data\": \"2021-06-08\", \"casos_confirmados\": 85, \"media_movel\": 222.28571428571428}, {\"data\": \"2021-06-09\", \"casos_confirmados\": 97, \"media_movel\": 212.14285714285714}, {\"data\": \"2021-06-10\", \"casos_confirmados\": 607, \"media_movel\": 253.42857142857142}, {\"data\": \"2021-06-11\", \"casos_confirmados\": 281, \"media_movel\": 257.0}, {\"data\": \"2021-06-12\", \"casos_confirmados\": 251, \"media_movel\": 255.57142857142858}, {\"data\": \"2021-06-13\", \"casos_confirmados\": 221, \"media_movel\": 254.28571428571428}, {\"data\": \"2021-06-14\", \"casos_confirmados\": 369, \"media_movel\": 273.0}, {\"data\": \"2021-06-15\", \"casos_confirmados\": 262, \"media_movel\": 298.2857142857143}, {\"data\": \"2021-06-16\", \"casos_confirmados\": 262, \"media_movel\": 321.85714285714283}, {\"data\": \"2021-06-17\", \"casos_confirmados\": 295, \"media_movel\": 277.2857142857143}, {\"data\": \"2021-06-18\", \"casos_confirmados\": 227, \"media_movel\": 269.57142857142856}, {\"data\": \"2021-06-19\", \"casos_confirmados\": 321, \"media_movel\": 279.57142857142856}, {\"data\": \"2021-06-20\", \"casos_confirmados\": 282, \"media_movel\": 288.2857142857143}, {\"data\": \"2021-06-21\", \"casos_confirmados\": 143, \"media_movel\": 256.0}, {\"data\": \"2021-06-22\", \"casos_confirmados\": 197, \"media_movel\": 246.71428571428572}, {\"data\": \"2021-06-23\", \"casos_confirmados\": 270, \"media_movel\": 247.85714285714286}, {\"data\": \"2021-06-24\", \"casos_confirmados\": 203, \"media_movel\": 234.71428571428572}, {\"data\": \"2021-06-25\", \"casos_confirmados\": 343, \"media_movel\": 251.28571428571428}, {\"data\": \"2021-06-26\", \"casos_confirmados\": 319, \"media_movel\": 251.0}, {\"data\": \"2021-06-27\", \"casos_confirmados\": 336, \"media_movel\": 258.7142857142857}, {\"data\": \"2021-06-28\", \"casos_confirmados\": 206, \"media_movel\": 267.7142857142857}, {\"data\": \"2021-06-29\", \"casos_confirmados\": 372, \"media_movel\": 292.7142857142857}, {\"data\": \"2021-06-30\", \"casos_confirmados\": 189, \"media_movel\": 281.14285714285717}, {\"data\": \"2021-07-01\", \"casos_confirmados\": 85, \"media_movel\": 264.2857142857143}, {\"data\": \"2021-07-02\", \"casos_confirmados\": 186, \"media_movel\": 241.85714285714286}, {\"data\": \"2021-07-03\", \"casos_confirmados\": 232, \"media_movel\": 229.42857142857142}, {\"data\": \"2021-07-04\", \"casos_confirmados\": 219, \"media_movel\": 212.71428571428572}, {\"data\": \"2021-07-05\", \"casos_confirmados\": 87, \"media_movel\": 195.71428571428572}, {\"data\": \"2021-07-06\", \"casos_confirmados\": 49, \"media_movel\": 149.57142857142858}, {\"data\": \"2021-07-07\", \"casos_confirmados\": 214, \"media_movel\": 153.14285714285714}, {\"data\": \"2021-07-08\", \"casos_confirmados\": 146, \"media_movel\": 161.85714285714286}, {\"data\": \"2021-07-09\", \"casos_confirmados\": 145, \"media_movel\": 156.0}, {\"data\": \"2021-07-10\", \"casos_confirmados\": 191, \"media_movel\": 150.14285714285714}, {\"data\": \"2021-07-11\", \"casos_confirmados\": 116, \"media_movel\": 135.42857142857142}, {\"data\": \"2021-07-12\", \"casos_confirmados\": 80, \"media_movel\": 134.42857142857142}, {\"data\": \"2021-07-13\", \"casos_confirmados\": 2, \"media_movel\": 127.71428571428571}, {\"data\": \"2021-07-14\", \"casos_confirmados\": 190, \"media_movel\": 124.28571428571429}, {\"data\": \"2021-07-15\", \"casos_confirmados\": 198, \"media_movel\": 131.71428571428572}, {\"data\": \"2021-07-16\", \"casos_confirmados\": 138, \"media_movel\": 130.71428571428572}, {\"data\": \"2021-07-17\", \"casos_confirmados\": 184, \"media_movel\": 129.71428571428572}, {\"data\": \"2021-07-18\", \"casos_confirmados\": 83, \"media_movel\": 125.0}, {\"data\": \"2021-07-19\", \"casos_confirmados\": 62, \"media_movel\": 122.42857142857143}, {\"data\": \"2021-07-20\", \"casos_confirmados\": 82, \"media_movel\": 133.85714285714286}, {\"data\": \"2021-07-21\", \"casos_confirmados\": 80, \"media_movel\": 118.14285714285714}, {\"data\": \"2021-07-22\", \"casos_confirmados\": 215, \"media_movel\": 120.57142857142857}, {\"data\": \"2021-07-23\", \"casos_confirmados\": 139, \"media_movel\": 120.71428571428571}, {\"data\": \"2021-07-24\", \"casos_confirmados\": 72, \"media_movel\": 104.71428571428571}, {\"data\": \"2021-07-25\", \"casos_confirmados\": 125, \"media_movel\": 110.71428571428571}, {\"data\": \"2021-07-26\", \"casos_confirmados\": 52, \"media_movel\": 109.28571428571429}, {\"data\": \"2021-07-27\", \"casos_confirmados\": 39, \"media_movel\": 103.14285714285714}, {\"data\": \"2021-07-28\", \"casos_confirmados\": 106, \"media_movel\": 106.85714285714286}, {\"data\": \"2021-07-29\", \"casos_confirmados\": 189, \"media_movel\": 103.14285714285714}, {\"data\": \"2021-07-30\", \"casos_confirmados\": 137, \"media_movel\": 102.85714285714286}, {\"data\": \"2021-07-31\", \"casos_confirmados\": 92, \"media_movel\": 105.71428571428571}, {\"data\": \"2021-08-01\", \"casos_confirmados\": 96, \"media_movel\": 101.57142857142857}, {\"data\": \"2021-08-02\", \"casos_confirmados\": 30, \"media_movel\": 98.42857142857143}, {\"data\": \"2021-08-03\", \"casos_confirmados\": 15, \"media_movel\": 95.0}, {\"data\": \"2021-08-04\", \"casos_confirmados\": 123, \"media_movel\": 97.42857142857143}, {\"data\": \"2021-08-05\", \"casos_confirmados\": 114, \"media_movel\": 86.71428571428571}, {\"data\": \"2021-08-06\", \"casos_confirmados\": 92, \"media_movel\": 80.28571428571429}, {\"data\": \"2021-08-07\", \"casos_confirmados\": 69, \"media_movel\": 77.0}, {\"data\": \"2021-08-08\", \"casos_confirmados\": 51, \"media_movel\": 70.57142857142857}, {\"data\": \"2021-08-09\", \"casos_confirmados\": 19, \"media_movel\": 69.0}, {\"data\": \"2021-08-10\", \"casos_confirmados\": 23, \"media_movel\": 70.14285714285714}, {\"data\": \"2021-08-11\", \"casos_confirmados\": 122, \"media_movel\": 70.0}, {\"data\": \"2021-08-12\", \"casos_confirmados\": 85, \"media_movel\": 65.85714285714286}, {\"data\": \"2021-08-13\", \"casos_confirmados\": 59, \"media_movel\": 61.142857142857146}, {\"data\": \"2021-08-14\", \"casos_confirmados\": 104, \"media_movel\": 66.14285714285714}, {\"data\": \"2021-08-15\", \"casos_confirmados\": 95, \"media_movel\": 72.42857142857143}, {\"data\": \"2021-08-16\", \"casos_confirmados\": 27, \"media_movel\": 73.57142857142857}, {\"data\": \"2021-08-17\", \"casos_confirmados\": 43, \"media_movel\": 76.42857142857143}, {\"data\": \"2021-08-18\", \"casos_confirmados\": 166, \"media_movel\": 82.71428571428571}, {\"data\": \"2021-08-19\", \"casos_confirmados\": 129, \"media_movel\": 89.0}, {\"data\": \"2021-08-20\", \"casos_confirmados\": 86, \"media_movel\": 92.85714285714286}, {\"data\": \"2021-08-21\", \"casos_confirmados\": 136, \"media_movel\": 97.42857142857143}, {\"data\": \"2021-08-22\", \"casos_confirmados\": 85, \"media_movel\": 96.0}, {\"data\": \"2021-08-23\", \"casos_confirmados\": 32, \"media_movel\": 96.71428571428571}, {\"data\": \"2021-08-24\", \"casos_confirmados\": 71, \"media_movel\": 100.71428571428571}, {\"data\": \"2021-08-25\", \"casos_confirmados\": 18, \"media_movel\": 79.57142857142857}, {\"data\": \"2021-08-26\", \"casos_confirmados\": 190, \"media_movel\": 88.28571428571429}, {\"data\": \"2021-08-27\", \"casos_confirmados\": 76, \"media_movel\": 86.85714285714286}, {\"data\": \"2021-08-28\", \"casos_confirmados\": 70, \"media_movel\": 77.42857142857143}, {\"data\": \"2021-08-29\", \"casos_confirmados\": 48, \"media_movel\": 72.14285714285714}, {\"data\": \"2021-08-30\", \"casos_confirmados\": 52, \"media_movel\": 75.0}, {\"data\": \"2021-08-31\", \"casos_confirmados\": 32, \"media_movel\": 69.42857142857143}]}}, {\"mode\": \"vega-lite\"});\n",
       "</script>"
      ],
      "text/plain": [
       "alt.Chart(...)"
      ]
     },
     "execution_count": 5,
     "metadata": {},
     "output_type": "execute_result"
    }
   ],
   "source": [
    "# Gerando o Gráfico de Obitos por Dia com os dados Federais\n",
    "graph_df_casosPorDia = alt.Chart(df_casosPorDia).mark_line().encode(\n",
    "    alt.X('data:T', title='Data'),\n",
    "    alt.Y('casos_confirmados:Q', title='Casos Confirmados'),\n",
    "    color=alt.value('dodgerblue')\n",
    ").properties(\n",
    "    width=800,\n",
    "    title='Casos Confirmados por Dia (Base Federal)'\n",
    ")\n",
    "\n",
    "graph_df_casosPorDia"
   ]
  },
  {
   "cell_type": "code",
   "execution_count": 6,
   "metadata": {},
   "outputs": [],
   "source": [
    "# Gerando o grafico de média movel\n",
    "graph_df_casosMedMovel = alt.Chart(df_casosPorDia).mark_line(\n",
    "    point=True\n",
    ").encode(\n",
    "    alt.X('data:T', title='Data'),\n",
    "    alt.Y('media_movel:Q', title='Casos Confirmados'),\n",
    "    color=alt.value('orange')\n",
    ")"
   ]
  },
  {
   "cell_type": "code",
   "execution_count": 7,
   "metadata": {},
   "outputs": [
    {
     "data": {
      "text/html": [
       "\n",
       "<div id=\"altair-viz-dbfab3653d764e3c883cb19ca90566d3\"></div>\n",
       "<script type=\"text/javascript\">\n",
       "  (function(spec, embedOpt){\n",
       "    let outputDiv = document.currentScript.previousElementSibling;\n",
       "    if (outputDiv.id !== \"altair-viz-dbfab3653d764e3c883cb19ca90566d3\") {\n",
       "      outputDiv = document.getElementById(\"altair-viz-dbfab3653d764e3c883cb19ca90566d3\");\n",
       "    }\n",
       "    const paths = {\n",
       "      \"vega\": \"https://cdn.jsdelivr.net/npm//vega@5?noext\",\n",
       "      \"vega-lib\": \"https://cdn.jsdelivr.net/npm//vega-lib?noext\",\n",
       "      \"vega-lite\": \"https://cdn.jsdelivr.net/npm//vega-lite@4.8.1?noext\",\n",
       "      \"vega-embed\": \"https://cdn.jsdelivr.net/npm//vega-embed@6?noext\",\n",
       "    };\n",
       "\n",
       "    function loadScript(lib) {\n",
       "      return new Promise(function(resolve, reject) {\n",
       "        var s = document.createElement('script');\n",
       "        s.src = paths[lib];\n",
       "        s.async = true;\n",
       "        s.onload = () => resolve(paths[lib]);\n",
       "        s.onerror = () => reject(`Error loading script: ${paths[lib]}`);\n",
       "        document.getElementsByTagName(\"head\")[0].appendChild(s);\n",
       "      });\n",
       "    }\n",
       "\n",
       "    function showError(err) {\n",
       "      outputDiv.innerHTML = `<div class=\"error\" style=\"color:red;\">${err}</div>`;\n",
       "      throw err;\n",
       "    }\n",
       "\n",
       "    function displayChart(vegaEmbed) {\n",
       "      vegaEmbed(outputDiv, spec, embedOpt)\n",
       "        .catch(err => showError(`Javascript Error: ${err.message}<br>This usually means there's a typo in your chart specification. See the javascript console for the full traceback.`));\n",
       "    }\n",
       "\n",
       "    if(typeof define === \"function\" && define.amd) {\n",
       "      requirejs.config({paths});\n",
       "      require([\"vega-embed\"], displayChart, err => showError(`Error loading script: ${err.message}`));\n",
       "    } else if (typeof vegaEmbed === \"function\") {\n",
       "      displayChart(vegaEmbed);\n",
       "    } else {\n",
       "      loadScript(\"vega\")\n",
       "        .then(() => loadScript(\"vega-lite\"))\n",
       "        .then(() => loadScript(\"vega-embed\"))\n",
       "        .catch(showError)\n",
       "        .then(() => displayChart(vegaEmbed));\n",
       "    }\n",
       "  })({\"config\": {\"view\": {\"continuousWidth\": 400, \"continuousHeight\": 300}}, \"layer\": [{\"mark\": \"line\", \"encoding\": {\"color\": {\"value\": \"dodgerblue\"}, \"x\": {\"type\": \"temporal\", \"field\": \"data\", \"title\": \"Data\"}, \"y\": {\"type\": \"quantitative\", \"field\": \"casos_confirmados\", \"title\": \"Casos Confirmados\"}}, \"title\": \"Casos Confirmados por Dia (Base Federal)\", \"width\": 800}, {\"mark\": {\"type\": \"line\", \"point\": true}, \"encoding\": {\"color\": {\"value\": \"orange\"}, \"x\": {\"type\": \"temporal\", \"field\": \"data\", \"title\": \"Data\"}, \"y\": {\"type\": \"quantitative\", \"field\": \"media_movel\", \"title\": \"Casos Confirmados\"}}}], \"data\": {\"name\": \"data-d5e6717e4374ac02fe77e35c38ad1ac2\"}, \"$schema\": \"https://vega.github.io/schema/vega-lite/v4.8.1.json\", \"datasets\": {\"data-d5e6717e4374ac02fe77e35c38ad1ac2\": [{\"data\": \"2021-06-01\", \"casos_confirmados\": 171, \"media_movel\": null}, {\"data\": \"2021-06-02\", \"casos_confirmados\": 168, \"media_movel\": null}, {\"data\": \"2021-06-03\", \"casos_confirmados\": 318, \"media_movel\": null}, {\"data\": \"2021-06-04\", \"casos_confirmados\": 256, \"media_movel\": null}, {\"data\": \"2021-06-05\", \"casos_confirmados\": 261, \"media_movel\": null}, {\"data\": \"2021-06-06\", \"casos_confirmados\": 230, \"media_movel\": null}, {\"data\": \"2021-06-07\", \"casos_confirmados\": 238, \"media_movel\": 234.57142857142858}, {\"data\": \"2021-06-08\", \"casos_confirmados\": 85, \"media_movel\": 222.28571428571428}, {\"data\": \"2021-06-09\", \"casos_confirmados\": 97, \"media_movel\": 212.14285714285714}, {\"data\": \"2021-06-10\", \"casos_confirmados\": 607, \"media_movel\": 253.42857142857142}, {\"data\": \"2021-06-11\", \"casos_confirmados\": 281, \"media_movel\": 257.0}, {\"data\": \"2021-06-12\", \"casos_confirmados\": 251, \"media_movel\": 255.57142857142858}, {\"data\": \"2021-06-13\", \"casos_confirmados\": 221, \"media_movel\": 254.28571428571428}, {\"data\": \"2021-06-14\", \"casos_confirmados\": 369, \"media_movel\": 273.0}, {\"data\": \"2021-06-15\", \"casos_confirmados\": 262, \"media_movel\": 298.2857142857143}, {\"data\": \"2021-06-16\", \"casos_confirmados\": 262, \"media_movel\": 321.85714285714283}, {\"data\": \"2021-06-17\", \"casos_confirmados\": 295, \"media_movel\": 277.2857142857143}, {\"data\": \"2021-06-18\", \"casos_confirmados\": 227, \"media_movel\": 269.57142857142856}, {\"data\": \"2021-06-19\", \"casos_confirmados\": 321, \"media_movel\": 279.57142857142856}, {\"data\": \"2021-06-20\", \"casos_confirmados\": 282, \"media_movel\": 288.2857142857143}, {\"data\": \"2021-06-21\", \"casos_confirmados\": 143, \"media_movel\": 256.0}, {\"data\": \"2021-06-22\", \"casos_confirmados\": 197, \"media_movel\": 246.71428571428572}, {\"data\": \"2021-06-23\", \"casos_confirmados\": 270, \"media_movel\": 247.85714285714286}, {\"data\": \"2021-06-24\", \"casos_confirmados\": 203, \"media_movel\": 234.71428571428572}, {\"data\": \"2021-06-25\", \"casos_confirmados\": 343, \"media_movel\": 251.28571428571428}, {\"data\": \"2021-06-26\", \"casos_confirmados\": 319, \"media_movel\": 251.0}, {\"data\": \"2021-06-27\", \"casos_confirmados\": 336, \"media_movel\": 258.7142857142857}, {\"data\": \"2021-06-28\", \"casos_confirmados\": 206, \"media_movel\": 267.7142857142857}, {\"data\": \"2021-06-29\", \"casos_confirmados\": 372, \"media_movel\": 292.7142857142857}, {\"data\": \"2021-06-30\", \"casos_confirmados\": 189, \"media_movel\": 281.14285714285717}, {\"data\": \"2021-07-01\", \"casos_confirmados\": 85, \"media_movel\": 264.2857142857143}, {\"data\": \"2021-07-02\", \"casos_confirmados\": 186, \"media_movel\": 241.85714285714286}, {\"data\": \"2021-07-03\", \"casos_confirmados\": 232, \"media_movel\": 229.42857142857142}, {\"data\": \"2021-07-04\", \"casos_confirmados\": 219, \"media_movel\": 212.71428571428572}, {\"data\": \"2021-07-05\", \"casos_confirmados\": 87, \"media_movel\": 195.71428571428572}, {\"data\": \"2021-07-06\", \"casos_confirmados\": 49, \"media_movel\": 149.57142857142858}, {\"data\": \"2021-07-07\", \"casos_confirmados\": 214, \"media_movel\": 153.14285714285714}, {\"data\": \"2021-07-08\", \"casos_confirmados\": 146, \"media_movel\": 161.85714285714286}, {\"data\": \"2021-07-09\", \"casos_confirmados\": 145, \"media_movel\": 156.0}, {\"data\": \"2021-07-10\", \"casos_confirmados\": 191, \"media_movel\": 150.14285714285714}, {\"data\": \"2021-07-11\", \"casos_confirmados\": 116, \"media_movel\": 135.42857142857142}, {\"data\": \"2021-07-12\", \"casos_confirmados\": 80, \"media_movel\": 134.42857142857142}, {\"data\": \"2021-07-13\", \"casos_confirmados\": 2, \"media_movel\": 127.71428571428571}, {\"data\": \"2021-07-14\", \"casos_confirmados\": 190, \"media_movel\": 124.28571428571429}, {\"data\": \"2021-07-15\", \"casos_confirmados\": 198, \"media_movel\": 131.71428571428572}, {\"data\": \"2021-07-16\", \"casos_confirmados\": 138, \"media_movel\": 130.71428571428572}, {\"data\": \"2021-07-17\", \"casos_confirmados\": 184, \"media_movel\": 129.71428571428572}, {\"data\": \"2021-07-18\", \"casos_confirmados\": 83, \"media_movel\": 125.0}, {\"data\": \"2021-07-19\", \"casos_confirmados\": 62, \"media_movel\": 122.42857142857143}, {\"data\": \"2021-07-20\", \"casos_confirmados\": 82, \"media_movel\": 133.85714285714286}, {\"data\": \"2021-07-21\", \"casos_confirmados\": 80, \"media_movel\": 118.14285714285714}, {\"data\": \"2021-07-22\", \"casos_confirmados\": 215, \"media_movel\": 120.57142857142857}, {\"data\": \"2021-07-23\", \"casos_confirmados\": 139, \"media_movel\": 120.71428571428571}, {\"data\": \"2021-07-24\", \"casos_confirmados\": 72, \"media_movel\": 104.71428571428571}, {\"data\": \"2021-07-25\", \"casos_confirmados\": 125, \"media_movel\": 110.71428571428571}, {\"data\": \"2021-07-26\", \"casos_confirmados\": 52, \"media_movel\": 109.28571428571429}, {\"data\": \"2021-07-27\", \"casos_confirmados\": 39, \"media_movel\": 103.14285714285714}, {\"data\": \"2021-07-28\", \"casos_confirmados\": 106, \"media_movel\": 106.85714285714286}, {\"data\": \"2021-07-29\", \"casos_confirmados\": 189, \"media_movel\": 103.14285714285714}, {\"data\": \"2021-07-30\", \"casos_confirmados\": 137, \"media_movel\": 102.85714285714286}, {\"data\": \"2021-07-31\", \"casos_confirmados\": 92, \"media_movel\": 105.71428571428571}, {\"data\": \"2021-08-01\", \"casos_confirmados\": 96, \"media_movel\": 101.57142857142857}, {\"data\": \"2021-08-02\", \"casos_confirmados\": 30, \"media_movel\": 98.42857142857143}, {\"data\": \"2021-08-03\", \"casos_confirmados\": 15, \"media_movel\": 95.0}, {\"data\": \"2021-08-04\", \"casos_confirmados\": 123, \"media_movel\": 97.42857142857143}, {\"data\": \"2021-08-05\", \"casos_confirmados\": 114, \"media_movel\": 86.71428571428571}, {\"data\": \"2021-08-06\", \"casos_confirmados\": 92, \"media_movel\": 80.28571428571429}, {\"data\": \"2021-08-07\", \"casos_confirmados\": 69, \"media_movel\": 77.0}, {\"data\": \"2021-08-08\", \"casos_confirmados\": 51, \"media_movel\": 70.57142857142857}, {\"data\": \"2021-08-09\", \"casos_confirmados\": 19, \"media_movel\": 69.0}, {\"data\": \"2021-08-10\", \"casos_confirmados\": 23, \"media_movel\": 70.14285714285714}, {\"data\": \"2021-08-11\", \"casos_confirmados\": 122, \"media_movel\": 70.0}, {\"data\": \"2021-08-12\", \"casos_confirmados\": 85, \"media_movel\": 65.85714285714286}, {\"data\": \"2021-08-13\", \"casos_confirmados\": 59, \"media_movel\": 61.142857142857146}, {\"data\": \"2021-08-14\", \"casos_confirmados\": 104, \"media_movel\": 66.14285714285714}, {\"data\": \"2021-08-15\", \"casos_confirmados\": 95, \"media_movel\": 72.42857142857143}, {\"data\": \"2021-08-16\", \"casos_confirmados\": 27, \"media_movel\": 73.57142857142857}, {\"data\": \"2021-08-17\", \"casos_confirmados\": 43, \"media_movel\": 76.42857142857143}, {\"data\": \"2021-08-18\", \"casos_confirmados\": 166, \"media_movel\": 82.71428571428571}, {\"data\": \"2021-08-19\", \"casos_confirmados\": 129, \"media_movel\": 89.0}, {\"data\": \"2021-08-20\", \"casos_confirmados\": 86, \"media_movel\": 92.85714285714286}, {\"data\": \"2021-08-21\", \"casos_confirmados\": 136, \"media_movel\": 97.42857142857143}, {\"data\": \"2021-08-22\", \"casos_confirmados\": 85, \"media_movel\": 96.0}, {\"data\": \"2021-08-23\", \"casos_confirmados\": 32, \"media_movel\": 96.71428571428571}, {\"data\": \"2021-08-24\", \"casos_confirmados\": 71, \"media_movel\": 100.71428571428571}, {\"data\": \"2021-08-25\", \"casos_confirmados\": 18, \"media_movel\": 79.57142857142857}, {\"data\": \"2021-08-26\", \"casos_confirmados\": 190, \"media_movel\": 88.28571428571429}, {\"data\": \"2021-08-27\", \"casos_confirmados\": 76, \"media_movel\": 86.85714285714286}, {\"data\": \"2021-08-28\", \"casos_confirmados\": 70, \"media_movel\": 77.42857142857143}, {\"data\": \"2021-08-29\", \"casos_confirmados\": 48, \"media_movel\": 72.14285714285714}, {\"data\": \"2021-08-30\", \"casos_confirmados\": 52, \"media_movel\": 75.0}, {\"data\": \"2021-08-31\", \"casos_confirmados\": 32, \"media_movel\": 69.42857142857143}]}}, {\"mode\": \"vega-lite\"});\n",
       "</script>"
      ],
      "text/plain": [
       "alt.LayerChart(...)"
      ]
     },
     "execution_count": 7,
     "metadata": {},
     "output_type": "execute_result"
    }
   ],
   "source": [
    "graph_df_cmm = graph_df_casosPorDia + graph_df_casosMedMovel\n",
    "graph_df_cmm"
   ]
  },
  {
   "cell_type": "markdown",
   "metadata": {},
   "source": [
    "## Gerando dados sobre Casos Confirmados por Dia (Dados Municipal)"
   ]
  },
  {
   "cell_type": "code",
   "execution_count": 8,
   "metadata": {},
   "outputs": [],
   "source": [
    "# Criando um data com a coluna 'data' e a coluna 'confirmadosPorDia'\n",
    "dm_casosPorDia = dados_municipais_campina['confirmadosPorDia']"
   ]
  },
  {
   "cell_type": "code",
   "execution_count": 9,
   "metadata": {},
   "outputs": [],
   "source": [
    "# Criando um DataFrame com os dados para o altair\n",
    "dm_casosPorDia = pd.DataFrame({\n",
    "    'data': dm_casosPorDia.index.tolist(),\n",
    "    'casos_confirmados': dm_casosPorDia.values.tolist()\n",
    "})\n",
    "# Criando uma nova coluna no DataFrame referente a média movel.\n",
    "dm_casosPorDia['media_movel'] = dm_casosPorDia.casos_confirmados.rolling(7).mean()"
   ]
  },
  {
   "cell_type": "code",
   "execution_count": 10,
   "metadata": {},
   "outputs": [
    {
     "data": {
      "text/html": [
       "\n",
       "<div id=\"altair-viz-663936ebe18d428d9bf06893e19a373b\"></div>\n",
       "<script type=\"text/javascript\">\n",
       "  (function(spec, embedOpt){\n",
       "    let outputDiv = document.currentScript.previousElementSibling;\n",
       "    if (outputDiv.id !== \"altair-viz-663936ebe18d428d9bf06893e19a373b\") {\n",
       "      outputDiv = document.getElementById(\"altair-viz-663936ebe18d428d9bf06893e19a373b\");\n",
       "    }\n",
       "    const paths = {\n",
       "      \"vega\": \"https://cdn.jsdelivr.net/npm//vega@5?noext\",\n",
       "      \"vega-lib\": \"https://cdn.jsdelivr.net/npm//vega-lib?noext\",\n",
       "      \"vega-lite\": \"https://cdn.jsdelivr.net/npm//vega-lite@4.8.1?noext\",\n",
       "      \"vega-embed\": \"https://cdn.jsdelivr.net/npm//vega-embed@6?noext\",\n",
       "    };\n",
       "\n",
       "    function loadScript(lib) {\n",
       "      return new Promise(function(resolve, reject) {\n",
       "        var s = document.createElement('script');\n",
       "        s.src = paths[lib];\n",
       "        s.async = true;\n",
       "        s.onload = () => resolve(paths[lib]);\n",
       "        s.onerror = () => reject(`Error loading script: ${paths[lib]}`);\n",
       "        document.getElementsByTagName(\"head\")[0].appendChild(s);\n",
       "      });\n",
       "    }\n",
       "\n",
       "    function showError(err) {\n",
       "      outputDiv.innerHTML = `<div class=\"error\" style=\"color:red;\">${err}</div>`;\n",
       "      throw err;\n",
       "    }\n",
       "\n",
       "    function displayChart(vegaEmbed) {\n",
       "      vegaEmbed(outputDiv, spec, embedOpt)\n",
       "        .catch(err => showError(`Javascript Error: ${err.message}<br>This usually means there's a typo in your chart specification. See the javascript console for the full traceback.`));\n",
       "    }\n",
       "\n",
       "    if(typeof define === \"function\" && define.amd) {\n",
       "      requirejs.config({paths});\n",
       "      require([\"vega-embed\"], displayChart, err => showError(`Error loading script: ${err.message}`));\n",
       "    } else if (typeof vegaEmbed === \"function\") {\n",
       "      displayChart(vegaEmbed);\n",
       "    } else {\n",
       "      loadScript(\"vega\")\n",
       "        .then(() => loadScript(\"vega-lite\"))\n",
       "        .then(() => loadScript(\"vega-embed\"))\n",
       "        .catch(showError)\n",
       "        .then(() => displayChart(vegaEmbed));\n",
       "    }\n",
       "  })({\"config\": {\"view\": {\"continuousWidth\": 400, \"continuousHeight\": 300}}, \"data\": {\"name\": \"data-cf5ddfb61f08b0d6ca7df7ae03d4128f\"}, \"mark\": \"line\", \"encoding\": {\"color\": {\"value\": \"darkorange\"}, \"x\": {\"type\": \"temporal\", \"field\": \"data\", \"title\": \"Data\"}, \"y\": {\"type\": \"quantitative\", \"field\": \"casos_confirmados\", \"title\": \"Casos Confirmados\"}}, \"title\": \"Casos Confirmados por Dia (Base Municipal)\", \"width\": 800, \"$schema\": \"https://vega.github.io/schema/vega-lite/v4.8.1.json\", \"datasets\": {\"data-cf5ddfb61f08b0d6ca7df7ae03d4128f\": [{\"data\": \"2021-06-01\", \"casos_confirmados\": 120, \"media_movel\": null}, {\"data\": \"2021-06-02\", \"casos_confirmados\": 553, \"media_movel\": null}, {\"data\": \"2021-06-03\", \"casos_confirmados\": 367, \"media_movel\": null}, {\"data\": \"2021-06-04\", \"casos_confirmados\": 229, \"media_movel\": null}, {\"data\": \"2021-06-05\", \"casos_confirmados\": 368, \"media_movel\": null}, {\"data\": \"2021-06-06\", \"casos_confirmados\": 27, \"media_movel\": null}, {\"data\": \"2021-06-07\", \"casos_confirmados\": 22, \"media_movel\": 240.85714285714286}, {\"data\": \"2021-06-08\", \"casos_confirmados\": 62, \"media_movel\": 232.57142857142858}, {\"data\": \"2021-06-09\", \"casos_confirmados\": 39, \"media_movel\": 159.14285714285714}, {\"data\": \"2021-06-10\", \"casos_confirmados\": 1315, \"media_movel\": 294.57142857142856}, {\"data\": \"2021-06-11\", \"casos_confirmados\": 377, \"media_movel\": 315.7142857142857}, {\"data\": \"2021-06-12\", \"casos_confirmados\": 311, \"media_movel\": 307.57142857142856}, {\"data\": \"2021-06-13\", \"casos_confirmados\": 56, \"media_movel\": 311.7142857142857}, {\"data\": \"2021-06-14\", \"casos_confirmados\": 208, \"media_movel\": 338.2857142857143}, {\"data\": \"2021-06-15\", \"casos_confirmados\": 158, \"media_movel\": 352.0}, {\"data\": \"2021-06-16\", \"casos_confirmados\": 557, \"media_movel\": 426.0}, {\"data\": \"2021-06-17\", \"casos_confirmados\": 308, \"media_movel\": 282.14285714285717}, {\"data\": \"2021-06-18\", \"casos_confirmados\": 238, \"media_movel\": 262.2857142857143}, {\"data\": \"2021-06-19\", \"casos_confirmados\": 176, \"media_movel\": 243.0}, {\"data\": \"2021-06-20\", \"casos_confirmados\": 53, \"media_movel\": 242.57142857142858}, {\"data\": \"2021-06-21\", \"casos_confirmados\": 319, \"media_movel\": 258.42857142857144}, {\"data\": \"2021-06-22\", \"casos_confirmados\": 178, \"media_movel\": 261.2857142857143}, {\"data\": \"2021-06-23\", \"casos_confirmados\": 308, \"media_movel\": 225.71428571428572}, {\"data\": \"2021-06-24\", \"casos_confirmados\": 184, \"media_movel\": 208.0}, {\"data\": \"2021-06-25\", \"casos_confirmados\": 120, \"media_movel\": 191.14285714285714}, {\"data\": \"2021-06-26\", \"casos_confirmados\": 279, \"media_movel\": 205.85714285714286}, {\"data\": \"2021-06-27\", \"casos_confirmados\": 50, \"media_movel\": 205.42857142857142}, {\"data\": \"2021-06-28\", \"casos_confirmados\": 205, \"media_movel\": 189.14285714285714}, {\"data\": \"2021-06-29\", \"casos_confirmados\": 28, \"media_movel\": 167.71428571428572}, {\"data\": \"2021-06-30\", \"casos_confirmados\": 191, \"media_movel\": 151.0}, {\"data\": \"2021-07-01\", \"casos_confirmados\": 308, \"media_movel\": 168.71428571428572}, {\"data\": \"2021-07-03\", \"casos_confirmados\": 454, \"media_movel\": 216.42857142857142}, {\"data\": \"2021-07-04\", \"casos_confirmados\": 13, \"media_movel\": 178.42857142857142}, {\"data\": \"2021-07-05\", \"casos_confirmados\": 157, \"media_movel\": 193.71428571428572}, {\"data\": \"2021-07-06\", \"casos_confirmados\": 194, \"media_movel\": 192.14285714285714}, {\"data\": \"2021-07-07\", \"casos_confirmados\": 172, \"media_movel\": 212.71428571428572}, {\"data\": \"2021-07-08\", \"casos_confirmados\": 181, \"media_movel\": 211.28571428571428}, {\"data\": \"2021-07-09\", \"casos_confirmados\": 230, \"media_movel\": 200.14285714285714}, {\"data\": \"2021-07-10\", \"casos_confirmados\": 135, \"media_movel\": 154.57142857142858}, {\"data\": \"2021-07-11\", \"casos_confirmados\": 41, \"media_movel\": 158.57142857142858}, {\"data\": \"2021-07-12\", \"casos_confirmados\": 83, \"media_movel\": 148.0}, {\"data\": \"2021-07-13\", \"casos_confirmados\": 237, \"media_movel\": 154.14285714285714}, {\"data\": \"2021-07-14\", \"casos_confirmados\": 182, \"media_movel\": 155.57142857142858}, {\"data\": \"2021-07-15\", \"casos_confirmados\": 156, \"media_movel\": 152.0}, {\"data\": \"2021-07-16\", \"casos_confirmados\": 149, \"media_movel\": 140.42857142857142}, {\"data\": \"2021-07-17\", \"casos_confirmados\": 86, \"media_movel\": 133.42857142857142}, {\"data\": \"2021-07-18\", \"casos_confirmados\": 58, \"media_movel\": 135.85714285714286}, {\"data\": \"2021-07-19\", \"casos_confirmados\": 31, \"media_movel\": 128.42857142857142}, {\"data\": \"2021-07-20\", \"casos_confirmados\": 118, \"media_movel\": 111.42857142857143}, {\"data\": \"2021-07-21\", \"casos_confirmados\": 202, \"media_movel\": 114.28571428571429}, {\"data\": \"2021-07-22\", \"casos_confirmados\": 332, \"media_movel\": 139.42857142857142}, {\"data\": \"2021-07-23\", \"casos_confirmados\": 41, \"media_movel\": 124.0}, {\"data\": \"2021-07-24\", \"casos_confirmados\": 256, \"media_movel\": 148.28571428571428}, {\"data\": \"2021-07-25\", \"casos_confirmados\": 15, \"media_movel\": 142.14285714285714}, {\"data\": \"2021-07-26\", \"casos_confirmados\": 84, \"media_movel\": 149.71428571428572}, {\"data\": \"2021-07-27\", \"casos_confirmados\": 219, \"media_movel\": 164.14285714285714}, {\"data\": \"2021-07-28\", \"casos_confirmados\": 121, \"media_movel\": 152.57142857142858}, {\"data\": \"2021-07-29\", \"casos_confirmados\": 146, \"media_movel\": 126.0}, {\"data\": \"2021-07-30\", \"casos_confirmados\": 92, \"media_movel\": 133.28571428571428}, {\"data\": \"2021-07-31\", \"casos_confirmados\": 88, \"media_movel\": 109.28571428571429}, {\"data\": \"2021-08-01\", \"casos_confirmados\": 31, \"media_movel\": 111.57142857142857}, {\"data\": \"2021-08-02\", \"casos_confirmados\": 135, \"media_movel\": 118.85714285714286}, {\"data\": \"2021-08-03\", \"casos_confirmados\": 39, \"media_movel\": 93.14285714285714}, {\"data\": \"2021-08-04\", \"casos_confirmados\": 113, \"media_movel\": 92.0}, {\"data\": \"2021-08-05\", \"casos_confirmados\": 38, \"media_movel\": 76.57142857142857}, {\"data\": \"2021-08-06\", \"casos_confirmados\": 74, \"media_movel\": 74.0}, {\"data\": \"2021-08-07\", \"casos_confirmados\": 44, \"media_movel\": 67.71428571428571}, {\"data\": \"2021-08-08\", \"casos_confirmados\": 4, \"media_movel\": 63.857142857142854}, {\"data\": \"2021-08-09\", \"casos_confirmados\": 122, \"media_movel\": 62.0}, {\"data\": \"2021-08-10\", \"casos_confirmados\": 130, \"media_movel\": 75.0}, {\"data\": \"2021-08-11\", \"casos_confirmados\": 60, \"media_movel\": 67.42857142857143}, {\"data\": \"2021-08-12\", \"casos_confirmados\": 82, \"media_movel\": 73.71428571428571}, {\"data\": \"2021-08-13\", \"casos_confirmados\": 100, \"media_movel\": 77.42857142857143}, {\"data\": \"2021-08-14\", \"casos_confirmados\": 49, \"media_movel\": 78.14285714285714}, {\"data\": \"2021-08-15\", \"casos_confirmados\": 59, \"media_movel\": 86.0}, {\"data\": \"2021-08-16\", \"casos_confirmados\": 78, \"media_movel\": 79.71428571428571}, {\"data\": \"2021-08-17\", \"casos_confirmados\": 204, \"media_movel\": 90.28571428571429}, {\"data\": \"2021-08-18\", \"casos_confirmados\": 109, \"media_movel\": 97.28571428571429}, {\"data\": \"2021-08-19\", \"casos_confirmados\": 74, \"media_movel\": 96.14285714285714}, {\"data\": \"2021-08-20\", \"casos_confirmados\": 148, \"media_movel\": 103.0}, {\"data\": \"2021-08-21\", \"casos_confirmados\": 47, \"media_movel\": 102.71428571428571}, {\"data\": \"2021-08-22\", \"casos_confirmados\": 60, \"media_movel\": 102.85714285714286}, {\"data\": \"2021-08-23\", \"casos_confirmados\": 73, \"media_movel\": 102.14285714285714}, {\"data\": \"2021-08-24\", \"casos_confirmados\": 68, \"media_movel\": 82.71428571428571}, {\"data\": \"2021-08-25\", \"casos_confirmados\": 44, \"media_movel\": 73.42857142857143}, {\"data\": \"2021-08-26\", \"casos_confirmados\": 180, \"media_movel\": 88.57142857142857}, {\"data\": \"2021-08-27\", \"casos_confirmados\": 101, \"media_movel\": 81.85714285714286}, {\"data\": \"2021-08-28\", \"casos_confirmados\": 50, \"media_movel\": 82.28571428571429}, {\"data\": \"2021-08-29\", \"casos_confirmados\": 74, \"media_movel\": 84.28571428571429}, {\"data\": \"2021-08-30\", \"casos_confirmados\": 103, \"media_movel\": 88.57142857142857}, {\"data\": \"2021-08-31\", \"casos_confirmados\": 130, \"media_movel\": 97.42857142857143}]}}, {\"mode\": \"vega-lite\"});\n",
       "</script>"
      ],
      "text/plain": [
       "alt.Chart(...)"
      ]
     },
     "execution_count": 10,
     "metadata": {},
     "output_type": "execute_result"
    }
   ],
   "source": [
    "graph_dm_casosPorDia = alt.Chart(dm_casosPorDia).mark_line().encode(\n",
    "    alt.X('data:T', title='Data'),\n",
    "    alt.Y('casos_confirmados:Q', title='Casos Confirmados'),\n",
    "    color=alt.value('darkorange')\n",
    ").properties(\n",
    "    width=800,\n",
    "    title='Casos Confirmados por Dia (Base Municipal)'\n",
    ")\n",
    "\n",
    "graph_dm_casosPorDia"
   ]
  },
  {
   "cell_type": "code",
   "execution_count": 11,
   "metadata": {},
   "outputs": [],
   "source": [
    "# Gerando o grafico de média movel\n",
    "graph_dm_casosMedMovel = alt.Chart(dm_casosPorDia).mark_line(\n",
    "    point=True\n",
    ").encode(\n",
    "    alt.X('data:T', title='Data'),\n",
    "    alt.Y('media_movel:Q', title='Casos Confirmados'),\n",
    "    color=alt.value('black')\n",
    ")"
   ]
  },
  {
   "cell_type": "code",
   "execution_count": 12,
   "metadata": {},
   "outputs": [
    {
     "data": {
      "text/html": [
       "\n",
       "<div id=\"altair-viz-3fd4ff8369e84cb790b26604d09eeada\"></div>\n",
       "<script type=\"text/javascript\">\n",
       "  (function(spec, embedOpt){\n",
       "    let outputDiv = document.currentScript.previousElementSibling;\n",
       "    if (outputDiv.id !== \"altair-viz-3fd4ff8369e84cb790b26604d09eeada\") {\n",
       "      outputDiv = document.getElementById(\"altair-viz-3fd4ff8369e84cb790b26604d09eeada\");\n",
       "    }\n",
       "    const paths = {\n",
       "      \"vega\": \"https://cdn.jsdelivr.net/npm//vega@5?noext\",\n",
       "      \"vega-lib\": \"https://cdn.jsdelivr.net/npm//vega-lib?noext\",\n",
       "      \"vega-lite\": \"https://cdn.jsdelivr.net/npm//vega-lite@4.8.1?noext\",\n",
       "      \"vega-embed\": \"https://cdn.jsdelivr.net/npm//vega-embed@6?noext\",\n",
       "    };\n",
       "\n",
       "    function loadScript(lib) {\n",
       "      return new Promise(function(resolve, reject) {\n",
       "        var s = document.createElement('script');\n",
       "        s.src = paths[lib];\n",
       "        s.async = true;\n",
       "        s.onload = () => resolve(paths[lib]);\n",
       "        s.onerror = () => reject(`Error loading script: ${paths[lib]}`);\n",
       "        document.getElementsByTagName(\"head\")[0].appendChild(s);\n",
       "      });\n",
       "    }\n",
       "\n",
       "    function showError(err) {\n",
       "      outputDiv.innerHTML = `<div class=\"error\" style=\"color:red;\">${err}</div>`;\n",
       "      throw err;\n",
       "    }\n",
       "\n",
       "    function displayChart(vegaEmbed) {\n",
       "      vegaEmbed(outputDiv, spec, embedOpt)\n",
       "        .catch(err => showError(`Javascript Error: ${err.message}<br>This usually means there's a typo in your chart specification. See the javascript console for the full traceback.`));\n",
       "    }\n",
       "\n",
       "    if(typeof define === \"function\" && define.amd) {\n",
       "      requirejs.config({paths});\n",
       "      require([\"vega-embed\"], displayChart, err => showError(`Error loading script: ${err.message}`));\n",
       "    } else if (typeof vegaEmbed === \"function\") {\n",
       "      displayChart(vegaEmbed);\n",
       "    } else {\n",
       "      loadScript(\"vega\")\n",
       "        .then(() => loadScript(\"vega-lite\"))\n",
       "        .then(() => loadScript(\"vega-embed\"))\n",
       "        .catch(showError)\n",
       "        .then(() => displayChart(vegaEmbed));\n",
       "    }\n",
       "  })({\"config\": {\"view\": {\"continuousWidth\": 400, \"continuousHeight\": 300}}, \"layer\": [{\"mark\": \"line\", \"encoding\": {\"color\": {\"value\": \"darkorange\"}, \"x\": {\"type\": \"temporal\", \"field\": \"data\", \"title\": \"Data\"}, \"y\": {\"type\": \"quantitative\", \"field\": \"casos_confirmados\", \"title\": \"Casos Confirmados\"}}, \"title\": \"Casos Confirmados por Dia (Base Municipal)\", \"width\": 800}, {\"mark\": {\"type\": \"line\", \"point\": true}, \"encoding\": {\"color\": {\"value\": \"black\"}, \"x\": {\"type\": \"temporal\", \"field\": \"data\", \"title\": \"Data\"}, \"y\": {\"type\": \"quantitative\", \"field\": \"media_movel\", \"title\": \"Casos Confirmados\"}}}], \"data\": {\"name\": \"data-cf5ddfb61f08b0d6ca7df7ae03d4128f\"}, \"$schema\": \"https://vega.github.io/schema/vega-lite/v4.8.1.json\", \"datasets\": {\"data-cf5ddfb61f08b0d6ca7df7ae03d4128f\": [{\"data\": \"2021-06-01\", \"casos_confirmados\": 120, \"media_movel\": null}, {\"data\": \"2021-06-02\", \"casos_confirmados\": 553, \"media_movel\": null}, {\"data\": \"2021-06-03\", \"casos_confirmados\": 367, \"media_movel\": null}, {\"data\": \"2021-06-04\", \"casos_confirmados\": 229, \"media_movel\": null}, {\"data\": \"2021-06-05\", \"casos_confirmados\": 368, \"media_movel\": null}, {\"data\": \"2021-06-06\", \"casos_confirmados\": 27, \"media_movel\": null}, {\"data\": \"2021-06-07\", \"casos_confirmados\": 22, \"media_movel\": 240.85714285714286}, {\"data\": \"2021-06-08\", \"casos_confirmados\": 62, \"media_movel\": 232.57142857142858}, {\"data\": \"2021-06-09\", \"casos_confirmados\": 39, \"media_movel\": 159.14285714285714}, {\"data\": \"2021-06-10\", \"casos_confirmados\": 1315, \"media_movel\": 294.57142857142856}, {\"data\": \"2021-06-11\", \"casos_confirmados\": 377, \"media_movel\": 315.7142857142857}, {\"data\": \"2021-06-12\", \"casos_confirmados\": 311, \"media_movel\": 307.57142857142856}, {\"data\": \"2021-06-13\", \"casos_confirmados\": 56, \"media_movel\": 311.7142857142857}, {\"data\": \"2021-06-14\", \"casos_confirmados\": 208, \"media_movel\": 338.2857142857143}, {\"data\": \"2021-06-15\", \"casos_confirmados\": 158, \"media_movel\": 352.0}, {\"data\": \"2021-06-16\", \"casos_confirmados\": 557, \"media_movel\": 426.0}, {\"data\": \"2021-06-17\", \"casos_confirmados\": 308, \"media_movel\": 282.14285714285717}, {\"data\": \"2021-06-18\", \"casos_confirmados\": 238, \"media_movel\": 262.2857142857143}, {\"data\": \"2021-06-19\", \"casos_confirmados\": 176, \"media_movel\": 243.0}, {\"data\": \"2021-06-20\", \"casos_confirmados\": 53, \"media_movel\": 242.57142857142858}, {\"data\": \"2021-06-21\", \"casos_confirmados\": 319, \"media_movel\": 258.42857142857144}, {\"data\": \"2021-06-22\", \"casos_confirmados\": 178, \"media_movel\": 261.2857142857143}, {\"data\": \"2021-06-23\", \"casos_confirmados\": 308, \"media_movel\": 225.71428571428572}, {\"data\": \"2021-06-24\", \"casos_confirmados\": 184, \"media_movel\": 208.0}, {\"data\": \"2021-06-25\", \"casos_confirmados\": 120, \"media_movel\": 191.14285714285714}, {\"data\": \"2021-06-26\", \"casos_confirmados\": 279, \"media_movel\": 205.85714285714286}, {\"data\": \"2021-06-27\", \"casos_confirmados\": 50, \"media_movel\": 205.42857142857142}, {\"data\": \"2021-06-28\", \"casos_confirmados\": 205, \"media_movel\": 189.14285714285714}, {\"data\": \"2021-06-29\", \"casos_confirmados\": 28, \"media_movel\": 167.71428571428572}, {\"data\": \"2021-06-30\", \"casos_confirmados\": 191, \"media_movel\": 151.0}, {\"data\": \"2021-07-01\", \"casos_confirmados\": 308, \"media_movel\": 168.71428571428572}, {\"data\": \"2021-07-03\", \"casos_confirmados\": 454, \"media_movel\": 216.42857142857142}, {\"data\": \"2021-07-04\", \"casos_confirmados\": 13, \"media_movel\": 178.42857142857142}, {\"data\": \"2021-07-05\", \"casos_confirmados\": 157, \"media_movel\": 193.71428571428572}, {\"data\": \"2021-07-06\", \"casos_confirmados\": 194, \"media_movel\": 192.14285714285714}, {\"data\": \"2021-07-07\", \"casos_confirmados\": 172, \"media_movel\": 212.71428571428572}, {\"data\": \"2021-07-08\", \"casos_confirmados\": 181, \"media_movel\": 211.28571428571428}, {\"data\": \"2021-07-09\", \"casos_confirmados\": 230, \"media_movel\": 200.14285714285714}, {\"data\": \"2021-07-10\", \"casos_confirmados\": 135, \"media_movel\": 154.57142857142858}, {\"data\": \"2021-07-11\", \"casos_confirmados\": 41, \"media_movel\": 158.57142857142858}, {\"data\": \"2021-07-12\", \"casos_confirmados\": 83, \"media_movel\": 148.0}, {\"data\": \"2021-07-13\", \"casos_confirmados\": 237, \"media_movel\": 154.14285714285714}, {\"data\": \"2021-07-14\", \"casos_confirmados\": 182, \"media_movel\": 155.57142857142858}, {\"data\": \"2021-07-15\", \"casos_confirmados\": 156, \"media_movel\": 152.0}, {\"data\": \"2021-07-16\", \"casos_confirmados\": 149, \"media_movel\": 140.42857142857142}, {\"data\": \"2021-07-17\", \"casos_confirmados\": 86, \"media_movel\": 133.42857142857142}, {\"data\": \"2021-07-18\", \"casos_confirmados\": 58, \"media_movel\": 135.85714285714286}, {\"data\": \"2021-07-19\", \"casos_confirmados\": 31, \"media_movel\": 128.42857142857142}, {\"data\": \"2021-07-20\", \"casos_confirmados\": 118, \"media_movel\": 111.42857142857143}, {\"data\": \"2021-07-21\", \"casos_confirmados\": 202, \"media_movel\": 114.28571428571429}, {\"data\": \"2021-07-22\", \"casos_confirmados\": 332, \"media_movel\": 139.42857142857142}, {\"data\": \"2021-07-23\", \"casos_confirmados\": 41, \"media_movel\": 124.0}, {\"data\": \"2021-07-24\", \"casos_confirmados\": 256, \"media_movel\": 148.28571428571428}, {\"data\": \"2021-07-25\", \"casos_confirmados\": 15, \"media_movel\": 142.14285714285714}, {\"data\": \"2021-07-26\", \"casos_confirmados\": 84, \"media_movel\": 149.71428571428572}, {\"data\": \"2021-07-27\", \"casos_confirmados\": 219, \"media_movel\": 164.14285714285714}, {\"data\": \"2021-07-28\", \"casos_confirmados\": 121, \"media_movel\": 152.57142857142858}, {\"data\": \"2021-07-29\", \"casos_confirmados\": 146, \"media_movel\": 126.0}, {\"data\": \"2021-07-30\", \"casos_confirmados\": 92, \"media_movel\": 133.28571428571428}, {\"data\": \"2021-07-31\", \"casos_confirmados\": 88, \"media_movel\": 109.28571428571429}, {\"data\": \"2021-08-01\", \"casos_confirmados\": 31, \"media_movel\": 111.57142857142857}, {\"data\": \"2021-08-02\", \"casos_confirmados\": 135, \"media_movel\": 118.85714285714286}, {\"data\": \"2021-08-03\", \"casos_confirmados\": 39, \"media_movel\": 93.14285714285714}, {\"data\": \"2021-08-04\", \"casos_confirmados\": 113, \"media_movel\": 92.0}, {\"data\": \"2021-08-05\", \"casos_confirmados\": 38, \"media_movel\": 76.57142857142857}, {\"data\": \"2021-08-06\", \"casos_confirmados\": 74, \"media_movel\": 74.0}, {\"data\": \"2021-08-07\", \"casos_confirmados\": 44, \"media_movel\": 67.71428571428571}, {\"data\": \"2021-08-08\", \"casos_confirmados\": 4, \"media_movel\": 63.857142857142854}, {\"data\": \"2021-08-09\", \"casos_confirmados\": 122, \"media_movel\": 62.0}, {\"data\": \"2021-08-10\", \"casos_confirmados\": 130, \"media_movel\": 75.0}, {\"data\": \"2021-08-11\", \"casos_confirmados\": 60, \"media_movel\": 67.42857142857143}, {\"data\": \"2021-08-12\", \"casos_confirmados\": 82, \"media_movel\": 73.71428571428571}, {\"data\": \"2021-08-13\", \"casos_confirmados\": 100, \"media_movel\": 77.42857142857143}, {\"data\": \"2021-08-14\", \"casos_confirmados\": 49, \"media_movel\": 78.14285714285714}, {\"data\": \"2021-08-15\", \"casos_confirmados\": 59, \"media_movel\": 86.0}, {\"data\": \"2021-08-16\", \"casos_confirmados\": 78, \"media_movel\": 79.71428571428571}, {\"data\": \"2021-08-17\", \"casos_confirmados\": 204, \"media_movel\": 90.28571428571429}, {\"data\": \"2021-08-18\", \"casos_confirmados\": 109, \"media_movel\": 97.28571428571429}, {\"data\": \"2021-08-19\", \"casos_confirmados\": 74, \"media_movel\": 96.14285714285714}, {\"data\": \"2021-08-20\", \"casos_confirmados\": 148, \"media_movel\": 103.0}, {\"data\": \"2021-08-21\", \"casos_confirmados\": 47, \"media_movel\": 102.71428571428571}, {\"data\": \"2021-08-22\", \"casos_confirmados\": 60, \"media_movel\": 102.85714285714286}, {\"data\": \"2021-08-23\", \"casos_confirmados\": 73, \"media_movel\": 102.14285714285714}, {\"data\": \"2021-08-24\", \"casos_confirmados\": 68, \"media_movel\": 82.71428571428571}, {\"data\": \"2021-08-25\", \"casos_confirmados\": 44, \"media_movel\": 73.42857142857143}, {\"data\": \"2021-08-26\", \"casos_confirmados\": 180, \"media_movel\": 88.57142857142857}, {\"data\": \"2021-08-27\", \"casos_confirmados\": 101, \"media_movel\": 81.85714285714286}, {\"data\": \"2021-08-28\", \"casos_confirmados\": 50, \"media_movel\": 82.28571428571429}, {\"data\": \"2021-08-29\", \"casos_confirmados\": 74, \"media_movel\": 84.28571428571429}, {\"data\": \"2021-08-30\", \"casos_confirmados\": 103, \"media_movel\": 88.57142857142857}, {\"data\": \"2021-08-31\", \"casos_confirmados\": 130, \"media_movel\": 97.42857142857143}]}}, {\"mode\": \"vega-lite\"});\n",
       "</script>"
      ],
      "text/plain": [
       "alt.LayerChart(...)"
      ]
     },
     "execution_count": 12,
     "metadata": {},
     "output_type": "execute_result"
    }
   ],
   "source": [
    "graph_dm_cmm = graph_dm_casosPorDia + graph_dm_casosMedMovel\n",
    "graph_dm_cmm"
   ]
  },
  {
   "cell_type": "markdown",
   "metadata": {},
   "source": [
    "# Comparando os dados Federais e Municipais"
   ]
  },
  {
   "cell_type": "code",
   "execution_count": 13,
   "metadata": {},
   "outputs": [
    {
     "data": {
      "text/html": [
       "\n",
       "<div id=\"altair-viz-4a5bda9084b94a85b574c5a13f8171a7\"></div>\n",
       "<script type=\"text/javascript\">\n",
       "  (function(spec, embedOpt){\n",
       "    let outputDiv = document.currentScript.previousElementSibling;\n",
       "    if (outputDiv.id !== \"altair-viz-4a5bda9084b94a85b574c5a13f8171a7\") {\n",
       "      outputDiv = document.getElementById(\"altair-viz-4a5bda9084b94a85b574c5a13f8171a7\");\n",
       "    }\n",
       "    const paths = {\n",
       "      \"vega\": \"https://cdn.jsdelivr.net/npm//vega@5?noext\",\n",
       "      \"vega-lib\": \"https://cdn.jsdelivr.net/npm//vega-lib?noext\",\n",
       "      \"vega-lite\": \"https://cdn.jsdelivr.net/npm//vega-lite@4.8.1?noext\",\n",
       "      \"vega-embed\": \"https://cdn.jsdelivr.net/npm//vega-embed@6?noext\",\n",
       "    };\n",
       "\n",
       "    function loadScript(lib) {\n",
       "      return new Promise(function(resolve, reject) {\n",
       "        var s = document.createElement('script');\n",
       "        s.src = paths[lib];\n",
       "        s.async = true;\n",
       "        s.onload = () => resolve(paths[lib]);\n",
       "        s.onerror = () => reject(`Error loading script: ${paths[lib]}`);\n",
       "        document.getElementsByTagName(\"head\")[0].appendChild(s);\n",
       "      });\n",
       "    }\n",
       "\n",
       "    function showError(err) {\n",
       "      outputDiv.innerHTML = `<div class=\"error\" style=\"color:red;\">${err}</div>`;\n",
       "      throw err;\n",
       "    }\n",
       "\n",
       "    function displayChart(vegaEmbed) {\n",
       "      vegaEmbed(outputDiv, spec, embedOpt)\n",
       "        .catch(err => showError(`Javascript Error: ${err.message}<br>This usually means there's a typo in your chart specification. See the javascript console for the full traceback.`));\n",
       "    }\n",
       "\n",
       "    if(typeof define === \"function\" && define.amd) {\n",
       "      requirejs.config({paths});\n",
       "      require([\"vega-embed\"], displayChart, err => showError(`Error loading script: ${err.message}`));\n",
       "    } else if (typeof vegaEmbed === \"function\") {\n",
       "      displayChart(vegaEmbed);\n",
       "    } else {\n",
       "      loadScript(\"vega\")\n",
       "        .then(() => loadScript(\"vega-lite\"))\n",
       "        .then(() => loadScript(\"vega-embed\"))\n",
       "        .catch(showError)\n",
       "        .then(() => displayChart(vegaEmbed));\n",
       "    }\n",
       "  })({\"config\": {\"view\": {\"continuousWidth\": 400, \"continuousHeight\": 300}}, \"layer\": [{\"data\": {\"name\": \"data-d5e6717e4374ac02fe77e35c38ad1ac2\"}, \"mark\": \"line\", \"encoding\": {\"color\": {\"value\": \"dodgerblue\"}, \"x\": {\"type\": \"temporal\", \"field\": \"data\", \"title\": \"Data\"}, \"y\": {\"type\": \"quantitative\", \"field\": \"casos_confirmados\", \"title\": \"Casos Confirmados\"}}, \"title\": \"Casos Confirmados por Dia (Base Federal)\", \"width\": 800}, {\"data\": {\"name\": \"data-cf5ddfb61f08b0d6ca7df7ae03d4128f\"}, \"mark\": \"line\", \"encoding\": {\"color\": {\"value\": \"darkorange\"}, \"x\": {\"type\": \"temporal\", \"field\": \"data\", \"title\": \"Data\"}, \"y\": {\"type\": \"quantitative\", \"field\": \"casos_confirmados\", \"title\": \"Casos Confirmados\"}}, \"title\": \"Casos Confirmados por Dia (Base Municipal)\", \"width\": 800}], \"title\": \"Casos Confirmados Por Dia (Compara\\u00e7\\u00e3o)\", \"$schema\": \"https://vega.github.io/schema/vega-lite/v4.8.1.json\", \"datasets\": {\"data-d5e6717e4374ac02fe77e35c38ad1ac2\": [{\"data\": \"2021-06-01\", \"casos_confirmados\": 171, \"media_movel\": null}, {\"data\": \"2021-06-02\", \"casos_confirmados\": 168, \"media_movel\": null}, {\"data\": \"2021-06-03\", \"casos_confirmados\": 318, \"media_movel\": null}, {\"data\": \"2021-06-04\", \"casos_confirmados\": 256, \"media_movel\": null}, {\"data\": \"2021-06-05\", \"casos_confirmados\": 261, \"media_movel\": null}, {\"data\": \"2021-06-06\", \"casos_confirmados\": 230, \"media_movel\": null}, {\"data\": \"2021-06-07\", \"casos_confirmados\": 238, \"media_movel\": 234.57142857142858}, {\"data\": \"2021-06-08\", \"casos_confirmados\": 85, \"media_movel\": 222.28571428571428}, {\"data\": \"2021-06-09\", \"casos_confirmados\": 97, \"media_movel\": 212.14285714285714}, {\"data\": \"2021-06-10\", \"casos_confirmados\": 607, \"media_movel\": 253.42857142857142}, {\"data\": \"2021-06-11\", \"casos_confirmados\": 281, \"media_movel\": 257.0}, {\"data\": \"2021-06-12\", \"casos_confirmados\": 251, \"media_movel\": 255.57142857142858}, {\"data\": \"2021-06-13\", \"casos_confirmados\": 221, \"media_movel\": 254.28571428571428}, {\"data\": \"2021-06-14\", \"casos_confirmados\": 369, \"media_movel\": 273.0}, {\"data\": \"2021-06-15\", \"casos_confirmados\": 262, \"media_movel\": 298.2857142857143}, {\"data\": \"2021-06-16\", \"casos_confirmados\": 262, \"media_movel\": 321.85714285714283}, {\"data\": \"2021-06-17\", \"casos_confirmados\": 295, \"media_movel\": 277.2857142857143}, {\"data\": \"2021-06-18\", \"casos_confirmados\": 227, \"media_movel\": 269.57142857142856}, {\"data\": \"2021-06-19\", \"casos_confirmados\": 321, \"media_movel\": 279.57142857142856}, {\"data\": \"2021-06-20\", \"casos_confirmados\": 282, \"media_movel\": 288.2857142857143}, {\"data\": \"2021-06-21\", \"casos_confirmados\": 143, \"media_movel\": 256.0}, {\"data\": \"2021-06-22\", \"casos_confirmados\": 197, \"media_movel\": 246.71428571428572}, {\"data\": \"2021-06-23\", \"casos_confirmados\": 270, \"media_movel\": 247.85714285714286}, {\"data\": \"2021-06-24\", \"casos_confirmados\": 203, \"media_movel\": 234.71428571428572}, {\"data\": \"2021-06-25\", \"casos_confirmados\": 343, \"media_movel\": 251.28571428571428}, {\"data\": \"2021-06-26\", \"casos_confirmados\": 319, \"media_movel\": 251.0}, {\"data\": \"2021-06-27\", \"casos_confirmados\": 336, \"media_movel\": 258.7142857142857}, {\"data\": \"2021-06-28\", \"casos_confirmados\": 206, \"media_movel\": 267.7142857142857}, {\"data\": \"2021-06-29\", \"casos_confirmados\": 372, \"media_movel\": 292.7142857142857}, {\"data\": \"2021-06-30\", \"casos_confirmados\": 189, \"media_movel\": 281.14285714285717}, {\"data\": \"2021-07-01\", \"casos_confirmados\": 85, \"media_movel\": 264.2857142857143}, {\"data\": \"2021-07-02\", \"casos_confirmados\": 186, \"media_movel\": 241.85714285714286}, {\"data\": \"2021-07-03\", \"casos_confirmados\": 232, \"media_movel\": 229.42857142857142}, {\"data\": \"2021-07-04\", \"casos_confirmados\": 219, \"media_movel\": 212.71428571428572}, {\"data\": \"2021-07-05\", \"casos_confirmados\": 87, \"media_movel\": 195.71428571428572}, {\"data\": \"2021-07-06\", \"casos_confirmados\": 49, \"media_movel\": 149.57142857142858}, {\"data\": \"2021-07-07\", \"casos_confirmados\": 214, \"media_movel\": 153.14285714285714}, {\"data\": \"2021-07-08\", \"casos_confirmados\": 146, \"media_movel\": 161.85714285714286}, {\"data\": \"2021-07-09\", \"casos_confirmados\": 145, \"media_movel\": 156.0}, {\"data\": \"2021-07-10\", \"casos_confirmados\": 191, \"media_movel\": 150.14285714285714}, {\"data\": \"2021-07-11\", \"casos_confirmados\": 116, \"media_movel\": 135.42857142857142}, {\"data\": \"2021-07-12\", \"casos_confirmados\": 80, \"media_movel\": 134.42857142857142}, {\"data\": \"2021-07-13\", \"casos_confirmados\": 2, \"media_movel\": 127.71428571428571}, {\"data\": \"2021-07-14\", \"casos_confirmados\": 190, \"media_movel\": 124.28571428571429}, {\"data\": \"2021-07-15\", \"casos_confirmados\": 198, \"media_movel\": 131.71428571428572}, {\"data\": \"2021-07-16\", \"casos_confirmados\": 138, \"media_movel\": 130.71428571428572}, {\"data\": \"2021-07-17\", \"casos_confirmados\": 184, \"media_movel\": 129.71428571428572}, {\"data\": \"2021-07-18\", \"casos_confirmados\": 83, \"media_movel\": 125.0}, {\"data\": \"2021-07-19\", \"casos_confirmados\": 62, \"media_movel\": 122.42857142857143}, {\"data\": \"2021-07-20\", \"casos_confirmados\": 82, \"media_movel\": 133.85714285714286}, {\"data\": \"2021-07-21\", \"casos_confirmados\": 80, \"media_movel\": 118.14285714285714}, {\"data\": \"2021-07-22\", \"casos_confirmados\": 215, \"media_movel\": 120.57142857142857}, {\"data\": \"2021-07-23\", \"casos_confirmados\": 139, \"media_movel\": 120.71428571428571}, {\"data\": \"2021-07-24\", \"casos_confirmados\": 72, \"media_movel\": 104.71428571428571}, {\"data\": \"2021-07-25\", \"casos_confirmados\": 125, \"media_movel\": 110.71428571428571}, {\"data\": \"2021-07-26\", \"casos_confirmados\": 52, \"media_movel\": 109.28571428571429}, {\"data\": \"2021-07-27\", \"casos_confirmados\": 39, \"media_movel\": 103.14285714285714}, {\"data\": \"2021-07-28\", \"casos_confirmados\": 106, \"media_movel\": 106.85714285714286}, {\"data\": \"2021-07-29\", \"casos_confirmados\": 189, \"media_movel\": 103.14285714285714}, {\"data\": \"2021-07-30\", \"casos_confirmados\": 137, \"media_movel\": 102.85714285714286}, {\"data\": \"2021-07-31\", \"casos_confirmados\": 92, \"media_movel\": 105.71428571428571}, {\"data\": \"2021-08-01\", \"casos_confirmados\": 96, \"media_movel\": 101.57142857142857}, {\"data\": \"2021-08-02\", \"casos_confirmados\": 30, \"media_movel\": 98.42857142857143}, {\"data\": \"2021-08-03\", \"casos_confirmados\": 15, \"media_movel\": 95.0}, {\"data\": \"2021-08-04\", \"casos_confirmados\": 123, \"media_movel\": 97.42857142857143}, {\"data\": \"2021-08-05\", \"casos_confirmados\": 114, \"media_movel\": 86.71428571428571}, {\"data\": \"2021-08-06\", \"casos_confirmados\": 92, \"media_movel\": 80.28571428571429}, {\"data\": \"2021-08-07\", \"casos_confirmados\": 69, \"media_movel\": 77.0}, {\"data\": \"2021-08-08\", \"casos_confirmados\": 51, \"media_movel\": 70.57142857142857}, {\"data\": \"2021-08-09\", \"casos_confirmados\": 19, \"media_movel\": 69.0}, {\"data\": \"2021-08-10\", \"casos_confirmados\": 23, \"media_movel\": 70.14285714285714}, {\"data\": \"2021-08-11\", \"casos_confirmados\": 122, \"media_movel\": 70.0}, {\"data\": \"2021-08-12\", \"casos_confirmados\": 85, \"media_movel\": 65.85714285714286}, {\"data\": \"2021-08-13\", \"casos_confirmados\": 59, \"media_movel\": 61.142857142857146}, {\"data\": \"2021-08-14\", \"casos_confirmados\": 104, \"media_movel\": 66.14285714285714}, {\"data\": \"2021-08-15\", \"casos_confirmados\": 95, \"media_movel\": 72.42857142857143}, {\"data\": \"2021-08-16\", \"casos_confirmados\": 27, \"media_movel\": 73.57142857142857}, {\"data\": \"2021-08-17\", \"casos_confirmados\": 43, \"media_movel\": 76.42857142857143}, {\"data\": \"2021-08-18\", \"casos_confirmados\": 166, \"media_movel\": 82.71428571428571}, {\"data\": \"2021-08-19\", \"casos_confirmados\": 129, \"media_movel\": 89.0}, {\"data\": \"2021-08-20\", \"casos_confirmados\": 86, \"media_movel\": 92.85714285714286}, {\"data\": \"2021-08-21\", \"casos_confirmados\": 136, \"media_movel\": 97.42857142857143}, {\"data\": \"2021-08-22\", \"casos_confirmados\": 85, \"media_movel\": 96.0}, {\"data\": \"2021-08-23\", \"casos_confirmados\": 32, \"media_movel\": 96.71428571428571}, {\"data\": \"2021-08-24\", \"casos_confirmados\": 71, \"media_movel\": 100.71428571428571}, {\"data\": \"2021-08-25\", \"casos_confirmados\": 18, \"media_movel\": 79.57142857142857}, {\"data\": \"2021-08-26\", \"casos_confirmados\": 190, \"media_movel\": 88.28571428571429}, {\"data\": \"2021-08-27\", \"casos_confirmados\": 76, \"media_movel\": 86.85714285714286}, {\"data\": \"2021-08-28\", \"casos_confirmados\": 70, \"media_movel\": 77.42857142857143}, {\"data\": \"2021-08-29\", \"casos_confirmados\": 48, \"media_movel\": 72.14285714285714}, {\"data\": \"2021-08-30\", \"casos_confirmados\": 52, \"media_movel\": 75.0}, {\"data\": \"2021-08-31\", \"casos_confirmados\": 32, \"media_movel\": 69.42857142857143}], \"data-cf5ddfb61f08b0d6ca7df7ae03d4128f\": [{\"data\": \"2021-06-01\", \"casos_confirmados\": 120, \"media_movel\": null}, {\"data\": \"2021-06-02\", \"casos_confirmados\": 553, \"media_movel\": null}, {\"data\": \"2021-06-03\", \"casos_confirmados\": 367, \"media_movel\": null}, {\"data\": \"2021-06-04\", \"casos_confirmados\": 229, \"media_movel\": null}, {\"data\": \"2021-06-05\", \"casos_confirmados\": 368, \"media_movel\": null}, {\"data\": \"2021-06-06\", \"casos_confirmados\": 27, \"media_movel\": null}, {\"data\": \"2021-06-07\", \"casos_confirmados\": 22, \"media_movel\": 240.85714285714286}, {\"data\": \"2021-06-08\", \"casos_confirmados\": 62, \"media_movel\": 232.57142857142858}, {\"data\": \"2021-06-09\", \"casos_confirmados\": 39, \"media_movel\": 159.14285714285714}, {\"data\": \"2021-06-10\", \"casos_confirmados\": 1315, \"media_movel\": 294.57142857142856}, {\"data\": \"2021-06-11\", \"casos_confirmados\": 377, \"media_movel\": 315.7142857142857}, {\"data\": \"2021-06-12\", \"casos_confirmados\": 311, \"media_movel\": 307.57142857142856}, {\"data\": \"2021-06-13\", \"casos_confirmados\": 56, \"media_movel\": 311.7142857142857}, {\"data\": \"2021-06-14\", \"casos_confirmados\": 208, \"media_movel\": 338.2857142857143}, {\"data\": \"2021-06-15\", \"casos_confirmados\": 158, \"media_movel\": 352.0}, {\"data\": \"2021-06-16\", \"casos_confirmados\": 557, \"media_movel\": 426.0}, {\"data\": \"2021-06-17\", \"casos_confirmados\": 308, \"media_movel\": 282.14285714285717}, {\"data\": \"2021-06-18\", \"casos_confirmados\": 238, \"media_movel\": 262.2857142857143}, {\"data\": \"2021-06-19\", \"casos_confirmados\": 176, \"media_movel\": 243.0}, {\"data\": \"2021-06-20\", \"casos_confirmados\": 53, \"media_movel\": 242.57142857142858}, {\"data\": \"2021-06-21\", \"casos_confirmados\": 319, \"media_movel\": 258.42857142857144}, {\"data\": \"2021-06-22\", \"casos_confirmados\": 178, \"media_movel\": 261.2857142857143}, {\"data\": \"2021-06-23\", \"casos_confirmados\": 308, \"media_movel\": 225.71428571428572}, {\"data\": \"2021-06-24\", \"casos_confirmados\": 184, \"media_movel\": 208.0}, {\"data\": \"2021-06-25\", \"casos_confirmados\": 120, \"media_movel\": 191.14285714285714}, {\"data\": \"2021-06-26\", \"casos_confirmados\": 279, \"media_movel\": 205.85714285714286}, {\"data\": \"2021-06-27\", \"casos_confirmados\": 50, \"media_movel\": 205.42857142857142}, {\"data\": \"2021-06-28\", \"casos_confirmados\": 205, \"media_movel\": 189.14285714285714}, {\"data\": \"2021-06-29\", \"casos_confirmados\": 28, \"media_movel\": 167.71428571428572}, {\"data\": \"2021-06-30\", \"casos_confirmados\": 191, \"media_movel\": 151.0}, {\"data\": \"2021-07-01\", \"casos_confirmados\": 308, \"media_movel\": 168.71428571428572}, {\"data\": \"2021-07-03\", \"casos_confirmados\": 454, \"media_movel\": 216.42857142857142}, {\"data\": \"2021-07-04\", \"casos_confirmados\": 13, \"media_movel\": 178.42857142857142}, {\"data\": \"2021-07-05\", \"casos_confirmados\": 157, \"media_movel\": 193.71428571428572}, {\"data\": \"2021-07-06\", \"casos_confirmados\": 194, \"media_movel\": 192.14285714285714}, {\"data\": \"2021-07-07\", \"casos_confirmados\": 172, \"media_movel\": 212.71428571428572}, {\"data\": \"2021-07-08\", \"casos_confirmados\": 181, \"media_movel\": 211.28571428571428}, {\"data\": \"2021-07-09\", \"casos_confirmados\": 230, \"media_movel\": 200.14285714285714}, {\"data\": \"2021-07-10\", \"casos_confirmados\": 135, \"media_movel\": 154.57142857142858}, {\"data\": \"2021-07-11\", \"casos_confirmados\": 41, \"media_movel\": 158.57142857142858}, {\"data\": \"2021-07-12\", \"casos_confirmados\": 83, \"media_movel\": 148.0}, {\"data\": \"2021-07-13\", \"casos_confirmados\": 237, \"media_movel\": 154.14285714285714}, {\"data\": \"2021-07-14\", \"casos_confirmados\": 182, \"media_movel\": 155.57142857142858}, {\"data\": \"2021-07-15\", \"casos_confirmados\": 156, \"media_movel\": 152.0}, {\"data\": \"2021-07-16\", \"casos_confirmados\": 149, \"media_movel\": 140.42857142857142}, {\"data\": \"2021-07-17\", \"casos_confirmados\": 86, \"media_movel\": 133.42857142857142}, {\"data\": \"2021-07-18\", \"casos_confirmados\": 58, \"media_movel\": 135.85714285714286}, {\"data\": \"2021-07-19\", \"casos_confirmados\": 31, \"media_movel\": 128.42857142857142}, {\"data\": \"2021-07-20\", \"casos_confirmados\": 118, \"media_movel\": 111.42857142857143}, {\"data\": \"2021-07-21\", \"casos_confirmados\": 202, \"media_movel\": 114.28571428571429}, {\"data\": \"2021-07-22\", \"casos_confirmados\": 332, \"media_movel\": 139.42857142857142}, {\"data\": \"2021-07-23\", \"casos_confirmados\": 41, \"media_movel\": 124.0}, {\"data\": \"2021-07-24\", \"casos_confirmados\": 256, \"media_movel\": 148.28571428571428}, {\"data\": \"2021-07-25\", \"casos_confirmados\": 15, \"media_movel\": 142.14285714285714}, {\"data\": \"2021-07-26\", \"casos_confirmados\": 84, \"media_movel\": 149.71428571428572}, {\"data\": \"2021-07-27\", \"casos_confirmados\": 219, \"media_movel\": 164.14285714285714}, {\"data\": \"2021-07-28\", \"casos_confirmados\": 121, \"media_movel\": 152.57142857142858}, {\"data\": \"2021-07-29\", \"casos_confirmados\": 146, \"media_movel\": 126.0}, {\"data\": \"2021-07-30\", \"casos_confirmados\": 92, \"media_movel\": 133.28571428571428}, {\"data\": \"2021-07-31\", \"casos_confirmados\": 88, \"media_movel\": 109.28571428571429}, {\"data\": \"2021-08-01\", \"casos_confirmados\": 31, \"media_movel\": 111.57142857142857}, {\"data\": \"2021-08-02\", \"casos_confirmados\": 135, \"media_movel\": 118.85714285714286}, {\"data\": \"2021-08-03\", \"casos_confirmados\": 39, \"media_movel\": 93.14285714285714}, {\"data\": \"2021-08-04\", \"casos_confirmados\": 113, \"media_movel\": 92.0}, {\"data\": \"2021-08-05\", \"casos_confirmados\": 38, \"media_movel\": 76.57142857142857}, {\"data\": \"2021-08-06\", \"casos_confirmados\": 74, \"media_movel\": 74.0}, {\"data\": \"2021-08-07\", \"casos_confirmados\": 44, \"media_movel\": 67.71428571428571}, {\"data\": \"2021-08-08\", \"casos_confirmados\": 4, \"media_movel\": 63.857142857142854}, {\"data\": \"2021-08-09\", \"casos_confirmados\": 122, \"media_movel\": 62.0}, {\"data\": \"2021-08-10\", \"casos_confirmados\": 130, \"media_movel\": 75.0}, {\"data\": \"2021-08-11\", \"casos_confirmados\": 60, \"media_movel\": 67.42857142857143}, {\"data\": \"2021-08-12\", \"casos_confirmados\": 82, \"media_movel\": 73.71428571428571}, {\"data\": \"2021-08-13\", \"casos_confirmados\": 100, \"media_movel\": 77.42857142857143}, {\"data\": \"2021-08-14\", \"casos_confirmados\": 49, \"media_movel\": 78.14285714285714}, {\"data\": \"2021-08-15\", \"casos_confirmados\": 59, \"media_movel\": 86.0}, {\"data\": \"2021-08-16\", \"casos_confirmados\": 78, \"media_movel\": 79.71428571428571}, {\"data\": \"2021-08-17\", \"casos_confirmados\": 204, \"media_movel\": 90.28571428571429}, {\"data\": \"2021-08-18\", \"casos_confirmados\": 109, \"media_movel\": 97.28571428571429}, {\"data\": \"2021-08-19\", \"casos_confirmados\": 74, \"media_movel\": 96.14285714285714}, {\"data\": \"2021-08-20\", \"casos_confirmados\": 148, \"media_movel\": 103.0}, {\"data\": \"2021-08-21\", \"casos_confirmados\": 47, \"media_movel\": 102.71428571428571}, {\"data\": \"2021-08-22\", \"casos_confirmados\": 60, \"media_movel\": 102.85714285714286}, {\"data\": \"2021-08-23\", \"casos_confirmados\": 73, \"media_movel\": 102.14285714285714}, {\"data\": \"2021-08-24\", \"casos_confirmados\": 68, \"media_movel\": 82.71428571428571}, {\"data\": \"2021-08-25\", \"casos_confirmados\": 44, \"media_movel\": 73.42857142857143}, {\"data\": \"2021-08-26\", \"casos_confirmados\": 180, \"media_movel\": 88.57142857142857}, {\"data\": \"2021-08-27\", \"casos_confirmados\": 101, \"media_movel\": 81.85714285714286}, {\"data\": \"2021-08-28\", \"casos_confirmados\": 50, \"media_movel\": 82.28571428571429}, {\"data\": \"2021-08-29\", \"casos_confirmados\": 74, \"media_movel\": 84.28571428571429}, {\"data\": \"2021-08-30\", \"casos_confirmados\": 103, \"media_movel\": 88.57142857142857}, {\"data\": \"2021-08-31\", \"casos_confirmados\": 130, \"media_movel\": 97.42857142857143}]}}, {\"mode\": \"vega-lite\"});\n",
       "</script>"
      ],
      "text/plain": [
       "alt.LayerChart(...)"
      ]
     },
     "execution_count": 13,
     "metadata": {},
     "output_type": "execute_result"
    }
   ],
   "source": [
    "graph_comp_casosPorDia = graph_df_casosPorDia + graph_dm_casosPorDia\n",
    "graph_comp_casosPorDia.properties(\n",
    "    title='Casos Confirmados Por Dia (Comparação)'\n",
    ")"
   ]
  },
  {
   "cell_type": "code",
   "execution_count": 14,
   "metadata": {},
   "outputs": [
    {
     "data": {
      "text/html": [
       "\n",
       "<div id=\"altair-viz-0d05e8cc9c204b17a8cad076ae450e4b\"></div>\n",
       "<script type=\"text/javascript\">\n",
       "  (function(spec, embedOpt){\n",
       "    let outputDiv = document.currentScript.previousElementSibling;\n",
       "    if (outputDiv.id !== \"altair-viz-0d05e8cc9c204b17a8cad076ae450e4b\") {\n",
       "      outputDiv = document.getElementById(\"altair-viz-0d05e8cc9c204b17a8cad076ae450e4b\");\n",
       "    }\n",
       "    const paths = {\n",
       "      \"vega\": \"https://cdn.jsdelivr.net/npm//vega@5?noext\",\n",
       "      \"vega-lib\": \"https://cdn.jsdelivr.net/npm//vega-lib?noext\",\n",
       "      \"vega-lite\": \"https://cdn.jsdelivr.net/npm//vega-lite@4.8.1?noext\",\n",
       "      \"vega-embed\": \"https://cdn.jsdelivr.net/npm//vega-embed@6?noext\",\n",
       "    };\n",
       "\n",
       "    function loadScript(lib) {\n",
       "      return new Promise(function(resolve, reject) {\n",
       "        var s = document.createElement('script');\n",
       "        s.src = paths[lib];\n",
       "        s.async = true;\n",
       "        s.onload = () => resolve(paths[lib]);\n",
       "        s.onerror = () => reject(`Error loading script: ${paths[lib]}`);\n",
       "        document.getElementsByTagName(\"head\")[0].appendChild(s);\n",
       "      });\n",
       "    }\n",
       "\n",
       "    function showError(err) {\n",
       "      outputDiv.innerHTML = `<div class=\"error\" style=\"color:red;\">${err}</div>`;\n",
       "      throw err;\n",
       "    }\n",
       "\n",
       "    function displayChart(vegaEmbed) {\n",
       "      vegaEmbed(outputDiv, spec, embedOpt)\n",
       "        .catch(err => showError(`Javascript Error: ${err.message}<br>This usually means there's a typo in your chart specification. See the javascript console for the full traceback.`));\n",
       "    }\n",
       "\n",
       "    if(typeof define === \"function\" && define.amd) {\n",
       "      requirejs.config({paths});\n",
       "      require([\"vega-embed\"], displayChart, err => showError(`Error loading script: ${err.message}`));\n",
       "    } else if (typeof vegaEmbed === \"function\") {\n",
       "      displayChart(vegaEmbed);\n",
       "    } else {\n",
       "      loadScript(\"vega\")\n",
       "        .then(() => loadScript(\"vega-lite\"))\n",
       "        .then(() => loadScript(\"vega-embed\"))\n",
       "        .catch(showError)\n",
       "        .then(() => displayChart(vegaEmbed));\n",
       "    }\n",
       "  })({\"config\": {\"view\": {\"continuousWidth\": 400, \"continuousHeight\": 300}}, \"layer\": [{\"data\": {\"name\": \"data-d5e6717e4374ac02fe77e35c38ad1ac2\"}, \"mark\": {\"type\": \"line\", \"point\": true}, \"encoding\": {\"color\": {\"value\": \"orange\"}, \"x\": {\"type\": \"temporal\", \"field\": \"data\", \"title\": \"Data\"}, \"y\": {\"type\": \"quantitative\", \"field\": \"media_movel\", \"title\": \"Casos Confirmados\"}}}, {\"data\": {\"name\": \"data-cf5ddfb61f08b0d6ca7df7ae03d4128f\"}, \"mark\": {\"type\": \"line\", \"point\": true}, \"encoding\": {\"color\": {\"value\": \"black\"}, \"x\": {\"type\": \"temporal\", \"field\": \"data\", \"title\": \"Data\"}, \"y\": {\"type\": \"quantitative\", \"field\": \"media_movel\", \"title\": \"Casos Confirmados\"}}}], \"title\": \"M\\u00e9dia Movel de Casos Confirmados por Dia (Compara\\u00e7\\u00e3o)\", \"width\": 800, \"$schema\": \"https://vega.github.io/schema/vega-lite/v4.8.1.json\", \"datasets\": {\"data-d5e6717e4374ac02fe77e35c38ad1ac2\": [{\"data\": \"2021-06-01\", \"casos_confirmados\": 171, \"media_movel\": null}, {\"data\": \"2021-06-02\", \"casos_confirmados\": 168, \"media_movel\": null}, {\"data\": \"2021-06-03\", \"casos_confirmados\": 318, \"media_movel\": null}, {\"data\": \"2021-06-04\", \"casos_confirmados\": 256, \"media_movel\": null}, {\"data\": \"2021-06-05\", \"casos_confirmados\": 261, \"media_movel\": null}, {\"data\": \"2021-06-06\", \"casos_confirmados\": 230, \"media_movel\": null}, {\"data\": \"2021-06-07\", \"casos_confirmados\": 238, \"media_movel\": 234.57142857142858}, {\"data\": \"2021-06-08\", \"casos_confirmados\": 85, \"media_movel\": 222.28571428571428}, {\"data\": \"2021-06-09\", \"casos_confirmados\": 97, \"media_movel\": 212.14285714285714}, {\"data\": \"2021-06-10\", \"casos_confirmados\": 607, \"media_movel\": 253.42857142857142}, {\"data\": \"2021-06-11\", \"casos_confirmados\": 281, \"media_movel\": 257.0}, {\"data\": \"2021-06-12\", \"casos_confirmados\": 251, \"media_movel\": 255.57142857142858}, {\"data\": \"2021-06-13\", \"casos_confirmados\": 221, \"media_movel\": 254.28571428571428}, {\"data\": \"2021-06-14\", \"casos_confirmados\": 369, \"media_movel\": 273.0}, {\"data\": \"2021-06-15\", \"casos_confirmados\": 262, \"media_movel\": 298.2857142857143}, {\"data\": \"2021-06-16\", \"casos_confirmados\": 262, \"media_movel\": 321.85714285714283}, {\"data\": \"2021-06-17\", \"casos_confirmados\": 295, \"media_movel\": 277.2857142857143}, {\"data\": \"2021-06-18\", \"casos_confirmados\": 227, \"media_movel\": 269.57142857142856}, {\"data\": \"2021-06-19\", \"casos_confirmados\": 321, \"media_movel\": 279.57142857142856}, {\"data\": \"2021-06-20\", \"casos_confirmados\": 282, \"media_movel\": 288.2857142857143}, {\"data\": \"2021-06-21\", \"casos_confirmados\": 143, \"media_movel\": 256.0}, {\"data\": \"2021-06-22\", \"casos_confirmados\": 197, \"media_movel\": 246.71428571428572}, {\"data\": \"2021-06-23\", \"casos_confirmados\": 270, \"media_movel\": 247.85714285714286}, {\"data\": \"2021-06-24\", \"casos_confirmados\": 203, \"media_movel\": 234.71428571428572}, {\"data\": \"2021-06-25\", \"casos_confirmados\": 343, \"media_movel\": 251.28571428571428}, {\"data\": \"2021-06-26\", \"casos_confirmados\": 319, \"media_movel\": 251.0}, {\"data\": \"2021-06-27\", \"casos_confirmados\": 336, \"media_movel\": 258.7142857142857}, {\"data\": \"2021-06-28\", \"casos_confirmados\": 206, \"media_movel\": 267.7142857142857}, {\"data\": \"2021-06-29\", \"casos_confirmados\": 372, \"media_movel\": 292.7142857142857}, {\"data\": \"2021-06-30\", \"casos_confirmados\": 189, \"media_movel\": 281.14285714285717}, {\"data\": \"2021-07-01\", \"casos_confirmados\": 85, \"media_movel\": 264.2857142857143}, {\"data\": \"2021-07-02\", \"casos_confirmados\": 186, \"media_movel\": 241.85714285714286}, {\"data\": \"2021-07-03\", \"casos_confirmados\": 232, \"media_movel\": 229.42857142857142}, {\"data\": \"2021-07-04\", \"casos_confirmados\": 219, \"media_movel\": 212.71428571428572}, {\"data\": \"2021-07-05\", \"casos_confirmados\": 87, \"media_movel\": 195.71428571428572}, {\"data\": \"2021-07-06\", \"casos_confirmados\": 49, \"media_movel\": 149.57142857142858}, {\"data\": \"2021-07-07\", \"casos_confirmados\": 214, \"media_movel\": 153.14285714285714}, {\"data\": \"2021-07-08\", \"casos_confirmados\": 146, \"media_movel\": 161.85714285714286}, {\"data\": \"2021-07-09\", \"casos_confirmados\": 145, \"media_movel\": 156.0}, {\"data\": \"2021-07-10\", \"casos_confirmados\": 191, \"media_movel\": 150.14285714285714}, {\"data\": \"2021-07-11\", \"casos_confirmados\": 116, \"media_movel\": 135.42857142857142}, {\"data\": \"2021-07-12\", \"casos_confirmados\": 80, \"media_movel\": 134.42857142857142}, {\"data\": \"2021-07-13\", \"casos_confirmados\": 2, \"media_movel\": 127.71428571428571}, {\"data\": \"2021-07-14\", \"casos_confirmados\": 190, \"media_movel\": 124.28571428571429}, {\"data\": \"2021-07-15\", \"casos_confirmados\": 198, \"media_movel\": 131.71428571428572}, {\"data\": \"2021-07-16\", \"casos_confirmados\": 138, \"media_movel\": 130.71428571428572}, {\"data\": \"2021-07-17\", \"casos_confirmados\": 184, \"media_movel\": 129.71428571428572}, {\"data\": \"2021-07-18\", \"casos_confirmados\": 83, \"media_movel\": 125.0}, {\"data\": \"2021-07-19\", \"casos_confirmados\": 62, \"media_movel\": 122.42857142857143}, {\"data\": \"2021-07-20\", \"casos_confirmados\": 82, \"media_movel\": 133.85714285714286}, {\"data\": \"2021-07-21\", \"casos_confirmados\": 80, \"media_movel\": 118.14285714285714}, {\"data\": \"2021-07-22\", \"casos_confirmados\": 215, \"media_movel\": 120.57142857142857}, {\"data\": \"2021-07-23\", \"casos_confirmados\": 139, \"media_movel\": 120.71428571428571}, {\"data\": \"2021-07-24\", \"casos_confirmados\": 72, \"media_movel\": 104.71428571428571}, {\"data\": \"2021-07-25\", \"casos_confirmados\": 125, \"media_movel\": 110.71428571428571}, {\"data\": \"2021-07-26\", \"casos_confirmados\": 52, \"media_movel\": 109.28571428571429}, {\"data\": \"2021-07-27\", \"casos_confirmados\": 39, \"media_movel\": 103.14285714285714}, {\"data\": \"2021-07-28\", \"casos_confirmados\": 106, \"media_movel\": 106.85714285714286}, {\"data\": \"2021-07-29\", \"casos_confirmados\": 189, \"media_movel\": 103.14285714285714}, {\"data\": \"2021-07-30\", \"casos_confirmados\": 137, \"media_movel\": 102.85714285714286}, {\"data\": \"2021-07-31\", \"casos_confirmados\": 92, \"media_movel\": 105.71428571428571}, {\"data\": \"2021-08-01\", \"casos_confirmados\": 96, \"media_movel\": 101.57142857142857}, {\"data\": \"2021-08-02\", \"casos_confirmados\": 30, \"media_movel\": 98.42857142857143}, {\"data\": \"2021-08-03\", \"casos_confirmados\": 15, \"media_movel\": 95.0}, {\"data\": \"2021-08-04\", \"casos_confirmados\": 123, \"media_movel\": 97.42857142857143}, {\"data\": \"2021-08-05\", \"casos_confirmados\": 114, \"media_movel\": 86.71428571428571}, {\"data\": \"2021-08-06\", \"casos_confirmados\": 92, \"media_movel\": 80.28571428571429}, {\"data\": \"2021-08-07\", \"casos_confirmados\": 69, \"media_movel\": 77.0}, {\"data\": \"2021-08-08\", \"casos_confirmados\": 51, \"media_movel\": 70.57142857142857}, {\"data\": \"2021-08-09\", \"casos_confirmados\": 19, \"media_movel\": 69.0}, {\"data\": \"2021-08-10\", \"casos_confirmados\": 23, \"media_movel\": 70.14285714285714}, {\"data\": \"2021-08-11\", \"casos_confirmados\": 122, \"media_movel\": 70.0}, {\"data\": \"2021-08-12\", \"casos_confirmados\": 85, \"media_movel\": 65.85714285714286}, {\"data\": \"2021-08-13\", \"casos_confirmados\": 59, \"media_movel\": 61.142857142857146}, {\"data\": \"2021-08-14\", \"casos_confirmados\": 104, \"media_movel\": 66.14285714285714}, {\"data\": \"2021-08-15\", \"casos_confirmados\": 95, \"media_movel\": 72.42857142857143}, {\"data\": \"2021-08-16\", \"casos_confirmados\": 27, \"media_movel\": 73.57142857142857}, {\"data\": \"2021-08-17\", \"casos_confirmados\": 43, \"media_movel\": 76.42857142857143}, {\"data\": \"2021-08-18\", \"casos_confirmados\": 166, \"media_movel\": 82.71428571428571}, {\"data\": \"2021-08-19\", \"casos_confirmados\": 129, \"media_movel\": 89.0}, {\"data\": \"2021-08-20\", \"casos_confirmados\": 86, \"media_movel\": 92.85714285714286}, {\"data\": \"2021-08-21\", \"casos_confirmados\": 136, \"media_movel\": 97.42857142857143}, {\"data\": \"2021-08-22\", \"casos_confirmados\": 85, \"media_movel\": 96.0}, {\"data\": \"2021-08-23\", \"casos_confirmados\": 32, \"media_movel\": 96.71428571428571}, {\"data\": \"2021-08-24\", \"casos_confirmados\": 71, \"media_movel\": 100.71428571428571}, {\"data\": \"2021-08-25\", \"casos_confirmados\": 18, \"media_movel\": 79.57142857142857}, {\"data\": \"2021-08-26\", \"casos_confirmados\": 190, \"media_movel\": 88.28571428571429}, {\"data\": \"2021-08-27\", \"casos_confirmados\": 76, \"media_movel\": 86.85714285714286}, {\"data\": \"2021-08-28\", \"casos_confirmados\": 70, \"media_movel\": 77.42857142857143}, {\"data\": \"2021-08-29\", \"casos_confirmados\": 48, \"media_movel\": 72.14285714285714}, {\"data\": \"2021-08-30\", \"casos_confirmados\": 52, \"media_movel\": 75.0}, {\"data\": \"2021-08-31\", \"casos_confirmados\": 32, \"media_movel\": 69.42857142857143}], \"data-cf5ddfb61f08b0d6ca7df7ae03d4128f\": [{\"data\": \"2021-06-01\", \"casos_confirmados\": 120, \"media_movel\": null}, {\"data\": \"2021-06-02\", \"casos_confirmados\": 553, \"media_movel\": null}, {\"data\": \"2021-06-03\", \"casos_confirmados\": 367, \"media_movel\": null}, {\"data\": \"2021-06-04\", \"casos_confirmados\": 229, \"media_movel\": null}, {\"data\": \"2021-06-05\", \"casos_confirmados\": 368, \"media_movel\": null}, {\"data\": \"2021-06-06\", \"casos_confirmados\": 27, \"media_movel\": null}, {\"data\": \"2021-06-07\", \"casos_confirmados\": 22, \"media_movel\": 240.85714285714286}, {\"data\": \"2021-06-08\", \"casos_confirmados\": 62, \"media_movel\": 232.57142857142858}, {\"data\": \"2021-06-09\", \"casos_confirmados\": 39, \"media_movel\": 159.14285714285714}, {\"data\": \"2021-06-10\", \"casos_confirmados\": 1315, \"media_movel\": 294.57142857142856}, {\"data\": \"2021-06-11\", \"casos_confirmados\": 377, \"media_movel\": 315.7142857142857}, {\"data\": \"2021-06-12\", \"casos_confirmados\": 311, \"media_movel\": 307.57142857142856}, {\"data\": \"2021-06-13\", \"casos_confirmados\": 56, \"media_movel\": 311.7142857142857}, {\"data\": \"2021-06-14\", \"casos_confirmados\": 208, \"media_movel\": 338.2857142857143}, {\"data\": \"2021-06-15\", \"casos_confirmados\": 158, \"media_movel\": 352.0}, {\"data\": \"2021-06-16\", \"casos_confirmados\": 557, \"media_movel\": 426.0}, {\"data\": \"2021-06-17\", \"casos_confirmados\": 308, \"media_movel\": 282.14285714285717}, {\"data\": \"2021-06-18\", \"casos_confirmados\": 238, \"media_movel\": 262.2857142857143}, {\"data\": \"2021-06-19\", \"casos_confirmados\": 176, \"media_movel\": 243.0}, {\"data\": \"2021-06-20\", \"casos_confirmados\": 53, \"media_movel\": 242.57142857142858}, {\"data\": \"2021-06-21\", \"casos_confirmados\": 319, \"media_movel\": 258.42857142857144}, {\"data\": \"2021-06-22\", \"casos_confirmados\": 178, \"media_movel\": 261.2857142857143}, {\"data\": \"2021-06-23\", \"casos_confirmados\": 308, \"media_movel\": 225.71428571428572}, {\"data\": \"2021-06-24\", \"casos_confirmados\": 184, \"media_movel\": 208.0}, {\"data\": \"2021-06-25\", \"casos_confirmados\": 120, \"media_movel\": 191.14285714285714}, {\"data\": \"2021-06-26\", \"casos_confirmados\": 279, \"media_movel\": 205.85714285714286}, {\"data\": \"2021-06-27\", \"casos_confirmados\": 50, \"media_movel\": 205.42857142857142}, {\"data\": \"2021-06-28\", \"casos_confirmados\": 205, \"media_movel\": 189.14285714285714}, {\"data\": \"2021-06-29\", \"casos_confirmados\": 28, \"media_movel\": 167.71428571428572}, {\"data\": \"2021-06-30\", \"casos_confirmados\": 191, \"media_movel\": 151.0}, {\"data\": \"2021-07-01\", \"casos_confirmados\": 308, \"media_movel\": 168.71428571428572}, {\"data\": \"2021-07-03\", \"casos_confirmados\": 454, \"media_movel\": 216.42857142857142}, {\"data\": \"2021-07-04\", \"casos_confirmados\": 13, \"media_movel\": 178.42857142857142}, {\"data\": \"2021-07-05\", \"casos_confirmados\": 157, \"media_movel\": 193.71428571428572}, {\"data\": \"2021-07-06\", \"casos_confirmados\": 194, \"media_movel\": 192.14285714285714}, {\"data\": \"2021-07-07\", \"casos_confirmados\": 172, \"media_movel\": 212.71428571428572}, {\"data\": \"2021-07-08\", \"casos_confirmados\": 181, \"media_movel\": 211.28571428571428}, {\"data\": \"2021-07-09\", \"casos_confirmados\": 230, \"media_movel\": 200.14285714285714}, {\"data\": \"2021-07-10\", \"casos_confirmados\": 135, \"media_movel\": 154.57142857142858}, {\"data\": \"2021-07-11\", \"casos_confirmados\": 41, \"media_movel\": 158.57142857142858}, {\"data\": \"2021-07-12\", \"casos_confirmados\": 83, \"media_movel\": 148.0}, {\"data\": \"2021-07-13\", \"casos_confirmados\": 237, \"media_movel\": 154.14285714285714}, {\"data\": \"2021-07-14\", \"casos_confirmados\": 182, \"media_movel\": 155.57142857142858}, {\"data\": \"2021-07-15\", \"casos_confirmados\": 156, \"media_movel\": 152.0}, {\"data\": \"2021-07-16\", \"casos_confirmados\": 149, \"media_movel\": 140.42857142857142}, {\"data\": \"2021-07-17\", \"casos_confirmados\": 86, \"media_movel\": 133.42857142857142}, {\"data\": \"2021-07-18\", \"casos_confirmados\": 58, \"media_movel\": 135.85714285714286}, {\"data\": \"2021-07-19\", \"casos_confirmados\": 31, \"media_movel\": 128.42857142857142}, {\"data\": \"2021-07-20\", \"casos_confirmados\": 118, \"media_movel\": 111.42857142857143}, {\"data\": \"2021-07-21\", \"casos_confirmados\": 202, \"media_movel\": 114.28571428571429}, {\"data\": \"2021-07-22\", \"casos_confirmados\": 332, \"media_movel\": 139.42857142857142}, {\"data\": \"2021-07-23\", \"casos_confirmados\": 41, \"media_movel\": 124.0}, {\"data\": \"2021-07-24\", \"casos_confirmados\": 256, \"media_movel\": 148.28571428571428}, {\"data\": \"2021-07-25\", \"casos_confirmados\": 15, \"media_movel\": 142.14285714285714}, {\"data\": \"2021-07-26\", \"casos_confirmados\": 84, \"media_movel\": 149.71428571428572}, {\"data\": \"2021-07-27\", \"casos_confirmados\": 219, \"media_movel\": 164.14285714285714}, {\"data\": \"2021-07-28\", \"casos_confirmados\": 121, \"media_movel\": 152.57142857142858}, {\"data\": \"2021-07-29\", \"casos_confirmados\": 146, \"media_movel\": 126.0}, {\"data\": \"2021-07-30\", \"casos_confirmados\": 92, \"media_movel\": 133.28571428571428}, {\"data\": \"2021-07-31\", \"casos_confirmados\": 88, \"media_movel\": 109.28571428571429}, {\"data\": \"2021-08-01\", \"casos_confirmados\": 31, \"media_movel\": 111.57142857142857}, {\"data\": \"2021-08-02\", \"casos_confirmados\": 135, \"media_movel\": 118.85714285714286}, {\"data\": \"2021-08-03\", \"casos_confirmados\": 39, \"media_movel\": 93.14285714285714}, {\"data\": \"2021-08-04\", \"casos_confirmados\": 113, \"media_movel\": 92.0}, {\"data\": \"2021-08-05\", \"casos_confirmados\": 38, \"media_movel\": 76.57142857142857}, {\"data\": \"2021-08-06\", \"casos_confirmados\": 74, \"media_movel\": 74.0}, {\"data\": \"2021-08-07\", \"casos_confirmados\": 44, \"media_movel\": 67.71428571428571}, {\"data\": \"2021-08-08\", \"casos_confirmados\": 4, \"media_movel\": 63.857142857142854}, {\"data\": \"2021-08-09\", \"casos_confirmados\": 122, \"media_movel\": 62.0}, {\"data\": \"2021-08-10\", \"casos_confirmados\": 130, \"media_movel\": 75.0}, {\"data\": \"2021-08-11\", \"casos_confirmados\": 60, \"media_movel\": 67.42857142857143}, {\"data\": \"2021-08-12\", \"casos_confirmados\": 82, \"media_movel\": 73.71428571428571}, {\"data\": \"2021-08-13\", \"casos_confirmados\": 100, \"media_movel\": 77.42857142857143}, {\"data\": \"2021-08-14\", \"casos_confirmados\": 49, \"media_movel\": 78.14285714285714}, {\"data\": \"2021-08-15\", \"casos_confirmados\": 59, \"media_movel\": 86.0}, {\"data\": \"2021-08-16\", \"casos_confirmados\": 78, \"media_movel\": 79.71428571428571}, {\"data\": \"2021-08-17\", \"casos_confirmados\": 204, \"media_movel\": 90.28571428571429}, {\"data\": \"2021-08-18\", \"casos_confirmados\": 109, \"media_movel\": 97.28571428571429}, {\"data\": \"2021-08-19\", \"casos_confirmados\": 74, \"media_movel\": 96.14285714285714}, {\"data\": \"2021-08-20\", \"casos_confirmados\": 148, \"media_movel\": 103.0}, {\"data\": \"2021-08-21\", \"casos_confirmados\": 47, \"media_movel\": 102.71428571428571}, {\"data\": \"2021-08-22\", \"casos_confirmados\": 60, \"media_movel\": 102.85714285714286}, {\"data\": \"2021-08-23\", \"casos_confirmados\": 73, \"media_movel\": 102.14285714285714}, {\"data\": \"2021-08-24\", \"casos_confirmados\": 68, \"media_movel\": 82.71428571428571}, {\"data\": \"2021-08-25\", \"casos_confirmados\": 44, \"media_movel\": 73.42857142857143}, {\"data\": \"2021-08-26\", \"casos_confirmados\": 180, \"media_movel\": 88.57142857142857}, {\"data\": \"2021-08-27\", \"casos_confirmados\": 101, \"media_movel\": 81.85714285714286}, {\"data\": \"2021-08-28\", \"casos_confirmados\": 50, \"media_movel\": 82.28571428571429}, {\"data\": \"2021-08-29\", \"casos_confirmados\": 74, \"media_movel\": 84.28571428571429}, {\"data\": \"2021-08-30\", \"casos_confirmados\": 103, \"media_movel\": 88.57142857142857}, {\"data\": \"2021-08-31\", \"casos_confirmados\": 130, \"media_movel\": 97.42857142857143}]}}, {\"mode\": \"vega-lite\"});\n",
       "</script>"
      ],
      "text/plain": [
       "alt.LayerChart(...)"
      ]
     },
     "execution_count": 14,
     "metadata": {},
     "output_type": "execute_result"
    }
   ],
   "source": [
    "graph_comp_mediamovel = graph_df_casosMedMovel + graph_dm_casosMedMovel\n",
    "graph_comp_mediamovel.properties(\n",
    "    width=800,\n",
    "    title='Média Movel de Casos Confirmados por Dia (Comparação)'\n",
    ")"
   ]
  },
  {
   "cell_type": "code",
   "execution_count": 15,
   "metadata": {},
   "outputs": [],
   "source": [
    "df_casosTotais = dados_federais_campina['casosAcumulado'].iloc[-1]\n",
    "dm_casosTotais = dados_municipais_campina['confirmadosAcumulados'].iloc[-1]"
   ]
  },
  {
   "cell_type": "code",
   "execution_count": 16,
   "metadata": {},
   "outputs": [],
   "source": [
    "totalCasos = pd.DataFrame({\n",
    "    'base': ['Federal', 'Municipal'],\n",
    "    'total': [df_casosTotais, dm_casosTotais]\n",
    "})"
   ]
  },
  {
   "cell_type": "code",
   "execution_count": 17,
   "metadata": {},
   "outputs": [
    {
     "data": {
      "text/html": [
       "\n",
       "<div id=\"altair-viz-c4727a2ad4bf48298f97f1a044ee6a71\"></div>\n",
       "<script type=\"text/javascript\">\n",
       "  (function(spec, embedOpt){\n",
       "    let outputDiv = document.currentScript.previousElementSibling;\n",
       "    if (outputDiv.id !== \"altair-viz-c4727a2ad4bf48298f97f1a044ee6a71\") {\n",
       "      outputDiv = document.getElementById(\"altair-viz-c4727a2ad4bf48298f97f1a044ee6a71\");\n",
       "    }\n",
       "    const paths = {\n",
       "      \"vega\": \"https://cdn.jsdelivr.net/npm//vega@5?noext\",\n",
       "      \"vega-lib\": \"https://cdn.jsdelivr.net/npm//vega-lib?noext\",\n",
       "      \"vega-lite\": \"https://cdn.jsdelivr.net/npm//vega-lite@4.8.1?noext\",\n",
       "      \"vega-embed\": \"https://cdn.jsdelivr.net/npm//vega-embed@6?noext\",\n",
       "    };\n",
       "\n",
       "    function loadScript(lib) {\n",
       "      return new Promise(function(resolve, reject) {\n",
       "        var s = document.createElement('script');\n",
       "        s.src = paths[lib];\n",
       "        s.async = true;\n",
       "        s.onload = () => resolve(paths[lib]);\n",
       "        s.onerror = () => reject(`Error loading script: ${paths[lib]}`);\n",
       "        document.getElementsByTagName(\"head\")[0].appendChild(s);\n",
       "      });\n",
       "    }\n",
       "\n",
       "    function showError(err) {\n",
       "      outputDiv.innerHTML = `<div class=\"error\" style=\"color:red;\">${err}</div>`;\n",
       "      throw err;\n",
       "    }\n",
       "\n",
       "    function displayChart(vegaEmbed) {\n",
       "      vegaEmbed(outputDiv, spec, embedOpt)\n",
       "        .catch(err => showError(`Javascript Error: ${err.message}<br>This usually means there's a typo in your chart specification. See the javascript console for the full traceback.`));\n",
       "    }\n",
       "\n",
       "    if(typeof define === \"function\" && define.amd) {\n",
       "      requirejs.config({paths});\n",
       "      require([\"vega-embed\"], displayChart, err => showError(`Error loading script: ${err.message}`));\n",
       "    } else if (typeof vegaEmbed === \"function\") {\n",
       "      displayChart(vegaEmbed);\n",
       "    } else {\n",
       "      loadScript(\"vega\")\n",
       "        .then(() => loadScript(\"vega-lite\"))\n",
       "        .then(() => loadScript(\"vega-embed\"))\n",
       "        .catch(showError)\n",
       "        .then(() => displayChart(vegaEmbed));\n",
       "    }\n",
       "  })({\"config\": {\"view\": {\"continuousWidth\": 400, \"continuousHeight\": 300}}, \"data\": {\"name\": \"data-1f8da57e6196371d2d5ece44340794a1\"}, \"mark\": {\"type\": \"bar\", \"size\": 30}, \"encoding\": {\"color\": {\"type\": \"nominal\", \"field\": \"base\", \"title\": \"Inst\\u00e2ncia\"}, \"x\": {\"type\": \"nominal\", \"field\": \"base\", \"title\": \"Base dos Dados\"}, \"y\": {\"type\": \"quantitative\", \"field\": \"total\", \"title\": \"N\\u00ba Total de Casos Confirmados\"}}, \"title\": \"Total de Casos Confirmados (Compara\\u00e7\\u00e3o)\", \"width\": 150, \"$schema\": \"https://vega.github.io/schema/vega-lite/v4.8.1.json\", \"datasets\": {\"data-1f8da57e6196371d2d5ece44340794a1\": [{\"base\": \"Federal\", \"total\": 43367}, {\"base\": \"Municipal\", \"total\": 46049}]}}, {\"mode\": \"vega-lite\"});\n",
       "</script>"
      ],
      "text/plain": [
       "alt.Chart(...)"
      ]
     },
     "execution_count": 17,
     "metadata": {},
     "output_type": "execute_result"
    }
   ],
   "source": [
    "alt.Chart(totalCasos).mark_bar(size=30).encode(\n",
    "    alt.X('base:N', title='Base dos Dados'),\n",
    "    alt.Y('total:Q', title='Nº Total de Casos Confirmados'),\n",
    "    alt.Color('base:N', title='Instância')\n",
    ").properties(\n",
    "    width=150,\n",
    "    title='Total de Casos Confirmados (Comparação)'\n",
    ")"
   ]
  }
 ],
 "metadata": {
  "interpreter": {
   "hash": "ac523b2dbf241262502338c4748dbe4206e583902f7cc2a831713042ba4f1b3b"
  },
  "kernelspec": {
   "display_name": "Python 3.9.5 64-bit",
   "language": "python",
   "name": "python3"
  },
  "language_info": {
   "codemirror_mode": {
    "name": "ipython",
    "version": 3
   },
   "file_extension": ".py",
   "mimetype": "text/x-python",
   "name": "python",
   "nbconvert_exporter": "python",
   "pygments_lexer": "ipython3",
   "version": "3.9.5"
  },
  "orig_nbformat": 4
 },
 "nbformat": 4,
 "nbformat_minor": 2
}
