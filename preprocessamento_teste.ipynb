{
 "cells": [
  {
   "cell_type": "code",
   "execution_count": 48,
   "metadata": {},
   "outputs": [],
   "source": [
    "import pandas as pd\n",
    "import numpy as np\n",
    "import altair as alt"
   ]
  },
  {
   "cell_type": "markdown",
   "metadata": {},
   "source": [
    "# Lendo os dados brutos"
   ]
  },
  {
   "cell_type": "code",
   "execution_count": 49,
   "metadata": {},
   "outputs": [
    {
     "name": "stderr",
     "output_type": "stream",
     "text": [
      "C:\\Users\\perei\\AppData\\Local\\Programs\\Python\\Python39\\lib\\site-packages\\IPython\\core\\interactiveshell.py:3441: FutureWarning: The error_bad_lines argument has been deprecated and will be removed in a future version.\n",
      "\n",
      "\n",
      "  exec(code_obj, self.user_global_ns, self.user_ns)\n"
     ]
    }
   ],
   "source": [
    "dados_municipais_campina = pd.read_csv(\"data\\\\dados_campina - dados_sem_vacinacao.csv\", encoding='utf-8', index_col='data')\n",
    "dados_federais_campina = pd.read_csv(\"data\\\\dados_vacinacao_campina.csv\", encoding='UTF-8', error_bad_lines=False)"
   ]
  },
  {
   "cell_type": "markdown",
   "metadata": {},
   "source": [
    "# Tratamento dos dados federais"
   ]
  },
  {
   "cell_type": "markdown",
   "metadata": {},
   "source": [
    "## Colhendo a amostra de interesse dos dados e Agrupando os dados pela dose aplicada\n",
    "\n",
    "Período de interesse: 2021-06-01 até 2021-08-01"
   ]
  },
  {
   "cell_type": "code",
   "execution_count": 50,
   "metadata": {},
   "outputs": [],
   "source": [
    "dados_federais_campina = dados_federais_campina.loc[dados_federais_campina['vacina_dataaplicacao'] >= '2021-06-01']\n",
    "dados_federais_campina = dados_federais_campina.loc[dados_federais_campina['vacina_dataaplicacao'] <= '2021-08-31']\n",
    "\n",
    "dados_federais_campina1Dose = dados_federais_campina.loc[dados_federais_campina['vacina_descricao_dose'] == '1ª Dose']\n",
    "dados_federais_campina1Dose = dados_federais_campina1Dose['vacina_dataaplicacao'].value_counts()\n",
    "\n",
    "dados_federais_campina2Dose = dados_federais_campina.loc[dados_federais_campina['vacina_descricao_dose'] == '2ª Dose']\n",
    "dados_federais_campina2Dose = dados_federais_campina2Dose['vacina_dataaplicacao'].value_counts()\n",
    "\n",
    "dados_federais_campinaDoseUnica = dados_federais_campina.loc[dados_federais_campina['vacina_descricao_dose'] == 'Dose ']\n",
    "dados_federais_campinaDoseUnica = dados_federais_campinaDoseUnica['vacina_dataaplicacao'].value_counts()"
   ]
  },
  {
   "cell_type": "markdown",
   "metadata": {},
   "source": [
    "# Ordenando os dados pela data e removendo datas dissonantes"
   ]
  },
  {
   "cell_type": "code",
   "execution_count": 51,
   "metadata": {},
   "outputs": [
    {
     "data": {
      "text/plain": [
       "628"
      ]
     },
     "execution_count": 51,
     "metadata": {},
     "output_type": "execute_result"
    }
   ],
   "source": [
    "federais_vacina1Dose     = dados_federais_campina1Dose.sort_index()\n",
    "federais_vacina2Dose     = dados_federais_campina2Dose.sort_index()\n",
    "federais_vacinaDoseUnica = dados_federais_campinaDoseUnica.sort_index()\n",
    "\n",
    "federais_vacina1Dose.pop('2021-07-02')\n",
    "federais_vacina2Dose.pop('2021-07-02')"
   ]
  },
  {
   "cell_type": "code",
   "execution_count": 52,
   "metadata": {},
   "outputs": [],
   "source": [
    "federais_vacina1Dose = pd.DataFrame({\n",
    "  'Data': federais_vacina1Dose.keys().tolist(),\n",
    "  'Vacinados': federais_vacina1Dose.values.tolist()\n",
    "})\n",
    "\n",
    "federais_vacina2Dose = pd.DataFrame({\n",
    "  'Data': federais_vacina2Dose.keys().tolist(),\n",
    "  'Vacinados': federais_vacina2Dose.values.tolist()\n",
    "})\n",
    "\n",
    "federais_vacinaDoseUnica = pd.DataFrame({\n",
    "  'Data': federais_vacinaDoseUnica.keys().tolist(),\n",
    "  'Vacinados': federais_vacinaDoseUnica.values.tolist()\n",
    "})"
   ]
  },
  {
   "cell_type": "code",
   "execution_count": 53,
   "metadata": {},
   "outputs": [
    {
     "data": {
      "text/plain": [
       "0.0"
      ]
     },
     "execution_count": 53,
     "metadata": {},
     "output_type": "execute_result"
    }
   ],
   "source": [
    "dados_municipais_campina = dados_municipais_campina.loc[dados_municipais_campina.index >= '2021-06-01']\n",
    "municipal_vacina1Dose     = dados_municipais_campina['vacinadosDose1Dia']\n",
    "municipal_vacina2Dose     = dados_municipais_campina['vacinadosDose2Dia']\n",
    "municipal_vacinaDoseUnica = dados_municipais_campina['vacinadosDoseUnicaDia']\n",
    "\n",
    "municipal_vacina1Dose.pop('2021-08-22')\n",
    "municipal_vacina2Dose.pop('2021-08-22')\n",
    "municipal_vacinaDoseUnica.pop('2021-08-22')"
   ]
  },
  {
   "cell_type": "code",
   "execution_count": 54,
   "metadata": {},
   "outputs": [],
   "source": [
    "municipal_vacina1Dose = pd.DataFrame({\n",
    "  'Data': municipal_vacina1Dose.keys().tolist(),\n",
    "  'Vacinados': municipal_vacina1Dose.values.tolist()\n",
    "})\n",
    "\n",
    "municipal_vacina2Dose = pd.DataFrame({\n",
    "  'Data': municipal_vacina2Dose.keys().tolist(),\n",
    "  'Vacinados': municipal_vacina2Dose.values.tolist()\n",
    "})\n",
    "\n",
    "municipal_vacinaDoseUnica = pd.DataFrame({\n",
    "  'Data': municipal_vacinaDoseUnica.keys().tolist(),\n",
    "  'Vacinados': municipal_vacinaDoseUnica.values.tolist()\n",
    "})"
   ]
  },
  {
   "cell_type": "code",
   "execution_count": 55,
   "metadata": {},
   "outputs": [
    {
     "name": "stdout",
     "output_type": "stream",
     "text": [
      "Estatística descritiva aplicação da primeira dose:\n",
      "[PN] -> Painel Nacional\n",
      "[CG] -> Campina Grande\n",
      "Intervalo de 2021-06-01 até 2021-08-31\n",
      "     média     mediana  variância   DP\n",
      "[PN] 1783.33    1092.50   4407800.81    2099.48\n",
      "[CG] 1891.91    720.00   7039410.08    2653.19\n"
     ]
    },
    {
     "name": "stderr",
     "output_type": "stream",
     "text": [
      "C:\\Users\\perei\\AppData\\Local\\Temp/ipykernel_1876/1075293720.py:4: FutureWarning: Dropping of nuisance columns in DataFrame reductions (with 'numeric_only=None') is deprecated; in a future version this will raise TypeError.  Select only valid columns before calling the reduction.\n",
      "  print(\"[PN] %.2f    %.2f   %.2f    %.2f\" % (federais_vacina1Dose.mean(), federais_vacina1Dose.median(), federais_vacina1Dose.var(), federais_vacina1Dose.std()))\n",
      "C:\\Users\\perei\\AppData\\Local\\Temp/ipykernel_1876/1075293720.py:4: FutureWarning: Dropping of nuisance columns in DataFrame reductions (with 'numeric_only=None') is deprecated; in a future version this will raise TypeError.  Select only valid columns before calling the reduction.\n",
      "  print(\"[PN] %.2f    %.2f   %.2f    %.2f\" % (federais_vacina1Dose.mean(), federais_vacina1Dose.median(), federais_vacina1Dose.var(), federais_vacina1Dose.std()))\n",
      "C:\\Users\\perei\\AppData\\Local\\Temp/ipykernel_1876/1075293720.py:5: FutureWarning: Dropping of nuisance columns in DataFrame reductions (with 'numeric_only=None') is deprecated; in a future version this will raise TypeError.  Select only valid columns before calling the reduction.\n",
      "  print(\"[CG] %.2f    %.2f   %.2f    %.2f\" % (municipal_vacina1Dose.mean(), municipal_vacina1Dose.median(), municipal_vacina1Dose.var(), municipal_vacina1Dose.std()))\n",
      "C:\\Users\\perei\\AppData\\Local\\Temp/ipykernel_1876/1075293720.py:5: FutureWarning: Dropping of nuisance columns in DataFrame reductions (with 'numeric_only=None') is deprecated; in a future version this will raise TypeError.  Select only valid columns before calling the reduction.\n",
      "  print(\"[CG] %.2f    %.2f   %.2f    %.2f\" % (municipal_vacina1Dose.mean(), municipal_vacina1Dose.median(), municipal_vacina1Dose.var(), municipal_vacina1Dose.std()))\n"
     ]
    }
   ],
   "source": [
    "print(\"Estatística descritiva aplicação da primeira dose:\\n[PN] -> Painel Nacional\\n[CG] -> Campina Grande\")\n",
    "print(\"Intervalo de 2021-06-01 até 2021-08-31\")\n",
    "print(\"     média     mediana  variância   DP\")\n",
    "print(\"[PN] %.2f    %.2f   %.2f    %.2f\" % (federais_vacina1Dose.mean(), federais_vacina1Dose.median(), federais_vacina1Dose.var(), federais_vacina1Dose.std()))\n",
    "print(\"[CG] %.2f    %.2f   %.2f    %.2f\" % (municipal_vacina1Dose.mean(), municipal_vacina1Dose.median(), municipal_vacina1Dose.var(), municipal_vacina1Dose.std()))"
   ]
  },
  {
   "cell_type": "code",
   "execution_count": 56,
   "metadata": {},
   "outputs": [
    {
     "name": "stdout",
     "output_type": "stream",
     "text": [
      "Estatística descritiva para aplicação da segunda dose:\n",
      "[PN] -> Painel Nacional\n",
      "[CG] -> Campina Grande\n",
      "Intervalo de 2021-06-01 até 2021-08-31\n",
      "     média     mediana   variância   DP\n",
      "[PN] 668.83      494.50      352570.63        593.78\n",
      "[CG] 669.89      575.50      442754.50        665.40\n"
     ]
    },
    {
     "name": "stderr",
     "output_type": "stream",
     "text": [
      "C:\\Users\\perei\\AppData\\Local\\Temp/ipykernel_1876/3866841099.py:4: FutureWarning: Dropping of nuisance columns in DataFrame reductions (with 'numeric_only=None') is deprecated; in a future version this will raise TypeError.  Select only valid columns before calling the reduction.\n",
      "  print(\"[PN] %.2f      %.2f      %.2f        %.2f\" % (federais_vacina2Dose.mean(), federais_vacina2Dose.median(), federais_vacina2Dose.var(), federais_vacina2Dose.std()))\n",
      "C:\\Users\\perei\\AppData\\Local\\Temp/ipykernel_1876/3866841099.py:4: FutureWarning: Dropping of nuisance columns in DataFrame reductions (with 'numeric_only=None') is deprecated; in a future version this will raise TypeError.  Select only valid columns before calling the reduction.\n",
      "  print(\"[PN] %.2f      %.2f      %.2f        %.2f\" % (federais_vacina2Dose.mean(), federais_vacina2Dose.median(), federais_vacina2Dose.var(), federais_vacina2Dose.std()))\n",
      "C:\\Users\\perei\\AppData\\Local\\Temp/ipykernel_1876/3866841099.py:5: FutureWarning: Dropping of nuisance columns in DataFrame reductions (with 'numeric_only=None') is deprecated; in a future version this will raise TypeError.  Select only valid columns before calling the reduction.\n",
      "  print(\"[CG] %.2f      %.2f      %.2f        %.2f\" % (municipal_vacina2Dose.mean(), municipal_vacina2Dose.median(), municipal_vacina2Dose.var(), municipal_vacina2Dose.std()))\n",
      "C:\\Users\\perei\\AppData\\Local\\Temp/ipykernel_1876/3866841099.py:5: FutureWarning: Dropping of nuisance columns in DataFrame reductions (with 'numeric_only=None') is deprecated; in a future version this will raise TypeError.  Select only valid columns before calling the reduction.\n",
      "  print(\"[CG] %.2f      %.2f      %.2f        %.2f\" % (municipal_vacina2Dose.mean(), municipal_vacina2Dose.median(), municipal_vacina2Dose.var(), municipal_vacina2Dose.std()))\n"
     ]
    }
   ],
   "source": [
    "print(\"Estatística descritiva para aplicação da segunda dose:\\n[PN] -> Painel Nacional\\n[CG] -> Campina Grande\")\n",
    "print(\"Intervalo de 2021-06-01 até 2021-08-31\")\n",
    "print(\"     média     mediana   variância   DP\")\n",
    "print(\"[PN] %.2f      %.2f      %.2f        %.2f\" % (federais_vacina2Dose.mean(), federais_vacina2Dose.median(), federais_vacina2Dose.var(), federais_vacina2Dose.std()))\n",
    "print(\"[CG] %.2f      %.2f      %.2f        %.2f\" % (municipal_vacina2Dose.mean(), municipal_vacina2Dose.median(), municipal_vacina2Dose.var(), municipal_vacina2Dose.std()))"
   ]
  },
  {
   "cell_type": "code",
   "execution_count": 57,
   "metadata": {},
   "outputs": [
    {
     "name": "stdout",
     "output_type": "stream",
     "text": [
      "Estatística descritiva para aplicação da dose única:\n",
      "[PN] -> Painel Nacional\n",
      "[CG] -> Campina Grande\n",
      "Intervalo de 2021-06-22 até 2021-08-31\n",
      "     média     mediana   variância   DP\n",
      "[PN] 19.74      5.00      1625.47        40.32\n",
      "[CG] 100.97      0.00      210914.85        459.25\n"
     ]
    },
    {
     "name": "stderr",
     "output_type": "stream",
     "text": [
      "C:\\Users\\perei\\AppData\\Local\\Temp/ipykernel_1876/1299569346.py:4: FutureWarning: Dropping of nuisance columns in DataFrame reductions (with 'numeric_only=None') is deprecated; in a future version this will raise TypeError.  Select only valid columns before calling the reduction.\n",
      "  print(\"[PN] %.2f      %.2f      %.2f        %.2f\" % (federais_vacinaDoseUnica.mean(), federais_vacinaDoseUnica.median(), federais_vacinaDoseUnica.var(), federais_vacinaDoseUnica.std()))\n",
      "C:\\Users\\perei\\AppData\\Local\\Temp/ipykernel_1876/1299569346.py:4: FutureWarning: Dropping of nuisance columns in DataFrame reductions (with 'numeric_only=None') is deprecated; in a future version this will raise TypeError.  Select only valid columns before calling the reduction.\n",
      "  print(\"[PN] %.2f      %.2f      %.2f        %.2f\" % (federais_vacinaDoseUnica.mean(), federais_vacinaDoseUnica.median(), federais_vacinaDoseUnica.var(), federais_vacinaDoseUnica.std()))\n",
      "C:\\Users\\perei\\AppData\\Local\\Temp/ipykernel_1876/1299569346.py:5: FutureWarning: Dropping of nuisance columns in DataFrame reductions (with 'numeric_only=None') is deprecated; in a future version this will raise TypeError.  Select only valid columns before calling the reduction.\n",
      "  print(\"[CG] %.2f      %.2f      %.2f        %.2f\" % (municipal_vacinaDoseUnica.mean(), municipal_vacinaDoseUnica.median(), municipal_vacinaDoseUnica.var(), municipal_vacinaDoseUnica.std()))\n",
      "C:\\Users\\perei\\AppData\\Local\\Temp/ipykernel_1876/1299569346.py:5: FutureWarning: Dropping of nuisance columns in DataFrame reductions (with 'numeric_only=None') is deprecated; in a future version this will raise TypeError.  Select only valid columns before calling the reduction.\n",
      "  print(\"[CG] %.2f      %.2f      %.2f        %.2f\" % (municipal_vacinaDoseUnica.mean(), municipal_vacinaDoseUnica.median(), municipal_vacinaDoseUnica.var(), municipal_vacinaDoseUnica.std()))\n"
     ]
    }
   ],
   "source": [
    "print(\"Estatística descritiva para aplicação da dose única:\\n[PN] -> Painel Nacional\\n[CG] -> Campina Grande\")\n",
    "print(\"Intervalo de 2021-06-22 até 2021-08-31\")\n",
    "print(\"     média     mediana   variância   DP\")\n",
    "print(\"[PN] %.2f      %.2f      %.2f        %.2f\" % (federais_vacinaDoseUnica.mean(), federais_vacinaDoseUnica.median(), federais_vacinaDoseUnica.var(), federais_vacinaDoseUnica.std()))\n",
    "print(\"[CG] %.2f      %.2f      %.2f        %.2f\" % (municipal_vacinaDoseUnica.mean(), municipal_vacinaDoseUnica.median(), municipal_vacinaDoseUnica.var(), municipal_vacinaDoseUnica.std()))"
   ]
  },
  {
   "cell_type": "code",
   "execution_count": 58,
   "metadata": {},
   "outputs": [
    {
     "data": {
      "text/html": [
       "\n",
       "<div id=\"altair-viz-7a34d47f2ff349f099a19d5fcfd33f5f\"></div>\n",
       "<script type=\"text/javascript\">\n",
       "  (function(spec, embedOpt){\n",
       "    let outputDiv = document.currentScript.previousElementSibling;\n",
       "    if (outputDiv.id !== \"altair-viz-7a34d47f2ff349f099a19d5fcfd33f5f\") {\n",
       "      outputDiv = document.getElementById(\"altair-viz-7a34d47f2ff349f099a19d5fcfd33f5f\");\n",
       "    }\n",
       "    const paths = {\n",
       "      \"vega\": \"https://cdn.jsdelivr.net/npm//vega@5?noext\",\n",
       "      \"vega-lib\": \"https://cdn.jsdelivr.net/npm//vega-lib?noext\",\n",
       "      \"vega-lite\": \"https://cdn.jsdelivr.net/npm//vega-lite@4.8.1?noext\",\n",
       "      \"vega-embed\": \"https://cdn.jsdelivr.net/npm//vega-embed@6?noext\",\n",
       "    };\n",
       "\n",
       "    function loadScript(lib) {\n",
       "      return new Promise(function(resolve, reject) {\n",
       "        var s = document.createElement('script');\n",
       "        s.src = paths[lib];\n",
       "        s.async = true;\n",
       "        s.onload = () => resolve(paths[lib]);\n",
       "        s.onerror = () => reject(`Error loading script: ${paths[lib]}`);\n",
       "        document.getElementsByTagName(\"head\")[0].appendChild(s);\n",
       "      });\n",
       "    }\n",
       "\n",
       "    function showError(err) {\n",
       "      outputDiv.innerHTML = `<div class=\"error\" style=\"color:red;\">${err}</div>`;\n",
       "      throw err;\n",
       "    }\n",
       "\n",
       "    function displayChart(vegaEmbed) {\n",
       "      vegaEmbed(outputDiv, spec, embedOpt)\n",
       "        .catch(err => showError(`Javascript Error: ${err.message}<br>This usually means there's a typo in your chart specification. See the javascript console for the full traceback.`));\n",
       "    }\n",
       "\n",
       "    if(typeof define === \"function\" && define.amd) {\n",
       "      requirejs.config({paths});\n",
       "      require([\"vega-embed\"], displayChart, err => showError(`Error loading script: ${err.message}`));\n",
       "    } else if (typeof vegaEmbed === \"function\") {\n",
       "      displayChart(vegaEmbed);\n",
       "    } else {\n",
       "      loadScript(\"vega\")\n",
       "        .then(() => loadScript(\"vega-lite\"))\n",
       "        .then(() => loadScript(\"vega-embed\"))\n",
       "        .catch(showError)\n",
       "        .then(() => displayChart(vegaEmbed));\n",
       "    }\n",
       "  })({\"config\": {\"view\": {\"continuousWidth\": 400, \"continuousHeight\": 300}}, \"data\": {\"name\": \"data-f86cf4264050a4c92d2e358f62d3e62b\"}, \"mark\": \"line\", \"encoding\": {\"x\": {\"type\": \"nominal\", \"field\": \"Data\", \"title\": \"Data\"}, \"y\": {\"type\": \"quantitative\", \"field\": \"Vacinados\", \"title\": \"N\\u00ba de Vacinados com 1\\u00ba Dose por Dia\"}}, \"$schema\": \"https://vega.github.io/schema/vega-lite/v4.8.1.json\", \"datasets\": {\"data-f86cf4264050a4c92d2e358f62d3e62b\": [{\"Data\": \"2021-06-01\", \"Vacinados\": 2379}, {\"Data\": \"2021-06-02\", \"Vacinados\": 1775}, {\"Data\": \"2021-06-03\", \"Vacinados\": 373}, {\"Data\": \"2021-06-04\", \"Vacinados\": 2117}, {\"Data\": \"2021-06-05\", \"Vacinados\": 1550}, {\"Data\": \"2021-06-06\", \"Vacinados\": 275}, {\"Data\": \"2021-06-07\", \"Vacinados\": 2995}, {\"Data\": \"2021-06-08\", \"Vacinados\": 1949}, {\"Data\": \"2021-06-09\", \"Vacinados\": 1059}, {\"Data\": \"2021-06-10\", \"Vacinados\": 1867}, {\"Data\": \"2021-06-11\", \"Vacinados\": 4523}, {\"Data\": \"2021-06-12\", \"Vacinados\": 453}, {\"Data\": \"2021-06-13\", \"Vacinados\": 965}, {\"Data\": \"2021-06-14\", \"Vacinados\": 1680}, {\"Data\": \"2021-06-15\", \"Vacinados\": 83}, {\"Data\": \"2021-06-16\", \"Vacinados\": 61}, {\"Data\": \"2021-06-17\", \"Vacinados\": 75}, {\"Data\": \"2021-06-18\", \"Vacinados\": 7}, {\"Data\": \"2021-06-19\", \"Vacinados\": 1807}, {\"Data\": \"2021-06-20\", \"Vacinados\": 1126}, {\"Data\": \"2021-06-21\", \"Vacinados\": 1693}, {\"Data\": \"2021-06-22\", \"Vacinados\": 741}, {\"Data\": \"2021-06-23\", \"Vacinados\": 79}, {\"Data\": \"2021-06-24\", \"Vacinados\": 186}, {\"Data\": \"2021-06-25\", \"Vacinados\": 5019}, {\"Data\": \"2021-06-26\", \"Vacinados\": 2549}, {\"Data\": \"2021-06-27\", \"Vacinados\": 1141}, {\"Data\": \"2021-06-28\", \"Vacinados\": 1301}, {\"Data\": \"2021-06-29\", \"Vacinados\": 159}, {\"Data\": \"2021-06-30\", \"Vacinados\": 267}, {\"Data\": \"2021-07-01\", \"Vacinados\": 3490}, {\"Data\": \"2021-07-03\", \"Vacinados\": 1325}, {\"Data\": \"2021-07-04\", \"Vacinados\": 2531}, {\"Data\": \"2021-07-05\", \"Vacinados\": 4325}, {\"Data\": \"2021-07-06\", \"Vacinados\": 715}, {\"Data\": \"2021-07-07\", \"Vacinados\": 104}, {\"Data\": \"2021-07-08\", \"Vacinados\": 129}, {\"Data\": \"2021-07-09\", \"Vacinados\": 3000}, {\"Data\": \"2021-07-10\", \"Vacinados\": 875}, {\"Data\": \"2021-07-11\", \"Vacinados\": 1}, {\"Data\": \"2021-07-12\", \"Vacinados\": 49}, {\"Data\": \"2021-07-13\", \"Vacinados\": 83}, {\"Data\": \"2021-07-14\", \"Vacinados\": 39}, {\"Data\": \"2021-07-15\", \"Vacinados\": 28}, {\"Data\": \"2021-07-16\", \"Vacinados\": 5592}, {\"Data\": \"2021-07-17\", \"Vacinados\": 4879}, {\"Data\": \"2021-07-18\", \"Vacinados\": 4907}, {\"Data\": \"2021-07-19\", \"Vacinados\": 6158}, {\"Data\": \"2021-07-20\", \"Vacinados\": 3900}, {\"Data\": \"2021-07-21\", \"Vacinados\": 1511}, {\"Data\": \"2021-07-22\", \"Vacinados\": 168}, {\"Data\": \"2021-07-23\", \"Vacinados\": 61}, {\"Data\": \"2021-07-24\", \"Vacinados\": 15}, {\"Data\": \"2021-07-25\", \"Vacinados\": 2}, {\"Data\": \"2021-07-26\", \"Vacinados\": 85}, {\"Data\": \"2021-07-27\", \"Vacinados\": 73}, {\"Data\": \"2021-07-28\", \"Vacinados\": 2284}, {\"Data\": \"2021-07-29\", \"Vacinados\": 1426}, {\"Data\": \"2021-07-30\", \"Vacinados\": 97}, {\"Data\": \"2021-07-31\", \"Vacinados\": 16}, {\"Data\": \"2021-08-01\", \"Vacinados\": 3510}, {\"Data\": \"2021-08-02\", \"Vacinados\": 5194}, {\"Data\": \"2021-08-03\", \"Vacinados\": 2604}, {\"Data\": \"2021-08-04\", \"Vacinados\": 40}, {\"Data\": \"2021-08-05\", \"Vacinados\": 43}, {\"Data\": \"2021-08-06\", \"Vacinados\": 8046}, {\"Data\": \"2021-08-07\", \"Vacinados\": 4699}, {\"Data\": \"2021-08-08\", \"Vacinados\": 8}, {\"Data\": \"2021-08-09\", \"Vacinados\": 96}, {\"Data\": \"2021-08-10\", \"Vacinados\": 7580}, {\"Data\": \"2021-08-11\", \"Vacinados\": 92}, {\"Data\": \"2021-08-12\", \"Vacinados\": 2162}, {\"Data\": \"2021-08-13\", \"Vacinados\": 42}, {\"Data\": \"2021-08-14\", \"Vacinados\": 4415}, {\"Data\": \"2021-08-15\", \"Vacinados\": 3235}, {\"Data\": \"2021-08-16\", \"Vacinados\": 7719}, {\"Data\": \"2021-08-17\", \"Vacinados\": 2161}, {\"Data\": \"2021-08-18\", \"Vacinados\": 89}, {\"Data\": \"2021-08-19\", \"Vacinados\": 23}, {\"Data\": \"2021-08-20\", \"Vacinados\": 5855}, {\"Data\": \"2021-08-21\", \"Vacinados\": 1207}, {\"Data\": \"2021-08-23\", \"Vacinados\": 4573}, {\"Data\": \"2021-08-24\", \"Vacinados\": 3325}, {\"Data\": \"2021-08-25\", \"Vacinados\": 32}, {\"Data\": \"2021-08-26\", \"Vacinados\": 85}, {\"Data\": \"2021-08-27\", \"Vacinados\": 5460}, {\"Data\": \"2021-08-28\", \"Vacinados\": 7}, {\"Data\": \"2021-08-29\", \"Vacinados\": 5}, {\"Data\": \"2021-08-30\", \"Vacinados\": 38}, {\"Data\": \"2021-08-31\", \"Vacinados\": 33}]}}, {\"mode\": \"vega-lite\"});\n",
       "</script>"
      ],
      "text/plain": [
       "alt.Chart(...)"
      ]
     },
     "execution_count": 58,
     "metadata": {},
     "output_type": "execute_result"
    }
   ],
   "source": [
    "alt.Chart(federais_vacina1Dose).mark_line().encode(\n",
    "    alt.X('Data', title='Data'),\n",
    "    alt.Y('Vacinados', title='Nº de Vacinados com 1º Dose por Dia')\n",
    ")"
   ]
  },
  {
   "cell_type": "code",
   "execution_count": 59,
   "metadata": {},
   "outputs": [
    {
     "data": {
      "text/html": [
       "\n",
       "<div id=\"altair-viz-e00d5e6b98c54a948d043900430613f9\"></div>\n",
       "<script type=\"text/javascript\">\n",
       "  (function(spec, embedOpt){\n",
       "    let outputDiv = document.currentScript.previousElementSibling;\n",
       "    if (outputDiv.id !== \"altair-viz-e00d5e6b98c54a948d043900430613f9\") {\n",
       "      outputDiv = document.getElementById(\"altair-viz-e00d5e6b98c54a948d043900430613f9\");\n",
       "    }\n",
       "    const paths = {\n",
       "      \"vega\": \"https://cdn.jsdelivr.net/npm//vega@5?noext\",\n",
       "      \"vega-lib\": \"https://cdn.jsdelivr.net/npm//vega-lib?noext\",\n",
       "      \"vega-lite\": \"https://cdn.jsdelivr.net/npm//vega-lite@4.8.1?noext\",\n",
       "      \"vega-embed\": \"https://cdn.jsdelivr.net/npm//vega-embed@6?noext\",\n",
       "    };\n",
       "\n",
       "    function loadScript(lib) {\n",
       "      return new Promise(function(resolve, reject) {\n",
       "        var s = document.createElement('script');\n",
       "        s.src = paths[lib];\n",
       "        s.async = true;\n",
       "        s.onload = () => resolve(paths[lib]);\n",
       "        s.onerror = () => reject(`Error loading script: ${paths[lib]}`);\n",
       "        document.getElementsByTagName(\"head\")[0].appendChild(s);\n",
       "      });\n",
       "    }\n",
       "\n",
       "    function showError(err) {\n",
       "      outputDiv.innerHTML = `<div class=\"error\" style=\"color:red;\">${err}</div>`;\n",
       "      throw err;\n",
       "    }\n",
       "\n",
       "    function displayChart(vegaEmbed) {\n",
       "      vegaEmbed(outputDiv, spec, embedOpt)\n",
       "        .catch(err => showError(`Javascript Error: ${err.message}<br>This usually means there's a typo in your chart specification. See the javascript console for the full traceback.`));\n",
       "    }\n",
       "\n",
       "    if(typeof define === \"function\" && define.amd) {\n",
       "      requirejs.config({paths});\n",
       "      require([\"vega-embed\"], displayChart, err => showError(`Error loading script: ${err.message}`));\n",
       "    } else if (typeof vegaEmbed === \"function\") {\n",
       "      displayChart(vegaEmbed);\n",
       "    } else {\n",
       "      loadScript(\"vega\")\n",
       "        .then(() => loadScript(\"vega-lite\"))\n",
       "        .then(() => loadScript(\"vega-embed\"))\n",
       "        .catch(showError)\n",
       "        .then(() => displayChart(vegaEmbed));\n",
       "    }\n",
       "  })({\"config\": {\"view\": {\"continuousWidth\": 400, \"continuousHeight\": 300}}, \"data\": {\"name\": \"data-9968da2292009c9a7707eefc84db1708\"}, \"mark\": \"line\", \"encoding\": {\"x\": {\"type\": \"nominal\", \"field\": \"Data\", \"title\": \"Data\"}, \"y\": {\"type\": \"quantitative\", \"field\": \"Vacinados\", \"title\": \"N\\u00ba de Vacinados com 2\\u00ba Dose por Dia\"}}, \"$schema\": \"https://vega.github.io/schema/vega-lite/v4.8.1.json\", \"datasets\": {\"data-9968da2292009c9a7707eefc84db1708\": [{\"Data\": \"2021-06-01\", \"Vacinados\": 180}, {\"Data\": \"2021-06-02\", \"Vacinados\": 70}, {\"Data\": \"2021-06-03\", \"Vacinados\": 146}, {\"Data\": \"2021-06-04\", \"Vacinados\": 1095}, {\"Data\": \"2021-06-05\", \"Vacinados\": 21}, {\"Data\": \"2021-06-06\", \"Vacinados\": 20}, {\"Data\": \"2021-06-07\", \"Vacinados\": 149}, {\"Data\": \"2021-06-08\", \"Vacinados\": 206}, {\"Data\": \"2021-06-09\", \"Vacinados\": 172}, {\"Data\": \"2021-06-10\", \"Vacinados\": 54}, {\"Data\": \"2021-06-11\", \"Vacinados\": 81}, {\"Data\": \"2021-06-12\", \"Vacinados\": 49}, {\"Data\": \"2021-06-13\", \"Vacinados\": 38}, {\"Data\": \"2021-06-14\", \"Vacinados\": 103}, {\"Data\": \"2021-06-15\", \"Vacinados\": 284}, {\"Data\": \"2021-06-16\", \"Vacinados\": 92}, {\"Data\": \"2021-06-17\", \"Vacinados\": 33}, {\"Data\": \"2021-06-18\", \"Vacinados\": 37}, {\"Data\": \"2021-06-19\", \"Vacinados\": 120}, {\"Data\": \"2021-06-20\", \"Vacinados\": 79}, {\"Data\": \"2021-06-21\", \"Vacinados\": 343}, {\"Data\": \"2021-06-22\", \"Vacinados\": 239}, {\"Data\": \"2021-06-23\", \"Vacinados\": 307}, {\"Data\": \"2021-06-24\", \"Vacinados\": 305}, {\"Data\": \"2021-06-25\", \"Vacinados\": 82}, {\"Data\": \"2021-06-26\", \"Vacinados\": 1186}, {\"Data\": \"2021-06-27\", \"Vacinados\": 983}, {\"Data\": \"2021-06-28\", \"Vacinados\": 934}, {\"Data\": \"2021-06-29\", \"Vacinados\": 1181}, {\"Data\": \"2021-06-30\", \"Vacinados\": 236}, {\"Data\": \"2021-07-01\", \"Vacinados\": 176}, {\"Data\": \"2021-07-03\", \"Vacinados\": 476}, {\"Data\": \"2021-07-04\", \"Vacinados\": 91}, {\"Data\": \"2021-07-05\", \"Vacinados\": 504}, {\"Data\": \"2021-07-06\", \"Vacinados\": 429}, {\"Data\": \"2021-07-07\", \"Vacinados\": 392}, {\"Data\": \"2021-07-08\", \"Vacinados\": 447}, {\"Data\": \"2021-07-09\", \"Vacinados\": 172}, {\"Data\": \"2021-07-10\", \"Vacinados\": 182}, {\"Data\": \"2021-07-11\", \"Vacinados\": 197}, {\"Data\": \"2021-07-12\", \"Vacinados\": 1849}, {\"Data\": \"2021-07-13\", \"Vacinados\": 757}, {\"Data\": \"2021-07-14\", \"Vacinados\": 515}, {\"Data\": \"2021-07-15\", \"Vacinados\": 494}, {\"Data\": \"2021-07-16\", \"Vacinados\": 407}, {\"Data\": \"2021-07-17\", \"Vacinados\": 877}, {\"Data\": \"2021-07-18\", \"Vacinados\": 398}, {\"Data\": \"2021-07-19\", \"Vacinados\": 1799}, {\"Data\": \"2021-07-20\", \"Vacinados\": 1155}, {\"Data\": \"2021-07-21\", \"Vacinados\": 264}, {\"Data\": \"2021-07-22\", \"Vacinados\": 474}, {\"Data\": \"2021-07-23\", \"Vacinados\": 1237}, {\"Data\": \"2021-07-24\", \"Vacinados\": 1314}, {\"Data\": \"2021-07-25\", \"Vacinados\": 1}, {\"Data\": \"2021-07-26\", \"Vacinados\": 1571}, {\"Data\": \"2021-07-27\", \"Vacinados\": 1544}, {\"Data\": \"2021-07-28\", \"Vacinados\": 517}, {\"Data\": \"2021-07-29\", \"Vacinados\": 709}, {\"Data\": \"2021-07-30\", \"Vacinados\": 1051}, {\"Data\": \"2021-07-31\", \"Vacinados\": 795}, {\"Data\": \"2021-08-01\", \"Vacinados\": 204}, {\"Data\": \"2021-08-02\", \"Vacinados\": 660}, {\"Data\": \"2021-08-03\", \"Vacinados\": 586}, {\"Data\": \"2021-08-04\", \"Vacinados\": 477}, {\"Data\": \"2021-08-05\", \"Vacinados\": 520}, {\"Data\": \"2021-08-06\", \"Vacinados\": 990}, {\"Data\": \"2021-08-07\", \"Vacinados\": 653}, {\"Data\": \"2021-08-08\", \"Vacinados\": 680}, {\"Data\": \"2021-08-09\", \"Vacinados\": 1030}, {\"Data\": \"2021-08-10\", \"Vacinados\": 1987}, {\"Data\": \"2021-08-11\", \"Vacinados\": 708}, {\"Data\": \"2021-08-12\", \"Vacinados\": 494}, {\"Data\": \"2021-08-13\", \"Vacinados\": 1157}, {\"Data\": \"2021-08-14\", \"Vacinados\": 1135}, {\"Data\": \"2021-08-15\", \"Vacinados\": 351}, {\"Data\": \"2021-08-16\", \"Vacinados\": 1250}, {\"Data\": \"2021-08-17\", \"Vacinados\": 1376}, {\"Data\": \"2021-08-18\", \"Vacinados\": 2553}, {\"Data\": \"2021-08-19\", \"Vacinados\": 1085}, {\"Data\": \"2021-08-20\", \"Vacinados\": 931}, {\"Data\": \"2021-08-21\", \"Vacinados\": 733}, {\"Data\": \"2021-08-23\", \"Vacinados\": 2117}, {\"Data\": \"2021-08-24\", \"Vacinados\": 1925}, {\"Data\": \"2021-08-25\", \"Vacinados\": 2297}, {\"Data\": \"2021-08-26\", \"Vacinados\": 1561}, {\"Data\": \"2021-08-27\", \"Vacinados\": 544}, {\"Data\": \"2021-08-28\", \"Vacinados\": 495}, {\"Data\": \"2021-08-29\", \"Vacinados\": 2}, {\"Data\": \"2021-08-30\", \"Vacinados\": 1114}, {\"Data\": \"2021-08-31\", \"Vacinados\": 961}]}}, {\"mode\": \"vega-lite\"});\n",
       "</script>"
      ],
      "text/plain": [
       "alt.Chart(...)"
      ]
     },
     "execution_count": 59,
     "metadata": {},
     "output_type": "execute_result"
    }
   ],
   "source": [
    "alt.Chart(federais_vacina2Dose).mark_line().encode(\n",
    "    alt.X('Data', title='Data'),\n",
    "    alt.Y('Vacinados', title='Nº de Vacinados com 2º Dose por Dia')\n",
    ")"
   ]
  },
  {
   "cell_type": "code",
   "execution_count": 60,
   "metadata": {},
   "outputs": [
    {
     "data": {
      "text/html": [
       "\n",
       "<div id=\"altair-viz-c9ee863e406547ebb5578543b56df850\"></div>\n",
       "<script type=\"text/javascript\">\n",
       "  (function(spec, embedOpt){\n",
       "    let outputDiv = document.currentScript.previousElementSibling;\n",
       "    if (outputDiv.id !== \"altair-viz-c9ee863e406547ebb5578543b56df850\") {\n",
       "      outputDiv = document.getElementById(\"altair-viz-c9ee863e406547ebb5578543b56df850\");\n",
       "    }\n",
       "    const paths = {\n",
       "      \"vega\": \"https://cdn.jsdelivr.net/npm//vega@5?noext\",\n",
       "      \"vega-lib\": \"https://cdn.jsdelivr.net/npm//vega-lib?noext\",\n",
       "      \"vega-lite\": \"https://cdn.jsdelivr.net/npm//vega-lite@4.8.1?noext\",\n",
       "      \"vega-embed\": \"https://cdn.jsdelivr.net/npm//vega-embed@6?noext\",\n",
       "    };\n",
       "\n",
       "    function loadScript(lib) {\n",
       "      return new Promise(function(resolve, reject) {\n",
       "        var s = document.createElement('script');\n",
       "        s.src = paths[lib];\n",
       "        s.async = true;\n",
       "        s.onload = () => resolve(paths[lib]);\n",
       "        s.onerror = () => reject(`Error loading script: ${paths[lib]}`);\n",
       "        document.getElementsByTagName(\"head\")[0].appendChild(s);\n",
       "      });\n",
       "    }\n",
       "\n",
       "    function showError(err) {\n",
       "      outputDiv.innerHTML = `<div class=\"error\" style=\"color:red;\">${err}</div>`;\n",
       "      throw err;\n",
       "    }\n",
       "\n",
       "    function displayChart(vegaEmbed) {\n",
       "      vegaEmbed(outputDiv, spec, embedOpt)\n",
       "        .catch(err => showError(`Javascript Error: ${err.message}<br>This usually means there's a typo in your chart specification. See the javascript console for the full traceback.`));\n",
       "    }\n",
       "\n",
       "    if(typeof define === \"function\" && define.amd) {\n",
       "      requirejs.config({paths});\n",
       "      require([\"vega-embed\"], displayChart, err => showError(`Error loading script: ${err.message}`));\n",
       "    } else if (typeof vegaEmbed === \"function\") {\n",
       "      displayChart(vegaEmbed);\n",
       "    } else {\n",
       "      loadScript(\"vega\")\n",
       "        .then(() => loadScript(\"vega-lite\"))\n",
       "        .then(() => loadScript(\"vega-embed\"))\n",
       "        .catch(showError)\n",
       "        .then(() => displayChart(vegaEmbed));\n",
       "    }\n",
       "  })({\"config\": {\"view\": {\"continuousWidth\": 400, \"continuousHeight\": 300}}, \"data\": {\"name\": \"data-b5d7a02c42a2292f254c0064010d1985\"}, \"mark\": \"line\", \"encoding\": {\"x\": {\"type\": \"nominal\", \"field\": \"Data\", \"title\": \"Data\"}, \"y\": {\"type\": \"quantitative\", \"field\": \"Vacinados\", \"title\": \"N\\u00ba de Vacinados com Dose \\u00danica por Dia\"}}, \"$schema\": \"https://vega.github.io/schema/vega-lite/v4.8.1.json\", \"datasets\": {\"data-b5d7a02c42a2292f254c0064010d1985\": [{\"Data\": \"2021-06-25\", \"Vacinados\": 68}, {\"Data\": \"2021-06-26\", \"Vacinados\": 170}, {\"Data\": \"2021-06-27\", \"Vacinados\": 5}, {\"Data\": \"2021-06-28\", \"Vacinados\": 8}, {\"Data\": \"2021-06-29\", \"Vacinados\": 10}, {\"Data\": \"2021-06-30\", \"Vacinados\": 6}, {\"Data\": \"2021-07-01\", \"Vacinados\": 23}, {\"Data\": \"2021-07-04\", \"Vacinados\": 4}, {\"Data\": \"2021-07-05\", \"Vacinados\": 99}, {\"Data\": \"2021-07-06\", \"Vacinados\": 3}, {\"Data\": \"2021-07-07\", \"Vacinados\": 1}, {\"Data\": \"2021-07-09\", \"Vacinados\": 5}, {\"Data\": \"2021-07-12\", \"Vacinados\": 20}, {\"Data\": \"2021-07-13\", \"Vacinados\": 11}, {\"Data\": \"2021-07-18\", \"Vacinados\": 1}, {\"Data\": \"2021-08-07\", \"Vacinados\": 1}, {\"Data\": \"2021-08-10\", \"Vacinados\": 3}, {\"Data\": \"2021-08-11\", \"Vacinados\": 1}, {\"Data\": \"2021-08-18\", \"Vacinados\": 1}, {\"Data\": \"2021-08-19\", \"Vacinados\": 5}, {\"Data\": \"2021-08-24\", \"Vacinados\": 1}, {\"Data\": \"2021-08-26\", \"Vacinados\": 4}, {\"Data\": \"2021-08-30\", \"Vacinados\": 4}]}}, {\"mode\": \"vega-lite\"});\n",
       "</script>"
      ],
      "text/plain": [
       "alt.Chart(...)"
      ]
     },
     "execution_count": 60,
     "metadata": {},
     "output_type": "execute_result"
    }
   ],
   "source": [
    "alt.Chart(federais_vacinaDoseUnica).mark_line().encode(\n",
    "    alt.X('Data', title='Data'),\n",
    "    alt.Y('Vacinados', title='Nº de Vacinados com Dose Única por Dia')\n",
    ")"
   ]
  },
  {
   "cell_type": "code",
   "execution_count": 61,
   "metadata": {},
   "outputs": [
    {
     "data": {
      "text/html": [
       "\n",
       "<div id=\"altair-viz-b25cccf585c743fe85882a05280dda86\"></div>\n",
       "<script type=\"text/javascript\">\n",
       "  (function(spec, embedOpt){\n",
       "    let outputDiv = document.currentScript.previousElementSibling;\n",
       "    if (outputDiv.id !== \"altair-viz-b25cccf585c743fe85882a05280dda86\") {\n",
       "      outputDiv = document.getElementById(\"altair-viz-b25cccf585c743fe85882a05280dda86\");\n",
       "    }\n",
       "    const paths = {\n",
       "      \"vega\": \"https://cdn.jsdelivr.net/npm//vega@5?noext\",\n",
       "      \"vega-lib\": \"https://cdn.jsdelivr.net/npm//vega-lib?noext\",\n",
       "      \"vega-lite\": \"https://cdn.jsdelivr.net/npm//vega-lite@4.8.1?noext\",\n",
       "      \"vega-embed\": \"https://cdn.jsdelivr.net/npm//vega-embed@6?noext\",\n",
       "    };\n",
       "\n",
       "    function loadScript(lib) {\n",
       "      return new Promise(function(resolve, reject) {\n",
       "        var s = document.createElement('script');\n",
       "        s.src = paths[lib];\n",
       "        s.async = true;\n",
       "        s.onload = () => resolve(paths[lib]);\n",
       "        s.onerror = () => reject(`Error loading script: ${paths[lib]}`);\n",
       "        document.getElementsByTagName(\"head\")[0].appendChild(s);\n",
       "      });\n",
       "    }\n",
       "\n",
       "    function showError(err) {\n",
       "      outputDiv.innerHTML = `<div class=\"error\" style=\"color:red;\">${err}</div>`;\n",
       "      throw err;\n",
       "    }\n",
       "\n",
       "    function displayChart(vegaEmbed) {\n",
       "      vegaEmbed(outputDiv, spec, embedOpt)\n",
       "        .catch(err => showError(`Javascript Error: ${err.message}<br>This usually means there's a typo in your chart specification. See the javascript console for the full traceback.`));\n",
       "    }\n",
       "\n",
       "    if(typeof define === \"function\" && define.amd) {\n",
       "      requirejs.config({paths});\n",
       "      require([\"vega-embed\"], displayChart, err => showError(`Error loading script: ${err.message}`));\n",
       "    } else if (typeof vegaEmbed === \"function\") {\n",
       "      displayChart(vegaEmbed);\n",
       "    } else {\n",
       "      loadScript(\"vega\")\n",
       "        .then(() => loadScript(\"vega-lite\"))\n",
       "        .then(() => loadScript(\"vega-embed\"))\n",
       "        .catch(showError)\n",
       "        .then(() => displayChart(vegaEmbed));\n",
       "    }\n",
       "  })({\"config\": {\"view\": {\"continuousWidth\": 400, \"continuousHeight\": 300}}, \"data\": {\"name\": \"data-39ebdb7adc4a2b7fd54473170645af7c\"}, \"mark\": \"line\", \"encoding\": {\"x\": {\"type\": \"nominal\", \"field\": \"Data\", \"title\": \"Data\"}, \"y\": {\"type\": \"quantitative\", \"field\": \"Vacinados\", \"title\": \"N\\u00ba de Vacinados com 1\\u00ba Dose por Dia\"}}, \"$schema\": \"https://vega.github.io/schema/vega-lite/v4.8.1.json\", \"datasets\": {\"data-39ebdb7adc4a2b7fd54473170645af7c\": [{\"Data\": \"2021-06-01\", \"Vacinados\": 17.0}, {\"Data\": \"2021-06-02\", \"Vacinados\": 1420.0}, {\"Data\": \"2021-06-03\", \"Vacinados\": 279.0}, {\"Data\": \"2021-06-04\", \"Vacinados\": 1555.0}, {\"Data\": \"2021-06-05\", \"Vacinados\": 1352.0}, {\"Data\": \"2021-06-06\", \"Vacinados\": 290.0}, {\"Data\": \"2021-06-07\", \"Vacinados\": 0.0}, {\"Data\": \"2021-06-08\", \"Vacinados\": 4966.0}, {\"Data\": \"2021-06-09\", \"Vacinados\": 954.0}, {\"Data\": \"2021-06-10\", \"Vacinados\": 2794.0}, {\"Data\": \"2021-06-11\", \"Vacinados\": 3116.0}, {\"Data\": \"2021-06-12\", \"Vacinados\": 491.0}, {\"Data\": \"2021-06-13\", \"Vacinados\": 922.0}, {\"Data\": \"2021-06-14\", \"Vacinados\": 1200.0}, {\"Data\": \"2021-06-15\", \"Vacinados\": 66.0}, {\"Data\": \"2021-06-16\", \"Vacinados\": 57.0}, {\"Data\": \"2021-06-17\", \"Vacinados\": 5688.0}, {\"Data\": \"2021-06-18\", \"Vacinados\": 0.0}, {\"Data\": \"2021-06-19\", \"Vacinados\": 3338.0}, {\"Data\": \"2021-06-20\", \"Vacinados\": 771.0}, {\"Data\": \"2021-06-21\", \"Vacinados\": 216.0}, {\"Data\": \"2021-06-22\", \"Vacinados\": 323.0}, {\"Data\": \"2021-06-23\", \"Vacinados\": 0.0}, {\"Data\": \"2021-06-24\", \"Vacinados\": 494.0}, {\"Data\": \"2021-06-25\", \"Vacinados\": 669.0}, {\"Data\": \"2021-06-26\", \"Vacinados\": 88.0}, {\"Data\": \"2021-06-27\", \"Vacinados\": 23.0}, {\"Data\": \"2021-06-28\", \"Vacinados\": 166.0}, {\"Data\": \"2021-06-29\", \"Vacinados\": 0.0}, {\"Data\": \"2021-06-30\", \"Vacinados\": 7095.0}, {\"Data\": \"2021-07-01\", \"Vacinados\": 4398.0}, {\"Data\": \"2021-07-03\", \"Vacinados\": 4381.0}, {\"Data\": \"2021-07-04\", \"Vacinados\": 1241.0}, {\"Data\": \"2021-07-05\", \"Vacinados\": 794.0}, {\"Data\": \"2021-07-06\", \"Vacinados\": 11938.0}, {\"Data\": \"2021-07-07\", \"Vacinados\": 0.0}, {\"Data\": \"2021-07-08\", \"Vacinados\": 1379.0}, {\"Data\": \"2021-07-09\", \"Vacinados\": 2978.0}, {\"Data\": \"2021-07-10\", \"Vacinados\": 1300.0}, {\"Data\": \"2021-07-11\", \"Vacinados\": 0.0}, {\"Data\": \"2021-07-12\", \"Vacinados\": 23.0}, {\"Data\": \"2021-07-13\", \"Vacinados\": 0.0}, {\"Data\": \"2021-07-14\", \"Vacinados\": 35.0}, {\"Data\": \"2021-07-15\", \"Vacinados\": 8.0}, {\"Data\": \"2021-07-16\", \"Vacinados\": 2985.0}, {\"Data\": \"2021-07-17\", \"Vacinados\": 12383.0}, {\"Data\": \"2021-07-18\", \"Vacinados\": 8353.0}, {\"Data\": \"2021-07-19\", \"Vacinados\": 3148.0}, {\"Data\": \"2021-07-20\", \"Vacinados\": 3002.0}, {\"Data\": \"2021-07-21\", \"Vacinados\": 998.0}, {\"Data\": \"2021-07-22\", \"Vacinados\": 0.0}, {\"Data\": \"2021-07-23\", \"Vacinados\": 0.0}, {\"Data\": \"2021-07-24\", \"Vacinados\": 4.0}, {\"Data\": \"2021-07-25\", \"Vacinados\": 0.0}, {\"Data\": \"2021-07-26\", \"Vacinados\": 0.0}, {\"Data\": \"2021-07-27\", \"Vacinados\": 0.0}, {\"Data\": \"2021-07-28\", \"Vacinados\": 2851.0}, {\"Data\": \"2021-07-29\", \"Vacinados\": 1866.0}, {\"Data\": \"2021-07-30\", \"Vacinados\": 40.0}, {\"Data\": \"2021-07-31\", \"Vacinados\": 0.0}, {\"Data\": \"2021-08-01\", \"Vacinados\": 3499.0}, {\"Data\": \"2021-08-02\", \"Vacinados\": 4971.0}, {\"Data\": \"2021-08-03\", \"Vacinados\": 2620.0}, {\"Data\": \"2021-08-04\", \"Vacinados\": 0.0}, {\"Data\": \"2021-08-05\", \"Vacinados\": 0.0}, {\"Data\": \"2021-08-06\", \"Vacinados\": 7660.0}, {\"Data\": \"2021-08-07\", \"Vacinados\": 4697.0}, {\"Data\": \"2021-08-08\", \"Vacinados\": 0.0}, {\"Data\": \"2021-08-09\", \"Vacinados\": 0.0}, {\"Data\": \"2021-08-10\", \"Vacinados\": 7225.0}, {\"Data\": \"2021-08-11\", \"Vacinados\": 0.0}, {\"Data\": \"2021-08-12\", \"Vacinados\": 2117.0}, {\"Data\": \"2021-08-13\", \"Vacinados\": 0.0}, {\"Data\": \"2021-08-14\", \"Vacinados\": 4222.0}, {\"Data\": \"2021-08-15\", \"Vacinados\": 3225.0}, {\"Data\": \"2021-08-16\", \"Vacinados\": 6787.0}, {\"Data\": \"2021-08-17\", \"Vacinados\": 2131.0}, {\"Data\": \"2021-08-18\", \"Vacinados\": 0.0}, {\"Data\": \"2021-08-19\", \"Vacinados\": 0.0}, {\"Data\": \"2021-08-20\", \"Vacinados\": 5538.0}, {\"Data\": \"2021-08-21\", \"Vacinados\": 1189.0}, {\"Data\": \"2021-08-23\", \"Vacinados\": 3822.0}, {\"Data\": \"2021-08-24\", \"Vacinados\": 2967.0}, {\"Data\": \"2021-08-25\", \"Vacinados\": 0.0}, {\"Data\": \"2021-08-26\", \"Vacinados\": 0.0}, {\"Data\": \"2021-08-27\", \"Vacinados\": 5147.0}, {\"Data\": \"2021-08-28\", \"Vacinados\": 0.0}, {\"Data\": \"2021-08-29\", \"Vacinados\": 0.0}, {\"Data\": \"2021-08-30\", \"Vacinados\": 0.0}, {\"Data\": \"2021-08-31\", \"Vacinados\": 0.0}]}}, {\"mode\": \"vega-lite\"});\n",
       "</script>"
      ],
      "text/plain": [
       "alt.Chart(...)"
      ]
     },
     "execution_count": 61,
     "metadata": {},
     "output_type": "execute_result"
    }
   ],
   "source": [
    "alt.Chart(municipal_vacina1Dose).mark_line().encode(\n",
    "    alt.X('Data', title='Data'),\n",
    "    alt.Y('Vacinados', title='Nº de Vacinados com 1º Dose por Dia')\n",
    ")"
   ]
  },
  {
   "cell_type": "code",
   "execution_count": 62,
   "metadata": {},
   "outputs": [
    {
     "data": {
      "text/html": [
       "\n",
       "<div id=\"altair-viz-c0fbd40a0bc24924b2eec8b232ae175d\"></div>\n",
       "<script type=\"text/javascript\">\n",
       "  (function(spec, embedOpt){\n",
       "    let outputDiv = document.currentScript.previousElementSibling;\n",
       "    if (outputDiv.id !== \"altair-viz-c0fbd40a0bc24924b2eec8b232ae175d\") {\n",
       "      outputDiv = document.getElementById(\"altair-viz-c0fbd40a0bc24924b2eec8b232ae175d\");\n",
       "    }\n",
       "    const paths = {\n",
       "      \"vega\": \"https://cdn.jsdelivr.net/npm//vega@5?noext\",\n",
       "      \"vega-lib\": \"https://cdn.jsdelivr.net/npm//vega-lib?noext\",\n",
       "      \"vega-lite\": \"https://cdn.jsdelivr.net/npm//vega-lite@4.8.1?noext\",\n",
       "      \"vega-embed\": \"https://cdn.jsdelivr.net/npm//vega-embed@6?noext\",\n",
       "    };\n",
       "\n",
       "    function loadScript(lib) {\n",
       "      return new Promise(function(resolve, reject) {\n",
       "        var s = document.createElement('script');\n",
       "        s.src = paths[lib];\n",
       "        s.async = true;\n",
       "        s.onload = () => resolve(paths[lib]);\n",
       "        s.onerror = () => reject(`Error loading script: ${paths[lib]}`);\n",
       "        document.getElementsByTagName(\"head\")[0].appendChild(s);\n",
       "      });\n",
       "    }\n",
       "\n",
       "    function showError(err) {\n",
       "      outputDiv.innerHTML = `<div class=\"error\" style=\"color:red;\">${err}</div>`;\n",
       "      throw err;\n",
       "    }\n",
       "\n",
       "    function displayChart(vegaEmbed) {\n",
       "      vegaEmbed(outputDiv, spec, embedOpt)\n",
       "        .catch(err => showError(`Javascript Error: ${err.message}<br>This usually means there's a typo in your chart specification. See the javascript console for the full traceback.`));\n",
       "    }\n",
       "\n",
       "    if(typeof define === \"function\" && define.amd) {\n",
       "      requirejs.config({paths});\n",
       "      require([\"vega-embed\"], displayChart, err => showError(`Error loading script: ${err.message}`));\n",
       "    } else if (typeof vegaEmbed === \"function\") {\n",
       "      displayChart(vegaEmbed);\n",
       "    } else {\n",
       "      loadScript(\"vega\")\n",
       "        .then(() => loadScript(\"vega-lite\"))\n",
       "        .then(() => loadScript(\"vega-embed\"))\n",
       "        .catch(showError)\n",
       "        .then(() => displayChart(vegaEmbed));\n",
       "    }\n",
       "  })({\"config\": {\"view\": {\"continuousWidth\": 400, \"continuousHeight\": 300}}, \"data\": {\"name\": \"data-a65a9835c2dd626560410ca662b45c11\"}, \"mark\": \"line\", \"encoding\": {\"x\": {\"type\": \"nominal\", \"field\": \"Data\", \"title\": \"Data\"}, \"y\": {\"type\": \"quantitative\", \"field\": \"Vacinados\", \"title\": \"N\\u00ba de Vacinados com 2\\u00ba Dose por Dia\"}}, \"$schema\": \"https://vega.github.io/schema/vega-lite/v4.8.1.json\", \"datasets\": {\"data-a65a9835c2dd626560410ca662b45c11\": [{\"Data\": \"2021-06-01\", \"Vacinados\": 2.0}, {\"Data\": \"2021-06-02\", \"Vacinados\": 0.0}, {\"Data\": \"2021-06-03\", \"Vacinados\": 102.0}, {\"Data\": \"2021-06-04\", \"Vacinados\": 1110.0}, {\"Data\": \"2021-06-05\", \"Vacinados\": 0.0}, {\"Data\": \"2021-06-06\", \"Vacinados\": 0.0}, {\"Data\": \"2021-06-07\", \"Vacinados\": 0.0}, {\"Data\": \"2021-06-08\", \"Vacinados\": 0.0}, {\"Data\": \"2021-06-09\", \"Vacinados\": 0.0}, {\"Data\": \"2021-06-10\", \"Vacinados\": 0.0}, {\"Data\": \"2021-06-11\", \"Vacinados\": 0.0}, {\"Data\": \"2021-06-12\", \"Vacinados\": 0.0}, {\"Data\": \"2021-06-13\", \"Vacinados\": 0.0}, {\"Data\": \"2021-06-14\", \"Vacinados\": 322.0}, {\"Data\": \"2021-06-15\", \"Vacinados\": 0.0}, {\"Data\": \"2021-06-16\", \"Vacinados\": 0.0}, {\"Data\": \"2021-06-17\", \"Vacinados\": 0.0}, {\"Data\": \"2021-06-18\", \"Vacinados\": 0.0}, {\"Data\": \"2021-06-19\", \"Vacinados\": 19.0}, {\"Data\": \"2021-06-20\", \"Vacinados\": 15.0}, {\"Data\": \"2021-06-21\", \"Vacinados\": 29.0}, {\"Data\": \"2021-06-22\", \"Vacinados\": 7.0}, {\"Data\": \"2021-06-23\", \"Vacinados\": 0.0}, {\"Data\": \"2021-06-24\", \"Vacinados\": 555.0}, {\"Data\": \"2021-06-25\", \"Vacinados\": 1413.0}, {\"Data\": \"2021-06-26\", \"Vacinados\": 775.0}, {\"Data\": \"2021-06-27\", \"Vacinados\": 101.0}, {\"Data\": \"2021-06-28\", \"Vacinados\": 865.0}, {\"Data\": \"2021-06-29\", \"Vacinados\": 0.0}, {\"Data\": \"2021-06-30\", \"Vacinados\": 1537.0}, {\"Data\": \"2021-07-01\", \"Vacinados\": 180.0}, {\"Data\": \"2021-07-03\", \"Vacinados\": 1060.0}, {\"Data\": \"2021-07-04\", \"Vacinados\": 1728.0}, {\"Data\": \"2021-07-05\", \"Vacinados\": 1181.0}, {\"Data\": \"2021-07-06\", \"Vacinados\": 292.0}, {\"Data\": \"2021-07-07\", \"Vacinados\": 0.0}, {\"Data\": \"2021-07-08\", \"Vacinados\": 623.0}, {\"Data\": \"2021-07-09\", \"Vacinados\": 129.0}, {\"Data\": \"2021-07-10\", \"Vacinados\": 166.0}, {\"Data\": \"2021-07-11\", \"Vacinados\": 180.0}, {\"Data\": \"2021-07-12\", \"Vacinados\": 98.0}, {\"Data\": \"2021-07-13\", \"Vacinados\": 0.0}, {\"Data\": \"2021-07-14\", \"Vacinados\": 956.0}, {\"Data\": \"2021-07-15\", \"Vacinados\": 412.0}, {\"Data\": \"2021-07-16\", \"Vacinados\": 372.0}, {\"Data\": \"2021-07-17\", \"Vacinados\": 3051.0}, {\"Data\": \"2021-07-18\", \"Vacinados\": 767.0}, {\"Data\": \"2021-07-19\", \"Vacinados\": 1755.0}, {\"Data\": \"2021-07-20\", \"Vacinados\": 785.0}, {\"Data\": \"2021-07-21\", \"Vacinados\": 255.0}, {\"Data\": \"2021-07-22\", \"Vacinados\": 438.0}, {\"Data\": \"2021-07-23\", \"Vacinados\": 1422.0}, {\"Data\": \"2021-07-24\", \"Vacinados\": 1314.0}, {\"Data\": \"2021-07-25\", \"Vacinados\": 0.0}, {\"Data\": \"2021-07-26\", \"Vacinados\": 1185.0}, {\"Data\": \"2021-07-27\", \"Vacinados\": 695.0}, {\"Data\": \"2021-07-28\", \"Vacinados\": 1395.0}, {\"Data\": \"2021-07-29\", \"Vacinados\": 1265.0}, {\"Data\": \"2021-07-30\", \"Vacinados\": 1079.0}, {\"Data\": \"2021-07-31\", \"Vacinados\": 830.0}, {\"Data\": \"2021-08-01\", \"Vacinados\": 200.0}, {\"Data\": \"2021-08-02\", \"Vacinados\": 443.0}, {\"Data\": \"2021-08-03\", \"Vacinados\": 804.0}, {\"Data\": \"2021-08-04\", \"Vacinados\": 690.0}, {\"Data\": \"2021-08-05\", \"Vacinados\": 781.0}, {\"Data\": \"2021-08-06\", \"Vacinados\": 596.0}, {\"Data\": \"2021-08-07\", \"Vacinados\": 610.0}, {\"Data\": \"2021-08-08\", \"Vacinados\": 677.0}, {\"Data\": \"2021-08-09\", \"Vacinados\": 1527.0}, {\"Data\": \"2021-08-10\", \"Vacinados\": 2480.0}, {\"Data\": \"2021-08-11\", \"Vacinados\": 1174.0}, {\"Data\": \"2021-08-12\", \"Vacinados\": 305.0}, {\"Data\": \"2021-08-13\", \"Vacinados\": 1333.0}, {\"Data\": \"2021-08-14\", \"Vacinados\": 1033.0}, {\"Data\": \"2021-08-15\", \"Vacinados\": 313.0}, {\"Data\": \"2021-08-16\", \"Vacinados\": 830.0}, {\"Data\": \"2021-08-17\", \"Vacinados\": 1703.0}, {\"Data\": \"2021-08-18\", \"Vacinados\": 1229.0}, {\"Data\": \"2021-08-19\", \"Vacinados\": 919.0}, {\"Data\": \"2021-08-20\", \"Vacinados\": 465.0}, {\"Data\": \"2021-08-21\", \"Vacinados\": 750.0}, {\"Data\": \"2021-08-23\", \"Vacinados\": 1429.0}, {\"Data\": \"2021-08-24\", \"Vacinados\": 1169.0}, {\"Data\": \"2021-08-25\", \"Vacinados\": 2255.0}, {\"Data\": \"2021-08-26\", \"Vacinados\": 657.0}, {\"Data\": \"2021-08-27\", \"Vacinados\": 1695.0}, {\"Data\": \"2021-08-28\", \"Vacinados\": 544.0}, {\"Data\": \"2021-08-29\", \"Vacinados\": 0.0}, {\"Data\": \"2021-08-30\", \"Vacinados\": 1910.0}, {\"Data\": \"2021-08-31\", \"Vacinados\": 1304.0}]}}, {\"mode\": \"vega-lite\"});\n",
       "</script>"
      ],
      "text/plain": [
       "alt.Chart(...)"
      ]
     },
     "execution_count": 62,
     "metadata": {},
     "output_type": "execute_result"
    }
   ],
   "source": [
    "alt.Chart(municipal_vacina2Dose).mark_line().encode(\n",
    "    alt.X('Data', title='Data'),\n",
    "    alt.Y('Vacinados', title='Nº de Vacinados com 2º Dose por Dia')\n",
    ")"
   ]
  },
  {
   "cell_type": "code",
   "execution_count": 63,
   "metadata": {},
   "outputs": [
    {
     "data": {
      "text/html": [
       "\n",
       "<div id=\"altair-viz-4dd16aa203d54039a1f510f976fa90b3\"></div>\n",
       "<script type=\"text/javascript\">\n",
       "  (function(spec, embedOpt){\n",
       "    let outputDiv = document.currentScript.previousElementSibling;\n",
       "    if (outputDiv.id !== \"altair-viz-4dd16aa203d54039a1f510f976fa90b3\") {\n",
       "      outputDiv = document.getElementById(\"altair-viz-4dd16aa203d54039a1f510f976fa90b3\");\n",
       "    }\n",
       "    const paths = {\n",
       "      \"vega\": \"https://cdn.jsdelivr.net/npm//vega@5?noext\",\n",
       "      \"vega-lib\": \"https://cdn.jsdelivr.net/npm//vega-lib?noext\",\n",
       "      \"vega-lite\": \"https://cdn.jsdelivr.net/npm//vega-lite@4.8.1?noext\",\n",
       "      \"vega-embed\": \"https://cdn.jsdelivr.net/npm//vega-embed@6?noext\",\n",
       "    };\n",
       "\n",
       "    function loadScript(lib) {\n",
       "      return new Promise(function(resolve, reject) {\n",
       "        var s = document.createElement('script');\n",
       "        s.src = paths[lib];\n",
       "        s.async = true;\n",
       "        s.onload = () => resolve(paths[lib]);\n",
       "        s.onerror = () => reject(`Error loading script: ${paths[lib]}`);\n",
       "        document.getElementsByTagName(\"head\")[0].appendChild(s);\n",
       "      });\n",
       "    }\n",
       "\n",
       "    function showError(err) {\n",
       "      outputDiv.innerHTML = `<div class=\"error\" style=\"color:red;\">${err}</div>`;\n",
       "      throw err;\n",
       "    }\n",
       "\n",
       "    function displayChart(vegaEmbed) {\n",
       "      vegaEmbed(outputDiv, spec, embedOpt)\n",
       "        .catch(err => showError(`Javascript Error: ${err.message}<br>This usually means there's a typo in your chart specification. See the javascript console for the full traceback.`));\n",
       "    }\n",
       "\n",
       "    if(typeof define === \"function\" && define.amd) {\n",
       "      requirejs.config({paths});\n",
       "      require([\"vega-embed\"], displayChart, err => showError(`Error loading script: ${err.message}`));\n",
       "    } else if (typeof vegaEmbed === \"function\") {\n",
       "      displayChart(vegaEmbed);\n",
       "    } else {\n",
       "      loadScript(\"vega\")\n",
       "        .then(() => loadScript(\"vega-lite\"))\n",
       "        .then(() => loadScript(\"vega-embed\"))\n",
       "        .catch(showError)\n",
       "        .then(() => displayChart(vegaEmbed));\n",
       "    }\n",
       "  })({\"config\": {\"view\": {\"continuousWidth\": 400, \"continuousHeight\": 300}}, \"data\": {\"name\": \"data-c9fe3b1b55f550061bf432b4aa0cd307\"}, \"mark\": \"line\", \"encoding\": {\"x\": {\"type\": \"nominal\", \"field\": \"Data\", \"title\": \"Data\"}, \"y\": {\"type\": \"quantitative\", \"field\": \"Vacinados\", \"title\": \"N\\u00ba de Vacinados com Dose \\u00danica por Dia\"}}, \"$schema\": \"https://vega.github.io/schema/vega-lite/v4.8.1.json\", \"datasets\": {\"data-c9fe3b1b55f550061bf432b4aa0cd307\": [{\"Data\": \"2021-06-01\", \"Vacinados\": null}, {\"Data\": \"2021-06-02\", \"Vacinados\": null}, {\"Data\": \"2021-06-03\", \"Vacinados\": null}, {\"Data\": \"2021-06-04\", \"Vacinados\": null}, {\"Data\": \"2021-06-05\", \"Vacinados\": null}, {\"Data\": \"2021-06-06\", \"Vacinados\": null}, {\"Data\": \"2021-06-07\", \"Vacinados\": null}, {\"Data\": \"2021-06-08\", \"Vacinados\": null}, {\"Data\": \"2021-06-09\", \"Vacinados\": null}, {\"Data\": \"2021-06-10\", \"Vacinados\": null}, {\"Data\": \"2021-06-11\", \"Vacinados\": null}, {\"Data\": \"2021-06-12\", \"Vacinados\": null}, {\"Data\": \"2021-06-13\", \"Vacinados\": null}, {\"Data\": \"2021-06-14\", \"Vacinados\": null}, {\"Data\": \"2021-06-15\", \"Vacinados\": null}, {\"Data\": \"2021-06-16\", \"Vacinados\": null}, {\"Data\": \"2021-06-17\", \"Vacinados\": null}, {\"Data\": \"2021-06-18\", \"Vacinados\": null}, {\"Data\": \"2021-06-19\", \"Vacinados\": null}, {\"Data\": \"2021-06-20\", \"Vacinados\": null}, {\"Data\": \"2021-06-21\", \"Vacinados\": null}, {\"Data\": \"2021-06-22\", \"Vacinados\": null}, {\"Data\": \"2021-06-23\", \"Vacinados\": null}, {\"Data\": \"2021-06-24\", \"Vacinados\": null}, {\"Data\": \"2021-06-25\", \"Vacinados\": null}, {\"Data\": \"2021-06-26\", \"Vacinados\": null}, {\"Data\": \"2021-06-27\", \"Vacinados\": null}, {\"Data\": \"2021-06-28\", \"Vacinados\": null}, {\"Data\": \"2021-06-29\", \"Vacinados\": 76.0}, {\"Data\": \"2021-06-30\", \"Vacinados\": 2629.0}, {\"Data\": \"2021-07-01\", \"Vacinados\": 0.0}, {\"Data\": \"2021-07-03\", \"Vacinados\": 0.0}, {\"Data\": \"2021-07-04\", \"Vacinados\": 1360.0}, {\"Data\": \"2021-07-05\", \"Vacinados\": 2175.0}, {\"Data\": \"2021-07-06\", \"Vacinados\": 5.0}, {\"Data\": \"2021-07-07\", \"Vacinados\": 0.0}, {\"Data\": \"2021-07-08\", \"Vacinados\": 0.0}, {\"Data\": \"2021-07-09\", \"Vacinados\": 0.0}, {\"Data\": \"2021-07-10\", \"Vacinados\": 0.0}, {\"Data\": \"2021-07-11\", \"Vacinados\": 0.0}, {\"Data\": \"2021-07-12\", \"Vacinados\": 0.0}, {\"Data\": \"2021-07-13\", \"Vacinados\": 0.0}, {\"Data\": \"2021-07-14\", \"Vacinados\": 0.0}, {\"Data\": \"2021-07-15\", \"Vacinados\": 0.0}, {\"Data\": \"2021-07-16\", \"Vacinados\": 14.0}, {\"Data\": \"2021-07-17\", \"Vacinados\": 0.0}, {\"Data\": \"2021-07-18\", \"Vacinados\": 0.0}, {\"Data\": \"2021-07-19\", \"Vacinados\": 0.0}, {\"Data\": \"2021-07-20\", \"Vacinados\": 0.0}, {\"Data\": \"2021-07-21\", \"Vacinados\": 0.0}, {\"Data\": \"2021-07-22\", \"Vacinados\": 0.0}, {\"Data\": \"2021-07-23\", \"Vacinados\": 0.0}, {\"Data\": \"2021-07-24\", \"Vacinados\": 1.0}, {\"Data\": \"2021-07-25\", \"Vacinados\": 0.0}, {\"Data\": \"2021-07-26\", \"Vacinados\": 0.0}, {\"Data\": \"2021-07-27\", \"Vacinados\": 0.0}, {\"Data\": \"2021-07-28\", \"Vacinados\": 0.0}, {\"Data\": \"2021-07-29\", \"Vacinados\": 0.0}, {\"Data\": \"2021-07-30\", \"Vacinados\": 0.0}, {\"Data\": \"2021-07-31\", \"Vacinados\": 0.0}, {\"Data\": \"2021-08-01\", \"Vacinados\": 0.0}, {\"Data\": \"2021-08-02\", \"Vacinados\": 0.0}, {\"Data\": \"2021-08-03\", \"Vacinados\": 0.0}, {\"Data\": \"2021-08-04\", \"Vacinados\": 0.0}, {\"Data\": \"2021-08-05\", \"Vacinados\": 0.0}, {\"Data\": \"2021-08-06\", \"Vacinados\": 0.0}, {\"Data\": \"2021-08-07\", \"Vacinados\": 0.0}, {\"Data\": \"2021-08-08\", \"Vacinados\": 0.0}, {\"Data\": \"2021-08-09\", \"Vacinados\": 0.0}, {\"Data\": \"2021-08-10\", \"Vacinados\": 0.0}, {\"Data\": \"2021-08-11\", \"Vacinados\": 0.0}, {\"Data\": \"2021-08-12\", \"Vacinados\": 0.0}, {\"Data\": \"2021-08-13\", \"Vacinados\": 0.0}, {\"Data\": \"2021-08-14\", \"Vacinados\": 0.0}, {\"Data\": \"2021-08-15\", \"Vacinados\": 0.0}, {\"Data\": \"2021-08-16\", \"Vacinados\": 0.0}, {\"Data\": \"2021-08-17\", \"Vacinados\": 0.0}, {\"Data\": \"2021-08-18\", \"Vacinados\": 0.0}, {\"Data\": \"2021-08-19\", \"Vacinados\": 0.0}, {\"Data\": \"2021-08-20\", \"Vacinados\": 0.0}, {\"Data\": \"2021-08-21\", \"Vacinados\": 0.0}, {\"Data\": \"2021-08-23\", \"Vacinados\": 0.0}, {\"Data\": \"2021-08-24\", \"Vacinados\": 0.0}, {\"Data\": \"2021-08-25\", \"Vacinados\": 0.0}, {\"Data\": \"2021-08-26\", \"Vacinados\": 0.0}, {\"Data\": \"2021-08-27\", \"Vacinados\": 0.0}, {\"Data\": \"2021-08-28\", \"Vacinados\": 0.0}, {\"Data\": \"2021-08-29\", \"Vacinados\": 0.0}, {\"Data\": \"2021-08-30\", \"Vacinados\": 0.0}, {\"Data\": \"2021-08-31\", \"Vacinados\": 0.0}]}}, {\"mode\": \"vega-lite\"});\n",
       "</script>"
      ],
      "text/plain": [
       "alt.Chart(...)"
      ]
     },
     "execution_count": 63,
     "metadata": {},
     "output_type": "execute_result"
    }
   ],
   "source": [
    "alt.Chart(municipal_vacinaDoseUnica).mark_line().encode(\n",
    "    alt.X('Data', title='Data'),\n",
    "    alt.Y('Vacinados', title='Nº de Vacinados com Dose Única por Dia')\n",
    ")"
   ]
  }
 ],
 "metadata": {
  "interpreter": {
   "hash": "ac523b2dbf241262502338c4748dbe4206e583902f7cc2a831713042ba4f1b3b"
  },
  "kernelspec": {
   "display_name": "Python 3.9.5 64-bit",
   "name": "python3"
  },
  "language_info": {
   "codemirror_mode": {
    "name": "ipython",
    "version": 3
   },
   "file_extension": ".py",
   "mimetype": "text/x-python",
   "name": "python",
   "nbconvert_exporter": "python",
   "pygments_lexer": "ipython3",
   "version": "3.9.5"
  },
  "orig_nbformat": 4
 },
 "nbformat": 4,
 "nbformat_minor": 2
}
