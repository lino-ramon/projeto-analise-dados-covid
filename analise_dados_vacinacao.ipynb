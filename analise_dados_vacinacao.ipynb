{
 "cells": [
  {
   "cell_type": "code",
   "execution_count": 1,
   "metadata": {},
   "outputs": [],
   "source": [
    "import pandas as pd\n",
    "import altair as alt"
   ]
  },
  {
   "cell_type": "markdown",
   "metadata": {},
   "source": [
    "# Lendo os dados brutos"
   ]
  },
  {
   "cell_type": "code",
   "execution_count": 2,
   "metadata": {},
   "outputs": [
    {
     "name": "stderr",
     "output_type": "stream",
     "text": [
      "C:\\Users\\perei\\AppData\\Local\\Programs\\Python\\Python39\\lib\\site-packages\\IPython\\core\\interactiveshell.py:3441: FutureWarning: The error_bad_lines argument has been deprecated and will be removed in a future version.\n",
      "\n",
      "\n",
      "  exec(code_obj, self.user_global_ns, self.user_ns)\n"
     ]
    }
   ],
   "source": [
    "dados_municipais_campina = pd.read_csv(\"data\\\\dados_municipais_cg.csv\", encoding='utf-8', index_col='data')\n",
    "dados_federais_campina = pd.read_csv(\"data\\\\dados_federais_vacinacao_cg.csv\", encoding='UTF-8', error_bad_lines=False)"
   ]
  },
  {
   "cell_type": "code",
   "execution_count": 3,
   "metadata": {},
   "outputs": [],
   "source": [
    "# Separando os dados de aplicação da vacina por dose da base federal.\n",
    "\n",
    "# Primeira Dose\n",
    "df_campina1Dose = dados_federais_campina.loc[dados_federais_campina['vacina_descricao_dose'] == '1ª Dose']\n",
    "df_campina1Dose = df_campina1Dose.loc[df_campina1Dose['vacina_codigo'] != 88]\n",
    "df_1DosePorDia = df_campina1Dose['vacina_dataaplicacao'].value_counts()\n",
    "\n",
    "# Segunda Dose\n",
    "df_campina2Dose = dados_federais_campina.loc[dados_federais_campina['vacina_descricao_dose'] == '2ª Dose']\n",
    "df_campina2Dose = df_campina2Dose.loc[df_campina2Dose['vacina_codigo'] != 88]\n",
    "df_2DosePorDia = df_campina2Dose['vacina_dataaplicacao'].value_counts()\n",
    "\n",
    "# Dose Única\n",
    "df_campinaDoseUnica = dados_federais_campina.loc[dados_federais_campina['vacina_codigo'] == 88]\n",
    "df_DoseUnicaPorDia = df_campinaDoseUnica['vacina_dataaplicacao'].value_counts()"
   ]
  },
  {
   "cell_type": "code",
   "execution_count": 25,
   "metadata": {},
   "outputs": [],
   "source": [
    "# Ordenando os dados pela data\n",
    "df_1DosePorDia     = df_1DosePorDia.sort_index()\n",
    "df_2DosePorDia     = df_2DosePorDia.sort_index()\n",
    "df_DoseUnicaPorDia = df_DoseUnicaPorDia.sort_index()"
   ]
  },
  {
   "cell_type": "code",
   "execution_count": 26,
   "metadata": {},
   "outputs": [],
   "source": [
    "# Separando os dados de aplicação da vacina por dose da base municipal.\n",
    "\n",
    "# Primeira Dose\n",
    "dm_1DosePorDia = dados_municipais_campina['vacinadosDose1Dia']\n",
    "#dm_1DosePorDia = dm_1DosePorDia.loc[df_1DosePorDia.index]\n",
    "\n",
    "# Segunda Dose\n",
    "dm_2DosePorDia = dados_municipais_campina['vacinadosDose2Dia']\n",
    "#dm_2DosePorDia = dm_2DosePorDia.loc[df_2DosePorDia.index]\n",
    "\n",
    "# Dose Única\n",
    "dm_DoseUnicaPorDia = dados_municipais_campina['vacinadosDoseUnicaDia']\n",
    "dm_DoseUnicaPorDia = dm_DoseUnicaPorDia.loc[df_DoseUnicaPorDia.index]\n"
   ]
  },
  {
   "cell_type": "code",
   "execution_count": 27,
   "metadata": {},
   "outputs": [],
   "source": [
    "# Primeira Dose\n",
    "vacinados1DosePorDia = pd.DataFrame({\n",
    "  'data': df_1DosePorDia.keys().tolist(),\n",
    "  'Federal': df_1DosePorDia.values.tolist(),\n",
    "  'Municipal': dm_1DosePorDia.values.tolist()\n",
    "}).melt(id_vars=['data'], value_vars=['Federal', 'Municipal'],\n",
    "        var_name='fonte_dados', value_name='aplic_por_dia')"
   ]
  },
  {
   "cell_type": "code",
   "execution_count": 28,
   "metadata": {},
   "outputs": [
    {
     "data": {
      "text/html": [
       "\n",
       "<div id=\"altair-viz-77e522f930ba4bc1a3456c96a5615c1b\"></div>\n",
       "<script type=\"text/javascript\">\n",
       "  (function(spec, embedOpt){\n",
       "    let outputDiv = document.currentScript.previousElementSibling;\n",
       "    if (outputDiv.id !== \"altair-viz-77e522f930ba4bc1a3456c96a5615c1b\") {\n",
       "      outputDiv = document.getElementById(\"altair-viz-77e522f930ba4bc1a3456c96a5615c1b\");\n",
       "    }\n",
       "    const paths = {\n",
       "      \"vega\": \"https://cdn.jsdelivr.net/npm//vega@5?noext\",\n",
       "      \"vega-lib\": \"https://cdn.jsdelivr.net/npm//vega-lib?noext\",\n",
       "      \"vega-lite\": \"https://cdn.jsdelivr.net/npm//vega-lite@4.8.1?noext\",\n",
       "      \"vega-embed\": \"https://cdn.jsdelivr.net/npm//vega-embed@6?noext\",\n",
       "    };\n",
       "\n",
       "    function loadScript(lib) {\n",
       "      return new Promise(function(resolve, reject) {\n",
       "        var s = document.createElement('script');\n",
       "        s.src = paths[lib];\n",
       "        s.async = true;\n",
       "        s.onload = () => resolve(paths[lib]);\n",
       "        s.onerror = () => reject(`Error loading script: ${paths[lib]}`);\n",
       "        document.getElementsByTagName(\"head\")[0].appendChild(s);\n",
       "      });\n",
       "    }\n",
       "\n",
       "    function showError(err) {\n",
       "      outputDiv.innerHTML = `<div class=\"error\" style=\"color:red;\">${err}</div>`;\n",
       "      throw err;\n",
       "    }\n",
       "\n",
       "    function displayChart(vegaEmbed) {\n",
       "      vegaEmbed(outputDiv, spec, embedOpt)\n",
       "        .catch(err => showError(`Javascript Error: ${err.message}<br>This usually means there's a typo in your chart specification. See the javascript console for the full traceback.`));\n",
       "    }\n",
       "\n",
       "    if(typeof define === \"function\" && define.amd) {\n",
       "      requirejs.config({paths});\n",
       "      require([\"vega-embed\"], displayChart, err => showError(`Error loading script: ${err.message}`));\n",
       "    } else if (typeof vegaEmbed === \"function\") {\n",
       "      displayChart(vegaEmbed);\n",
       "    } else {\n",
       "      loadScript(\"vega\")\n",
       "        .then(() => loadScript(\"vega-lite\"))\n",
       "        .then(() => loadScript(\"vega-embed\"))\n",
       "        .catch(showError)\n",
       "        .then(() => displayChart(vegaEmbed));\n",
       "    }\n",
       "  })({\"config\": {\"view\": {\"continuousWidth\": 400, \"continuousHeight\": 300}}, \"data\": {\"name\": \"data-4e7fa25bbd69978d994d13e5974d582c\"}, \"mark\": \"line\", \"encoding\": {\"color\": {\"type\": \"nominal\", \"field\": \"fonte_dados\", \"title\": \"Base dos Dados\"}, \"x\": {\"type\": \"temporal\", \"field\": \"data\", \"title\": \"Data\"}, \"y\": {\"type\": \"quantitative\", \"field\": \"aplic_por_dia\", \"title\": \"N\\u00ba de Vacinados\"}}, \"title\": \"Quantidade de vacinados com 1\\u00ba Dose por Dia\", \"width\": 700, \"$schema\": \"https://vega.github.io/schema/vega-lite/v4.8.1.json\", \"datasets\": {\"data-4e7fa25bbd69978d994d13e5974d582c\": [{\"data\": \"2021-06-01\", \"fonte_dados\": \"Federal\", \"aplic_por_dia\": 2379.0}, {\"data\": \"2021-06-02\", \"fonte_dados\": \"Federal\", \"aplic_por_dia\": 1775.0}, {\"data\": \"2021-06-03\", \"fonte_dados\": \"Federal\", \"aplic_por_dia\": 373.0}, {\"data\": \"2021-06-04\", \"fonte_dados\": \"Federal\", \"aplic_por_dia\": 2117.0}, {\"data\": \"2021-06-05\", \"fonte_dados\": \"Federal\", \"aplic_por_dia\": 1550.0}, {\"data\": \"2021-06-06\", \"fonte_dados\": \"Federal\", \"aplic_por_dia\": 275.0}, {\"data\": \"2021-06-07\", \"fonte_dados\": \"Federal\", \"aplic_por_dia\": 2995.0}, {\"data\": \"2021-06-08\", \"fonte_dados\": \"Federal\", \"aplic_por_dia\": 1949.0}, {\"data\": \"2021-06-09\", \"fonte_dados\": \"Federal\", \"aplic_por_dia\": 1059.0}, {\"data\": \"2021-06-10\", \"fonte_dados\": \"Federal\", \"aplic_por_dia\": 1867.0}, {\"data\": \"2021-06-11\", \"fonte_dados\": \"Federal\", \"aplic_por_dia\": 4523.0}, {\"data\": \"2021-06-12\", \"fonte_dados\": \"Federal\", \"aplic_por_dia\": 453.0}, {\"data\": \"2021-06-13\", \"fonte_dados\": \"Federal\", \"aplic_por_dia\": 965.0}, {\"data\": \"2021-06-14\", \"fonte_dados\": \"Federal\", \"aplic_por_dia\": 1680.0}, {\"data\": \"2021-06-15\", \"fonte_dados\": \"Federal\", \"aplic_por_dia\": 83.0}, {\"data\": \"2021-06-16\", \"fonte_dados\": \"Federal\", \"aplic_por_dia\": 61.0}, {\"data\": \"2021-06-17\", \"fonte_dados\": \"Federal\", \"aplic_por_dia\": 75.0}, {\"data\": \"2021-06-18\", \"fonte_dados\": \"Federal\", \"aplic_por_dia\": 7.0}, {\"data\": \"2021-06-19\", \"fonte_dados\": \"Federal\", \"aplic_por_dia\": 1807.0}, {\"data\": \"2021-06-20\", \"fonte_dados\": \"Federal\", \"aplic_por_dia\": 1126.0}, {\"data\": \"2021-06-21\", \"fonte_dados\": \"Federal\", \"aplic_por_dia\": 1693.0}, {\"data\": \"2021-06-22\", \"fonte_dados\": \"Federal\", \"aplic_por_dia\": 741.0}, {\"data\": \"2021-06-23\", \"fonte_dados\": \"Federal\", \"aplic_por_dia\": 79.0}, {\"data\": \"2021-06-24\", \"fonte_dados\": \"Federal\", \"aplic_por_dia\": 186.0}, {\"data\": \"2021-06-25\", \"fonte_dados\": \"Federal\", \"aplic_por_dia\": 3754.0}, {\"data\": \"2021-06-26\", \"fonte_dados\": \"Federal\", \"aplic_por_dia\": 2126.0}, {\"data\": \"2021-06-27\", \"fonte_dados\": \"Federal\", \"aplic_por_dia\": 921.0}, {\"data\": \"2021-06-28\", \"fonte_dados\": \"Federal\", \"aplic_por_dia\": 931.0}, {\"data\": \"2021-06-29\", \"fonte_dados\": \"Federal\", \"aplic_por_dia\": 159.0}, {\"data\": \"2021-06-30\", \"fonte_dados\": \"Federal\", \"aplic_por_dia\": 267.0}, {\"data\": \"2021-07-01\", \"fonte_dados\": \"Federal\", \"aplic_por_dia\": 3490.0}, {\"data\": \"2021-07-02\", \"fonte_dados\": \"Federal\", \"aplic_por_dia\": 5136.0}, {\"data\": \"2021-07-03\", \"fonte_dados\": \"Federal\", \"aplic_por_dia\": 1325.0}, {\"data\": \"2021-07-04\", \"fonte_dados\": \"Federal\", \"aplic_por_dia\": 1274.0}, {\"data\": \"2021-07-05\", \"fonte_dados\": \"Federal\", \"aplic_por_dia\": 2207.0}, {\"data\": \"2021-07-06\", \"fonte_dados\": \"Federal\", \"aplic_por_dia\": 715.0}, {\"data\": \"2021-07-07\", \"fonte_dados\": \"Federal\", \"aplic_por_dia\": 100.0}, {\"data\": \"2021-07-08\", \"fonte_dados\": \"Federal\", \"aplic_por_dia\": 129.0}, {\"data\": \"2021-07-09\", \"fonte_dados\": \"Federal\", \"aplic_por_dia\": 2920.0}, {\"data\": \"2021-07-10\", \"fonte_dados\": \"Federal\", \"aplic_por_dia\": 875.0}, {\"data\": \"2021-07-11\", \"fonte_dados\": \"Federal\", \"aplic_por_dia\": 1.0}, {\"data\": \"2021-07-12\", \"fonte_dados\": \"Federal\", \"aplic_por_dia\": 49.0}, {\"data\": \"2021-07-13\", \"fonte_dados\": \"Federal\", \"aplic_por_dia\": 83.0}, {\"data\": \"2021-07-14\", \"fonte_dados\": \"Federal\", \"aplic_por_dia\": 39.0}, {\"data\": \"2021-07-15\", \"fonte_dados\": \"Federal\", \"aplic_por_dia\": 28.0}, {\"data\": \"2021-07-16\", \"fonte_dados\": \"Federal\", \"aplic_por_dia\": 5592.0}, {\"data\": \"2021-07-17\", \"fonte_dados\": \"Federal\", \"aplic_por_dia\": 4879.0}, {\"data\": \"2021-07-18\", \"fonte_dados\": \"Federal\", \"aplic_por_dia\": 4907.0}, {\"data\": \"2021-07-19\", \"fonte_dados\": \"Federal\", \"aplic_por_dia\": 6158.0}, {\"data\": \"2021-07-20\", \"fonte_dados\": \"Federal\", \"aplic_por_dia\": 3900.0}, {\"data\": \"2021-07-21\", \"fonte_dados\": \"Federal\", \"aplic_por_dia\": 1511.0}, {\"data\": \"2021-07-22\", \"fonte_dados\": \"Federal\", \"aplic_por_dia\": 168.0}, {\"data\": \"2021-07-23\", \"fonte_dados\": \"Federal\", \"aplic_por_dia\": 61.0}, {\"data\": \"2021-07-24\", \"fonte_dados\": \"Federal\", \"aplic_por_dia\": 15.0}, {\"data\": \"2021-07-25\", \"fonte_dados\": \"Federal\", \"aplic_por_dia\": 2.0}, {\"data\": \"2021-07-26\", \"fonte_dados\": \"Federal\", \"aplic_por_dia\": 85.0}, {\"data\": \"2021-07-27\", \"fonte_dados\": \"Federal\", \"aplic_por_dia\": 73.0}, {\"data\": \"2021-07-28\", \"fonte_dados\": \"Federal\", \"aplic_por_dia\": 2284.0}, {\"data\": \"2021-07-29\", \"fonte_dados\": \"Federal\", \"aplic_por_dia\": 1426.0}, {\"data\": \"2021-07-30\", \"fonte_dados\": \"Federal\", \"aplic_por_dia\": 97.0}, {\"data\": \"2021-07-31\", \"fonte_dados\": \"Federal\", \"aplic_por_dia\": 16.0}, {\"data\": \"2021-08-01\", \"fonte_dados\": \"Federal\", \"aplic_por_dia\": 3510.0}, {\"data\": \"2021-08-02\", \"fonte_dados\": \"Federal\", \"aplic_por_dia\": 5194.0}, {\"data\": \"2021-08-03\", \"fonte_dados\": \"Federal\", \"aplic_por_dia\": 2604.0}, {\"data\": \"2021-08-04\", \"fonte_dados\": \"Federal\", \"aplic_por_dia\": 40.0}, {\"data\": \"2021-08-05\", \"fonte_dados\": \"Federal\", \"aplic_por_dia\": 43.0}, {\"data\": \"2021-08-06\", \"fonte_dados\": \"Federal\", \"aplic_por_dia\": 8046.0}, {\"data\": \"2021-08-07\", \"fonte_dados\": \"Federal\", \"aplic_por_dia\": 4607.0}, {\"data\": \"2021-08-08\", \"fonte_dados\": \"Federal\", \"aplic_por_dia\": 8.0}, {\"data\": \"2021-08-09\", \"fonte_dados\": \"Federal\", \"aplic_por_dia\": 96.0}, {\"data\": \"2021-08-10\", \"fonte_dados\": \"Federal\", \"aplic_por_dia\": 7580.0}, {\"data\": \"2021-08-11\", \"fonte_dados\": \"Federal\", \"aplic_por_dia\": 92.0}, {\"data\": \"2021-08-12\", \"fonte_dados\": \"Federal\", \"aplic_por_dia\": 2162.0}, {\"data\": \"2021-08-13\", \"fonte_dados\": \"Federal\", \"aplic_por_dia\": 42.0}, {\"data\": \"2021-08-14\", \"fonte_dados\": \"Federal\", \"aplic_por_dia\": 4415.0}, {\"data\": \"2021-08-15\", \"fonte_dados\": \"Federal\", \"aplic_por_dia\": 3235.0}, {\"data\": \"2021-08-16\", \"fonte_dados\": \"Federal\", \"aplic_por_dia\": 7719.0}, {\"data\": \"2021-08-17\", \"fonte_dados\": \"Federal\", \"aplic_por_dia\": 2161.0}, {\"data\": \"2021-08-18\", \"fonte_dados\": \"Federal\", \"aplic_por_dia\": 89.0}, {\"data\": \"2021-08-19\", \"fonte_dados\": \"Federal\", \"aplic_por_dia\": 23.0}, {\"data\": \"2021-08-20\", \"fonte_dados\": \"Federal\", \"aplic_por_dia\": 5855.0}, {\"data\": \"2021-08-21\", \"fonte_dados\": \"Federal\", \"aplic_por_dia\": 1207.0}, {\"data\": \"2021-08-23\", \"fonte_dados\": \"Federal\", \"aplic_por_dia\": 4573.0}, {\"data\": \"2021-08-24\", \"fonte_dados\": \"Federal\", \"aplic_por_dia\": 3325.0}, {\"data\": \"2021-08-25\", \"fonte_dados\": \"Federal\", \"aplic_por_dia\": 32.0}, {\"data\": \"2021-08-26\", \"fonte_dados\": \"Federal\", \"aplic_por_dia\": 85.0}, {\"data\": \"2021-08-27\", \"fonte_dados\": \"Federal\", \"aplic_por_dia\": 5460.0}, {\"data\": \"2021-08-28\", \"fonte_dados\": \"Federal\", \"aplic_por_dia\": 7.0}, {\"data\": \"2021-08-29\", \"fonte_dados\": \"Federal\", \"aplic_por_dia\": 5.0}, {\"data\": \"2021-08-30\", \"fonte_dados\": \"Federal\", \"aplic_por_dia\": 38.0}, {\"data\": \"2021-08-31\", \"fonte_dados\": \"Federal\", \"aplic_por_dia\": 33.0}, {\"data\": \"2021-06-01\", \"fonte_dados\": \"Municipal\", \"aplic_por_dia\": 17.0}, {\"data\": \"2021-06-02\", \"fonte_dados\": \"Municipal\", \"aplic_por_dia\": 1420.0}, {\"data\": \"2021-06-03\", \"fonte_dados\": \"Municipal\", \"aplic_por_dia\": 279.0}, {\"data\": \"2021-06-04\", \"fonte_dados\": \"Municipal\", \"aplic_por_dia\": 1555.0}, {\"data\": \"2021-06-05\", \"fonte_dados\": \"Municipal\", \"aplic_por_dia\": 1352.0}, {\"data\": \"2021-06-06\", \"fonte_dados\": \"Municipal\", \"aplic_por_dia\": 290.0}, {\"data\": \"2021-06-07\", \"fonte_dados\": \"Municipal\", \"aplic_por_dia\": 0.0}, {\"data\": \"2021-06-08\", \"fonte_dados\": \"Municipal\", \"aplic_por_dia\": 4966.0}, {\"data\": \"2021-06-09\", \"fonte_dados\": \"Municipal\", \"aplic_por_dia\": 954.0}, {\"data\": \"2021-06-10\", \"fonte_dados\": \"Municipal\", \"aplic_por_dia\": 2794.0}, {\"data\": \"2021-06-11\", \"fonte_dados\": \"Municipal\", \"aplic_por_dia\": 3116.0}, {\"data\": \"2021-06-12\", \"fonte_dados\": \"Municipal\", \"aplic_por_dia\": 491.0}, {\"data\": \"2021-06-13\", \"fonte_dados\": \"Municipal\", \"aplic_por_dia\": 922.0}, {\"data\": \"2021-06-14\", \"fonte_dados\": \"Municipal\", \"aplic_por_dia\": 1200.0}, {\"data\": \"2021-06-15\", \"fonte_dados\": \"Municipal\", \"aplic_por_dia\": 66.0}, {\"data\": \"2021-06-16\", \"fonte_dados\": \"Municipal\", \"aplic_por_dia\": 57.0}, {\"data\": \"2021-06-17\", \"fonte_dados\": \"Municipal\", \"aplic_por_dia\": 5688.0}, {\"data\": \"2021-06-18\", \"fonte_dados\": \"Municipal\", \"aplic_por_dia\": 0.0}, {\"data\": \"2021-06-19\", \"fonte_dados\": \"Municipal\", \"aplic_por_dia\": 3338.0}, {\"data\": \"2021-06-20\", \"fonte_dados\": \"Municipal\", \"aplic_por_dia\": 771.0}, {\"data\": \"2021-06-21\", \"fonte_dados\": \"Municipal\", \"aplic_por_dia\": 216.0}, {\"data\": \"2021-06-22\", \"fonte_dados\": \"Municipal\", \"aplic_por_dia\": 323.0}, {\"data\": \"2021-06-23\", \"fonte_dados\": \"Municipal\", \"aplic_por_dia\": 0.0}, {\"data\": \"2021-06-24\", \"fonte_dados\": \"Municipal\", \"aplic_por_dia\": 494.0}, {\"data\": \"2021-06-25\", \"fonte_dados\": \"Municipal\", \"aplic_por_dia\": 669.0}, {\"data\": \"2021-06-26\", \"fonte_dados\": \"Municipal\", \"aplic_por_dia\": 88.0}, {\"data\": \"2021-06-27\", \"fonte_dados\": \"Municipal\", \"aplic_por_dia\": 23.0}, {\"data\": \"2021-06-28\", \"fonte_dados\": \"Municipal\", \"aplic_por_dia\": 166.0}, {\"data\": \"2021-06-29\", \"fonte_dados\": \"Municipal\", \"aplic_por_dia\": 0.0}, {\"data\": \"2021-06-30\", \"fonte_dados\": \"Municipal\", \"aplic_por_dia\": 7095.0}, {\"data\": \"2021-07-01\", \"fonte_dados\": \"Municipal\", \"aplic_por_dia\": 4398.0}, {\"data\": \"2021-07-02\", \"fonte_dados\": \"Municipal\", \"aplic_por_dia\": 4381.0}, {\"data\": \"2021-07-03\", \"fonte_dados\": \"Municipal\", \"aplic_por_dia\": 1241.0}, {\"data\": \"2021-07-04\", \"fonte_dados\": \"Municipal\", \"aplic_por_dia\": 794.0}, {\"data\": \"2021-07-05\", \"fonte_dados\": \"Municipal\", \"aplic_por_dia\": 11938.0}, {\"data\": \"2021-07-06\", \"fonte_dados\": \"Municipal\", \"aplic_por_dia\": 0.0}, {\"data\": \"2021-07-07\", \"fonte_dados\": \"Municipal\", \"aplic_por_dia\": 1379.0}, {\"data\": \"2021-07-08\", \"fonte_dados\": \"Municipal\", \"aplic_por_dia\": 2978.0}, {\"data\": \"2021-07-09\", \"fonte_dados\": \"Municipal\", \"aplic_por_dia\": 1300.0}, {\"data\": \"2021-07-10\", \"fonte_dados\": \"Municipal\", \"aplic_por_dia\": 0.0}, {\"data\": \"2021-07-11\", \"fonte_dados\": \"Municipal\", \"aplic_por_dia\": 23.0}, {\"data\": \"2021-07-12\", \"fonte_dados\": \"Municipal\", \"aplic_por_dia\": 0.0}, {\"data\": \"2021-07-13\", \"fonte_dados\": \"Municipal\", \"aplic_por_dia\": 35.0}, {\"data\": \"2021-07-14\", \"fonte_dados\": \"Municipal\", \"aplic_por_dia\": 8.0}, {\"data\": \"2021-07-15\", \"fonte_dados\": \"Municipal\", \"aplic_por_dia\": 2985.0}, {\"data\": \"2021-07-16\", \"fonte_dados\": \"Municipal\", \"aplic_por_dia\": 12383.0}, {\"data\": \"2021-07-17\", \"fonte_dados\": \"Municipal\", \"aplic_por_dia\": 8353.0}, {\"data\": \"2021-07-18\", \"fonte_dados\": \"Municipal\", \"aplic_por_dia\": 3148.0}, {\"data\": \"2021-07-19\", \"fonte_dados\": \"Municipal\", \"aplic_por_dia\": 3002.0}, {\"data\": \"2021-07-20\", \"fonte_dados\": \"Municipal\", \"aplic_por_dia\": 998.0}, {\"data\": \"2021-07-21\", \"fonte_dados\": \"Municipal\", \"aplic_por_dia\": 0.0}, {\"data\": \"2021-07-22\", \"fonte_dados\": \"Municipal\", \"aplic_por_dia\": 0.0}, {\"data\": \"2021-07-23\", \"fonte_dados\": \"Municipal\", \"aplic_por_dia\": 4.0}, {\"data\": \"2021-07-24\", \"fonte_dados\": \"Municipal\", \"aplic_por_dia\": 0.0}, {\"data\": \"2021-07-25\", \"fonte_dados\": \"Municipal\", \"aplic_por_dia\": 0.0}, {\"data\": \"2021-07-26\", \"fonte_dados\": \"Municipal\", \"aplic_por_dia\": 0.0}, {\"data\": \"2021-07-27\", \"fonte_dados\": \"Municipal\", \"aplic_por_dia\": 2851.0}, {\"data\": \"2021-07-28\", \"fonte_dados\": \"Municipal\", \"aplic_por_dia\": 1866.0}, {\"data\": \"2021-07-29\", \"fonte_dados\": \"Municipal\", \"aplic_por_dia\": 40.0}, {\"data\": \"2021-07-30\", \"fonte_dados\": \"Municipal\", \"aplic_por_dia\": 0.0}, {\"data\": \"2021-07-31\", \"fonte_dados\": \"Municipal\", \"aplic_por_dia\": 3499.0}, {\"data\": \"2021-08-01\", \"fonte_dados\": \"Municipal\", \"aplic_por_dia\": 4971.0}, {\"data\": \"2021-08-02\", \"fonte_dados\": \"Municipal\", \"aplic_por_dia\": 2620.0}, {\"data\": \"2021-08-03\", \"fonte_dados\": \"Municipal\", \"aplic_por_dia\": 0.0}, {\"data\": \"2021-08-04\", \"fonte_dados\": \"Municipal\", \"aplic_por_dia\": 0.0}, {\"data\": \"2021-08-05\", \"fonte_dados\": \"Municipal\", \"aplic_por_dia\": 7660.0}, {\"data\": \"2021-08-06\", \"fonte_dados\": \"Municipal\", \"aplic_por_dia\": 4697.0}, {\"data\": \"2021-08-07\", \"fonte_dados\": \"Municipal\", \"aplic_por_dia\": 0.0}, {\"data\": \"2021-08-08\", \"fonte_dados\": \"Municipal\", \"aplic_por_dia\": 0.0}, {\"data\": \"2021-08-09\", \"fonte_dados\": \"Municipal\", \"aplic_por_dia\": 7225.0}, {\"data\": \"2021-08-10\", \"fonte_dados\": \"Municipal\", \"aplic_por_dia\": 0.0}, {\"data\": \"2021-08-11\", \"fonte_dados\": \"Municipal\", \"aplic_por_dia\": 2117.0}, {\"data\": \"2021-08-12\", \"fonte_dados\": \"Municipal\", \"aplic_por_dia\": 0.0}, {\"data\": \"2021-08-13\", \"fonte_dados\": \"Municipal\", \"aplic_por_dia\": 4222.0}, {\"data\": \"2021-08-14\", \"fonte_dados\": \"Municipal\", \"aplic_por_dia\": 3225.0}, {\"data\": \"2021-08-15\", \"fonte_dados\": \"Municipal\", \"aplic_por_dia\": 6787.0}, {\"data\": \"2021-08-16\", \"fonte_dados\": \"Municipal\", \"aplic_por_dia\": 2131.0}, {\"data\": \"2021-08-17\", \"fonte_dados\": \"Municipal\", \"aplic_por_dia\": 0.0}, {\"data\": \"2021-08-18\", \"fonte_dados\": \"Municipal\", \"aplic_por_dia\": 0.0}, {\"data\": \"2021-08-19\", \"fonte_dados\": \"Municipal\", \"aplic_por_dia\": 5538.0}, {\"data\": \"2021-08-20\", \"fonte_dados\": \"Municipal\", \"aplic_por_dia\": 1189.0}, {\"data\": \"2021-08-21\", \"fonte_dados\": \"Municipal\", \"aplic_por_dia\": 0.0}, {\"data\": \"2021-08-23\", \"fonte_dados\": \"Municipal\", \"aplic_por_dia\": 3822.0}, {\"data\": \"2021-08-24\", \"fonte_dados\": \"Municipal\", \"aplic_por_dia\": 2967.0}, {\"data\": \"2021-08-25\", \"fonte_dados\": \"Municipal\", \"aplic_por_dia\": 0.0}, {\"data\": \"2021-08-26\", \"fonte_dados\": \"Municipal\", \"aplic_por_dia\": 0.0}, {\"data\": \"2021-08-27\", \"fonte_dados\": \"Municipal\", \"aplic_por_dia\": 5147.0}, {\"data\": \"2021-08-28\", \"fonte_dados\": \"Municipal\", \"aplic_por_dia\": 0.0}, {\"data\": \"2021-08-29\", \"fonte_dados\": \"Municipal\", \"aplic_por_dia\": 0.0}, {\"data\": \"2021-08-30\", \"fonte_dados\": \"Municipal\", \"aplic_por_dia\": 0.0}, {\"data\": \"2021-08-31\", \"fonte_dados\": \"Municipal\", \"aplic_por_dia\": 0.0}]}}, {\"mode\": \"vega-lite\"});\n",
       "</script>"
      ],
      "text/plain": [
       "alt.Chart(...)"
      ]
     },
     "execution_count": 28,
     "metadata": {},
     "output_type": "execute_result"
    }
   ],
   "source": [
    "alt.Chart(vacinados1DosePorDia).mark_line().encode(\n",
    "    alt.X('data:T', title='Data'),\n",
    "    alt.Y('aplic_por_dia:Q', title='Nº de Vacinados'),\n",
    "    alt.Color('fonte_dados:N', title='Base dos Dados')\n",
    ").properties(\n",
    "    width=700,\n",
    "    title='Quantidade de vacinados com 1º Dose por Dia'\n",
    ")"
   ]
  },
  {
   "cell_type": "code",
   "execution_count": 29,
   "metadata": {},
   "outputs": [],
   "source": [
    "# Segunda Dose\n",
    "vacinados2DosePorDia = pd.DataFrame({\n",
    "  'data': df_2DosePorDia.keys().tolist(),\n",
    "  'Federal': df_2DosePorDia.values.tolist(),\n",
    "  'Municipal': dm_2DosePorDia.values.tolist()\n",
    "}).melt(id_vars=['data'], value_vars=['Federal', 'Municipal'],\n",
    "        var_name='fonte_dados', value_name='aplic_por_dia')"
   ]
  },
  {
   "cell_type": "code",
   "execution_count": 30,
   "metadata": {},
   "outputs": [
    {
     "data": {
      "text/html": [
       "\n",
       "<div id=\"altair-viz-a65e79f85c6e46ff97c9ec51d003fc89\"></div>\n",
       "<script type=\"text/javascript\">\n",
       "  (function(spec, embedOpt){\n",
       "    let outputDiv = document.currentScript.previousElementSibling;\n",
       "    if (outputDiv.id !== \"altair-viz-a65e79f85c6e46ff97c9ec51d003fc89\") {\n",
       "      outputDiv = document.getElementById(\"altair-viz-a65e79f85c6e46ff97c9ec51d003fc89\");\n",
       "    }\n",
       "    const paths = {\n",
       "      \"vega\": \"https://cdn.jsdelivr.net/npm//vega@5?noext\",\n",
       "      \"vega-lib\": \"https://cdn.jsdelivr.net/npm//vega-lib?noext\",\n",
       "      \"vega-lite\": \"https://cdn.jsdelivr.net/npm//vega-lite@4.8.1?noext\",\n",
       "      \"vega-embed\": \"https://cdn.jsdelivr.net/npm//vega-embed@6?noext\",\n",
       "    };\n",
       "\n",
       "    function loadScript(lib) {\n",
       "      return new Promise(function(resolve, reject) {\n",
       "        var s = document.createElement('script');\n",
       "        s.src = paths[lib];\n",
       "        s.async = true;\n",
       "        s.onload = () => resolve(paths[lib]);\n",
       "        s.onerror = () => reject(`Error loading script: ${paths[lib]}`);\n",
       "        document.getElementsByTagName(\"head\")[0].appendChild(s);\n",
       "      });\n",
       "    }\n",
       "\n",
       "    function showError(err) {\n",
       "      outputDiv.innerHTML = `<div class=\"error\" style=\"color:red;\">${err}</div>`;\n",
       "      throw err;\n",
       "    }\n",
       "\n",
       "    function displayChart(vegaEmbed) {\n",
       "      vegaEmbed(outputDiv, spec, embedOpt)\n",
       "        .catch(err => showError(`Javascript Error: ${err.message}<br>This usually means there's a typo in your chart specification. See the javascript console for the full traceback.`));\n",
       "    }\n",
       "\n",
       "    if(typeof define === \"function\" && define.amd) {\n",
       "      requirejs.config({paths});\n",
       "      require([\"vega-embed\"], displayChart, err => showError(`Error loading script: ${err.message}`));\n",
       "    } else if (typeof vegaEmbed === \"function\") {\n",
       "      displayChart(vegaEmbed);\n",
       "    } else {\n",
       "      loadScript(\"vega\")\n",
       "        .then(() => loadScript(\"vega-lite\"))\n",
       "        .then(() => loadScript(\"vega-embed\"))\n",
       "        .catch(showError)\n",
       "        .then(() => displayChart(vegaEmbed));\n",
       "    }\n",
       "  })({\"config\": {\"view\": {\"continuousWidth\": 400, \"continuousHeight\": 300}}, \"data\": {\"name\": \"data-039fb6e13dd8dea46bb9e256ec6350e0\"}, \"mark\": \"line\", \"encoding\": {\"color\": {\"type\": \"nominal\", \"field\": \"fonte_dados\", \"title\": \"Base de Dados\"}, \"x\": {\"type\": \"temporal\", \"field\": \"data\", \"title\": \"Data\"}, \"y\": {\"type\": \"quantitative\", \"field\": \"aplic_por_dia\", \"title\": \"N\\u00ba de Vacinados\"}}, \"title\": \"Quantidade de vacinados com 2\\u00ba Dose por Dia\", \"width\": 700, \"$schema\": \"https://vega.github.io/schema/vega-lite/v4.8.1.json\", \"datasets\": {\"data-039fb6e13dd8dea46bb9e256ec6350e0\": [{\"data\": \"2021-06-01\", \"fonte_dados\": \"Federal\", \"aplic_por_dia\": 180.0}, {\"data\": \"2021-06-02\", \"fonte_dados\": \"Federal\", \"aplic_por_dia\": 70.0}, {\"data\": \"2021-06-03\", \"fonte_dados\": \"Federal\", \"aplic_por_dia\": 146.0}, {\"data\": \"2021-06-04\", \"fonte_dados\": \"Federal\", \"aplic_por_dia\": 1095.0}, {\"data\": \"2021-06-05\", \"fonte_dados\": \"Federal\", \"aplic_por_dia\": 21.0}, {\"data\": \"2021-06-06\", \"fonte_dados\": \"Federal\", \"aplic_por_dia\": 20.0}, {\"data\": \"2021-06-07\", \"fonte_dados\": \"Federal\", \"aplic_por_dia\": 149.0}, {\"data\": \"2021-06-08\", \"fonte_dados\": \"Federal\", \"aplic_por_dia\": 206.0}, {\"data\": \"2021-06-09\", \"fonte_dados\": \"Federal\", \"aplic_por_dia\": 172.0}, {\"data\": \"2021-06-10\", \"fonte_dados\": \"Federal\", \"aplic_por_dia\": 54.0}, {\"data\": \"2021-06-11\", \"fonte_dados\": \"Federal\", \"aplic_por_dia\": 81.0}, {\"data\": \"2021-06-12\", \"fonte_dados\": \"Federal\", \"aplic_por_dia\": 49.0}, {\"data\": \"2021-06-13\", \"fonte_dados\": \"Federal\", \"aplic_por_dia\": 38.0}, {\"data\": \"2021-06-14\", \"fonte_dados\": \"Federal\", \"aplic_por_dia\": 103.0}, {\"data\": \"2021-06-15\", \"fonte_dados\": \"Federal\", \"aplic_por_dia\": 284.0}, {\"data\": \"2021-06-16\", \"fonte_dados\": \"Federal\", \"aplic_por_dia\": 92.0}, {\"data\": \"2021-06-17\", \"fonte_dados\": \"Federal\", \"aplic_por_dia\": 33.0}, {\"data\": \"2021-06-18\", \"fonte_dados\": \"Federal\", \"aplic_por_dia\": 37.0}, {\"data\": \"2021-06-19\", \"fonte_dados\": \"Federal\", \"aplic_por_dia\": 120.0}, {\"data\": \"2021-06-20\", \"fonte_dados\": \"Federal\", \"aplic_por_dia\": 79.0}, {\"data\": \"2021-06-21\", \"fonte_dados\": \"Federal\", \"aplic_por_dia\": 343.0}, {\"data\": \"2021-06-22\", \"fonte_dados\": \"Federal\", \"aplic_por_dia\": 239.0}, {\"data\": \"2021-06-23\", \"fonte_dados\": \"Federal\", \"aplic_por_dia\": 307.0}, {\"data\": \"2021-06-24\", \"fonte_dados\": \"Federal\", \"aplic_por_dia\": 305.0}, {\"data\": \"2021-06-25\", \"fonte_dados\": \"Federal\", \"aplic_por_dia\": 82.0}, {\"data\": \"2021-06-26\", \"fonte_dados\": \"Federal\", \"aplic_por_dia\": 1185.0}, {\"data\": \"2021-06-27\", \"fonte_dados\": \"Federal\", \"aplic_por_dia\": 983.0}, {\"data\": \"2021-06-28\", \"fonte_dados\": \"Federal\", \"aplic_por_dia\": 934.0}, {\"data\": \"2021-06-29\", \"fonte_dados\": \"Federal\", \"aplic_por_dia\": 1181.0}, {\"data\": \"2021-06-30\", \"fonte_dados\": \"Federal\", \"aplic_por_dia\": 236.0}, {\"data\": \"2021-07-01\", \"fonte_dados\": \"Federal\", \"aplic_por_dia\": 176.0}, {\"data\": \"2021-07-02\", \"fonte_dados\": \"Federal\", \"aplic_por_dia\": 628.0}, {\"data\": \"2021-07-03\", \"fonte_dados\": \"Federal\", \"aplic_por_dia\": 476.0}, {\"data\": \"2021-07-04\", \"fonte_dados\": \"Federal\", \"aplic_por_dia\": 90.0}, {\"data\": \"2021-07-05\", \"fonte_dados\": \"Federal\", \"aplic_por_dia\": 504.0}, {\"data\": \"2021-07-06\", \"fonte_dados\": \"Federal\", \"aplic_por_dia\": 429.0}, {\"data\": \"2021-07-07\", \"fonte_dados\": \"Federal\", \"aplic_por_dia\": 392.0}, {\"data\": \"2021-07-08\", \"fonte_dados\": \"Federal\", \"aplic_por_dia\": 447.0}, {\"data\": \"2021-07-09\", \"fonte_dados\": \"Federal\", \"aplic_por_dia\": 172.0}, {\"data\": \"2021-07-10\", \"fonte_dados\": \"Federal\", \"aplic_por_dia\": 182.0}, {\"data\": \"2021-07-11\", \"fonte_dados\": \"Federal\", \"aplic_por_dia\": 197.0}, {\"data\": \"2021-07-12\", \"fonte_dados\": \"Federal\", \"aplic_por_dia\": 1849.0}, {\"data\": \"2021-07-13\", \"fonte_dados\": \"Federal\", \"aplic_por_dia\": 757.0}, {\"data\": \"2021-07-14\", \"fonte_dados\": \"Federal\", \"aplic_por_dia\": 515.0}, {\"data\": \"2021-07-15\", \"fonte_dados\": \"Federal\", \"aplic_por_dia\": 494.0}, {\"data\": \"2021-07-16\", \"fonte_dados\": \"Federal\", \"aplic_por_dia\": 407.0}, {\"data\": \"2021-07-17\", \"fonte_dados\": \"Federal\", \"aplic_por_dia\": 877.0}, {\"data\": \"2021-07-18\", \"fonte_dados\": \"Federal\", \"aplic_por_dia\": 398.0}, {\"data\": \"2021-07-19\", \"fonte_dados\": \"Federal\", \"aplic_por_dia\": 1799.0}, {\"data\": \"2021-07-20\", \"fonte_dados\": \"Federal\", \"aplic_por_dia\": 1155.0}, {\"data\": \"2021-07-21\", \"fonte_dados\": \"Federal\", \"aplic_por_dia\": 264.0}, {\"data\": \"2021-07-22\", \"fonte_dados\": \"Federal\", \"aplic_por_dia\": 474.0}, {\"data\": \"2021-07-23\", \"fonte_dados\": \"Federal\", \"aplic_por_dia\": 1237.0}, {\"data\": \"2021-07-24\", \"fonte_dados\": \"Federal\", \"aplic_por_dia\": 1314.0}, {\"data\": \"2021-07-25\", \"fonte_dados\": \"Federal\", \"aplic_por_dia\": 1.0}, {\"data\": \"2021-07-26\", \"fonte_dados\": \"Federal\", \"aplic_por_dia\": 1571.0}, {\"data\": \"2021-07-27\", \"fonte_dados\": \"Federal\", \"aplic_por_dia\": 1544.0}, {\"data\": \"2021-07-28\", \"fonte_dados\": \"Federal\", \"aplic_por_dia\": 517.0}, {\"data\": \"2021-07-29\", \"fonte_dados\": \"Federal\", \"aplic_por_dia\": 709.0}, {\"data\": \"2021-07-30\", \"fonte_dados\": \"Federal\", \"aplic_por_dia\": 1051.0}, {\"data\": \"2021-07-31\", \"fonte_dados\": \"Federal\", \"aplic_por_dia\": 795.0}, {\"data\": \"2021-08-01\", \"fonte_dados\": \"Federal\", \"aplic_por_dia\": 204.0}, {\"data\": \"2021-08-02\", \"fonte_dados\": \"Federal\", \"aplic_por_dia\": 660.0}, {\"data\": \"2021-08-03\", \"fonte_dados\": \"Federal\", \"aplic_por_dia\": 586.0}, {\"data\": \"2021-08-04\", \"fonte_dados\": \"Federal\", \"aplic_por_dia\": 477.0}, {\"data\": \"2021-08-05\", \"fonte_dados\": \"Federal\", \"aplic_por_dia\": 520.0}, {\"data\": \"2021-08-06\", \"fonte_dados\": \"Federal\", \"aplic_por_dia\": 990.0}, {\"data\": \"2021-08-07\", \"fonte_dados\": \"Federal\", \"aplic_por_dia\": 653.0}, {\"data\": \"2021-08-08\", \"fonte_dados\": \"Federal\", \"aplic_por_dia\": 680.0}, {\"data\": \"2021-08-09\", \"fonte_dados\": \"Federal\", \"aplic_por_dia\": 1030.0}, {\"data\": \"2021-08-10\", \"fonte_dados\": \"Federal\", \"aplic_por_dia\": 1987.0}, {\"data\": \"2021-08-11\", \"fonte_dados\": \"Federal\", \"aplic_por_dia\": 708.0}, {\"data\": \"2021-08-12\", \"fonte_dados\": \"Federal\", \"aplic_por_dia\": 494.0}, {\"data\": \"2021-08-13\", \"fonte_dados\": \"Federal\", \"aplic_por_dia\": 1157.0}, {\"data\": \"2021-08-14\", \"fonte_dados\": \"Federal\", \"aplic_por_dia\": 1135.0}, {\"data\": \"2021-08-15\", \"fonte_dados\": \"Federal\", \"aplic_por_dia\": 351.0}, {\"data\": \"2021-08-16\", \"fonte_dados\": \"Federal\", \"aplic_por_dia\": 1250.0}, {\"data\": \"2021-08-17\", \"fonte_dados\": \"Federal\", \"aplic_por_dia\": 1376.0}, {\"data\": \"2021-08-18\", \"fonte_dados\": \"Federal\", \"aplic_por_dia\": 2553.0}, {\"data\": \"2021-08-19\", \"fonte_dados\": \"Federal\", \"aplic_por_dia\": 1085.0}, {\"data\": \"2021-08-20\", \"fonte_dados\": \"Federal\", \"aplic_por_dia\": 931.0}, {\"data\": \"2021-08-21\", \"fonte_dados\": \"Federal\", \"aplic_por_dia\": 733.0}, {\"data\": \"2021-08-23\", \"fonte_dados\": \"Federal\", \"aplic_por_dia\": 2117.0}, {\"data\": \"2021-08-24\", \"fonte_dados\": \"Federal\", \"aplic_por_dia\": 1925.0}, {\"data\": \"2021-08-25\", \"fonte_dados\": \"Federal\", \"aplic_por_dia\": 2297.0}, {\"data\": \"2021-08-26\", \"fonte_dados\": \"Federal\", \"aplic_por_dia\": 1561.0}, {\"data\": \"2021-08-27\", \"fonte_dados\": \"Federal\", \"aplic_por_dia\": 544.0}, {\"data\": \"2021-08-28\", \"fonte_dados\": \"Federal\", \"aplic_por_dia\": 495.0}, {\"data\": \"2021-08-29\", \"fonte_dados\": \"Federal\", \"aplic_por_dia\": 2.0}, {\"data\": \"2021-08-30\", \"fonte_dados\": \"Federal\", \"aplic_por_dia\": 1114.0}, {\"data\": \"2021-08-31\", \"fonte_dados\": \"Federal\", \"aplic_por_dia\": 961.0}, {\"data\": \"2021-06-01\", \"fonte_dados\": \"Municipal\", \"aplic_por_dia\": 2.0}, {\"data\": \"2021-06-02\", \"fonte_dados\": \"Municipal\", \"aplic_por_dia\": 0.0}, {\"data\": \"2021-06-03\", \"fonte_dados\": \"Municipal\", \"aplic_por_dia\": 102.0}, {\"data\": \"2021-06-04\", \"fonte_dados\": \"Municipal\", \"aplic_por_dia\": 1110.0}, {\"data\": \"2021-06-05\", \"fonte_dados\": \"Municipal\", \"aplic_por_dia\": 0.0}, {\"data\": \"2021-06-06\", \"fonte_dados\": \"Municipal\", \"aplic_por_dia\": 0.0}, {\"data\": \"2021-06-07\", \"fonte_dados\": \"Municipal\", \"aplic_por_dia\": 0.0}, {\"data\": \"2021-06-08\", \"fonte_dados\": \"Municipal\", \"aplic_por_dia\": 0.0}, {\"data\": \"2021-06-09\", \"fonte_dados\": \"Municipal\", \"aplic_por_dia\": 0.0}, {\"data\": \"2021-06-10\", \"fonte_dados\": \"Municipal\", \"aplic_por_dia\": 0.0}, {\"data\": \"2021-06-11\", \"fonte_dados\": \"Municipal\", \"aplic_por_dia\": 0.0}, {\"data\": \"2021-06-12\", \"fonte_dados\": \"Municipal\", \"aplic_por_dia\": 0.0}, {\"data\": \"2021-06-13\", \"fonte_dados\": \"Municipal\", \"aplic_por_dia\": 0.0}, {\"data\": \"2021-06-14\", \"fonte_dados\": \"Municipal\", \"aplic_por_dia\": 322.0}, {\"data\": \"2021-06-15\", \"fonte_dados\": \"Municipal\", \"aplic_por_dia\": 0.0}, {\"data\": \"2021-06-16\", \"fonte_dados\": \"Municipal\", \"aplic_por_dia\": 0.0}, {\"data\": \"2021-06-17\", \"fonte_dados\": \"Municipal\", \"aplic_por_dia\": 0.0}, {\"data\": \"2021-06-18\", \"fonte_dados\": \"Municipal\", \"aplic_por_dia\": 0.0}, {\"data\": \"2021-06-19\", \"fonte_dados\": \"Municipal\", \"aplic_por_dia\": 19.0}, {\"data\": \"2021-06-20\", \"fonte_dados\": \"Municipal\", \"aplic_por_dia\": 15.0}, {\"data\": \"2021-06-21\", \"fonte_dados\": \"Municipal\", \"aplic_por_dia\": 29.0}, {\"data\": \"2021-06-22\", \"fonte_dados\": \"Municipal\", \"aplic_por_dia\": 7.0}, {\"data\": \"2021-06-23\", \"fonte_dados\": \"Municipal\", \"aplic_por_dia\": 0.0}, {\"data\": \"2021-06-24\", \"fonte_dados\": \"Municipal\", \"aplic_por_dia\": 555.0}, {\"data\": \"2021-06-25\", \"fonte_dados\": \"Municipal\", \"aplic_por_dia\": 1413.0}, {\"data\": \"2021-06-26\", \"fonte_dados\": \"Municipal\", \"aplic_por_dia\": 775.0}, {\"data\": \"2021-06-27\", \"fonte_dados\": \"Municipal\", \"aplic_por_dia\": 101.0}, {\"data\": \"2021-06-28\", \"fonte_dados\": \"Municipal\", \"aplic_por_dia\": 865.0}, {\"data\": \"2021-06-29\", \"fonte_dados\": \"Municipal\", \"aplic_por_dia\": 0.0}, {\"data\": \"2021-06-30\", \"fonte_dados\": \"Municipal\", \"aplic_por_dia\": 1537.0}, {\"data\": \"2021-07-01\", \"fonte_dados\": \"Municipal\", \"aplic_por_dia\": 180.0}, {\"data\": \"2021-07-02\", \"fonte_dados\": \"Municipal\", \"aplic_por_dia\": 1060.0}, {\"data\": \"2021-07-03\", \"fonte_dados\": \"Municipal\", \"aplic_por_dia\": 1728.0}, {\"data\": \"2021-07-04\", \"fonte_dados\": \"Municipal\", \"aplic_por_dia\": 1181.0}, {\"data\": \"2021-07-05\", \"fonte_dados\": \"Municipal\", \"aplic_por_dia\": 292.0}, {\"data\": \"2021-07-06\", \"fonte_dados\": \"Municipal\", \"aplic_por_dia\": 0.0}, {\"data\": \"2021-07-07\", \"fonte_dados\": \"Municipal\", \"aplic_por_dia\": 623.0}, {\"data\": \"2021-07-08\", \"fonte_dados\": \"Municipal\", \"aplic_por_dia\": 129.0}, {\"data\": \"2021-07-09\", \"fonte_dados\": \"Municipal\", \"aplic_por_dia\": 166.0}, {\"data\": \"2021-07-10\", \"fonte_dados\": \"Municipal\", \"aplic_por_dia\": 180.0}, {\"data\": \"2021-07-11\", \"fonte_dados\": \"Municipal\", \"aplic_por_dia\": 98.0}, {\"data\": \"2021-07-12\", \"fonte_dados\": \"Municipal\", \"aplic_por_dia\": 0.0}, {\"data\": \"2021-07-13\", \"fonte_dados\": \"Municipal\", \"aplic_por_dia\": 956.0}, {\"data\": \"2021-07-14\", \"fonte_dados\": \"Municipal\", \"aplic_por_dia\": 412.0}, {\"data\": \"2021-07-15\", \"fonte_dados\": \"Municipal\", \"aplic_por_dia\": 372.0}, {\"data\": \"2021-07-16\", \"fonte_dados\": \"Municipal\", \"aplic_por_dia\": 3051.0}, {\"data\": \"2021-07-17\", \"fonte_dados\": \"Municipal\", \"aplic_por_dia\": 767.0}, {\"data\": \"2021-07-18\", \"fonte_dados\": \"Municipal\", \"aplic_por_dia\": 1755.0}, {\"data\": \"2021-07-19\", \"fonte_dados\": \"Municipal\", \"aplic_por_dia\": 785.0}, {\"data\": \"2021-07-20\", \"fonte_dados\": \"Municipal\", \"aplic_por_dia\": 255.0}, {\"data\": \"2021-07-21\", \"fonte_dados\": \"Municipal\", \"aplic_por_dia\": 438.0}, {\"data\": \"2021-07-22\", \"fonte_dados\": \"Municipal\", \"aplic_por_dia\": 1422.0}, {\"data\": \"2021-07-23\", \"fonte_dados\": \"Municipal\", \"aplic_por_dia\": 1314.0}, {\"data\": \"2021-07-24\", \"fonte_dados\": \"Municipal\", \"aplic_por_dia\": 0.0}, {\"data\": \"2021-07-25\", \"fonte_dados\": \"Municipal\", \"aplic_por_dia\": 1185.0}, {\"data\": \"2021-07-26\", \"fonte_dados\": \"Municipal\", \"aplic_por_dia\": 695.0}, {\"data\": \"2021-07-27\", \"fonte_dados\": \"Municipal\", \"aplic_por_dia\": 1395.0}, {\"data\": \"2021-07-28\", \"fonte_dados\": \"Municipal\", \"aplic_por_dia\": 1265.0}, {\"data\": \"2021-07-29\", \"fonte_dados\": \"Municipal\", \"aplic_por_dia\": 1079.0}, {\"data\": \"2021-07-30\", \"fonte_dados\": \"Municipal\", \"aplic_por_dia\": 830.0}, {\"data\": \"2021-07-31\", \"fonte_dados\": \"Municipal\", \"aplic_por_dia\": 200.0}, {\"data\": \"2021-08-01\", \"fonte_dados\": \"Municipal\", \"aplic_por_dia\": 443.0}, {\"data\": \"2021-08-02\", \"fonte_dados\": \"Municipal\", \"aplic_por_dia\": 804.0}, {\"data\": \"2021-08-03\", \"fonte_dados\": \"Municipal\", \"aplic_por_dia\": 690.0}, {\"data\": \"2021-08-04\", \"fonte_dados\": \"Municipal\", \"aplic_por_dia\": 781.0}, {\"data\": \"2021-08-05\", \"fonte_dados\": \"Municipal\", \"aplic_por_dia\": 596.0}, {\"data\": \"2021-08-06\", \"fonte_dados\": \"Municipal\", \"aplic_por_dia\": 610.0}, {\"data\": \"2021-08-07\", \"fonte_dados\": \"Municipal\", \"aplic_por_dia\": 677.0}, {\"data\": \"2021-08-08\", \"fonte_dados\": \"Municipal\", \"aplic_por_dia\": 1527.0}, {\"data\": \"2021-08-09\", \"fonte_dados\": \"Municipal\", \"aplic_por_dia\": 2480.0}, {\"data\": \"2021-08-10\", \"fonte_dados\": \"Municipal\", \"aplic_por_dia\": 1174.0}, {\"data\": \"2021-08-11\", \"fonte_dados\": \"Municipal\", \"aplic_por_dia\": 305.0}, {\"data\": \"2021-08-12\", \"fonte_dados\": \"Municipal\", \"aplic_por_dia\": 1333.0}, {\"data\": \"2021-08-13\", \"fonte_dados\": \"Municipal\", \"aplic_por_dia\": 1033.0}, {\"data\": \"2021-08-14\", \"fonte_dados\": \"Municipal\", \"aplic_por_dia\": 313.0}, {\"data\": \"2021-08-15\", \"fonte_dados\": \"Municipal\", \"aplic_por_dia\": 830.0}, {\"data\": \"2021-08-16\", \"fonte_dados\": \"Municipal\", \"aplic_por_dia\": 1703.0}, {\"data\": \"2021-08-17\", \"fonte_dados\": \"Municipal\", \"aplic_por_dia\": 1229.0}, {\"data\": \"2021-08-18\", \"fonte_dados\": \"Municipal\", \"aplic_por_dia\": 919.0}, {\"data\": \"2021-08-19\", \"fonte_dados\": \"Municipal\", \"aplic_por_dia\": 465.0}, {\"data\": \"2021-08-20\", \"fonte_dados\": \"Municipal\", \"aplic_por_dia\": 750.0}, {\"data\": \"2021-08-21\", \"fonte_dados\": \"Municipal\", \"aplic_por_dia\": 0.0}, {\"data\": \"2021-08-23\", \"fonte_dados\": \"Municipal\", \"aplic_por_dia\": 1429.0}, {\"data\": \"2021-08-24\", \"fonte_dados\": \"Municipal\", \"aplic_por_dia\": 1169.0}, {\"data\": \"2021-08-25\", \"fonte_dados\": \"Municipal\", \"aplic_por_dia\": 2255.0}, {\"data\": \"2021-08-26\", \"fonte_dados\": \"Municipal\", \"aplic_por_dia\": 657.0}, {\"data\": \"2021-08-27\", \"fonte_dados\": \"Municipal\", \"aplic_por_dia\": 1695.0}, {\"data\": \"2021-08-28\", \"fonte_dados\": \"Municipal\", \"aplic_por_dia\": 544.0}, {\"data\": \"2021-08-29\", \"fonte_dados\": \"Municipal\", \"aplic_por_dia\": 0.0}, {\"data\": \"2021-08-30\", \"fonte_dados\": \"Municipal\", \"aplic_por_dia\": 1910.0}, {\"data\": \"2021-08-31\", \"fonte_dados\": \"Municipal\", \"aplic_por_dia\": 1304.0}]}}, {\"mode\": \"vega-lite\"});\n",
       "</script>"
      ],
      "text/plain": [
       "alt.Chart(...)"
      ]
     },
     "execution_count": 30,
     "metadata": {},
     "output_type": "execute_result"
    }
   ],
   "source": [
    "alt.Chart(vacinados2DosePorDia).mark_line().encode(\n",
    "    alt.X('data:T', title='Data'),\n",
    "    alt.Y('aplic_por_dia:Q', title='Nº de Vacinados'),\n",
    "    alt.Color('fonte_dados:N', title='Base de Dados')\n",
    ").properties(\n",
    "    width=700,\n",
    "    title='Quantidade de vacinados com 2º Dose por Dia'\n",
    ")"
   ]
  },
  {
   "cell_type": "code",
   "execution_count": 31,
   "metadata": {},
   "outputs": [],
   "source": [
    "# Dose Única\n",
    "vacinadosDoseUnicaPorDia = pd.DataFrame({\n",
    "  'data': df_DoseUnicaPorDia.keys().tolist(),\n",
    "  'Federal': df_DoseUnicaPorDia.values.tolist(),\n",
    "  'Municipal': dm_DoseUnicaPorDia.values.tolist()\n",
    "}).melt(id_vars=['data'], value_vars=['Federal', 'Municipal'],\n",
    "        var_name='fonte_dados', value_name='aplic_por_dia')"
   ]
  },
  {
   "cell_type": "code",
   "execution_count": 32,
   "metadata": {},
   "outputs": [
    {
     "data": {
      "text/html": [
       "\n",
       "<div id=\"altair-viz-b1493d2e41504a8da4e15342fffbe54f\"></div>\n",
       "<script type=\"text/javascript\">\n",
       "  (function(spec, embedOpt){\n",
       "    let outputDiv = document.currentScript.previousElementSibling;\n",
       "    if (outputDiv.id !== \"altair-viz-b1493d2e41504a8da4e15342fffbe54f\") {\n",
       "      outputDiv = document.getElementById(\"altair-viz-b1493d2e41504a8da4e15342fffbe54f\");\n",
       "    }\n",
       "    const paths = {\n",
       "      \"vega\": \"https://cdn.jsdelivr.net/npm//vega@5?noext\",\n",
       "      \"vega-lib\": \"https://cdn.jsdelivr.net/npm//vega-lib?noext\",\n",
       "      \"vega-lite\": \"https://cdn.jsdelivr.net/npm//vega-lite@4.8.1?noext\",\n",
       "      \"vega-embed\": \"https://cdn.jsdelivr.net/npm//vega-embed@6?noext\",\n",
       "    };\n",
       "\n",
       "    function loadScript(lib) {\n",
       "      return new Promise(function(resolve, reject) {\n",
       "        var s = document.createElement('script');\n",
       "        s.src = paths[lib];\n",
       "        s.async = true;\n",
       "        s.onload = () => resolve(paths[lib]);\n",
       "        s.onerror = () => reject(`Error loading script: ${paths[lib]}`);\n",
       "        document.getElementsByTagName(\"head\")[0].appendChild(s);\n",
       "      });\n",
       "    }\n",
       "\n",
       "    function showError(err) {\n",
       "      outputDiv.innerHTML = `<div class=\"error\" style=\"color:red;\">${err}</div>`;\n",
       "      throw err;\n",
       "    }\n",
       "\n",
       "    function displayChart(vegaEmbed) {\n",
       "      vegaEmbed(outputDiv, spec, embedOpt)\n",
       "        .catch(err => showError(`Javascript Error: ${err.message}<br>This usually means there's a typo in your chart specification. See the javascript console for the full traceback.`));\n",
       "    }\n",
       "\n",
       "    if(typeof define === \"function\" && define.amd) {\n",
       "      requirejs.config({paths});\n",
       "      require([\"vega-embed\"], displayChart, err => showError(`Error loading script: ${err.message}`));\n",
       "    } else if (typeof vegaEmbed === \"function\") {\n",
       "      displayChart(vegaEmbed);\n",
       "    } else {\n",
       "      loadScript(\"vega\")\n",
       "        .then(() => loadScript(\"vega-lite\"))\n",
       "        .then(() => loadScript(\"vega-embed\"))\n",
       "        .catch(showError)\n",
       "        .then(() => displayChart(vegaEmbed));\n",
       "    }\n",
       "  })({\"config\": {\"view\": {\"continuousWidth\": 400, \"continuousHeight\": 300}}, \"data\": {\"name\": \"data-646d0893c63700d687cf7aecb3d36881\"}, \"mark\": \"line\", \"encoding\": {\"color\": {\"type\": \"nominal\", \"field\": \"fonte_dados\", \"title\": \"Base de Dados\"}, \"x\": {\"type\": \"temporal\", \"field\": \"data\", \"title\": \"Data\"}, \"y\": {\"type\": \"quantitative\", \"field\": \"aplic_por_dia\", \"title\": \"N\\u00ba de Vacinados\"}}, \"title\": \"Quantidade de vacinados com Dose \\u00danica por Dia\", \"width\": 600, \"$schema\": \"https://vega.github.io/schema/vega-lite/v4.8.1.json\", \"datasets\": {\"data-646d0893c63700d687cf7aecb3d36881\": [{\"data\": \"2021-06-25\", \"fonte_dados\": \"Federal\", \"aplic_por_dia\": 1333.0}, {\"data\": \"2021-06-26\", \"fonte_dados\": \"Federal\", \"aplic_por_dia\": 594.0}, {\"data\": \"2021-06-27\", \"fonte_dados\": \"Federal\", \"aplic_por_dia\": 225.0}, {\"data\": \"2021-06-28\", \"fonte_dados\": \"Federal\", \"aplic_por_dia\": 378.0}, {\"data\": \"2021-06-29\", \"fonte_dados\": \"Federal\", \"aplic_por_dia\": 10.0}, {\"data\": \"2021-06-30\", \"fonte_dados\": \"Federal\", \"aplic_por_dia\": 6.0}, {\"data\": \"2021-07-01\", \"fonte_dados\": \"Federal\", \"aplic_por_dia\": 23.0}, {\"data\": \"2021-07-04\", \"fonte_dados\": \"Federal\", \"aplic_por_dia\": 1262.0}, {\"data\": \"2021-07-05\", \"fonte_dados\": \"Federal\", \"aplic_por_dia\": 2217.0}, {\"data\": \"2021-07-06\", \"fonte_dados\": \"Federal\", \"aplic_por_dia\": 3.0}, {\"data\": \"2021-07-07\", \"fonte_dados\": \"Federal\", \"aplic_por_dia\": 5.0}, {\"data\": \"2021-07-09\", \"fonte_dados\": \"Federal\", \"aplic_por_dia\": 85.0}, {\"data\": \"2021-07-12\", \"fonte_dados\": \"Federal\", \"aplic_por_dia\": 20.0}, {\"data\": \"2021-07-13\", \"fonte_dados\": \"Federal\", \"aplic_por_dia\": 11.0}, {\"data\": \"2021-07-18\", \"fonte_dados\": \"Federal\", \"aplic_por_dia\": 1.0}, {\"data\": \"2021-08-07\", \"fonte_dados\": \"Federal\", \"aplic_por_dia\": 93.0}, {\"data\": \"2021-08-10\", \"fonte_dados\": \"Federal\", \"aplic_por_dia\": 3.0}, {\"data\": \"2021-08-11\", \"fonte_dados\": \"Federal\", \"aplic_por_dia\": 1.0}, {\"data\": \"2021-08-18\", \"fonte_dados\": \"Federal\", \"aplic_por_dia\": 1.0}, {\"data\": \"2021-08-19\", \"fonte_dados\": \"Federal\", \"aplic_por_dia\": 5.0}, {\"data\": \"2021-08-24\", \"fonte_dados\": \"Federal\", \"aplic_por_dia\": 1.0}, {\"data\": \"2021-08-26\", \"fonte_dados\": \"Federal\", \"aplic_por_dia\": 4.0}, {\"data\": \"2021-08-30\", \"fonte_dados\": \"Federal\", \"aplic_por_dia\": 4.0}, {\"data\": \"2021-06-25\", \"fonte_dados\": \"Municipal\", \"aplic_por_dia\": null}, {\"data\": \"2021-06-26\", \"fonte_dados\": \"Municipal\", \"aplic_por_dia\": null}, {\"data\": \"2021-06-27\", \"fonte_dados\": \"Municipal\", \"aplic_por_dia\": null}, {\"data\": \"2021-06-28\", \"fonte_dados\": \"Municipal\", \"aplic_por_dia\": null}, {\"data\": \"2021-06-29\", \"fonte_dados\": \"Municipal\", \"aplic_por_dia\": 76.0}, {\"data\": \"2021-06-30\", \"fonte_dados\": \"Municipal\", \"aplic_por_dia\": 2629.0}, {\"data\": \"2021-07-01\", \"fonte_dados\": \"Municipal\", \"aplic_por_dia\": 0.0}, {\"data\": \"2021-07-04\", \"fonte_dados\": \"Municipal\", \"aplic_por_dia\": 1360.0}, {\"data\": \"2021-07-05\", \"fonte_dados\": \"Municipal\", \"aplic_por_dia\": 2175.0}, {\"data\": \"2021-07-06\", \"fonte_dados\": \"Municipal\", \"aplic_por_dia\": 5.0}, {\"data\": \"2021-07-07\", \"fonte_dados\": \"Municipal\", \"aplic_por_dia\": 0.0}, {\"data\": \"2021-07-09\", \"fonte_dados\": \"Municipal\", \"aplic_por_dia\": 0.0}, {\"data\": \"2021-07-12\", \"fonte_dados\": \"Municipal\", \"aplic_por_dia\": 0.0}, {\"data\": \"2021-07-13\", \"fonte_dados\": \"Municipal\", \"aplic_por_dia\": 0.0}, {\"data\": \"2021-07-18\", \"fonte_dados\": \"Municipal\", \"aplic_por_dia\": 0.0}, {\"data\": \"2021-08-07\", \"fonte_dados\": \"Municipal\", \"aplic_por_dia\": 0.0}, {\"data\": \"2021-08-10\", \"fonte_dados\": \"Municipal\", \"aplic_por_dia\": 0.0}, {\"data\": \"2021-08-11\", \"fonte_dados\": \"Municipal\", \"aplic_por_dia\": 0.0}, {\"data\": \"2021-08-18\", \"fonte_dados\": \"Municipal\", \"aplic_por_dia\": 0.0}, {\"data\": \"2021-08-19\", \"fonte_dados\": \"Municipal\", \"aplic_por_dia\": 0.0}, {\"data\": \"2021-08-24\", \"fonte_dados\": \"Municipal\", \"aplic_por_dia\": 0.0}, {\"data\": \"2021-08-26\", \"fonte_dados\": \"Municipal\", \"aplic_por_dia\": 0.0}, {\"data\": \"2021-08-30\", \"fonte_dados\": \"Municipal\", \"aplic_por_dia\": 0.0}]}}, {\"mode\": \"vega-lite\"});\n",
       "</script>"
      ],
      "text/plain": [
       "alt.Chart(...)"
      ]
     },
     "execution_count": 32,
     "metadata": {},
     "output_type": "execute_result"
    }
   ],
   "source": [
    "alt.Chart(vacinadosDoseUnicaPorDia).mark_line().encode(\n",
    "    alt.X('data:T', title='Data'),\n",
    "    alt.Y('aplic_por_dia:Q', title='Nº de Vacinados'),\n",
    "    alt.Color('fonte_dados:N', title='Base de Dados')\n",
    ").properties(\n",
    "    width=600,\n",
    "    title='Quantidade de vacinados com Dose Única por Dia'\n",
    ")"
   ]
  },
  {
   "cell_type": "code",
   "execution_count": 33,
   "metadata": {},
   "outputs": [],
   "source": [
    "total1Dose = df_1DosePorDia.values.sum()\n",
    "total2Dose = df_2DosePorDia.values.sum()\n",
    "totalDoseUnica = df_DoseUnicaPorDia.sum()"
   ]
  },
  {
   "cell_type": "code",
   "execution_count": 34,
   "metadata": {},
   "outputs": [],
   "source": [
    "df_vacinadosTotalPorDose = pd.DataFrame({\n",
    "    'dose': ['1Dose', '2Dose', 'Dose'],\n",
    "    'aplicacoes': [total1Dose, total2Dose, totalDoseUnica]\n",
    "})"
   ]
  },
  {
   "cell_type": "code",
   "execution_count": 35,
   "metadata": {},
   "outputs": [],
   "source": [
    "dm_vacinadosTotalPorDose = dados_municipais_campina[['vacinadosDose1','vacinadosDose2', 'vacinadosDoseUnica']]\n",
    "dm_vacinadosTotalPorDose = pd.DataFrame({\n",
    "    'dose': dm_vacinadosTotalPorDose.iloc[-1].index.tolist(),\n",
    "    'aplicacoes': (dm_vacinadosTotalPorDose.iloc[-1].values - dm_vacinadosTotalPorDose.iloc[0].values).tolist()\n",
    "})"
   ]
  },
  {
   "cell_type": "code",
   "execution_count": 36,
   "metadata": {},
   "outputs": [
    {
     "data": {
      "text/html": [
       "\n",
       "<div id=\"altair-viz-774a681f1e654a76a2d57df4be7ca0ce\"></div>\n",
       "<script type=\"text/javascript\">\n",
       "  (function(spec, embedOpt){\n",
       "    let outputDiv = document.currentScript.previousElementSibling;\n",
       "    if (outputDiv.id !== \"altair-viz-774a681f1e654a76a2d57df4be7ca0ce\") {\n",
       "      outputDiv = document.getElementById(\"altair-viz-774a681f1e654a76a2d57df4be7ca0ce\");\n",
       "    }\n",
       "    const paths = {\n",
       "      \"vega\": \"https://cdn.jsdelivr.net/npm//vega@5?noext\",\n",
       "      \"vega-lib\": \"https://cdn.jsdelivr.net/npm//vega-lib?noext\",\n",
       "      \"vega-lite\": \"https://cdn.jsdelivr.net/npm//vega-lite@4.8.1?noext\",\n",
       "      \"vega-embed\": \"https://cdn.jsdelivr.net/npm//vega-embed@6?noext\",\n",
       "    };\n",
       "\n",
       "    function loadScript(lib) {\n",
       "      return new Promise(function(resolve, reject) {\n",
       "        var s = document.createElement('script');\n",
       "        s.src = paths[lib];\n",
       "        s.async = true;\n",
       "        s.onload = () => resolve(paths[lib]);\n",
       "        s.onerror = () => reject(`Error loading script: ${paths[lib]}`);\n",
       "        document.getElementsByTagName(\"head\")[0].appendChild(s);\n",
       "      });\n",
       "    }\n",
       "\n",
       "    function showError(err) {\n",
       "      outputDiv.innerHTML = `<div class=\"error\" style=\"color:red;\">${err}</div>`;\n",
       "      throw err;\n",
       "    }\n",
       "\n",
       "    function displayChart(vegaEmbed) {\n",
       "      vegaEmbed(outputDiv, spec, embedOpt)\n",
       "        .catch(err => showError(`Javascript Error: ${err.message}<br>This usually means there's a typo in your chart specification. See the javascript console for the full traceback.`));\n",
       "    }\n",
       "\n",
       "    if(typeof define === \"function\" && define.amd) {\n",
       "      requirejs.config({paths});\n",
       "      require([\"vega-embed\"], displayChart, err => showError(`Error loading script: ${err.message}`));\n",
       "    } else if (typeof vegaEmbed === \"function\") {\n",
       "      displayChart(vegaEmbed);\n",
       "    } else {\n",
       "      loadScript(\"vega\")\n",
       "        .then(() => loadScript(\"vega-lite\"))\n",
       "        .then(() => loadScript(\"vega-embed\"))\n",
       "        .catch(showError)\n",
       "        .then(() => displayChart(vegaEmbed));\n",
       "    }\n",
       "  })({\"config\": {\"view\": {\"continuousWidth\": 400, \"continuousHeight\": 300}}, \"data\": {\"name\": \"data-94e4548612a3042ba552de532f2ef862\"}, \"mark\": {\"type\": \"bar\", \"size\": 30}, \"encoding\": {\"color\": {\"type\": \"nominal\", \"field\": \"base\", \"title\": \"Base\"}, \"x\": {\"type\": \"nominal\", \"field\": \"base\", \"title\": \"Base dos Dados\"}, \"y\": {\"type\": \"quantitative\", \"field\": \"total\", \"title\": \"N\\u00ba Total de Vacinados\"}}, \"title\": \"Total de aplica\\u00e7\\u00f5es da Primeira Dose\", \"width\": 150, \"$schema\": \"https://vega.github.io/schema/vega-lite/v4.8.1.json\", \"datasets\": {\"data-94e4548612a3042ba552de532f2ef862\": [{\"base\": \"Municipal\", \"total\": 170255.0}, {\"base\": \"Federal\", \"total\": 159807.0}]}}, {\"mode\": \"vega-lite\"});\n",
       "</script>"
      ],
      "text/plain": [
       "alt.Chart(...)"
      ]
     },
     "execution_count": 36,
     "metadata": {},
     "output_type": "execute_result"
    }
   ],
   "source": [
    "primeiraDoseTotal = pd.DataFrame({\n",
    "    'base': ['Municipal', 'Federal'],\n",
    "    'total': [dm_vacinadosTotalPorDose['aplicacoes'][0], df_vacinadosTotalPorDose['aplicacoes'][0]]\n",
    "})\n",
    "\n",
    "alt.Chart(primeiraDoseTotal).mark_bar(size=30).encode(\n",
    "    alt.X('base:N', title='Base dos Dados'),\n",
    "    alt.Y('total:Q', title='Nº Total de Vacinados'),\n",
    "    alt.Color('base:N', title='Base')\n",
    ").properties(\n",
    "    width=150,\n",
    "    title='Total de aplicações da Primeira Dose'\n",
    ")"
   ]
  },
  {
   "cell_type": "code",
   "execution_count": 37,
   "metadata": {},
   "outputs": [
    {
     "data": {
      "text/html": [
       "\n",
       "<div id=\"altair-viz-35af138d40164995a2cbb5e2ac4228cc\"></div>\n",
       "<script type=\"text/javascript\">\n",
       "  (function(spec, embedOpt){\n",
       "    let outputDiv = document.currentScript.previousElementSibling;\n",
       "    if (outputDiv.id !== \"altair-viz-35af138d40164995a2cbb5e2ac4228cc\") {\n",
       "      outputDiv = document.getElementById(\"altair-viz-35af138d40164995a2cbb5e2ac4228cc\");\n",
       "    }\n",
       "    const paths = {\n",
       "      \"vega\": \"https://cdn.jsdelivr.net/npm//vega@5?noext\",\n",
       "      \"vega-lib\": \"https://cdn.jsdelivr.net/npm//vega-lib?noext\",\n",
       "      \"vega-lite\": \"https://cdn.jsdelivr.net/npm//vega-lite@4.8.1?noext\",\n",
       "      \"vega-embed\": \"https://cdn.jsdelivr.net/npm//vega-embed@6?noext\",\n",
       "    };\n",
       "\n",
       "    function loadScript(lib) {\n",
       "      return new Promise(function(resolve, reject) {\n",
       "        var s = document.createElement('script');\n",
       "        s.src = paths[lib];\n",
       "        s.async = true;\n",
       "        s.onload = () => resolve(paths[lib]);\n",
       "        s.onerror = () => reject(`Error loading script: ${paths[lib]}`);\n",
       "        document.getElementsByTagName(\"head\")[0].appendChild(s);\n",
       "      });\n",
       "    }\n",
       "\n",
       "    function showError(err) {\n",
       "      outputDiv.innerHTML = `<div class=\"error\" style=\"color:red;\">${err}</div>`;\n",
       "      throw err;\n",
       "    }\n",
       "\n",
       "    function displayChart(vegaEmbed) {\n",
       "      vegaEmbed(outputDiv, spec, embedOpt)\n",
       "        .catch(err => showError(`Javascript Error: ${err.message}<br>This usually means there's a typo in your chart specification. See the javascript console for the full traceback.`));\n",
       "    }\n",
       "\n",
       "    if(typeof define === \"function\" && define.amd) {\n",
       "      requirejs.config({paths});\n",
       "      require([\"vega-embed\"], displayChart, err => showError(`Error loading script: ${err.message}`));\n",
       "    } else if (typeof vegaEmbed === \"function\") {\n",
       "      displayChart(vegaEmbed);\n",
       "    } else {\n",
       "      loadScript(\"vega\")\n",
       "        .then(() => loadScript(\"vega-lite\"))\n",
       "        .then(() => loadScript(\"vega-embed\"))\n",
       "        .catch(showError)\n",
       "        .then(() => displayChart(vegaEmbed));\n",
       "    }\n",
       "  })({\"config\": {\"view\": {\"continuousWidth\": 400, \"continuousHeight\": 300}}, \"data\": {\"name\": \"data-843dfd7dbe3e2f78b41c4f0d9ed4af25\"}, \"mark\": {\"type\": \"bar\", \"size\": 30}, \"encoding\": {\"color\": {\"type\": \"nominal\", \"field\": \"base\", \"title\": \"Base\"}, \"x\": {\"type\": \"nominal\", \"field\": \"base\", \"title\": \"Base dos Dados\"}, \"y\": {\"type\": \"quantitative\", \"field\": \"total\", \"title\": \"N\\u00ba Total de Vacinados\"}}, \"title\": \"Total de aplica\\u00e7\\u00f5es da Segunda Dose\", \"width\": 150, \"$schema\": \"https://vega.github.io/schema/vega-lite/v4.8.1.json\", \"datasets\": {\"data-843dfd7dbe3e2f78b41c4f0d9ed4af25\": [{\"base\": \"Municipal\", \"total\": 60288.0}, {\"base\": \"Federal\", \"total\": 60821.0}]}}, {\"mode\": \"vega-lite\"});\n",
       "</script>"
      ],
      "text/plain": [
       "alt.Chart(...)"
      ]
     },
     "execution_count": 37,
     "metadata": {},
     "output_type": "execute_result"
    }
   ],
   "source": [
    "segundaDoseTotal = pd.DataFrame({\n",
    "    'base': ['Municipal', 'Federal'],\n",
    "    'total': [dm_vacinadosTotalPorDose['aplicacoes'][1], df_vacinadosTotalPorDose['aplicacoes'][1]]\n",
    "})\n",
    "\n",
    "alt.Chart(segundaDoseTotal).mark_bar(size=30).encode(\n",
    "    alt.X('base:N', title='Base dos Dados'),\n",
    "    alt.Y('total:Q', title='Nº Total de Vacinados'),\n",
    "    alt.Color('base:N', title='Base')\n",
    ").properties(\n",
    "    width=150, \n",
    "    title='Total de aplicações da Segunda Dose'\n",
    ")"
   ]
  },
  {
   "cell_type": "code",
   "execution_count": 38,
   "metadata": {},
   "outputs": [
    {
     "data": {
      "text/html": [
       "\n",
       "<div id=\"altair-viz-a32abfe10076462f96db5ad59d51a075\"></div>\n",
       "<script type=\"text/javascript\">\n",
       "  (function(spec, embedOpt){\n",
       "    let outputDiv = document.currentScript.previousElementSibling;\n",
       "    if (outputDiv.id !== \"altair-viz-a32abfe10076462f96db5ad59d51a075\") {\n",
       "      outputDiv = document.getElementById(\"altair-viz-a32abfe10076462f96db5ad59d51a075\");\n",
       "    }\n",
       "    const paths = {\n",
       "      \"vega\": \"https://cdn.jsdelivr.net/npm//vega@5?noext\",\n",
       "      \"vega-lib\": \"https://cdn.jsdelivr.net/npm//vega-lib?noext\",\n",
       "      \"vega-lite\": \"https://cdn.jsdelivr.net/npm//vega-lite@4.8.1?noext\",\n",
       "      \"vega-embed\": \"https://cdn.jsdelivr.net/npm//vega-embed@6?noext\",\n",
       "    };\n",
       "\n",
       "    function loadScript(lib) {\n",
       "      return new Promise(function(resolve, reject) {\n",
       "        var s = document.createElement('script');\n",
       "        s.src = paths[lib];\n",
       "        s.async = true;\n",
       "        s.onload = () => resolve(paths[lib]);\n",
       "        s.onerror = () => reject(`Error loading script: ${paths[lib]}`);\n",
       "        document.getElementsByTagName(\"head\")[0].appendChild(s);\n",
       "      });\n",
       "    }\n",
       "\n",
       "    function showError(err) {\n",
       "      outputDiv.innerHTML = `<div class=\"error\" style=\"color:red;\">${err}</div>`;\n",
       "      throw err;\n",
       "    }\n",
       "\n",
       "    function displayChart(vegaEmbed) {\n",
       "      vegaEmbed(outputDiv, spec, embedOpt)\n",
       "        .catch(err => showError(`Javascript Error: ${err.message}<br>This usually means there's a typo in your chart specification. See the javascript console for the full traceback.`));\n",
       "    }\n",
       "\n",
       "    if(typeof define === \"function\" && define.amd) {\n",
       "      requirejs.config({paths});\n",
       "      require([\"vega-embed\"], displayChart, err => showError(`Error loading script: ${err.message}`));\n",
       "    } else if (typeof vegaEmbed === \"function\") {\n",
       "      displayChart(vegaEmbed);\n",
       "    } else {\n",
       "      loadScript(\"vega\")\n",
       "        .then(() => loadScript(\"vega-lite\"))\n",
       "        .then(() => loadScript(\"vega-embed\"))\n",
       "        .catch(showError)\n",
       "        .then(() => displayChart(vegaEmbed));\n",
       "    }\n",
       "  })({\"config\": {\"view\": {\"continuousWidth\": 400, \"continuousHeight\": 300}}, \"data\": {\"name\": \"data-0bf78c2ea7a0932b61c6836bbe3ffd0d\"}, \"mark\": {\"type\": \"bar\", \"size\": 30}, \"encoding\": {\"color\": {\"type\": \"nominal\", \"field\": \"base\", \"title\": \"Base\"}, \"x\": {\"type\": \"nominal\", \"field\": \"base\", \"title\": \"Base dos Dados\"}, \"y\": {\"type\": \"quantitative\", \"field\": \"total\", \"title\": \"N\\u00ba Total de Vacinados\"}}, \"title\": \"Total de aplica\\u00e7\\u00f5es da Dose \\u00danica\", \"width\": 150, \"$schema\": \"https://vega.github.io/schema/vega-lite/v4.8.1.json\", \"datasets\": {\"data-0bf78c2ea7a0932b61c6836bbe3ffd0d\": [{\"base\": \"Municipal\", \"total\": 6260.0}, {\"base\": \"Federal\", \"total\": 6285.0}]}}, {\"mode\": \"vega-lite\"});\n",
       "</script>"
      ],
      "text/plain": [
       "alt.Chart(...)"
      ]
     },
     "execution_count": 38,
     "metadata": {},
     "output_type": "execute_result"
    }
   ],
   "source": [
    "doseUnicaTotal = pd.DataFrame({\n",
    "    'base': ['Municipal', 'Federal'],\n",
    "    'total': [dm_vacinadosTotalPorDose['aplicacoes'][2], df_vacinadosTotalPorDose['aplicacoes'][2]]\n",
    "})\n",
    "\n",
    "alt.Chart(doseUnicaTotal).mark_bar(size=30).encode(\n",
    "    alt.X('base:N', title='Base dos Dados'),\n",
    "    alt.Y('total:Q', title='Nº Total de Vacinados'),\n",
    "    alt.Color('base:N', title='Base')\n",
    ").properties(\n",
    "    width=150,\n",
    "    title='Total de aplicações da Dose Única'\n",
    ")"
   ]
  },
  {
   "cell_type": "markdown",
   "metadata": {},
   "source": [
    "## Comparando o total aplicações da vacinas contra o covid-19."
   ]
  },
  {
   "cell_type": "code",
   "execution_count": 39,
   "metadata": {},
   "outputs": [],
   "source": [
    "df_vacinadosTotal = dados_federais_campina['paciente_id'].count()"
   ]
  },
  {
   "cell_type": "code",
   "execution_count": 40,
   "metadata": {},
   "outputs": [],
   "source": [
    "dm_vacinadosTotal = dados_municipais_campina['vacinadosTotal'][-1] - dados_municipais_campina['vacinadosTotal'][0]"
   ]
  },
  {
   "cell_type": "code",
   "execution_count": 41,
   "metadata": {},
   "outputs": [
    {
     "data": {
      "text/html": [
       "\n",
       "<div id=\"altair-viz-3eae02b355a24f318c46cdd90e90c384\"></div>\n",
       "<script type=\"text/javascript\">\n",
       "  (function(spec, embedOpt){\n",
       "    let outputDiv = document.currentScript.previousElementSibling;\n",
       "    if (outputDiv.id !== \"altair-viz-3eae02b355a24f318c46cdd90e90c384\") {\n",
       "      outputDiv = document.getElementById(\"altair-viz-3eae02b355a24f318c46cdd90e90c384\");\n",
       "    }\n",
       "    const paths = {\n",
       "      \"vega\": \"https://cdn.jsdelivr.net/npm//vega@5?noext\",\n",
       "      \"vega-lib\": \"https://cdn.jsdelivr.net/npm//vega-lib?noext\",\n",
       "      \"vega-lite\": \"https://cdn.jsdelivr.net/npm//vega-lite@4.8.1?noext\",\n",
       "      \"vega-embed\": \"https://cdn.jsdelivr.net/npm//vega-embed@6?noext\",\n",
       "    };\n",
       "\n",
       "    function loadScript(lib) {\n",
       "      return new Promise(function(resolve, reject) {\n",
       "        var s = document.createElement('script');\n",
       "        s.src = paths[lib];\n",
       "        s.async = true;\n",
       "        s.onload = () => resolve(paths[lib]);\n",
       "        s.onerror = () => reject(`Error loading script: ${paths[lib]}`);\n",
       "        document.getElementsByTagName(\"head\")[0].appendChild(s);\n",
       "      });\n",
       "    }\n",
       "\n",
       "    function showError(err) {\n",
       "      outputDiv.innerHTML = `<div class=\"error\" style=\"color:red;\">${err}</div>`;\n",
       "      throw err;\n",
       "    }\n",
       "\n",
       "    function displayChart(vegaEmbed) {\n",
       "      vegaEmbed(outputDiv, spec, embedOpt)\n",
       "        .catch(err => showError(`Javascript Error: ${err.message}<br>This usually means there's a typo in your chart specification. See the javascript console for the full traceback.`));\n",
       "    }\n",
       "\n",
       "    if(typeof define === \"function\" && define.amd) {\n",
       "      requirejs.config({paths});\n",
       "      require([\"vega-embed\"], displayChart, err => showError(`Error loading script: ${err.message}`));\n",
       "    } else if (typeof vegaEmbed === \"function\") {\n",
       "      displayChart(vegaEmbed);\n",
       "    } else {\n",
       "      loadScript(\"vega\")\n",
       "        .then(() => loadScript(\"vega-lite\"))\n",
       "        .then(() => loadScript(\"vega-embed\"))\n",
       "        .catch(showError)\n",
       "        .then(() => displayChart(vegaEmbed));\n",
       "    }\n",
       "  })({\"config\": {\"view\": {\"continuousWidth\": 400, \"continuousHeight\": 300}}, \"data\": {\"name\": \"data-d343283ecdc24cca0aaeccbe200062b6\"}, \"mark\": {\"type\": \"bar\", \"size\": 30}, \"encoding\": {\"color\": {\"type\": \"nominal\", \"field\": \"base\", \"title\": \"Base\"}, \"x\": {\"type\": \"nominal\", \"field\": \"base\", \"title\": \"Base dos Dados\"}, \"y\": {\"type\": \"quantitative\", \"field\": \"total\", \"title\": \"N\\u00ba Total de Vacinados\"}}, \"title\": \"Total de Vacinas Aplicadas\", \"width\": 150, \"$schema\": \"https://vega.github.io/schema/vega-lite/v4.8.1.json\", \"datasets\": {\"data-d343283ecdc24cca0aaeccbe200062b6\": [{\"base\": \"Municipal\", \"total\": 236803.0}, {\"base\": \"Federal\", \"total\": 226913.0}]}}, {\"mode\": \"vega-lite\"});\n",
       "</script>"
      ],
      "text/plain": [
       "alt.Chart(...)"
      ]
     },
     "execution_count": 41,
     "metadata": {},
     "output_type": "execute_result"
    }
   ],
   "source": [
    "vacinadosTotal = pd.DataFrame({\n",
    "    'base': ['Municipal', 'Federal'],\n",
    "    'total': [dm_vacinadosTotal, df_vacinadosTotal]\n",
    "})\n",
    "\n",
    "alt.Chart(vacinadosTotal).mark_bar(size=30).encode(\n",
    "    alt.X('base:N', title='Base dos Dados'),\n",
    "    alt.Y('total:Q', title='Nº Total de Vacinados'),\n",
    "    alt.Color('base:N', title='Base')\n",
    ").properties(\n",
    "    width=150,\n",
    "    title='Total de Vacinas Aplicadas'\n",
    ")"
   ]
  },
  {
   "cell_type": "markdown",
   "metadata": {},
   "source": [
    "# Testando os dados"
   ]
  },
  {
   "cell_type": "markdown",
   "metadata": {},
   "source": [
    "## Quantidade de doses aplicadas por Vacina"
   ]
  },
  {
   "cell_type": "code",
   "execution_count": 42,
   "metadata": {},
   "outputs": [],
   "source": [
    "vacinasAplicadas = dados_federais_campina['vacina_codigo'].value_counts()\n",
    "vacinasAplicadas = pd.DataFrame({\n",
    "    'vacina': vacinasAplicadas.index.tolist(),\n",
    "    'quantidade': vacinasAplicadas.values.tolist()\n",
    "})"
   ]
  },
  {
   "cell_type": "code",
   "execution_count": 43,
   "metadata": {},
   "outputs": [
    {
     "data": {
      "text/html": [
       "\n",
       "<div id=\"altair-viz-bc82c0d8f822464e8807e65625d0eabf\"></div>\n",
       "<script type=\"text/javascript\">\n",
       "  (function(spec, embedOpt){\n",
       "    let outputDiv = document.currentScript.previousElementSibling;\n",
       "    if (outputDiv.id !== \"altair-viz-bc82c0d8f822464e8807e65625d0eabf\") {\n",
       "      outputDiv = document.getElementById(\"altair-viz-bc82c0d8f822464e8807e65625d0eabf\");\n",
       "    }\n",
       "    const paths = {\n",
       "      \"vega\": \"https://cdn.jsdelivr.net/npm//vega@5?noext\",\n",
       "      \"vega-lib\": \"https://cdn.jsdelivr.net/npm//vega-lib?noext\",\n",
       "      \"vega-lite\": \"https://cdn.jsdelivr.net/npm//vega-lite@4.8.1?noext\",\n",
       "      \"vega-embed\": \"https://cdn.jsdelivr.net/npm//vega-embed@6?noext\",\n",
       "    };\n",
       "\n",
       "    function loadScript(lib) {\n",
       "      return new Promise(function(resolve, reject) {\n",
       "        var s = document.createElement('script');\n",
       "        s.src = paths[lib];\n",
       "        s.async = true;\n",
       "        s.onload = () => resolve(paths[lib]);\n",
       "        s.onerror = () => reject(`Error loading script: ${paths[lib]}`);\n",
       "        document.getElementsByTagName(\"head\")[0].appendChild(s);\n",
       "      });\n",
       "    }\n",
       "\n",
       "    function showError(err) {\n",
       "      outputDiv.innerHTML = `<div class=\"error\" style=\"color:red;\">${err}</div>`;\n",
       "      throw err;\n",
       "    }\n",
       "\n",
       "    function displayChart(vegaEmbed) {\n",
       "      vegaEmbed(outputDiv, spec, embedOpt)\n",
       "        .catch(err => showError(`Javascript Error: ${err.message}<br>This usually means there's a typo in your chart specification. See the javascript console for the full traceback.`));\n",
       "    }\n",
       "\n",
       "    if(typeof define === \"function\" && define.amd) {\n",
       "      requirejs.config({paths});\n",
       "      require([\"vega-embed\"], displayChart, err => showError(`Error loading script: ${err.message}`));\n",
       "    } else if (typeof vegaEmbed === \"function\") {\n",
       "      displayChart(vegaEmbed);\n",
       "    } else {\n",
       "      loadScript(\"vega\")\n",
       "        .then(() => loadScript(\"vega-lite\"))\n",
       "        .then(() => loadScript(\"vega-embed\"))\n",
       "        .catch(showError)\n",
       "        .then(() => displayChart(vegaEmbed));\n",
       "    }\n",
       "  })({\"config\": {\"view\": {\"continuousWidth\": 400, \"continuousHeight\": 300}}, \"data\": {\"name\": \"data-7380e68fb88e6d8491c2da9164f5ff73\"}, \"mark\": {\"type\": \"bar\", \"size\": 30}, \"encoding\": {\"color\": {\"type\": \"nominal\", \"field\": \"vacina\", \"title\": \"Vacinas\"}, \"x\": {\"type\": \"nominal\", \"field\": \"vacina\", \"title\": \"Vacina Aplicada\"}, \"y\": {\"type\": \"quantitative\", \"field\": \"quantidade\", \"title\": \"Quantidade de Aplica\\u00e7\\u00f5es\"}}, \"title\": \"Total de Dose Aplicadas por Vacina\", \"width\": 600, \"$schema\": \"https://vega.github.io/schema/vega-lite/v4.8.1.json\", \"datasets\": {\"data-7380e68fb88e6d8491c2da9164f5ff73\": [{\"vacina\": 87, \"quantidade\": 88782}, {\"vacina\": 85, \"quantidade\": 84949}, {\"vacina\": 86, \"quantidade\": 42224}, {\"vacina\": 88, \"quantidade\": 6285}, {\"vacina\": 89, \"quantidade\": 4673}]}}, {\"mode\": \"vega-lite\"});\n",
       "</script>"
      ],
      "text/plain": [
       "alt.Chart(...)"
      ]
     },
     "execution_count": 43,
     "metadata": {},
     "output_type": "execute_result"
    }
   ],
   "source": [
    "alt.Chart(vacinasAplicadas).mark_bar(size=30).encode(\n",
    "    alt.X('vacina:N', title='Vacina Aplicada'),\n",
    "    alt.Y('quantidade:Q', title='Quantidade de Aplicações'),\n",
    "    alt.Color('vacina:N', title='Vacinas')\n",
    ").properties(\n",
    "    width=600,\n",
    "    title='Total de Dose Aplicadas por Vacina'\n",
    ")"
   ]
  },
  {
   "cell_type": "code",
   "execution_count": 44,
   "metadata": {},
   "outputs": [
    {
     "name": "stdout",
     "output_type": "stream",
     "text": [
      "91 91\n"
     ]
    }
   ],
   "source": [
    "print(\n",
    "    len(df_1DosePorDia),\n",
    "    len(dm_1DosePorDia)\n",
    ")"
   ]
  }
 ],
 "metadata": {
  "interpreter": {
   "hash": "ac523b2dbf241262502338c4748dbe4206e583902f7cc2a831713042ba4f1b3b"
  },
  "kernelspec": {
   "display_name": "Python 3.9.5 64-bit",
   "name": "python3"
  },
  "language_info": {
   "codemirror_mode": {
    "name": "ipython",
    "version": 3
   },
   "file_extension": ".py",
   "mimetype": "text/x-python",
   "name": "python",
   "nbconvert_exporter": "python",
   "pygments_lexer": "ipython3",
   "version": "3.9.5"
  },
  "orig_nbformat": 4
 },
 "nbformat": 4,
 "nbformat_minor": 2
}
