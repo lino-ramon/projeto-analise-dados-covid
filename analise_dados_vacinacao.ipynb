{
 "cells": [
  {
   "cell_type": "code",
   "execution_count": 516,
   "metadata": {},
   "outputs": [],
   "source": [
    "import pandas as pd\n",
    "import altair as alt"
   ]
  },
  {
   "cell_type": "code",
   "execution_count": 517,
   "metadata": {},
   "outputs": [],
   "source": [
    "dados_municipais_campina = pd.read_csv(\"data\\\\dados_municipais_cg.csv\", encoding='utf-8', index_col='data')\n",
    "dados_federais_campina = pd.read_csv(\"data\\\\dados_federais_vacinacao_cg.csv\", encoding='UTF-8', error_bad_lines=False)"
   ]
  },
  {
   "cell_type": "markdown",
   "metadata": {},
   "source": [
    "### Função que exclui os elementos (pelo index) do DataFrame que não estão em outro DataFrame"
   ]
  },
  {
   "cell_type": "code",
   "execution_count": 518,
   "metadata": {},
   "outputs": [],
   "source": [
    "def exclui_nao_contidos(df_conjunto, df_subconjunto):\n",
    "    for i in df_conjunto.index:\n",
    "        if i not in df_subconjunto.index:\n",
    "            df_conjunto = df_conjunto.drop(i)\n",
    "    \n",
    "    return df_conjunto"
   ]
  },
  {
   "cell_type": "markdown",
   "metadata": {},
   "source": [
    "## Processando os dados sobre Aplicação de vacinas por dose e por dia (Dados Federais)"
   ]
  },
  {
   "cell_type": "code",
   "execution_count": 519,
   "metadata": {},
   "outputs": [],
   "source": [
    "# Separando os dados de aplicação da vacina por dose da base federal.\n",
    "\n",
    "# Primeira Dose\n",
    "df_campina1Dose = dados_federais_campina.loc[dados_federais_campina['vacina_descricao_dose'] == '1ª Dose']\n",
    "df_campina1Dose = df_campina1Dose.loc[df_campina1Dose['vacina_codigo'] != 88]\n",
    "df_1DosePorDia = df_campina1Dose['vacina_dataaplicacao'].value_counts()\n",
    "\n",
    "# Segunda Dose\n",
    "df_campina2Dose = dados_federais_campina.loc[dados_federais_campina['vacina_descricao_dose'] == '2ª Dose']\n",
    "df_campina2Dose = df_campina2Dose.loc[df_campina2Dose['vacina_codigo'] != 88]\n",
    "df_2DosePorDia = df_campina2Dose['vacina_dataaplicacao'].value_counts()\n",
    "\n",
    "# Dose Única\n",
    "df_campinaDoseUnica = dados_federais_campina.loc[dados_federais_campina['vacina_codigo'] == 88]\n",
    "df_DoseUnicaPorDia = df_campinaDoseUnica['vacina_dataaplicacao'].value_counts()\n",
    "\n",
    "# Ordenando os dados pela data\n",
    "df_1DosePorDia     = df_1DosePorDia.sort_index()\n",
    "df_2DosePorDia     = df_2DosePorDia.sort_index()\n",
    "df_DoseUnicaPorDia = df_DoseUnicaPorDia.sort_index()"
   ]
  },
  {
   "cell_type": "markdown",
   "metadata": {},
   "source": [
    "### Primeira Dose"
   ]
  },
  {
   "cell_type": "code",
   "execution_count": 520,
   "metadata": {},
   "outputs": [],
   "source": [
    "# Criando um DataFrame com os dados para o altair\n",
    "df_1DosePorDia = pd.DataFrame({\n",
    "    'data': df_1DosePorDia.index.tolist(),\n",
    "    'aplic_1DosePorDia': df_1DosePorDia.values.tolist()\n",
    "})\n",
    "\n",
    "# Criando uma nova coluna no DataFrame referente a média movel.\n",
    "df_1DosePorDia['media_movel'] = df_1DosePorDia.aplic_1DosePorDia.rolling(7).mean()\n",
    "\n",
    "# Setando a coluna 'data' como índice do DataFrame \n",
    "df_1DosePorDia.set_index('data', inplace=True)"
   ]
  },
  {
   "cell_type": "markdown",
   "metadata": {},
   "source": [
    "### Segunda Dose"
   ]
  },
  {
   "cell_type": "code",
   "execution_count": 521,
   "metadata": {},
   "outputs": [],
   "source": [
    "# Criando um DataFrame com os dados para o altair\n",
    "df_2DosePorDia = pd.DataFrame({\n",
    "    'data': df_2DosePorDia.index.tolist(),\n",
    "    'aplic_2DosePorDia': df_2DosePorDia.values.tolist()\n",
    "})\n",
    "\n",
    "# Criando uma nova coluna no DataFrame referente a média movel.\n",
    "df_2DosePorDia['media_movel'] = df_2DosePorDia.aplic_2DosePorDia.rolling(7).mean()\n",
    "\n",
    "# Setando a coluna 'data' como índice do DataFrame \n",
    "df_2DosePorDia.set_index('data', inplace=True)"
   ]
  },
  {
   "cell_type": "markdown",
   "metadata": {},
   "source": [
    "### Dose Única"
   ]
  },
  {
   "cell_type": "code",
   "execution_count": 522,
   "metadata": {},
   "outputs": [],
   "source": [
    "# Criando um DataFrame com os dados para o altair\n",
    "df_DoseUnicaPorDia = pd.DataFrame({\n",
    "    'data': df_DoseUnicaPorDia.index.tolist(),\n",
    "    'aplic_DoseUnicaPorDia': df_DoseUnicaPorDia.values.tolist()\n",
    "})\n",
    "\n",
    "# Criando uma nova coluna no DataFrame referente a média movel.\n",
    "df_DoseUnicaPorDia['media_movel'] = df_DoseUnicaPorDia.aplic_DoseUnicaPorDia.rolling(7).mean()\n",
    "\n",
    "# Setando a coluna 'data' como índice do DataFrame \n",
    "df_DoseUnicaPorDia.set_index('data', inplace=True)"
   ]
  },
  {
   "cell_type": "markdown",
   "metadata": {},
   "source": [
    "## Processando os dados sobre Aplicação de vacinas por dose e por dia (Dados Municipais)"
   ]
  },
  {
   "cell_type": "code",
   "execution_count": 523,
   "metadata": {},
   "outputs": [],
   "source": [
    "# Separando os dados de aplicação da vacina por dose da base municipal.\n",
    "\n",
    "# Primeira Dose\n",
    "dm_1DosePorDia = dados_municipais_campina['vacinadosDose1Dia']\n",
    "\n",
    "# Segunda Dose\n",
    "dm_2DosePorDia = dados_municipais_campina['vacinadosDose2Dia']\n",
    "\n",
    "# Dose Única\n",
    "dm_DoseUnicaPorDia = dados_municipais_campina['vacinadosDoseUnicaDia']\n"
   ]
  },
  {
   "cell_type": "markdown",
   "metadata": {},
   "source": [
    "### Primeira Dose"
   ]
  },
  {
   "cell_type": "code",
   "execution_count": 524,
   "metadata": {},
   "outputs": [],
   "source": [
    "# Criando um DataFrame com os dados para o altair\n",
    "dm_1DosePorDia = pd.DataFrame({\n",
    "    'data': dm_1DosePorDia.index.tolist(),\n",
    "    'aplic_1DosePorDia': dm_1DosePorDia.values.tolist()\n",
    "})\n",
    "\n",
    "# Criando uma nova coluna no DataFrame referente a média movel.\n",
    "dm_1DosePorDia['media_movel'] = dm_1DosePorDia.aplic_1DosePorDia.rolling(7).mean()\n",
    "\n",
    "# Setando a coluna 'data' como índice do DataFrame \n",
    "dm_1DosePorDia.set_index('data', inplace=True)"
   ]
  },
  {
   "cell_type": "markdown",
   "metadata": {},
   "source": [
    "### Segunda Dose"
   ]
  },
  {
   "cell_type": "code",
   "execution_count": 525,
   "metadata": {},
   "outputs": [],
   "source": [
    "# Criando um DataFrame com os dados para o altair\n",
    "dm_2DosePorDia = pd.DataFrame({\n",
    "    'data': dm_2DosePorDia.index.tolist(),\n",
    "    'aplic_2DosePorDia': dm_2DosePorDia.values.tolist()\n",
    "})\n",
    "\n",
    "# Criando uma nova coluna no DataFrame referente a média movel.\n",
    "dm_2DosePorDia['media_movel'] = dm_2DosePorDia.aplic_2DosePorDia.rolling(7).mean()\n",
    "\n",
    "# Setando a coluna 'data' como índice do DataFrame \n",
    "dm_2DosePorDia.set_index('data', inplace=True)"
   ]
  },
  {
   "cell_type": "markdown",
   "metadata": {},
   "source": [
    "### Dose Única"
   ]
  },
  {
   "cell_type": "code",
   "execution_count": 526,
   "metadata": {},
   "outputs": [],
   "source": [
    "# Criando um DataFrame com os dados para o altair\n",
    "dm_DoseUnicaPorDia = pd.DataFrame({\n",
    "    'data': dm_DoseUnicaPorDia.index.tolist(),\n",
    "    'aplic_DoseUnicaPorDia': dm_DoseUnicaPorDia.values.tolist()\n",
    "})\n",
    "\n",
    "# Criando uma nova coluna no DataFrame referente a média movel.\n",
    "dm_DoseUnicaPorDia['media_movel'] = dm_DoseUnicaPorDia.aplic_DoseUnicaPorDia.rolling(7).mean()\n",
    "\n",
    "# Setando a coluna 'data' como índice do DataFrame \n",
    "dm_DoseUnicaPorDia.set_index('data', inplace=True)"
   ]
  },
  {
   "cell_type": "markdown",
   "metadata": {},
   "source": [
    "### Excluindo as datas não contidas nos DataFrames (Federal e Municipal)"
   ]
  },
  {
   "cell_type": "markdown",
   "metadata": {},
   "source": [
    "### Primeira Dose"
   ]
  },
  {
   "cell_type": "code",
   "execution_count": 527,
   "metadata": {},
   "outputs": [],
   "source": [
    "# Excluindo as datas que estão nos dados federais mas não estão nos dados municipais\n",
    "df_1DosePorDia = exclui_nao_contidos(df_1DosePorDia, dm_1DosePorDia)\n",
    "\n",
    "# Excluindo as datas que estão nos dados municipais mas não estão nos dados federais\n",
    "dm_1DosePorDia = exclui_nao_contidos(dm_1DosePorDia, df_1DosePorDia)"
   ]
  },
  {
   "cell_type": "markdown",
   "metadata": {},
   "source": [
    "### Segunda Dose"
   ]
  },
  {
   "cell_type": "code",
   "execution_count": 528,
   "metadata": {},
   "outputs": [],
   "source": [
    "# Excluindo as datas que estão nos dados federais mas não estão nos dados municipais\n",
    "df_2DosePorDia = exclui_nao_contidos(df_2DosePorDia, dm_2DosePorDia)\n",
    "\n",
    "# Excluindo as datas que estão nos dados municipais mas não estão nos dados federais\n",
    "dm_2DosePorDia = exclui_nao_contidos(dm_2DosePorDia, df_2DosePorDia)"
   ]
  },
  {
   "cell_type": "markdown",
   "metadata": {},
   "source": [
    "### Dose Única"
   ]
  },
  {
   "cell_type": "code",
   "execution_count": 529,
   "metadata": {},
   "outputs": [],
   "source": [
    "# Excluindo as datas que estão nos dados federais mas não estão nos dados municipais\n",
    "df_DoseUnicaPorDia = exclui_nao_contidos(df_DoseUnicaPorDia, dm_DoseUnicaPorDia)\n",
    "\n",
    "# Excluindo as datas que estão nos dados municipais mas não estão nos dados federais\n",
    "dm_DoseUnicaPorDia = exclui_nao_contidos(dm_DoseUnicaPorDia, df_DoseUnicaPorDia)"
   ]
  },
  {
   "cell_type": "markdown",
   "metadata": {},
   "source": [
    "### Transformando os DataFrame do formato wide para o formato long"
   ]
  },
  {
   "cell_type": "markdown",
   "metadata": {},
   "source": [
    "### Primeira Dose"
   ]
  },
  {
   "cell_type": "code",
   "execution_count": 530,
   "metadata": {},
   "outputs": [],
   "source": [
    "# Transformando os DataFrames da aplicação da primeira dose\n",
    "vacinados1DosePorDia = pd.DataFrame({\n",
    "  'data': df_1DosePorDia.index.tolist(),\n",
    "  'Federal': df_1DosePorDia['aplic_1DosePorDia'].tolist(),\n",
    "  'Municipal': dm_1DosePorDia['aplic_1DosePorDia'].tolist()\n",
    "}).melt(id_vars=['data'], value_vars=['Federal', 'Municipal'],\n",
    "        var_name='fonte_dados', value_name='aplic_por_dia')"
   ]
  },
  {
   "cell_type": "code",
   "execution_count": 531,
   "metadata": {},
   "outputs": [],
   "source": [
    "# Transformando os DataFrames da média movel da aplicação da primeira dose\n",
    "vacinados1DosePorDiaMedMovel = pd.DataFrame({\n",
    "  'data': df_1DosePorDia.index.tolist(),\n",
    "  'Federal': df_1DosePorDia['media_movel'].tolist(),\n",
    "  'Municipal': dm_1DosePorDia['media_movel'].tolist()\n",
    "}).melt(id_vars=['data'], value_vars=['Federal', 'Municipal'],\n",
    "        var_name='fonte_dados', value_name='aplic_por_dia')"
   ]
  },
  {
   "cell_type": "markdown",
   "metadata": {},
   "source": [
    "### Segunda Dose"
   ]
  },
  {
   "cell_type": "code",
   "execution_count": 532,
   "metadata": {},
   "outputs": [],
   "source": [
    "# Transformando os DataFrames da aplicação da segunda dose\n",
    "vacinados2DosePorDia = pd.DataFrame({\n",
    "  'data': df_2DosePorDia.index.tolist(),\n",
    "  'Federal': df_2DosePorDia['aplic_2DosePorDia'].tolist(),\n",
    "  'Municipal': dm_2DosePorDia['aplic_2DosePorDia'].tolist()\n",
    "}).melt(id_vars=['data'], value_vars=['Federal', 'Municipal'],\n",
    "        var_name='fonte_dados', value_name='aplic_por_dia')"
   ]
  },
  {
   "cell_type": "code",
   "execution_count": 533,
   "metadata": {},
   "outputs": [],
   "source": [
    "# Transformando os DataFrames da média movel da aplicação da primeira dose\n",
    "vacinados2DosePorDiaMedMovel = pd.DataFrame({\n",
    "  'data': df_2DosePorDia.index.tolist(),\n",
    "  'Federal': df_2DosePorDia['media_movel'].tolist(),\n",
    "  'Municipal': dm_2DosePorDia['media_movel'].tolist()\n",
    "}).melt(id_vars=['data'], value_vars=['Federal', 'Municipal'],\n",
    "        var_name='fonte_dados', value_name='aplic_por_dia')"
   ]
  },
  {
   "cell_type": "markdown",
   "metadata": {},
   "source": [
    "### Dose Única"
   ]
  },
  {
   "cell_type": "code",
   "execution_count": 534,
   "metadata": {},
   "outputs": [],
   "source": [
    "# Transformando os DataFrames da aplicação da dose única\n",
    "vacinadosDoseUnicaPorDia = pd.DataFrame({\n",
    "  'data': df_DoseUnicaPorDia.index.tolist(),\n",
    "  'Federal': df_DoseUnicaPorDia['aplic_DoseUnicaPorDia'].tolist(),\n",
    "  'Municipal': dm_DoseUnicaPorDia['aplic_DoseUnicaPorDia'].tolist()\n",
    "}).melt(id_vars=['data'], value_vars=['Federal', 'Municipal'],\n",
    "        var_name='fonte_dados', value_name='aplic_por_dia')"
   ]
  },
  {
   "cell_type": "code",
   "execution_count": 536,
   "metadata": {},
   "outputs": [],
   "source": [
    "# Transformando os DataFrames da média movel da aplicação da primeira dose\n",
    "vacinadosDoseUnicaPorDiaMedMovel = pd.DataFrame({\n",
    "  'data': df_DoseUnicaPorDia.index.tolist(),\n",
    "  'Federal': df_DoseUnicaPorDia['media_movel'].tolist(),\n",
    "  'Municipal': dm_DoseUnicaPorDia['media_movel'].tolist()\n",
    "}).melt(id_vars=['data'], value_vars=['Federal', 'Municipal'],\n",
    "        var_name='fonte_dados', value_name='aplic_por_dia')"
   ]
  },
  {
   "cell_type": "markdown",
   "metadata": {},
   "source": [
    "# Comparando os dados Federais e Municipais"
   ]
  },
  {
   "cell_type": "markdown",
   "metadata": {},
   "source": [
    "### Aplicações da 1º Dose por Dia"
   ]
  },
  {
   "cell_type": "code",
   "execution_count": 537,
   "metadata": {},
   "outputs": [
    {
     "data": {
      "text/html": [
       "\n",
       "<div id=\"altair-viz-d54d56c5e5344217bcbc0678dbefeee4\"></div>\n",
       "<script type=\"text/javascript\">\n",
       "  (function(spec, embedOpt){\n",
       "    let outputDiv = document.currentScript.previousElementSibling;\n",
       "    if (outputDiv.id !== \"altair-viz-d54d56c5e5344217bcbc0678dbefeee4\") {\n",
       "      outputDiv = document.getElementById(\"altair-viz-d54d56c5e5344217bcbc0678dbefeee4\");\n",
       "    }\n",
       "    const paths = {\n",
       "      \"vega\": \"https://cdn.jsdelivr.net/npm//vega@5?noext\",\n",
       "      \"vega-lib\": \"https://cdn.jsdelivr.net/npm//vega-lib?noext\",\n",
       "      \"vega-lite\": \"https://cdn.jsdelivr.net/npm//vega-lite@4.8.1?noext\",\n",
       "      \"vega-embed\": \"https://cdn.jsdelivr.net/npm//vega-embed@6?noext\",\n",
       "    };\n",
       "\n",
       "    function loadScript(lib) {\n",
       "      return new Promise(function(resolve, reject) {\n",
       "        var s = document.createElement('script');\n",
       "        s.src = paths[lib];\n",
       "        s.async = true;\n",
       "        s.onload = () => resolve(paths[lib]);\n",
       "        s.onerror = () => reject(`Error loading script: ${paths[lib]}`);\n",
       "        document.getElementsByTagName(\"head\")[0].appendChild(s);\n",
       "      });\n",
       "    }\n",
       "\n",
       "    function showError(err) {\n",
       "      outputDiv.innerHTML = `<div class=\"error\" style=\"color:red;\">${err}</div>`;\n",
       "      throw err;\n",
       "    }\n",
       "\n",
       "    function displayChart(vegaEmbed) {\n",
       "      vegaEmbed(outputDiv, spec, embedOpt)\n",
       "        .catch(err => showError(`Javascript Error: ${err.message}<br>This usually means there's a typo in your chart specification. See the javascript console for the full traceback.`));\n",
       "    }\n",
       "\n",
       "    if(typeof define === \"function\" && define.amd) {\n",
       "      requirejs.config({paths});\n",
       "      require([\"vega-embed\"], displayChart, err => showError(`Error loading script: ${err.message}`));\n",
       "    } else if (typeof vegaEmbed === \"function\") {\n",
       "      displayChart(vegaEmbed);\n",
       "    } else {\n",
       "      loadScript(\"vega\")\n",
       "        .then(() => loadScript(\"vega-lite\"))\n",
       "        .then(() => loadScript(\"vega-embed\"))\n",
       "        .catch(showError)\n",
       "        .then(() => displayChart(vegaEmbed));\n",
       "    }\n",
       "  })({\"config\": {\"view\": {\"continuousWidth\": 400, \"continuousHeight\": 300}}, \"data\": {\"name\": \"data-262ea01ba53cda6d90f1ecba5aa254ac\"}, \"mark\": \"line\", \"encoding\": {\"color\": {\"type\": \"nominal\", \"field\": \"fonte_dados\", \"title\": \"Base dos Dados\"}, \"x\": {\"type\": \"temporal\", \"field\": \"data\", \"title\": \"Data\"}, \"y\": {\"type\": \"quantitative\", \"field\": \"aplic_por_dia\", \"title\": \"N\\u00ba de Vacinados\"}}, \"title\": \"Quantidade de vacinados com 1\\u00ba Dose por Dia\", \"width\": 700, \"$schema\": \"https://vega.github.io/schema/vega-lite/v4.8.1.json\", \"datasets\": {\"data-262ea01ba53cda6d90f1ecba5aa254ac\": [{\"data\": \"2021-06-01\", \"fonte_dados\": \"Federal\", \"aplic_por_dia\": 2379.0}, {\"data\": \"2021-06-02\", \"fonte_dados\": \"Federal\", \"aplic_por_dia\": 1775.0}, {\"data\": \"2021-06-03\", \"fonte_dados\": \"Federal\", \"aplic_por_dia\": 373.0}, {\"data\": \"2021-06-04\", \"fonte_dados\": \"Federal\", \"aplic_por_dia\": 2117.0}, {\"data\": \"2021-06-05\", \"fonte_dados\": \"Federal\", \"aplic_por_dia\": 1550.0}, {\"data\": \"2021-06-06\", \"fonte_dados\": \"Federal\", \"aplic_por_dia\": 275.0}, {\"data\": \"2021-06-07\", \"fonte_dados\": \"Federal\", \"aplic_por_dia\": 2995.0}, {\"data\": \"2021-06-08\", \"fonte_dados\": \"Federal\", \"aplic_por_dia\": 1949.0}, {\"data\": \"2021-06-09\", \"fonte_dados\": \"Federal\", \"aplic_por_dia\": 1059.0}, {\"data\": \"2021-06-10\", \"fonte_dados\": \"Federal\", \"aplic_por_dia\": 1867.0}, {\"data\": \"2021-06-11\", \"fonte_dados\": \"Federal\", \"aplic_por_dia\": 4523.0}, {\"data\": \"2021-06-12\", \"fonte_dados\": \"Federal\", \"aplic_por_dia\": 453.0}, {\"data\": \"2021-06-13\", \"fonte_dados\": \"Federal\", \"aplic_por_dia\": 965.0}, {\"data\": \"2021-06-14\", \"fonte_dados\": \"Federal\", \"aplic_por_dia\": 1680.0}, {\"data\": \"2021-06-15\", \"fonte_dados\": \"Federal\", \"aplic_por_dia\": 83.0}, {\"data\": \"2021-06-16\", \"fonte_dados\": \"Federal\", \"aplic_por_dia\": 61.0}, {\"data\": \"2021-06-17\", \"fonte_dados\": \"Federal\", \"aplic_por_dia\": 75.0}, {\"data\": \"2021-06-18\", \"fonte_dados\": \"Federal\", \"aplic_por_dia\": 7.0}, {\"data\": \"2021-06-19\", \"fonte_dados\": \"Federal\", \"aplic_por_dia\": 1807.0}, {\"data\": \"2021-06-20\", \"fonte_dados\": \"Federal\", \"aplic_por_dia\": 1126.0}, {\"data\": \"2021-06-21\", \"fonte_dados\": \"Federal\", \"aplic_por_dia\": 1693.0}, {\"data\": \"2021-06-22\", \"fonte_dados\": \"Federal\", \"aplic_por_dia\": 741.0}, {\"data\": \"2021-06-23\", \"fonte_dados\": \"Federal\", \"aplic_por_dia\": 79.0}, {\"data\": \"2021-06-24\", \"fonte_dados\": \"Federal\", \"aplic_por_dia\": 186.0}, {\"data\": \"2021-06-25\", \"fonte_dados\": \"Federal\", \"aplic_por_dia\": 3754.0}, {\"data\": \"2021-06-26\", \"fonte_dados\": \"Federal\", \"aplic_por_dia\": 2126.0}, {\"data\": \"2021-06-27\", \"fonte_dados\": \"Federal\", \"aplic_por_dia\": 921.0}, {\"data\": \"2021-06-28\", \"fonte_dados\": \"Federal\", \"aplic_por_dia\": 931.0}, {\"data\": \"2021-06-29\", \"fonte_dados\": \"Federal\", \"aplic_por_dia\": 159.0}, {\"data\": \"2021-06-30\", \"fonte_dados\": \"Federal\", \"aplic_por_dia\": 267.0}, {\"data\": \"2021-07-01\", \"fonte_dados\": \"Federal\", \"aplic_por_dia\": 3490.0}, {\"data\": \"2021-07-03\", \"fonte_dados\": \"Federal\", \"aplic_por_dia\": 1325.0}, {\"data\": \"2021-07-04\", \"fonte_dados\": \"Federal\", \"aplic_por_dia\": 1274.0}, {\"data\": \"2021-07-05\", \"fonte_dados\": \"Federal\", \"aplic_por_dia\": 2207.0}, {\"data\": \"2021-07-06\", \"fonte_dados\": \"Federal\", \"aplic_por_dia\": 715.0}, {\"data\": \"2021-07-07\", \"fonte_dados\": \"Federal\", \"aplic_por_dia\": 100.0}, {\"data\": \"2021-07-08\", \"fonte_dados\": \"Federal\", \"aplic_por_dia\": 129.0}, {\"data\": \"2021-07-09\", \"fonte_dados\": \"Federal\", \"aplic_por_dia\": 2920.0}, {\"data\": \"2021-07-10\", \"fonte_dados\": \"Federal\", \"aplic_por_dia\": 875.0}, {\"data\": \"2021-07-11\", \"fonte_dados\": \"Federal\", \"aplic_por_dia\": 1.0}, {\"data\": \"2021-07-12\", \"fonte_dados\": \"Federal\", \"aplic_por_dia\": 49.0}, {\"data\": \"2021-07-13\", \"fonte_dados\": \"Federal\", \"aplic_por_dia\": 83.0}, {\"data\": \"2021-07-14\", \"fonte_dados\": \"Federal\", \"aplic_por_dia\": 39.0}, {\"data\": \"2021-07-15\", \"fonte_dados\": \"Federal\", \"aplic_por_dia\": 28.0}, {\"data\": \"2021-07-16\", \"fonte_dados\": \"Federal\", \"aplic_por_dia\": 5592.0}, {\"data\": \"2021-07-17\", \"fonte_dados\": \"Federal\", \"aplic_por_dia\": 4879.0}, {\"data\": \"2021-07-18\", \"fonte_dados\": \"Federal\", \"aplic_por_dia\": 4907.0}, {\"data\": \"2021-07-19\", \"fonte_dados\": \"Federal\", \"aplic_por_dia\": 6158.0}, {\"data\": \"2021-07-20\", \"fonte_dados\": \"Federal\", \"aplic_por_dia\": 3900.0}, {\"data\": \"2021-07-21\", \"fonte_dados\": \"Federal\", \"aplic_por_dia\": 1511.0}, {\"data\": \"2021-07-22\", \"fonte_dados\": \"Federal\", \"aplic_por_dia\": 168.0}, {\"data\": \"2021-07-23\", \"fonte_dados\": \"Federal\", \"aplic_por_dia\": 61.0}, {\"data\": \"2021-07-24\", \"fonte_dados\": \"Federal\", \"aplic_por_dia\": 15.0}, {\"data\": \"2021-07-25\", \"fonte_dados\": \"Federal\", \"aplic_por_dia\": 2.0}, {\"data\": \"2021-07-26\", \"fonte_dados\": \"Federal\", \"aplic_por_dia\": 85.0}, {\"data\": \"2021-07-27\", \"fonte_dados\": \"Federal\", \"aplic_por_dia\": 73.0}, {\"data\": \"2021-07-28\", \"fonte_dados\": \"Federal\", \"aplic_por_dia\": 2284.0}, {\"data\": \"2021-07-29\", \"fonte_dados\": \"Federal\", \"aplic_por_dia\": 1426.0}, {\"data\": \"2021-07-30\", \"fonte_dados\": \"Federal\", \"aplic_por_dia\": 97.0}, {\"data\": \"2021-07-31\", \"fonte_dados\": \"Federal\", \"aplic_por_dia\": 16.0}, {\"data\": \"2021-08-01\", \"fonte_dados\": \"Federal\", \"aplic_por_dia\": 3510.0}, {\"data\": \"2021-08-02\", \"fonte_dados\": \"Federal\", \"aplic_por_dia\": 5194.0}, {\"data\": \"2021-08-03\", \"fonte_dados\": \"Federal\", \"aplic_por_dia\": 2604.0}, {\"data\": \"2021-08-04\", \"fonte_dados\": \"Federal\", \"aplic_por_dia\": 40.0}, {\"data\": \"2021-08-05\", \"fonte_dados\": \"Federal\", \"aplic_por_dia\": 43.0}, {\"data\": \"2021-08-06\", \"fonte_dados\": \"Federal\", \"aplic_por_dia\": 8046.0}, {\"data\": \"2021-08-07\", \"fonte_dados\": \"Federal\", \"aplic_por_dia\": 4607.0}, {\"data\": \"2021-08-08\", \"fonte_dados\": \"Federal\", \"aplic_por_dia\": 8.0}, {\"data\": \"2021-08-09\", \"fonte_dados\": \"Federal\", \"aplic_por_dia\": 96.0}, {\"data\": \"2021-08-10\", \"fonte_dados\": \"Federal\", \"aplic_por_dia\": 7580.0}, {\"data\": \"2021-08-11\", \"fonte_dados\": \"Federal\", \"aplic_por_dia\": 92.0}, {\"data\": \"2021-08-12\", \"fonte_dados\": \"Federal\", \"aplic_por_dia\": 2162.0}, {\"data\": \"2021-08-13\", \"fonte_dados\": \"Federal\", \"aplic_por_dia\": 42.0}, {\"data\": \"2021-08-14\", \"fonte_dados\": \"Federal\", \"aplic_por_dia\": 4415.0}, {\"data\": \"2021-08-15\", \"fonte_dados\": \"Federal\", \"aplic_por_dia\": 3235.0}, {\"data\": \"2021-08-16\", \"fonte_dados\": \"Federal\", \"aplic_por_dia\": 7719.0}, {\"data\": \"2021-08-17\", \"fonte_dados\": \"Federal\", \"aplic_por_dia\": 2161.0}, {\"data\": \"2021-08-18\", \"fonte_dados\": \"Federal\", \"aplic_por_dia\": 89.0}, {\"data\": \"2021-08-19\", \"fonte_dados\": \"Federal\", \"aplic_por_dia\": 23.0}, {\"data\": \"2021-08-20\", \"fonte_dados\": \"Federal\", \"aplic_por_dia\": 5855.0}, {\"data\": \"2021-08-21\", \"fonte_dados\": \"Federal\", \"aplic_por_dia\": 1207.0}, {\"data\": \"2021-08-23\", \"fonte_dados\": \"Federal\", \"aplic_por_dia\": 4573.0}, {\"data\": \"2021-08-24\", \"fonte_dados\": \"Federal\", \"aplic_por_dia\": 3325.0}, {\"data\": \"2021-08-25\", \"fonte_dados\": \"Federal\", \"aplic_por_dia\": 32.0}, {\"data\": \"2021-08-26\", \"fonte_dados\": \"Federal\", \"aplic_por_dia\": 85.0}, {\"data\": \"2021-08-27\", \"fonte_dados\": \"Federal\", \"aplic_por_dia\": 5460.0}, {\"data\": \"2021-08-28\", \"fonte_dados\": \"Federal\", \"aplic_por_dia\": 7.0}, {\"data\": \"2021-08-29\", \"fonte_dados\": \"Federal\", \"aplic_por_dia\": 5.0}, {\"data\": \"2021-08-30\", \"fonte_dados\": \"Federal\", \"aplic_por_dia\": 38.0}, {\"data\": \"2021-08-31\", \"fonte_dados\": \"Federal\", \"aplic_por_dia\": 33.0}, {\"data\": \"2021-06-01\", \"fonte_dados\": \"Municipal\", \"aplic_por_dia\": 17.0}, {\"data\": \"2021-06-02\", \"fonte_dados\": \"Municipal\", \"aplic_por_dia\": 1420.0}, {\"data\": \"2021-06-03\", \"fonte_dados\": \"Municipal\", \"aplic_por_dia\": 279.0}, {\"data\": \"2021-06-04\", \"fonte_dados\": \"Municipal\", \"aplic_por_dia\": 1555.0}, {\"data\": \"2021-06-05\", \"fonte_dados\": \"Municipal\", \"aplic_por_dia\": 1352.0}, {\"data\": \"2021-06-06\", \"fonte_dados\": \"Municipal\", \"aplic_por_dia\": 290.0}, {\"data\": \"2021-06-07\", \"fonte_dados\": \"Municipal\", \"aplic_por_dia\": 0.0}, {\"data\": \"2021-06-08\", \"fonte_dados\": \"Municipal\", \"aplic_por_dia\": 4966.0}, {\"data\": \"2021-06-09\", \"fonte_dados\": \"Municipal\", \"aplic_por_dia\": 954.0}, {\"data\": \"2021-06-10\", \"fonte_dados\": \"Municipal\", \"aplic_por_dia\": 2794.0}, {\"data\": \"2021-06-11\", \"fonte_dados\": \"Municipal\", \"aplic_por_dia\": 3116.0}, {\"data\": \"2021-06-12\", \"fonte_dados\": \"Municipal\", \"aplic_por_dia\": 491.0}, {\"data\": \"2021-06-13\", \"fonte_dados\": \"Municipal\", \"aplic_por_dia\": 922.0}, {\"data\": \"2021-06-14\", \"fonte_dados\": \"Municipal\", \"aplic_por_dia\": 1200.0}, {\"data\": \"2021-06-15\", \"fonte_dados\": \"Municipal\", \"aplic_por_dia\": 66.0}, {\"data\": \"2021-06-16\", \"fonte_dados\": \"Municipal\", \"aplic_por_dia\": 57.0}, {\"data\": \"2021-06-17\", \"fonte_dados\": \"Municipal\", \"aplic_por_dia\": 5688.0}, {\"data\": \"2021-06-18\", \"fonte_dados\": \"Municipal\", \"aplic_por_dia\": 0.0}, {\"data\": \"2021-06-19\", \"fonte_dados\": \"Municipal\", \"aplic_por_dia\": 3338.0}, {\"data\": \"2021-06-20\", \"fonte_dados\": \"Municipal\", \"aplic_por_dia\": 771.0}, {\"data\": \"2021-06-21\", \"fonte_dados\": \"Municipal\", \"aplic_por_dia\": 216.0}, {\"data\": \"2021-06-22\", \"fonte_dados\": \"Municipal\", \"aplic_por_dia\": 323.0}, {\"data\": \"2021-06-23\", \"fonte_dados\": \"Municipal\", \"aplic_por_dia\": 0.0}, {\"data\": \"2021-06-24\", \"fonte_dados\": \"Municipal\", \"aplic_por_dia\": 494.0}, {\"data\": \"2021-06-25\", \"fonte_dados\": \"Municipal\", \"aplic_por_dia\": 669.0}, {\"data\": \"2021-06-26\", \"fonte_dados\": \"Municipal\", \"aplic_por_dia\": 88.0}, {\"data\": \"2021-06-27\", \"fonte_dados\": \"Municipal\", \"aplic_por_dia\": 23.0}, {\"data\": \"2021-06-28\", \"fonte_dados\": \"Municipal\", \"aplic_por_dia\": 166.0}, {\"data\": \"2021-06-29\", \"fonte_dados\": \"Municipal\", \"aplic_por_dia\": 0.0}, {\"data\": \"2021-06-30\", \"fonte_dados\": \"Municipal\", \"aplic_por_dia\": 7095.0}, {\"data\": \"2021-07-01\", \"fonte_dados\": \"Municipal\", \"aplic_por_dia\": 4398.0}, {\"data\": \"2021-07-03\", \"fonte_dados\": \"Municipal\", \"aplic_por_dia\": 4381.0}, {\"data\": \"2021-07-04\", \"fonte_dados\": \"Municipal\", \"aplic_por_dia\": 1241.0}, {\"data\": \"2021-07-05\", \"fonte_dados\": \"Municipal\", \"aplic_por_dia\": 794.0}, {\"data\": \"2021-07-06\", \"fonte_dados\": \"Municipal\", \"aplic_por_dia\": 11938.0}, {\"data\": \"2021-07-07\", \"fonte_dados\": \"Municipal\", \"aplic_por_dia\": 0.0}, {\"data\": \"2021-07-08\", \"fonte_dados\": \"Municipal\", \"aplic_por_dia\": 1379.0}, {\"data\": \"2021-07-09\", \"fonte_dados\": \"Municipal\", \"aplic_por_dia\": 2978.0}, {\"data\": \"2021-07-10\", \"fonte_dados\": \"Municipal\", \"aplic_por_dia\": 1300.0}, {\"data\": \"2021-07-11\", \"fonte_dados\": \"Municipal\", \"aplic_por_dia\": 0.0}, {\"data\": \"2021-07-12\", \"fonte_dados\": \"Municipal\", \"aplic_por_dia\": 23.0}, {\"data\": \"2021-07-13\", \"fonte_dados\": \"Municipal\", \"aplic_por_dia\": 0.0}, {\"data\": \"2021-07-14\", \"fonte_dados\": \"Municipal\", \"aplic_por_dia\": 35.0}, {\"data\": \"2021-07-15\", \"fonte_dados\": \"Municipal\", \"aplic_por_dia\": 8.0}, {\"data\": \"2021-07-16\", \"fonte_dados\": \"Municipal\", \"aplic_por_dia\": 2985.0}, {\"data\": \"2021-07-17\", \"fonte_dados\": \"Municipal\", \"aplic_por_dia\": 12383.0}, {\"data\": \"2021-07-18\", \"fonte_dados\": \"Municipal\", \"aplic_por_dia\": 8353.0}, {\"data\": \"2021-07-19\", \"fonte_dados\": \"Municipal\", \"aplic_por_dia\": 3148.0}, {\"data\": \"2021-07-20\", \"fonte_dados\": \"Municipal\", \"aplic_por_dia\": 3002.0}, {\"data\": \"2021-07-21\", \"fonte_dados\": \"Municipal\", \"aplic_por_dia\": 998.0}, {\"data\": \"2021-07-22\", \"fonte_dados\": \"Municipal\", \"aplic_por_dia\": 0.0}, {\"data\": \"2021-07-23\", \"fonte_dados\": \"Municipal\", \"aplic_por_dia\": 0.0}, {\"data\": \"2021-07-24\", \"fonte_dados\": \"Municipal\", \"aplic_por_dia\": 4.0}, {\"data\": \"2021-07-25\", \"fonte_dados\": \"Municipal\", \"aplic_por_dia\": 0.0}, {\"data\": \"2021-07-26\", \"fonte_dados\": \"Municipal\", \"aplic_por_dia\": 0.0}, {\"data\": \"2021-07-27\", \"fonte_dados\": \"Municipal\", \"aplic_por_dia\": 0.0}, {\"data\": \"2021-07-28\", \"fonte_dados\": \"Municipal\", \"aplic_por_dia\": 2851.0}, {\"data\": \"2021-07-29\", \"fonte_dados\": \"Municipal\", \"aplic_por_dia\": 1866.0}, {\"data\": \"2021-07-30\", \"fonte_dados\": \"Municipal\", \"aplic_por_dia\": 40.0}, {\"data\": \"2021-07-31\", \"fonte_dados\": \"Municipal\", \"aplic_por_dia\": 0.0}, {\"data\": \"2021-08-01\", \"fonte_dados\": \"Municipal\", \"aplic_por_dia\": 3499.0}, {\"data\": \"2021-08-02\", \"fonte_dados\": \"Municipal\", \"aplic_por_dia\": 4971.0}, {\"data\": \"2021-08-03\", \"fonte_dados\": \"Municipal\", \"aplic_por_dia\": 2620.0}, {\"data\": \"2021-08-04\", \"fonte_dados\": \"Municipal\", \"aplic_por_dia\": 0.0}, {\"data\": \"2021-08-05\", \"fonte_dados\": \"Municipal\", \"aplic_por_dia\": 0.0}, {\"data\": \"2021-08-06\", \"fonte_dados\": \"Municipal\", \"aplic_por_dia\": 7660.0}, {\"data\": \"2021-08-07\", \"fonte_dados\": \"Municipal\", \"aplic_por_dia\": 4697.0}, {\"data\": \"2021-08-08\", \"fonte_dados\": \"Municipal\", \"aplic_por_dia\": 0.0}, {\"data\": \"2021-08-09\", \"fonte_dados\": \"Municipal\", \"aplic_por_dia\": 0.0}, {\"data\": \"2021-08-10\", \"fonte_dados\": \"Municipal\", \"aplic_por_dia\": 7225.0}, {\"data\": \"2021-08-11\", \"fonte_dados\": \"Municipal\", \"aplic_por_dia\": 0.0}, {\"data\": \"2021-08-12\", \"fonte_dados\": \"Municipal\", \"aplic_por_dia\": 2117.0}, {\"data\": \"2021-08-13\", \"fonte_dados\": \"Municipal\", \"aplic_por_dia\": 0.0}, {\"data\": \"2021-08-14\", \"fonte_dados\": \"Municipal\", \"aplic_por_dia\": 4222.0}, {\"data\": \"2021-08-15\", \"fonte_dados\": \"Municipal\", \"aplic_por_dia\": 3225.0}, {\"data\": \"2021-08-16\", \"fonte_dados\": \"Municipal\", \"aplic_por_dia\": 6787.0}, {\"data\": \"2021-08-17\", \"fonte_dados\": \"Municipal\", \"aplic_por_dia\": 2131.0}, {\"data\": \"2021-08-18\", \"fonte_dados\": \"Municipal\", \"aplic_por_dia\": 0.0}, {\"data\": \"2021-08-19\", \"fonte_dados\": \"Municipal\", \"aplic_por_dia\": 0.0}, {\"data\": \"2021-08-20\", \"fonte_dados\": \"Municipal\", \"aplic_por_dia\": 5538.0}, {\"data\": \"2021-08-21\", \"fonte_dados\": \"Municipal\", \"aplic_por_dia\": 1189.0}, {\"data\": \"2021-08-23\", \"fonte_dados\": \"Municipal\", \"aplic_por_dia\": 3822.0}, {\"data\": \"2021-08-24\", \"fonte_dados\": \"Municipal\", \"aplic_por_dia\": 2967.0}, {\"data\": \"2021-08-25\", \"fonte_dados\": \"Municipal\", \"aplic_por_dia\": 0.0}, {\"data\": \"2021-08-26\", \"fonte_dados\": \"Municipal\", \"aplic_por_dia\": 0.0}, {\"data\": \"2021-08-27\", \"fonte_dados\": \"Municipal\", \"aplic_por_dia\": 5147.0}, {\"data\": \"2021-08-28\", \"fonte_dados\": \"Municipal\", \"aplic_por_dia\": 0.0}, {\"data\": \"2021-08-29\", \"fonte_dados\": \"Municipal\", \"aplic_por_dia\": 0.0}, {\"data\": \"2021-08-30\", \"fonte_dados\": \"Municipal\", \"aplic_por_dia\": 0.0}, {\"data\": \"2021-08-31\", \"fonte_dados\": \"Municipal\", \"aplic_por_dia\": 0.0}]}}, {\"mode\": \"vega-lite\"});\n",
       "</script>"
      ],
      "text/plain": [
       "alt.Chart(...)"
      ]
     },
     "execution_count": 537,
     "metadata": {},
     "output_type": "execute_result"
    }
   ],
   "source": [
    "alt.Chart(vacinados1DosePorDia).mark_line().encode(\n",
    "    alt.X('data:T', title='Data'),\n",
    "    alt.Y('aplic_por_dia:Q', title='Nº de Vacinados'),\n",
    "    alt.Color('fonte_dados:N', title='Base dos Dados')\n",
    ").properties(\n",
    "    width=700,\n",
    "    title='Quantidade de vacinados com 1º Dose por Dia'\n",
    ")"
   ]
  },
  {
   "cell_type": "markdown",
   "metadata": {},
   "source": [
    "### Média Movel (7 dias) da Aplicação da 1º Dose"
   ]
  },
  {
   "cell_type": "code",
   "execution_count": 538,
   "metadata": {},
   "outputs": [
    {
     "data": {
      "text/html": [
       "\n",
       "<div id=\"altair-viz-c661865d84e5477fa38a6f87b95d6a0e\"></div>\n",
       "<script type=\"text/javascript\">\n",
       "  (function(spec, embedOpt){\n",
       "    let outputDiv = document.currentScript.previousElementSibling;\n",
       "    if (outputDiv.id !== \"altair-viz-c661865d84e5477fa38a6f87b95d6a0e\") {\n",
       "      outputDiv = document.getElementById(\"altair-viz-c661865d84e5477fa38a6f87b95d6a0e\");\n",
       "    }\n",
       "    const paths = {\n",
       "      \"vega\": \"https://cdn.jsdelivr.net/npm//vega@5?noext\",\n",
       "      \"vega-lib\": \"https://cdn.jsdelivr.net/npm//vega-lib?noext\",\n",
       "      \"vega-lite\": \"https://cdn.jsdelivr.net/npm//vega-lite@4.8.1?noext\",\n",
       "      \"vega-embed\": \"https://cdn.jsdelivr.net/npm//vega-embed@6?noext\",\n",
       "    };\n",
       "\n",
       "    function loadScript(lib) {\n",
       "      return new Promise(function(resolve, reject) {\n",
       "        var s = document.createElement('script');\n",
       "        s.src = paths[lib];\n",
       "        s.async = true;\n",
       "        s.onload = () => resolve(paths[lib]);\n",
       "        s.onerror = () => reject(`Error loading script: ${paths[lib]}`);\n",
       "        document.getElementsByTagName(\"head\")[0].appendChild(s);\n",
       "      });\n",
       "    }\n",
       "\n",
       "    function showError(err) {\n",
       "      outputDiv.innerHTML = `<div class=\"error\" style=\"color:red;\">${err}</div>`;\n",
       "      throw err;\n",
       "    }\n",
       "\n",
       "    function displayChart(vegaEmbed) {\n",
       "      vegaEmbed(outputDiv, spec, embedOpt)\n",
       "        .catch(err => showError(`Javascript Error: ${err.message}<br>This usually means there's a typo in your chart specification. See the javascript console for the full traceback.`));\n",
       "    }\n",
       "\n",
       "    if(typeof define === \"function\" && define.amd) {\n",
       "      requirejs.config({paths});\n",
       "      require([\"vega-embed\"], displayChart, err => showError(`Error loading script: ${err.message}`));\n",
       "    } else if (typeof vegaEmbed === \"function\") {\n",
       "      displayChart(vegaEmbed);\n",
       "    } else {\n",
       "      loadScript(\"vega\")\n",
       "        .then(() => loadScript(\"vega-lite\"))\n",
       "        .then(() => loadScript(\"vega-embed\"))\n",
       "        .catch(showError)\n",
       "        .then(() => displayChart(vegaEmbed));\n",
       "    }\n",
       "  })({\"config\": {\"view\": {\"continuousWidth\": 400, \"continuousHeight\": 300}}, \"data\": {\"name\": \"data-fdbcad993aea64c2e1727214857cb938\"}, \"mark\": {\"type\": \"line\", \"point\": true}, \"encoding\": {\"color\": {\"type\": \"nominal\", \"field\": \"fonte_dados\", \"title\": \"Base dos Dados\"}, \"x\": {\"type\": \"temporal\", \"field\": \"data\", \"title\": \"Data\"}, \"y\": {\"type\": \"quantitative\", \"field\": \"aplic_por_dia\", \"title\": \"N\\u00ba de Vacinados\"}}, \"title\": \"M\\u00e9dia movel da quantidade de vacinados com 1\\u00ba Dose por Dia\", \"width\": 750, \"$schema\": \"https://vega.github.io/schema/vega-lite/v4.8.1.json\", \"datasets\": {\"data-fdbcad993aea64c2e1727214857cb938\": [{\"data\": \"2021-06-01\", \"fonte_dados\": \"Federal\", \"aplic_por_dia\": null}, {\"data\": \"2021-06-02\", \"fonte_dados\": \"Federal\", \"aplic_por_dia\": null}, {\"data\": \"2021-06-03\", \"fonte_dados\": \"Federal\", \"aplic_por_dia\": null}, {\"data\": \"2021-06-04\", \"fonte_dados\": \"Federal\", \"aplic_por_dia\": null}, {\"data\": \"2021-06-05\", \"fonte_dados\": \"Federal\", \"aplic_por_dia\": null}, {\"data\": \"2021-06-06\", \"fonte_dados\": \"Federal\", \"aplic_por_dia\": null}, {\"data\": \"2021-06-07\", \"fonte_dados\": \"Federal\", \"aplic_por_dia\": 1637.7142857142858}, {\"data\": \"2021-06-08\", \"fonte_dados\": \"Federal\", \"aplic_por_dia\": 1576.2857142857142}, {\"data\": \"2021-06-09\", \"fonte_dados\": \"Federal\", \"aplic_por_dia\": 1474.0}, {\"data\": \"2021-06-10\", \"fonte_dados\": \"Federal\", \"aplic_por_dia\": 1687.4285714285713}, {\"data\": \"2021-06-11\", \"fonte_dados\": \"Federal\", \"aplic_por_dia\": 2031.142857142857}, {\"data\": \"2021-06-12\", \"fonte_dados\": \"Federal\", \"aplic_por_dia\": 1874.4285714285713}, {\"data\": \"2021-06-13\", \"fonte_dados\": \"Federal\", \"aplic_por_dia\": 1973.0}, {\"data\": \"2021-06-14\", \"fonte_dados\": \"Federal\", \"aplic_por_dia\": 1785.142857142857}, {\"data\": \"2021-06-15\", \"fonte_dados\": \"Federal\", \"aplic_por_dia\": 1518.5714285714287}, {\"data\": \"2021-06-16\", \"fonte_dados\": \"Federal\", \"aplic_por_dia\": 1376.0}, {\"data\": \"2021-06-17\", \"fonte_dados\": \"Federal\", \"aplic_por_dia\": 1120.0}, {\"data\": \"2021-06-18\", \"fonte_dados\": \"Federal\", \"aplic_por_dia\": 474.85714285714283}, {\"data\": \"2021-06-19\", \"fonte_dados\": \"Federal\", \"aplic_por_dia\": 668.2857142857143}, {\"data\": \"2021-06-20\", \"fonte_dados\": \"Federal\", \"aplic_por_dia\": 691.2857142857143}, {\"data\": \"2021-06-21\", \"fonte_dados\": \"Federal\", \"aplic_por_dia\": 693.1428571428571}, {\"data\": \"2021-06-22\", \"fonte_dados\": \"Federal\", \"aplic_por_dia\": 787.1428571428571}, {\"data\": \"2021-06-23\", \"fonte_dados\": \"Federal\", \"aplic_por_dia\": 789.7142857142857}, {\"data\": \"2021-06-24\", \"fonte_dados\": \"Federal\", \"aplic_por_dia\": 805.5714285714286}, {\"data\": \"2021-06-25\", \"fonte_dados\": \"Federal\", \"aplic_por_dia\": 1340.857142857143}, {\"data\": \"2021-06-26\", \"fonte_dados\": \"Federal\", \"aplic_por_dia\": 1386.4285714285713}, {\"data\": \"2021-06-27\", \"fonte_dados\": \"Federal\", \"aplic_por_dia\": 1357.142857142857}, {\"data\": \"2021-06-28\", \"fonte_dados\": \"Federal\", \"aplic_por_dia\": 1248.2857142857142}, {\"data\": \"2021-06-29\", \"fonte_dados\": \"Federal\", \"aplic_por_dia\": 1165.142857142857}, {\"data\": \"2021-06-30\", \"fonte_dados\": \"Federal\", \"aplic_por_dia\": 1192.0}, {\"data\": \"2021-07-01\", \"fonte_dados\": \"Federal\", \"aplic_por_dia\": 1664.0}, {\"data\": \"2021-07-03\", \"fonte_dados\": \"Federal\", \"aplic_por_dia\": 1747.0}, {\"data\": \"2021-07-04\", \"fonte_dados\": \"Federal\", \"aplic_por_dia\": 1797.4285714285713}, {\"data\": \"2021-07-05\", \"fonte_dados\": \"Federal\", \"aplic_por_dia\": 1979.7142857142858}, {\"data\": \"2021-07-06\", \"fonte_dados\": \"Federal\", \"aplic_por_dia\": 2059.1428571428573}, {\"data\": \"2021-07-07\", \"fonte_dados\": \"Federal\", \"aplic_por_dia\": 2035.2857142857142}, {\"data\": \"2021-07-08\", \"fonte_dados\": \"Federal\", \"aplic_por_dia\": 1555.142857142857}, {\"data\": \"2021-07-09\", \"fonte_dados\": \"Federal\", \"aplic_por_dia\": 1238.5714285714287}, {\"data\": \"2021-07-10\", \"fonte_dados\": \"Federal\", \"aplic_por_dia\": 1174.2857142857142}, {\"data\": \"2021-07-11\", \"fonte_dados\": \"Federal\", \"aplic_por_dia\": 992.4285714285714}, {\"data\": \"2021-07-12\", \"fonte_dados\": \"Federal\", \"aplic_por_dia\": 684.1428571428571}, {\"data\": \"2021-07-13\", \"fonte_dados\": \"Federal\", \"aplic_por_dia\": 593.8571428571429}, {\"data\": \"2021-07-14\", \"fonte_dados\": \"Federal\", \"aplic_por_dia\": 585.1428571428571}, {\"data\": \"2021-07-15\", \"fonte_dados\": \"Federal\", \"aplic_por_dia\": 570.7142857142857}, {\"data\": \"2021-07-16\", \"fonte_dados\": \"Federal\", \"aplic_por_dia\": 952.4285714285714}, {\"data\": \"2021-07-17\", \"fonte_dados\": \"Federal\", \"aplic_por_dia\": 1524.4285714285713}, {\"data\": \"2021-07-18\", \"fonte_dados\": \"Federal\", \"aplic_por_dia\": 2225.285714285714}, {\"data\": \"2021-07-19\", \"fonte_dados\": \"Federal\", \"aplic_por_dia\": 3098.0}, {\"data\": \"2021-07-20\", \"fonte_dados\": \"Federal\", \"aplic_por_dia\": 3643.285714285714}, {\"data\": \"2021-07-21\", \"fonte_dados\": \"Federal\", \"aplic_por_dia\": 3853.5714285714284}, {\"data\": \"2021-07-22\", \"fonte_dados\": \"Federal\", \"aplic_por_dia\": 3873.5714285714284}, {\"data\": \"2021-07-23\", \"fonte_dados\": \"Federal\", \"aplic_por_dia\": 3083.4285714285716}, {\"data\": \"2021-07-24\", \"fonte_dados\": \"Federal\", \"aplic_por_dia\": 2388.5714285714284}, {\"data\": \"2021-07-25\", \"fonte_dados\": \"Federal\", \"aplic_por_dia\": 1687.857142857143}, {\"data\": \"2021-07-26\", \"fonte_dados\": \"Federal\", \"aplic_por_dia\": 820.2857142857143}, {\"data\": \"2021-07-27\", \"fonte_dados\": \"Federal\", \"aplic_por_dia\": 273.57142857142856}, {\"data\": \"2021-07-28\", \"fonte_dados\": \"Federal\", \"aplic_por_dia\": 384.0}, {\"data\": \"2021-07-29\", \"fonte_dados\": \"Federal\", \"aplic_por_dia\": 563.7142857142857}, {\"data\": \"2021-07-30\", \"fonte_dados\": \"Federal\", \"aplic_por_dia\": 568.8571428571429}, {\"data\": \"2021-07-31\", \"fonte_dados\": \"Federal\", \"aplic_por_dia\": 569.0}, {\"data\": \"2021-08-01\", \"fonte_dados\": \"Federal\", \"aplic_por_dia\": 1070.142857142857}, {\"data\": \"2021-08-02\", \"fonte_dados\": \"Federal\", \"aplic_por_dia\": 1800.0}, {\"data\": \"2021-08-03\", \"fonte_dados\": \"Federal\", \"aplic_por_dia\": 2161.5714285714284}, {\"data\": \"2021-08-04\", \"fonte_dados\": \"Federal\", \"aplic_por_dia\": 1841.0}, {\"data\": \"2021-08-05\", \"fonte_dados\": \"Federal\", \"aplic_por_dia\": 1643.4285714285713}, {\"data\": \"2021-08-06\", \"fonte_dados\": \"Federal\", \"aplic_por_dia\": 2779.0}, {\"data\": \"2021-08-07\", \"fonte_dados\": \"Federal\", \"aplic_por_dia\": 3434.8571428571427}, {\"data\": \"2021-08-08\", \"fonte_dados\": \"Federal\", \"aplic_por_dia\": 2934.5714285714284}, {\"data\": \"2021-08-09\", \"fonte_dados\": \"Federal\", \"aplic_por_dia\": 2206.285714285714}, {\"data\": \"2021-08-10\", \"fonte_dados\": \"Federal\", \"aplic_por_dia\": 2917.1428571428573}, {\"data\": \"2021-08-11\", \"fonte_dados\": \"Federal\", \"aplic_por_dia\": 2924.5714285714284}, {\"data\": \"2021-08-12\", \"fonte_dados\": \"Federal\", \"aplic_por_dia\": 3227.285714285714}, {\"data\": \"2021-08-13\", \"fonte_dados\": \"Federal\", \"aplic_por_dia\": 2083.8571428571427}, {\"data\": \"2021-08-14\", \"fonte_dados\": \"Federal\", \"aplic_por_dia\": 2056.4285714285716}, {\"data\": \"2021-08-15\", \"fonte_dados\": \"Federal\", \"aplic_por_dia\": 2517.4285714285716}, {\"data\": \"2021-08-16\", \"fonte_dados\": \"Federal\", \"aplic_por_dia\": 3606.4285714285716}, {\"data\": \"2021-08-17\", \"fonte_dados\": \"Federal\", \"aplic_por_dia\": 2832.285714285714}, {\"data\": \"2021-08-18\", \"fonte_dados\": \"Federal\", \"aplic_por_dia\": 2831.8571428571427}, {\"data\": \"2021-08-19\", \"fonte_dados\": \"Federal\", \"aplic_por_dia\": 2526.285714285714}, {\"data\": \"2021-08-20\", \"fonte_dados\": \"Federal\", \"aplic_por_dia\": 3356.714285714286}, {\"data\": \"2021-08-21\", \"fonte_dados\": \"Federal\", \"aplic_por_dia\": 2898.4285714285716}, {\"data\": \"2021-08-23\", \"fonte_dados\": \"Federal\", \"aplic_por_dia\": 3089.5714285714284}, {\"data\": \"2021-08-24\", \"fonte_dados\": \"Federal\", \"aplic_por_dia\": 2461.8571428571427}, {\"data\": \"2021-08-25\", \"fonte_dados\": \"Federal\", \"aplic_por_dia\": 2157.714285714286}, {\"data\": \"2021-08-26\", \"fonte_dados\": \"Federal\", \"aplic_por_dia\": 2157.1428571428573}, {\"data\": \"2021-08-27\", \"fonte_dados\": \"Federal\", \"aplic_por_dia\": 2933.8571428571427}, {\"data\": \"2021-08-28\", \"fonte_dados\": \"Federal\", \"aplic_por_dia\": 2098.4285714285716}, {\"data\": \"2021-08-29\", \"fonte_dados\": \"Federal\", \"aplic_por_dia\": 1926.7142857142858}, {\"data\": \"2021-08-30\", \"fonte_dados\": \"Federal\", \"aplic_por_dia\": 1278.857142857143}, {\"data\": \"2021-08-31\", \"fonte_dados\": \"Federal\", \"aplic_por_dia\": 808.5714285714286}, {\"data\": \"2021-06-01\", \"fonte_dados\": \"Municipal\", \"aplic_por_dia\": null}, {\"data\": \"2021-06-02\", \"fonte_dados\": \"Municipal\", \"aplic_por_dia\": null}, {\"data\": \"2021-06-03\", \"fonte_dados\": \"Municipal\", \"aplic_por_dia\": null}, {\"data\": \"2021-06-04\", \"fonte_dados\": \"Municipal\", \"aplic_por_dia\": null}, {\"data\": \"2021-06-05\", \"fonte_dados\": \"Municipal\", \"aplic_por_dia\": null}, {\"data\": \"2021-06-06\", \"fonte_dados\": \"Municipal\", \"aplic_por_dia\": null}, {\"data\": \"2021-06-07\", \"fonte_dados\": \"Municipal\", \"aplic_por_dia\": 701.8571428571429}, {\"data\": \"2021-06-08\", \"fonte_dados\": \"Municipal\", \"aplic_por_dia\": 1408.857142857143}, {\"data\": \"2021-06-09\", \"fonte_dados\": \"Municipal\", \"aplic_por_dia\": 1342.2857142857142}, {\"data\": \"2021-06-10\", \"fonte_dados\": \"Municipal\", \"aplic_por_dia\": 1701.5714285714287}, {\"data\": \"2021-06-11\", \"fonte_dados\": \"Municipal\", \"aplic_por_dia\": 1924.5714285714287}, {\"data\": \"2021-06-12\", \"fonte_dados\": \"Municipal\", \"aplic_por_dia\": 1801.5714285714287}, {\"data\": \"2021-06-13\", \"fonte_dados\": \"Municipal\", \"aplic_por_dia\": 1891.857142857143}, {\"data\": \"2021-06-14\", \"fonte_dados\": \"Municipal\", \"aplic_por_dia\": 2063.285714285714}, {\"data\": \"2021-06-15\", \"fonte_dados\": \"Municipal\", \"aplic_por_dia\": 1363.2857142857142}, {\"data\": \"2021-06-16\", \"fonte_dados\": \"Municipal\", \"aplic_por_dia\": 1235.142857142857}, {\"data\": \"2021-06-17\", \"fonte_dados\": \"Municipal\", \"aplic_por_dia\": 1648.5714285714287}, {\"data\": \"2021-06-18\", \"fonte_dados\": \"Municipal\", \"aplic_por_dia\": 1203.4285714285713}, {\"data\": \"2021-06-19\", \"fonte_dados\": \"Municipal\", \"aplic_por_dia\": 1610.142857142857}, {\"data\": \"2021-06-20\", \"fonte_dados\": \"Municipal\", \"aplic_por_dia\": 1588.5714285714287}, {\"data\": \"2021-06-21\", \"fonte_dados\": \"Municipal\", \"aplic_por_dia\": 1448.0}, {\"data\": \"2021-06-22\", \"fonte_dados\": \"Municipal\", \"aplic_por_dia\": 1484.7142857142858}, {\"data\": \"2021-06-23\", \"fonte_dados\": \"Municipal\", \"aplic_por_dia\": 1476.5714285714287}, {\"data\": \"2021-06-24\", \"fonte_dados\": \"Municipal\", \"aplic_por_dia\": 734.5714285714286}, {\"data\": \"2021-06-25\", \"fonte_dados\": \"Municipal\", \"aplic_por_dia\": 830.1428571428571}, {\"data\": \"2021-06-26\", \"fonte_dados\": \"Municipal\", \"aplic_por_dia\": 365.85714285714283}, {\"data\": \"2021-06-27\", \"fonte_dados\": \"Municipal\", \"aplic_por_dia\": 259.0}, {\"data\": \"2021-06-28\", \"fonte_dados\": \"Municipal\", \"aplic_por_dia\": 251.85714285714286}, {\"data\": \"2021-06-29\", \"fonte_dados\": \"Municipal\", \"aplic_por_dia\": 205.71428571428572}, {\"data\": \"2021-06-30\", \"fonte_dados\": \"Municipal\", \"aplic_por_dia\": 1219.2857142857142}, {\"data\": \"2021-07-01\", \"fonte_dados\": \"Municipal\", \"aplic_por_dia\": 1777.0}, {\"data\": \"2021-07-03\", \"fonte_dados\": \"Municipal\", \"aplic_por_dia\": 2307.285714285714}, {\"data\": \"2021-07-04\", \"fonte_dados\": \"Municipal\", \"aplic_por_dia\": 2472.0}, {\"data\": \"2021-07-05\", \"fonte_dados\": \"Municipal\", \"aplic_por_dia\": 2582.1428571428573}, {\"data\": \"2021-07-06\", \"fonte_dados\": \"Municipal\", \"aplic_por_dia\": 4263.857142857143}, {\"data\": \"2021-07-07\", \"fonte_dados\": \"Municipal\", \"aplic_por_dia\": 4263.857142857143}, {\"data\": \"2021-07-08\", \"fonte_dados\": \"Municipal\", \"aplic_por_dia\": 3447.285714285714}, {\"data\": \"2021-07-09\", \"fonte_dados\": \"Municipal\", \"aplic_por_dia\": 3244.4285714285716}, {\"data\": \"2021-07-10\", \"fonte_dados\": \"Municipal\", \"aplic_por_dia\": 2804.285714285714}, {\"data\": \"2021-07-11\", \"fonte_dados\": \"Municipal\", \"aplic_por_dia\": 2627.0}, {\"data\": \"2021-07-12\", \"fonte_dados\": \"Municipal\", \"aplic_por_dia\": 2516.8571428571427}, {\"data\": \"2021-07-13\", \"fonte_dados\": \"Municipal\", \"aplic_por_dia\": 811.4285714285714}, {\"data\": \"2021-07-14\", \"fonte_dados\": \"Municipal\", \"aplic_por_dia\": 816.4285714285714}, {\"data\": \"2021-07-15\", \"fonte_dados\": \"Municipal\", \"aplic_por_dia\": 620.5714285714286}, {\"data\": \"2021-07-16\", \"fonte_dados\": \"Municipal\", \"aplic_por_dia\": 621.5714285714286}, {\"data\": \"2021-07-17\", \"fonte_dados\": \"Municipal\", \"aplic_por_dia\": 2204.8571428571427}, {\"data\": \"2021-07-18\", \"fonte_dados\": \"Municipal\", \"aplic_por_dia\": 3398.1428571428573}, {\"data\": \"2021-07-19\", \"fonte_dados\": \"Municipal\", \"aplic_por_dia\": 3844.5714285714284}, {\"data\": \"2021-07-20\", \"fonte_dados\": \"Municipal\", \"aplic_por_dia\": 4273.428571428572}, {\"data\": \"2021-07-21\", \"fonte_dados\": \"Municipal\", \"aplic_por_dia\": 4411.0}, {\"data\": \"2021-07-22\", \"fonte_dados\": \"Municipal\", \"aplic_por_dia\": 4409.857142857143}, {\"data\": \"2021-07-23\", \"fonte_dados\": \"Municipal\", \"aplic_por_dia\": 3983.4285714285716}, {\"data\": \"2021-07-24\", \"fonte_dados\": \"Municipal\", \"aplic_por_dia\": 2215.0}, {\"data\": \"2021-07-25\", \"fonte_dados\": \"Municipal\", \"aplic_por_dia\": 1021.7142857142857}, {\"data\": \"2021-07-26\", \"fonte_dados\": \"Municipal\", \"aplic_por_dia\": 572.0}, {\"data\": \"2021-07-27\", \"fonte_dados\": \"Municipal\", \"aplic_por_dia\": 143.14285714285714}, {\"data\": \"2021-07-28\", \"fonte_dados\": \"Municipal\", \"aplic_por_dia\": 407.85714285714283}, {\"data\": \"2021-07-29\", \"fonte_dados\": \"Municipal\", \"aplic_por_dia\": 674.4285714285714}, {\"data\": \"2021-07-30\", \"fonte_dados\": \"Municipal\", \"aplic_por_dia\": 680.1428571428571}, {\"data\": \"2021-07-31\", \"fonte_dados\": \"Municipal\", \"aplic_por_dia\": 679.5714285714286}, {\"data\": \"2021-08-01\", \"fonte_dados\": \"Municipal\", \"aplic_por_dia\": 1179.4285714285713}, {\"data\": \"2021-08-02\", \"fonte_dados\": \"Municipal\", \"aplic_por_dia\": 1889.5714285714287}, {\"data\": \"2021-08-03\", \"fonte_dados\": \"Municipal\", \"aplic_por_dia\": 2263.8571428571427}, {\"data\": \"2021-08-04\", \"fonte_dados\": \"Municipal\", \"aplic_por_dia\": 1856.5714285714287}, {\"data\": \"2021-08-05\", \"fonte_dados\": \"Municipal\", \"aplic_por_dia\": 1590.0}, {\"data\": \"2021-08-06\", \"fonte_dados\": \"Municipal\", \"aplic_por_dia\": 2678.5714285714284}, {\"data\": \"2021-08-07\", \"fonte_dados\": \"Municipal\", \"aplic_por_dia\": 3349.5714285714284}, {\"data\": \"2021-08-08\", \"fonte_dados\": \"Municipal\", \"aplic_por_dia\": 2849.714285714286}, {\"data\": \"2021-08-09\", \"fonte_dados\": \"Municipal\", \"aplic_por_dia\": 2139.5714285714284}, {\"data\": \"2021-08-10\", \"fonte_dados\": \"Municipal\", \"aplic_por_dia\": 2797.4285714285716}, {\"data\": \"2021-08-11\", \"fonte_dados\": \"Municipal\", \"aplic_por_dia\": 2797.4285714285716}, {\"data\": \"2021-08-12\", \"fonte_dados\": \"Municipal\", \"aplic_por_dia\": 3099.8571428571427}, {\"data\": \"2021-08-13\", \"fonte_dados\": \"Municipal\", \"aplic_por_dia\": 2005.5714285714287}, {\"data\": \"2021-08-14\", \"fonte_dados\": \"Municipal\", \"aplic_por_dia\": 1937.7142857142858}, {\"data\": \"2021-08-15\", \"fonte_dados\": \"Municipal\", \"aplic_por_dia\": 2398.4285714285716}, {\"data\": \"2021-08-16\", \"fonte_dados\": \"Municipal\", \"aplic_por_dia\": 3368.0}, {\"data\": \"2021-08-17\", \"fonte_dados\": \"Municipal\", \"aplic_por_dia\": 2640.285714285714}, {\"data\": \"2021-08-18\", \"fonte_dados\": \"Municipal\", \"aplic_por_dia\": 2640.285714285714}, {\"data\": \"2021-08-19\", \"fonte_dados\": \"Municipal\", \"aplic_por_dia\": 2337.8571428571427}, {\"data\": \"2021-08-20\", \"fonte_dados\": \"Municipal\", \"aplic_por_dia\": 3129.0}, {\"data\": \"2021-08-21\", \"fonte_dados\": \"Municipal\", \"aplic_por_dia\": 2695.714285714286}, {\"data\": \"2021-08-23\", \"fonte_dados\": \"Municipal\", \"aplic_por_dia\": 1811.4285714285713}, {\"data\": \"2021-08-24\", \"fonte_dados\": \"Municipal\", \"aplic_por_dia\": 1930.857142857143}, {\"data\": \"2021-08-25\", \"fonte_dados\": \"Municipal\", \"aplic_por_dia\": 1930.857142857143}, {\"data\": \"2021-08-26\", \"fonte_dados\": \"Municipal\", \"aplic_por_dia\": 1930.857142857143}, {\"data\": \"2021-08-27\", \"fonte_dados\": \"Municipal\", \"aplic_por_dia\": 1875.0}, {\"data\": \"2021-08-28\", \"fonte_dados\": \"Municipal\", \"aplic_por_dia\": 1705.142857142857}, {\"data\": \"2021-08-29\", \"fonte_dados\": \"Municipal\", \"aplic_por_dia\": 1705.142857142857}, {\"data\": \"2021-08-30\", \"fonte_dados\": \"Municipal\", \"aplic_por_dia\": 1159.142857142857}, {\"data\": \"2021-08-31\", \"fonte_dados\": \"Municipal\", \"aplic_por_dia\": 735.2857142857143}]}}, {\"mode\": \"vega-lite\"});\n",
       "</script>"
      ],
      "text/plain": [
       "alt.Chart(...)"
      ]
     },
     "execution_count": 538,
     "metadata": {},
     "output_type": "execute_result"
    }
   ],
   "source": [
    "alt.Chart(vacinados1DosePorDiaMedMovel).mark_line(point=True).encode(\n",
    "    alt.X('data:T', title='Data'),\n",
    "    alt.Y('aplic_por_dia:Q', title='Nº de Vacinados'),\n",
    "    alt.Color('fonte_dados:N', title='Base dos Dados')\n",
    ").properties(\n",
    "    width=750,\n",
    "    title='Média movel da quantidade de vacinados com 1º Dose por Dia'\n",
    ")"
   ]
  },
  {
   "cell_type": "markdown",
   "metadata": {},
   "source": [
    "### Total Aplicações da 1º Dose"
   ]
  },
  {
   "cell_type": "code",
   "execution_count": 539,
   "metadata": {},
   "outputs": [],
   "source": [
    "df_total1Dose = df_1DosePorDia['aplic_1DosePorDia'].sum()\n",
    "dm_total1Dose = dm_1DosePorDia['aplic_1DosePorDia'].sum()"
   ]
  },
  {
   "cell_type": "code",
   "execution_count": 540,
   "metadata": {},
   "outputs": [],
   "source": [
    "total1Dose = pd.DataFrame({\n",
    "    'base': ['Federal', 'Municipal'],\n",
    "    'total': [df_total1Dose, dm_total1Dose]\n",
    "})"
   ]
  },
  {
   "cell_type": "code",
   "execution_count": 541,
   "metadata": {},
   "outputs": [
    {
     "data": {
      "text/html": [
       "\n",
       "<div id=\"altair-viz-48c898c84d9740ee8817f71a0ed0871d\"></div>\n",
       "<script type=\"text/javascript\">\n",
       "  (function(spec, embedOpt){\n",
       "    let outputDiv = document.currentScript.previousElementSibling;\n",
       "    if (outputDiv.id !== \"altair-viz-48c898c84d9740ee8817f71a0ed0871d\") {\n",
       "      outputDiv = document.getElementById(\"altair-viz-48c898c84d9740ee8817f71a0ed0871d\");\n",
       "    }\n",
       "    const paths = {\n",
       "      \"vega\": \"https://cdn.jsdelivr.net/npm//vega@5?noext\",\n",
       "      \"vega-lib\": \"https://cdn.jsdelivr.net/npm//vega-lib?noext\",\n",
       "      \"vega-lite\": \"https://cdn.jsdelivr.net/npm//vega-lite@4.8.1?noext\",\n",
       "      \"vega-embed\": \"https://cdn.jsdelivr.net/npm//vega-embed@6?noext\",\n",
       "    };\n",
       "\n",
       "    function loadScript(lib) {\n",
       "      return new Promise(function(resolve, reject) {\n",
       "        var s = document.createElement('script');\n",
       "        s.src = paths[lib];\n",
       "        s.async = true;\n",
       "        s.onload = () => resolve(paths[lib]);\n",
       "        s.onerror = () => reject(`Error loading script: ${paths[lib]}`);\n",
       "        document.getElementsByTagName(\"head\")[0].appendChild(s);\n",
       "      });\n",
       "    }\n",
       "\n",
       "    function showError(err) {\n",
       "      outputDiv.innerHTML = `<div class=\"error\" style=\"color:red;\">${err}</div>`;\n",
       "      throw err;\n",
       "    }\n",
       "\n",
       "    function displayChart(vegaEmbed) {\n",
       "      vegaEmbed(outputDiv, spec, embedOpt)\n",
       "        .catch(err => showError(`Javascript Error: ${err.message}<br>This usually means there's a typo in your chart specification. See the javascript console for the full traceback.`));\n",
       "    }\n",
       "\n",
       "    if(typeof define === \"function\" && define.amd) {\n",
       "      requirejs.config({paths});\n",
       "      require([\"vega-embed\"], displayChart, err => showError(`Error loading script: ${err.message}`));\n",
       "    } else if (typeof vegaEmbed === \"function\") {\n",
       "      displayChart(vegaEmbed);\n",
       "    } else {\n",
       "      loadScript(\"vega\")\n",
       "        .then(() => loadScript(\"vega-lite\"))\n",
       "        .then(() => loadScript(\"vega-embed\"))\n",
       "        .catch(showError)\n",
       "        .then(() => displayChart(vegaEmbed));\n",
       "    }\n",
       "  })({\"config\": {\"view\": {\"continuousWidth\": 400, \"continuousHeight\": 300}}, \"data\": {\"name\": \"data-32084d40b75ab0eda36272cc11fbfbc8\"}, \"mark\": {\"type\": \"bar\", \"size\": 30}, \"encoding\": {\"color\": {\"type\": \"nominal\", \"field\": \"base\", \"title\": \"Base de Dados\"}, \"x\": {\"type\": \"nominal\", \"field\": \"base\", \"title\": \"Base dos Dados\"}, \"y\": {\"type\": \"quantitative\", \"field\": \"total\", \"title\": \"N\\u00ba Total de Vacinados\"}}, \"title\": \"Total de aplica\\u00e7\\u00f5es da Primeira Dose\", \"width\": 150, \"$schema\": \"https://vega.github.io/schema/vega-lite/v4.8.1.json\", \"datasets\": {\"data-32084d40b75ab0eda36272cc11fbfbc8\": [{\"base\": \"Federal\", \"total\": 154671.0}, {\"base\": \"Municipal\", \"total\": 170272.0}]}}, {\"mode\": \"vega-lite\"});\n",
       "</script>"
      ],
      "text/plain": [
       "alt.Chart(...)"
      ]
     },
     "execution_count": 541,
     "metadata": {},
     "output_type": "execute_result"
    }
   ],
   "source": [
    "alt.Chart(total1Dose).mark_bar(size=30).encode(\n",
    "    alt.X('base:N', title='Base dos Dados'),\n",
    "    alt.Y('total:Q', title='Nº Total de Vacinados'),\n",
    "    alt.Color('base:N', title='Base de Dados')\n",
    ").properties(\n",
    "    width=150,\n",
    "    title='Total de aplicações da Primeira Dose'\n",
    ")"
   ]
  },
  {
   "cell_type": "markdown",
   "metadata": {},
   "source": [
    "### Aplicações da 2º Dose por Dia"
   ]
  },
  {
   "cell_type": "code",
   "execution_count": 542,
   "metadata": {},
   "outputs": [
    {
     "data": {
      "text/html": [
       "\n",
       "<div id=\"altair-viz-f7930165b1044e36804d261503468cd4\"></div>\n",
       "<script type=\"text/javascript\">\n",
       "  (function(spec, embedOpt){\n",
       "    let outputDiv = document.currentScript.previousElementSibling;\n",
       "    if (outputDiv.id !== \"altair-viz-f7930165b1044e36804d261503468cd4\") {\n",
       "      outputDiv = document.getElementById(\"altair-viz-f7930165b1044e36804d261503468cd4\");\n",
       "    }\n",
       "    const paths = {\n",
       "      \"vega\": \"https://cdn.jsdelivr.net/npm//vega@5?noext\",\n",
       "      \"vega-lib\": \"https://cdn.jsdelivr.net/npm//vega-lib?noext\",\n",
       "      \"vega-lite\": \"https://cdn.jsdelivr.net/npm//vega-lite@4.8.1?noext\",\n",
       "      \"vega-embed\": \"https://cdn.jsdelivr.net/npm//vega-embed@6?noext\",\n",
       "    };\n",
       "\n",
       "    function loadScript(lib) {\n",
       "      return new Promise(function(resolve, reject) {\n",
       "        var s = document.createElement('script');\n",
       "        s.src = paths[lib];\n",
       "        s.async = true;\n",
       "        s.onload = () => resolve(paths[lib]);\n",
       "        s.onerror = () => reject(`Error loading script: ${paths[lib]}`);\n",
       "        document.getElementsByTagName(\"head\")[0].appendChild(s);\n",
       "      });\n",
       "    }\n",
       "\n",
       "    function showError(err) {\n",
       "      outputDiv.innerHTML = `<div class=\"error\" style=\"color:red;\">${err}</div>`;\n",
       "      throw err;\n",
       "    }\n",
       "\n",
       "    function displayChart(vegaEmbed) {\n",
       "      vegaEmbed(outputDiv, spec, embedOpt)\n",
       "        .catch(err => showError(`Javascript Error: ${err.message}<br>This usually means there's a typo in your chart specification. See the javascript console for the full traceback.`));\n",
       "    }\n",
       "\n",
       "    if(typeof define === \"function\" && define.amd) {\n",
       "      requirejs.config({paths});\n",
       "      require([\"vega-embed\"], displayChart, err => showError(`Error loading script: ${err.message}`));\n",
       "    } else if (typeof vegaEmbed === \"function\") {\n",
       "      displayChart(vegaEmbed);\n",
       "    } else {\n",
       "      loadScript(\"vega\")\n",
       "        .then(() => loadScript(\"vega-lite\"))\n",
       "        .then(() => loadScript(\"vega-embed\"))\n",
       "        .catch(showError)\n",
       "        .then(() => displayChart(vegaEmbed));\n",
       "    }\n",
       "  })({\"config\": {\"view\": {\"continuousWidth\": 400, \"continuousHeight\": 300}}, \"data\": {\"name\": \"data-237755d6108ea28785bb0cf876db5ff9\"}, \"mark\": \"line\", \"encoding\": {\"color\": {\"type\": \"nominal\", \"field\": \"fonte_dados\", \"title\": \"Base de Dados\"}, \"x\": {\"type\": \"temporal\", \"field\": \"data\", \"title\": \"Data\"}, \"y\": {\"type\": \"quantitative\", \"field\": \"aplic_por_dia\", \"title\": \"N\\u00ba de Vacinados\"}}, \"title\": \"Quantidade de vacinados com 2\\u00ba Dose por Dia\", \"width\": 700, \"$schema\": \"https://vega.github.io/schema/vega-lite/v4.8.1.json\", \"datasets\": {\"data-237755d6108ea28785bb0cf876db5ff9\": [{\"data\": \"2021-06-01\", \"fonte_dados\": \"Federal\", \"aplic_por_dia\": 180.0}, {\"data\": \"2021-06-02\", \"fonte_dados\": \"Federal\", \"aplic_por_dia\": 70.0}, {\"data\": \"2021-06-03\", \"fonte_dados\": \"Federal\", \"aplic_por_dia\": 146.0}, {\"data\": \"2021-06-04\", \"fonte_dados\": \"Federal\", \"aplic_por_dia\": 1095.0}, {\"data\": \"2021-06-05\", \"fonte_dados\": \"Federal\", \"aplic_por_dia\": 21.0}, {\"data\": \"2021-06-06\", \"fonte_dados\": \"Federal\", \"aplic_por_dia\": 20.0}, {\"data\": \"2021-06-07\", \"fonte_dados\": \"Federal\", \"aplic_por_dia\": 149.0}, {\"data\": \"2021-06-08\", \"fonte_dados\": \"Federal\", \"aplic_por_dia\": 206.0}, {\"data\": \"2021-06-09\", \"fonte_dados\": \"Federal\", \"aplic_por_dia\": 172.0}, {\"data\": \"2021-06-10\", \"fonte_dados\": \"Federal\", \"aplic_por_dia\": 54.0}, {\"data\": \"2021-06-11\", \"fonte_dados\": \"Federal\", \"aplic_por_dia\": 81.0}, {\"data\": \"2021-06-12\", \"fonte_dados\": \"Federal\", \"aplic_por_dia\": 49.0}, {\"data\": \"2021-06-13\", \"fonte_dados\": \"Federal\", \"aplic_por_dia\": 38.0}, {\"data\": \"2021-06-14\", \"fonte_dados\": \"Federal\", \"aplic_por_dia\": 103.0}, {\"data\": \"2021-06-15\", \"fonte_dados\": \"Federal\", \"aplic_por_dia\": 284.0}, {\"data\": \"2021-06-16\", \"fonte_dados\": \"Federal\", \"aplic_por_dia\": 92.0}, {\"data\": \"2021-06-17\", \"fonte_dados\": \"Federal\", \"aplic_por_dia\": 33.0}, {\"data\": \"2021-06-18\", \"fonte_dados\": \"Federal\", \"aplic_por_dia\": 37.0}, {\"data\": \"2021-06-19\", \"fonte_dados\": \"Federal\", \"aplic_por_dia\": 120.0}, {\"data\": \"2021-06-20\", \"fonte_dados\": \"Federal\", \"aplic_por_dia\": 79.0}, {\"data\": \"2021-06-21\", \"fonte_dados\": \"Federal\", \"aplic_por_dia\": 343.0}, {\"data\": \"2021-06-22\", \"fonte_dados\": \"Federal\", \"aplic_por_dia\": 239.0}, {\"data\": \"2021-06-23\", \"fonte_dados\": \"Federal\", \"aplic_por_dia\": 307.0}, {\"data\": \"2021-06-24\", \"fonte_dados\": \"Federal\", \"aplic_por_dia\": 305.0}, {\"data\": \"2021-06-25\", \"fonte_dados\": \"Federal\", \"aplic_por_dia\": 82.0}, {\"data\": \"2021-06-26\", \"fonte_dados\": \"Federal\", \"aplic_por_dia\": 1185.0}, {\"data\": \"2021-06-27\", \"fonte_dados\": \"Federal\", \"aplic_por_dia\": 983.0}, {\"data\": \"2021-06-28\", \"fonte_dados\": \"Federal\", \"aplic_por_dia\": 934.0}, {\"data\": \"2021-06-29\", \"fonte_dados\": \"Federal\", \"aplic_por_dia\": 1181.0}, {\"data\": \"2021-06-30\", \"fonte_dados\": \"Federal\", \"aplic_por_dia\": 236.0}, {\"data\": \"2021-07-01\", \"fonte_dados\": \"Federal\", \"aplic_por_dia\": 176.0}, {\"data\": \"2021-07-03\", \"fonte_dados\": \"Federal\", \"aplic_por_dia\": 476.0}, {\"data\": \"2021-07-04\", \"fonte_dados\": \"Federal\", \"aplic_por_dia\": 90.0}, {\"data\": \"2021-07-05\", \"fonte_dados\": \"Federal\", \"aplic_por_dia\": 504.0}, {\"data\": \"2021-07-06\", \"fonte_dados\": \"Federal\", \"aplic_por_dia\": 429.0}, {\"data\": \"2021-07-07\", \"fonte_dados\": \"Federal\", \"aplic_por_dia\": 392.0}, {\"data\": \"2021-07-08\", \"fonte_dados\": \"Federal\", \"aplic_por_dia\": 447.0}, {\"data\": \"2021-07-09\", \"fonte_dados\": \"Federal\", \"aplic_por_dia\": 172.0}, {\"data\": \"2021-07-10\", \"fonte_dados\": \"Federal\", \"aplic_por_dia\": 182.0}, {\"data\": \"2021-07-11\", \"fonte_dados\": \"Federal\", \"aplic_por_dia\": 197.0}, {\"data\": \"2021-07-12\", \"fonte_dados\": \"Federal\", \"aplic_por_dia\": 1849.0}, {\"data\": \"2021-07-13\", \"fonte_dados\": \"Federal\", \"aplic_por_dia\": 757.0}, {\"data\": \"2021-07-14\", \"fonte_dados\": \"Federal\", \"aplic_por_dia\": 515.0}, {\"data\": \"2021-07-15\", \"fonte_dados\": \"Federal\", \"aplic_por_dia\": 494.0}, {\"data\": \"2021-07-16\", \"fonte_dados\": \"Federal\", \"aplic_por_dia\": 407.0}, {\"data\": \"2021-07-17\", \"fonte_dados\": \"Federal\", \"aplic_por_dia\": 877.0}, {\"data\": \"2021-07-18\", \"fonte_dados\": \"Federal\", \"aplic_por_dia\": 398.0}, {\"data\": \"2021-07-19\", \"fonte_dados\": \"Federal\", \"aplic_por_dia\": 1799.0}, {\"data\": \"2021-07-20\", \"fonte_dados\": \"Federal\", \"aplic_por_dia\": 1155.0}, {\"data\": \"2021-07-21\", \"fonte_dados\": \"Federal\", \"aplic_por_dia\": 264.0}, {\"data\": \"2021-07-22\", \"fonte_dados\": \"Federal\", \"aplic_por_dia\": 474.0}, {\"data\": \"2021-07-23\", \"fonte_dados\": \"Federal\", \"aplic_por_dia\": 1237.0}, {\"data\": \"2021-07-24\", \"fonte_dados\": \"Federal\", \"aplic_por_dia\": 1314.0}, {\"data\": \"2021-07-25\", \"fonte_dados\": \"Federal\", \"aplic_por_dia\": 1.0}, {\"data\": \"2021-07-26\", \"fonte_dados\": \"Federal\", \"aplic_por_dia\": 1571.0}, {\"data\": \"2021-07-27\", \"fonte_dados\": \"Federal\", \"aplic_por_dia\": 1544.0}, {\"data\": \"2021-07-28\", \"fonte_dados\": \"Federal\", \"aplic_por_dia\": 517.0}, {\"data\": \"2021-07-29\", \"fonte_dados\": \"Federal\", \"aplic_por_dia\": 709.0}, {\"data\": \"2021-07-30\", \"fonte_dados\": \"Federal\", \"aplic_por_dia\": 1051.0}, {\"data\": \"2021-07-31\", \"fonte_dados\": \"Federal\", \"aplic_por_dia\": 795.0}, {\"data\": \"2021-08-01\", \"fonte_dados\": \"Federal\", \"aplic_por_dia\": 204.0}, {\"data\": \"2021-08-02\", \"fonte_dados\": \"Federal\", \"aplic_por_dia\": 660.0}, {\"data\": \"2021-08-03\", \"fonte_dados\": \"Federal\", \"aplic_por_dia\": 586.0}, {\"data\": \"2021-08-04\", \"fonte_dados\": \"Federal\", \"aplic_por_dia\": 477.0}, {\"data\": \"2021-08-05\", \"fonte_dados\": \"Federal\", \"aplic_por_dia\": 520.0}, {\"data\": \"2021-08-06\", \"fonte_dados\": \"Federal\", \"aplic_por_dia\": 990.0}, {\"data\": \"2021-08-07\", \"fonte_dados\": \"Federal\", \"aplic_por_dia\": 653.0}, {\"data\": \"2021-08-08\", \"fonte_dados\": \"Federal\", \"aplic_por_dia\": 680.0}, {\"data\": \"2021-08-09\", \"fonte_dados\": \"Federal\", \"aplic_por_dia\": 1030.0}, {\"data\": \"2021-08-10\", \"fonte_dados\": \"Federal\", \"aplic_por_dia\": 1987.0}, {\"data\": \"2021-08-11\", \"fonte_dados\": \"Federal\", \"aplic_por_dia\": 708.0}, {\"data\": \"2021-08-12\", \"fonte_dados\": \"Federal\", \"aplic_por_dia\": 494.0}, {\"data\": \"2021-08-13\", \"fonte_dados\": \"Federal\", \"aplic_por_dia\": 1157.0}, {\"data\": \"2021-08-14\", \"fonte_dados\": \"Federal\", \"aplic_por_dia\": 1135.0}, {\"data\": \"2021-08-15\", \"fonte_dados\": \"Federal\", \"aplic_por_dia\": 351.0}, {\"data\": \"2021-08-16\", \"fonte_dados\": \"Federal\", \"aplic_por_dia\": 1250.0}, {\"data\": \"2021-08-17\", \"fonte_dados\": \"Federal\", \"aplic_por_dia\": 1376.0}, {\"data\": \"2021-08-18\", \"fonte_dados\": \"Federal\", \"aplic_por_dia\": 2553.0}, {\"data\": \"2021-08-19\", \"fonte_dados\": \"Federal\", \"aplic_por_dia\": 1085.0}, {\"data\": \"2021-08-20\", \"fonte_dados\": \"Federal\", \"aplic_por_dia\": 931.0}, {\"data\": \"2021-08-21\", \"fonte_dados\": \"Federal\", \"aplic_por_dia\": 733.0}, {\"data\": \"2021-08-23\", \"fonte_dados\": \"Federal\", \"aplic_por_dia\": 2117.0}, {\"data\": \"2021-08-24\", \"fonte_dados\": \"Federal\", \"aplic_por_dia\": 1925.0}, {\"data\": \"2021-08-25\", \"fonte_dados\": \"Federal\", \"aplic_por_dia\": 2297.0}, {\"data\": \"2021-08-26\", \"fonte_dados\": \"Federal\", \"aplic_por_dia\": 1561.0}, {\"data\": \"2021-08-27\", \"fonte_dados\": \"Federal\", \"aplic_por_dia\": 544.0}, {\"data\": \"2021-08-28\", \"fonte_dados\": \"Federal\", \"aplic_por_dia\": 495.0}, {\"data\": \"2021-08-29\", \"fonte_dados\": \"Federal\", \"aplic_por_dia\": 2.0}, {\"data\": \"2021-08-30\", \"fonte_dados\": \"Federal\", \"aplic_por_dia\": 1114.0}, {\"data\": \"2021-08-31\", \"fonte_dados\": \"Federal\", \"aplic_por_dia\": 961.0}, {\"data\": \"2021-06-01\", \"fonte_dados\": \"Municipal\", \"aplic_por_dia\": 2.0}, {\"data\": \"2021-06-02\", \"fonte_dados\": \"Municipal\", \"aplic_por_dia\": 0.0}, {\"data\": \"2021-06-03\", \"fonte_dados\": \"Municipal\", \"aplic_por_dia\": 102.0}, {\"data\": \"2021-06-04\", \"fonte_dados\": \"Municipal\", \"aplic_por_dia\": 1110.0}, {\"data\": \"2021-06-05\", \"fonte_dados\": \"Municipal\", \"aplic_por_dia\": 0.0}, {\"data\": \"2021-06-06\", \"fonte_dados\": \"Municipal\", \"aplic_por_dia\": 0.0}, {\"data\": \"2021-06-07\", \"fonte_dados\": \"Municipal\", \"aplic_por_dia\": 0.0}, {\"data\": \"2021-06-08\", \"fonte_dados\": \"Municipal\", \"aplic_por_dia\": 0.0}, {\"data\": \"2021-06-09\", \"fonte_dados\": \"Municipal\", \"aplic_por_dia\": 0.0}, {\"data\": \"2021-06-10\", \"fonte_dados\": \"Municipal\", \"aplic_por_dia\": 0.0}, {\"data\": \"2021-06-11\", \"fonte_dados\": \"Municipal\", \"aplic_por_dia\": 0.0}, {\"data\": \"2021-06-12\", \"fonte_dados\": \"Municipal\", \"aplic_por_dia\": 0.0}, {\"data\": \"2021-06-13\", \"fonte_dados\": \"Municipal\", \"aplic_por_dia\": 0.0}, {\"data\": \"2021-06-14\", \"fonte_dados\": \"Municipal\", \"aplic_por_dia\": 322.0}, {\"data\": \"2021-06-15\", \"fonte_dados\": \"Municipal\", \"aplic_por_dia\": 0.0}, {\"data\": \"2021-06-16\", \"fonte_dados\": \"Municipal\", \"aplic_por_dia\": 0.0}, {\"data\": \"2021-06-17\", \"fonte_dados\": \"Municipal\", \"aplic_por_dia\": 0.0}, {\"data\": \"2021-06-18\", \"fonte_dados\": \"Municipal\", \"aplic_por_dia\": 0.0}, {\"data\": \"2021-06-19\", \"fonte_dados\": \"Municipal\", \"aplic_por_dia\": 19.0}, {\"data\": \"2021-06-20\", \"fonte_dados\": \"Municipal\", \"aplic_por_dia\": 15.0}, {\"data\": \"2021-06-21\", \"fonte_dados\": \"Municipal\", \"aplic_por_dia\": 29.0}, {\"data\": \"2021-06-22\", \"fonte_dados\": \"Municipal\", \"aplic_por_dia\": 7.0}, {\"data\": \"2021-06-23\", \"fonte_dados\": \"Municipal\", \"aplic_por_dia\": 0.0}, {\"data\": \"2021-06-24\", \"fonte_dados\": \"Municipal\", \"aplic_por_dia\": 555.0}, {\"data\": \"2021-06-25\", \"fonte_dados\": \"Municipal\", \"aplic_por_dia\": 1413.0}, {\"data\": \"2021-06-26\", \"fonte_dados\": \"Municipal\", \"aplic_por_dia\": 775.0}, {\"data\": \"2021-06-27\", \"fonte_dados\": \"Municipal\", \"aplic_por_dia\": 101.0}, {\"data\": \"2021-06-28\", \"fonte_dados\": \"Municipal\", \"aplic_por_dia\": 865.0}, {\"data\": \"2021-06-29\", \"fonte_dados\": \"Municipal\", \"aplic_por_dia\": 0.0}, {\"data\": \"2021-06-30\", \"fonte_dados\": \"Municipal\", \"aplic_por_dia\": 1537.0}, {\"data\": \"2021-07-01\", \"fonte_dados\": \"Municipal\", \"aplic_por_dia\": 180.0}, {\"data\": \"2021-07-03\", \"fonte_dados\": \"Municipal\", \"aplic_por_dia\": 1060.0}, {\"data\": \"2021-07-04\", \"fonte_dados\": \"Municipal\", \"aplic_por_dia\": 1728.0}, {\"data\": \"2021-07-05\", \"fonte_dados\": \"Municipal\", \"aplic_por_dia\": 1181.0}, {\"data\": \"2021-07-06\", \"fonte_dados\": \"Municipal\", \"aplic_por_dia\": 292.0}, {\"data\": \"2021-07-07\", \"fonte_dados\": \"Municipal\", \"aplic_por_dia\": 0.0}, {\"data\": \"2021-07-08\", \"fonte_dados\": \"Municipal\", \"aplic_por_dia\": 623.0}, {\"data\": \"2021-07-09\", \"fonte_dados\": \"Municipal\", \"aplic_por_dia\": 129.0}, {\"data\": \"2021-07-10\", \"fonte_dados\": \"Municipal\", \"aplic_por_dia\": 166.0}, {\"data\": \"2021-07-11\", \"fonte_dados\": \"Municipal\", \"aplic_por_dia\": 180.0}, {\"data\": \"2021-07-12\", \"fonte_dados\": \"Municipal\", \"aplic_por_dia\": 98.0}, {\"data\": \"2021-07-13\", \"fonte_dados\": \"Municipal\", \"aplic_por_dia\": 0.0}, {\"data\": \"2021-07-14\", \"fonte_dados\": \"Municipal\", \"aplic_por_dia\": 956.0}, {\"data\": \"2021-07-15\", \"fonte_dados\": \"Municipal\", \"aplic_por_dia\": 412.0}, {\"data\": \"2021-07-16\", \"fonte_dados\": \"Municipal\", \"aplic_por_dia\": 372.0}, {\"data\": \"2021-07-17\", \"fonte_dados\": \"Municipal\", \"aplic_por_dia\": 3051.0}, {\"data\": \"2021-07-18\", \"fonte_dados\": \"Municipal\", \"aplic_por_dia\": 767.0}, {\"data\": \"2021-07-19\", \"fonte_dados\": \"Municipal\", \"aplic_por_dia\": 1755.0}, {\"data\": \"2021-07-20\", \"fonte_dados\": \"Municipal\", \"aplic_por_dia\": 785.0}, {\"data\": \"2021-07-21\", \"fonte_dados\": \"Municipal\", \"aplic_por_dia\": 255.0}, {\"data\": \"2021-07-22\", \"fonte_dados\": \"Municipal\", \"aplic_por_dia\": 438.0}, {\"data\": \"2021-07-23\", \"fonte_dados\": \"Municipal\", \"aplic_por_dia\": 1422.0}, {\"data\": \"2021-07-24\", \"fonte_dados\": \"Municipal\", \"aplic_por_dia\": 1314.0}, {\"data\": \"2021-07-25\", \"fonte_dados\": \"Municipal\", \"aplic_por_dia\": 0.0}, {\"data\": \"2021-07-26\", \"fonte_dados\": \"Municipal\", \"aplic_por_dia\": 1185.0}, {\"data\": \"2021-07-27\", \"fonte_dados\": \"Municipal\", \"aplic_por_dia\": 695.0}, {\"data\": \"2021-07-28\", \"fonte_dados\": \"Municipal\", \"aplic_por_dia\": 1395.0}, {\"data\": \"2021-07-29\", \"fonte_dados\": \"Municipal\", \"aplic_por_dia\": 1265.0}, {\"data\": \"2021-07-30\", \"fonte_dados\": \"Municipal\", \"aplic_por_dia\": 1079.0}, {\"data\": \"2021-07-31\", \"fonte_dados\": \"Municipal\", \"aplic_por_dia\": 830.0}, {\"data\": \"2021-08-01\", \"fonte_dados\": \"Municipal\", \"aplic_por_dia\": 200.0}, {\"data\": \"2021-08-02\", \"fonte_dados\": \"Municipal\", \"aplic_por_dia\": 443.0}, {\"data\": \"2021-08-03\", \"fonte_dados\": \"Municipal\", \"aplic_por_dia\": 804.0}, {\"data\": \"2021-08-04\", \"fonte_dados\": \"Municipal\", \"aplic_por_dia\": 690.0}, {\"data\": \"2021-08-05\", \"fonte_dados\": \"Municipal\", \"aplic_por_dia\": 781.0}, {\"data\": \"2021-08-06\", \"fonte_dados\": \"Municipal\", \"aplic_por_dia\": 596.0}, {\"data\": \"2021-08-07\", \"fonte_dados\": \"Municipal\", \"aplic_por_dia\": 610.0}, {\"data\": \"2021-08-08\", \"fonte_dados\": \"Municipal\", \"aplic_por_dia\": 677.0}, {\"data\": \"2021-08-09\", \"fonte_dados\": \"Municipal\", \"aplic_por_dia\": 1527.0}, {\"data\": \"2021-08-10\", \"fonte_dados\": \"Municipal\", \"aplic_por_dia\": 2480.0}, {\"data\": \"2021-08-11\", \"fonte_dados\": \"Municipal\", \"aplic_por_dia\": 1174.0}, {\"data\": \"2021-08-12\", \"fonte_dados\": \"Municipal\", \"aplic_por_dia\": 305.0}, {\"data\": \"2021-08-13\", \"fonte_dados\": \"Municipal\", \"aplic_por_dia\": 1333.0}, {\"data\": \"2021-08-14\", \"fonte_dados\": \"Municipal\", \"aplic_por_dia\": 1033.0}, {\"data\": \"2021-08-15\", \"fonte_dados\": \"Municipal\", \"aplic_por_dia\": 313.0}, {\"data\": \"2021-08-16\", \"fonte_dados\": \"Municipal\", \"aplic_por_dia\": 830.0}, {\"data\": \"2021-08-17\", \"fonte_dados\": \"Municipal\", \"aplic_por_dia\": 1703.0}, {\"data\": \"2021-08-18\", \"fonte_dados\": \"Municipal\", \"aplic_por_dia\": 1229.0}, {\"data\": \"2021-08-19\", \"fonte_dados\": \"Municipal\", \"aplic_por_dia\": 919.0}, {\"data\": \"2021-08-20\", \"fonte_dados\": \"Municipal\", \"aplic_por_dia\": 465.0}, {\"data\": \"2021-08-21\", \"fonte_dados\": \"Municipal\", \"aplic_por_dia\": 750.0}, {\"data\": \"2021-08-23\", \"fonte_dados\": \"Municipal\", \"aplic_por_dia\": 1429.0}, {\"data\": \"2021-08-24\", \"fonte_dados\": \"Municipal\", \"aplic_por_dia\": 1169.0}, {\"data\": \"2021-08-25\", \"fonte_dados\": \"Municipal\", \"aplic_por_dia\": 2255.0}, {\"data\": \"2021-08-26\", \"fonte_dados\": \"Municipal\", \"aplic_por_dia\": 657.0}, {\"data\": \"2021-08-27\", \"fonte_dados\": \"Municipal\", \"aplic_por_dia\": 1695.0}, {\"data\": \"2021-08-28\", \"fonte_dados\": \"Municipal\", \"aplic_por_dia\": 544.0}, {\"data\": \"2021-08-29\", \"fonte_dados\": \"Municipal\", \"aplic_por_dia\": 0.0}, {\"data\": \"2021-08-30\", \"fonte_dados\": \"Municipal\", \"aplic_por_dia\": 1910.0}, {\"data\": \"2021-08-31\", \"fonte_dados\": \"Municipal\", \"aplic_por_dia\": 1304.0}]}}, {\"mode\": \"vega-lite\"});\n",
       "</script>"
      ],
      "text/plain": [
       "alt.Chart(...)"
      ]
     },
     "execution_count": 542,
     "metadata": {},
     "output_type": "execute_result"
    }
   ],
   "source": [
    "alt.Chart(vacinados2DosePorDia).mark_line().encode(\n",
    "    alt.X('data:T', title='Data'),\n",
    "    alt.Y('aplic_por_dia:Q', title='Nº de Vacinados'),\n",
    "    alt.Color('fonte_dados:N', title='Base de Dados')\n",
    ").properties(\n",
    "    width=700,\n",
    "    title='Quantidade de vacinados com 2º Dose por Dia'\n",
    ")"
   ]
  },
  {
   "cell_type": "markdown",
   "metadata": {},
   "source": [
    "### Média Movel (7 dias) da Aplicação da 2º Dose"
   ]
  },
  {
   "cell_type": "code",
   "execution_count": 543,
   "metadata": {},
   "outputs": [
    {
     "data": {
      "text/html": [
       "\n",
       "<div id=\"altair-viz-d6402bba5874482bab0b3a351925e025\"></div>\n",
       "<script type=\"text/javascript\">\n",
       "  (function(spec, embedOpt){\n",
       "    let outputDiv = document.currentScript.previousElementSibling;\n",
       "    if (outputDiv.id !== \"altair-viz-d6402bba5874482bab0b3a351925e025\") {\n",
       "      outputDiv = document.getElementById(\"altair-viz-d6402bba5874482bab0b3a351925e025\");\n",
       "    }\n",
       "    const paths = {\n",
       "      \"vega\": \"https://cdn.jsdelivr.net/npm//vega@5?noext\",\n",
       "      \"vega-lib\": \"https://cdn.jsdelivr.net/npm//vega-lib?noext\",\n",
       "      \"vega-lite\": \"https://cdn.jsdelivr.net/npm//vega-lite@4.8.1?noext\",\n",
       "      \"vega-embed\": \"https://cdn.jsdelivr.net/npm//vega-embed@6?noext\",\n",
       "    };\n",
       "\n",
       "    function loadScript(lib) {\n",
       "      return new Promise(function(resolve, reject) {\n",
       "        var s = document.createElement('script');\n",
       "        s.src = paths[lib];\n",
       "        s.async = true;\n",
       "        s.onload = () => resolve(paths[lib]);\n",
       "        s.onerror = () => reject(`Error loading script: ${paths[lib]}`);\n",
       "        document.getElementsByTagName(\"head\")[0].appendChild(s);\n",
       "      });\n",
       "    }\n",
       "\n",
       "    function showError(err) {\n",
       "      outputDiv.innerHTML = `<div class=\"error\" style=\"color:red;\">${err}</div>`;\n",
       "      throw err;\n",
       "    }\n",
       "\n",
       "    function displayChart(vegaEmbed) {\n",
       "      vegaEmbed(outputDiv, spec, embedOpt)\n",
       "        .catch(err => showError(`Javascript Error: ${err.message}<br>This usually means there's a typo in your chart specification. See the javascript console for the full traceback.`));\n",
       "    }\n",
       "\n",
       "    if(typeof define === \"function\" && define.amd) {\n",
       "      requirejs.config({paths});\n",
       "      require([\"vega-embed\"], displayChart, err => showError(`Error loading script: ${err.message}`));\n",
       "    } else if (typeof vegaEmbed === \"function\") {\n",
       "      displayChart(vegaEmbed);\n",
       "    } else {\n",
       "      loadScript(\"vega\")\n",
       "        .then(() => loadScript(\"vega-lite\"))\n",
       "        .then(() => loadScript(\"vega-embed\"))\n",
       "        .catch(showError)\n",
       "        .then(() => displayChart(vegaEmbed));\n",
       "    }\n",
       "  })({\"config\": {\"view\": {\"continuousWidth\": 400, \"continuousHeight\": 300}}, \"data\": {\"name\": \"data-636c74a6f1071d57c98f38027dd6d071\"}, \"mark\": {\"type\": \"line\", \"point\": true}, \"encoding\": {\"color\": {\"type\": \"nominal\", \"field\": \"fonte_dados\", \"title\": \"Base dos Dados\"}, \"x\": {\"type\": \"temporal\", \"field\": \"data\", \"title\": \"Data\"}, \"y\": {\"type\": \"quantitative\", \"field\": \"aplic_por_dia\", \"title\": \"N\\u00ba de Vacinados\"}}, \"title\": \"M\\u00e9dia movel da quantidade de vacinados com 2\\u00ba Dose por Dia\", \"width\": 750, \"$schema\": \"https://vega.github.io/schema/vega-lite/v4.8.1.json\", \"datasets\": {\"data-636c74a6f1071d57c98f38027dd6d071\": [{\"data\": \"2021-06-01\", \"fonte_dados\": \"Federal\", \"aplic_por_dia\": null}, {\"data\": \"2021-06-02\", \"fonte_dados\": \"Federal\", \"aplic_por_dia\": null}, {\"data\": \"2021-06-03\", \"fonte_dados\": \"Federal\", \"aplic_por_dia\": null}, {\"data\": \"2021-06-04\", \"fonte_dados\": \"Federal\", \"aplic_por_dia\": null}, {\"data\": \"2021-06-05\", \"fonte_dados\": \"Federal\", \"aplic_por_dia\": null}, {\"data\": \"2021-06-06\", \"fonte_dados\": \"Federal\", \"aplic_por_dia\": null}, {\"data\": \"2021-06-07\", \"fonte_dados\": \"Federal\", \"aplic_por_dia\": 240.14285714285714}, {\"data\": \"2021-06-08\", \"fonte_dados\": \"Federal\", \"aplic_por_dia\": 243.85714285714286}, {\"data\": \"2021-06-09\", \"fonte_dados\": \"Federal\", \"aplic_por_dia\": 258.42857142857144}, {\"data\": \"2021-06-10\", \"fonte_dados\": \"Federal\", \"aplic_por_dia\": 245.28571428571428}, {\"data\": \"2021-06-11\", \"fonte_dados\": \"Federal\", \"aplic_por_dia\": 100.42857142857143}, {\"data\": \"2021-06-12\", \"fonte_dados\": \"Federal\", \"aplic_por_dia\": 104.42857142857143}, {\"data\": \"2021-06-13\", \"fonte_dados\": \"Federal\", \"aplic_por_dia\": 107.0}, {\"data\": \"2021-06-14\", \"fonte_dados\": \"Federal\", \"aplic_por_dia\": 100.42857142857143}, {\"data\": \"2021-06-15\", \"fonte_dados\": \"Federal\", \"aplic_por_dia\": 111.57142857142857}, {\"data\": \"2021-06-16\", \"fonte_dados\": \"Federal\", \"aplic_por_dia\": 100.14285714285714}, {\"data\": \"2021-06-17\", \"fonte_dados\": \"Federal\", \"aplic_por_dia\": 97.14285714285714}, {\"data\": \"2021-06-18\", \"fonte_dados\": \"Federal\", \"aplic_por_dia\": 90.85714285714286}, {\"data\": \"2021-06-19\", \"fonte_dados\": \"Federal\", \"aplic_por_dia\": 101.0}, {\"data\": \"2021-06-20\", \"fonte_dados\": \"Federal\", \"aplic_por_dia\": 106.85714285714286}, {\"data\": \"2021-06-21\", \"fonte_dados\": \"Federal\", \"aplic_por_dia\": 141.14285714285714}, {\"data\": \"2021-06-22\", \"fonte_dados\": \"Federal\", \"aplic_por_dia\": 134.71428571428572}, {\"data\": \"2021-06-23\", \"fonte_dados\": \"Federal\", \"aplic_por_dia\": 165.42857142857142}, {\"data\": \"2021-06-24\", \"fonte_dados\": \"Federal\", \"aplic_por_dia\": 204.28571428571428}, {\"data\": \"2021-06-25\", \"fonte_dados\": \"Federal\", \"aplic_por_dia\": 210.71428571428572}, {\"data\": \"2021-06-26\", \"fonte_dados\": \"Federal\", \"aplic_por_dia\": 362.85714285714283}, {\"data\": \"2021-06-27\", \"fonte_dados\": \"Federal\", \"aplic_por_dia\": 492.0}, {\"data\": \"2021-06-28\", \"fonte_dados\": \"Federal\", \"aplic_por_dia\": 576.4285714285714}, {\"data\": \"2021-06-29\", \"fonte_dados\": \"Federal\", \"aplic_por_dia\": 711.0}, {\"data\": \"2021-06-30\", \"fonte_dados\": \"Federal\", \"aplic_por_dia\": 700.8571428571429}, {\"data\": \"2021-07-01\", \"fonte_dados\": \"Federal\", \"aplic_por_dia\": 682.4285714285714}, {\"data\": \"2021-07-03\", \"fonte_dados\": \"Federal\", \"aplic_por_dia\": 659.1428571428571}, {\"data\": \"2021-07-04\", \"fonte_dados\": \"Federal\", \"aplic_por_dia\": 531.5714285714286}, {\"data\": \"2021-07-05\", \"fonte_dados\": \"Federal\", \"aplic_por_dia\": 470.14285714285717}, {\"data\": \"2021-07-06\", \"fonte_dados\": \"Federal\", \"aplic_por_dia\": 362.7142857142857}, {\"data\": \"2021-07-07\", \"fonte_dados\": \"Federal\", \"aplic_por_dia\": 385.0}, {\"data\": \"2021-07-08\", \"fonte_dados\": \"Federal\", \"aplic_por_dia\": 423.7142857142857}, {\"data\": \"2021-07-09\", \"fonte_dados\": \"Federal\", \"aplic_por_dia\": 358.57142857142856}, {\"data\": \"2021-07-10\", \"fonte_dados\": \"Federal\", \"aplic_por_dia\": 316.57142857142856}, {\"data\": \"2021-07-11\", \"fonte_dados\": \"Federal\", \"aplic_por_dia\": 331.85714285714283}, {\"data\": \"2021-07-12\", \"fonte_dados\": \"Federal\", \"aplic_por_dia\": 524.0}, {\"data\": \"2021-07-13\", \"fonte_dados\": \"Federal\", \"aplic_por_dia\": 570.8571428571429}, {\"data\": \"2021-07-14\", \"fonte_dados\": \"Federal\", \"aplic_por_dia\": 588.4285714285714}, {\"data\": \"2021-07-15\", \"fonte_dados\": \"Federal\", \"aplic_por_dia\": 595.1428571428571}, {\"data\": \"2021-07-16\", \"fonte_dados\": \"Federal\", \"aplic_por_dia\": 628.7142857142857}, {\"data\": \"2021-07-17\", \"fonte_dados\": \"Federal\", \"aplic_por_dia\": 728.0}, {\"data\": \"2021-07-18\", \"fonte_dados\": \"Federal\", \"aplic_por_dia\": 756.7142857142857}, {\"data\": \"2021-07-19\", \"fonte_dados\": \"Federal\", \"aplic_por_dia\": 749.5714285714286}, {\"data\": \"2021-07-20\", \"fonte_dados\": \"Federal\", \"aplic_por_dia\": 806.4285714285714}, {\"data\": \"2021-07-21\", \"fonte_dados\": \"Federal\", \"aplic_por_dia\": 770.5714285714286}, {\"data\": \"2021-07-22\", \"fonte_dados\": \"Federal\", \"aplic_por_dia\": 767.7142857142857}, {\"data\": \"2021-07-23\", \"fonte_dados\": \"Federal\", \"aplic_por_dia\": 886.2857142857143}, {\"data\": \"2021-07-24\", \"fonte_dados\": \"Federal\", \"aplic_por_dia\": 948.7142857142857}, {\"data\": \"2021-07-25\", \"fonte_dados\": \"Federal\", \"aplic_por_dia\": 892.0}, {\"data\": \"2021-07-26\", \"fonte_dados\": \"Federal\", \"aplic_por_dia\": 859.4285714285714}, {\"data\": \"2021-07-27\", \"fonte_dados\": \"Federal\", \"aplic_por_dia\": 915.0}, {\"data\": \"2021-07-28\", \"fonte_dados\": \"Federal\", \"aplic_por_dia\": 951.1428571428571}, {\"data\": \"2021-07-29\", \"fonte_dados\": \"Federal\", \"aplic_por_dia\": 984.7142857142857}, {\"data\": \"2021-07-30\", \"fonte_dados\": \"Federal\", \"aplic_por_dia\": 958.1428571428571}, {\"data\": \"2021-07-31\", \"fonte_dados\": \"Federal\", \"aplic_por_dia\": 884.0}, {\"data\": \"2021-08-01\", \"fonte_dados\": \"Federal\", \"aplic_por_dia\": 913.0}, {\"data\": \"2021-08-02\", \"fonte_dados\": \"Federal\", \"aplic_por_dia\": 782.8571428571429}, {\"data\": \"2021-08-03\", \"fonte_dados\": \"Federal\", \"aplic_por_dia\": 646.0}, {\"data\": \"2021-08-04\", \"fonte_dados\": \"Federal\", \"aplic_por_dia\": 640.2857142857143}, {\"data\": \"2021-08-05\", \"fonte_dados\": \"Federal\", \"aplic_por_dia\": 613.2857142857143}, {\"data\": \"2021-08-06\", \"fonte_dados\": \"Federal\", \"aplic_por_dia\": 604.5714285714286}, {\"data\": \"2021-08-07\", \"fonte_dados\": \"Federal\", \"aplic_por_dia\": 584.2857142857143}, {\"data\": \"2021-08-08\", \"fonte_dados\": \"Federal\", \"aplic_por_dia\": 652.2857142857143}, {\"data\": \"2021-08-09\", \"fonte_dados\": \"Federal\", \"aplic_por_dia\": 705.1428571428571}, {\"data\": \"2021-08-10\", \"fonte_dados\": \"Federal\", \"aplic_por_dia\": 905.2857142857143}, {\"data\": \"2021-08-11\", \"fonte_dados\": \"Federal\", \"aplic_por_dia\": 938.2857142857143}, {\"data\": \"2021-08-12\", \"fonte_dados\": \"Federal\", \"aplic_por_dia\": 934.5714285714286}, {\"data\": \"2021-08-13\", \"fonte_dados\": \"Federal\", \"aplic_por_dia\": 958.4285714285714}, {\"data\": \"2021-08-14\", \"fonte_dados\": \"Federal\", \"aplic_por_dia\": 1027.2857142857142}, {\"data\": \"2021-08-15\", \"fonte_dados\": \"Federal\", \"aplic_por_dia\": 980.2857142857143}, {\"data\": \"2021-08-16\", \"fonte_dados\": \"Federal\", \"aplic_por_dia\": 1011.7142857142857}, {\"data\": \"2021-08-17\", \"fonte_dados\": \"Federal\", \"aplic_por_dia\": 924.4285714285714}, {\"data\": \"2021-08-18\", \"fonte_dados\": \"Federal\", \"aplic_por_dia\": 1188.0}, {\"data\": \"2021-08-19\", \"fonte_dados\": \"Federal\", \"aplic_por_dia\": 1272.4285714285713}, {\"data\": \"2021-08-20\", \"fonte_dados\": \"Federal\", \"aplic_por_dia\": 1240.142857142857}, {\"data\": \"2021-08-21\", \"fonte_dados\": \"Federal\", \"aplic_por_dia\": 1182.7142857142858}, {\"data\": \"2021-08-23\", \"fonte_dados\": \"Federal\", \"aplic_por_dia\": 1435.0}, {\"data\": \"2021-08-24\", \"fonte_dados\": \"Federal\", \"aplic_por_dia\": 1531.4285714285713}, {\"data\": \"2021-08-25\", \"fonte_dados\": \"Federal\", \"aplic_por_dia\": 1663.0}, {\"data\": \"2021-08-26\", \"fonte_dados\": \"Federal\", \"aplic_por_dia\": 1521.2857142857142}, {\"data\": \"2021-08-27\", \"fonte_dados\": \"Federal\", \"aplic_por_dia\": 1444.0}, {\"data\": \"2021-08-28\", \"fonte_dados\": \"Federal\", \"aplic_por_dia\": 1381.7142857142858}, {\"data\": \"2021-08-29\", \"fonte_dados\": \"Federal\", \"aplic_por_dia\": 1277.2857142857142}, {\"data\": \"2021-08-30\", \"fonte_dados\": \"Federal\", \"aplic_por_dia\": 1134.0}, {\"data\": \"2021-08-31\", \"fonte_dados\": \"Federal\", \"aplic_por_dia\": 996.2857142857143}, {\"data\": \"2021-06-01\", \"fonte_dados\": \"Municipal\", \"aplic_por_dia\": null}, {\"data\": \"2021-06-02\", \"fonte_dados\": \"Municipal\", \"aplic_por_dia\": null}, {\"data\": \"2021-06-03\", \"fonte_dados\": \"Municipal\", \"aplic_por_dia\": null}, {\"data\": \"2021-06-04\", \"fonte_dados\": \"Municipal\", \"aplic_por_dia\": null}, {\"data\": \"2021-06-05\", \"fonte_dados\": \"Municipal\", \"aplic_por_dia\": null}, {\"data\": \"2021-06-06\", \"fonte_dados\": \"Municipal\", \"aplic_por_dia\": null}, {\"data\": \"2021-06-07\", \"fonte_dados\": \"Municipal\", \"aplic_por_dia\": 173.42857142857142}, {\"data\": \"2021-06-08\", \"fonte_dados\": \"Municipal\", \"aplic_por_dia\": 173.14285714285714}, {\"data\": \"2021-06-09\", \"fonte_dados\": \"Municipal\", \"aplic_por_dia\": 173.14285714285714}, {\"data\": \"2021-06-10\", \"fonte_dados\": \"Municipal\", \"aplic_por_dia\": 158.57142857142858}, {\"data\": \"2021-06-11\", \"fonte_dados\": \"Municipal\", \"aplic_por_dia\": 0.0}, {\"data\": \"2021-06-12\", \"fonte_dados\": \"Municipal\", \"aplic_por_dia\": 0.0}, {\"data\": \"2021-06-13\", \"fonte_dados\": \"Municipal\", \"aplic_por_dia\": 0.0}, {\"data\": \"2021-06-14\", \"fonte_dados\": \"Municipal\", \"aplic_por_dia\": 46.0}, {\"data\": \"2021-06-15\", \"fonte_dados\": \"Municipal\", \"aplic_por_dia\": 46.0}, {\"data\": \"2021-06-16\", \"fonte_dados\": \"Municipal\", \"aplic_por_dia\": 46.0}, {\"data\": \"2021-06-17\", \"fonte_dados\": \"Municipal\", \"aplic_por_dia\": 46.0}, {\"data\": \"2021-06-18\", \"fonte_dados\": \"Municipal\", \"aplic_por_dia\": 46.0}, {\"data\": \"2021-06-19\", \"fonte_dados\": \"Municipal\", \"aplic_por_dia\": 48.714285714285715}, {\"data\": \"2021-06-20\", \"fonte_dados\": \"Municipal\", \"aplic_por_dia\": 50.857142857142854}, {\"data\": \"2021-06-21\", \"fonte_dados\": \"Municipal\", \"aplic_por_dia\": 9.0}, {\"data\": \"2021-06-22\", \"fonte_dados\": \"Municipal\", \"aplic_por_dia\": 10.0}, {\"data\": \"2021-06-23\", \"fonte_dados\": \"Municipal\", \"aplic_por_dia\": 10.0}, {\"data\": \"2021-06-24\", \"fonte_dados\": \"Municipal\", \"aplic_por_dia\": 89.28571428571429}, {\"data\": \"2021-06-25\", \"fonte_dados\": \"Municipal\", \"aplic_por_dia\": 291.14285714285717}, {\"data\": \"2021-06-26\", \"fonte_dados\": \"Municipal\", \"aplic_por_dia\": 399.14285714285717}, {\"data\": \"2021-06-27\", \"fonte_dados\": \"Municipal\", \"aplic_por_dia\": 411.42857142857144}, {\"data\": \"2021-06-28\", \"fonte_dados\": \"Municipal\", \"aplic_por_dia\": 530.8571428571429}, {\"data\": \"2021-06-29\", \"fonte_dados\": \"Municipal\", \"aplic_por_dia\": 529.8571428571429}, {\"data\": \"2021-06-30\", \"fonte_dados\": \"Municipal\", \"aplic_por_dia\": 749.4285714285714}, {\"data\": \"2021-07-01\", \"fonte_dados\": \"Municipal\", \"aplic_por_dia\": 695.8571428571429}, {\"data\": \"2021-07-03\", \"fonte_dados\": \"Municipal\", \"aplic_por_dia\": 645.4285714285714}, {\"data\": \"2021-07-04\", \"fonte_dados\": \"Municipal\", \"aplic_por_dia\": 781.5714285714286}, {\"data\": \"2021-07-05\", \"fonte_dados\": \"Municipal\", \"aplic_por_dia\": 935.8571428571429}, {\"data\": \"2021-07-06\", \"fonte_dados\": \"Municipal\", \"aplic_por_dia\": 854.0}, {\"data\": \"2021-07-07\", \"fonte_dados\": \"Municipal\", \"aplic_por_dia\": 854.0}, {\"data\": \"2021-07-08\", \"fonte_dados\": \"Municipal\", \"aplic_por_dia\": 723.4285714285714}, {\"data\": \"2021-07-09\", \"fonte_dados\": \"Municipal\", \"aplic_por_dia\": 716.1428571428571}, {\"data\": \"2021-07-10\", \"fonte_dados\": \"Municipal\", \"aplic_por_dia\": 588.4285714285714}, {\"data\": \"2021-07-11\", \"fonte_dados\": \"Municipal\", \"aplic_por_dia\": 367.2857142857143}, {\"data\": \"2021-07-12\", \"fonte_dados\": \"Municipal\", \"aplic_por_dia\": 212.57142857142858}, {\"data\": \"2021-07-13\", \"fonte_dados\": \"Municipal\", \"aplic_por_dia\": 170.85714285714286}, {\"data\": \"2021-07-14\", \"fonte_dados\": \"Municipal\", \"aplic_por_dia\": 307.42857142857144}, {\"data\": \"2021-07-15\", \"fonte_dados\": \"Municipal\", \"aplic_por_dia\": 277.2857142857143}, {\"data\": \"2021-07-16\", \"fonte_dados\": \"Municipal\", \"aplic_por_dia\": 312.0}, {\"data\": \"2021-07-17\", \"fonte_dados\": \"Municipal\", \"aplic_por_dia\": 724.1428571428571}, {\"data\": \"2021-07-18\", \"fonte_dados\": \"Municipal\", \"aplic_por_dia\": 808.0}, {\"data\": \"2021-07-19\", \"fonte_dados\": \"Municipal\", \"aplic_por_dia\": 1044.7142857142858}, {\"data\": \"2021-07-20\", \"fonte_dados\": \"Municipal\", \"aplic_por_dia\": 1156.857142857143}, {\"data\": \"2021-07-21\", \"fonte_dados\": \"Municipal\", \"aplic_por_dia\": 1056.7142857142858}, {\"data\": \"2021-07-22\", \"fonte_dados\": \"Municipal\", \"aplic_por_dia\": 1060.4285714285713}, {\"data\": \"2021-07-23\", \"fonte_dados\": \"Municipal\", \"aplic_por_dia\": 1210.4285714285713}, {\"data\": \"2021-07-24\", \"fonte_dados\": \"Municipal\", \"aplic_por_dia\": 962.2857142857143}, {\"data\": \"2021-07-25\", \"fonte_dados\": \"Municipal\", \"aplic_por_dia\": 852.7142857142857}, {\"data\": \"2021-07-26\", \"fonte_dados\": \"Municipal\", \"aplic_por_dia\": 771.2857142857143}, {\"data\": \"2021-07-27\", \"fonte_dados\": \"Municipal\", \"aplic_por_dia\": 758.4285714285714}, {\"data\": \"2021-07-28\", \"fonte_dados\": \"Municipal\", \"aplic_por_dia\": 921.2857142857143}, {\"data\": \"2021-07-29\", \"fonte_dados\": \"Municipal\", \"aplic_por_dia\": 1039.4285714285713}, {\"data\": \"2021-07-30\", \"fonte_dados\": \"Municipal\", \"aplic_por_dia\": 990.4285714285714}, {\"data\": \"2021-07-31\", \"fonte_dados\": \"Municipal\", \"aplic_por_dia\": 921.2857142857143}, {\"data\": \"2021-08-01\", \"fonte_dados\": \"Municipal\", \"aplic_por_dia\": 949.8571428571429}, {\"data\": \"2021-08-02\", \"fonte_dados\": \"Municipal\", \"aplic_por_dia\": 843.8571428571429}, {\"data\": \"2021-08-03\", \"fonte_dados\": \"Municipal\", \"aplic_por_dia\": 859.4285714285714}, {\"data\": \"2021-08-04\", \"fonte_dados\": \"Municipal\", \"aplic_por_dia\": 758.7142857142857}, {\"data\": \"2021-08-05\", \"fonte_dados\": \"Municipal\", \"aplic_por_dia\": 689.5714285714286}, {\"data\": \"2021-08-06\", \"fonte_dados\": \"Municipal\", \"aplic_por_dia\": 620.5714285714286}, {\"data\": \"2021-08-07\", \"fonte_dados\": \"Municipal\", \"aplic_por_dia\": 589.1428571428571}, {\"data\": \"2021-08-08\", \"fonte_dados\": \"Municipal\", \"aplic_por_dia\": 657.2857142857143}, {\"data\": \"2021-08-09\", \"fonte_dados\": \"Municipal\", \"aplic_por_dia\": 812.1428571428571}, {\"data\": \"2021-08-10\", \"fonte_dados\": \"Municipal\", \"aplic_por_dia\": 1051.5714285714287}, {\"data\": \"2021-08-11\", \"fonte_dados\": \"Municipal\", \"aplic_por_dia\": 1120.7142857142858}, {\"data\": \"2021-08-12\", \"fonte_dados\": \"Municipal\", \"aplic_por_dia\": 1052.7142857142858}, {\"data\": \"2021-08-13\", \"fonte_dados\": \"Municipal\", \"aplic_por_dia\": 1158.0}, {\"data\": \"2021-08-14\", \"fonte_dados\": \"Municipal\", \"aplic_por_dia\": 1218.4285714285713}, {\"data\": \"2021-08-15\", \"fonte_dados\": \"Municipal\", \"aplic_por_dia\": 1166.4285714285713}, {\"data\": \"2021-08-16\", \"fonte_dados\": \"Municipal\", \"aplic_por_dia\": 1066.857142857143}, {\"data\": \"2021-08-17\", \"fonte_dados\": \"Municipal\", \"aplic_por_dia\": 955.8571428571429}, {\"data\": \"2021-08-18\", \"fonte_dados\": \"Municipal\", \"aplic_por_dia\": 963.7142857142857}, {\"data\": \"2021-08-19\", \"fonte_dados\": \"Municipal\", \"aplic_por_dia\": 1051.4285714285713}, {\"data\": \"2021-08-20\", \"fonte_dados\": \"Municipal\", \"aplic_por_dia\": 927.4285714285714}, {\"data\": \"2021-08-21\", \"fonte_dados\": \"Municipal\", \"aplic_por_dia\": 887.0}, {\"data\": \"2021-08-23\", \"fonte_dados\": \"Municipal\", \"aplic_por_dia\": 927.8571428571429}, {\"data\": \"2021-08-24\", \"fonte_dados\": \"Municipal\", \"aplic_por_dia\": 851.5714285714286}, {\"data\": \"2021-08-25\", \"fonte_dados\": \"Municipal\", \"aplic_por_dia\": 998.1428571428571}, {\"data\": \"2021-08-26\", \"fonte_dados\": \"Municipal\", \"aplic_por_dia\": 960.7142857142857}, {\"data\": \"2021-08-27\", \"fonte_dados\": \"Municipal\", \"aplic_por_dia\": 1136.4285714285713}, {\"data\": \"2021-08-28\", \"fonte_dados\": \"Municipal\", \"aplic_por_dia\": 1107.0}, {\"data\": \"2021-08-29\", \"fonte_dados\": \"Municipal\", \"aplic_por_dia\": 1107.0}, {\"data\": \"2021-08-30\", \"fonte_dados\": \"Municipal\", \"aplic_por_dia\": 1175.7142857142858}, {\"data\": \"2021-08-31\", \"fonte_dados\": \"Municipal\", \"aplic_por_dia\": 1195.0}]}}, {\"mode\": \"vega-lite\"});\n",
       "</script>"
      ],
      "text/plain": [
       "alt.Chart(...)"
      ]
     },
     "execution_count": 543,
     "metadata": {},
     "output_type": "execute_result"
    }
   ],
   "source": [
    "alt.Chart(vacinados2DosePorDiaMedMovel).mark_line(point=True).encode(\n",
    "    alt.X('data:T', title='Data'),\n",
    "    alt.Y('aplic_por_dia:Q', title='Nº de Vacinados'),\n",
    "    alt.Color('fonte_dados:N', title='Base dos Dados')\n",
    ").properties(\n",
    "    width=750,\n",
    "    title='Média movel da quantidade de vacinados com 2º Dose por Dia'\n",
    ")"
   ]
  },
  {
   "cell_type": "markdown",
   "metadata": {},
   "source": [
    "### Total Aplicações da 2º Dose"
   ]
  },
  {
   "cell_type": "code",
   "execution_count": 544,
   "metadata": {},
   "outputs": [],
   "source": [
    "df_total2Dose = df_2DosePorDia['aplic_2DosePorDia'].sum()\n",
    "dm_total2Dose = dm_2DosePorDia['aplic_2DosePorDia'].sum()"
   ]
  },
  {
   "cell_type": "code",
   "execution_count": 545,
   "metadata": {},
   "outputs": [],
   "source": [
    "total2Dose = pd.DataFrame({\n",
    "    'base': ['Federal', 'Municipal'],\n",
    "    'total': [df_total2Dose, dm_total2Dose]\n",
    "})"
   ]
  },
  {
   "cell_type": "code",
   "execution_count": 546,
   "metadata": {},
   "outputs": [
    {
     "data": {
      "text/html": [
       "\n",
       "<div id=\"altair-viz-a0899f8bf7ac4d29a0531cd8bf18ec47\"></div>\n",
       "<script type=\"text/javascript\">\n",
       "  (function(spec, embedOpt){\n",
       "    let outputDiv = document.currentScript.previousElementSibling;\n",
       "    if (outputDiv.id !== \"altair-viz-a0899f8bf7ac4d29a0531cd8bf18ec47\") {\n",
       "      outputDiv = document.getElementById(\"altair-viz-a0899f8bf7ac4d29a0531cd8bf18ec47\");\n",
       "    }\n",
       "    const paths = {\n",
       "      \"vega\": \"https://cdn.jsdelivr.net/npm//vega@5?noext\",\n",
       "      \"vega-lib\": \"https://cdn.jsdelivr.net/npm//vega-lib?noext\",\n",
       "      \"vega-lite\": \"https://cdn.jsdelivr.net/npm//vega-lite@4.8.1?noext\",\n",
       "      \"vega-embed\": \"https://cdn.jsdelivr.net/npm//vega-embed@6?noext\",\n",
       "    };\n",
       "\n",
       "    function loadScript(lib) {\n",
       "      return new Promise(function(resolve, reject) {\n",
       "        var s = document.createElement('script');\n",
       "        s.src = paths[lib];\n",
       "        s.async = true;\n",
       "        s.onload = () => resolve(paths[lib]);\n",
       "        s.onerror = () => reject(`Error loading script: ${paths[lib]}`);\n",
       "        document.getElementsByTagName(\"head\")[0].appendChild(s);\n",
       "      });\n",
       "    }\n",
       "\n",
       "    function showError(err) {\n",
       "      outputDiv.innerHTML = `<div class=\"error\" style=\"color:red;\">${err}</div>`;\n",
       "      throw err;\n",
       "    }\n",
       "\n",
       "    function displayChart(vegaEmbed) {\n",
       "      vegaEmbed(outputDiv, spec, embedOpt)\n",
       "        .catch(err => showError(`Javascript Error: ${err.message}<br>This usually means there's a typo in your chart specification. See the javascript console for the full traceback.`));\n",
       "    }\n",
       "\n",
       "    if(typeof define === \"function\" && define.amd) {\n",
       "      requirejs.config({paths});\n",
       "      require([\"vega-embed\"], displayChart, err => showError(`Error loading script: ${err.message}`));\n",
       "    } else if (typeof vegaEmbed === \"function\") {\n",
       "      displayChart(vegaEmbed);\n",
       "    } else {\n",
       "      loadScript(\"vega\")\n",
       "        .then(() => loadScript(\"vega-lite\"))\n",
       "        .then(() => loadScript(\"vega-embed\"))\n",
       "        .catch(showError)\n",
       "        .then(() => displayChart(vegaEmbed));\n",
       "    }\n",
       "  })({\"config\": {\"view\": {\"continuousWidth\": 400, \"continuousHeight\": 300}}, \"data\": {\"name\": \"data-8390bb1e57eae42cf8081285058c41e6\"}, \"mark\": {\"type\": \"bar\", \"size\": 30}, \"encoding\": {\"color\": {\"type\": \"nominal\", \"field\": \"base\", \"title\": \"Base de Dados\"}, \"x\": {\"type\": \"nominal\", \"field\": \"base\", \"title\": \"Base dos Dados\"}, \"y\": {\"type\": \"quantitative\", \"field\": \"total\", \"title\": \"N\\u00ba Total de Vacinados\"}}, \"title\": \"Total de aplica\\u00e7\\u00f5es da Segunda Dose\", \"width\": 150, \"$schema\": \"https://vega.github.io/schema/vega-lite/v4.8.1.json\", \"datasets\": {\"data-8390bb1e57eae42cf8081285058c41e6\": [{\"base\": \"Federal\", \"total\": 60193.0}, {\"base\": \"Municipal\", \"total\": 60290.0}]}}, {\"mode\": \"vega-lite\"});\n",
       "</script>"
      ],
      "text/plain": [
       "alt.Chart(...)"
      ]
     },
     "execution_count": 546,
     "metadata": {},
     "output_type": "execute_result"
    }
   ],
   "source": [
    "alt.Chart(total2Dose).mark_bar(size=30).encode(\n",
    "    alt.X('base:N', title='Base dos Dados'),\n",
    "    alt.Y('total:Q', title='Nº Total de Vacinados'),\n",
    "    alt.Color('base:N', title='Base de Dados')\n",
    ").properties(\n",
    "    width=150,\n",
    "    title='Total de aplicações da Segunda Dose'\n",
    ")"
   ]
  },
  {
   "cell_type": "markdown",
   "metadata": {},
   "source": [
    "### Aplicações da Dose Única por Dia"
   ]
  },
  {
   "cell_type": "code",
   "execution_count": 547,
   "metadata": {},
   "outputs": [
    {
     "data": {
      "text/html": [
       "\n",
       "<div id=\"altair-viz-b1794557984444e18d1ea8ef8a034bd3\"></div>\n",
       "<script type=\"text/javascript\">\n",
       "  (function(spec, embedOpt){\n",
       "    let outputDiv = document.currentScript.previousElementSibling;\n",
       "    if (outputDiv.id !== \"altair-viz-b1794557984444e18d1ea8ef8a034bd3\") {\n",
       "      outputDiv = document.getElementById(\"altair-viz-b1794557984444e18d1ea8ef8a034bd3\");\n",
       "    }\n",
       "    const paths = {\n",
       "      \"vega\": \"https://cdn.jsdelivr.net/npm//vega@5?noext\",\n",
       "      \"vega-lib\": \"https://cdn.jsdelivr.net/npm//vega-lib?noext\",\n",
       "      \"vega-lite\": \"https://cdn.jsdelivr.net/npm//vega-lite@4.8.1?noext\",\n",
       "      \"vega-embed\": \"https://cdn.jsdelivr.net/npm//vega-embed@6?noext\",\n",
       "    };\n",
       "\n",
       "    function loadScript(lib) {\n",
       "      return new Promise(function(resolve, reject) {\n",
       "        var s = document.createElement('script');\n",
       "        s.src = paths[lib];\n",
       "        s.async = true;\n",
       "        s.onload = () => resolve(paths[lib]);\n",
       "        s.onerror = () => reject(`Error loading script: ${paths[lib]}`);\n",
       "        document.getElementsByTagName(\"head\")[0].appendChild(s);\n",
       "      });\n",
       "    }\n",
       "\n",
       "    function showError(err) {\n",
       "      outputDiv.innerHTML = `<div class=\"error\" style=\"color:red;\">${err}</div>`;\n",
       "      throw err;\n",
       "    }\n",
       "\n",
       "    function displayChart(vegaEmbed) {\n",
       "      vegaEmbed(outputDiv, spec, embedOpt)\n",
       "        .catch(err => showError(`Javascript Error: ${err.message}<br>This usually means there's a typo in your chart specification. See the javascript console for the full traceback.`));\n",
       "    }\n",
       "\n",
       "    if(typeof define === \"function\" && define.amd) {\n",
       "      requirejs.config({paths});\n",
       "      require([\"vega-embed\"], displayChart, err => showError(`Error loading script: ${err.message}`));\n",
       "    } else if (typeof vegaEmbed === \"function\") {\n",
       "      displayChart(vegaEmbed);\n",
       "    } else {\n",
       "      loadScript(\"vega\")\n",
       "        .then(() => loadScript(\"vega-lite\"))\n",
       "        .then(() => loadScript(\"vega-embed\"))\n",
       "        .catch(showError)\n",
       "        .then(() => displayChart(vegaEmbed));\n",
       "    }\n",
       "  })({\"config\": {\"view\": {\"continuousWidth\": 400, \"continuousHeight\": 300}}, \"data\": {\"name\": \"data-646d0893c63700d687cf7aecb3d36881\"}, \"mark\": \"line\", \"encoding\": {\"color\": {\"type\": \"nominal\", \"field\": \"fonte_dados\", \"title\": \"Base de Dados\"}, \"x\": {\"type\": \"temporal\", \"field\": \"data\", \"title\": \"Data\"}, \"y\": {\"type\": \"quantitative\", \"field\": \"aplic_por_dia\", \"title\": \"N\\u00ba de Vacinados\"}}, \"title\": \"Quantidade de vacinados com Dose \\u00danica por Dia\", \"width\": 600, \"$schema\": \"https://vega.github.io/schema/vega-lite/v4.8.1.json\", \"datasets\": {\"data-646d0893c63700d687cf7aecb3d36881\": [{\"data\": \"2021-06-25\", \"fonte_dados\": \"Federal\", \"aplic_por_dia\": 1333.0}, {\"data\": \"2021-06-26\", \"fonte_dados\": \"Federal\", \"aplic_por_dia\": 594.0}, {\"data\": \"2021-06-27\", \"fonte_dados\": \"Federal\", \"aplic_por_dia\": 225.0}, {\"data\": \"2021-06-28\", \"fonte_dados\": \"Federal\", \"aplic_por_dia\": 378.0}, {\"data\": \"2021-06-29\", \"fonte_dados\": \"Federal\", \"aplic_por_dia\": 10.0}, {\"data\": \"2021-06-30\", \"fonte_dados\": \"Federal\", \"aplic_por_dia\": 6.0}, {\"data\": \"2021-07-01\", \"fonte_dados\": \"Federal\", \"aplic_por_dia\": 23.0}, {\"data\": \"2021-07-04\", \"fonte_dados\": \"Federal\", \"aplic_por_dia\": 1262.0}, {\"data\": \"2021-07-05\", \"fonte_dados\": \"Federal\", \"aplic_por_dia\": 2217.0}, {\"data\": \"2021-07-06\", \"fonte_dados\": \"Federal\", \"aplic_por_dia\": 3.0}, {\"data\": \"2021-07-07\", \"fonte_dados\": \"Federal\", \"aplic_por_dia\": 5.0}, {\"data\": \"2021-07-09\", \"fonte_dados\": \"Federal\", \"aplic_por_dia\": 85.0}, {\"data\": \"2021-07-12\", \"fonte_dados\": \"Federal\", \"aplic_por_dia\": 20.0}, {\"data\": \"2021-07-13\", \"fonte_dados\": \"Federal\", \"aplic_por_dia\": 11.0}, {\"data\": \"2021-07-18\", \"fonte_dados\": \"Federal\", \"aplic_por_dia\": 1.0}, {\"data\": \"2021-08-07\", \"fonte_dados\": \"Federal\", \"aplic_por_dia\": 93.0}, {\"data\": \"2021-08-10\", \"fonte_dados\": \"Federal\", \"aplic_por_dia\": 3.0}, {\"data\": \"2021-08-11\", \"fonte_dados\": \"Federal\", \"aplic_por_dia\": 1.0}, {\"data\": \"2021-08-18\", \"fonte_dados\": \"Federal\", \"aplic_por_dia\": 1.0}, {\"data\": \"2021-08-19\", \"fonte_dados\": \"Federal\", \"aplic_por_dia\": 5.0}, {\"data\": \"2021-08-24\", \"fonte_dados\": \"Federal\", \"aplic_por_dia\": 1.0}, {\"data\": \"2021-08-26\", \"fonte_dados\": \"Federal\", \"aplic_por_dia\": 4.0}, {\"data\": \"2021-08-30\", \"fonte_dados\": \"Federal\", \"aplic_por_dia\": 4.0}, {\"data\": \"2021-06-25\", \"fonte_dados\": \"Municipal\", \"aplic_por_dia\": null}, {\"data\": \"2021-06-26\", \"fonte_dados\": \"Municipal\", \"aplic_por_dia\": null}, {\"data\": \"2021-06-27\", \"fonte_dados\": \"Municipal\", \"aplic_por_dia\": null}, {\"data\": \"2021-06-28\", \"fonte_dados\": \"Municipal\", \"aplic_por_dia\": null}, {\"data\": \"2021-06-29\", \"fonte_dados\": \"Municipal\", \"aplic_por_dia\": 76.0}, {\"data\": \"2021-06-30\", \"fonte_dados\": \"Municipal\", \"aplic_por_dia\": 2629.0}, {\"data\": \"2021-07-01\", \"fonte_dados\": \"Municipal\", \"aplic_por_dia\": 0.0}, {\"data\": \"2021-07-04\", \"fonte_dados\": \"Municipal\", \"aplic_por_dia\": 1360.0}, {\"data\": \"2021-07-05\", \"fonte_dados\": \"Municipal\", \"aplic_por_dia\": 2175.0}, {\"data\": \"2021-07-06\", \"fonte_dados\": \"Municipal\", \"aplic_por_dia\": 5.0}, {\"data\": \"2021-07-07\", \"fonte_dados\": \"Municipal\", \"aplic_por_dia\": 0.0}, {\"data\": \"2021-07-09\", \"fonte_dados\": \"Municipal\", \"aplic_por_dia\": 0.0}, {\"data\": \"2021-07-12\", \"fonte_dados\": \"Municipal\", \"aplic_por_dia\": 0.0}, {\"data\": \"2021-07-13\", \"fonte_dados\": \"Municipal\", \"aplic_por_dia\": 0.0}, {\"data\": \"2021-07-18\", \"fonte_dados\": \"Municipal\", \"aplic_por_dia\": 0.0}, {\"data\": \"2021-08-07\", \"fonte_dados\": \"Municipal\", \"aplic_por_dia\": 0.0}, {\"data\": \"2021-08-10\", \"fonte_dados\": \"Municipal\", \"aplic_por_dia\": 0.0}, {\"data\": \"2021-08-11\", \"fonte_dados\": \"Municipal\", \"aplic_por_dia\": 0.0}, {\"data\": \"2021-08-18\", \"fonte_dados\": \"Municipal\", \"aplic_por_dia\": 0.0}, {\"data\": \"2021-08-19\", \"fonte_dados\": \"Municipal\", \"aplic_por_dia\": 0.0}, {\"data\": \"2021-08-24\", \"fonte_dados\": \"Municipal\", \"aplic_por_dia\": 0.0}, {\"data\": \"2021-08-26\", \"fonte_dados\": \"Municipal\", \"aplic_por_dia\": 0.0}, {\"data\": \"2021-08-30\", \"fonte_dados\": \"Municipal\", \"aplic_por_dia\": 0.0}]}}, {\"mode\": \"vega-lite\"});\n",
       "</script>"
      ],
      "text/plain": [
       "alt.Chart(...)"
      ]
     },
     "execution_count": 547,
     "metadata": {},
     "output_type": "execute_result"
    }
   ],
   "source": [
    "alt.Chart(vacinadosDoseUnicaPorDia).mark_line().encode(\n",
    "    alt.X('data:T', title='Data'),\n",
    "    alt.Y('aplic_por_dia:Q', title='Nº de Vacinados'),\n",
    "    alt.Color('fonte_dados:N', title='Base de Dados')\n",
    ").properties(\n",
    "    width=600,\n",
    "    title='Quantidade de vacinados com Dose Única por Dia'\n",
    ")"
   ]
  },
  {
   "cell_type": "markdown",
   "metadata": {},
   "source": [
    "### Média Movel (7 dias) da Aplicação da Dose Única"
   ]
  },
  {
   "cell_type": "code",
   "execution_count": 554,
   "metadata": {},
   "outputs": [
    {
     "data": {
      "text/html": [
       "\n",
       "<div id=\"altair-viz-55ab21d6caac4482831840b3869a8e6c\"></div>\n",
       "<script type=\"text/javascript\">\n",
       "  (function(spec, embedOpt){\n",
       "    let outputDiv = document.currentScript.previousElementSibling;\n",
       "    if (outputDiv.id !== \"altair-viz-55ab21d6caac4482831840b3869a8e6c\") {\n",
       "      outputDiv = document.getElementById(\"altair-viz-55ab21d6caac4482831840b3869a8e6c\");\n",
       "    }\n",
       "    const paths = {\n",
       "      \"vega\": \"https://cdn.jsdelivr.net/npm//vega@5?noext\",\n",
       "      \"vega-lib\": \"https://cdn.jsdelivr.net/npm//vega-lib?noext\",\n",
       "      \"vega-lite\": \"https://cdn.jsdelivr.net/npm//vega-lite@4.8.1?noext\",\n",
       "      \"vega-embed\": \"https://cdn.jsdelivr.net/npm//vega-embed@6?noext\",\n",
       "    };\n",
       "\n",
       "    function loadScript(lib) {\n",
       "      return new Promise(function(resolve, reject) {\n",
       "        var s = document.createElement('script');\n",
       "        s.src = paths[lib];\n",
       "        s.async = true;\n",
       "        s.onload = () => resolve(paths[lib]);\n",
       "        s.onerror = () => reject(`Error loading script: ${paths[lib]}`);\n",
       "        document.getElementsByTagName(\"head\")[0].appendChild(s);\n",
       "      });\n",
       "    }\n",
       "\n",
       "    function showError(err) {\n",
       "      outputDiv.innerHTML = `<div class=\"error\" style=\"color:red;\">${err}</div>`;\n",
       "      throw err;\n",
       "    }\n",
       "\n",
       "    function displayChart(vegaEmbed) {\n",
       "      vegaEmbed(outputDiv, spec, embedOpt)\n",
       "        .catch(err => showError(`Javascript Error: ${err.message}<br>This usually means there's a typo in your chart specification. See the javascript console for the full traceback.`));\n",
       "    }\n",
       "\n",
       "    if(typeof define === \"function\" && define.amd) {\n",
       "      requirejs.config({paths});\n",
       "      require([\"vega-embed\"], displayChart, err => showError(`Error loading script: ${err.message}`));\n",
       "    } else if (typeof vegaEmbed === \"function\") {\n",
       "      displayChart(vegaEmbed);\n",
       "    } else {\n",
       "      loadScript(\"vega\")\n",
       "        .then(() => loadScript(\"vega-lite\"))\n",
       "        .then(() => loadScript(\"vega-embed\"))\n",
       "        .catch(showError)\n",
       "        .then(() => displayChart(vegaEmbed));\n",
       "    }\n",
       "  })({\"config\": {\"view\": {\"continuousWidth\": 400, \"continuousHeight\": 300}}, \"data\": {\"name\": \"data-69f320728ffad3d891cda54d51a5d877\"}, \"mark\": {\"type\": \"line\", \"point\": true}, \"encoding\": {\"color\": {\"type\": \"nominal\", \"field\": \"fonte_dados\", \"title\": \"Base dos Dados\"}, \"x\": {\"type\": \"temporal\", \"field\": \"data\", \"title\": \"Data\"}, \"y\": {\"type\": \"quantitative\", \"field\": \"aplic_por_dia\", \"title\": \"N\\u00ba de Vacinados\"}}, \"title\": \"M\\u00e9dia movel da quantidade de vacinados com Dose \\u00danica por Dia\", \"width\": 750, \"$schema\": \"https://vega.github.io/schema/vega-lite/v4.8.1.json\", \"datasets\": {\"data-69f320728ffad3d891cda54d51a5d877\": [{\"data\": \"2021-06-25\", \"fonte_dados\": \"Federal\", \"aplic_por_dia\": null}, {\"data\": \"2021-06-26\", \"fonte_dados\": \"Federal\", \"aplic_por_dia\": null}, {\"data\": \"2021-06-27\", \"fonte_dados\": \"Federal\", \"aplic_por_dia\": null}, {\"data\": \"2021-06-28\", \"fonte_dados\": \"Federal\", \"aplic_por_dia\": null}, {\"data\": \"2021-06-29\", \"fonte_dados\": \"Federal\", \"aplic_por_dia\": null}, {\"data\": \"2021-06-30\", \"fonte_dados\": \"Federal\", \"aplic_por_dia\": null}, {\"data\": \"2021-07-01\", \"fonte_dados\": \"Federal\", \"aplic_por_dia\": 367.0}, {\"data\": \"2021-07-04\", \"fonte_dados\": \"Federal\", \"aplic_por_dia\": 356.85714285714283}, {\"data\": \"2021-07-05\", \"fonte_dados\": \"Federal\", \"aplic_por_dia\": 588.7142857142857}, {\"data\": \"2021-07-06\", \"fonte_dados\": \"Federal\", \"aplic_por_dia\": 557.0}, {\"data\": \"2021-07-07\", \"fonte_dados\": \"Federal\", \"aplic_por_dia\": 503.7142857142857}, {\"data\": \"2021-07-09\", \"fonte_dados\": \"Federal\", \"aplic_por_dia\": 514.4285714285714}, {\"data\": \"2021-07-12\", \"fonte_dados\": \"Federal\", \"aplic_por_dia\": 516.4285714285714}, {\"data\": \"2021-07-13\", \"fonte_dados\": \"Federal\", \"aplic_por_dia\": 514.7142857142857}, {\"data\": \"2021-07-18\", \"fonte_dados\": \"Federal\", \"aplic_por_dia\": 334.57142857142856}, {\"data\": \"2021-08-07\", \"fonte_dados\": \"Federal\", \"aplic_por_dia\": 31.142857142857142}, {\"data\": \"2021-08-10\", \"fonte_dados\": \"Federal\", \"aplic_por_dia\": 31.142857142857142}, {\"data\": \"2021-08-11\", \"fonte_dados\": \"Federal\", \"aplic_por_dia\": 30.571428571428573}, {\"data\": \"2021-08-18\", \"fonte_dados\": \"Federal\", \"aplic_por_dia\": 18.571428571428573}, {\"data\": \"2021-08-19\", \"fonte_dados\": \"Federal\", \"aplic_por_dia\": 16.428571428571427}, {\"data\": \"2021-08-24\", \"fonte_dados\": \"Federal\", \"aplic_por_dia\": 15.0}, {\"data\": \"2021-08-26\", \"fonte_dados\": \"Federal\", \"aplic_por_dia\": 15.428571428571429}, {\"data\": \"2021-08-30\", \"fonte_dados\": \"Federal\", \"aplic_por_dia\": 2.7142857142857144}, {\"data\": \"2021-06-25\", \"fonte_dados\": \"Municipal\", \"aplic_por_dia\": null}, {\"data\": \"2021-06-26\", \"fonte_dados\": \"Municipal\", \"aplic_por_dia\": null}, {\"data\": \"2021-06-27\", \"fonte_dados\": \"Municipal\", \"aplic_por_dia\": null}, {\"data\": \"2021-06-28\", \"fonte_dados\": \"Municipal\", \"aplic_por_dia\": null}, {\"data\": \"2021-06-29\", \"fonte_dados\": \"Municipal\", \"aplic_por_dia\": null}, {\"data\": \"2021-06-30\", \"fonte_dados\": \"Municipal\", \"aplic_por_dia\": null}, {\"data\": \"2021-07-01\", \"fonte_dados\": \"Municipal\", \"aplic_por_dia\": null}, {\"data\": \"2021-07-04\", \"fonte_dados\": \"Municipal\", \"aplic_por_dia\": null}, {\"data\": \"2021-07-05\", \"fonte_dados\": \"Municipal\", \"aplic_por_dia\": null}, {\"data\": \"2021-07-06\", \"fonte_dados\": \"Municipal\", \"aplic_por_dia\": 892.1428571428571}, {\"data\": \"2021-07-07\", \"fonte_dados\": \"Municipal\", \"aplic_por_dia\": 881.2857142857143}, {\"data\": \"2021-07-09\", \"fonte_dados\": \"Municipal\", \"aplic_por_dia\": 505.7142857142857}, {\"data\": \"2021-07-12\", \"fonte_dados\": \"Municipal\", \"aplic_por_dia\": 0.7142857142857143}, {\"data\": \"2021-07-13\", \"fonte_dados\": \"Municipal\", \"aplic_por_dia\": 0.0}, {\"data\": \"2021-07-18\", \"fonte_dados\": \"Municipal\", \"aplic_por_dia\": 2.0}, {\"data\": \"2021-08-07\", \"fonte_dados\": \"Municipal\", \"aplic_por_dia\": 0.0}, {\"data\": \"2021-08-10\", \"fonte_dados\": \"Municipal\", \"aplic_por_dia\": 0.0}, {\"data\": \"2021-08-11\", \"fonte_dados\": \"Municipal\", \"aplic_por_dia\": 0.0}, {\"data\": \"2021-08-18\", \"fonte_dados\": \"Municipal\", \"aplic_por_dia\": 0.0}, {\"data\": \"2021-08-19\", \"fonte_dados\": \"Municipal\", \"aplic_por_dia\": 0.0}, {\"data\": \"2021-08-24\", \"fonte_dados\": \"Municipal\", \"aplic_por_dia\": 0.0}, {\"data\": \"2021-08-26\", \"fonte_dados\": \"Municipal\", \"aplic_por_dia\": 0.0}, {\"data\": \"2021-08-30\", \"fonte_dados\": \"Municipal\", \"aplic_por_dia\": 0.0}]}}, {\"mode\": \"vega-lite\"});\n",
       "</script>"
      ],
      "text/plain": [
       "alt.Chart(...)"
      ]
     },
     "execution_count": 554,
     "metadata": {},
     "output_type": "execute_result"
    }
   ],
   "source": [
    "alt.Chart(vacinadosDoseUnicaPorDiaMedMovel).mark_line(point=True).encode(\n",
    "    alt.X('data:T', title='Data'),\n",
    "    alt.Y('aplic_por_dia:Q', title='Nº de Vacinados'),\n",
    "    alt.Color('fonte_dados:N', title='Base dos Dados')\n",
    ").properties(\n",
    "    width=750,\n",
    "    title='Média movel da quantidade de vacinados com Dose Única por Dia'\n",
    ")"
   ]
  },
  {
   "cell_type": "markdown",
   "metadata": {},
   "source": [
    "### Total Aplicações da Dose Única"
   ]
  },
  {
   "cell_type": "code",
   "execution_count": 555,
   "metadata": {},
   "outputs": [],
   "source": [
    "df_totalDoseUnica = df_DoseUnicaPorDia['aplic_DoseUnicaPorDia'].sum()\n",
    "dm_totalDoseUnica = dm_DoseUnicaPorDia['aplic_DoseUnicaPorDia'].sum()"
   ]
  },
  {
   "cell_type": "code",
   "execution_count": 556,
   "metadata": {},
   "outputs": [],
   "source": [
    "totalDoseUnica = pd.DataFrame({\n",
    "    'base': ['Federal', 'Municipal'],\n",
    "    'total': [df_totalDoseUnica, dm_totalDoseUnica]\n",
    "})"
   ]
  },
  {
   "cell_type": "code",
   "execution_count": 557,
   "metadata": {},
   "outputs": [
    {
     "data": {
      "text/html": [
       "\n",
       "<div id=\"altair-viz-af760d75efec40e28a423b083b5d3bc6\"></div>\n",
       "<script type=\"text/javascript\">\n",
       "  (function(spec, embedOpt){\n",
       "    let outputDiv = document.currentScript.previousElementSibling;\n",
       "    if (outputDiv.id !== \"altair-viz-af760d75efec40e28a423b083b5d3bc6\") {\n",
       "      outputDiv = document.getElementById(\"altair-viz-af760d75efec40e28a423b083b5d3bc6\");\n",
       "    }\n",
       "    const paths = {\n",
       "      \"vega\": \"https://cdn.jsdelivr.net/npm//vega@5?noext\",\n",
       "      \"vega-lib\": \"https://cdn.jsdelivr.net/npm//vega-lib?noext\",\n",
       "      \"vega-lite\": \"https://cdn.jsdelivr.net/npm//vega-lite@4.8.1?noext\",\n",
       "      \"vega-embed\": \"https://cdn.jsdelivr.net/npm//vega-embed@6?noext\",\n",
       "    };\n",
       "\n",
       "    function loadScript(lib) {\n",
       "      return new Promise(function(resolve, reject) {\n",
       "        var s = document.createElement('script');\n",
       "        s.src = paths[lib];\n",
       "        s.async = true;\n",
       "        s.onload = () => resolve(paths[lib]);\n",
       "        s.onerror = () => reject(`Error loading script: ${paths[lib]}`);\n",
       "        document.getElementsByTagName(\"head\")[0].appendChild(s);\n",
       "      });\n",
       "    }\n",
       "\n",
       "    function showError(err) {\n",
       "      outputDiv.innerHTML = `<div class=\"error\" style=\"color:red;\">${err}</div>`;\n",
       "      throw err;\n",
       "    }\n",
       "\n",
       "    function displayChart(vegaEmbed) {\n",
       "      vegaEmbed(outputDiv, spec, embedOpt)\n",
       "        .catch(err => showError(`Javascript Error: ${err.message}<br>This usually means there's a typo in your chart specification. See the javascript console for the full traceback.`));\n",
       "    }\n",
       "\n",
       "    if(typeof define === \"function\" && define.amd) {\n",
       "      requirejs.config({paths});\n",
       "      require([\"vega-embed\"], displayChart, err => showError(`Error loading script: ${err.message}`));\n",
       "    } else if (typeof vegaEmbed === \"function\") {\n",
       "      displayChart(vegaEmbed);\n",
       "    } else {\n",
       "      loadScript(\"vega\")\n",
       "        .then(() => loadScript(\"vega-lite\"))\n",
       "        .then(() => loadScript(\"vega-embed\"))\n",
       "        .catch(showError)\n",
       "        .then(() => displayChart(vegaEmbed));\n",
       "    }\n",
       "  })({\"config\": {\"view\": {\"continuousWidth\": 400, \"continuousHeight\": 300}}, \"data\": {\"name\": \"data-29080236c041ebaf42e5c73f07181c5a\"}, \"mark\": {\"type\": \"bar\", \"size\": 30}, \"encoding\": {\"color\": {\"type\": \"nominal\", \"field\": \"base\", \"title\": \"Base\"}, \"x\": {\"type\": \"nominal\", \"field\": \"base\", \"title\": \"Base dos Dados\"}, \"y\": {\"type\": \"quantitative\", \"field\": \"total\", \"title\": \"N\\u00ba Total de Vacinados\"}}, \"title\": \"Total de aplica\\u00e7\\u00f5es da Dose \\u00danica\", \"width\": 150, \"$schema\": \"https://vega.github.io/schema/vega-lite/v4.8.1.json\", \"datasets\": {\"data-29080236c041ebaf42e5c73f07181c5a\": [{\"base\": \"Federal\", \"total\": 6285.0}, {\"base\": \"Municipal\", \"total\": 6245.0}]}}, {\"mode\": \"vega-lite\"});\n",
       "</script>"
      ],
      "text/plain": [
       "alt.Chart(...)"
      ]
     },
     "execution_count": 557,
     "metadata": {},
     "output_type": "execute_result"
    }
   ],
   "source": [
    "alt.Chart(totalDoseUnica).mark_bar(size=30).encode(\n",
    "    alt.X('base:N', title='Base dos Dados'),\n",
    "    alt.Y('total:Q', title='Nº Total de Vacinados'),\n",
    "    alt.Color('base:N', title='Base')\n",
    ").properties(\n",
    "    width=150,\n",
    "    title='Total de aplicações da Dose Única'\n",
    ")"
   ]
  },
  {
   "cell_type": "markdown",
   "metadata": {},
   "source": [
    "### Total aplicações da vacinas contra o covid-19."
   ]
  },
  {
   "cell_type": "code",
   "execution_count": 558,
   "metadata": {},
   "outputs": [],
   "source": [
    "df_totalAplic = df_total1Dose + df_total2Dose + df_totalDoseUnica\n",
    "dm_totalAplic = dm_total1Dose + dm_total2Dose + dm_totalDoseUnica"
   ]
  },
  {
   "cell_type": "code",
   "execution_count": 559,
   "metadata": {},
   "outputs": [],
   "source": [
    "vacinadosTotal = pd.DataFrame({\n",
    "    'base': ['Federal', 'Municipal'],\n",
    "    'total': [df_totalAplic, dm_totalAplic]\n",
    "})"
   ]
  },
  {
   "cell_type": "code",
   "execution_count": 560,
   "metadata": {},
   "outputs": [
    {
     "data": {
      "text/html": [
       "\n",
       "<div id=\"altair-viz-a3c93a2cb9a04629a81944afb6f22eec\"></div>\n",
       "<script type=\"text/javascript\">\n",
       "  (function(spec, embedOpt){\n",
       "    let outputDiv = document.currentScript.previousElementSibling;\n",
       "    if (outputDiv.id !== \"altair-viz-a3c93a2cb9a04629a81944afb6f22eec\") {\n",
       "      outputDiv = document.getElementById(\"altair-viz-a3c93a2cb9a04629a81944afb6f22eec\");\n",
       "    }\n",
       "    const paths = {\n",
       "      \"vega\": \"https://cdn.jsdelivr.net/npm//vega@5?noext\",\n",
       "      \"vega-lib\": \"https://cdn.jsdelivr.net/npm//vega-lib?noext\",\n",
       "      \"vega-lite\": \"https://cdn.jsdelivr.net/npm//vega-lite@4.8.1?noext\",\n",
       "      \"vega-embed\": \"https://cdn.jsdelivr.net/npm//vega-embed@6?noext\",\n",
       "    };\n",
       "\n",
       "    function loadScript(lib) {\n",
       "      return new Promise(function(resolve, reject) {\n",
       "        var s = document.createElement('script');\n",
       "        s.src = paths[lib];\n",
       "        s.async = true;\n",
       "        s.onload = () => resolve(paths[lib]);\n",
       "        s.onerror = () => reject(`Error loading script: ${paths[lib]}`);\n",
       "        document.getElementsByTagName(\"head\")[0].appendChild(s);\n",
       "      });\n",
       "    }\n",
       "\n",
       "    function showError(err) {\n",
       "      outputDiv.innerHTML = `<div class=\"error\" style=\"color:red;\">${err}</div>`;\n",
       "      throw err;\n",
       "    }\n",
       "\n",
       "    function displayChart(vegaEmbed) {\n",
       "      vegaEmbed(outputDiv, spec, embedOpt)\n",
       "        .catch(err => showError(`Javascript Error: ${err.message}<br>This usually means there's a typo in your chart specification. See the javascript console for the full traceback.`));\n",
       "    }\n",
       "\n",
       "    if(typeof define === \"function\" && define.amd) {\n",
       "      requirejs.config({paths});\n",
       "      require([\"vega-embed\"], displayChart, err => showError(`Error loading script: ${err.message}`));\n",
       "    } else if (typeof vegaEmbed === \"function\") {\n",
       "      displayChart(vegaEmbed);\n",
       "    } else {\n",
       "      loadScript(\"vega\")\n",
       "        .then(() => loadScript(\"vega-lite\"))\n",
       "        .then(() => loadScript(\"vega-embed\"))\n",
       "        .catch(showError)\n",
       "        .then(() => displayChart(vegaEmbed));\n",
       "    }\n",
       "  })({\"config\": {\"view\": {\"continuousWidth\": 400, \"continuousHeight\": 300}}, \"data\": {\"name\": \"data-fa4314c196a0ca90d4e90a4ba0c5c262\"}, \"mark\": {\"type\": \"bar\", \"size\": 30}, \"encoding\": {\"color\": {\"type\": \"nominal\", \"field\": \"base\", \"title\": \"Base\"}, \"x\": {\"type\": \"nominal\", \"field\": \"base\", \"title\": \"Base dos Dados\"}, \"y\": {\"type\": \"quantitative\", \"field\": \"total\", \"title\": \"N\\u00ba Total de Vacinados\"}}, \"title\": \"Total de Vacinas Aplicadas\", \"width\": 150, \"$schema\": \"https://vega.github.io/schema/vega-lite/v4.8.1.json\", \"datasets\": {\"data-fa4314c196a0ca90d4e90a4ba0c5c262\": [{\"base\": \"Federal\", \"total\": 221149.0}, {\"base\": \"Municipal\", \"total\": 236807.0}]}}, {\"mode\": \"vega-lite\"});\n",
       "</script>"
      ],
      "text/plain": [
       "alt.Chart(...)"
      ]
     },
     "execution_count": 560,
     "metadata": {},
     "output_type": "execute_result"
    }
   ],
   "source": [
    "alt.Chart(vacinadosTotal).mark_bar(size=30).encode(\n",
    "    alt.X('base:N', title='Base dos Dados'),\n",
    "    alt.Y('total:Q', title='Nº Total de Vacinados'),\n",
    "    alt.Color('base:N', title='Base')\n",
    ").properties(\n",
    "    width=150,\n",
    "    title='Total de Vacinas Aplicadas'\n",
    ")"
   ]
  }
 ],
 "metadata": {
  "interpreter": {
   "hash": "ac523b2dbf241262502338c4748dbe4206e583902f7cc2a831713042ba4f1b3b"
  },
  "kernelspec": {
   "display_name": "Python 3.9.5 64-bit",
   "name": "python3"
  },
  "language_info": {
   "codemirror_mode": {
    "name": "ipython",
    "version": 3
   },
   "file_extension": ".py",
   "mimetype": "text/x-python",
   "name": "python",
   "nbconvert_exporter": "python",
   "pygments_lexer": "ipython3",
   "version": "3.9.5"
  },
  "orig_nbformat": 4
 },
 "nbformat": 4,
 "nbformat_minor": 2
}
