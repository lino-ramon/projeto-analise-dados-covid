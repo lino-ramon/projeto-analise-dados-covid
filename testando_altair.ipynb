{
 "cells": [
  {
   "cell_type": "code",
   "execution_count": 15,
   "metadata": {},
   "outputs": [
    {
     "name": "stdout",
     "output_type": "stream",
     "text": [
      "... reading data\n"
     ]
    },
    {
     "name": "stderr",
     "output_type": "stream",
     "text": [
      "C:\\Users\\perei\\AppData\\Local\\Programs\\Python\\Python39\\lib\\site-packages\\IPython\\core\\interactiveshell.py:3441: FutureWarning: The error_bad_lines argument has been deprecated and will be removed in a future version.\n",
      "\n",
      "\n",
      "  exec(code_obj, self.user_global_ns, self.user_ns)\n"
     ]
    },
    {
     "name": "stdout",
     "output_type": "stream",
     "text": [
      "... reading completed\n",
      "... limiting range of federal data ...\n",
      "... limited completed\n",
      "... separate first aplication data\n",
      "... separate completed\n",
      "... sorting federal data\n",
      "... limiting range of municipal data\n",
      "... limited completed\n"
     ]
    },
    {
     "data": {
      "text/plain": [
       "0.0"
      ]
     },
     "execution_count": 15,
     "metadata": {},
     "output_type": "execute_result"
    }
   ],
   "source": [
    "import pandas as pd\n",
    "import numpy as np\n",
    "import altair as alt\n",
    "\n",
    "# Lendo os dados\n",
    "print(\"... reading data\")\n",
    "dados_municipais_campina = pd.read_csv(\"data\\\\dados_campina - dados_sem_vacinacao.csv\", encoding='utf-8', index_col='data')\n",
    "dados_federais_campina = pd.read_csv(\"data\\\\dados_vacinacao_campina.csv\", encoding='UTF-8', error_bad_lines=False)\n",
    "print(\"... reading completed\")\n",
    "\n",
    "# limitando o período dos dados federais - 01/06/2021 até 31/08/2021 \n",
    "print(\"... limiting range of federal data ...\")\n",
    "dados_federais_campina = dados_federais_campina.loc[dados_federais_campina['vacina_dataaplicacao'] >= '2021-06-01']\n",
    "dados_federais_campina = dados_federais_campina.loc[dados_federais_campina['vacina_dataaplicacao'] <= '2021-08-31']\n",
    "print(\"... limited completed\")\n",
    "\n",
    "# Separando os dados referente a primeira dose\n",
    "print(\"... separate first aplication data\")\n",
    "dados_federais_campina1Dose = dados_federais_campina.loc[dados_federais_campina['vacina_descricao_dose'] == '1ª Dose']\n",
    "dados_federais_campina1Dose = dados_federais_campina1Dose['vacina_dataaplicacao'].value_counts()\n",
    "print(\"... separate completed\")\n",
    "\n",
    "# Ordenando crescentemente os dados pelas datas\n",
    "print(\"... sorting federal data\")\n",
    "federais_vacina1Dose     = dados_federais_campina1Dose.sort_index()\n",
    "\n",
    "# Excluindo as informações que não estão nos dados municipais\n",
    "federais_vacina1Dose.pop('2021-07-02')\n",
    "\n",
    "# Localizando os dados municipais do período de 01/06/2021 até 31/08/2021 \n",
    "print(\"... limiting range of municipal data\")\n",
    "dados_municipais_campina = dados_municipais_campina.loc[dados_municipais_campina.index >= '2021-06-01']\n",
    "municipal_vacina1Dose     = dados_municipais_campina['vacinadosDose1Dia']\n",
    "print(\"... limited completed\")\n",
    "\n",
    "# Excluindo as informações que não estão nos dados federais\n",
    "municipal_vacina1Dose.pop('2021-08-22')"
   ]
  },
  {
   "cell_type": "code",
   "execution_count": 48,
   "metadata": {},
   "outputs": [],
   "source": [
    "vacinados1DosePorDia = pd.DataFrame({\n",
    "  'data': federais_vacina1Dose.keys().tolist(),\n",
    "  '1 Dose (DF)': federais_vacina1Dose.values.tolist(),\n",
    "  '1 Dose (DM)': municipal_vacina1Dose.values.tolist()\n",
    "})"
   ]
  },
  {
   "cell_type": "code",
   "execution_count": 49,
   "metadata": {},
   "outputs": [
    {
     "data": {
      "text/html": [
       "<div>\n",
       "<style scoped>\n",
       "    .dataframe tbody tr th:only-of-type {\n",
       "        vertical-align: middle;\n",
       "    }\n",
       "\n",
       "    .dataframe tbody tr th {\n",
       "        vertical-align: top;\n",
       "    }\n",
       "\n",
       "    .dataframe thead th {\n",
       "        text-align: right;\n",
       "    }\n",
       "</style>\n",
       "<table border=\"1\" class=\"dataframe\">\n",
       "  <thead>\n",
       "    <tr style=\"text-align: right;\">\n",
       "      <th></th>\n",
       "      <th>data</th>\n",
       "      <th>fonte_dados</th>\n",
       "      <th>aplic_por_dia</th>\n",
       "    </tr>\n",
       "  </thead>\n",
       "  <tbody>\n",
       "    <tr>\n",
       "      <th>0</th>\n",
       "      <td>2021-06-01</td>\n",
       "      <td>1 Dose (DF)</td>\n",
       "      <td>2379.0</td>\n",
       "    </tr>\n",
       "    <tr>\n",
       "      <th>1</th>\n",
       "      <td>2021-06-02</td>\n",
       "      <td>1 Dose (DF)</td>\n",
       "      <td>1775.0</td>\n",
       "    </tr>\n",
       "    <tr>\n",
       "      <th>2</th>\n",
       "      <td>2021-06-03</td>\n",
       "      <td>1 Dose (DF)</td>\n",
       "      <td>373.0</td>\n",
       "    </tr>\n",
       "    <tr>\n",
       "      <th>3</th>\n",
       "      <td>2021-06-04</td>\n",
       "      <td>1 Dose (DF)</td>\n",
       "      <td>2117.0</td>\n",
       "    </tr>\n",
       "    <tr>\n",
       "      <th>4</th>\n",
       "      <td>2021-06-05</td>\n",
       "      <td>1 Dose (DF)</td>\n",
       "      <td>1550.0</td>\n",
       "    </tr>\n",
       "    <tr>\n",
       "      <th>...</th>\n",
       "      <td>...</td>\n",
       "      <td>...</td>\n",
       "      <td>...</td>\n",
       "    </tr>\n",
       "    <tr>\n",
       "      <th>175</th>\n",
       "      <td>2021-08-27</td>\n",
       "      <td>1 Dose (DM)</td>\n",
       "      <td>5147.0</td>\n",
       "    </tr>\n",
       "    <tr>\n",
       "      <th>176</th>\n",
       "      <td>2021-08-28</td>\n",
       "      <td>1 Dose (DM)</td>\n",
       "      <td>0.0</td>\n",
       "    </tr>\n",
       "    <tr>\n",
       "      <th>177</th>\n",
       "      <td>2021-08-29</td>\n",
       "      <td>1 Dose (DM)</td>\n",
       "      <td>0.0</td>\n",
       "    </tr>\n",
       "    <tr>\n",
       "      <th>178</th>\n",
       "      <td>2021-08-30</td>\n",
       "      <td>1 Dose (DM)</td>\n",
       "      <td>0.0</td>\n",
       "    </tr>\n",
       "    <tr>\n",
       "      <th>179</th>\n",
       "      <td>2021-08-31</td>\n",
       "      <td>1 Dose (DM)</td>\n",
       "      <td>0.0</td>\n",
       "    </tr>\n",
       "  </tbody>\n",
       "</table>\n",
       "<p>180 rows × 3 columns</p>\n",
       "</div>"
      ],
      "text/plain": [
       "           data  fonte_dados  aplic_por_dia\n",
       "0    2021-06-01  1 Dose (DF)         2379.0\n",
       "1    2021-06-02  1 Dose (DF)         1775.0\n",
       "2    2021-06-03  1 Dose (DF)          373.0\n",
       "3    2021-06-04  1 Dose (DF)         2117.0\n",
       "4    2021-06-05  1 Dose (DF)         1550.0\n",
       "..          ...          ...            ...\n",
       "175  2021-08-27  1 Dose (DM)         5147.0\n",
       "176  2021-08-28  1 Dose (DM)            0.0\n",
       "177  2021-08-29  1 Dose (DM)            0.0\n",
       "178  2021-08-30  1 Dose (DM)            0.0\n",
       "179  2021-08-31  1 Dose (DM)            0.0\n",
       "\n",
       "[180 rows x 3 columns]"
      ]
     },
     "execution_count": 49,
     "metadata": {},
     "output_type": "execute_result"
    }
   ],
   "source": [
    "vac = vacinados1DosePorDia.melt(id_vars=['data'], value_vars=['1 Dose (DF)', '1 Dose (DM)'],\n",
    "var_name='fonte_dados', value_name='aplic_por_dia')\n",
    "vac"
   ]
  },
  {
   "cell_type": "code",
   "execution_count": 63,
   "metadata": {},
   "outputs": [
    {
     "data": {
      "text/html": [
       "\n",
       "<div id=\"altair-viz-eb6aac65262042d19dc0feb8bc48e363\"></div>\n",
       "<script type=\"text/javascript\">\n",
       "  (function(spec, embedOpt){\n",
       "    let outputDiv = document.currentScript.previousElementSibling;\n",
       "    if (outputDiv.id !== \"altair-viz-eb6aac65262042d19dc0feb8bc48e363\") {\n",
       "      outputDiv = document.getElementById(\"altair-viz-eb6aac65262042d19dc0feb8bc48e363\");\n",
       "    }\n",
       "    const paths = {\n",
       "      \"vega\": \"https://cdn.jsdelivr.net/npm//vega@5?noext\",\n",
       "      \"vega-lib\": \"https://cdn.jsdelivr.net/npm//vega-lib?noext\",\n",
       "      \"vega-lite\": \"https://cdn.jsdelivr.net/npm//vega-lite@4.8.1?noext\",\n",
       "      \"vega-embed\": \"https://cdn.jsdelivr.net/npm//vega-embed@6?noext\",\n",
       "    };\n",
       "\n",
       "    function loadScript(lib) {\n",
       "      return new Promise(function(resolve, reject) {\n",
       "        var s = document.createElement('script');\n",
       "        s.src = paths[lib];\n",
       "        s.async = true;\n",
       "        s.onload = () => resolve(paths[lib]);\n",
       "        s.onerror = () => reject(`Error loading script: ${paths[lib]}`);\n",
       "        document.getElementsByTagName(\"head\")[0].appendChild(s);\n",
       "      });\n",
       "    }\n",
       "\n",
       "    function showError(err) {\n",
       "      outputDiv.innerHTML = `<div class=\"error\" style=\"color:red;\">${err}</div>`;\n",
       "      throw err;\n",
       "    }\n",
       "\n",
       "    function displayChart(vegaEmbed) {\n",
       "      vegaEmbed(outputDiv, spec, embedOpt)\n",
       "        .catch(err => showError(`Javascript Error: ${err.message}<br>This usually means there's a typo in your chart specification. See the javascript console for the full traceback.`));\n",
       "    }\n",
       "\n",
       "    if(typeof define === \"function\" && define.amd) {\n",
       "      requirejs.config({paths});\n",
       "      require([\"vega-embed\"], displayChart, err => showError(`Error loading script: ${err.message}`));\n",
       "    } else if (typeof vegaEmbed === \"function\") {\n",
       "      displayChart(vegaEmbed);\n",
       "    } else {\n",
       "      loadScript(\"vega\")\n",
       "        .then(() => loadScript(\"vega-lite\"))\n",
       "        .then(() => loadScript(\"vega-embed\"))\n",
       "        .catch(showError)\n",
       "        .then(() => displayChart(vegaEmbed));\n",
       "    }\n",
       "  })({\"config\": {\"view\": {\"continuousWidth\": 400, \"continuousHeight\": 300}}, \"data\": {\"name\": \"data-26542ae793b6ba2d5df7ec5fd86f7f09\"}, \"mark\": \"line\", \"encoding\": {\"color\": {\"type\": \"nominal\", \"field\": \"fonte_dados\", \"title\": \"Base de Dados\"}, \"x\": {\"type\": \"temporal\", \"field\": \"data\", \"title\": \"Data\"}, \"y\": {\"type\": \"quantitative\", \"field\": \"aplic_por_dia\", \"title\": \"N\\u00ba de Vacinados com 1\\u00ba Dose por Dia\"}}, \"$schema\": \"https://vega.github.io/schema/vega-lite/v4.8.1.json\", \"datasets\": {\"data-26542ae793b6ba2d5df7ec5fd86f7f09\": [{\"data\": \"2021-06-01\", \"fonte_dados\": \"1 Dose (DF)\", \"aplic_por_dia\": 2379.0}, {\"data\": \"2021-06-02\", \"fonte_dados\": \"1 Dose (DF)\", \"aplic_por_dia\": 1775.0}, {\"data\": \"2021-06-03\", \"fonte_dados\": \"1 Dose (DF)\", \"aplic_por_dia\": 373.0}, {\"data\": \"2021-06-04\", \"fonte_dados\": \"1 Dose (DF)\", \"aplic_por_dia\": 2117.0}, {\"data\": \"2021-06-05\", \"fonte_dados\": \"1 Dose (DF)\", \"aplic_por_dia\": 1550.0}, {\"data\": \"2021-06-06\", \"fonte_dados\": \"1 Dose (DF)\", \"aplic_por_dia\": 275.0}, {\"data\": \"2021-06-07\", \"fonte_dados\": \"1 Dose (DF)\", \"aplic_por_dia\": 2995.0}, {\"data\": \"2021-06-08\", \"fonte_dados\": \"1 Dose (DF)\", \"aplic_por_dia\": 1949.0}, {\"data\": \"2021-06-09\", \"fonte_dados\": \"1 Dose (DF)\", \"aplic_por_dia\": 1059.0}, {\"data\": \"2021-06-10\", \"fonte_dados\": \"1 Dose (DF)\", \"aplic_por_dia\": 1867.0}, {\"data\": \"2021-06-11\", \"fonte_dados\": \"1 Dose (DF)\", \"aplic_por_dia\": 4523.0}, {\"data\": \"2021-06-12\", \"fonte_dados\": \"1 Dose (DF)\", \"aplic_por_dia\": 453.0}, {\"data\": \"2021-06-13\", \"fonte_dados\": \"1 Dose (DF)\", \"aplic_por_dia\": 965.0}, {\"data\": \"2021-06-14\", \"fonte_dados\": \"1 Dose (DF)\", \"aplic_por_dia\": 1680.0}, {\"data\": \"2021-06-15\", \"fonte_dados\": \"1 Dose (DF)\", \"aplic_por_dia\": 83.0}, {\"data\": \"2021-06-16\", \"fonte_dados\": \"1 Dose (DF)\", \"aplic_por_dia\": 61.0}, {\"data\": \"2021-06-17\", \"fonte_dados\": \"1 Dose (DF)\", \"aplic_por_dia\": 75.0}, {\"data\": \"2021-06-18\", \"fonte_dados\": \"1 Dose (DF)\", \"aplic_por_dia\": 7.0}, {\"data\": \"2021-06-19\", \"fonte_dados\": \"1 Dose (DF)\", \"aplic_por_dia\": 1807.0}, {\"data\": \"2021-06-20\", \"fonte_dados\": \"1 Dose (DF)\", \"aplic_por_dia\": 1126.0}, {\"data\": \"2021-06-21\", \"fonte_dados\": \"1 Dose (DF)\", \"aplic_por_dia\": 1693.0}, {\"data\": \"2021-06-22\", \"fonte_dados\": \"1 Dose (DF)\", \"aplic_por_dia\": 741.0}, {\"data\": \"2021-06-23\", \"fonte_dados\": \"1 Dose (DF)\", \"aplic_por_dia\": 79.0}, {\"data\": \"2021-06-24\", \"fonte_dados\": \"1 Dose (DF)\", \"aplic_por_dia\": 186.0}, {\"data\": \"2021-06-25\", \"fonte_dados\": \"1 Dose (DF)\", \"aplic_por_dia\": 5019.0}, {\"data\": \"2021-06-26\", \"fonte_dados\": \"1 Dose (DF)\", \"aplic_por_dia\": 2549.0}, {\"data\": \"2021-06-27\", \"fonte_dados\": \"1 Dose (DF)\", \"aplic_por_dia\": 1141.0}, {\"data\": \"2021-06-28\", \"fonte_dados\": \"1 Dose (DF)\", \"aplic_por_dia\": 1301.0}, {\"data\": \"2021-06-29\", \"fonte_dados\": \"1 Dose (DF)\", \"aplic_por_dia\": 159.0}, {\"data\": \"2021-06-30\", \"fonte_dados\": \"1 Dose (DF)\", \"aplic_por_dia\": 267.0}, {\"data\": \"2021-07-01\", \"fonte_dados\": \"1 Dose (DF)\", \"aplic_por_dia\": 3490.0}, {\"data\": \"2021-07-03\", \"fonte_dados\": \"1 Dose (DF)\", \"aplic_por_dia\": 1325.0}, {\"data\": \"2021-07-04\", \"fonte_dados\": \"1 Dose (DF)\", \"aplic_por_dia\": 2531.0}, {\"data\": \"2021-07-05\", \"fonte_dados\": \"1 Dose (DF)\", \"aplic_por_dia\": 4325.0}, {\"data\": \"2021-07-06\", \"fonte_dados\": \"1 Dose (DF)\", \"aplic_por_dia\": 715.0}, {\"data\": \"2021-07-07\", \"fonte_dados\": \"1 Dose (DF)\", \"aplic_por_dia\": 104.0}, {\"data\": \"2021-07-08\", \"fonte_dados\": \"1 Dose (DF)\", \"aplic_por_dia\": 129.0}, {\"data\": \"2021-07-09\", \"fonte_dados\": \"1 Dose (DF)\", \"aplic_por_dia\": 3000.0}, {\"data\": \"2021-07-10\", \"fonte_dados\": \"1 Dose (DF)\", \"aplic_por_dia\": 875.0}, {\"data\": \"2021-07-11\", \"fonte_dados\": \"1 Dose (DF)\", \"aplic_por_dia\": 1.0}, {\"data\": \"2021-07-12\", \"fonte_dados\": \"1 Dose (DF)\", \"aplic_por_dia\": 49.0}, {\"data\": \"2021-07-13\", \"fonte_dados\": \"1 Dose (DF)\", \"aplic_por_dia\": 83.0}, {\"data\": \"2021-07-14\", \"fonte_dados\": \"1 Dose (DF)\", \"aplic_por_dia\": 39.0}, {\"data\": \"2021-07-15\", \"fonte_dados\": \"1 Dose (DF)\", \"aplic_por_dia\": 28.0}, {\"data\": \"2021-07-16\", \"fonte_dados\": \"1 Dose (DF)\", \"aplic_por_dia\": 5592.0}, {\"data\": \"2021-07-17\", \"fonte_dados\": \"1 Dose (DF)\", \"aplic_por_dia\": 4879.0}, {\"data\": \"2021-07-18\", \"fonte_dados\": \"1 Dose (DF)\", \"aplic_por_dia\": 4907.0}, {\"data\": \"2021-07-19\", \"fonte_dados\": \"1 Dose (DF)\", \"aplic_por_dia\": 6158.0}, {\"data\": \"2021-07-20\", \"fonte_dados\": \"1 Dose (DF)\", \"aplic_por_dia\": 3900.0}, {\"data\": \"2021-07-21\", \"fonte_dados\": \"1 Dose (DF)\", \"aplic_por_dia\": 1511.0}, {\"data\": \"2021-07-22\", \"fonte_dados\": \"1 Dose (DF)\", \"aplic_por_dia\": 168.0}, {\"data\": \"2021-07-23\", \"fonte_dados\": \"1 Dose (DF)\", \"aplic_por_dia\": 61.0}, {\"data\": \"2021-07-24\", \"fonte_dados\": \"1 Dose (DF)\", \"aplic_por_dia\": 15.0}, {\"data\": \"2021-07-25\", \"fonte_dados\": \"1 Dose (DF)\", \"aplic_por_dia\": 2.0}, {\"data\": \"2021-07-26\", \"fonte_dados\": \"1 Dose (DF)\", \"aplic_por_dia\": 85.0}, {\"data\": \"2021-07-27\", \"fonte_dados\": \"1 Dose (DF)\", \"aplic_por_dia\": 73.0}, {\"data\": \"2021-07-28\", \"fonte_dados\": \"1 Dose (DF)\", \"aplic_por_dia\": 2284.0}, {\"data\": \"2021-07-29\", \"fonte_dados\": \"1 Dose (DF)\", \"aplic_por_dia\": 1426.0}, {\"data\": \"2021-07-30\", \"fonte_dados\": \"1 Dose (DF)\", \"aplic_por_dia\": 97.0}, {\"data\": \"2021-07-31\", \"fonte_dados\": \"1 Dose (DF)\", \"aplic_por_dia\": 16.0}, {\"data\": \"2021-08-01\", \"fonte_dados\": \"1 Dose (DF)\", \"aplic_por_dia\": 3510.0}, {\"data\": \"2021-08-02\", \"fonte_dados\": \"1 Dose (DF)\", \"aplic_por_dia\": 5194.0}, {\"data\": \"2021-08-03\", \"fonte_dados\": \"1 Dose (DF)\", \"aplic_por_dia\": 2604.0}, {\"data\": \"2021-08-04\", \"fonte_dados\": \"1 Dose (DF)\", \"aplic_por_dia\": 40.0}, {\"data\": \"2021-08-05\", \"fonte_dados\": \"1 Dose (DF)\", \"aplic_por_dia\": 43.0}, {\"data\": \"2021-08-06\", \"fonte_dados\": \"1 Dose (DF)\", \"aplic_por_dia\": 8046.0}, {\"data\": \"2021-08-07\", \"fonte_dados\": \"1 Dose (DF)\", \"aplic_por_dia\": 4699.0}, {\"data\": \"2021-08-08\", \"fonte_dados\": \"1 Dose (DF)\", \"aplic_por_dia\": 8.0}, {\"data\": \"2021-08-09\", \"fonte_dados\": \"1 Dose (DF)\", \"aplic_por_dia\": 96.0}, {\"data\": \"2021-08-10\", \"fonte_dados\": \"1 Dose (DF)\", \"aplic_por_dia\": 7580.0}, {\"data\": \"2021-08-11\", \"fonte_dados\": \"1 Dose (DF)\", \"aplic_por_dia\": 92.0}, {\"data\": \"2021-08-12\", \"fonte_dados\": \"1 Dose (DF)\", \"aplic_por_dia\": 2162.0}, {\"data\": \"2021-08-13\", \"fonte_dados\": \"1 Dose (DF)\", \"aplic_por_dia\": 42.0}, {\"data\": \"2021-08-14\", \"fonte_dados\": \"1 Dose (DF)\", \"aplic_por_dia\": 4415.0}, {\"data\": \"2021-08-15\", \"fonte_dados\": \"1 Dose (DF)\", \"aplic_por_dia\": 3235.0}, {\"data\": \"2021-08-16\", \"fonte_dados\": \"1 Dose (DF)\", \"aplic_por_dia\": 7719.0}, {\"data\": \"2021-08-17\", \"fonte_dados\": \"1 Dose (DF)\", \"aplic_por_dia\": 2161.0}, {\"data\": \"2021-08-18\", \"fonte_dados\": \"1 Dose (DF)\", \"aplic_por_dia\": 89.0}, {\"data\": \"2021-08-19\", \"fonte_dados\": \"1 Dose (DF)\", \"aplic_por_dia\": 23.0}, {\"data\": \"2021-08-20\", \"fonte_dados\": \"1 Dose (DF)\", \"aplic_por_dia\": 5855.0}, {\"data\": \"2021-08-21\", \"fonte_dados\": \"1 Dose (DF)\", \"aplic_por_dia\": 1207.0}, {\"data\": \"2021-08-23\", \"fonte_dados\": \"1 Dose (DF)\", \"aplic_por_dia\": 4573.0}, {\"data\": \"2021-08-24\", \"fonte_dados\": \"1 Dose (DF)\", \"aplic_por_dia\": 3325.0}, {\"data\": \"2021-08-25\", \"fonte_dados\": \"1 Dose (DF)\", \"aplic_por_dia\": 32.0}, {\"data\": \"2021-08-26\", \"fonte_dados\": \"1 Dose (DF)\", \"aplic_por_dia\": 85.0}, {\"data\": \"2021-08-27\", \"fonte_dados\": \"1 Dose (DF)\", \"aplic_por_dia\": 5460.0}, {\"data\": \"2021-08-28\", \"fonte_dados\": \"1 Dose (DF)\", \"aplic_por_dia\": 7.0}, {\"data\": \"2021-08-29\", \"fonte_dados\": \"1 Dose (DF)\", \"aplic_por_dia\": 5.0}, {\"data\": \"2021-08-30\", \"fonte_dados\": \"1 Dose (DF)\", \"aplic_por_dia\": 38.0}, {\"data\": \"2021-08-31\", \"fonte_dados\": \"1 Dose (DF)\", \"aplic_por_dia\": 33.0}, {\"data\": \"2021-06-01\", \"fonte_dados\": \"1 Dose (DM)\", \"aplic_por_dia\": 17.0}, {\"data\": \"2021-06-02\", \"fonte_dados\": \"1 Dose (DM)\", \"aplic_por_dia\": 1420.0}, {\"data\": \"2021-06-03\", \"fonte_dados\": \"1 Dose (DM)\", \"aplic_por_dia\": 279.0}, {\"data\": \"2021-06-04\", \"fonte_dados\": \"1 Dose (DM)\", \"aplic_por_dia\": 1555.0}, {\"data\": \"2021-06-05\", \"fonte_dados\": \"1 Dose (DM)\", \"aplic_por_dia\": 1352.0}, {\"data\": \"2021-06-06\", \"fonte_dados\": \"1 Dose (DM)\", \"aplic_por_dia\": 290.0}, {\"data\": \"2021-06-07\", \"fonte_dados\": \"1 Dose (DM)\", \"aplic_por_dia\": 0.0}, {\"data\": \"2021-06-08\", \"fonte_dados\": \"1 Dose (DM)\", \"aplic_por_dia\": 4966.0}, {\"data\": \"2021-06-09\", \"fonte_dados\": \"1 Dose (DM)\", \"aplic_por_dia\": 954.0}, {\"data\": \"2021-06-10\", \"fonte_dados\": \"1 Dose (DM)\", \"aplic_por_dia\": 2794.0}, {\"data\": \"2021-06-11\", \"fonte_dados\": \"1 Dose (DM)\", \"aplic_por_dia\": 3116.0}, {\"data\": \"2021-06-12\", \"fonte_dados\": \"1 Dose (DM)\", \"aplic_por_dia\": 491.0}, {\"data\": \"2021-06-13\", \"fonte_dados\": \"1 Dose (DM)\", \"aplic_por_dia\": 922.0}, {\"data\": \"2021-06-14\", \"fonte_dados\": \"1 Dose (DM)\", \"aplic_por_dia\": 1200.0}, {\"data\": \"2021-06-15\", \"fonte_dados\": \"1 Dose (DM)\", \"aplic_por_dia\": 66.0}, {\"data\": \"2021-06-16\", \"fonte_dados\": \"1 Dose (DM)\", \"aplic_por_dia\": 57.0}, {\"data\": \"2021-06-17\", \"fonte_dados\": \"1 Dose (DM)\", \"aplic_por_dia\": 5688.0}, {\"data\": \"2021-06-18\", \"fonte_dados\": \"1 Dose (DM)\", \"aplic_por_dia\": 0.0}, {\"data\": \"2021-06-19\", \"fonte_dados\": \"1 Dose (DM)\", \"aplic_por_dia\": 3338.0}, {\"data\": \"2021-06-20\", \"fonte_dados\": \"1 Dose (DM)\", \"aplic_por_dia\": 771.0}, {\"data\": \"2021-06-21\", \"fonte_dados\": \"1 Dose (DM)\", \"aplic_por_dia\": 216.0}, {\"data\": \"2021-06-22\", \"fonte_dados\": \"1 Dose (DM)\", \"aplic_por_dia\": 323.0}, {\"data\": \"2021-06-23\", \"fonte_dados\": \"1 Dose (DM)\", \"aplic_por_dia\": 0.0}, {\"data\": \"2021-06-24\", \"fonte_dados\": \"1 Dose (DM)\", \"aplic_por_dia\": 494.0}, {\"data\": \"2021-06-25\", \"fonte_dados\": \"1 Dose (DM)\", \"aplic_por_dia\": 669.0}, {\"data\": \"2021-06-26\", \"fonte_dados\": \"1 Dose (DM)\", \"aplic_por_dia\": 88.0}, {\"data\": \"2021-06-27\", \"fonte_dados\": \"1 Dose (DM)\", \"aplic_por_dia\": 23.0}, {\"data\": \"2021-06-28\", \"fonte_dados\": \"1 Dose (DM)\", \"aplic_por_dia\": 166.0}, {\"data\": \"2021-06-29\", \"fonte_dados\": \"1 Dose (DM)\", \"aplic_por_dia\": 0.0}, {\"data\": \"2021-06-30\", \"fonte_dados\": \"1 Dose (DM)\", \"aplic_por_dia\": 7095.0}, {\"data\": \"2021-07-01\", \"fonte_dados\": \"1 Dose (DM)\", \"aplic_por_dia\": 4398.0}, {\"data\": \"2021-07-03\", \"fonte_dados\": \"1 Dose (DM)\", \"aplic_por_dia\": 4381.0}, {\"data\": \"2021-07-04\", \"fonte_dados\": \"1 Dose (DM)\", \"aplic_por_dia\": 1241.0}, {\"data\": \"2021-07-05\", \"fonte_dados\": \"1 Dose (DM)\", \"aplic_por_dia\": 794.0}, {\"data\": \"2021-07-06\", \"fonte_dados\": \"1 Dose (DM)\", \"aplic_por_dia\": 11938.0}, {\"data\": \"2021-07-07\", \"fonte_dados\": \"1 Dose (DM)\", \"aplic_por_dia\": 0.0}, {\"data\": \"2021-07-08\", \"fonte_dados\": \"1 Dose (DM)\", \"aplic_por_dia\": 1379.0}, {\"data\": \"2021-07-09\", \"fonte_dados\": \"1 Dose (DM)\", \"aplic_por_dia\": 2978.0}, {\"data\": \"2021-07-10\", \"fonte_dados\": \"1 Dose (DM)\", \"aplic_por_dia\": 1300.0}, {\"data\": \"2021-07-11\", \"fonte_dados\": \"1 Dose (DM)\", \"aplic_por_dia\": 0.0}, {\"data\": \"2021-07-12\", \"fonte_dados\": \"1 Dose (DM)\", \"aplic_por_dia\": 23.0}, {\"data\": \"2021-07-13\", \"fonte_dados\": \"1 Dose (DM)\", \"aplic_por_dia\": 0.0}, {\"data\": \"2021-07-14\", \"fonte_dados\": \"1 Dose (DM)\", \"aplic_por_dia\": 35.0}, {\"data\": \"2021-07-15\", \"fonte_dados\": \"1 Dose (DM)\", \"aplic_por_dia\": 8.0}, {\"data\": \"2021-07-16\", \"fonte_dados\": \"1 Dose (DM)\", \"aplic_por_dia\": 2985.0}, {\"data\": \"2021-07-17\", \"fonte_dados\": \"1 Dose (DM)\", \"aplic_por_dia\": 12383.0}, {\"data\": \"2021-07-18\", \"fonte_dados\": \"1 Dose (DM)\", \"aplic_por_dia\": 8353.0}, {\"data\": \"2021-07-19\", \"fonte_dados\": \"1 Dose (DM)\", \"aplic_por_dia\": 3148.0}, {\"data\": \"2021-07-20\", \"fonte_dados\": \"1 Dose (DM)\", \"aplic_por_dia\": 3002.0}, {\"data\": \"2021-07-21\", \"fonte_dados\": \"1 Dose (DM)\", \"aplic_por_dia\": 998.0}, {\"data\": \"2021-07-22\", \"fonte_dados\": \"1 Dose (DM)\", \"aplic_por_dia\": 0.0}, {\"data\": \"2021-07-23\", \"fonte_dados\": \"1 Dose (DM)\", \"aplic_por_dia\": 0.0}, {\"data\": \"2021-07-24\", \"fonte_dados\": \"1 Dose (DM)\", \"aplic_por_dia\": 4.0}, {\"data\": \"2021-07-25\", \"fonte_dados\": \"1 Dose (DM)\", \"aplic_por_dia\": 0.0}, {\"data\": \"2021-07-26\", \"fonte_dados\": \"1 Dose (DM)\", \"aplic_por_dia\": 0.0}, {\"data\": \"2021-07-27\", \"fonte_dados\": \"1 Dose (DM)\", \"aplic_por_dia\": 0.0}, {\"data\": \"2021-07-28\", \"fonte_dados\": \"1 Dose (DM)\", \"aplic_por_dia\": 2851.0}, {\"data\": \"2021-07-29\", \"fonte_dados\": \"1 Dose (DM)\", \"aplic_por_dia\": 1866.0}, {\"data\": \"2021-07-30\", \"fonte_dados\": \"1 Dose (DM)\", \"aplic_por_dia\": 40.0}, {\"data\": \"2021-07-31\", \"fonte_dados\": \"1 Dose (DM)\", \"aplic_por_dia\": 0.0}, {\"data\": \"2021-08-01\", \"fonte_dados\": \"1 Dose (DM)\", \"aplic_por_dia\": 3499.0}, {\"data\": \"2021-08-02\", \"fonte_dados\": \"1 Dose (DM)\", \"aplic_por_dia\": 4971.0}, {\"data\": \"2021-08-03\", \"fonte_dados\": \"1 Dose (DM)\", \"aplic_por_dia\": 2620.0}, {\"data\": \"2021-08-04\", \"fonte_dados\": \"1 Dose (DM)\", \"aplic_por_dia\": 0.0}, {\"data\": \"2021-08-05\", \"fonte_dados\": \"1 Dose (DM)\", \"aplic_por_dia\": 0.0}, {\"data\": \"2021-08-06\", \"fonte_dados\": \"1 Dose (DM)\", \"aplic_por_dia\": 7660.0}, {\"data\": \"2021-08-07\", \"fonte_dados\": \"1 Dose (DM)\", \"aplic_por_dia\": 4697.0}, {\"data\": \"2021-08-08\", \"fonte_dados\": \"1 Dose (DM)\", \"aplic_por_dia\": 0.0}, {\"data\": \"2021-08-09\", \"fonte_dados\": \"1 Dose (DM)\", \"aplic_por_dia\": 0.0}, {\"data\": \"2021-08-10\", \"fonte_dados\": \"1 Dose (DM)\", \"aplic_por_dia\": 7225.0}, {\"data\": \"2021-08-11\", \"fonte_dados\": \"1 Dose (DM)\", \"aplic_por_dia\": 0.0}, {\"data\": \"2021-08-12\", \"fonte_dados\": \"1 Dose (DM)\", \"aplic_por_dia\": 2117.0}, {\"data\": \"2021-08-13\", \"fonte_dados\": \"1 Dose (DM)\", \"aplic_por_dia\": 0.0}, {\"data\": \"2021-08-14\", \"fonte_dados\": \"1 Dose (DM)\", \"aplic_por_dia\": 4222.0}, {\"data\": \"2021-08-15\", \"fonte_dados\": \"1 Dose (DM)\", \"aplic_por_dia\": 3225.0}, {\"data\": \"2021-08-16\", \"fonte_dados\": \"1 Dose (DM)\", \"aplic_por_dia\": 6787.0}, {\"data\": \"2021-08-17\", \"fonte_dados\": \"1 Dose (DM)\", \"aplic_por_dia\": 2131.0}, {\"data\": \"2021-08-18\", \"fonte_dados\": \"1 Dose (DM)\", \"aplic_por_dia\": 0.0}, {\"data\": \"2021-08-19\", \"fonte_dados\": \"1 Dose (DM)\", \"aplic_por_dia\": 0.0}, {\"data\": \"2021-08-20\", \"fonte_dados\": \"1 Dose (DM)\", \"aplic_por_dia\": 5538.0}, {\"data\": \"2021-08-21\", \"fonte_dados\": \"1 Dose (DM)\", \"aplic_por_dia\": 1189.0}, {\"data\": \"2021-08-23\", \"fonte_dados\": \"1 Dose (DM)\", \"aplic_por_dia\": 3822.0}, {\"data\": \"2021-08-24\", \"fonte_dados\": \"1 Dose (DM)\", \"aplic_por_dia\": 2967.0}, {\"data\": \"2021-08-25\", \"fonte_dados\": \"1 Dose (DM)\", \"aplic_por_dia\": 0.0}, {\"data\": \"2021-08-26\", \"fonte_dados\": \"1 Dose (DM)\", \"aplic_por_dia\": 0.0}, {\"data\": \"2021-08-27\", \"fonte_dados\": \"1 Dose (DM)\", \"aplic_por_dia\": 5147.0}, {\"data\": \"2021-08-28\", \"fonte_dados\": \"1 Dose (DM)\", \"aplic_por_dia\": 0.0}, {\"data\": \"2021-08-29\", \"fonte_dados\": \"1 Dose (DM)\", \"aplic_por_dia\": 0.0}, {\"data\": \"2021-08-30\", \"fonte_dados\": \"1 Dose (DM)\", \"aplic_por_dia\": 0.0}, {\"data\": \"2021-08-31\", \"fonte_dados\": \"1 Dose (DM)\", \"aplic_por_dia\": 0.0}]}}, {\"mode\": \"vega-lite\"});\n",
       "</script>"
      ],
      "text/plain": [
       "alt.Chart(...)"
      ]
     },
     "execution_count": 63,
     "metadata": {},
     "output_type": "execute_result"
    }
   ],
   "source": [
    "alt.Chart(vac).mark_line().encode(\n",
    "    alt.X('data:T', title='Data'),\n",
    "    alt.Y('aplic_por_dia:Q', title='Nº de Vacinados com 1º Dose por Dia'),\n",
    "    alt.Color('fonte_dados:N', title='Base de Dados')\n",
    ")"
   ]
  },
  {
   "cell_type": "code",
   "execution_count": null,
   "metadata": {},
   "outputs": [],
   "source": []
  }
 ],
 "metadata": {
  "interpreter": {
   "hash": "ac523b2dbf241262502338c4748dbe4206e583902f7cc2a831713042ba4f1b3b"
  },
  "kernelspec": {
   "display_name": "Python 3.9.5 64-bit",
   "name": "python3"
  },
  "language_info": {
   "codemirror_mode": {
    "name": "ipython",
    "version": 3
   },
   "file_extension": ".py",
   "mimetype": "text/x-python",
   "name": "python",
   "nbconvert_exporter": "python",
   "pygments_lexer": "ipython3",
   "version": "3.9.5"
  },
  "orig_nbformat": 4
 },
 "nbformat": 4,
 "nbformat_minor": 2
}
